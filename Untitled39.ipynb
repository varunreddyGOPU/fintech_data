{
 "cells": [
  {
   "cell_type": "code",
   "execution_count": 1,
   "id": "9b241607",
   "metadata": {},
   "outputs": [],
   "source": [
    "import time\n",
    "\n",
    "import pandas as pd\n",
    "import numpy as np\n",
    "\n",
    "import requests\n",
    "from bs4 import BeautifulSoup"
   ]
  },
  {
   "cell_type": "code",
   "execution_count": 6,
   "id": "4ee2c31b",
   "metadata": {},
   "outputs": [],
   "source": [
    "headers = {'User-Agent': 'Mozilla/5.0 (Windows NT 6.1; WOW64) AppleWebKit/537.36 (KHTML, like Gecko) Chrome/56.0.2924.76 Safari/537.36', \"Upgrade-Insecure-Requests\": \"1\",\"DNT\": \"1\",\"Accept\": \"text/html,application/xhtml+xml,application/xml;q=0.9,*/*;q=0.8\",\"Accept-Language\": \"en-US,en;q=0.5\",\"Accept-Encoding\": \"gzip, deflate\"}\n",
    "\n",
    "ph_code = {'dc':'+','fe':'(','hg':')','ba':'-',\n",
    "           'yz':'1','wx':'2','vu':'3','ts':'4','rq':'5','po':'6','nm':'7','lk':'8','ji':'9','acb':'0'}\n",
    "#give the url here"
   ]
  },
  {
   "cell_type": "markdown",
   "id": "48196b9c",
   "metadata": {},
   "source": [
    "## https://web.saveo.in/companies/Cipla%20Ltd"
   ]
  },
  {
   "cell_type": "code",
   "execution_count": 11,
   "id": "07ab59b8",
   "metadata": {},
   "outputs": [],
   "source": [
    "url= 'https://web.saveo.in/categories/generic'"
   ]
  },
  {
   "cell_type": "code",
   "execution_count": 12,
   "id": "b6324a79",
   "metadata": {},
   "outputs": [],
   "source": [
    "def getData(divs):\n",
    "    \n",
    "    table = []\n",
    "\n",
    "    for div in divs:\n",
    "\n",
    "        row = []\n",
    "\n",
    "        content = str(div)\n",
    "        \n",
    "        name = div.find('class','infinite-scroll-component__outerdiv').get_text()\n",
    "        #votes = div.find('span','lng_vote').get_text().replace('Votes','').strip()\n",
    "        \n",
    "#         rating = None\n",
    "#         if votes != '0':\n",
    "#             rating = div.find('span','green-box').get_text()\n",
    "        \n",
    "#         address = None\n",
    "#         address_div = div.find('span','cont_fl_addr')\n",
    "#         if address_div != None:\n",
    "#             address = address_div.get_text()\n",
    "\n",
    "#         numbers_all = div.find('p','contact-info ')\n",
    "#         number = None\n",
    "#         if numbers_all != None:\n",
    "#             numbers_all = numbers_all.findAll('span','mobilesv')\n",
    "#             number = ''\n",
    "#             for j in numbers_all:\n",
    "#                 number += ph_code[j['class'][1].replace('icon-','')]\n",
    "\n",
    "      #  verified = False\n",
    "        \n",
    "#         if 'jd_verified' in content:\n",
    "#             verified = True\n",
    "\n",
    "#         trusted = False\n",
    "#         if 'jd_trusted' in content:\n",
    "#             trusted = True\n",
    "\n",
    "        page_link = div.find('','store-name').find('a')['href']\n",
    "\n",
    "        row.extend([name,rating,votes,number,address,verified,trusted,page_link])\n",
    "        table.append(row)\n",
    "        \n",
    "    return table"
   ]
  },
  {
   "cell_type": "code",
   "execution_count": 13,
   "id": "982dbb64",
   "metadata": {},
   "outputs": [],
   "source": [
    "table = []\n",
    "i = 0\n",
    "\n",
    "while True:\n",
    "    i += 1\n",
    "    \n",
    "    response = requests.get(url+'/page-'+str(i),headers=headers)\n",
    "    page = BeautifulSoup(response.text, 'html.parser')\n",
    "    divs = page.findAll('li','cntanr')\n",
    "    \n",
    "    if len(divs) == 0:\n",
    "        break\n",
    "    \n",
    "    table.extend(getData(divs))\n",
    "    \n",
    "    if len(divs) < 10:\n",
    "        break"
   ]
  },
  {
   "cell_type": "code",
   "execution_count": 14,
   "id": "78352bb1",
   "metadata": {},
   "outputs": [
    {
     "data": {
      "text/html": [
       "<div>\n",
       "<style scoped>\n",
       "    .dataframe tbody tr th:only-of-type {\n",
       "        vertical-align: middle;\n",
       "    }\n",
       "\n",
       "    .dataframe tbody tr th {\n",
       "        vertical-align: top;\n",
       "    }\n",
       "\n",
       "    .dataframe thead th {\n",
       "        text-align: right;\n",
       "    }\n",
       "</style>\n",
       "<table border=\"1\" class=\"dataframe\">\n",
       "  <thead>\n",
       "    <tr style=\"text-align: right;\">\n",
       "      <th></th>\n",
       "      <th>Name</th>\n",
       "      <th>Rating</th>\n",
       "      <th>Votes</th>\n",
       "      <th>Phone</th>\n",
       "      <th>Address</th>\n",
       "      <th>Verified</th>\n",
       "      <th>Trusted</th>\n",
       "      <th>Url</th>\n",
       "    </tr>\n",
       "  </thead>\n",
       "  <tbody>\n",
       "  </tbody>\n",
       "</table>\n",
       "</div>"
      ],
      "text/plain": [
       "Empty DataFrame\n",
       "Columns: [Name, Rating, Votes, Phone, Address, Verified, Trusted, Url]\n",
       "Index: []"
      ]
     },
     "execution_count": 14,
     "metadata": {},
     "output_type": "execute_result"
    }
   ],
   "source": [
    "dfObj = pd.DataFrame(table, columns = ['Name','Rating','Votes','Phone','Address','Verified','Trusted','Url']) \n",
    "dfObj"
   ]
  },
  {
   "cell_type": "code",
   "execution_count": 2,
   "id": "f503b065",
   "metadata": {},
   "outputs": [],
   "source": [
    "# basic web scraping with python\n",
    "# Import libraries\n",
    "import requests\n",
    "import urllib.request\n",
    "import time\n",
    "from bs4 import BeautifulSoup\n",
    "\n",
    "# Set the URL you want to webscrape from\n",
    "url = 'https://web.saveo.in/categories/generic'\n",
    "\n",
    "# Connect to the URL\n",
    "response = requests.get(url)\n",
    "\n",
    "# Parse HTML and save to BeautifulSoup object¶\n",
    "soup = BeautifulSoup(response.text, \"html.parser\")\n",
    "\n",
    "# To download the whole data set, let's do a for loop through all a tags\n",
    "line_count = 1 #variable to track what line you are on\n",
    "for one_a_tag in soup.findAll('a'):  #'a' tags are for links\n",
    "    if line_count >= 36: #code for text files starts at line 36\n",
    "        link = one_a_tag['href']\n",
    "        download_url = 'https://web.saveo.in/categories/generic'+ link\n",
    "        urllib.request.urlretrieve(download_url,'./'+link[link.find('/turnstile_')+1:]) \n",
    "        time.sleep(1) #pause the code for a sec\n",
    "    #add 1 for next line\n",
    "    line_count +=1"
   ]
  },
  {
   "cell_type": "code",
   "execution_count": null,
   "id": "290c89b7",
   "metadata": {},
   "outputs": [],
   "source": []
  }
 ],
 "metadata": {
  "kernelspec": {
   "display_name": "Python 3 (ipykernel)",
   "language": "python",
   "name": "python3"
  },
  "language_info": {
   "codemirror_mode": {
    "name": "ipython",
    "version": 3
   },
   "file_extension": ".py",
   "mimetype": "text/x-python",
   "name": "python",
   "nbconvert_exporter": "python",
   "pygments_lexer": "ipython3",
   "version": "3.10.2"
  }
 },
 "nbformat": 4,
 "nbformat_minor": 5
}
