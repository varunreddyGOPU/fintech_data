{
 "cells": [
  {
   "cell_type": "code",
   "execution_count": 3,
   "id": "6c2b8144",
   "metadata": {},
   "outputs": [
    {
     "data": {
      "text/html": [
       "        <script type=\"text/javascript\">\n",
       "        window.PlotlyConfig = {MathJaxConfig: 'local'};\n",
       "        if (window.MathJax) {MathJax.Hub.Config({SVG: {font: \"STIX-Web\"}});}\n",
       "        if (typeof require !== 'undefined') {\n",
       "        require.undef(\"plotly\");\n",
       "        requirejs.config({\n",
       "            paths: {\n",
       "                'plotly': ['https://cdn.plot.ly/plotly-2.6.3.min']\n",
       "            }\n",
       "        });\n",
       "        require(['plotly'], function(Plotly) {\n",
       "            window._Plotly = Plotly;\n",
       "        });\n",
       "        }\n",
       "        </script>\n",
       "        "
      ]
     },
     "metadata": {},
     "output_type": "display_data"
    }
   ],
   "source": [
    "# importing libraries\n",
    "\n",
    "import pandas as pd  \n",
    "import numpy as np\n",
    "\n",
    "import matplotlib.pyplot as plt\n",
    "\n",
    "import plotly\n",
    "import plotly.graph_objs as go\n",
    "from plotly.offline import iplot\n",
    "\n",
    "import cufflinks as cf\n",
    "\n",
    "cf.go_offline()\n",
    "import warnings\n",
    "\n",
    "warnings.filterwarnings(\"ignore\")"
   ]
  },
  {
   "cell_type": "code",
   "execution_count": 4,
   "id": "6a5eda7b",
   "metadata": {},
   "outputs": [],
   "source": [
    "pd.set_option('display.max_columns', 200)\n",
    "pd.set_option('display.max_rows', 10000)\n",
    "pd.set_option('display.min_rows', 100)\n",
    "pd.set_option('display.expand_frame_repr', True)"
   ]
  },
  {
   "cell_type": "code",
   "execution_count": 5,
   "id": "64e8c00b",
   "metadata": {},
   "outputs": [
    {
     "name": "stdout",
     "output_type": "stream",
     "text": [
      "(3566, 82)\n"
     ]
    },
    {
     "data": {
      "text/html": [
       "<div>\n",
       "<style scoped>\n",
       "    .dataframe tbody tr th:only-of-type {\n",
       "        vertical-align: middle;\n",
       "    }\n",
       "\n",
       "    .dataframe tbody tr th {\n",
       "        vertical-align: top;\n",
       "    }\n",
       "\n",
       "    .dataframe thead th {\n",
       "        text-align: right;\n",
       "    }\n",
       "</style>\n",
       "<table border=\"1\" class=\"dataframe\">\n",
       "  <thead>\n",
       "    <tr style=\"text-align: right;\">\n",
       "      <th></th>\n",
       "      <th>id</th>\n",
       "      <th>user_status_id</th>\n",
       "      <th>user_membership_id</th>\n",
       "      <th>twl_membership_id</th>\n",
       "      <th>has_membership</th>\n",
       "      <th>accounts_manager_id</th>\n",
       "      <th>recovery_officer_id</th>\n",
       "      <th>oauth_provider</th>\n",
       "      <th>name</th>\n",
       "      <th>email</th>\n",
       "      <th>sec_email</th>\n",
       "      <th>gender</th>\n",
       "      <th>user_status</th>\n",
       "      <th>user_created_by</th>\n",
       "      <th>user_created_on</th>\n",
       "      <th>user_updated_by</th>\n",
       "      <th>user_updated_on</th>\n",
       "      <th>user_device_type</th>\n",
       "      <th>active</th>\n",
       "      <th>is_web</th>\n",
       "      <th>ureward_points</th>\n",
       "      <th>native_city_id</th>\n",
       "      <th>user_social_name</th>\n",
       "      <th>user_reapproved_on</th>\n",
       "      <th>aadhar_skip</th>\n",
       "      <th>city</th>\n",
       "      <th>age</th>\n",
       "      <th>dob</th>\n",
       "      <th>present_landmark</th>\n",
       "      <th>father_name</th>\n",
       "      <th>present_address1</th>\n",
       "      <th>present_address2</th>\n",
       "      <th>present_address3</th>\n",
       "      <th>premanent_address1</th>\n",
       "      <th>premanent_address2</th>\n",
       "      <th>premanent_address3</th>\n",
       "      <th>premanent_address_city</th>\n",
       "      <th>premanent_address_state</th>\n",
       "      <th>premanent_address_state_id</th>\n",
       "      <th>proinfo_type</th>\n",
       "      <th>proinfo_name</th>\n",
       "      <th>proinfo_department</th>\n",
       "      <th>proinfo_designation</th>\n",
       "      <th>proinfo_ctc</th>\n",
       "      <th>proinfo_monthly_sal</th>\n",
       "      <th>proinfo_m_ctc</th>\n",
       "      <th>proinfo_m_monthly_sal</th>\n",
       "      <th>proinfo_saldate</th>\n",
       "      <th>proinfo_industry</th>\n",
       "      <th>proinfo_website</th>\n",
       "      <th>proinfo_pincode</th>\n",
       "      <th>proinfo_city</th>\n",
       "      <th>proinfo_state</th>\n",
       "      <th>proinfo_address1</th>\n",
       "      <th>proinfo_natbusiness</th>\n",
       "      <th>proinfo_address2</th>\n",
       "      <th>proinfo_address2.1</th>\n",
       "      <th>proinfo_landmark</th>\n",
       "      <th>proinfo_phone</th>\n",
       "      <th>mode_of_pay</th>\n",
       "      <th>capbility_status</th>\n",
       "      <th>capbility_reasons</th>\n",
       "      <th>user_survey_collg_id</th>\n",
       "      <th>user_survey_grad_yr</th>\n",
       "      <th>user_survey_exp_mnths</th>\n",
       "      <th>user_survey_marital_status</th>\n",
       "      <th>user_survey_purpose_of_loan</th>\n",
       "      <th>customer_bank_name</th>\n",
       "      <th>customer_bank_branch</th>\n",
       "      <th>customer_bank_ifsc_code</th>\n",
       "      <th>customer_bank_account_name</th>\n",
       "      <th>sequence_id</th>\n",
       "      <th>status_id</th>\n",
       "      <th>tenure_type</th>\n",
       "      <th>emi_count</th>\n",
       "      <th>disbursal_amount</th>\n",
       "      <th>interest</th>\n",
       "      <th>service_charge</th>\n",
       "      <th>penalty</th>\n",
       "      <th>total</th>\n",
       "      <th>loan_amount</th>\n",
       "      <th>Led</th>\n",
       "    </tr>\n",
       "  </thead>\n",
       "  <tbody>\n",
       "    <tr>\n",
       "      <th>0</th>\n",
       "      <td>1000865</td>\n",
       "      <td>26</td>\n",
       "      <td>134</td>\n",
       "      <td>0</td>\n",
       "      <td>1</td>\n",
       "      <td>110</td>\n",
       "      <td>NaN</td>\n",
       "      <td>google</td>\n",
       "      <td>Saraswatulawaru Surendra</td>\n",
       "      <td>ssurendra8@gmail.com</td>\n",
       "      <td>ssurendra8@gmail.com</td>\n",
       "      <td>1.0</td>\n",
       "      <td>A</td>\n",
       "      <td>5</td>\n",
       "      <td>21-02-2021 19:10</td>\n",
       "      <td>1000865</td>\n",
       "      <td>17-12-2021 18:50</td>\n",
       "      <td>1</td>\n",
       "      <td>1</td>\n",
       "      <td>0</td>\n",
       "      <td>0</td>\n",
       "      <td>27</td>\n",
       "      <td>S Surendra</td>\n",
       "      <td>NaN</td>\n",
       "      <td>0</td>\n",
       "      <td>New Delhi</td>\n",
       "      <td>41</td>\n",
       "      <td>06-03-1981</td>\n",
       "      <td>ROHINI POOTH KALAN</td>\n",
       "      <td>SARASWATULAWARU GOPAL RAO</td>\n",
       "      <td>179 1ST FLOOR POCKET-9 SECTOR-21</td>\n",
       "      <td>ROHINI POOTH KALAN NORTH WEST DELHI</td>\n",
       "      <td>DELHI-110086</td>\n",
       "      <td>179 1ST FLOOR POCKET-9 SECTOR-21</td>\n",
       "      <td>ROHINI POOTH KALAN NORTH WEST DELHI</td>\n",
       "      <td>DELHI-110086</td>\n",
       "      <td>NaN</td>\n",
       "      <td>NaN</td>\n",
       "      <td>NaN</td>\n",
       "      <td>WFO</td>\n",
       "      <td>DELVELNSIGHT BUSINESS RESEARCH LLP</td>\n",
       "      <td>Operation</td>\n",
       "      <td>BUSINESS INTELLIGENCE MANAGER</td>\n",
       "      <td>9</td>\n",
       "      <td>78550</td>\n",
       "      <td>NaN</td>\n",
       "      <td>0.0</td>\n",
       "      <td>0</td>\n",
       "      <td>Software/IT/ITES/BPO</td>\n",
       "      <td>https://www.delveinsight.com/</td>\n",
       "      <td>110077</td>\n",
       "      <td>Gurgaon</td>\n",
       "      <td>Delhi</td>\n",
       "      <td>A20, near to Maxfort School, Sector 7 Dwarka, ...</td>\n",
       "      <td>NaN</td>\n",
       "      <td>Raj Nagar - ii,  South West delhi</td>\n",
       "      <td>Raj Nagar - ii,  South West delhi</td>\n",
       "      <td>Dwarka</td>\n",
       "      <td>1.111111e+09</td>\n",
       "      <td>Bank Transfer</td>\n",
       "      <td>1</td>\n",
       "      <td>NaN</td>\n",
       "      <td>75.0</td>\n",
       "      <td>8.0</td>\n",
       "      <td>6</td>\n",
       "      <td>1</td>\n",
       "      <td>0.0</td>\n",
       "      <td>HSBC</td>\n",
       "      <td>GURGAON</td>\n",
       "      <td>HSBC0110005</td>\n",
       "      <td>Saraswatulawaru Surendra</td>\n",
       "      <td>CNL01000198</td>\n",
       "      <td>20</td>\n",
       "      <td>1</td>\n",
       "      <td>1</td>\n",
       "      <td>5000</td>\n",
       "      <td>0</td>\n",
       "      <td>1000</td>\n",
       "      <td>1960</td>\n",
       "      <td>8550</td>\n",
       "      <td>5000</td>\n",
       "      <td>128</td>\n",
       "    </tr>\n",
       "    <tr>\n",
       "      <th>1</th>\n",
       "      <td>1001402</td>\n",
       "      <td>12</td>\n",
       "      <td>179</td>\n",
       "      <td>734</td>\n",
       "      <td>1</td>\n",
       "      <td>36</td>\n",
       "      <td>116.0</td>\n",
       "      <td>facebook</td>\n",
       "      <td>NISHANT JAIN</td>\n",
       "      <td>nishantjain19@rediffmail.com</td>\n",
       "      <td>nishantjain19@rediffmail.com</td>\n",
       "      <td>1.0</td>\n",
       "      <td>A</td>\n",
       "      <td>5</td>\n",
       "      <td>23-02-2021 14:20</td>\n",
       "      <td>21</td>\n",
       "      <td>13-06-2021 07:33</td>\n",
       "      <td>1</td>\n",
       "      <td>1</td>\n",
       "      <td>0</td>\n",
       "      <td>0</td>\n",
       "      <td>28</td>\n",
       "      <td>Nishant Jain</td>\n",
       "      <td>NaN</td>\n",
       "      <td>0</td>\n",
       "      <td>Noida</td>\n",
       "      <td>43</td>\n",
       "      <td>19-12-1979</td>\n",
       "      <td>GAUTAM BUDDHA NAGAR</td>\n",
       "      <td>NARENDRA KUMAR JAIN</td>\n",
       "      <td>E-65/A GROUND FLOOR F BLOCK MARKET</td>\n",
       "      <td>SECTOR 40 NOIDA SECTOR 30 GAUTAM BUDDHA NAGAR</td>\n",
       "      <td>UP-201303</td>\n",
       "      <td>E-65/A GROUND FLOOR F BLOCK MARKET</td>\n",
       "      <td>SECTOR 40 NOIDA SECTOR 30 GAUTAM BUDDHA NAGAR</td>\n",
       "      <td>UP-201303</td>\n",
       "      <td>NaN</td>\n",
       "      <td>NaN</td>\n",
       "      <td>NaN</td>\n",
       "      <td>WFO</td>\n",
       "      <td>Adani Brahma Synergy Pvt ltd</td>\n",
       "      <td>Finance</td>\n",
       "      <td>Deputy manager</td>\n",
       "      <td>14</td>\n",
       "      <td>116093</td>\n",
       "      <td>NaN</td>\n",
       "      <td>0.0</td>\n",
       "      <td>0</td>\n",
       "      <td>Construction,Real Estate and infrastructure</td>\n",
       "      <td>NaN</td>\n",
       "      <td>122102</td>\n",
       "      <td>Gurgaon</td>\n",
       "      <td>Haryana</td>\n",
       "      <td>Sector 60, Gurugram, Haryana</td>\n",
       "      <td>NaN</td>\n",
       "      <td>Rithoj,  Gurgaon</td>\n",
       "      <td>Rithoj,  Gurgaon</td>\n",
       "      <td>Rithoj</td>\n",
       "      <td>1.110000e+11</td>\n",
       "      <td>Bank Transfer</td>\n",
       "      <td>1</td>\n",
       "      <td>NaN</td>\n",
       "      <td>75.0</td>\n",
       "      <td>2.0</td>\n",
       "      <td>6</td>\n",
       "      <td>1</td>\n",
       "      <td>0.0</td>\n",
       "      <td>INDUSIND BANK</td>\n",
       "      <td>GURGAON, SECTOR 31</td>\n",
       "      <td>INDB0000518</td>\n",
       "      <td>Nishant Jain</td>\n",
       "      <td>CNL01000286</td>\n",
       "      <td>20</td>\n",
       "      <td>1</td>\n",
       "      <td>1</td>\n",
       "      <td>3000</td>\n",
       "      <td>0</td>\n",
       "      <td>480</td>\n",
       "      <td>1560</td>\n",
       "      <td>5394</td>\n",
       "      <td>3000</td>\n",
       "      <td>108</td>\n",
       "    </tr>\n",
       "    <tr>\n",
       "      <th>2</th>\n",
       "      <td>1001625</td>\n",
       "      <td>26</td>\n",
       "      <td>11</td>\n",
       "      <td>0</td>\n",
       "      <td>1</td>\n",
       "      <td>129</td>\n",
       "      <td>NaN</td>\n",
       "      <td>google</td>\n",
       "      <td>Liju Prasanth Nivas</td>\n",
       "      <td>pnliju@gmail.com</td>\n",
       "      <td>pnliju3@gmail.com</td>\n",
       "      <td>1.0</td>\n",
       "      <td>A</td>\n",
       "      <td>5</td>\n",
       "      <td>25-02-2021 05:55</td>\n",
       "      <td>1001625</td>\n",
       "      <td>25-09-2021 19:30</td>\n",
       "      <td>1</td>\n",
       "      <td>1</td>\n",
       "      <td>0</td>\n",
       "      <td>0</td>\n",
       "      <td>3</td>\n",
       "      <td>liju pn</td>\n",
       "      <td>NaN</td>\n",
       "      <td>0</td>\n",
       "      <td>Kochi</td>\n",
       "      <td>43</td>\n",
       "      <td>06-04-1979</td>\n",
       "      <td>NaN</td>\n",
       "      <td>P Damodaran</td>\n",
       "      <td>Prasanth nivas,chemancheri tiruvangoor,kerala ...</td>\n",
       "      <td>Thuvakkode, Kozhikode, Kerala</td>\n",
       "      <td>673304</td>\n",
       "      <td>Prasanth nivas,chemancheri tiruvangoor,kerala ...</td>\n",
       "      <td>Thuvakkode, Kozhikode, Kerala</td>\n",
       "      <td>673304</td>\n",
       "      <td>NaN</td>\n",
       "      <td>NaN</td>\n",
       "      <td>NaN</td>\n",
       "      <td>WFO</td>\n",
       "      <td>Larsen and toubro limited</td>\n",
       "      <td>TEG</td>\n",
       "      <td>Engineer</td>\n",
       "      <td>12</td>\n",
       "      <td>101228</td>\n",
       "      <td>NaN</td>\n",
       "      <td>0.0</td>\n",
       "      <td>0</td>\n",
       "      <td>Software/IT/ITES/BPO</td>\n",
       "      <td>https://www.larsentoubro.com/</td>\n",
       "      <td>682016</td>\n",
       "      <td>Kochi</td>\n",
       "      <td>Kerala</td>\n",
       "      <td>Skybright Building, Mahatma Gandhi Rd, opposit...</td>\n",
       "      <td>NaN</td>\n",
       "      <td>kerala</td>\n",
       "      <td>kerala</td>\n",
       "      <td>-</td>\n",
       "      <td>4.844409e+09</td>\n",
       "      <td>Bank Transfer</td>\n",
       "      <td>1</td>\n",
       "      <td>NaN</td>\n",
       "      <td>28.0</td>\n",
       "      <td>1.0</td>\n",
       "      <td>6</td>\n",
       "      <td>1</td>\n",
       "      <td>0.0</td>\n",
       "      <td>HDFC BANK</td>\n",
       "      <td>SARJAPUR ROAD</td>\n",
       "      <td>HDFC0000354</td>\n",
       "      <td>Liju P N</td>\n",
       "      <td>CNL01000319</td>\n",
       "      <td>20</td>\n",
       "      <td>1</td>\n",
       "      <td>1</td>\n",
       "      <td>4000</td>\n",
       "      <td>0</td>\n",
       "      <td>1120</td>\n",
       "      <td>3020</td>\n",
       "      <td>8612</td>\n",
       "      <td>4000</td>\n",
       "      <td>181</td>\n",
       "    </tr>\n",
       "    <tr>\n",
       "      <th>3</th>\n",
       "      <td>1001293</td>\n",
       "      <td>12</td>\n",
       "      <td>139</td>\n",
       "      <td>734</td>\n",
       "      <td>1</td>\n",
       "      <td>132</td>\n",
       "      <td>NaN</td>\n",
       "      <td>google</td>\n",
       "      <td>Syed Aleem RM</td>\n",
       "      <td>aleemsrm96@gmail.com</td>\n",
       "      <td>syed.aleem@jsw.in</td>\n",
       "      <td>1.0</td>\n",
       "      <td>A</td>\n",
       "      <td>5</td>\n",
       "      <td>23-02-2021 13:18</td>\n",
       "      <td>21</td>\n",
       "      <td>18-06-2022 07:29</td>\n",
       "      <td>1</td>\n",
       "      <td>1</td>\n",
       "      <td>0</td>\n",
       "      <td>160</td>\n",
       "      <td>132</td>\n",
       "      <td>Syed Aleem</td>\n",
       "      <td>NaN</td>\n",
       "      <td>0</td>\n",
       "      <td>Shivamogga</td>\n",
       "      <td>45</td>\n",
       "      <td>30-09-1977</td>\n",
       "      <td>shimoga</td>\n",
       "      <td>MAGDUM RAZZAK SYED</td>\n",
       "      <td>dood manzil 2nd cross pension</td>\n",
       "      <td>mohalla shimoga</td>\n",
       "      <td>karnataka-577201</td>\n",
       "      <td>dood manzil 2nd cross pension</td>\n",
       "      <td>mohalla shimoga</td>\n",
       "      <td>karnataka-577201</td>\n",
       "      <td>NaN</td>\n",
       "      <td>NaN</td>\n",
       "      <td>NaN</td>\n",
       "      <td>WFO</td>\n",
       "      <td>JSW STEEL LIMITED</td>\n",
       "      <td>coke oven</td>\n",
       "      <td>Dy manager</td>\n",
       "      <td>9</td>\n",
       "      <td>76101</td>\n",
       "      <td>NaN</td>\n",
       "      <td>0.0</td>\n",
       "      <td>0</td>\n",
       "      <td>Manufacturing</td>\n",
       "      <td>https://www.jsw.in/</td>\n",
       "      <td>583123</td>\n",
       "      <td>Sanduru</td>\n",
       "      <td>Karnataka</td>\n",
       "      <td>Sandur Taluk, Bellary District, Toranagallu, K...</td>\n",
       "      <td>NaN</td>\n",
       "      <td>Vaddu,  Bellary</td>\n",
       "      <td>Vaddu,  Bellary</td>\n",
       "      <td>Bellary</td>\n",
       "      <td>1.111111e+09</td>\n",
       "      <td>Bank Transfer</td>\n",
       "      <td>1</td>\n",
       "      <td>NaN</td>\n",
       "      <td>75.0</td>\n",
       "      <td>99.0</td>\n",
       "      <td>6</td>\n",
       "      <td>1</td>\n",
       "      <td>0.0</td>\n",
       "      <td>ICICI</td>\n",
       "      <td>TORANAGALLU</td>\n",
       "      <td>ICIC0001423</td>\n",
       "      <td>Syed Aleem Rm</td>\n",
       "      <td>CNL01000379</td>\n",
       "      <td>20</td>\n",
       "      <td>1</td>\n",
       "      <td>1</td>\n",
       "      <td>3000</td>\n",
       "      <td>0</td>\n",
       "      <td>360</td>\n",
       "      <td>620</td>\n",
       "      <td>4334</td>\n",
       "      <td>3000</td>\n",
       "      <td>61</td>\n",
       "    </tr>\n",
       "    <tr>\n",
       "      <th>4</th>\n",
       "      <td>1005235</td>\n",
       "      <td>12</td>\n",
       "      <td>124</td>\n",
       "      <td>729</td>\n",
       "      <td>1</td>\n",
       "      <td>120</td>\n",
       "      <td>116.0</td>\n",
       "      <td>google</td>\n",
       "      <td>P KRISHNA CHAITANYA</td>\n",
       "      <td>krishnachaitanyap13@gmail.com</td>\n",
       "      <td>p.chaitanya@wipro.com</td>\n",
       "      <td>1.0</td>\n",
       "      <td>A</td>\n",
       "      <td>5</td>\n",
       "      <td>03-03-2021 02:17</td>\n",
       "      <td>55</td>\n",
       "      <td>08-11-2021 14:20</td>\n",
       "      <td>1</td>\n",
       "      <td>1</td>\n",
       "      <td>0</td>\n",
       "      <td>0</td>\n",
       "      <td>11</td>\n",
       "      <td>Krishna Chaitanya P</td>\n",
       "      <td>NaN</td>\n",
       "      <td>0</td>\n",
       "      <td>Hyderabad</td>\n",
       "      <td>33</td>\n",
       "      <td>13-08-1989</td>\n",
       "      <td>NaN</td>\n",
       "      <td>P purna chandra rao</td>\n",
       "      <td>Flat no-601,plot no 433,4334,435,bhavana resid...</td>\n",
       "      <td>Kukatpally, Rangareddi, Telangana</td>\n",
       "      <td>500072</td>\n",
       "      <td>Flat no-601,plot no 433,4334,435,bhavana resid...</td>\n",
       "      <td>Kukatpally, Rangareddi, Telangana</td>\n",
       "      <td>500072</td>\n",
       "      <td>NaN</td>\n",
       "      <td>NaN</td>\n",
       "      <td>NaN</td>\n",
       "      <td>WFO</td>\n",
       "      <td>WIPRO LIMITED</td>\n",
       "      <td>software</td>\n",
       "      <td>associate consultant</td>\n",
       "      <td>9</td>\n",
       "      <td>74497</td>\n",
       "      <td>NaN</td>\n",
       "      <td>0.0</td>\n",
       "      <td>0</td>\n",
       "      <td>Software/IT/ITES/BPO</td>\n",
       "      <td>-</td>\n",
       "      <td>501301</td>\n",
       "      <td>Hyderabad</td>\n",
       "      <td>Telangana</td>\n",
       "      <td>Survey No.124 and Part of 132/P SEZ Gopanapall...</td>\n",
       "      <td>NaN</td>\n",
       "      <td>Yadgarpalli,  Hyderabad</td>\n",
       "      <td>Yadgarpalli,  Hyderabad</td>\n",
       "      <td>-</td>\n",
       "      <td>4.030970e+09</td>\n",
       "      <td>Bank Transfer</td>\n",
       "      <td>1</td>\n",
       "      <td>NaN</td>\n",
       "      <td>75.0</td>\n",
       "      <td>11.0</td>\n",
       "      <td>6</td>\n",
       "      <td>1</td>\n",
       "      <td>0.0</td>\n",
       "      <td>AXIS BANK</td>\n",
       "      <td>SHOLING ANALLUR</td>\n",
       "      <td>UTIB0003002</td>\n",
       "      <td>P Krishna Chaitanya</td>\n",
       "      <td>CNL01000555</td>\n",
       "      <td>21</td>\n",
       "      <td>1</td>\n",
       "      <td>1</td>\n",
       "      <td>2000</td>\n",
       "      <td>0</td>\n",
       "      <td>1360</td>\n",
       "      <td>9140</td>\n",
       "      <td>12795</td>\n",
       "      <td>2000</td>\n",
       "      <td>487</td>\n",
       "    </tr>\n",
       "  </tbody>\n",
       "</table>\n",
       "</div>"
      ],
      "text/plain": [
       "        id  user_status_id  user_membership_id  twl_membership_id  \\\n",
       "0  1000865              26                 134                  0   \n",
       "1  1001402              12                 179                734   \n",
       "2  1001625              26                  11                  0   \n",
       "3  1001293              12                 139                734   \n",
       "4  1005235              12                 124                729   \n",
       "\n",
       "   has_membership  accounts_manager_id  recovery_officer_id oauth_provider  \\\n",
       "0               1                  110                  NaN         google   \n",
       "1               1                   36                116.0       facebook   \n",
       "2               1                  129                  NaN         google   \n",
       "3               1                  132                  NaN         google   \n",
       "4               1                  120                116.0         google   \n",
       "\n",
       "                        name                          email  \\\n",
       "0  Saraswatulawaru Surendra            ssurendra8@gmail.com   \n",
       "1               NISHANT JAIN   nishantjain19@rediffmail.com   \n",
       "2        Liju Prasanth Nivas               pnliju@gmail.com   \n",
       "3              Syed Aleem RM           aleemsrm96@gmail.com   \n",
       "4       P KRISHNA CHAITANYA   krishnachaitanyap13@gmail.com   \n",
       "\n",
       "                      sec_email  gender user_status  user_created_by  \\\n",
       "0          ssurendra8@gmail.com     1.0           A                5   \n",
       "1  nishantjain19@rediffmail.com     1.0           A                5   \n",
       "2             pnliju3@gmail.com     1.0           A                5   \n",
       "3             syed.aleem@jsw.in     1.0           A                5   \n",
       "4         p.chaitanya@wipro.com     1.0           A                5   \n",
       "\n",
       "    user_created_on  user_updated_by   user_updated_on  user_device_type  \\\n",
       "0  21-02-2021 19:10          1000865  17-12-2021 18:50                 1   \n",
       "1  23-02-2021 14:20               21  13-06-2021 07:33                 1   \n",
       "2  25-02-2021 05:55          1001625  25-09-2021 19:30                 1   \n",
       "3  23-02-2021 13:18               21  18-06-2022 07:29                 1   \n",
       "4  03-03-2021 02:17               55  08-11-2021 14:20                 1   \n",
       "\n",
       "   active  is_web  ureward_points  native_city_id     user_social_name  \\\n",
       "0       1       0               0              27           S Surendra   \n",
       "1       1       0               0              28         Nishant Jain   \n",
       "2       1       0               0               3              liju pn   \n",
       "3       1       0             160             132           Syed Aleem   \n",
       "4       1       0               0              11  Krishna Chaitanya P   \n",
       "\n",
       "  user_reapproved_on  aadhar_skip        city  age         dob  \\\n",
       "0                NaN            0   New Delhi   41  06-03-1981   \n",
       "1                NaN            0       Noida   43  19-12-1979   \n",
       "2                NaN            0       Kochi   43  06-04-1979   \n",
       "3                NaN            0  Shivamogga   45  30-09-1977   \n",
       "4                NaN            0   Hyderabad   33  13-08-1989   \n",
       "\n",
       "       present_landmark                father_name  \\\n",
       "0   ROHINI POOTH KALAN   SARASWATULAWARU GOPAL RAO   \n",
       "1  GAUTAM BUDDHA NAGAR         NARENDRA KUMAR JAIN   \n",
       "2                   NaN                P Damodaran   \n",
       "3              shimoga          MAGDUM RAZZAK SYED   \n",
       "4                   NaN        P purna chandra rao   \n",
       "\n",
       "                                    present_address1  \\\n",
       "0                  179 1ST FLOOR POCKET-9 SECTOR-21    \n",
       "1                E-65/A GROUND FLOOR F BLOCK MARKET    \n",
       "2  Prasanth nivas,chemancheri tiruvangoor,kerala ...   \n",
       "3                      dood manzil 2nd cross pension   \n",
       "4  Flat no-601,plot no 433,4334,435,bhavana resid...   \n",
       "\n",
       "                                 present_address2  present_address3  \\\n",
       "0             ROHINI POOTH KALAN NORTH WEST DELHI      DELHI-110086   \n",
       "1  SECTOR 40 NOIDA SECTOR 30 GAUTAM BUDDHA NAGAR          UP-201303   \n",
       "2                   Thuvakkode, Kozhikode, Kerala            673304   \n",
       "3                                mohalla shimoga   karnataka-577201   \n",
       "4               Kukatpally, Rangareddi, Telangana            500072   \n",
       "\n",
       "                                  premanent_address1  \\\n",
       "0                  179 1ST FLOOR POCKET-9 SECTOR-21    \n",
       "1                E-65/A GROUND FLOOR F BLOCK MARKET    \n",
       "2  Prasanth nivas,chemancheri tiruvangoor,kerala ...   \n",
       "3                      dood manzil 2nd cross pension   \n",
       "4  Flat no-601,plot no 433,4334,435,bhavana resid...   \n",
       "\n",
       "                               premanent_address2 premanent_address3  \\\n",
       "0             ROHINI POOTH KALAN NORTH WEST DELHI       DELHI-110086   \n",
       "1  SECTOR 40 NOIDA SECTOR 30 GAUTAM BUDDHA NAGAR           UP-201303   \n",
       "2                   Thuvakkode, Kozhikode, Kerala             673304   \n",
       "3                                mohalla shimoga    karnataka-577201   \n",
       "4               Kukatpally, Rangareddi, Telangana             500072   \n",
       "\n",
       "  premanent_address_city premanent_address_state  premanent_address_state_id  \\\n",
       "0                    NaN                     NaN                         NaN   \n",
       "1                    NaN                     NaN                         NaN   \n",
       "2                    NaN                     NaN                         NaN   \n",
       "3                    NaN                     NaN                         NaN   \n",
       "4                    NaN                     NaN                         NaN   \n",
       "\n",
       "  proinfo_type                        proinfo_name proinfo_department  \\\n",
       "0          WFO  DELVELNSIGHT BUSINESS RESEARCH LLP         Operation    \n",
       "1          WFO        Adani Brahma Synergy Pvt ltd            Finance   \n",
       "2          WFO           Larsen and toubro limited                TEG   \n",
       "3          WFO                   JSW STEEL LIMITED         coke oven    \n",
       "4          WFO                       WIPRO LIMITED          software    \n",
       "\n",
       "             proinfo_designation  proinfo_ctc  proinfo_monthly_sal  \\\n",
       "0  BUSINESS INTELLIGENCE MANAGER            9                78550   \n",
       "1                 Deputy manager           14               116093   \n",
       "2                       Engineer           12               101228   \n",
       "3                     Dy manager            9                76101   \n",
       "4          associate consultant             9                74497   \n",
       "\n",
       "   proinfo_m_ctc  proinfo_m_monthly_sal  proinfo_saldate  \\\n",
       "0            NaN                    0.0                0   \n",
       "1            NaN                    0.0                0   \n",
       "2            NaN                    0.0                0   \n",
       "3            NaN                    0.0                0   \n",
       "4            NaN                    0.0                0   \n",
       "\n",
       "                              proinfo_industry                proinfo_website  \\\n",
       "0                         Software/IT/ITES/BPO  https://www.delveinsight.com/   \n",
       "1  Construction,Real Estate and infrastructure                            NaN   \n",
       "2                         Software/IT/ITES/BPO  https://www.larsentoubro.com/   \n",
       "3                                Manufacturing            https://www.jsw.in/   \n",
       "4                         Software/IT/ITES/BPO                              -   \n",
       "\n",
       "  proinfo_pincode proinfo_city proinfo_state  \\\n",
       "0          110077      Gurgaon         Delhi   \n",
       "1          122102      Gurgaon       Haryana   \n",
       "2          682016        Kochi        Kerala   \n",
       "3          583123      Sanduru     Karnataka   \n",
       "4          501301    Hyderabad     Telangana   \n",
       "\n",
       "                                    proinfo_address1  proinfo_natbusiness  \\\n",
       "0  A20, near to Maxfort School, Sector 7 Dwarka, ...                  NaN   \n",
       "1                      Sector 60, Gurugram, Haryana                   NaN   \n",
       "2  Skybright Building, Mahatma Gandhi Rd, opposit...                  NaN   \n",
       "3  Sandur Taluk, Bellary District, Toranagallu, K...                  NaN   \n",
       "4  Survey No.124 and Part of 132/P SEZ Gopanapall...                  NaN   \n",
       "\n",
       "                    proinfo_address2                 proinfo_address2.1  \\\n",
       "0  Raj Nagar - ii,  South West delhi  Raj Nagar - ii,  South West delhi   \n",
       "1                   Rithoj,  Gurgaon                   Rithoj,  Gurgaon   \n",
       "2                             kerala                             kerala   \n",
       "3                    Vaddu,  Bellary                    Vaddu,  Bellary   \n",
       "4            Yadgarpalli,  Hyderabad            Yadgarpalli,  Hyderabad   \n",
       "\n",
       "  proinfo_landmark  proinfo_phone    mode_of_pay  capbility_status  \\\n",
       "0           Dwarka   1.111111e+09  Bank Transfer                 1   \n",
       "1           Rithoj   1.110000e+11  Bank Transfer                 1   \n",
       "2                -   4.844409e+09  Bank Transfer                 1   \n",
       "3          Bellary   1.111111e+09  Bank Transfer                 1   \n",
       "4                -   4.030970e+09  Bank Transfer                 1   \n",
       "\n",
       "  capbility_reasons  user_survey_collg_id  user_survey_grad_yr  \\\n",
       "0               NaN                  75.0                  8.0   \n",
       "1               NaN                  75.0                  2.0   \n",
       "2               NaN                  28.0                  1.0   \n",
       "3               NaN                  75.0                 99.0   \n",
       "4               NaN                  75.0                 11.0   \n",
       "\n",
       "   user_survey_exp_mnths  user_survey_marital_status  \\\n",
       "0                      6                           1   \n",
       "1                      6                           1   \n",
       "2                      6                           1   \n",
       "3                      6                           1   \n",
       "4                      6                           1   \n",
       "\n",
       "   user_survey_purpose_of_loan customer_bank_name customer_bank_branch  \\\n",
       "0                          0.0               HSBC              GURGAON   \n",
       "1                          0.0      INDUSIND BANK   GURGAON, SECTOR 31   \n",
       "2                          0.0          HDFC BANK        SARJAPUR ROAD   \n",
       "3                          0.0              ICICI          TORANAGALLU   \n",
       "4                          0.0          AXIS BANK      SHOLING ANALLUR   \n",
       "\n",
       "  customer_bank_ifsc_code customer_bank_account_name  sequence_id  status_id  \\\n",
       "0             HSBC0110005   Saraswatulawaru Surendra  CNL01000198         20   \n",
       "1             INDB0000518               Nishant Jain  CNL01000286         20   \n",
       "2             HDFC0000354                   Liju P N  CNL01000319         20   \n",
       "3             ICIC0001423              Syed Aleem Rm  CNL01000379         20   \n",
       "4             UTIB0003002        P Krishna Chaitanya  CNL01000555         21   \n",
       "\n",
       "   tenure_type  emi_count  disbursal_amount  interest  service_charge  \\\n",
       "0            1          1              5000         0            1000   \n",
       "1            1          1              3000         0             480   \n",
       "2            1          1              4000         0            1120   \n",
       "3            1          1              3000         0             360   \n",
       "4            1          1              2000         0            1360   \n",
       "\n",
       "   penalty  total  loan_amount  Led  \n",
       "0     1960   8550         5000  128  \n",
       "1     1560   5394         3000  108  \n",
       "2     3020   8612         4000  181  \n",
       "3      620   4334         3000   61  \n",
       "4     9140  12795         2000  487  "
      ]
     },
     "execution_count": 5,
     "metadata": {},
     "output_type": "execute_result"
    }
   ],
   "source": [
    "d=pd.read_csv(\"Defaulters.csv\")\n",
    "print(d.shape)\n",
    "d.head()"
   ]
  },
  {
   "cell_type": "code",
   "execution_count": 6,
   "id": "fcdad774",
   "metadata": {},
   "outputs": [
    {
     "name": "stdout",
     "output_type": "stream",
     "text": [
      "<class 'pandas.core.frame.DataFrame'>\n",
      "RangeIndex: 3566 entries, 0 to 3565\n",
      "Data columns (total 82 columns):\n",
      " #   Column                       Non-Null Count  Dtype  \n",
      "---  ------                       --------------  -----  \n",
      " 0   id                           3566 non-null   int64  \n",
      " 1   user_status_id               3566 non-null   int64  \n",
      " 2   user_membership_id           3566 non-null   int64  \n",
      " 3   twl_membership_id            3566 non-null   int64  \n",
      " 4   has_membership               3566 non-null   int64  \n",
      " 5   accounts_manager_id          3566 non-null   int64  \n",
      " 6   recovery_officer_id          2878 non-null   float64\n",
      " 7   oauth_provider               3566 non-null   object \n",
      " 8   name                         3566 non-null   object \n",
      " 9   email                        3566 non-null   object \n",
      " 10  sec_email                    3566 non-null   object \n",
      " 11  gender                       3553 non-null   float64\n",
      " 12  user_status                  3566 non-null   object \n",
      " 13  user_created_by              3566 non-null   int64  \n",
      " 14  user_created_on              3566 non-null   object \n",
      " 15  user_updated_by              3566 non-null   int64  \n",
      " 16  user_updated_on              3566 non-null   object \n",
      " 17  user_device_type             3566 non-null   int64  \n",
      " 18  active                       3566 non-null   int64  \n",
      " 19  is_web                       3566 non-null   int64  \n",
      " 20  ureward_points               3566 non-null   int64  \n",
      " 21  native_city_id               3566 non-null   int64  \n",
      " 22  user_social_name             3565 non-null   object \n",
      " 23  user_reapproved_on           150 non-null    object \n",
      " 24  aadhar_skip                  3566 non-null   int64  \n",
      " 25  city                         3560 non-null   object \n",
      " 26  age                          3566 non-null   int64  \n",
      " 27  dob                          3566 non-null   object \n",
      " 28  present_landmark             1558 non-null   object \n",
      " 29  father_name                  3431 non-null   object \n",
      " 30  present_address1             3563 non-null   object \n",
      " 31  present_address2             3553 non-null   object \n",
      " 32  present_address3             3563 non-null   object \n",
      " 33  premanent_address1           3566 non-null   object \n",
      " 34  premanent_address2           3550 non-null   object \n",
      " 35  premanent_address3           3562 non-null   object \n",
      " 36  premanent_address_city       8 non-null      object \n",
      " 37  premanent_address_state      17 non-null     object \n",
      " 38  premanent_address_state_id   17 non-null     float64\n",
      " 39  proinfo_type                 3566 non-null   object \n",
      " 40  proinfo_name                 3566 non-null   object \n",
      " 41  proinfo_department           3566 non-null   object \n",
      " 42  proinfo_designation          3566 non-null   object \n",
      " 43  proinfo_ctc                  3566 non-null   int64  \n",
      " 44  proinfo_monthly_sal          3566 non-null   int64  \n",
      " 45  proinfo_m_ctc                4 non-null      float64\n",
      " 46  proinfo_m_monthly_sal        3564 non-null   float64\n",
      " 47  proinfo_saldate              3566 non-null   int64  \n",
      " 48  proinfo_industry             3565 non-null   object \n",
      " 49  proinfo_website              2585 non-null   object \n",
      " 50  proinfo_pincode              3563 non-null   object \n",
      " 51  proinfo_city                 3566 non-null   object \n",
      " 52  proinfo_state                3563 non-null   object \n",
      " 53  proinfo_address1             3563 non-null   object \n",
      " 54  proinfo_natbusiness          1 non-null      float64\n",
      " 55  proinfo_address2             3563 non-null   object \n",
      " 56  proinfo_address2.1           3563 non-null   object \n",
      " 57  proinfo_landmark             3563 non-null   object \n",
      " 58  proinfo_phone                3563 non-null   float64\n",
      " 59  mode_of_pay                  3325 non-null   object \n",
      " 60  capbility_status             3566 non-null   int64  \n",
      " 61  capbility_reasons            1142 non-null   object \n",
      " 62  user_survey_collg_id         3551 non-null   float64\n",
      " 63  user_survey_grad_yr          3551 non-null   float64\n",
      " 64  user_survey_exp_mnths        3566 non-null   int64  \n",
      " 65  user_survey_marital_status   3566 non-null   int64  \n",
      " 66  user_survey_purpose_of_loan  3306 non-null   float64\n",
      " 67  customer_bank_name           3565 non-null   object \n",
      " 68  customer_bank_branch         3566 non-null   object \n",
      " 69  customer_bank_ifsc_code      3566 non-null   object \n",
      " 70  customer_bank_account_name   3566 non-null   object \n",
      " 71  sequence_id                  3566 non-null   object \n",
      " 72  status_id                    3566 non-null   int64  \n",
      " 73  tenure_type                  3566 non-null   int64  \n",
      " 74  emi_count                    3566 non-null   int64  \n",
      " 75  disbursal_amount             3566 non-null   int64  \n",
      " 76  interest                     3566 non-null   int64  \n",
      " 77  service_charge               3566 non-null   int64  \n",
      " 78  penalty                      3566 non-null   int64  \n",
      " 79  total                        3566 non-null   int64  \n",
      " 80  loan_amount                  3566 non-null   int64  \n",
      " 81  Led                          3566 non-null   int64  \n",
      "dtypes: float64(10), int64(31), object(41)\n",
      "memory usage: 2.2+ MB\n"
     ]
    }
   ],
   "source": [
    "d.info()"
   ]
  },
  {
   "cell_type": "code",
   "execution_count": 7,
   "id": "c5760e27",
   "metadata": {},
   "outputs": [
    {
     "data": {
      "text/plain": [
       "Index(['id', 'user_status_id', 'user_membership_id', 'twl_membership_id',\n",
       "       'has_membership', 'accounts_manager_id', 'recovery_officer_id',\n",
       "       'oauth_provider', 'name', 'email', 'sec_email', 'gender', 'user_status',\n",
       "       'user_created_by', 'user_created_on', 'user_updated_by',\n",
       "       'user_updated_on', 'user_device_type', 'active', 'is_web',\n",
       "       'ureward_points', 'native_city_id', 'user_social_name',\n",
       "       'user_reapproved_on', 'aadhar_skip', 'city', 'age', 'dob',\n",
       "       'present_landmark', 'father_name', 'present_address1',\n",
       "       'present_address2', 'present_address3', 'premanent_address1',\n",
       "       'premanent_address2', 'premanent_address3', 'premanent_address_city',\n",
       "       'premanent_address_state', 'premanent_address_state_id', 'proinfo_type',\n",
       "       'proinfo_name', 'proinfo_department', 'proinfo_designation',\n",
       "       'proinfo_ctc', 'proinfo_monthly_sal', 'proinfo_m_ctc',\n",
       "       'proinfo_m_monthly_sal', 'proinfo_saldate', 'proinfo_industry',\n",
       "       'proinfo_website', 'proinfo_pincode', 'proinfo_city', 'proinfo_state',\n",
       "       'proinfo_address1', 'proinfo_natbusiness', 'proinfo_address2',\n",
       "       'proinfo_address2.1', 'proinfo_landmark', 'proinfo_phone',\n",
       "       'mode_of_pay', 'capbility_status', 'capbility_reasons',\n",
       "       'user_survey_collg_id', 'user_survey_grad_yr', 'user_survey_exp_mnths',\n",
       "       'user_survey_marital_status', 'user_survey_purpose_of_loan',\n",
       "       'customer_bank_name', 'customer_bank_branch', 'customer_bank_ifsc_code',\n",
       "       'customer_bank_account_name', 'sequence_id', 'status_id', 'tenure_type',\n",
       "       'emi_count', 'disbursal_amount', 'interest', 'service_charge',\n",
       "       'penalty', 'total', 'loan_amount', 'Led'],\n",
       "      dtype='object')"
      ]
     },
     "execution_count": 7,
     "metadata": {},
     "output_type": "execute_result"
    }
   ],
   "source": [
    "d.columns"
   ]
  },
  {
   "cell_type": "code",
   "execution_count": 7,
   "id": "8de42e66",
   "metadata": {
    "scrolled": true
   },
   "outputs": [
    {
     "data": {
      "text/html": [
       "<div>\n",
       "<style scoped>\n",
       "    .dataframe tbody tr th:only-of-type {\n",
       "        vertical-align: middle;\n",
       "    }\n",
       "\n",
       "    .dataframe tbody tr th {\n",
       "        vertical-align: top;\n",
       "    }\n",
       "\n",
       "    .dataframe thead th {\n",
       "        text-align: right;\n",
       "    }\n",
       "</style>\n",
       "<table border=\"1\" class=\"dataframe\">\n",
       "  <thead>\n",
       "    <tr style=\"text-align: right;\">\n",
       "      <th></th>\n",
       "      <th>count</th>\n",
       "      <th>unique</th>\n",
       "      <th>top</th>\n",
       "      <th>freq</th>\n",
       "      <th>mean</th>\n",
       "      <th>std</th>\n",
       "      <th>min</th>\n",
       "      <th>25%</th>\n",
       "      <th>50%</th>\n",
       "      <th>75%</th>\n",
       "      <th>max</th>\n",
       "    </tr>\n",
       "  </thead>\n",
       "  <tbody>\n",
       "    <tr>\n",
       "      <th>id</th>\n",
       "      <td>3566.0</td>\n",
       "      <td>NaN</td>\n",
       "      <td>NaN</td>\n",
       "      <td>NaN</td>\n",
       "      <td>1125159.948402</td>\n",
       "      <td>102916.353536</td>\n",
       "      <td>1000213.0</td>\n",
       "      <td>1031414.25</td>\n",
       "      <td>1101745.0</td>\n",
       "      <td>1210870.25</td>\n",
       "      <td>1363724.0</td>\n",
       "    </tr>\n",
       "    <tr>\n",
       "      <th>user_status_id</th>\n",
       "      <td>3566.0</td>\n",
       "      <td>NaN</td>\n",
       "      <td>NaN</td>\n",
       "      <td>NaN</td>\n",
       "      <td>14.167134</td>\n",
       "      <td>5.064642</td>\n",
       "      <td>12.0</td>\n",
       "      <td>12.0</td>\n",
       "      <td>12.0</td>\n",
       "      <td>12.0</td>\n",
       "      <td>26.0</td>\n",
       "    </tr>\n",
       "    <tr>\n",
       "      <th>user_membership_id</th>\n",
       "      <td>3566.0</td>\n",
       "      <td>NaN</td>\n",
       "      <td>NaN</td>\n",
       "      <td>NaN</td>\n",
       "      <td>308.391755</td>\n",
       "      <td>651.096282</td>\n",
       "      <td>1.0</td>\n",
       "      <td>16.0</td>\n",
       "      <td>84.0</td>\n",
       "      <td>114.0</td>\n",
       "      <td>2110.0</td>\n",
       "    </tr>\n",
       "    <tr>\n",
       "      <th>twl_membership_id</th>\n",
       "      <td>3566.0</td>\n",
       "      <td>NaN</td>\n",
       "      <td>NaN</td>\n",
       "      <td>NaN</td>\n",
       "      <td>356.399047</td>\n",
       "      <td>278.985254</td>\n",
       "      <td>0.0</td>\n",
       "      <td>15.0</td>\n",
       "      <td>424.0</td>\n",
       "      <td>594.0</td>\n",
       "      <td>734.0</td>\n",
       "    </tr>\n",
       "    <tr>\n",
       "      <th>has_membership</th>\n",
       "      <td>3566.0</td>\n",
       "      <td>NaN</td>\n",
       "      <td>NaN</td>\n",
       "      <td>NaN</td>\n",
       "      <td>1.0</td>\n",
       "      <td>0.0</td>\n",
       "      <td>1.0</td>\n",
       "      <td>1.0</td>\n",
       "      <td>1.0</td>\n",
       "      <td>1.0</td>\n",
       "      <td>1.0</td>\n",
       "    </tr>\n",
       "    <tr>\n",
       "      <th>accounts_manager_id</th>\n",
       "      <td>3566.0</td>\n",
       "      <td>NaN</td>\n",
       "      <td>NaN</td>\n",
       "      <td>NaN</td>\n",
       "      <td>111.525519</td>\n",
       "      <td>39.530517</td>\n",
       "      <td>22.0</td>\n",
       "      <td>110.0</td>\n",
       "      <td>129.0</td>\n",
       "      <td>133.0</td>\n",
       "      <td>143.0</td>\n",
       "    </tr>\n",
       "    <tr>\n",
       "      <th>recovery_officer_id</th>\n",
       "      <td>2878.0</td>\n",
       "      <td>NaN</td>\n",
       "      <td>NaN</td>\n",
       "      <td>NaN</td>\n",
       "      <td>122.244614</td>\n",
       "      <td>9.177313</td>\n",
       "      <td>106.0</td>\n",
       "      <td>116.0</td>\n",
       "      <td>118.0</td>\n",
       "      <td>134.0</td>\n",
       "      <td>140.0</td>\n",
       "    </tr>\n",
       "    <tr>\n",
       "      <th>oauth_provider</th>\n",
       "      <td>3566</td>\n",
       "      <td>5</td>\n",
       "      <td>google</td>\n",
       "      <td>2955</td>\n",
       "      <td>NaN</td>\n",
       "      <td>NaN</td>\n",
       "      <td>NaN</td>\n",
       "      <td>NaN</td>\n",
       "      <td>NaN</td>\n",
       "      <td>NaN</td>\n",
       "      <td>NaN</td>\n",
       "    </tr>\n",
       "    <tr>\n",
       "      <th>name</th>\n",
       "      <td>3566</td>\n",
       "      <td>2792</td>\n",
       "      <td>Deepak</td>\n",
       "      <td>5</td>\n",
       "      <td>NaN</td>\n",
       "      <td>NaN</td>\n",
       "      <td>NaN</td>\n",
       "      <td>NaN</td>\n",
       "      <td>NaN</td>\n",
       "      <td>NaN</td>\n",
       "      <td>NaN</td>\n",
       "    </tr>\n",
       "    <tr>\n",
       "      <th>email</th>\n",
       "      <td>3566</td>\n",
       "      <td>2825</td>\n",
       "      <td>abhinandan.daemon@gmail.com</td>\n",
       "      <td>4</td>\n",
       "      <td>NaN</td>\n",
       "      <td>NaN</td>\n",
       "      <td>NaN</td>\n",
       "      <td>NaN</td>\n",
       "      <td>NaN</td>\n",
       "      <td>NaN</td>\n",
       "      <td>NaN</td>\n",
       "    </tr>\n",
       "    <tr>\n",
       "      <th>sec_email</th>\n",
       "      <td>3566</td>\n",
       "      <td>2825</td>\n",
       "      <td>abhinandhan19@gmail.com</td>\n",
       "      <td>4</td>\n",
       "      <td>NaN</td>\n",
       "      <td>NaN</td>\n",
       "      <td>NaN</td>\n",
       "      <td>NaN</td>\n",
       "      <td>NaN</td>\n",
       "      <td>NaN</td>\n",
       "      <td>NaN</td>\n",
       "    </tr>\n",
       "    <tr>\n",
       "      <th>gender</th>\n",
       "      <td>3553.0</td>\n",
       "      <td>NaN</td>\n",
       "      <td>NaN</td>\n",
       "      <td>NaN</td>\n",
       "      <td>0.921193</td>\n",
       "      <td>0.269475</td>\n",
       "      <td>0.0</td>\n",
       "      <td>1.0</td>\n",
       "      <td>1.0</td>\n",
       "      <td>1.0</td>\n",
       "      <td>1.0</td>\n",
       "    </tr>\n",
       "    <tr>\n",
       "      <th>user_status</th>\n",
       "      <td>3566</td>\n",
       "      <td>2</td>\n",
       "      <td>A</td>\n",
       "      <td>3564</td>\n",
       "      <td>NaN</td>\n",
       "      <td>NaN</td>\n",
       "      <td>NaN</td>\n",
       "      <td>NaN</td>\n",
       "      <td>NaN</td>\n",
       "      <td>NaN</td>\n",
       "      <td>NaN</td>\n",
       "    </tr>\n",
       "    <tr>\n",
       "      <th>user_created_by</th>\n",
       "      <td>3566.0</td>\n",
       "      <td>NaN</td>\n",
       "      <td>NaN</td>\n",
       "      <td>NaN</td>\n",
       "      <td>5.0</td>\n",
       "      <td>0.0</td>\n",
       "      <td>5.0</td>\n",
       "      <td>5.0</td>\n",
       "      <td>5.0</td>\n",
       "      <td>5.0</td>\n",
       "      <td>5.0</td>\n",
       "    </tr>\n",
       "    <tr>\n",
       "      <th>user_created_on</th>\n",
       "      <td>3566</td>\n",
       "      <td>2771</td>\n",
       "      <td>01-03-2021 15:37</td>\n",
       "      <td>7</td>\n",
       "      <td>NaN</td>\n",
       "      <td>NaN</td>\n",
       "      <td>NaN</td>\n",
       "      <td>NaN</td>\n",
       "      <td>NaN</td>\n",
       "      <td>NaN</td>\n",
       "      <td>NaN</td>\n",
       "    </tr>\n",
       "    <tr>\n",
       "      <th>user_updated_by</th>\n",
       "      <td>3566.0</td>\n",
       "      <td>NaN</td>\n",
       "      <td>NaN</td>\n",
       "      <td>NaN</td>\n",
       "      <td>170883.372686</td>\n",
       "      <td>402099.097342</td>\n",
       "      <td>1.0</td>\n",
       "      <td>21.0</td>\n",
       "      <td>76.0</td>\n",
       "      <td>80.0</td>\n",
       "      <td>1341604.0</td>\n",
       "    </tr>\n",
       "    <tr>\n",
       "      <th>user_updated_on</th>\n",
       "      <td>3566</td>\n",
       "      <td>2814</td>\n",
       "      <td>29-04-2022 17:28</td>\n",
       "      <td>4</td>\n",
       "      <td>NaN</td>\n",
       "      <td>NaN</td>\n",
       "      <td>NaN</td>\n",
       "      <td>NaN</td>\n",
       "      <td>NaN</td>\n",
       "      <td>NaN</td>\n",
       "      <td>NaN</td>\n",
       "    </tr>\n",
       "    <tr>\n",
       "      <th>user_device_type</th>\n",
       "      <td>3566.0</td>\n",
       "      <td>NaN</td>\n",
       "      <td>NaN</td>\n",
       "      <td>NaN</td>\n",
       "      <td>1.049355</td>\n",
       "      <td>0.216639</td>\n",
       "      <td>1.0</td>\n",
       "      <td>1.0</td>\n",
       "      <td>1.0</td>\n",
       "      <td>1.0</td>\n",
       "      <td>2.0</td>\n",
       "    </tr>\n",
       "    <tr>\n",
       "      <th>active</th>\n",
       "      <td>3566.0</td>\n",
       "      <td>NaN</td>\n",
       "      <td>NaN</td>\n",
       "      <td>NaN</td>\n",
       "      <td>1.0</td>\n",
       "      <td>0.0</td>\n",
       "      <td>1.0</td>\n",
       "      <td>1.0</td>\n",
       "      <td>1.0</td>\n",
       "      <td>1.0</td>\n",
       "      <td>1.0</td>\n",
       "    </tr>\n",
       "    <tr>\n",
       "      <th>is_web</th>\n",
       "      <td>3566.0</td>\n",
       "      <td>NaN</td>\n",
       "      <td>NaN</td>\n",
       "      <td>NaN</td>\n",
       "      <td>0.074874</td>\n",
       "      <td>0.263225</td>\n",
       "      <td>0.0</td>\n",
       "      <td>0.0</td>\n",
       "      <td>0.0</td>\n",
       "      <td>0.0</td>\n",
       "      <td>1.0</td>\n",
       "    </tr>\n",
       "    <tr>\n",
       "      <th>ureward_points</th>\n",
       "      <td>3566.0</td>\n",
       "      <td>NaN</td>\n",
       "      <td>NaN</td>\n",
       "      <td>NaN</td>\n",
       "      <td>108.379136</td>\n",
       "      <td>149.367889</td>\n",
       "      <td>0.0</td>\n",
       "      <td>0.0</td>\n",
       "      <td>40.0</td>\n",
       "      <td>175.0</td>\n",
       "      <td>825.0</td>\n",
       "    </tr>\n",
       "    <tr>\n",
       "      <th>native_city_id</th>\n",
       "      <td>3566.0</td>\n",
       "      <td>NaN</td>\n",
       "      <td>NaN</td>\n",
       "      <td>NaN</td>\n",
       "      <td>54.159002</td>\n",
       "      <td>130.069612</td>\n",
       "      <td>0.0</td>\n",
       "      <td>3.0</td>\n",
       "      <td>11.0</td>\n",
       "      <td>31.0</td>\n",
       "      <td>1202.0</td>\n",
       "    </tr>\n",
       "    <tr>\n",
       "      <th>user_social_name</th>\n",
       "      <td>3565</td>\n",
       "      <td>2766</td>\n",
       "      <td>Arun Kumar</td>\n",
       "      <td>7</td>\n",
       "      <td>NaN</td>\n",
       "      <td>NaN</td>\n",
       "      <td>NaN</td>\n",
       "      <td>NaN</td>\n",
       "      <td>NaN</td>\n",
       "      <td>NaN</td>\n",
       "      <td>NaN</td>\n",
       "    </tr>\n",
       "    <tr>\n",
       "      <th>user_reapproved_on</th>\n",
       "      <td>150</td>\n",
       "      <td>91</td>\n",
       "      <td>16-10-2021 12:14</td>\n",
       "      <td>7</td>\n",
       "      <td>NaN</td>\n",
       "      <td>NaN</td>\n",
       "      <td>NaN</td>\n",
       "      <td>NaN</td>\n",
       "      <td>NaN</td>\n",
       "      <td>NaN</td>\n",
       "      <td>NaN</td>\n",
       "    </tr>\n",
       "    <tr>\n",
       "      <th>aadhar_skip</th>\n",
       "      <td>3566.0</td>\n",
       "      <td>NaN</td>\n",
       "      <td>NaN</td>\n",
       "      <td>NaN</td>\n",
       "      <td>0.001402</td>\n",
       "      <td>0.037424</td>\n",
       "      <td>0.0</td>\n",
       "      <td>0.0</td>\n",
       "      <td>0.0</td>\n",
       "      <td>0.0</td>\n",
       "      <td>1.0</td>\n",
       "    </tr>\n",
       "    <tr>\n",
       "      <th>city</th>\n",
       "      <td>3560</td>\n",
       "      <td>279</td>\n",
       "      <td>Bangalore</td>\n",
       "      <td>644</td>\n",
       "      <td>NaN</td>\n",
       "      <td>NaN</td>\n",
       "      <td>NaN</td>\n",
       "      <td>NaN</td>\n",
       "      <td>NaN</td>\n",
       "      <td>NaN</td>\n",
       "      <td>NaN</td>\n",
       "    </tr>\n",
       "    <tr>\n",
       "      <th>age</th>\n",
       "      <td>3566.0</td>\n",
       "      <td>NaN</td>\n",
       "      <td>NaN</td>\n",
       "      <td>NaN</td>\n",
       "      <td>33.85558</td>\n",
       "      <td>5.71837</td>\n",
       "      <td>21.0</td>\n",
       "      <td>30.0</td>\n",
       "      <td>33.0</td>\n",
       "      <td>37.0</td>\n",
       "      <td>59.0</td>\n",
       "    </tr>\n",
       "    <tr>\n",
       "      <th>dob</th>\n",
       "      <td>3566</td>\n",
       "      <td>2298</td>\n",
       "      <td>01-06-1990</td>\n",
       "      <td>8</td>\n",
       "      <td>NaN</td>\n",
       "      <td>NaN</td>\n",
       "      <td>NaN</td>\n",
       "      <td>NaN</td>\n",
       "      <td>NaN</td>\n",
       "      <td>NaN</td>\n",
       "      <td>NaN</td>\n",
       "    </tr>\n",
       "    <tr>\n",
       "      <th>present_landmark</th>\n",
       "      <td>1558</td>\n",
       "      <td>1184</td>\n",
       "      <td>MUMBAI</td>\n",
       "      <td>5</td>\n",
       "      <td>NaN</td>\n",
       "      <td>NaN</td>\n",
       "      <td>NaN</td>\n",
       "      <td>NaN</td>\n",
       "      <td>NaN</td>\n",
       "      <td>NaN</td>\n",
       "      <td>NaN</td>\n",
       "    </tr>\n",
       "    <tr>\n",
       "      <th>father_name</th>\n",
       "      <td>3431</td>\n",
       "      <td>2665</td>\n",
       "      <td>ASHOK KUMAR</td>\n",
       "      <td>6</td>\n",
       "      <td>NaN</td>\n",
       "      <td>NaN</td>\n",
       "      <td>NaN</td>\n",
       "      <td>NaN</td>\n",
       "      <td>NaN</td>\n",
       "      <td>NaN</td>\n",
       "      <td>NaN</td>\n",
       "    </tr>\n",
       "    <tr>\n",
       "      <th>present_address1</th>\n",
       "      <td>3563</td>\n",
       "      <td>2822</td>\n",
       "      <td>JANAI</td>\n",
       "      <td>4</td>\n",
       "      <td>NaN</td>\n",
       "      <td>NaN</td>\n",
       "      <td>NaN</td>\n",
       "      <td>NaN</td>\n",
       "      <td>NaN</td>\n",
       "      <td>NaN</td>\n",
       "      <td>NaN</td>\n",
       "    </tr>\n",
       "    <tr>\n",
       "      <th>present_address2</th>\n",
       "      <td>3553</td>\n",
       "      <td>2197</td>\n",
       "      <td>Uttam Nagar, West Delhi, Delhi</td>\n",
       "      <td>31</td>\n",
       "      <td>NaN</td>\n",
       "      <td>NaN</td>\n",
       "      <td>NaN</td>\n",
       "      <td>NaN</td>\n",
       "      <td>NaN</td>\n",
       "      <td>NaN</td>\n",
       "      <td>NaN</td>\n",
       "    </tr>\n",
       "    <tr>\n",
       "      <th>present_address3</th>\n",
       "      <td>3563</td>\n",
       "      <td>1929</td>\n",
       "      <td>110059</td>\n",
       "      <td>38</td>\n",
       "      <td>NaN</td>\n",
       "      <td>NaN</td>\n",
       "      <td>NaN</td>\n",
       "      <td>NaN</td>\n",
       "      <td>NaN</td>\n",
       "      <td>NaN</td>\n",
       "      <td>NaN</td>\n",
       "    </tr>\n",
       "    <tr>\n",
       "      <th>premanent_address1</th>\n",
       "      <td>3566</td>\n",
       "      <td>2825</td>\n",
       "      <td>NO 352 3RD C MAIN 7TH A CROSS HEALTH LAYOUT</td>\n",
       "      <td>4</td>\n",
       "      <td>NaN</td>\n",
       "      <td>NaN</td>\n",
       "      <td>NaN</td>\n",
       "      <td>NaN</td>\n",
       "      <td>NaN</td>\n",
       "      <td>NaN</td>\n",
       "      <td>NaN</td>\n",
       "    </tr>\n",
       "    <tr>\n",
       "      <th>premanent_address2</th>\n",
       "      <td>3550</td>\n",
       "      <td>2267</td>\n",
       "      <td>Uttam Nagar, West Delhi, Delhi</td>\n",
       "      <td>29</td>\n",
       "      <td>NaN</td>\n",
       "      <td>NaN</td>\n",
       "      <td>NaN</td>\n",
       "      <td>NaN</td>\n",
       "      <td>NaN</td>\n",
       "      <td>NaN</td>\n",
       "      <td>NaN</td>\n",
       "    </tr>\n",
       "    <tr>\n",
       "      <th>premanent_address3</th>\n",
       "      <td>3562</td>\n",
       "      <td>2043</td>\n",
       "      <td>110059</td>\n",
       "      <td>36</td>\n",
       "      <td>NaN</td>\n",
       "      <td>NaN</td>\n",
       "      <td>NaN</td>\n",
       "      <td>NaN</td>\n",
       "      <td>NaN</td>\n",
       "      <td>NaN</td>\n",
       "      <td>NaN</td>\n",
       "    </tr>\n",
       "    <tr>\n",
       "      <th>premanent_address_city</th>\n",
       "      <td>8</td>\n",
       "      <td>8</td>\n",
       "      <td>Tirumalagiri</td>\n",
       "      <td>1</td>\n",
       "      <td>NaN</td>\n",
       "      <td>NaN</td>\n",
       "      <td>NaN</td>\n",
       "      <td>NaN</td>\n",
       "      <td>NaN</td>\n",
       "      <td>NaN</td>\n",
       "      <td>NaN</td>\n",
       "    </tr>\n",
       "    <tr>\n",
       "      <th>premanent_address_state</th>\n",
       "      <td>17</td>\n",
       "      <td>9</td>\n",
       "      <td>Andhra Pradesh</td>\n",
       "      <td>3</td>\n",
       "      <td>NaN</td>\n",
       "      <td>NaN</td>\n",
       "      <td>NaN</td>\n",
       "      <td>NaN</td>\n",
       "      <td>NaN</td>\n",
       "      <td>NaN</td>\n",
       "      <td>NaN</td>\n",
       "    </tr>\n",
       "    <tr>\n",
       "      <th>premanent_address_state_id</th>\n",
       "      <td>17.0</td>\n",
       "      <td>NaN</td>\n",
       "      <td>NaN</td>\n",
       "      <td>NaN</td>\n",
       "      <td>27.058824</td>\n",
       "      <td>7.411736</td>\n",
       "      <td>6.0</td>\n",
       "      <td>24.0</td>\n",
       "      <td>28.0</td>\n",
       "      <td>33.0</td>\n",
       "      <td>36.0</td>\n",
       "    </tr>\n",
       "    <tr>\n",
       "      <th>proinfo_type</th>\n",
       "      <td>3566</td>\n",
       "      <td>5</td>\n",
       "      <td>WFO</td>\n",
       "      <td>1853</td>\n",
       "      <td>NaN</td>\n",
       "      <td>NaN</td>\n",
       "      <td>NaN</td>\n",
       "      <td>NaN</td>\n",
       "      <td>NaN</td>\n",
       "      <td>NaN</td>\n",
       "      <td>NaN</td>\n",
       "    </tr>\n",
       "    <tr>\n",
       "      <th>proinfo_name</th>\n",
       "      <td>3566</td>\n",
       "      <td>2021</td>\n",
       "      <td>ACCENTURE SOLUTIONS PRIVATE LIMITED</td>\n",
       "      <td>86</td>\n",
       "      <td>NaN</td>\n",
       "      <td>NaN</td>\n",
       "      <td>NaN</td>\n",
       "      <td>NaN</td>\n",
       "      <td>NaN</td>\n",
       "      <td>NaN</td>\n",
       "      <td>NaN</td>\n",
       "    </tr>\n",
       "    <tr>\n",
       "      <th>proinfo_department</th>\n",
       "      <td>3566</td>\n",
       "      <td>1325</td>\n",
       "      <td>IT</td>\n",
       "      <td>304</td>\n",
       "      <td>NaN</td>\n",
       "      <td>NaN</td>\n",
       "      <td>NaN</td>\n",
       "      <td>NaN</td>\n",
       "      <td>NaN</td>\n",
       "      <td>NaN</td>\n",
       "      <td>NaN</td>\n",
       "    </tr>\n",
       "    <tr>\n",
       "      <th>proinfo_designation</th>\n",
       "      <td>3566</td>\n",
       "      <td>1674</td>\n",
       "      <td>Manager</td>\n",
       "      <td>109</td>\n",
       "      <td>NaN</td>\n",
       "      <td>NaN</td>\n",
       "      <td>NaN</td>\n",
       "      <td>NaN</td>\n",
       "      <td>NaN</td>\n",
       "      <td>NaN</td>\n",
       "      <td>NaN</td>\n",
       "    </tr>\n",
       "    <tr>\n",
       "      <th>proinfo_ctc</th>\n",
       "      <td>3566.0</td>\n",
       "      <td>NaN</td>\n",
       "      <td>NaN</td>\n",
       "      <td>NaN</td>\n",
       "      <td>6.633763</td>\n",
       "      <td>3.678896</td>\n",
       "      <td>2.0</td>\n",
       "      <td>4.0</td>\n",
       "      <td>6.0</td>\n",
       "      <td>8.0</td>\n",
       "      <td>96.0</td>\n",
       "    </tr>\n",
       "    <tr>\n",
       "      <th>proinfo_monthly_sal</th>\n",
       "      <td>3566.0</td>\n",
       "      <td>NaN</td>\n",
       "      <td>NaN</td>\n",
       "      <td>NaN</td>\n",
       "      <td>55271.606562</td>\n",
       "      <td>30616.567172</td>\n",
       "      <td>20812.0</td>\n",
       "      <td>37053.25</td>\n",
       "      <td>46667.0</td>\n",
       "      <td>63826.25</td>\n",
       "      <td>800000.0</td>\n",
       "    </tr>\n",
       "    <tr>\n",
       "      <th>proinfo_m_ctc</th>\n",
       "      <td>4.0</td>\n",
       "      <td>NaN</td>\n",
       "      <td>NaN</td>\n",
       "      <td>NaN</td>\n",
       "      <td>7.25</td>\n",
       "      <td>3.593976</td>\n",
       "      <td>4.0</td>\n",
       "      <td>4.75</td>\n",
       "      <td>6.5</td>\n",
       "      <td>9.0</td>\n",
       "      <td>12.0</td>\n",
       "    </tr>\n",
       "    <tr>\n",
       "      <th>proinfo_m_monthly_sal</th>\n",
       "      <td>3564.0</td>\n",
       "      <td>NaN</td>\n",
       "      <td>NaN</td>\n",
       "      <td>NaN</td>\n",
       "      <td>67.340067</td>\n",
       "      <td>2192.903001</td>\n",
       "      <td>0.0</td>\n",
       "      <td>0.0</td>\n",
       "      <td>0.0</td>\n",
       "      <td>0.0</td>\n",
       "      <td>100000.0</td>\n",
       "    </tr>\n",
       "    <tr>\n",
       "      <th>proinfo_saldate</th>\n",
       "      <td>3566.0</td>\n",
       "      <td>NaN</td>\n",
       "      <td>NaN</td>\n",
       "      <td>NaN</td>\n",
       "      <td>2.386708</td>\n",
       "      <td>3.797014</td>\n",
       "      <td>0.0</td>\n",
       "      <td>0.0</td>\n",
       "      <td>0.0</td>\n",
       "      <td>5.0</td>\n",
       "      <td>9.0</td>\n",
       "    </tr>\n",
       "    <tr>\n",
       "      <th>proinfo_industry</th>\n",
       "      <td>3565</td>\n",
       "      <td>15</td>\n",
       "      <td>Software/IT/ITES/BPO</td>\n",
       "      <td>1668</td>\n",
       "      <td>NaN</td>\n",
       "      <td>NaN</td>\n",
       "      <td>NaN</td>\n",
       "      <td>NaN</td>\n",
       "      <td>NaN</td>\n",
       "      <td>NaN</td>\n",
       "      <td>NaN</td>\n",
       "    </tr>\n",
       "    <tr>\n",
       "      <th>proinfo_website</th>\n",
       "      <td>2585</td>\n",
       "      <td>1441</td>\n",
       "      <td>-</td>\n",
       "      <td>124</td>\n",
       "      <td>NaN</td>\n",
       "      <td>NaN</td>\n",
       "      <td>NaN</td>\n",
       "      <td>NaN</td>\n",
       "      <td>NaN</td>\n",
       "      <td>NaN</td>\n",
       "      <td>NaN</td>\n",
       "    </tr>\n",
       "    <tr>\n",
       "      <th>proinfo_pincode</th>\n",
       "      <td>3563</td>\n",
       "      <td>740</td>\n",
       "      <td>500081</td>\n",
       "      <td>167</td>\n",
       "      <td>NaN</td>\n",
       "      <td>NaN</td>\n",
       "      <td>NaN</td>\n",
       "      <td>NaN</td>\n",
       "      <td>NaN</td>\n",
       "      <td>NaN</td>\n",
       "      <td>NaN</td>\n",
       "    </tr>\n",
       "    <tr>\n",
       "      <th>proinfo_city</th>\n",
       "      <td>3566</td>\n",
       "      <td>166</td>\n",
       "      <td>Bangalore</td>\n",
       "      <td>850</td>\n",
       "      <td>NaN</td>\n",
       "      <td>NaN</td>\n",
       "      <td>NaN</td>\n",
       "      <td>NaN</td>\n",
       "      <td>NaN</td>\n",
       "      <td>NaN</td>\n",
       "      <td>NaN</td>\n",
       "    </tr>\n",
       "    <tr>\n",
       "      <th>proinfo_state</th>\n",
       "      <td>3563</td>\n",
       "      <td>97</td>\n",
       "      <td>Karnataka</td>\n",
       "      <td>782</td>\n",
       "      <td>NaN</td>\n",
       "      <td>NaN</td>\n",
       "      <td>NaN</td>\n",
       "      <td>NaN</td>\n",
       "      <td>NaN</td>\n",
       "      <td>NaN</td>\n",
       "      <td>NaN</td>\n",
       "    </tr>\n",
       "    <tr>\n",
       "      <th>proinfo_address1</th>\n",
       "      <td>3563</td>\n",
       "      <td>2580</td>\n",
       "      <td>001, Village Road, Kundalahalli, Brookefield, ...</td>\n",
       "      <td>16</td>\n",
       "      <td>NaN</td>\n",
       "      <td>NaN</td>\n",
       "      <td>NaN</td>\n",
       "      <td>NaN</td>\n",
       "      <td>NaN</td>\n",
       "      <td>NaN</td>\n",
       "      <td>NaN</td>\n",
       "    </tr>\n",
       "    <tr>\n",
       "      <th>proinfo_natbusiness</th>\n",
       "      <td>1.0</td>\n",
       "      <td>NaN</td>\n",
       "      <td>NaN</td>\n",
       "      <td>NaN</td>\n",
       "      <td>8.0</td>\n",
       "      <td>NaN</td>\n",
       "      <td>8.0</td>\n",
       "      <td>8.0</td>\n",
       "      <td>8.0</td>\n",
       "      <td>8.0</td>\n",
       "      <td>8.0</td>\n",
       "    </tr>\n",
       "    <tr>\n",
       "      <th>proinfo_address2</th>\n",
       "      <td>3563</td>\n",
       "      <td>1038</td>\n",
       "      <td>Madhapur,  Hyderabad</td>\n",
       "      <td>152</td>\n",
       "      <td>NaN</td>\n",
       "      <td>NaN</td>\n",
       "      <td>NaN</td>\n",
       "      <td>NaN</td>\n",
       "      <td>NaN</td>\n",
       "      <td>NaN</td>\n",
       "      <td>NaN</td>\n",
       "    </tr>\n",
       "    <tr>\n",
       "      <th>proinfo_address2.1</th>\n",
       "      <td>3563</td>\n",
       "      <td>1038</td>\n",
       "      <td>Madhapur,  Hyderabad</td>\n",
       "      <td>152</td>\n",
       "      <td>NaN</td>\n",
       "      <td>NaN</td>\n",
       "      <td>NaN</td>\n",
       "      <td>NaN</td>\n",
       "      <td>NaN</td>\n",
       "      <td>NaN</td>\n",
       "      <td>NaN</td>\n",
       "    </tr>\n",
       "    <tr>\n",
       "      <th>proinfo_landmark</th>\n",
       "      <td>3563</td>\n",
       "      <td>978</td>\n",
       "      <td>-</td>\n",
       "      <td>743</td>\n",
       "      <td>NaN</td>\n",
       "      <td>NaN</td>\n",
       "      <td>NaN</td>\n",
       "      <td>NaN</td>\n",
       "      <td>NaN</td>\n",
       "      <td>NaN</td>\n",
       "      <td>NaN</td>\n",
       "    </tr>\n",
       "    <tr>\n",
       "      <th>proinfo_phone</th>\n",
       "      <td>3563.0</td>\n",
       "      <td>NaN</td>\n",
       "      <td>NaN</td>\n",
       "      <td>NaN</td>\n",
       "      <td>17699579422.798203</td>\n",
       "      <td>58712744636.42205</td>\n",
       "      <td>0.0</td>\n",
       "      <td>1111111111.0</td>\n",
       "      <td>4066893899.0</td>\n",
       "      <td>11111111111.0</td>\n",
       "      <td>920000000000.0</td>\n",
       "    </tr>\n",
       "    <tr>\n",
       "      <th>mode_of_pay</th>\n",
       "      <td>3325</td>\n",
       "      <td>2</td>\n",
       "      <td>Bank Transfer</td>\n",
       "      <td>3322</td>\n",
       "      <td>NaN</td>\n",
       "      <td>NaN</td>\n",
       "      <td>NaN</td>\n",
       "      <td>NaN</td>\n",
       "      <td>NaN</td>\n",
       "      <td>NaN</td>\n",
       "      <td>NaN</td>\n",
       "    </tr>\n",
       "    <tr>\n",
       "      <th>capbility_status</th>\n",
       "      <td>3566.0</td>\n",
       "      <td>NaN</td>\n",
       "      <td>NaN</td>\n",
       "      <td>NaN</td>\n",
       "      <td>1.021312</td>\n",
       "      <td>0.150157</td>\n",
       "      <td>1.0</td>\n",
       "      <td>1.0</td>\n",
       "      <td>1.0</td>\n",
       "      <td>1.0</td>\n",
       "      <td>3.0</td>\n",
       "    </tr>\n",
       "    <tr>\n",
       "      <th>capbility_reasons</th>\n",
       "      <td>1142</td>\n",
       "      <td>34</td>\n",
       "      <td>Regular Salary Credit</td>\n",
       "      <td>1009</td>\n",
       "      <td>NaN</td>\n",
       "      <td>NaN</td>\n",
       "      <td>NaN</td>\n",
       "      <td>NaN</td>\n",
       "      <td>NaN</td>\n",
       "      <td>NaN</td>\n",
       "      <td>NaN</td>\n",
       "    </tr>\n",
       "    <tr>\n",
       "      <th>user_survey_collg_id</th>\n",
       "      <td>3551.0</td>\n",
       "      <td>NaN</td>\n",
       "      <td>NaN</td>\n",
       "      <td>NaN</td>\n",
       "      <td>65.108983</td>\n",
       "      <td>23.446258</td>\n",
       "      <td>1.0</td>\n",
       "      <td>75.0</td>\n",
       "      <td>75.0</td>\n",
       "      <td>75.0</td>\n",
       "      <td>89.0</td>\n",
       "    </tr>\n",
       "    <tr>\n",
       "      <th>user_survey_grad_yr</th>\n",
       "      <td>3551.0</td>\n",
       "      <td>NaN</td>\n",
       "      <td>NaN</td>\n",
       "      <td>NaN</td>\n",
       "      <td>15.899465</td>\n",
       "      <td>19.810419</td>\n",
       "      <td>1.0</td>\n",
       "      <td>8.0</td>\n",
       "      <td>12.0</td>\n",
       "      <td>15.0</td>\n",
       "      <td>99.0</td>\n",
       "    </tr>\n",
       "    <tr>\n",
       "      <th>user_survey_exp_mnths</th>\n",
       "      <td>3566.0</td>\n",
       "      <td>NaN</td>\n",
       "      <td>NaN</td>\n",
       "      <td>NaN</td>\n",
       "      <td>5.398205</td>\n",
       "      <td>1.30621</td>\n",
       "      <td>1.0</td>\n",
       "      <td>6.0</td>\n",
       "      <td>6.0</td>\n",
       "      <td>6.0</td>\n",
       "      <td>6.0</td>\n",
       "    </tr>\n",
       "    <tr>\n",
       "      <th>user_survey_marital_status</th>\n",
       "      <td>3566.0</td>\n",
       "      <td>NaN</td>\n",
       "      <td>NaN</td>\n",
       "      <td>NaN</td>\n",
       "      <td>0.597869</td>\n",
       "      <td>0.490397</td>\n",
       "      <td>0.0</td>\n",
       "      <td>0.0</td>\n",
       "      <td>1.0</td>\n",
       "      <td>1.0</td>\n",
       "      <td>1.0</td>\n",
       "    </tr>\n",
       "    <tr>\n",
       "      <th>user_survey_purpose_of_loan</th>\n",
       "      <td>3306.0</td>\n",
       "      <td>NaN</td>\n",
       "      <td>NaN</td>\n",
       "      <td>NaN</td>\n",
       "      <td>0.0</td>\n",
       "      <td>0.0</td>\n",
       "      <td>0.0</td>\n",
       "      <td>0.0</td>\n",
       "      <td>0.0</td>\n",
       "      <td>0.0</td>\n",
       "      <td>0.0</td>\n",
       "    </tr>\n",
       "    <tr>\n",
       "      <th>customer_bank_name</th>\n",
       "      <td>3565</td>\n",
       "      <td>165</td>\n",
       "      <td>AXIS BANK</td>\n",
       "      <td>446</td>\n",
       "      <td>NaN</td>\n",
       "      <td>NaN</td>\n",
       "      <td>NaN</td>\n",
       "      <td>NaN</td>\n",
       "      <td>NaN</td>\n",
       "      <td>NaN</td>\n",
       "      <td>NaN</td>\n",
       "    </tr>\n",
       "    <tr>\n",
       "      <th>customer_bank_branch</th>\n",
       "      <td>3566</td>\n",
       "      <td>2189</td>\n",
       "      <td>HYDERABAD</td>\n",
       "      <td>44</td>\n",
       "      <td>NaN</td>\n",
       "      <td>NaN</td>\n",
       "      <td>NaN</td>\n",
       "      <td>NaN</td>\n",
       "      <td>NaN</td>\n",
       "      <td>NaN</td>\n",
       "      <td>NaN</td>\n",
       "    </tr>\n",
       "    <tr>\n",
       "      <th>customer_bank_ifsc_code</th>\n",
       "      <td>3566</td>\n",
       "      <td>1972</td>\n",
       "      <td>DBSS0IN0811</td>\n",
       "      <td>39</td>\n",
       "      <td>NaN</td>\n",
       "      <td>NaN</td>\n",
       "      <td>NaN</td>\n",
       "      <td>NaN</td>\n",
       "      <td>NaN</td>\n",
       "      <td>NaN</td>\n",
       "      <td>NaN</td>\n",
       "    </tr>\n",
       "    <tr>\n",
       "      <th>customer_bank_account_name</th>\n",
       "      <td>3566</td>\n",
       "      <td>2804</td>\n",
       "      <td>Sandeep Kumar</td>\n",
       "      <td>5</td>\n",
       "      <td>NaN</td>\n",
       "      <td>NaN</td>\n",
       "      <td>NaN</td>\n",
       "      <td>NaN</td>\n",
       "      <td>NaN</td>\n",
       "      <td>NaN</td>\n",
       "      <td>NaN</td>\n",
       "    </tr>\n",
       "    <tr>\n",
       "      <th>sequence_id</th>\n",
       "      <td>3566</td>\n",
       "      <td>3566</td>\n",
       "      <td>CNL01000198</td>\n",
       "      <td>1</td>\n",
       "      <td>NaN</td>\n",
       "      <td>NaN</td>\n",
       "      <td>NaN</td>\n",
       "      <td>NaN</td>\n",
       "      <td>NaN</td>\n",
       "      <td>NaN</td>\n",
       "      <td>NaN</td>\n",
       "    </tr>\n",
       "    <tr>\n",
       "      <th>status_id</th>\n",
       "      <td>3566.0</td>\n",
       "      <td>NaN</td>\n",
       "      <td>NaN</td>\n",
       "      <td>NaN</td>\n",
       "      <td>20.792765</td>\n",
       "      <td>0.416306</td>\n",
       "      <td>20.0</td>\n",
       "      <td>21.0</td>\n",
       "      <td>21.0</td>\n",
       "      <td>21.0</td>\n",
       "      <td>22.0</td>\n",
       "    </tr>\n",
       "    <tr>\n",
       "      <th>tenure_type</th>\n",
       "      <td>3566.0</td>\n",
       "      <td>NaN</td>\n",
       "      <td>NaN</td>\n",
       "      <td>NaN</td>\n",
       "      <td>1.809871</td>\n",
       "      <td>0.392458</td>\n",
       "      <td>1.0</td>\n",
       "      <td>2.0</td>\n",
       "      <td>2.0</td>\n",
       "      <td>2.0</td>\n",
       "      <td>2.0</td>\n",
       "    </tr>\n",
       "    <tr>\n",
       "      <th>emi_count</th>\n",
       "      <td>3566.0</td>\n",
       "      <td>NaN</td>\n",
       "      <td>NaN</td>\n",
       "      <td>NaN</td>\n",
       "      <td>1.871284</td>\n",
       "      <td>0.48481</td>\n",
       "      <td>1.0</td>\n",
       "      <td>2.0</td>\n",
       "      <td>2.0</td>\n",
       "      <td>2.0</td>\n",
       "      <td>3.0</td>\n",
       "    </tr>\n",
       "    <tr>\n",
       "      <th>disbursal_amount</th>\n",
       "      <td>3566.0</td>\n",
       "      <td>NaN</td>\n",
       "      <td>NaN</td>\n",
       "      <td>NaN</td>\n",
       "      <td>11330.088615</td>\n",
       "      <td>6794.424271</td>\n",
       "      <td>1705.0</td>\n",
       "      <td>6174.0</td>\n",
       "      <td>10000.0</td>\n",
       "      <td>14000.0</td>\n",
       "      <td>44000.0</td>\n",
       "    </tr>\n",
       "    <tr>\n",
       "      <th>interest</th>\n",
       "      <td>3566.0</td>\n",
       "      <td>NaN</td>\n",
       "      <td>NaN</td>\n",
       "      <td>NaN</td>\n",
       "      <td>0.0</td>\n",
       "      <td>0.0</td>\n",
       "      <td>0.0</td>\n",
       "      <td>0.0</td>\n",
       "      <td>0.0</td>\n",
       "      <td>0.0</td>\n",
       "      <td>0.0</td>\n",
       "    </tr>\n",
       "    <tr>\n",
       "      <th>service_charge</th>\n",
       "      <td>3566.0</td>\n",
       "      <td>NaN</td>\n",
       "      <td>NaN</td>\n",
       "      <td>NaN</td>\n",
       "      <td>4678.490746</td>\n",
       "      <td>4971.407557</td>\n",
       "      <td>0.0</td>\n",
       "      <td>1260.0</td>\n",
       "      <td>2970.0</td>\n",
       "      <td>6300.0</td>\n",
       "      <td>39600.0</td>\n",
       "    </tr>\n",
       "    <tr>\n",
       "      <th>penalty</th>\n",
       "      <td>3566.0</td>\n",
       "      <td>NaN</td>\n",
       "      <td>NaN</td>\n",
       "      <td>NaN</td>\n",
       "      <td>5821.547953</td>\n",
       "      <td>5054.753808</td>\n",
       "      <td>0.0</td>\n",
       "      <td>1700.0</td>\n",
       "      <td>4420.0</td>\n",
       "      <td>9340.0</td>\n",
       "      <td>18220.0</td>\n",
       "    </tr>\n",
       "    <tr>\n",
       "      <th>total</th>\n",
       "      <td>3566.0</td>\n",
       "      <td>NaN</td>\n",
       "      <td>NaN</td>\n",
       "      <td>NaN</td>\n",
       "      <td>22897.772013</td>\n",
       "      <td>14409.141099</td>\n",
       "      <td>2960.0</td>\n",
       "      <td>12435.0</td>\n",
       "      <td>19052.5</td>\n",
       "      <td>29796.0</td>\n",
       "      <td>102460.0</td>\n",
       "    </tr>\n",
       "    <tr>\n",
       "      <th>loan_amount</th>\n",
       "      <td>3566.0</td>\n",
       "      <td>NaN</td>\n",
       "      <td>NaN</td>\n",
       "      <td>NaN</td>\n",
       "      <td>11638.390353</td>\n",
       "      <td>6916.836267</td>\n",
       "      <td>2000.0</td>\n",
       "      <td>6500.0</td>\n",
       "      <td>10000.0</td>\n",
       "      <td>14000.0</td>\n",
       "      <td>44000.0</td>\n",
       "    </tr>\n",
       "    <tr>\n",
       "      <th>Led</th>\n",
       "      <td>3566.0</td>\n",
       "      <td>NaN</td>\n",
       "      <td>NaN</td>\n",
       "      <td>NaN</td>\n",
       "      <td>232.774818</td>\n",
       "      <td>119.502029</td>\n",
       "      <td>60.0</td>\n",
       "      <td>125.0</td>\n",
       "      <td>206.0</td>\n",
       "      <td>337.0</td>\n",
       "      <td>503.0</td>\n",
       "    </tr>\n",
       "  </tbody>\n",
       "</table>\n",
       "</div>"
      ],
      "text/plain": [
       "                              count unique  \\\n",
       "id                           3566.0    NaN   \n",
       "user_status_id               3566.0    NaN   \n",
       "user_membership_id           3566.0    NaN   \n",
       "twl_membership_id            3566.0    NaN   \n",
       "has_membership               3566.0    NaN   \n",
       "accounts_manager_id          3566.0    NaN   \n",
       "recovery_officer_id          2878.0    NaN   \n",
       "oauth_provider                 3566      5   \n",
       "name                           3566   2792   \n",
       "email                          3566   2825   \n",
       "sec_email                      3566   2825   \n",
       "gender                       3553.0    NaN   \n",
       "user_status                    3566      2   \n",
       "user_created_by              3566.0    NaN   \n",
       "user_created_on                3566   2771   \n",
       "user_updated_by              3566.0    NaN   \n",
       "user_updated_on                3566   2814   \n",
       "user_device_type             3566.0    NaN   \n",
       "active                       3566.0    NaN   \n",
       "is_web                       3566.0    NaN   \n",
       "ureward_points               3566.0    NaN   \n",
       "native_city_id               3566.0    NaN   \n",
       "user_social_name               3565   2766   \n",
       "user_reapproved_on              150     91   \n",
       "aadhar_skip                  3566.0    NaN   \n",
       "city                           3560    279   \n",
       "age                          3566.0    NaN   \n",
       "dob                            3566   2298   \n",
       "present_landmark               1558   1184   \n",
       "father_name                    3431   2665   \n",
       "present_address1               3563   2822   \n",
       "present_address2               3553   2197   \n",
       "present_address3               3563   1929   \n",
       "premanent_address1             3566   2825   \n",
       "premanent_address2             3550   2267   \n",
       "premanent_address3             3562   2043   \n",
       "premanent_address_city            8      8   \n",
       "premanent_address_state          17      9   \n",
       "premanent_address_state_id     17.0    NaN   \n",
       "proinfo_type                   3566      5   \n",
       "proinfo_name                   3566   2021   \n",
       "proinfo_department             3566   1325   \n",
       "proinfo_designation            3566   1674   \n",
       "proinfo_ctc                  3566.0    NaN   \n",
       "proinfo_monthly_sal          3566.0    NaN   \n",
       "proinfo_m_ctc                   4.0    NaN   \n",
       "proinfo_m_monthly_sal        3564.0    NaN   \n",
       "proinfo_saldate              3566.0    NaN   \n",
       "proinfo_industry               3565     15   \n",
       "proinfo_website                2585   1441   \n",
       "proinfo_pincode                3563    740   \n",
       "proinfo_city                   3566    166   \n",
       "proinfo_state                  3563     97   \n",
       "proinfo_address1               3563   2580   \n",
       "proinfo_natbusiness             1.0    NaN   \n",
       "proinfo_address2               3563   1038   \n",
       "proinfo_address2.1             3563   1038   \n",
       "proinfo_landmark               3563    978   \n",
       "proinfo_phone                3563.0    NaN   \n",
       "mode_of_pay                    3325      2   \n",
       "capbility_status             3566.0    NaN   \n",
       "capbility_reasons              1142     34   \n",
       "user_survey_collg_id         3551.0    NaN   \n",
       "user_survey_grad_yr          3551.0    NaN   \n",
       "user_survey_exp_mnths        3566.0    NaN   \n",
       "user_survey_marital_status   3566.0    NaN   \n",
       "user_survey_purpose_of_loan  3306.0    NaN   \n",
       "customer_bank_name             3565    165   \n",
       "customer_bank_branch           3566   2189   \n",
       "customer_bank_ifsc_code        3566   1972   \n",
       "customer_bank_account_name     3566   2804   \n",
       "sequence_id                    3566   3566   \n",
       "status_id                    3566.0    NaN   \n",
       "tenure_type                  3566.0    NaN   \n",
       "emi_count                    3566.0    NaN   \n",
       "disbursal_amount             3566.0    NaN   \n",
       "interest                     3566.0    NaN   \n",
       "service_charge               3566.0    NaN   \n",
       "penalty                      3566.0    NaN   \n",
       "total                        3566.0    NaN   \n",
       "loan_amount                  3566.0    NaN   \n",
       "Led                          3566.0    NaN   \n",
       "\n",
       "                                                                           top  \\\n",
       "id                                                                         NaN   \n",
       "user_status_id                                                             NaN   \n",
       "user_membership_id                                                         NaN   \n",
       "twl_membership_id                                                          NaN   \n",
       "has_membership                                                             NaN   \n",
       "accounts_manager_id                                                        NaN   \n",
       "recovery_officer_id                                                        NaN   \n",
       "oauth_provider                                                          google   \n",
       "name                                                                    Deepak   \n",
       "email                                              abhinandan.daemon@gmail.com   \n",
       "sec_email                                              abhinandhan19@gmail.com   \n",
       "gender                                                                     NaN   \n",
       "user_status                                                                  A   \n",
       "user_created_by                                                            NaN   \n",
       "user_created_on                                               01-03-2021 15:37   \n",
       "user_updated_by                                                            NaN   \n",
       "user_updated_on                                               29-04-2022 17:28   \n",
       "user_device_type                                                           NaN   \n",
       "active                                                                     NaN   \n",
       "is_web                                                                     NaN   \n",
       "ureward_points                                                             NaN   \n",
       "native_city_id                                                             NaN   \n",
       "user_social_name                                                    Arun Kumar   \n",
       "user_reapproved_on                                            16-10-2021 12:14   \n",
       "aadhar_skip                                                                NaN   \n",
       "city                                                                 Bangalore   \n",
       "age                                                                        NaN   \n",
       "dob                                                                 01-06-1990   \n",
       "present_landmark                                                       MUMBAI    \n",
       "father_name                                                        ASHOK KUMAR   \n",
       "present_address1                                                        JANAI    \n",
       "present_address2                                Uttam Nagar, West Delhi, Delhi   \n",
       "present_address3                                                        110059   \n",
       "premanent_address1                 NO 352 3RD C MAIN 7TH A CROSS HEALTH LAYOUT   \n",
       "premanent_address2                              Uttam Nagar, West Delhi, Delhi   \n",
       "premanent_address3                                                      110059   \n",
       "premanent_address_city                                            Tirumalagiri   \n",
       "premanent_address_state                                         Andhra Pradesh   \n",
       "premanent_address_state_id                                                 NaN   \n",
       "proinfo_type                                                               WFO   \n",
       "proinfo_name                               ACCENTURE SOLUTIONS PRIVATE LIMITED   \n",
       "proinfo_department                                                          IT   \n",
       "proinfo_designation                                                    Manager   \n",
       "proinfo_ctc                                                                NaN   \n",
       "proinfo_monthly_sal                                                        NaN   \n",
       "proinfo_m_ctc                                                              NaN   \n",
       "proinfo_m_monthly_sal                                                      NaN   \n",
       "proinfo_saldate                                                            NaN   \n",
       "proinfo_industry                                          Software/IT/ITES/BPO   \n",
       "proinfo_website                                                              -   \n",
       "proinfo_pincode                                                         500081   \n",
       "proinfo_city                                                         Bangalore   \n",
       "proinfo_state                                                        Karnataka   \n",
       "proinfo_address1             001, Village Road, Kundalahalli, Brookefield, ...   \n",
       "proinfo_natbusiness                                                        NaN   \n",
       "proinfo_address2                                          Madhapur,  Hyderabad   \n",
       "proinfo_address2.1                                        Madhapur,  Hyderabad   \n",
       "proinfo_landmark                                                             -   \n",
       "proinfo_phone                                                              NaN   \n",
       "mode_of_pay                                                      Bank Transfer   \n",
       "capbility_status                                                           NaN   \n",
       "capbility_reasons                                        Regular Salary Credit   \n",
       "user_survey_collg_id                                                       NaN   \n",
       "user_survey_grad_yr                                                        NaN   \n",
       "user_survey_exp_mnths                                                      NaN   \n",
       "user_survey_marital_status                                                 NaN   \n",
       "user_survey_purpose_of_loan                                                NaN   \n",
       "customer_bank_name                                                   AXIS BANK   \n",
       "customer_bank_branch                                                 HYDERABAD   \n",
       "customer_bank_ifsc_code                                            DBSS0IN0811   \n",
       "customer_bank_account_name                                       Sandeep Kumar   \n",
       "sequence_id                                                        CNL01000198   \n",
       "status_id                                                                  NaN   \n",
       "tenure_type                                                                NaN   \n",
       "emi_count                                                                  NaN   \n",
       "disbursal_amount                                                           NaN   \n",
       "interest                                                                   NaN   \n",
       "service_charge                                                             NaN   \n",
       "penalty                                                                    NaN   \n",
       "total                                                                      NaN   \n",
       "loan_amount                                                                NaN   \n",
       "Led                                                                        NaN   \n",
       "\n",
       "                             freq                mean                std  \\\n",
       "id                            NaN      1125159.948402      102916.353536   \n",
       "user_status_id                NaN           14.167134           5.064642   \n",
       "user_membership_id            NaN          308.391755         651.096282   \n",
       "twl_membership_id             NaN          356.399047         278.985254   \n",
       "has_membership                NaN                 1.0                0.0   \n",
       "accounts_manager_id           NaN          111.525519          39.530517   \n",
       "recovery_officer_id           NaN          122.244614           9.177313   \n",
       "oauth_provider               2955                 NaN                NaN   \n",
       "name                            5                 NaN                NaN   \n",
       "email                           4                 NaN                NaN   \n",
       "sec_email                       4                 NaN                NaN   \n",
       "gender                        NaN            0.921193           0.269475   \n",
       "user_status                  3564                 NaN                NaN   \n",
       "user_created_by               NaN                 5.0                0.0   \n",
       "user_created_on                 7                 NaN                NaN   \n",
       "user_updated_by               NaN       170883.372686      402099.097342   \n",
       "user_updated_on                 4                 NaN                NaN   \n",
       "user_device_type              NaN            1.049355           0.216639   \n",
       "active                        NaN                 1.0                0.0   \n",
       "is_web                        NaN            0.074874           0.263225   \n",
       "ureward_points                NaN          108.379136         149.367889   \n",
       "native_city_id                NaN           54.159002         130.069612   \n",
       "user_social_name                7                 NaN                NaN   \n",
       "user_reapproved_on              7                 NaN                NaN   \n",
       "aadhar_skip                   NaN            0.001402           0.037424   \n",
       "city                          644                 NaN                NaN   \n",
       "age                           NaN            33.85558            5.71837   \n",
       "dob                             8                 NaN                NaN   \n",
       "present_landmark                5                 NaN                NaN   \n",
       "father_name                     6                 NaN                NaN   \n",
       "present_address1                4                 NaN                NaN   \n",
       "present_address2               31                 NaN                NaN   \n",
       "present_address3               38                 NaN                NaN   \n",
       "premanent_address1              4                 NaN                NaN   \n",
       "premanent_address2             29                 NaN                NaN   \n",
       "premanent_address3             36                 NaN                NaN   \n",
       "premanent_address_city          1                 NaN                NaN   \n",
       "premanent_address_state         3                 NaN                NaN   \n",
       "premanent_address_state_id    NaN           27.058824           7.411736   \n",
       "proinfo_type                 1853                 NaN                NaN   \n",
       "proinfo_name                   86                 NaN                NaN   \n",
       "proinfo_department            304                 NaN                NaN   \n",
       "proinfo_designation           109                 NaN                NaN   \n",
       "proinfo_ctc                   NaN            6.633763           3.678896   \n",
       "proinfo_monthly_sal           NaN        55271.606562       30616.567172   \n",
       "proinfo_m_ctc                 NaN                7.25           3.593976   \n",
       "proinfo_m_monthly_sal         NaN           67.340067        2192.903001   \n",
       "proinfo_saldate               NaN            2.386708           3.797014   \n",
       "proinfo_industry             1668                 NaN                NaN   \n",
       "proinfo_website               124                 NaN                NaN   \n",
       "proinfo_pincode               167                 NaN                NaN   \n",
       "proinfo_city                  850                 NaN                NaN   \n",
       "proinfo_state                 782                 NaN                NaN   \n",
       "proinfo_address1               16                 NaN                NaN   \n",
       "proinfo_natbusiness           NaN                 8.0                NaN   \n",
       "proinfo_address2              152                 NaN                NaN   \n",
       "proinfo_address2.1            152                 NaN                NaN   \n",
       "proinfo_landmark              743                 NaN                NaN   \n",
       "proinfo_phone                 NaN  17699579422.798203  58712744636.42205   \n",
       "mode_of_pay                  3322                 NaN                NaN   \n",
       "capbility_status              NaN            1.021312           0.150157   \n",
       "capbility_reasons            1009                 NaN                NaN   \n",
       "user_survey_collg_id          NaN           65.108983          23.446258   \n",
       "user_survey_grad_yr           NaN           15.899465          19.810419   \n",
       "user_survey_exp_mnths         NaN            5.398205            1.30621   \n",
       "user_survey_marital_status    NaN            0.597869           0.490397   \n",
       "user_survey_purpose_of_loan   NaN                 0.0                0.0   \n",
       "customer_bank_name            446                 NaN                NaN   \n",
       "customer_bank_branch           44                 NaN                NaN   \n",
       "customer_bank_ifsc_code        39                 NaN                NaN   \n",
       "customer_bank_account_name      5                 NaN                NaN   \n",
       "sequence_id                     1                 NaN                NaN   \n",
       "status_id                     NaN           20.792765           0.416306   \n",
       "tenure_type                   NaN            1.809871           0.392458   \n",
       "emi_count                     NaN            1.871284            0.48481   \n",
       "disbursal_amount              NaN        11330.088615        6794.424271   \n",
       "interest                      NaN                 0.0                0.0   \n",
       "service_charge                NaN         4678.490746        4971.407557   \n",
       "penalty                       NaN         5821.547953        5054.753808   \n",
       "total                         NaN        22897.772013       14409.141099   \n",
       "loan_amount                   NaN        11638.390353        6916.836267   \n",
       "Led                           NaN          232.774818         119.502029   \n",
       "\n",
       "                                   min           25%           50%  \\\n",
       "id                           1000213.0    1031414.25     1101745.0   \n",
       "user_status_id                    12.0          12.0          12.0   \n",
       "user_membership_id                 1.0          16.0          84.0   \n",
       "twl_membership_id                  0.0          15.0         424.0   \n",
       "has_membership                     1.0           1.0           1.0   \n",
       "accounts_manager_id               22.0         110.0         129.0   \n",
       "recovery_officer_id              106.0         116.0         118.0   \n",
       "oauth_provider                     NaN           NaN           NaN   \n",
       "name                               NaN           NaN           NaN   \n",
       "email                              NaN           NaN           NaN   \n",
       "sec_email                          NaN           NaN           NaN   \n",
       "gender                             0.0           1.0           1.0   \n",
       "user_status                        NaN           NaN           NaN   \n",
       "user_created_by                    5.0           5.0           5.0   \n",
       "user_created_on                    NaN           NaN           NaN   \n",
       "user_updated_by                    1.0          21.0          76.0   \n",
       "user_updated_on                    NaN           NaN           NaN   \n",
       "user_device_type                   1.0           1.0           1.0   \n",
       "active                             1.0           1.0           1.0   \n",
       "is_web                             0.0           0.0           0.0   \n",
       "ureward_points                     0.0           0.0          40.0   \n",
       "native_city_id                     0.0           3.0          11.0   \n",
       "user_social_name                   NaN           NaN           NaN   \n",
       "user_reapproved_on                 NaN           NaN           NaN   \n",
       "aadhar_skip                        0.0           0.0           0.0   \n",
       "city                               NaN           NaN           NaN   \n",
       "age                               21.0          30.0          33.0   \n",
       "dob                                NaN           NaN           NaN   \n",
       "present_landmark                   NaN           NaN           NaN   \n",
       "father_name                        NaN           NaN           NaN   \n",
       "present_address1                   NaN           NaN           NaN   \n",
       "present_address2                   NaN           NaN           NaN   \n",
       "present_address3                   NaN           NaN           NaN   \n",
       "premanent_address1                 NaN           NaN           NaN   \n",
       "premanent_address2                 NaN           NaN           NaN   \n",
       "premanent_address3                 NaN           NaN           NaN   \n",
       "premanent_address_city             NaN           NaN           NaN   \n",
       "premanent_address_state            NaN           NaN           NaN   \n",
       "premanent_address_state_id         6.0          24.0          28.0   \n",
       "proinfo_type                       NaN           NaN           NaN   \n",
       "proinfo_name                       NaN           NaN           NaN   \n",
       "proinfo_department                 NaN           NaN           NaN   \n",
       "proinfo_designation                NaN           NaN           NaN   \n",
       "proinfo_ctc                        2.0           4.0           6.0   \n",
       "proinfo_monthly_sal            20812.0      37053.25       46667.0   \n",
       "proinfo_m_ctc                      4.0          4.75           6.5   \n",
       "proinfo_m_monthly_sal              0.0           0.0           0.0   \n",
       "proinfo_saldate                    0.0           0.0           0.0   \n",
       "proinfo_industry                   NaN           NaN           NaN   \n",
       "proinfo_website                    NaN           NaN           NaN   \n",
       "proinfo_pincode                    NaN           NaN           NaN   \n",
       "proinfo_city                       NaN           NaN           NaN   \n",
       "proinfo_state                      NaN           NaN           NaN   \n",
       "proinfo_address1                   NaN           NaN           NaN   \n",
       "proinfo_natbusiness                8.0           8.0           8.0   \n",
       "proinfo_address2                   NaN           NaN           NaN   \n",
       "proinfo_address2.1                 NaN           NaN           NaN   \n",
       "proinfo_landmark                   NaN           NaN           NaN   \n",
       "proinfo_phone                      0.0  1111111111.0  4066893899.0   \n",
       "mode_of_pay                        NaN           NaN           NaN   \n",
       "capbility_status                   1.0           1.0           1.0   \n",
       "capbility_reasons                  NaN           NaN           NaN   \n",
       "user_survey_collg_id               1.0          75.0          75.0   \n",
       "user_survey_grad_yr                1.0           8.0          12.0   \n",
       "user_survey_exp_mnths              1.0           6.0           6.0   \n",
       "user_survey_marital_status         0.0           0.0           1.0   \n",
       "user_survey_purpose_of_loan        0.0           0.0           0.0   \n",
       "customer_bank_name                 NaN           NaN           NaN   \n",
       "customer_bank_branch               NaN           NaN           NaN   \n",
       "customer_bank_ifsc_code            NaN           NaN           NaN   \n",
       "customer_bank_account_name         NaN           NaN           NaN   \n",
       "sequence_id                        NaN           NaN           NaN   \n",
       "status_id                         20.0          21.0          21.0   \n",
       "tenure_type                        1.0           2.0           2.0   \n",
       "emi_count                          1.0           2.0           2.0   \n",
       "disbursal_amount                1705.0        6174.0       10000.0   \n",
       "interest                           0.0           0.0           0.0   \n",
       "service_charge                     0.0        1260.0        2970.0   \n",
       "penalty                            0.0        1700.0        4420.0   \n",
       "total                           2960.0       12435.0       19052.5   \n",
       "loan_amount                     2000.0        6500.0       10000.0   \n",
       "Led                               60.0         125.0         206.0   \n",
       "\n",
       "                                       75%             max  \n",
       "id                              1210870.25       1363724.0  \n",
       "user_status_id                        12.0            26.0  \n",
       "user_membership_id                   114.0          2110.0  \n",
       "twl_membership_id                    594.0           734.0  \n",
       "has_membership                         1.0             1.0  \n",
       "accounts_manager_id                  133.0           143.0  \n",
       "recovery_officer_id                  134.0           140.0  \n",
       "oauth_provider                         NaN             NaN  \n",
       "name                                   NaN             NaN  \n",
       "email                                  NaN             NaN  \n",
       "sec_email                              NaN             NaN  \n",
       "gender                                 1.0             1.0  \n",
       "user_status                            NaN             NaN  \n",
       "user_created_by                        5.0             5.0  \n",
       "user_created_on                        NaN             NaN  \n",
       "user_updated_by                       80.0       1341604.0  \n",
       "user_updated_on                        NaN             NaN  \n",
       "user_device_type                       1.0             2.0  \n",
       "active                                 1.0             1.0  \n",
       "is_web                                 0.0             1.0  \n",
       "ureward_points                       175.0           825.0  \n",
       "native_city_id                        31.0          1202.0  \n",
       "user_social_name                       NaN             NaN  \n",
       "user_reapproved_on                     NaN             NaN  \n",
       "aadhar_skip                            0.0             1.0  \n",
       "city                                   NaN             NaN  \n",
       "age                                   37.0            59.0  \n",
       "dob                                    NaN             NaN  \n",
       "present_landmark                       NaN             NaN  \n",
       "father_name                            NaN             NaN  \n",
       "present_address1                       NaN             NaN  \n",
       "present_address2                       NaN             NaN  \n",
       "present_address3                       NaN             NaN  \n",
       "premanent_address1                     NaN             NaN  \n",
       "premanent_address2                     NaN             NaN  \n",
       "premanent_address3                     NaN             NaN  \n",
       "premanent_address_city                 NaN             NaN  \n",
       "premanent_address_state                NaN             NaN  \n",
       "premanent_address_state_id            33.0            36.0  \n",
       "proinfo_type                           NaN             NaN  \n",
       "proinfo_name                           NaN             NaN  \n",
       "proinfo_department                     NaN             NaN  \n",
       "proinfo_designation                    NaN             NaN  \n",
       "proinfo_ctc                            8.0            96.0  \n",
       "proinfo_monthly_sal               63826.25        800000.0  \n",
       "proinfo_m_ctc                          9.0            12.0  \n",
       "proinfo_m_monthly_sal                  0.0        100000.0  \n",
       "proinfo_saldate                        5.0             9.0  \n",
       "proinfo_industry                       NaN             NaN  \n",
       "proinfo_website                        NaN             NaN  \n",
       "proinfo_pincode                        NaN             NaN  \n",
       "proinfo_city                           NaN             NaN  \n",
       "proinfo_state                          NaN             NaN  \n",
       "proinfo_address1                       NaN             NaN  \n",
       "proinfo_natbusiness                    8.0             8.0  \n",
       "proinfo_address2                       NaN             NaN  \n",
       "proinfo_address2.1                     NaN             NaN  \n",
       "proinfo_landmark                       NaN             NaN  \n",
       "proinfo_phone                11111111111.0  920000000000.0  \n",
       "mode_of_pay                            NaN             NaN  \n",
       "capbility_status                       1.0             3.0  \n",
       "capbility_reasons                      NaN             NaN  \n",
       "user_survey_collg_id                  75.0            89.0  \n",
       "user_survey_grad_yr                   15.0            99.0  \n",
       "user_survey_exp_mnths                  6.0             6.0  \n",
       "user_survey_marital_status             1.0             1.0  \n",
       "user_survey_purpose_of_loan            0.0             0.0  \n",
       "customer_bank_name                     NaN             NaN  \n",
       "customer_bank_branch                   NaN             NaN  \n",
       "customer_bank_ifsc_code                NaN             NaN  \n",
       "customer_bank_account_name             NaN             NaN  \n",
       "sequence_id                            NaN             NaN  \n",
       "status_id                             21.0            22.0  \n",
       "tenure_type                            2.0             2.0  \n",
       "emi_count                              2.0             3.0  \n",
       "disbursal_amount                   14000.0         44000.0  \n",
       "interest                               0.0             0.0  \n",
       "service_charge                      6300.0         39600.0  \n",
       "penalty                             9340.0         18220.0  \n",
       "total                              29796.0        102460.0  \n",
       "loan_amount                        14000.0         44000.0  \n",
       "Led                                  337.0           503.0  "
      ]
     },
     "execution_count": 7,
     "metadata": {},
     "output_type": "execute_result"
    }
   ],
   "source": [
    "d.describe(include='all').T"
   ]
  },
  {
   "cell_type": "code",
   "execution_count": 8,
   "id": "88b261f9",
   "metadata": {},
   "outputs": [],
   "source": [
    "# df.groupby('A').agg({ 'disbursal_amount': 'sum','interest': 'sum','service_charge':'sum','penalty':\"sum\",\n",
    "#                     'total':'sum','loan_amount':'sum','Led':'mean'})"
   ]
  },
  {
   "cell_type": "code",
   "execution_count": 9,
   "id": "545ed6ac",
   "metadata": {
    "scrolled": true
   },
   "outputs": [
    {
     "name": "stdout",
     "output_type": "stream",
     "text": [
      "(2825, 12)\n"
     ]
    },
    {
     "data": {
      "text/html": [
       "<div>\n",
       "<style scoped>\n",
       "    .dataframe tbody tr th:only-of-type {\n",
       "        vertical-align: middle;\n",
       "    }\n",
       "\n",
       "    .dataframe tbody tr th {\n",
       "        vertical-align: top;\n",
       "    }\n",
       "\n",
       "    .dataframe thead th {\n",
       "        text-align: right;\n",
       "    }\n",
       "</style>\n",
       "<table border=\"1\" class=\"dataframe\">\n",
       "  <thead>\n",
       "    <tr style=\"text-align: right;\">\n",
       "      <th></th>\n",
       "      <th>user_status_id</th>\n",
       "      <th>gender</th>\n",
       "      <th>proinfo_monthly_sal</th>\n",
       "      <th>accounts_manager_id</th>\n",
       "      <th>age</th>\n",
       "      <th>disbursal_amount</th>\n",
       "      <th>interest</th>\n",
       "      <th>service_charge</th>\n",
       "      <th>penalty</th>\n",
       "      <th>total</th>\n",
       "      <th>loan_amount</th>\n",
       "      <th>Led</th>\n",
       "    </tr>\n",
       "    <tr>\n",
       "      <th>id</th>\n",
       "      <th></th>\n",
       "      <th></th>\n",
       "      <th></th>\n",
       "      <th></th>\n",
       "      <th></th>\n",
       "      <th></th>\n",
       "      <th></th>\n",
       "      <th></th>\n",
       "      <th></th>\n",
       "      <th></th>\n",
       "      <th></th>\n",
       "      <th></th>\n",
       "    </tr>\n",
       "  </thead>\n",
       "  <tbody>\n",
       "    <tr>\n",
       "      <th>1000213</th>\n",
       "      <td>12.0</td>\n",
       "      <td>1.0</td>\n",
       "      <td>51090.0</td>\n",
       "      <td>120.0</td>\n",
       "      <td>36.0</td>\n",
       "      <td>15000</td>\n",
       "      <td>0</td>\n",
       "      <td>14850</td>\n",
       "      <td>18220</td>\n",
       "      <td>49840</td>\n",
       "      <td>15000</td>\n",
       "      <td>503.0</td>\n",
       "    </tr>\n",
       "    <tr>\n",
       "      <th>1000329</th>\n",
       "      <td>12.0</td>\n",
       "      <td>1.0</td>\n",
       "      <td>35413.0</td>\n",
       "      <td>110.0</td>\n",
       "      <td>28.0</td>\n",
       "      <td>10000</td>\n",
       "      <td>0</td>\n",
       "      <td>9900</td>\n",
       "      <td>18180</td>\n",
       "      <td>39260</td>\n",
       "      <td>10000</td>\n",
       "      <td>502.0</td>\n",
       "    </tr>\n",
       "    <tr>\n",
       "      <th>1000330</th>\n",
       "      <td>26.0</td>\n",
       "      <td>1.0</td>\n",
       "      <td>42481.0</td>\n",
       "      <td>129.0</td>\n",
       "      <td>30.0</td>\n",
       "      <td>24000</td>\n",
       "      <td>0</td>\n",
       "      <td>6480</td>\n",
       "      <td>7280</td>\n",
       "      <td>35756</td>\n",
       "      <td>24000</td>\n",
       "      <td>180.5</td>\n",
       "    </tr>\n",
       "    <tr>\n",
       "      <th>1000381</th>\n",
       "      <td>12.0</td>\n",
       "      <td>0.0</td>\n",
       "      <td>31490.0</td>\n",
       "      <td>133.0</td>\n",
       "      <td>34.0</td>\n",
       "      <td>40000</td>\n",
       "      <td>0</td>\n",
       "      <td>39600</td>\n",
       "      <td>18140</td>\n",
       "      <td>102460</td>\n",
       "      <td>40000</td>\n",
       "      <td>501.0</td>\n",
       "    </tr>\n",
       "    <tr>\n",
       "      <th>1000395</th>\n",
       "      <td>12.0</td>\n",
       "      <td>1.0</td>\n",
       "      <td>152993.0</td>\n",
       "      <td>110.0</td>\n",
       "      <td>35.0</td>\n",
       "      <td>40000</td>\n",
       "      <td>0</td>\n",
       "      <td>30000</td>\n",
       "      <td>13660</td>\n",
       "      <td>88380</td>\n",
       "      <td>40000</td>\n",
       "      <td>389.0</td>\n",
       "    </tr>\n",
       "  </tbody>\n",
       "</table>\n",
       "</div>"
      ],
      "text/plain": [
       "         user_status_id  gender  proinfo_monthly_sal  accounts_manager_id  \\\n",
       "id                                                                          \n",
       "1000213            12.0     1.0              51090.0                120.0   \n",
       "1000329            12.0     1.0              35413.0                110.0   \n",
       "1000330            26.0     1.0              42481.0                129.0   \n",
       "1000381            12.0     0.0              31490.0                133.0   \n",
       "1000395            12.0     1.0             152993.0                110.0   \n",
       "\n",
       "          age  disbursal_amount  interest  service_charge  penalty   total  \\\n",
       "id                                                                           \n",
       "1000213  36.0             15000         0           14850    18220   49840   \n",
       "1000329  28.0             10000         0            9900    18180   39260   \n",
       "1000330  30.0             24000         0            6480     7280   35756   \n",
       "1000381  34.0             40000         0           39600    18140  102460   \n",
       "1000395  35.0             40000         0           30000    13660   88380   \n",
       "\n",
       "         loan_amount    Led  \n",
       "id                           \n",
       "1000213        15000  503.0  \n",
       "1000329        10000  502.0  \n",
       "1000330        24000  180.5  \n",
       "1000381        40000  501.0  \n",
       "1000395        40000  389.0  "
      ]
     },
     "execution_count": 9,
     "metadata": {},
     "output_type": "execute_result"
    }
   ],
   "source": [
    "df1=d.groupby(['id']).agg({'user_status_id':'mean','gender':'mean','proinfo_monthly_sal':'mean','accounts_manager_id':'mean','age':'mean', 'disbursal_amount': 'sum','interest': 'sum','service_charge':'sum','penalty':\"sum\",\n",
    "                    'total':'sum','loan_amount':'sum','Led':'mean'})\n",
    "print(df1.shape)\n",
    "df1.head()"
   ]
  },
  {
   "cell_type": "code",
   "execution_count": 10,
   "id": "0ecd0744",
   "metadata": {},
   "outputs": [
    {
     "data": {
      "text/plain": [
       "Bangalore                       18.089888\n",
       "Hyderabad                       12.331461\n",
       "Chennai                          8.202247\n",
       "New Delhi                        7.949438\n",
       "Mumbai                           7.078652\n",
       "Pune                             4.943820\n",
       "Kolkata                          2.219101\n",
       "Thane                            1.910112\n",
       "Noida                            1.882022\n",
       "Gurgaon                          1.657303\n",
       "Coimbatore                       1.488764\n",
       "Ahmedabad                        1.292135\n",
       "Visakhapatnam                    0.983146\n",
       "Faridabad                        0.786517\n",
       "Vijayawada                       0.702247\n",
       "Ongole                           0.674157\n",
       "Anantapur                        0.674157\n",
       "Vadodara                         0.589888\n",
       "Nellore                          0.589888\n",
       "Nagpur                           0.561798\n",
       "Jaipur                           0.533708\n",
       "Chandigarh                       0.533708\n",
       "Guntur                           0.533708\n",
       "Salem                            0.477528\n",
       "Patna                            0.477528\n",
       "Bhubaneshwar                     0.477528\n",
       "Mysore                           0.449438\n",
       "Nashik                           0.449438\n",
       "Kancheepuram                     0.421348\n",
       "Chittoor                         0.421348\n",
       "Kochi                            0.421348\n",
       "Kadapa                           0.393258\n",
       "Vellore                          0.365169\n",
       "Madurai                          0.337079\n",
       "Lucknow                          0.337079\n",
       "Tiruchirappalli                  0.337079\n",
       "Amaravati                        0.308989\n",
       "Kurnool                          0.308989\n",
       "Tirupati                         0.308989\n",
       "Dehradun                         0.308989\n",
       "Warangal                         0.308989\n",
       "Meerut                           0.308989\n",
       "Ranchi                           0.308989\n",
       "Erode                            0.280899\n",
       "Bhopal                           0.252809\n",
       "Jamshedpur                       0.252809\n",
       "Hubli-Dharwad                    0.252809\n",
       "Thiruvananthapuram               0.252809\n",
       "Pondicherry                      0.224719\n",
       "Varanasi                         0.224719\n",
       "Surat                            0.224719\n",
       "Khammam                          0.224719\n",
       "Kota                             0.224719\n",
       "Rajahmundry                      0.224719\n",
       "Jammu                            0.196629\n",
       "Panvel                           0.196629\n",
       "Kanpur                           0.196629\n",
       "Satara                           0.196629\n",
       "Tumkur                           0.168539\n",
       "Belagavi                         0.168539\n",
       "Guwahati                         0.168539\n",
       "Hisar                            0.168539\n",
       "Jodhpur                          0.168539\n",
       "Aurangabad (Maharashtra)         0.168539\n",
       "Vasai-Virar                      0.140449\n",
       "Brahmapur                        0.140449\n",
       "Bikaner                          0.140449\n",
       "Mohali                           0.140449\n",
       "Prayagraj                        0.140449\n",
       "Tiruppur                         0.140449\n",
       "Indore                           0.140449\n",
       "Ratnagiri                        0.140449\n",
       "Panchkula                        0.140449\n",
       "Gwalior                          0.140449\n",
       "Mangaluru                        0.112360\n",
       "Kottayam                         0.112360\n",
       "Hugli-Chinsurah                  0.112360\n",
       "Kozhikode                        0.112360\n",
       "Karwar                           0.112360\n",
       "Pithoragarh                      0.112360\n",
       "Srikakulam                       0.112360\n",
       "Thanjavur                        0.112360\n",
       "Ludhiana                         0.112360\n",
       "Raipur                           0.112360\n",
       "Bharuch                          0.112360\n",
       "Alappuzha                        0.112360\n",
       "Kollam                           0.112360\n",
       "Viluppuram                       0.112360\n",
       "Alwar                            0.112360\n",
       "Shivamogga                       0.112360\n",
       "Bhimavaram                       0.112360\n",
       "Udaipur                          0.112360\n",
       "Begusarai                        0.112360\n",
       "Agra                             0.112360\n",
       "Nizamabad                        0.084270\n",
       "Kannur                           0.084270\n",
       "Talcher                          0.084270\n",
       "Rae Bareli                       0.084270\n",
       "Sangli                           0.084270\n",
       "Shahjahanpur                     0.084270\n",
       "Davanagere                       0.084270\n",
       "Cuttack                          0.084270\n",
       "Tenkasi                          0.084270\n",
       "Mandya                           0.084270\n",
       "Loni                             0.084270\n",
       "Tirunelveli                      0.084270\n",
       "Thrissur                         0.084270\n",
       "Ballari                          0.084270\n",
       "Madanapalle                      0.084270\n",
       "Virudhunagar                     0.084270\n",
       "Kalyan-Dombivali                 0.084270\n",
       "Proddatur                        0.084270\n",
       "Raigarh                          0.084270\n",
       "Rohtak                           0.084270\n",
       "Gurdaspur                        0.084270\n",
       "Miryalaguda                      0.084270\n",
       "Kakinada                         0.084270\n",
       "Latur                            0.084270\n",
       "Bhavnagar                        0.084270\n",
       "Karur                            0.084270\n",
       "Kharagpur                        0.084270\n",
       "Pudukkottai                      0.084270\n",
       "Pathankot                        0.084270\n",
       "Amritsar                         0.056180\n",
       "Haldwani-cum-Kathgodam           0.056180\n",
       "Munger                           0.056180\n",
       "Markapur                         0.056180\n",
       "Faridkot                         0.056180\n",
       "Namakkal                         0.056180\n",
       "Rajapalayam                      0.056180\n",
       "Kolar                            0.056180\n",
       "Chirala                          0.056180\n",
       "Nagarkurnool                     0.056180\n",
       "Vijayapura                       0.056180\n",
       "Palampur                         0.056180\n",
       "Sikar                            0.056180\n",
       "Jhumri Tilaiya                   0.056180\n",
       "Nagapattinam                     0.056180\n",
       "Samastipur                       0.056180\n",
       "Muzaffarpur                      0.056180\n",
       "Robertsganj                      0.056180\n",
       "Panipat                          0.056180\n",
       "Bokaro Steel City                0.056180\n",
       "Allahabad                        0.056180\n",
       "Eluru                            0.056180\n",
       "Hindupur                         0.056180\n",
       "Ahmednagar                       0.056180\n",
       "Rajampet                         0.056180\n",
       "Nagercoil                        0.056180\n",
       "Ramanathapuram                   0.056180\n",
       "Vizianagaram                     0.056180\n",
       "Mathura                          0.056180\n",
       "Gaya                             0.056180\n",
       "Pilani                           0.056180\n",
       "Srinagar (Jammu and Kashmir)     0.056180\n",
       "Nellikuppam                      0.056180\n",
       "Narkatiaganj                     0.056180\n",
       "Darbhanga                        0.056180\n",
       "Rajkot                           0.056180\n",
       "Palwal                           0.056180\n",
       "Udhagamandalam                   0.056180\n",
       "Udupi                            0.056180\n",
       "Dibrugarh                        0.056180\n",
       "Jagtial                          0.056180\n",
       "Satna                            0.056180\n",
       "Palakkad                         0.056180\n",
       "Malkapur                         0.056180\n",
       "Tadpatri                         0.056180\n",
       "Bathinda                         0.056180\n",
       "Margao                           0.056180\n",
       "Hardwar                          0.056180\n",
       "Puttur (Andhra Pradesh)          0.028090\n",
       "Amroha                           0.028090\n",
       "Bhilai Nagar                     0.028090\n",
       "Shamsabad, Farrukhabad           0.028090\n",
       "Wardha                           0.028090\n",
       "Jalandhar                        0.028090\n",
       "Aligarh                          0.028090\n",
       "Anand                            0.028090\n",
       "Deoghar                          0.028090\n",
       "Gudivada                         0.028090\n",
       "Puri                             0.028090\n",
       "Rayadurg                         0.028090\n",
       "Tinsukia                         0.028090\n",
       "Shillong                         0.028090\n",
       "Purnia                           0.028090\n",
       "Shrirampur                       0.028090\n",
       "Mandapeta                        0.028090\n",
       "Palani                           0.028090\n",
       "Jalpaiguri                       0.028090\n",
       "Pachora                          0.028090\n",
       "Amravati                         0.028090\n",
       "Bhadrak                          0.028090\n",
       "Moradabad                        0.028090\n",
       "Valsad                           0.028090\n",
       "Solapur                          0.028090\n",
       "Maharajganj                      0.028090\n",
       "Shivpuri                         0.028090\n",
       "Sonipat                          0.028090\n",
       "Tiruchengode                     0.028090\n",
       "Shahganj                         0.028090\n",
       "Balaghat                         0.028090\n",
       "Kapurthala                       0.028090\n",
       "Thangadh                         0.028090\n",
       "Panaji                           0.028090\n",
       "Sagar                            0.028090\n",
       "Kasaragod                        0.028090\n",
       "Jorhat                           0.028090\n",
       "Padrauna                         0.028090\n",
       "Sasaram                          0.028090\n",
       "Hoshiarpur                       0.028090\n",
       "Amalapuram                       0.028090\n",
       "Tiruchendur                      0.028090\n",
       "Silchar                          0.028090\n",
       "Siwan                            0.028090\n",
       "Fatehabad                        0.028090\n",
       "Saharanpur                       0.028090\n",
       "Mandsaur                         0.028090\n",
       "Rishikesh                        0.028090\n",
       "Sakaleshapura                    0.028090\n",
       "Moga                             0.028090\n",
       "Lakhimpur                        0.028090\n",
       "Siliguri                         0.028090\n",
       "Lohardaga                        0.028090\n",
       "Machilipatnam                    0.028090\n",
       "Veraval                          0.028090\n",
       "Goa                              0.028090\n",
       "Ichalkaranji                     0.028090\n",
       "Nidadavole                       0.028090\n",
       "Firozabad                        0.028090\n",
       "Medinipur                        0.028090\n",
       "Bhongir                          0.028090\n",
       "Shamli                           0.028090\n",
       "Amalner                          0.028090\n",
       "Patan                            0.028090\n",
       "Durg                             0.028090\n",
       "Ranebennuru                      0.028090\n",
       "Sircilla                         0.028090\n",
       "Nelamangala                      0.028090\n",
       "North Lakhimpur                  0.028090\n",
       "Jaggaiahpet                      0.028090\n",
       "Sitamarhi                        0.028090\n",
       "Agartala                         0.028090\n",
       "Chilakaluripet                   0.028090\n",
       "Neemuch                          0.028090\n",
       "Sundargarh                       0.028090\n",
       "Dhule                            0.028090\n",
       "Sawai Madhopur                   0.028090\n",
       "Kavali                           0.028090\n",
       "Nainital                         0.028090\n",
       "Akola                            0.028090\n",
       "Karnal                           0.028090\n",
       "Sultanpur                        0.028090\n",
       "Asansol                          0.028090\n",
       "Tadepalligudem                   0.028090\n",
       "Rawatbhata                       0.028090\n",
       "Sanduru                          0.028090\n",
       "Sambalpur                        0.028090\n",
       "Suryapet                         0.028090\n",
       "Murwara (Katni)                  0.028090\n",
       "Malda                            0.028090\n",
       "Bhilwara                         0.028090\n",
       "Bhubaneswar                      0.028090\n",
       "Mahbubnagar                      0.028090\n",
       "Rupnagar                         0.028090\n",
       "Jagdalpur                        0.028090\n",
       "Bhuj                             0.028090\n",
       "Medak                            0.028090\n",
       "Thammampatti                     0.028090\n",
       "Rajam                            0.028090\n",
       "Darjiling                        0.028090\n",
       "Tura                             0.028090\n",
       "Sangrur                          0.028090\n",
       "Rayagada                         0.028090\n",
       "Madhepura                        0.028090\n",
       "Oddanchatram                     0.028090\n",
       "Tirukkoyilur                     0.028090\n",
       "Thiruvallur                      0.028090\n",
       "Virudhachalam                    0.028090\n",
       "Name: city, dtype: float64"
      ]
     },
     "execution_count": 10,
     "metadata": {},
     "output_type": "execute_result"
    }
   ],
   "source": [
    "d['city'].value_counts(normalize=True)*100"
   ]
  },
  {
   "cell_type": "code",
   "execution_count": 11,
   "id": "cc15e414",
   "metadata": {},
   "outputs": [
    {
     "ename": "NameError",
     "evalue": "name 'df' is not defined",
     "output_type": "error",
     "traceback": [
      "\u001b[1;31m---------------------------------------------------------------------------\u001b[0m",
      "\u001b[1;31mNameError\u001b[0m                                 Traceback (most recent call last)",
      "\u001b[1;32m~\\AppData\\Local\\Temp/ipykernel_25152/2116954602.py\u001b[0m in \u001b[0;36m<module>\u001b[1;34m\u001b[0m\n\u001b[1;32m----> 1\u001b[1;33m \u001b[0mdf\u001b[0m\u001b[1;33m[\u001b[0m\u001b[1;34m'age'\u001b[0m\u001b[1;33m]\u001b[0m\u001b[1;33m.\u001b[0m\u001b[0mvalue_counts\u001b[0m\u001b[1;33m(\u001b[0m\u001b[0mnormalize\u001b[0m\u001b[1;33m=\u001b[0m\u001b[1;32mTrue\u001b[0m\u001b[1;33m)\u001b[0m\u001b[1;33m*\u001b[0m\u001b[1;36m100\u001b[0m\u001b[1;33m\u001b[0m\u001b[1;33m\u001b[0m\u001b[0m\n\u001b[0m",
      "\u001b[1;31mNameError\u001b[0m: name 'df' is not defined"
     ]
    }
   ],
   "source": [
    "df['age'].value_counts(normalize=True)*100"
   ]
  },
  {
   "cell_type": "code",
   "execution_count": null,
   "id": "222c4612",
   "metadata": {},
   "outputs": [],
   "source": [
    "# d['age_bins'] = pd.qcut(d['age'], q=6,precision=1)\n",
    "# #defaulted['quantile_ex_2'] = pd.qcut(defaulted['issue_amount'], q=10, precision=0)\n",
    "\n",
    "# d.head()"
   ]
  },
  {
   "cell_type": "code",
   "execution_count": 12,
   "id": "21fd419f",
   "metadata": {},
   "outputs": [],
   "source": [
    "# d['age_bins'] = d['age_bins'].astype(str)"
   ]
  },
  {
   "cell_type": "code",
   "execution_count": 13,
   "id": "a83101a3",
   "metadata": {},
   "outputs": [],
   "source": [
    "# d.age_bins.value_counts().iplot(kind='bar',xTitle='AGE ', yTitle='Number of Person')"
   ]
  },
  {
   "cell_type": "code",
   "execution_count": 14,
   "id": "f7a17a95",
   "metadata": {},
   "outputs": [],
   "source": [
    "# d.age_bins.value_counts(normalize=True)*100"
   ]
  },
  {
   "cell_type": "code",
   "execution_count": 15,
   "id": "5e104fac",
   "metadata": {},
   "outputs": [
    {
     "data": {
      "application/vnd.plotly.v1+json": {
       "config": {
        "linkText": "Export to plot.ly",
        "plotlyServerURL": "https://plot.ly",
        "showLink": true
       },
       "data": [
        {
         "marker": {
          "color": "rgba(219, 64, 82, 0.6)",
          "line": {
           "color": "rgba(219, 64, 82, 1.0)",
           "width": 1
          }
         },
         "name": "age",
         "orientation": "v",
         "text": "",
         "type": "bar",
         "x": [
          32,
          33,
          30,
          31,
          35,
          29,
          34,
          28,
          36,
          38,
          37,
          27,
          39,
          26,
          41,
          40,
          25,
          43,
          42,
          24,
          45,
          44,
          46,
          23,
          47,
          48,
          50,
          49,
          52,
          51,
          55,
          22,
          53,
          54,
          59,
          57,
          21,
          58
         ],
         "y": [
          236,
          219,
          214,
          197,
          178,
          177,
          172,
          166,
          162,
          134,
          123,
          109,
          104,
          93,
          83,
          80,
          70,
          47,
          46,
          42,
          28,
          26,
          21,
          18,
          14,
          13,
          11,
          10,
          10,
          8,
          3,
          3,
          2,
          2,
          1,
          1,
          1,
          1
         ]
        }
       ],
       "layout": {
        "legend": {
         "bgcolor": "#F5F6F9",
         "font": {
          "color": "#4D5663"
         }
        },
        "paper_bgcolor": "#F5F6F9",
        "plot_bgcolor": "#F5F6F9",
        "template": {
         "data": {
          "bar": [
           {
            "error_x": {
             "color": "#2a3f5f"
            },
            "error_y": {
             "color": "#2a3f5f"
            },
            "marker": {
             "line": {
              "color": "#E5ECF6",
              "width": 0.5
             },
             "pattern": {
              "fillmode": "overlay",
              "size": 10,
              "solidity": 0.2
             }
            },
            "type": "bar"
           }
          ],
          "barpolar": [
           {
            "marker": {
             "line": {
              "color": "#E5ECF6",
              "width": 0.5
             },
             "pattern": {
              "fillmode": "overlay",
              "size": 10,
              "solidity": 0.2
             }
            },
            "type": "barpolar"
           }
          ],
          "carpet": [
           {
            "aaxis": {
             "endlinecolor": "#2a3f5f",
             "gridcolor": "white",
             "linecolor": "white",
             "minorgridcolor": "white",
             "startlinecolor": "#2a3f5f"
            },
            "baxis": {
             "endlinecolor": "#2a3f5f",
             "gridcolor": "white",
             "linecolor": "white",
             "minorgridcolor": "white",
             "startlinecolor": "#2a3f5f"
            },
            "type": "carpet"
           }
          ],
          "choropleth": [
           {
            "colorbar": {
             "outlinewidth": 0,
             "ticks": ""
            },
            "type": "choropleth"
           }
          ],
          "contour": [
           {
            "colorbar": {
             "outlinewidth": 0,
             "ticks": ""
            },
            "colorscale": [
             [
              0,
              "#0d0887"
             ],
             [
              0.1111111111111111,
              "#46039f"
             ],
             [
              0.2222222222222222,
              "#7201a8"
             ],
             [
              0.3333333333333333,
              "#9c179e"
             ],
             [
              0.4444444444444444,
              "#bd3786"
             ],
             [
              0.5555555555555556,
              "#d8576b"
             ],
             [
              0.6666666666666666,
              "#ed7953"
             ],
             [
              0.7777777777777778,
              "#fb9f3a"
             ],
             [
              0.8888888888888888,
              "#fdca26"
             ],
             [
              1,
              "#f0f921"
             ]
            ],
            "type": "contour"
           }
          ],
          "contourcarpet": [
           {
            "colorbar": {
             "outlinewidth": 0,
             "ticks": ""
            },
            "type": "contourcarpet"
           }
          ],
          "heatmap": [
           {
            "colorbar": {
             "outlinewidth": 0,
             "ticks": ""
            },
            "colorscale": [
             [
              0,
              "#0d0887"
             ],
             [
              0.1111111111111111,
              "#46039f"
             ],
             [
              0.2222222222222222,
              "#7201a8"
             ],
             [
              0.3333333333333333,
              "#9c179e"
             ],
             [
              0.4444444444444444,
              "#bd3786"
             ],
             [
              0.5555555555555556,
              "#d8576b"
             ],
             [
              0.6666666666666666,
              "#ed7953"
             ],
             [
              0.7777777777777778,
              "#fb9f3a"
             ],
             [
              0.8888888888888888,
              "#fdca26"
             ],
             [
              1,
              "#f0f921"
             ]
            ],
            "type": "heatmap"
           }
          ],
          "heatmapgl": [
           {
            "colorbar": {
             "outlinewidth": 0,
             "ticks": ""
            },
            "colorscale": [
             [
              0,
              "#0d0887"
             ],
             [
              0.1111111111111111,
              "#46039f"
             ],
             [
              0.2222222222222222,
              "#7201a8"
             ],
             [
              0.3333333333333333,
              "#9c179e"
             ],
             [
              0.4444444444444444,
              "#bd3786"
             ],
             [
              0.5555555555555556,
              "#d8576b"
             ],
             [
              0.6666666666666666,
              "#ed7953"
             ],
             [
              0.7777777777777778,
              "#fb9f3a"
             ],
             [
              0.8888888888888888,
              "#fdca26"
             ],
             [
              1,
              "#f0f921"
             ]
            ],
            "type": "heatmapgl"
           }
          ],
          "histogram": [
           {
            "marker": {
             "pattern": {
              "fillmode": "overlay",
              "size": 10,
              "solidity": 0.2
             }
            },
            "type": "histogram"
           }
          ],
          "histogram2d": [
           {
            "colorbar": {
             "outlinewidth": 0,
             "ticks": ""
            },
            "colorscale": [
             [
              0,
              "#0d0887"
             ],
             [
              0.1111111111111111,
              "#46039f"
             ],
             [
              0.2222222222222222,
              "#7201a8"
             ],
             [
              0.3333333333333333,
              "#9c179e"
             ],
             [
              0.4444444444444444,
              "#bd3786"
             ],
             [
              0.5555555555555556,
              "#d8576b"
             ],
             [
              0.6666666666666666,
              "#ed7953"
             ],
             [
              0.7777777777777778,
              "#fb9f3a"
             ],
             [
              0.8888888888888888,
              "#fdca26"
             ],
             [
              1,
              "#f0f921"
             ]
            ],
            "type": "histogram2d"
           }
          ],
          "histogram2dcontour": [
           {
            "colorbar": {
             "outlinewidth": 0,
             "ticks": ""
            },
            "colorscale": [
             [
              0,
              "#0d0887"
             ],
             [
              0.1111111111111111,
              "#46039f"
             ],
             [
              0.2222222222222222,
              "#7201a8"
             ],
             [
              0.3333333333333333,
              "#9c179e"
             ],
             [
              0.4444444444444444,
              "#bd3786"
             ],
             [
              0.5555555555555556,
              "#d8576b"
             ],
             [
              0.6666666666666666,
              "#ed7953"
             ],
             [
              0.7777777777777778,
              "#fb9f3a"
             ],
             [
              0.8888888888888888,
              "#fdca26"
             ],
             [
              1,
              "#f0f921"
             ]
            ],
            "type": "histogram2dcontour"
           }
          ],
          "mesh3d": [
           {
            "colorbar": {
             "outlinewidth": 0,
             "ticks": ""
            },
            "type": "mesh3d"
           }
          ],
          "parcoords": [
           {
            "line": {
             "colorbar": {
              "outlinewidth": 0,
              "ticks": ""
             }
            },
            "type": "parcoords"
           }
          ],
          "pie": [
           {
            "automargin": true,
            "type": "pie"
           }
          ],
          "scatter": [
           {
            "marker": {
             "colorbar": {
              "outlinewidth": 0,
              "ticks": ""
             }
            },
            "type": "scatter"
           }
          ],
          "scatter3d": [
           {
            "line": {
             "colorbar": {
              "outlinewidth": 0,
              "ticks": ""
             }
            },
            "marker": {
             "colorbar": {
              "outlinewidth": 0,
              "ticks": ""
             }
            },
            "type": "scatter3d"
           }
          ],
          "scattercarpet": [
           {
            "marker": {
             "colorbar": {
              "outlinewidth": 0,
              "ticks": ""
             }
            },
            "type": "scattercarpet"
           }
          ],
          "scattergeo": [
           {
            "marker": {
             "colorbar": {
              "outlinewidth": 0,
              "ticks": ""
             }
            },
            "type": "scattergeo"
           }
          ],
          "scattergl": [
           {
            "marker": {
             "colorbar": {
              "outlinewidth": 0,
              "ticks": ""
             }
            },
            "type": "scattergl"
           }
          ],
          "scattermapbox": [
           {
            "marker": {
             "colorbar": {
              "outlinewidth": 0,
              "ticks": ""
             }
            },
            "type": "scattermapbox"
           }
          ],
          "scatterpolar": [
           {
            "marker": {
             "colorbar": {
              "outlinewidth": 0,
              "ticks": ""
             }
            },
            "type": "scatterpolar"
           }
          ],
          "scatterpolargl": [
           {
            "marker": {
             "colorbar": {
              "outlinewidth": 0,
              "ticks": ""
             }
            },
            "type": "scatterpolargl"
           }
          ],
          "scatterternary": [
           {
            "marker": {
             "colorbar": {
              "outlinewidth": 0,
              "ticks": ""
             }
            },
            "type": "scatterternary"
           }
          ],
          "surface": [
           {
            "colorbar": {
             "outlinewidth": 0,
             "ticks": ""
            },
            "colorscale": [
             [
              0,
              "#0d0887"
             ],
             [
              0.1111111111111111,
              "#46039f"
             ],
             [
              0.2222222222222222,
              "#7201a8"
             ],
             [
              0.3333333333333333,
              "#9c179e"
             ],
             [
              0.4444444444444444,
              "#bd3786"
             ],
             [
              0.5555555555555556,
              "#d8576b"
             ],
             [
              0.6666666666666666,
              "#ed7953"
             ],
             [
              0.7777777777777778,
              "#fb9f3a"
             ],
             [
              0.8888888888888888,
              "#fdca26"
             ],
             [
              1,
              "#f0f921"
             ]
            ],
            "type": "surface"
           }
          ],
          "table": [
           {
            "cells": {
             "fill": {
              "color": "#EBF0F8"
             },
             "line": {
              "color": "white"
             }
            },
            "header": {
             "fill": {
              "color": "#C8D4E3"
             },
             "line": {
              "color": "white"
             }
            },
            "type": "table"
           }
          ]
         },
         "layout": {
          "annotationdefaults": {
           "arrowcolor": "#2a3f5f",
           "arrowhead": 0,
           "arrowwidth": 1
          },
          "autotypenumbers": "strict",
          "coloraxis": {
           "colorbar": {
            "outlinewidth": 0,
            "ticks": ""
           }
          },
          "colorscale": {
           "diverging": [
            [
             0,
             "#8e0152"
            ],
            [
             0.1,
             "#c51b7d"
            ],
            [
             0.2,
             "#de77ae"
            ],
            [
             0.3,
             "#f1b6da"
            ],
            [
             0.4,
             "#fde0ef"
            ],
            [
             0.5,
             "#f7f7f7"
            ],
            [
             0.6,
             "#e6f5d0"
            ],
            [
             0.7,
             "#b8e186"
            ],
            [
             0.8,
             "#7fbc41"
            ],
            [
             0.9,
             "#4d9221"
            ],
            [
             1,
             "#276419"
            ]
           ],
           "sequential": [
            [
             0,
             "#0d0887"
            ],
            [
             0.1111111111111111,
             "#46039f"
            ],
            [
             0.2222222222222222,
             "#7201a8"
            ],
            [
             0.3333333333333333,
             "#9c179e"
            ],
            [
             0.4444444444444444,
             "#bd3786"
            ],
            [
             0.5555555555555556,
             "#d8576b"
            ],
            [
             0.6666666666666666,
             "#ed7953"
            ],
            [
             0.7777777777777778,
             "#fb9f3a"
            ],
            [
             0.8888888888888888,
             "#fdca26"
            ],
            [
             1,
             "#f0f921"
            ]
           ],
           "sequentialminus": [
            [
             0,
             "#0d0887"
            ],
            [
             0.1111111111111111,
             "#46039f"
            ],
            [
             0.2222222222222222,
             "#7201a8"
            ],
            [
             0.3333333333333333,
             "#9c179e"
            ],
            [
             0.4444444444444444,
             "#bd3786"
            ],
            [
             0.5555555555555556,
             "#d8576b"
            ],
            [
             0.6666666666666666,
             "#ed7953"
            ],
            [
             0.7777777777777778,
             "#fb9f3a"
            ],
            [
             0.8888888888888888,
             "#fdca26"
            ],
            [
             1,
             "#f0f921"
            ]
           ]
          },
          "colorway": [
           "#636efa",
           "#EF553B",
           "#00cc96",
           "#ab63fa",
           "#FFA15A",
           "#19d3f3",
           "#FF6692",
           "#B6E880",
           "#FF97FF",
           "#FECB52"
          ],
          "font": {
           "color": "#2a3f5f"
          },
          "geo": {
           "bgcolor": "white",
           "lakecolor": "white",
           "landcolor": "#E5ECF6",
           "showlakes": true,
           "showland": true,
           "subunitcolor": "white"
          },
          "hoverlabel": {
           "align": "left"
          },
          "hovermode": "closest",
          "mapbox": {
           "style": "light"
          },
          "paper_bgcolor": "white",
          "plot_bgcolor": "#E5ECF6",
          "polar": {
           "angularaxis": {
            "gridcolor": "white",
            "linecolor": "white",
            "ticks": ""
           },
           "bgcolor": "#E5ECF6",
           "radialaxis": {
            "gridcolor": "white",
            "linecolor": "white",
            "ticks": ""
           }
          },
          "scene": {
           "xaxis": {
            "backgroundcolor": "#E5ECF6",
            "gridcolor": "white",
            "gridwidth": 2,
            "linecolor": "white",
            "showbackground": true,
            "ticks": "",
            "zerolinecolor": "white"
           },
           "yaxis": {
            "backgroundcolor": "#E5ECF6",
            "gridcolor": "white",
            "gridwidth": 2,
            "linecolor": "white",
            "showbackground": true,
            "ticks": "",
            "zerolinecolor": "white"
           },
           "zaxis": {
            "backgroundcolor": "#E5ECF6",
            "gridcolor": "white",
            "gridwidth": 2,
            "linecolor": "white",
            "showbackground": true,
            "ticks": "",
            "zerolinecolor": "white"
           }
          },
          "shapedefaults": {
           "line": {
            "color": "#2a3f5f"
           }
          },
          "ternary": {
           "aaxis": {
            "gridcolor": "white",
            "linecolor": "white",
            "ticks": ""
           },
           "baxis": {
            "gridcolor": "white",
            "linecolor": "white",
            "ticks": ""
           },
           "bgcolor": "#E5ECF6",
           "caxis": {
            "gridcolor": "white",
            "linecolor": "white",
            "ticks": ""
           }
          },
          "title": {
           "x": 0.05
          },
          "xaxis": {
           "automargin": true,
           "gridcolor": "white",
           "linecolor": "white",
           "ticks": "",
           "title": {
            "standoff": 15
           },
           "zerolinecolor": "white",
           "zerolinewidth": 2
          },
          "yaxis": {
           "automargin": true,
           "gridcolor": "white",
           "linecolor": "white",
           "ticks": "",
           "title": {
            "standoff": 15
           },
           "zerolinecolor": "white",
           "zerolinewidth": 2
          }
         }
        },
        "title": {
         "font": {
          "color": "#4D5663"
         }
        },
        "xaxis": {
         "gridcolor": "#E1E5ED",
         "showgrid": true,
         "tickfont": {
          "color": "#4D5663"
         },
         "title": {
          "font": {
           "color": "#4D5663"
          },
          "text": "AGE "
         },
         "zerolinecolor": "#E1E5ED"
        },
        "yaxis": {
         "gridcolor": "#E1E5ED",
         "showgrid": true,
         "tickfont": {
          "color": "#4D5663"
         },
         "title": {
          "font": {
           "color": "#4D5663"
          },
          "text": "Number of Person"
         },
         "zerolinecolor": "#E1E5ED"
        }
       }
      },
      "text/html": [
       "<div>                            <div id=\"a0355b11-320d-4289-9723-5377b83ae0bc\" class=\"plotly-graph-div\" style=\"height:525px; width:100%;\"></div>            <script type=\"text/javascript\">                require([\"plotly\"], function(Plotly) {                    window.PLOTLYENV=window.PLOTLYENV || {};\n",
       "                    window.PLOTLYENV.BASE_URL='https://plot.ly';                                    if (document.getElementById(\"a0355b11-320d-4289-9723-5377b83ae0bc\")) {                    Plotly.newPlot(                        \"a0355b11-320d-4289-9723-5377b83ae0bc\",                        [{\"marker\":{\"color\":\"rgba(219, 64, 82, 0.6)\",\"line\":{\"color\":\"rgba(219, 64, 82, 1.0)\",\"width\":1}},\"name\":\"age\",\"orientation\":\"v\",\"text\":\"\",\"x\":[32.0,33.0,30.0,31.0,35.0,29.0,34.0,28.0,36.0,38.0,37.0,27.0,39.0,26.0,41.0,40.0,25.0,43.0,42.0,24.0,45.0,44.0,46.0,23.0,47.0,48.0,50.0,49.0,52.0,51.0,55.0,22.0,53.0,54.0,59.0,57.0,21.0,58.0],\"y\":[236,219,214,197,178,177,172,166,162,134,123,109,104,93,83,80,70,47,46,42,28,26,21,18,14,13,11,10,10,8,3,3,2,2,1,1,1,1],\"type\":\"bar\"}],                        {\"legend\":{\"bgcolor\":\"#F5F6F9\",\"font\":{\"color\":\"#4D5663\"}},\"paper_bgcolor\":\"#F5F6F9\",\"plot_bgcolor\":\"#F5F6F9\",\"template\":{\"data\":{\"barpolar\":[{\"marker\":{\"line\":{\"color\":\"#E5ECF6\",\"width\":0.5},\"pattern\":{\"fillmode\":\"overlay\",\"size\":10,\"solidity\":0.2}},\"type\":\"barpolar\"}],\"bar\":[{\"error_x\":{\"color\":\"#2a3f5f\"},\"error_y\":{\"color\":\"#2a3f5f\"},\"marker\":{\"line\":{\"color\":\"#E5ECF6\",\"width\":0.5},\"pattern\":{\"fillmode\":\"overlay\",\"size\":10,\"solidity\":0.2}},\"type\":\"bar\"}],\"carpet\":[{\"aaxis\":{\"endlinecolor\":\"#2a3f5f\",\"gridcolor\":\"white\",\"linecolor\":\"white\",\"minorgridcolor\":\"white\",\"startlinecolor\":\"#2a3f5f\"},\"baxis\":{\"endlinecolor\":\"#2a3f5f\",\"gridcolor\":\"white\",\"linecolor\":\"white\",\"minorgridcolor\":\"white\",\"startlinecolor\":\"#2a3f5f\"},\"type\":\"carpet\"}],\"choropleth\":[{\"colorbar\":{\"outlinewidth\":0,\"ticks\":\"\"},\"type\":\"choropleth\"}],\"contourcarpet\":[{\"colorbar\":{\"outlinewidth\":0,\"ticks\":\"\"},\"type\":\"contourcarpet\"}],\"contour\":[{\"colorbar\":{\"outlinewidth\":0,\"ticks\":\"\"},\"colorscale\":[[0.0,\"#0d0887\"],[0.1111111111111111,\"#46039f\"],[0.2222222222222222,\"#7201a8\"],[0.3333333333333333,\"#9c179e\"],[0.4444444444444444,\"#bd3786\"],[0.5555555555555556,\"#d8576b\"],[0.6666666666666666,\"#ed7953\"],[0.7777777777777778,\"#fb9f3a\"],[0.8888888888888888,\"#fdca26\"],[1.0,\"#f0f921\"]],\"type\":\"contour\"}],\"heatmapgl\":[{\"colorbar\":{\"outlinewidth\":0,\"ticks\":\"\"},\"colorscale\":[[0.0,\"#0d0887\"],[0.1111111111111111,\"#46039f\"],[0.2222222222222222,\"#7201a8\"],[0.3333333333333333,\"#9c179e\"],[0.4444444444444444,\"#bd3786\"],[0.5555555555555556,\"#d8576b\"],[0.6666666666666666,\"#ed7953\"],[0.7777777777777778,\"#fb9f3a\"],[0.8888888888888888,\"#fdca26\"],[1.0,\"#f0f921\"]],\"type\":\"heatmapgl\"}],\"heatmap\":[{\"colorbar\":{\"outlinewidth\":0,\"ticks\":\"\"},\"colorscale\":[[0.0,\"#0d0887\"],[0.1111111111111111,\"#46039f\"],[0.2222222222222222,\"#7201a8\"],[0.3333333333333333,\"#9c179e\"],[0.4444444444444444,\"#bd3786\"],[0.5555555555555556,\"#d8576b\"],[0.6666666666666666,\"#ed7953\"],[0.7777777777777778,\"#fb9f3a\"],[0.8888888888888888,\"#fdca26\"],[1.0,\"#f0f921\"]],\"type\":\"heatmap\"}],\"histogram2dcontour\":[{\"colorbar\":{\"outlinewidth\":0,\"ticks\":\"\"},\"colorscale\":[[0.0,\"#0d0887\"],[0.1111111111111111,\"#46039f\"],[0.2222222222222222,\"#7201a8\"],[0.3333333333333333,\"#9c179e\"],[0.4444444444444444,\"#bd3786\"],[0.5555555555555556,\"#d8576b\"],[0.6666666666666666,\"#ed7953\"],[0.7777777777777778,\"#fb9f3a\"],[0.8888888888888888,\"#fdca26\"],[1.0,\"#f0f921\"]],\"type\":\"histogram2dcontour\"}],\"histogram2d\":[{\"colorbar\":{\"outlinewidth\":0,\"ticks\":\"\"},\"colorscale\":[[0.0,\"#0d0887\"],[0.1111111111111111,\"#46039f\"],[0.2222222222222222,\"#7201a8\"],[0.3333333333333333,\"#9c179e\"],[0.4444444444444444,\"#bd3786\"],[0.5555555555555556,\"#d8576b\"],[0.6666666666666666,\"#ed7953\"],[0.7777777777777778,\"#fb9f3a\"],[0.8888888888888888,\"#fdca26\"],[1.0,\"#f0f921\"]],\"type\":\"histogram2d\"}],\"histogram\":[{\"marker\":{\"pattern\":{\"fillmode\":\"overlay\",\"size\":10,\"solidity\":0.2}},\"type\":\"histogram\"}],\"mesh3d\":[{\"colorbar\":{\"outlinewidth\":0,\"ticks\":\"\"},\"type\":\"mesh3d\"}],\"parcoords\":[{\"line\":{\"colorbar\":{\"outlinewidth\":0,\"ticks\":\"\"}},\"type\":\"parcoords\"}],\"pie\":[{\"automargin\":true,\"type\":\"pie\"}],\"scatter3d\":[{\"line\":{\"colorbar\":{\"outlinewidth\":0,\"ticks\":\"\"}},\"marker\":{\"colorbar\":{\"outlinewidth\":0,\"ticks\":\"\"}},\"type\":\"scatter3d\"}],\"scattercarpet\":[{\"marker\":{\"colorbar\":{\"outlinewidth\":0,\"ticks\":\"\"}},\"type\":\"scattercarpet\"}],\"scattergeo\":[{\"marker\":{\"colorbar\":{\"outlinewidth\":0,\"ticks\":\"\"}},\"type\":\"scattergeo\"}],\"scattergl\":[{\"marker\":{\"colorbar\":{\"outlinewidth\":0,\"ticks\":\"\"}},\"type\":\"scattergl\"}],\"scattermapbox\":[{\"marker\":{\"colorbar\":{\"outlinewidth\":0,\"ticks\":\"\"}},\"type\":\"scattermapbox\"}],\"scatterpolargl\":[{\"marker\":{\"colorbar\":{\"outlinewidth\":0,\"ticks\":\"\"}},\"type\":\"scatterpolargl\"}],\"scatterpolar\":[{\"marker\":{\"colorbar\":{\"outlinewidth\":0,\"ticks\":\"\"}},\"type\":\"scatterpolar\"}],\"scatter\":[{\"marker\":{\"colorbar\":{\"outlinewidth\":0,\"ticks\":\"\"}},\"type\":\"scatter\"}],\"scatterternary\":[{\"marker\":{\"colorbar\":{\"outlinewidth\":0,\"ticks\":\"\"}},\"type\":\"scatterternary\"}],\"surface\":[{\"colorbar\":{\"outlinewidth\":0,\"ticks\":\"\"},\"colorscale\":[[0.0,\"#0d0887\"],[0.1111111111111111,\"#46039f\"],[0.2222222222222222,\"#7201a8\"],[0.3333333333333333,\"#9c179e\"],[0.4444444444444444,\"#bd3786\"],[0.5555555555555556,\"#d8576b\"],[0.6666666666666666,\"#ed7953\"],[0.7777777777777778,\"#fb9f3a\"],[0.8888888888888888,\"#fdca26\"],[1.0,\"#f0f921\"]],\"type\":\"surface\"}],\"table\":[{\"cells\":{\"fill\":{\"color\":\"#EBF0F8\"},\"line\":{\"color\":\"white\"}},\"header\":{\"fill\":{\"color\":\"#C8D4E3\"},\"line\":{\"color\":\"white\"}},\"type\":\"table\"}]},\"layout\":{\"annotationdefaults\":{\"arrowcolor\":\"#2a3f5f\",\"arrowhead\":0,\"arrowwidth\":1},\"autotypenumbers\":\"strict\",\"coloraxis\":{\"colorbar\":{\"outlinewidth\":0,\"ticks\":\"\"}},\"colorscale\":{\"diverging\":[[0,\"#8e0152\"],[0.1,\"#c51b7d\"],[0.2,\"#de77ae\"],[0.3,\"#f1b6da\"],[0.4,\"#fde0ef\"],[0.5,\"#f7f7f7\"],[0.6,\"#e6f5d0\"],[0.7,\"#b8e186\"],[0.8,\"#7fbc41\"],[0.9,\"#4d9221\"],[1,\"#276419\"]],\"sequential\":[[0.0,\"#0d0887\"],[0.1111111111111111,\"#46039f\"],[0.2222222222222222,\"#7201a8\"],[0.3333333333333333,\"#9c179e\"],[0.4444444444444444,\"#bd3786\"],[0.5555555555555556,\"#d8576b\"],[0.6666666666666666,\"#ed7953\"],[0.7777777777777778,\"#fb9f3a\"],[0.8888888888888888,\"#fdca26\"],[1.0,\"#f0f921\"]],\"sequentialminus\":[[0.0,\"#0d0887\"],[0.1111111111111111,\"#46039f\"],[0.2222222222222222,\"#7201a8\"],[0.3333333333333333,\"#9c179e\"],[0.4444444444444444,\"#bd3786\"],[0.5555555555555556,\"#d8576b\"],[0.6666666666666666,\"#ed7953\"],[0.7777777777777778,\"#fb9f3a\"],[0.8888888888888888,\"#fdca26\"],[1.0,\"#f0f921\"]]},\"colorway\":[\"#636efa\",\"#EF553B\",\"#00cc96\",\"#ab63fa\",\"#FFA15A\",\"#19d3f3\",\"#FF6692\",\"#B6E880\",\"#FF97FF\",\"#FECB52\"],\"font\":{\"color\":\"#2a3f5f\"},\"geo\":{\"bgcolor\":\"white\",\"lakecolor\":\"white\",\"landcolor\":\"#E5ECF6\",\"showlakes\":true,\"showland\":true,\"subunitcolor\":\"white\"},\"hoverlabel\":{\"align\":\"left\"},\"hovermode\":\"closest\",\"mapbox\":{\"style\":\"light\"},\"paper_bgcolor\":\"white\",\"plot_bgcolor\":\"#E5ECF6\",\"polar\":{\"angularaxis\":{\"gridcolor\":\"white\",\"linecolor\":\"white\",\"ticks\":\"\"},\"bgcolor\":\"#E5ECF6\",\"radialaxis\":{\"gridcolor\":\"white\",\"linecolor\":\"white\",\"ticks\":\"\"}},\"scene\":{\"xaxis\":{\"backgroundcolor\":\"#E5ECF6\",\"gridcolor\":\"white\",\"gridwidth\":2,\"linecolor\":\"white\",\"showbackground\":true,\"ticks\":\"\",\"zerolinecolor\":\"white\"},\"yaxis\":{\"backgroundcolor\":\"#E5ECF6\",\"gridcolor\":\"white\",\"gridwidth\":2,\"linecolor\":\"white\",\"showbackground\":true,\"ticks\":\"\",\"zerolinecolor\":\"white\"},\"zaxis\":{\"backgroundcolor\":\"#E5ECF6\",\"gridcolor\":\"white\",\"gridwidth\":2,\"linecolor\":\"white\",\"showbackground\":true,\"ticks\":\"\",\"zerolinecolor\":\"white\"}},\"shapedefaults\":{\"line\":{\"color\":\"#2a3f5f\"}},\"ternary\":{\"aaxis\":{\"gridcolor\":\"white\",\"linecolor\":\"white\",\"ticks\":\"\"},\"baxis\":{\"gridcolor\":\"white\",\"linecolor\":\"white\",\"ticks\":\"\"},\"bgcolor\":\"#E5ECF6\",\"caxis\":{\"gridcolor\":\"white\",\"linecolor\":\"white\",\"ticks\":\"\"}},\"title\":{\"x\":0.05},\"xaxis\":{\"automargin\":true,\"gridcolor\":\"white\",\"linecolor\":\"white\",\"ticks\":\"\",\"title\":{\"standoff\":15},\"zerolinecolor\":\"white\",\"zerolinewidth\":2},\"yaxis\":{\"automargin\":true,\"gridcolor\":\"white\",\"linecolor\":\"white\",\"ticks\":\"\",\"title\":{\"standoff\":15},\"zerolinecolor\":\"white\",\"zerolinewidth\":2}}},\"title\":{\"font\":{\"color\":\"#4D5663\"}},\"xaxis\":{\"gridcolor\":\"#E1E5ED\",\"showgrid\":true,\"tickfont\":{\"color\":\"#4D5663\"},\"title\":{\"font\":{\"color\":\"#4D5663\"},\"text\":\"AGE \"},\"zerolinecolor\":\"#E1E5ED\"},\"yaxis\":{\"gridcolor\":\"#E1E5ED\",\"showgrid\":true,\"tickfont\":{\"color\":\"#4D5663\"},\"title\":{\"font\":{\"color\":\"#4D5663\"},\"text\":\"Number of Person\"},\"zerolinecolor\":\"#E1E5ED\"}},                        {\"showLink\": true, \"linkText\": \"Export to plot.ly\", \"plotlyServerURL\": \"https://plot.ly\", \"responsive\": true}                    ).then(function(){\n",
       "                            \n",
       "var gd = document.getElementById('a0355b11-320d-4289-9723-5377b83ae0bc');\n",
       "var x = new MutationObserver(function (mutations, observer) {{\n",
       "        var display = window.getComputedStyle(gd).display;\n",
       "        if (!display || display === 'none') {{\n",
       "            console.log([gd, 'removed!']);\n",
       "            Plotly.purge(gd);\n",
       "            observer.disconnect();\n",
       "        }}\n",
       "}});\n",
       "\n",
       "// Listen for the removal of the full notebook cells\n",
       "var notebookContainer = gd.closest('#notebook-container');\n",
       "if (notebookContainer) {{\n",
       "    x.observe(notebookContainer, {childList: true});\n",
       "}}\n",
       "\n",
       "// Listen for the clearing of the current output cell\n",
       "var outputEl = gd.closest('.output');\n",
       "if (outputEl) {{\n",
       "    x.observe(outputEl, {childList: true});\n",
       "}}\n",
       "\n",
       "                        })                };                });            </script>        </div>"
      ]
     },
     "metadata": {},
     "output_type": "display_data"
    },
    {
     "name": "stdout",
     "output_type": "stream",
     "text": [
      "mean age of populaation is:  33.855580482333146\n"
     ]
    }
   ],
   "source": [
    "df1.age.value_counts().iplot(kind='bar',xTitle='AGE ', yTitle='Number of Person', colors='red')\n",
    "print(\"mean age of populaation is: \",d.age.mean())"
   ]
  },
  {
   "cell_type": "code",
   "execution_count": 16,
   "id": "48f97420",
   "metadata": {},
   "outputs": [
    {
     "data": {
      "application/vnd.plotly.v1+json": {
       "config": {
        "linkText": "Export to plot.ly",
        "plotlyServerURL": "https://plot.ly",
        "showLink": true
       },
       "data": [
        {
         "marker": {
          "color": "rgba(255, 153, 51, 0.6)",
          "line": {
           "color": "rgba(255, 153, 51, 1.0)",
           "width": 1
          }
         },
         "name": "city",
         "orientation": "v",
         "text": "",
         "type": "bar",
         "x": [
          "Bangalore",
          "Hyderabad",
          "Chennai",
          "New Delhi",
          "Mumbai",
          "Pune",
          "Kolkata",
          "Thane",
          "Noida",
          "Gurgaon",
          "Coimbatore",
          "Ahmedabad",
          "Visakhapatnam",
          "Faridabad",
          "Vijayawada",
          "Ongole",
          "Anantapur",
          "Vadodara",
          "Nellore",
          "Nagpur",
          "Jaipur",
          "Chandigarh",
          "Guntur",
          "Salem",
          "Patna",
          "Bhubaneshwar",
          "Mysore",
          "Nashik",
          "Kancheepuram",
          "Chittoor",
          "Kochi",
          "Kadapa",
          "Vellore",
          "Madurai",
          "Lucknow",
          "Tiruchirappalli",
          "Amaravati",
          "Kurnool",
          "Tirupati",
          "Dehradun",
          "Warangal",
          "Meerut",
          "Ranchi",
          "Erode",
          "Bhopal",
          "Jamshedpur",
          "Hubli-Dharwad",
          "Thiruvananthapuram",
          "Pondicherry",
          "Varanasi",
          "Surat",
          "Khammam",
          "Kota",
          "Rajahmundry",
          "Jammu",
          "Panvel",
          "Kanpur",
          "Satara",
          "Tumkur",
          "Belagavi",
          "Guwahati",
          "Hisar",
          "Jodhpur",
          "Aurangabad (Maharashtra)",
          "Vasai-Virar",
          "Brahmapur",
          "Bikaner",
          "Mohali",
          "Prayagraj",
          "Tiruppur",
          "Indore",
          "Ratnagiri",
          "Panchkula",
          "Gwalior",
          "Mangaluru",
          "Kottayam",
          "Hugli-Chinsurah",
          "Kozhikode",
          "Karwar",
          "Pithoragarh",
          "Srikakulam",
          "Thanjavur",
          "Ludhiana",
          "Raipur",
          "Bharuch",
          "Alappuzha",
          "Kollam",
          "Viluppuram",
          "Alwar",
          "Shivamogga",
          "Bhimavaram",
          "Udaipur",
          "Begusarai",
          "Agra",
          "Nizamabad",
          "Kannur",
          "Talcher",
          "Rae Bareli",
          "Sangli",
          "Shahjahanpur",
          "Davanagere",
          "Cuttack",
          "Tenkasi",
          "Mandya",
          "Loni",
          "Tirunelveli",
          "Thrissur",
          "Ballari",
          "Madanapalle",
          "Virudhunagar",
          "Kalyan-Dombivali",
          "Proddatur",
          "Raigarh",
          "Rohtak",
          "Gurdaspur",
          "Miryalaguda",
          "Kakinada",
          "Latur",
          "Bhavnagar",
          "Karur",
          "Kharagpur",
          "Pudukkottai",
          "Pathankot",
          "Amritsar",
          "Haldwani-cum-Kathgodam",
          "Munger",
          "Markapur",
          "Faridkot",
          "Namakkal",
          "Rajapalayam",
          "Kolar",
          "Chirala",
          "Nagarkurnool",
          "Vijayapura",
          "Palampur",
          "Sikar",
          "Jhumri Tilaiya",
          "Nagapattinam",
          "Samastipur",
          "Muzaffarpur",
          "Robertsganj",
          "Panipat",
          "Bokaro Steel City",
          "Allahabad",
          "Eluru",
          "Hindupur",
          "Ahmednagar",
          "Rajampet",
          "Nagercoil",
          "Ramanathapuram",
          "Vizianagaram",
          "Mathura",
          "Gaya",
          "Pilani",
          "Srinagar (Jammu and Kashmir)",
          "Nellikuppam",
          "Narkatiaganj",
          "Darbhanga",
          "Rajkot",
          "Palwal",
          "Udhagamandalam",
          "Udupi",
          "Dibrugarh",
          "Jagtial",
          "Satna",
          "Palakkad",
          "Malkapur",
          "Tadpatri",
          "Bathinda",
          "Margao",
          "Hardwar",
          "Puttur (Andhra Pradesh)",
          "Amroha",
          "Bhilai Nagar",
          "Shamsabad, Farrukhabad",
          "Wardha",
          "Jalandhar",
          "Aligarh",
          "Anand",
          "Deoghar",
          "Gudivada",
          "Puri",
          "Rayadurg",
          "Tinsukia",
          "Shillong",
          "Purnia",
          "Shrirampur",
          "Mandapeta",
          "Palani",
          "Jalpaiguri",
          "Pachora",
          "Amravati",
          "Bhadrak",
          "Moradabad",
          "Valsad",
          "Solapur",
          "Maharajganj",
          "Shivpuri",
          "Sonipat",
          "Tiruchengode",
          "Shahganj",
          "Balaghat",
          "Kapurthala",
          "Thangadh",
          "Panaji",
          "Sagar",
          "Kasaragod",
          "Jorhat",
          "Padrauna",
          "Sasaram",
          "Hoshiarpur",
          "Amalapuram",
          "Tiruchendur",
          "Silchar",
          "Siwan",
          "Fatehabad",
          "Saharanpur",
          "Mandsaur",
          "Rishikesh",
          "Sakaleshapura",
          "Moga",
          "Lakhimpur",
          "Siliguri",
          "Lohardaga",
          "Machilipatnam",
          "Veraval",
          "Goa",
          "Ichalkaranji",
          "Nidadavole",
          "Firozabad",
          "Medinipur",
          "Bhongir",
          "Shamli",
          "Amalner",
          "Patan",
          "Durg",
          "Ranebennuru",
          "Sircilla",
          "Nelamangala",
          "North Lakhimpur",
          "Jaggaiahpet",
          "Sitamarhi",
          "Agartala",
          "Chilakaluripet",
          "Neemuch",
          "Sundargarh",
          "Dhule",
          "Sawai Madhopur",
          "Kavali",
          "Nainital",
          "Akola",
          "Karnal",
          "Sultanpur",
          "Asansol",
          "Tadepalligudem",
          "Rawatbhata",
          "Sanduru",
          "Sambalpur",
          "Suryapet",
          "Murwara (Katni)",
          "Malda",
          "Bhilwara",
          "Bhubaneswar",
          "Mahbubnagar",
          "Rupnagar",
          "Jagdalpur",
          "Bhuj",
          "Medak",
          "Thammampatti",
          "Rajam",
          "Darjiling",
          "Tura",
          "Sangrur",
          "Rayagada",
          "Madhepura",
          "Oddanchatram",
          "Tirukkoyilur",
          "Thiruvallur",
          "Virudhachalam"
         ],
         "y": [
          644,
          439,
          292,
          283,
          252,
          176,
          79,
          68,
          67,
          59,
          53,
          46,
          35,
          28,
          25,
          24,
          24,
          21,
          21,
          20,
          19,
          19,
          19,
          17,
          17,
          17,
          16,
          16,
          15,
          15,
          15,
          14,
          13,
          12,
          12,
          12,
          11,
          11,
          11,
          11,
          11,
          11,
          11,
          10,
          9,
          9,
          9,
          9,
          8,
          8,
          8,
          8,
          8,
          8,
          7,
          7,
          7,
          7,
          6,
          6,
          6,
          6,
          6,
          6,
          5,
          5,
          5,
          5,
          5,
          5,
          5,
          5,
          5,
          5,
          4,
          4,
          4,
          4,
          4,
          4,
          4,
          4,
          4,
          4,
          4,
          4,
          4,
          4,
          4,
          4,
          4,
          4,
          4,
          4,
          3,
          3,
          3,
          3,
          3,
          3,
          3,
          3,
          3,
          3,
          3,
          3,
          3,
          3,
          3,
          3,
          3,
          3,
          3,
          3,
          3,
          3,
          3,
          3,
          3,
          3,
          3,
          3,
          3,
          2,
          2,
          2,
          2,
          2,
          2,
          2,
          2,
          2,
          2,
          2,
          2,
          2,
          2,
          2,
          2,
          2,
          2,
          2,
          2,
          2,
          2,
          2,
          2,
          2,
          2,
          2,
          2,
          2,
          2,
          2,
          2,
          2,
          2,
          2,
          2,
          2,
          2,
          2,
          2,
          2,
          2,
          2,
          2,
          2,
          2,
          2,
          2,
          1,
          1,
          1,
          1,
          1,
          1,
          1,
          1,
          1,
          1,
          1,
          1,
          1,
          1,
          1,
          1,
          1,
          1,
          1,
          1,
          1,
          1,
          1,
          1,
          1,
          1,
          1,
          1,
          1,
          1,
          1,
          1,
          1,
          1,
          1,
          1,
          1,
          1,
          1,
          1,
          1,
          1,
          1,
          1,
          1,
          1,
          1,
          1,
          1,
          1,
          1,
          1,
          1,
          1,
          1,
          1,
          1,
          1,
          1,
          1,
          1,
          1,
          1,
          1,
          1,
          1,
          1,
          1,
          1,
          1,
          1,
          1,
          1,
          1,
          1,
          1,
          1,
          1,
          1,
          1,
          1,
          1,
          1,
          1,
          1,
          1,
          1,
          1,
          1,
          1,
          1,
          1,
          1,
          1,
          1,
          1,
          1,
          1,
          1,
          1,
          1,
          1,
          1,
          1,
          1,
          1,
          1,
          1
         ]
        }
       ],
       "layout": {
        "legend": {
         "bgcolor": "#F5F6F9",
         "font": {
          "color": "#4D5663"
         }
        },
        "paper_bgcolor": "#F5F6F9",
        "plot_bgcolor": "#F5F6F9",
        "template": {
         "data": {
          "bar": [
           {
            "error_x": {
             "color": "#2a3f5f"
            },
            "error_y": {
             "color": "#2a3f5f"
            },
            "marker": {
             "line": {
              "color": "#E5ECF6",
              "width": 0.5
             },
             "pattern": {
              "fillmode": "overlay",
              "size": 10,
              "solidity": 0.2
             }
            },
            "type": "bar"
           }
          ],
          "barpolar": [
           {
            "marker": {
             "line": {
              "color": "#E5ECF6",
              "width": 0.5
             },
             "pattern": {
              "fillmode": "overlay",
              "size": 10,
              "solidity": 0.2
             }
            },
            "type": "barpolar"
           }
          ],
          "carpet": [
           {
            "aaxis": {
             "endlinecolor": "#2a3f5f",
             "gridcolor": "white",
             "linecolor": "white",
             "minorgridcolor": "white",
             "startlinecolor": "#2a3f5f"
            },
            "baxis": {
             "endlinecolor": "#2a3f5f",
             "gridcolor": "white",
             "linecolor": "white",
             "minorgridcolor": "white",
             "startlinecolor": "#2a3f5f"
            },
            "type": "carpet"
           }
          ],
          "choropleth": [
           {
            "colorbar": {
             "outlinewidth": 0,
             "ticks": ""
            },
            "type": "choropleth"
           }
          ],
          "contour": [
           {
            "colorbar": {
             "outlinewidth": 0,
             "ticks": ""
            },
            "colorscale": [
             [
              0,
              "#0d0887"
             ],
             [
              0.1111111111111111,
              "#46039f"
             ],
             [
              0.2222222222222222,
              "#7201a8"
             ],
             [
              0.3333333333333333,
              "#9c179e"
             ],
             [
              0.4444444444444444,
              "#bd3786"
             ],
             [
              0.5555555555555556,
              "#d8576b"
             ],
             [
              0.6666666666666666,
              "#ed7953"
             ],
             [
              0.7777777777777778,
              "#fb9f3a"
             ],
             [
              0.8888888888888888,
              "#fdca26"
             ],
             [
              1,
              "#f0f921"
             ]
            ],
            "type": "contour"
           }
          ],
          "contourcarpet": [
           {
            "colorbar": {
             "outlinewidth": 0,
             "ticks": ""
            },
            "type": "contourcarpet"
           }
          ],
          "heatmap": [
           {
            "colorbar": {
             "outlinewidth": 0,
             "ticks": ""
            },
            "colorscale": [
             [
              0,
              "#0d0887"
             ],
             [
              0.1111111111111111,
              "#46039f"
             ],
             [
              0.2222222222222222,
              "#7201a8"
             ],
             [
              0.3333333333333333,
              "#9c179e"
             ],
             [
              0.4444444444444444,
              "#bd3786"
             ],
             [
              0.5555555555555556,
              "#d8576b"
             ],
             [
              0.6666666666666666,
              "#ed7953"
             ],
             [
              0.7777777777777778,
              "#fb9f3a"
             ],
             [
              0.8888888888888888,
              "#fdca26"
             ],
             [
              1,
              "#f0f921"
             ]
            ],
            "type": "heatmap"
           }
          ],
          "heatmapgl": [
           {
            "colorbar": {
             "outlinewidth": 0,
             "ticks": ""
            },
            "colorscale": [
             [
              0,
              "#0d0887"
             ],
             [
              0.1111111111111111,
              "#46039f"
             ],
             [
              0.2222222222222222,
              "#7201a8"
             ],
             [
              0.3333333333333333,
              "#9c179e"
             ],
             [
              0.4444444444444444,
              "#bd3786"
             ],
             [
              0.5555555555555556,
              "#d8576b"
             ],
             [
              0.6666666666666666,
              "#ed7953"
             ],
             [
              0.7777777777777778,
              "#fb9f3a"
             ],
             [
              0.8888888888888888,
              "#fdca26"
             ],
             [
              1,
              "#f0f921"
             ]
            ],
            "type": "heatmapgl"
           }
          ],
          "histogram": [
           {
            "marker": {
             "pattern": {
              "fillmode": "overlay",
              "size": 10,
              "solidity": 0.2
             }
            },
            "type": "histogram"
           }
          ],
          "histogram2d": [
           {
            "colorbar": {
             "outlinewidth": 0,
             "ticks": ""
            },
            "colorscale": [
             [
              0,
              "#0d0887"
             ],
             [
              0.1111111111111111,
              "#46039f"
             ],
             [
              0.2222222222222222,
              "#7201a8"
             ],
             [
              0.3333333333333333,
              "#9c179e"
             ],
             [
              0.4444444444444444,
              "#bd3786"
             ],
             [
              0.5555555555555556,
              "#d8576b"
             ],
             [
              0.6666666666666666,
              "#ed7953"
             ],
             [
              0.7777777777777778,
              "#fb9f3a"
             ],
             [
              0.8888888888888888,
              "#fdca26"
             ],
             [
              1,
              "#f0f921"
             ]
            ],
            "type": "histogram2d"
           }
          ],
          "histogram2dcontour": [
           {
            "colorbar": {
             "outlinewidth": 0,
             "ticks": ""
            },
            "colorscale": [
             [
              0,
              "#0d0887"
             ],
             [
              0.1111111111111111,
              "#46039f"
             ],
             [
              0.2222222222222222,
              "#7201a8"
             ],
             [
              0.3333333333333333,
              "#9c179e"
             ],
             [
              0.4444444444444444,
              "#bd3786"
             ],
             [
              0.5555555555555556,
              "#d8576b"
             ],
             [
              0.6666666666666666,
              "#ed7953"
             ],
             [
              0.7777777777777778,
              "#fb9f3a"
             ],
             [
              0.8888888888888888,
              "#fdca26"
             ],
             [
              1,
              "#f0f921"
             ]
            ],
            "type": "histogram2dcontour"
           }
          ],
          "mesh3d": [
           {
            "colorbar": {
             "outlinewidth": 0,
             "ticks": ""
            },
            "type": "mesh3d"
           }
          ],
          "parcoords": [
           {
            "line": {
             "colorbar": {
              "outlinewidth": 0,
              "ticks": ""
             }
            },
            "type": "parcoords"
           }
          ],
          "pie": [
           {
            "automargin": true,
            "type": "pie"
           }
          ],
          "scatter": [
           {
            "marker": {
             "colorbar": {
              "outlinewidth": 0,
              "ticks": ""
             }
            },
            "type": "scatter"
           }
          ],
          "scatter3d": [
           {
            "line": {
             "colorbar": {
              "outlinewidth": 0,
              "ticks": ""
             }
            },
            "marker": {
             "colorbar": {
              "outlinewidth": 0,
              "ticks": ""
             }
            },
            "type": "scatter3d"
           }
          ],
          "scattercarpet": [
           {
            "marker": {
             "colorbar": {
              "outlinewidth": 0,
              "ticks": ""
             }
            },
            "type": "scattercarpet"
           }
          ],
          "scattergeo": [
           {
            "marker": {
             "colorbar": {
              "outlinewidth": 0,
              "ticks": ""
             }
            },
            "type": "scattergeo"
           }
          ],
          "scattergl": [
           {
            "marker": {
             "colorbar": {
              "outlinewidth": 0,
              "ticks": ""
             }
            },
            "type": "scattergl"
           }
          ],
          "scattermapbox": [
           {
            "marker": {
             "colorbar": {
              "outlinewidth": 0,
              "ticks": ""
             }
            },
            "type": "scattermapbox"
           }
          ],
          "scatterpolar": [
           {
            "marker": {
             "colorbar": {
              "outlinewidth": 0,
              "ticks": ""
             }
            },
            "type": "scatterpolar"
           }
          ],
          "scatterpolargl": [
           {
            "marker": {
             "colorbar": {
              "outlinewidth": 0,
              "ticks": ""
             }
            },
            "type": "scatterpolargl"
           }
          ],
          "scatterternary": [
           {
            "marker": {
             "colorbar": {
              "outlinewidth": 0,
              "ticks": ""
             }
            },
            "type": "scatterternary"
           }
          ],
          "surface": [
           {
            "colorbar": {
             "outlinewidth": 0,
             "ticks": ""
            },
            "colorscale": [
             [
              0,
              "#0d0887"
             ],
             [
              0.1111111111111111,
              "#46039f"
             ],
             [
              0.2222222222222222,
              "#7201a8"
             ],
             [
              0.3333333333333333,
              "#9c179e"
             ],
             [
              0.4444444444444444,
              "#bd3786"
             ],
             [
              0.5555555555555556,
              "#d8576b"
             ],
             [
              0.6666666666666666,
              "#ed7953"
             ],
             [
              0.7777777777777778,
              "#fb9f3a"
             ],
             [
              0.8888888888888888,
              "#fdca26"
             ],
             [
              1,
              "#f0f921"
             ]
            ],
            "type": "surface"
           }
          ],
          "table": [
           {
            "cells": {
             "fill": {
              "color": "#EBF0F8"
             },
             "line": {
              "color": "white"
             }
            },
            "header": {
             "fill": {
              "color": "#C8D4E3"
             },
             "line": {
              "color": "white"
             }
            },
            "type": "table"
           }
          ]
         },
         "layout": {
          "annotationdefaults": {
           "arrowcolor": "#2a3f5f",
           "arrowhead": 0,
           "arrowwidth": 1
          },
          "autotypenumbers": "strict",
          "coloraxis": {
           "colorbar": {
            "outlinewidth": 0,
            "ticks": ""
           }
          },
          "colorscale": {
           "diverging": [
            [
             0,
             "#8e0152"
            ],
            [
             0.1,
             "#c51b7d"
            ],
            [
             0.2,
             "#de77ae"
            ],
            [
             0.3,
             "#f1b6da"
            ],
            [
             0.4,
             "#fde0ef"
            ],
            [
             0.5,
             "#f7f7f7"
            ],
            [
             0.6,
             "#e6f5d0"
            ],
            [
             0.7,
             "#b8e186"
            ],
            [
             0.8,
             "#7fbc41"
            ],
            [
             0.9,
             "#4d9221"
            ],
            [
             1,
             "#276419"
            ]
           ],
           "sequential": [
            [
             0,
             "#0d0887"
            ],
            [
             0.1111111111111111,
             "#46039f"
            ],
            [
             0.2222222222222222,
             "#7201a8"
            ],
            [
             0.3333333333333333,
             "#9c179e"
            ],
            [
             0.4444444444444444,
             "#bd3786"
            ],
            [
             0.5555555555555556,
             "#d8576b"
            ],
            [
             0.6666666666666666,
             "#ed7953"
            ],
            [
             0.7777777777777778,
             "#fb9f3a"
            ],
            [
             0.8888888888888888,
             "#fdca26"
            ],
            [
             1,
             "#f0f921"
            ]
           ],
           "sequentialminus": [
            [
             0,
             "#0d0887"
            ],
            [
             0.1111111111111111,
             "#46039f"
            ],
            [
             0.2222222222222222,
             "#7201a8"
            ],
            [
             0.3333333333333333,
             "#9c179e"
            ],
            [
             0.4444444444444444,
             "#bd3786"
            ],
            [
             0.5555555555555556,
             "#d8576b"
            ],
            [
             0.6666666666666666,
             "#ed7953"
            ],
            [
             0.7777777777777778,
             "#fb9f3a"
            ],
            [
             0.8888888888888888,
             "#fdca26"
            ],
            [
             1,
             "#f0f921"
            ]
           ]
          },
          "colorway": [
           "#636efa",
           "#EF553B",
           "#00cc96",
           "#ab63fa",
           "#FFA15A",
           "#19d3f3",
           "#FF6692",
           "#B6E880",
           "#FF97FF",
           "#FECB52"
          ],
          "font": {
           "color": "#2a3f5f"
          },
          "geo": {
           "bgcolor": "white",
           "lakecolor": "white",
           "landcolor": "#E5ECF6",
           "showlakes": true,
           "showland": true,
           "subunitcolor": "white"
          },
          "hoverlabel": {
           "align": "left"
          },
          "hovermode": "closest",
          "mapbox": {
           "style": "light"
          },
          "paper_bgcolor": "white",
          "plot_bgcolor": "#E5ECF6",
          "polar": {
           "angularaxis": {
            "gridcolor": "white",
            "linecolor": "white",
            "ticks": ""
           },
           "bgcolor": "#E5ECF6",
           "radialaxis": {
            "gridcolor": "white",
            "linecolor": "white",
            "ticks": ""
           }
          },
          "scene": {
           "xaxis": {
            "backgroundcolor": "#E5ECF6",
            "gridcolor": "white",
            "gridwidth": 2,
            "linecolor": "white",
            "showbackground": true,
            "ticks": "",
            "zerolinecolor": "white"
           },
           "yaxis": {
            "backgroundcolor": "#E5ECF6",
            "gridcolor": "white",
            "gridwidth": 2,
            "linecolor": "white",
            "showbackground": true,
            "ticks": "",
            "zerolinecolor": "white"
           },
           "zaxis": {
            "backgroundcolor": "#E5ECF6",
            "gridcolor": "white",
            "gridwidth": 2,
            "linecolor": "white",
            "showbackground": true,
            "ticks": "",
            "zerolinecolor": "white"
           }
          },
          "shapedefaults": {
           "line": {
            "color": "#2a3f5f"
           }
          },
          "ternary": {
           "aaxis": {
            "gridcolor": "white",
            "linecolor": "white",
            "ticks": ""
           },
           "baxis": {
            "gridcolor": "white",
            "linecolor": "white",
            "ticks": ""
           },
           "bgcolor": "#E5ECF6",
           "caxis": {
            "gridcolor": "white",
            "linecolor": "white",
            "ticks": ""
           }
          },
          "title": {
           "x": 0.05
          },
          "xaxis": {
           "automargin": true,
           "gridcolor": "white",
           "linecolor": "white",
           "ticks": "",
           "title": {
            "standoff": 15
           },
           "zerolinecolor": "white",
           "zerolinewidth": 2
          },
          "yaxis": {
           "automargin": true,
           "gridcolor": "white",
           "linecolor": "white",
           "ticks": "",
           "title": {
            "standoff": 15
           },
           "zerolinecolor": "white",
           "zerolinewidth": 2
          }
         }
        },
        "title": {
         "font": {
          "color": "#4D5663"
         }
        },
        "xaxis": {
         "gridcolor": "#E1E5ED",
         "showgrid": true,
         "tickfont": {
          "color": "#4D5663"
         },
         "title": {
          "font": {
           "color": "#4D5663"
          },
          "text": "city of living "
         },
         "zerolinecolor": "#E1E5ED"
        },
        "yaxis": {
         "gridcolor": "#E1E5ED",
         "showgrid": true,
         "tickfont": {
          "color": "#4D5663"
         },
         "title": {
          "font": {
           "color": "#4D5663"
          },
          "text": "Number of Person"
         },
         "zerolinecolor": "#E1E5ED"
        }
       }
      },
      "text/html": [
       "<div>                            <div id=\"d5ee16d5-e05c-4721-8fde-aea8e1b8317b\" class=\"plotly-graph-div\" style=\"height:525px; width:100%;\"></div>            <script type=\"text/javascript\">                require([\"plotly\"], function(Plotly) {                    window.PLOTLYENV=window.PLOTLYENV || {};\n",
       "                    window.PLOTLYENV.BASE_URL='https://plot.ly';                                    if (document.getElementById(\"d5ee16d5-e05c-4721-8fde-aea8e1b8317b\")) {                    Plotly.newPlot(                        \"d5ee16d5-e05c-4721-8fde-aea8e1b8317b\",                        [{\"marker\":{\"color\":\"rgba(255, 153, 51, 0.6)\",\"line\":{\"color\":\"rgba(255, 153, 51, 1.0)\",\"width\":1}},\"name\":\"city\",\"orientation\":\"v\",\"text\":\"\",\"x\":[\"Bangalore\",\"Hyderabad\",\"Chennai\",\"New Delhi\",\"Mumbai\",\"Pune\",\"Kolkata\",\"Thane\",\"Noida\",\"Gurgaon\",\"Coimbatore\",\"Ahmedabad\",\"Visakhapatnam\",\"Faridabad\",\"Vijayawada\",\"Ongole\",\"Anantapur\",\"Vadodara\",\"Nellore\",\"Nagpur\",\"Jaipur\",\"Chandigarh\",\"Guntur\",\"Salem\",\"Patna\",\"Bhubaneshwar\",\"Mysore\",\"Nashik\",\"Kancheepuram\",\"Chittoor\",\"Kochi\",\"Kadapa\",\"Vellore\",\"Madurai\",\"Lucknow\",\"Tiruchirappalli\",\"Amaravati\",\"Kurnool\",\"Tirupati\",\"Dehradun\",\"Warangal\",\"Meerut\",\"Ranchi\",\"Erode\",\"Bhopal\",\"Jamshedpur\",\"Hubli-Dharwad\",\"Thiruvananthapuram\",\"Pondicherry\",\"Varanasi\",\"Surat\",\"Khammam\",\"Kota\",\"Rajahmundry\",\"Jammu\",\"Panvel\",\"Kanpur\",\"Satara\",\"Tumkur\",\"Belagavi\",\"Guwahati\",\"Hisar\",\"Jodhpur\",\"Aurangabad (Maharashtra)\",\"Vasai-Virar\",\"Brahmapur\",\"Bikaner\",\"Mohali\",\"Prayagraj\",\"Tiruppur\",\"Indore\",\"Ratnagiri\",\"Panchkula\",\"Gwalior\",\"Mangaluru\",\"Kottayam\",\"Hugli-Chinsurah\",\"Kozhikode\",\"Karwar\",\"Pithoragarh\",\"Srikakulam\",\"Thanjavur\",\"Ludhiana\",\"Raipur\",\"Bharuch\",\"Alappuzha\",\"Kollam\",\"Viluppuram\",\"Alwar\",\"Shivamogga\",\"Bhimavaram\",\"Udaipur\",\"Begusarai\",\"Agra\",\"Nizamabad\",\"Kannur\",\"Talcher\",\"Rae Bareli\",\"Sangli\",\"Shahjahanpur\",\"Davanagere\",\"Cuttack\",\"Tenkasi\",\"Mandya\",\"Loni\",\"Tirunelveli\",\"Thrissur\",\"Ballari\",\"Madanapalle\",\"Virudhunagar\",\"Kalyan-Dombivali\",\"Proddatur\",\"Raigarh\",\"Rohtak\",\"Gurdaspur\",\"Miryalaguda\",\"Kakinada\",\"Latur\",\"Bhavnagar\",\"Karur\",\"Kharagpur\",\"Pudukkottai\",\"Pathankot\",\"Amritsar\",\"Haldwani-cum-Kathgodam\",\"Munger\",\"Markapur\",\"Faridkot\",\"Namakkal\",\"Rajapalayam\",\"Kolar\",\"Chirala\",\"Nagarkurnool\",\"Vijayapura\",\"Palampur\",\"Sikar\",\"Jhumri Tilaiya\",\"Nagapattinam\",\"Samastipur\",\"Muzaffarpur\",\"Robertsganj\",\"Panipat\",\"Bokaro Steel City\",\"Allahabad\",\"Eluru\",\"Hindupur\",\"Ahmednagar\",\"Rajampet\",\"Nagercoil\",\"Ramanathapuram\",\"Vizianagaram\",\"Mathura\",\"Gaya\",\"Pilani\",\"Srinagar (Jammu and Kashmir)\",\"Nellikuppam\",\"Narkatiaganj\",\"Darbhanga\",\"Rajkot\",\"Palwal\",\"Udhagamandalam\",\"Udupi\",\"Dibrugarh\",\"Jagtial\",\"Satna\",\"Palakkad\",\"Malkapur\",\"Tadpatri\",\"Bathinda\",\"Margao\",\"Hardwar\",\"Puttur (Andhra Pradesh)\",\"Amroha\",\"Bhilai Nagar\",\"Shamsabad, Farrukhabad\",\"Wardha\",\"Jalandhar\",\"Aligarh\",\"Anand\",\"Deoghar\",\"Gudivada\",\"Puri\",\"Rayadurg\",\"Tinsukia\",\"Shillong\",\"Purnia\",\"Shrirampur\",\"Mandapeta\",\"Palani\",\"Jalpaiguri\",\"Pachora\",\"Amravati\",\"Bhadrak\",\"Moradabad\",\"Valsad\",\"Solapur\",\"Maharajganj\",\"Shivpuri\",\"Sonipat\",\"Tiruchengode\",\"Shahganj\",\"Balaghat\",\"Kapurthala\",\"Thangadh\",\"Panaji\",\"Sagar\",\"Kasaragod\",\"Jorhat\",\"Padrauna\",\"Sasaram\",\"Hoshiarpur\",\"Amalapuram\",\"Tiruchendur\",\"Silchar\",\"Siwan\",\"Fatehabad\",\"Saharanpur\",\"Mandsaur\",\"Rishikesh\",\"Sakaleshapura\",\"Moga\",\"Lakhimpur\",\"Siliguri\",\"Lohardaga\",\"Machilipatnam\",\"Veraval\",\"Goa\",\"Ichalkaranji\",\"Nidadavole\",\"Firozabad\",\"Medinipur\",\"Bhongir\",\"Shamli\",\"Amalner\",\"Patan\",\"Durg\",\"Ranebennuru\",\"Sircilla\",\"Nelamangala\",\"North Lakhimpur\",\"Jaggaiahpet\",\"Sitamarhi\",\"Agartala\",\"Chilakaluripet\",\"Neemuch\",\"Sundargarh\",\"Dhule\",\"Sawai Madhopur\",\"Kavali\",\"Nainital\",\"Akola\",\"Karnal\",\"Sultanpur\",\"Asansol\",\"Tadepalligudem\",\"Rawatbhata\",\"Sanduru\",\"Sambalpur\",\"Suryapet\",\"Murwara (Katni)\",\"Malda\",\"Bhilwara\",\"Bhubaneswar\",\"Mahbubnagar\",\"Rupnagar\",\"Jagdalpur\",\"Bhuj\",\"Medak\",\"Thammampatti\",\"Rajam\",\"Darjiling\",\"Tura\",\"Sangrur\",\"Rayagada\",\"Madhepura\",\"Oddanchatram\",\"Tirukkoyilur\",\"Thiruvallur\",\"Virudhachalam\"],\"y\":[644,439,292,283,252,176,79,68,67,59,53,46,35,28,25,24,24,21,21,20,19,19,19,17,17,17,16,16,15,15,15,14,13,12,12,12,11,11,11,11,11,11,11,10,9,9,9,9,8,8,8,8,8,8,7,7,7,7,6,6,6,6,6,6,5,5,5,5,5,5,5,5,5,5,4,4,4,4,4,4,4,4,4,4,4,4,4,4,4,4,4,4,4,4,3,3,3,3,3,3,3,3,3,3,3,3,3,3,3,3,3,3,3,3,3,3,3,3,3,3,3,3,3,2,2,2,2,2,2,2,2,2,2,2,2,2,2,2,2,2,2,2,2,2,2,2,2,2,2,2,2,2,2,2,2,2,2,2,2,2,2,2,2,2,2,2,2,2,2,2,2,1,1,1,1,1,1,1,1,1,1,1,1,1,1,1,1,1,1,1,1,1,1,1,1,1,1,1,1,1,1,1,1,1,1,1,1,1,1,1,1,1,1,1,1,1,1,1,1,1,1,1,1,1,1,1,1,1,1,1,1,1,1,1,1,1,1,1,1,1,1,1,1,1,1,1,1,1,1,1,1,1,1,1,1,1,1,1,1,1,1,1,1,1,1,1,1,1,1,1,1,1,1,1,1,1,1,1,1],\"type\":\"bar\"}],                        {\"legend\":{\"bgcolor\":\"#F5F6F9\",\"font\":{\"color\":\"#4D5663\"}},\"paper_bgcolor\":\"#F5F6F9\",\"plot_bgcolor\":\"#F5F6F9\",\"template\":{\"data\":{\"barpolar\":[{\"marker\":{\"line\":{\"color\":\"#E5ECF6\",\"width\":0.5},\"pattern\":{\"fillmode\":\"overlay\",\"size\":10,\"solidity\":0.2}},\"type\":\"barpolar\"}],\"bar\":[{\"error_x\":{\"color\":\"#2a3f5f\"},\"error_y\":{\"color\":\"#2a3f5f\"},\"marker\":{\"line\":{\"color\":\"#E5ECF6\",\"width\":0.5},\"pattern\":{\"fillmode\":\"overlay\",\"size\":10,\"solidity\":0.2}},\"type\":\"bar\"}],\"carpet\":[{\"aaxis\":{\"endlinecolor\":\"#2a3f5f\",\"gridcolor\":\"white\",\"linecolor\":\"white\",\"minorgridcolor\":\"white\",\"startlinecolor\":\"#2a3f5f\"},\"baxis\":{\"endlinecolor\":\"#2a3f5f\",\"gridcolor\":\"white\",\"linecolor\":\"white\",\"minorgridcolor\":\"white\",\"startlinecolor\":\"#2a3f5f\"},\"type\":\"carpet\"}],\"choropleth\":[{\"colorbar\":{\"outlinewidth\":0,\"ticks\":\"\"},\"type\":\"choropleth\"}],\"contourcarpet\":[{\"colorbar\":{\"outlinewidth\":0,\"ticks\":\"\"},\"type\":\"contourcarpet\"}],\"contour\":[{\"colorbar\":{\"outlinewidth\":0,\"ticks\":\"\"},\"colorscale\":[[0.0,\"#0d0887\"],[0.1111111111111111,\"#46039f\"],[0.2222222222222222,\"#7201a8\"],[0.3333333333333333,\"#9c179e\"],[0.4444444444444444,\"#bd3786\"],[0.5555555555555556,\"#d8576b\"],[0.6666666666666666,\"#ed7953\"],[0.7777777777777778,\"#fb9f3a\"],[0.8888888888888888,\"#fdca26\"],[1.0,\"#f0f921\"]],\"type\":\"contour\"}],\"heatmapgl\":[{\"colorbar\":{\"outlinewidth\":0,\"ticks\":\"\"},\"colorscale\":[[0.0,\"#0d0887\"],[0.1111111111111111,\"#46039f\"],[0.2222222222222222,\"#7201a8\"],[0.3333333333333333,\"#9c179e\"],[0.4444444444444444,\"#bd3786\"],[0.5555555555555556,\"#d8576b\"],[0.6666666666666666,\"#ed7953\"],[0.7777777777777778,\"#fb9f3a\"],[0.8888888888888888,\"#fdca26\"],[1.0,\"#f0f921\"]],\"type\":\"heatmapgl\"}],\"heatmap\":[{\"colorbar\":{\"outlinewidth\":0,\"ticks\":\"\"},\"colorscale\":[[0.0,\"#0d0887\"],[0.1111111111111111,\"#46039f\"],[0.2222222222222222,\"#7201a8\"],[0.3333333333333333,\"#9c179e\"],[0.4444444444444444,\"#bd3786\"],[0.5555555555555556,\"#d8576b\"],[0.6666666666666666,\"#ed7953\"],[0.7777777777777778,\"#fb9f3a\"],[0.8888888888888888,\"#fdca26\"],[1.0,\"#f0f921\"]],\"type\":\"heatmap\"}],\"histogram2dcontour\":[{\"colorbar\":{\"outlinewidth\":0,\"ticks\":\"\"},\"colorscale\":[[0.0,\"#0d0887\"],[0.1111111111111111,\"#46039f\"],[0.2222222222222222,\"#7201a8\"],[0.3333333333333333,\"#9c179e\"],[0.4444444444444444,\"#bd3786\"],[0.5555555555555556,\"#d8576b\"],[0.6666666666666666,\"#ed7953\"],[0.7777777777777778,\"#fb9f3a\"],[0.8888888888888888,\"#fdca26\"],[1.0,\"#f0f921\"]],\"type\":\"histogram2dcontour\"}],\"histogram2d\":[{\"colorbar\":{\"outlinewidth\":0,\"ticks\":\"\"},\"colorscale\":[[0.0,\"#0d0887\"],[0.1111111111111111,\"#46039f\"],[0.2222222222222222,\"#7201a8\"],[0.3333333333333333,\"#9c179e\"],[0.4444444444444444,\"#bd3786\"],[0.5555555555555556,\"#d8576b\"],[0.6666666666666666,\"#ed7953\"],[0.7777777777777778,\"#fb9f3a\"],[0.8888888888888888,\"#fdca26\"],[1.0,\"#f0f921\"]],\"type\":\"histogram2d\"}],\"histogram\":[{\"marker\":{\"pattern\":{\"fillmode\":\"overlay\",\"size\":10,\"solidity\":0.2}},\"type\":\"histogram\"}],\"mesh3d\":[{\"colorbar\":{\"outlinewidth\":0,\"ticks\":\"\"},\"type\":\"mesh3d\"}],\"parcoords\":[{\"line\":{\"colorbar\":{\"outlinewidth\":0,\"ticks\":\"\"}},\"type\":\"parcoords\"}],\"pie\":[{\"automargin\":true,\"type\":\"pie\"}],\"scatter3d\":[{\"line\":{\"colorbar\":{\"outlinewidth\":0,\"ticks\":\"\"}},\"marker\":{\"colorbar\":{\"outlinewidth\":0,\"ticks\":\"\"}},\"type\":\"scatter3d\"}],\"scattercarpet\":[{\"marker\":{\"colorbar\":{\"outlinewidth\":0,\"ticks\":\"\"}},\"type\":\"scattercarpet\"}],\"scattergeo\":[{\"marker\":{\"colorbar\":{\"outlinewidth\":0,\"ticks\":\"\"}},\"type\":\"scattergeo\"}],\"scattergl\":[{\"marker\":{\"colorbar\":{\"outlinewidth\":0,\"ticks\":\"\"}},\"type\":\"scattergl\"}],\"scattermapbox\":[{\"marker\":{\"colorbar\":{\"outlinewidth\":0,\"ticks\":\"\"}},\"type\":\"scattermapbox\"}],\"scatterpolargl\":[{\"marker\":{\"colorbar\":{\"outlinewidth\":0,\"ticks\":\"\"}},\"type\":\"scatterpolargl\"}],\"scatterpolar\":[{\"marker\":{\"colorbar\":{\"outlinewidth\":0,\"ticks\":\"\"}},\"type\":\"scatterpolar\"}],\"scatter\":[{\"marker\":{\"colorbar\":{\"outlinewidth\":0,\"ticks\":\"\"}},\"type\":\"scatter\"}],\"scatterternary\":[{\"marker\":{\"colorbar\":{\"outlinewidth\":0,\"ticks\":\"\"}},\"type\":\"scatterternary\"}],\"surface\":[{\"colorbar\":{\"outlinewidth\":0,\"ticks\":\"\"},\"colorscale\":[[0.0,\"#0d0887\"],[0.1111111111111111,\"#46039f\"],[0.2222222222222222,\"#7201a8\"],[0.3333333333333333,\"#9c179e\"],[0.4444444444444444,\"#bd3786\"],[0.5555555555555556,\"#d8576b\"],[0.6666666666666666,\"#ed7953\"],[0.7777777777777778,\"#fb9f3a\"],[0.8888888888888888,\"#fdca26\"],[1.0,\"#f0f921\"]],\"type\":\"surface\"}],\"table\":[{\"cells\":{\"fill\":{\"color\":\"#EBF0F8\"},\"line\":{\"color\":\"white\"}},\"header\":{\"fill\":{\"color\":\"#C8D4E3\"},\"line\":{\"color\":\"white\"}},\"type\":\"table\"}]},\"layout\":{\"annotationdefaults\":{\"arrowcolor\":\"#2a3f5f\",\"arrowhead\":0,\"arrowwidth\":1},\"autotypenumbers\":\"strict\",\"coloraxis\":{\"colorbar\":{\"outlinewidth\":0,\"ticks\":\"\"}},\"colorscale\":{\"diverging\":[[0,\"#8e0152\"],[0.1,\"#c51b7d\"],[0.2,\"#de77ae\"],[0.3,\"#f1b6da\"],[0.4,\"#fde0ef\"],[0.5,\"#f7f7f7\"],[0.6,\"#e6f5d0\"],[0.7,\"#b8e186\"],[0.8,\"#7fbc41\"],[0.9,\"#4d9221\"],[1,\"#276419\"]],\"sequential\":[[0.0,\"#0d0887\"],[0.1111111111111111,\"#46039f\"],[0.2222222222222222,\"#7201a8\"],[0.3333333333333333,\"#9c179e\"],[0.4444444444444444,\"#bd3786\"],[0.5555555555555556,\"#d8576b\"],[0.6666666666666666,\"#ed7953\"],[0.7777777777777778,\"#fb9f3a\"],[0.8888888888888888,\"#fdca26\"],[1.0,\"#f0f921\"]],\"sequentialminus\":[[0.0,\"#0d0887\"],[0.1111111111111111,\"#46039f\"],[0.2222222222222222,\"#7201a8\"],[0.3333333333333333,\"#9c179e\"],[0.4444444444444444,\"#bd3786\"],[0.5555555555555556,\"#d8576b\"],[0.6666666666666666,\"#ed7953\"],[0.7777777777777778,\"#fb9f3a\"],[0.8888888888888888,\"#fdca26\"],[1.0,\"#f0f921\"]]},\"colorway\":[\"#636efa\",\"#EF553B\",\"#00cc96\",\"#ab63fa\",\"#FFA15A\",\"#19d3f3\",\"#FF6692\",\"#B6E880\",\"#FF97FF\",\"#FECB52\"],\"font\":{\"color\":\"#2a3f5f\"},\"geo\":{\"bgcolor\":\"white\",\"lakecolor\":\"white\",\"landcolor\":\"#E5ECF6\",\"showlakes\":true,\"showland\":true,\"subunitcolor\":\"white\"},\"hoverlabel\":{\"align\":\"left\"},\"hovermode\":\"closest\",\"mapbox\":{\"style\":\"light\"},\"paper_bgcolor\":\"white\",\"plot_bgcolor\":\"#E5ECF6\",\"polar\":{\"angularaxis\":{\"gridcolor\":\"white\",\"linecolor\":\"white\",\"ticks\":\"\"},\"bgcolor\":\"#E5ECF6\",\"radialaxis\":{\"gridcolor\":\"white\",\"linecolor\":\"white\",\"ticks\":\"\"}},\"scene\":{\"xaxis\":{\"backgroundcolor\":\"#E5ECF6\",\"gridcolor\":\"white\",\"gridwidth\":2,\"linecolor\":\"white\",\"showbackground\":true,\"ticks\":\"\",\"zerolinecolor\":\"white\"},\"yaxis\":{\"backgroundcolor\":\"#E5ECF6\",\"gridcolor\":\"white\",\"gridwidth\":2,\"linecolor\":\"white\",\"showbackground\":true,\"ticks\":\"\",\"zerolinecolor\":\"white\"},\"zaxis\":{\"backgroundcolor\":\"#E5ECF6\",\"gridcolor\":\"white\",\"gridwidth\":2,\"linecolor\":\"white\",\"showbackground\":true,\"ticks\":\"\",\"zerolinecolor\":\"white\"}},\"shapedefaults\":{\"line\":{\"color\":\"#2a3f5f\"}},\"ternary\":{\"aaxis\":{\"gridcolor\":\"white\",\"linecolor\":\"white\",\"ticks\":\"\"},\"baxis\":{\"gridcolor\":\"white\",\"linecolor\":\"white\",\"ticks\":\"\"},\"bgcolor\":\"#E5ECF6\",\"caxis\":{\"gridcolor\":\"white\",\"linecolor\":\"white\",\"ticks\":\"\"}},\"title\":{\"x\":0.05},\"xaxis\":{\"automargin\":true,\"gridcolor\":\"white\",\"linecolor\":\"white\",\"ticks\":\"\",\"title\":{\"standoff\":15},\"zerolinecolor\":\"white\",\"zerolinewidth\":2},\"yaxis\":{\"automargin\":true,\"gridcolor\":\"white\",\"linecolor\":\"white\",\"ticks\":\"\",\"title\":{\"standoff\":15},\"zerolinecolor\":\"white\",\"zerolinewidth\":2}}},\"title\":{\"font\":{\"color\":\"#4D5663\"}},\"xaxis\":{\"gridcolor\":\"#E1E5ED\",\"showgrid\":true,\"tickfont\":{\"color\":\"#4D5663\"},\"title\":{\"font\":{\"color\":\"#4D5663\"},\"text\":\"city of living \"},\"zerolinecolor\":\"#E1E5ED\"},\"yaxis\":{\"gridcolor\":\"#E1E5ED\",\"showgrid\":true,\"tickfont\":{\"color\":\"#4D5663\"},\"title\":{\"font\":{\"color\":\"#4D5663\"},\"text\":\"Number of Person\"},\"zerolinecolor\":\"#E1E5ED\"}},                        {\"showLink\": true, \"linkText\": \"Export to plot.ly\", \"plotlyServerURL\": \"https://plot.ly\", \"responsive\": true}                    ).then(function(){\n",
       "                            \n",
       "var gd = document.getElementById('d5ee16d5-e05c-4721-8fde-aea8e1b8317b');\n",
       "var x = new MutationObserver(function (mutations, observer) {{\n",
       "        var display = window.getComputedStyle(gd).display;\n",
       "        if (!display || display === 'none') {{\n",
       "            console.log([gd, 'removed!']);\n",
       "            Plotly.purge(gd);\n",
       "            observer.disconnect();\n",
       "        }}\n",
       "}});\n",
       "\n",
       "// Listen for the removal of the full notebook cells\n",
       "var notebookContainer = gd.closest('#notebook-container');\n",
       "if (notebookContainer) {{\n",
       "    x.observe(notebookContainer, {childList: true});\n",
       "}}\n",
       "\n",
       "// Listen for the clearing of the current output cell\n",
       "var outputEl = gd.closest('.output');\n",
       "if (outputEl) {{\n",
       "    x.observe(outputEl, {childList: true});\n",
       "}}\n",
       "\n",
       "                        })                };                });            </script>        </div>"
      ]
     },
     "metadata": {},
     "output_type": "display_data"
    }
   ],
   "source": [
    "d.city.value_counts().iplot(kind='bar',xTitle='city of living ', yTitle='Number of Person')"
   ]
  },
  {
   "cell_type": "code",
   "execution_count": 17,
   "id": "9ee512f8",
   "metadata": {},
   "outputs": [],
   "source": [
    "# df1['salary_bins'] = pd.qcut(df1['proinfo_monthly_sal'], q=5, precision=1)\n",
    "# #defaulted['quantile_ex_2'] = pd.qcut(defaulted['issue_amount'], q=10, precision=0)\n",
    "\n",
    "# d.head()"
   ]
  },
  {
   "cell_type": "code",
   "execution_count": 18,
   "id": "a483d1d8",
   "metadata": {},
   "outputs": [],
   "source": [
    "# d['salary_bins'] = d['salary_bins'].astype(str)"
   ]
  },
  {
   "cell_type": "code",
   "execution_count": 19,
   "id": "e444a313",
   "metadata": {},
   "outputs": [],
   "source": [
    "# d['salary_bins'].value_counts(sort=False)"
   ]
  },
  {
   "cell_type": "code",
   "execution_count": 20,
   "id": "52ba9b1b",
   "metadata": {},
   "outputs": [],
   "source": [
    "# d.salary_bins.value_counts(ascending=True ).iplot(kind='bar')"
   ]
  },
  {
   "cell_type": "code",
   "execution_count": 21,
   "id": "82727e88",
   "metadata": {},
   "outputs": [],
   "source": [
    "# d['proinfo_monthly_sal'].isna().sum()"
   ]
  },
  {
   "cell_type": "code",
   "execution_count": 22,
   "id": "e23d387f",
   "metadata": {},
   "outputs": [],
   "source": [
    "# d.isna().sum()"
   ]
  },
  {
   "cell_type": "code",
   "execution_count": 23,
   "id": "31947d45",
   "metadata": {},
   "outputs": [],
   "source": [
    "# d.nunique(axis = 0, dropna = True)"
   ]
  },
  {
   "cell_type": "code",
   "execution_count": 24,
   "id": "6f5d457d",
   "metadata": {},
   "outputs": [],
   "source": [
    "# d.shape"
   ]
  },
  {
   "cell_type": "code",
   "execution_count": 25,
   "id": "1fc13e7d",
   "metadata": {},
   "outputs": [
    {
     "data": {
      "application/vnd.plotly.v1+json": {
       "config": {
        "linkText": "Export to plot.ly",
        "plotlyServerURL": "https://plot.ly",
        "showLink": true
       },
       "data": [
        {
         "marker": {
          "color": "rgba(255, 153, 51, 0.6)",
          "line": {
           "color": "rgba(255, 153, 51, 1.0)",
           "width": 1
          }
         },
         "name": "customer_bank_name",
         "orientation": "v",
         "text": "",
         "type": "bar",
         "x": [
          "AXIS BANK",
          "HDFC",
          "ICICI BANK",
          "ICICI",
          "HDFC BANK",
          "KOTAK MAHINDRA BANK",
          "SBI",
          "SBI BANK",
          "CITI BANK",
          "ICICI BANK LTD",
          "HDFC BANK LTD",
          "STANDARD CHARTERED BANK",
          "HDFC Bank",
          "BANK OF BARODA",
          "KOTAK MAHINDRA",
          "State Bank of India",
          "ICICI Bank",
          "Kotak Bank",
          "YES BANK",
          "STANDARD CHARTERED",
          "CANARA BANK",
          "UNION BANK OF INDIA",
          "IDFC FIRST BANK",
          "STATE BANK OF INDIA",
          "IDBI BANK",
          "HSBC",
          "PUNJAB NATIONAL BANK",
          "INDUSIND BANK",
          "IDFC",
          "INDIAN BANK",
          "RBL BANK",
          "FEDERAL BANK",
          "IDFC BANK LIMITED",
          "Axis Bank",
          "UNION BANK",
          "BANK OF INDIA",
          "IndusInd Bank",
          "INDIAN OVERSEAS BANK",
          "CITIBANK NA",
          "DBS BANK",
          "IDFC BANK",
          "IDFC FIRST Bank",
          "Digibank by DBS",
          "KARNATAKA BANK",
          "HSBC BANK",
          "INDUSIND BANK LTD",
          "IDBI BANK LTD",
          "Punjab National Bank - Retail Banking",
          "DBS",
          "PAYTM PAYMENTS BANK",
          "PAYTYM BANK",
          "THE RATNAKAR BANK",
          "DBS BANK LTD",
          "Federal Bank",
          "Union Bank of India",
          "SOUTH INDIAN BANK",
          "YES BANK LTD",
          "BANK OF MAHARASHTRA",
          "DIGI BANK",
          "BANDHAN BANK",
          "IDFC FIRST",
          "EQUITAS SMALL FINANCE BANK",
          "INDUSIND",
          "Airtel Payments Bank",
          "ICICI BANK ",
          "AXIS BANNK",
          "Ratnakar Bank",
          "CITY UNION BANK",
          "AXIS  BANK",
          "PAYTM PAYMENTS BANK ",
          "STANDARD CHARTED BANK",
          "CENTRAL BANK OF INDIA",
          "STANDARD CHARTERED ",
          "Indian Bank",
          "CITI",
          "IDBI",
          "UJJIVAN SMALL FINANCE BANK",
          "HDFC BAN",
          "ALLAHABAD BANK",
          "KARUR VYSYA BANK",
          "DIGIBANK BY DBS",
          "PAYTM PAYMENTS BANK LTD",
          "CITIBANK",
          "HDFC BANK ",
          "KARUR VYSYA",
          "Karur Vysya Bank",
          "Yes Bank Ltd",
          "PAYTM BANK",
          "DIGIBANK",
          "BANDHAN BANK LIMITED",
          "KOTAK BANK",
          "Bank of India",
          "IDFC ",
          "Karnataka Bank Ltd",
          "Bank of Baroda - Retail Banking",
          "IDBI ",
          "Bank of Baroda - Corporate Banking",
          "KOTAK MAHINDRA BANK,",
          "IDBI  BANK",
          "AXIS",
          "INDUSIND BANK ",
          "VASANTH K",
          "Canara Bank",
          "KOTAK",
          "Andhra Bank",
          "AU SMALL FINANCE",
          "AXIS BANK4",
          "JANATHA SAHAKARI BANK",
          "HDFC ",
          "INDUS IND BANK",
          "STATNDERD CHARTERED BANK",
          "STANDARD CHARTERD BANK",
          "ICIC BANK",
          "DIGIBANK ",
          "IDFC FIRST BANK LTD",
          "STANDARD  CHARTERED",
          "HDFC  BANK",
          "SBI ",
          "IDBI Bank",
          "AXIS BANK ",
          "KARNATAKA BANK ",
          "NKGSB COOPERATIVE  BANK LTD",
          "AXIA BANK",
          "ESAF SMALL FINANCE BANK",
          "CITIBANK ",
          "KARNATAK BANK",
          "AXIS BANJK",
          "SARASWAT BANK",
          "STANDARD CHRTERED",
          "BHARAT CO-OP BANK MUMBAI LIMITED",
          "FEDERAL BANK ",
          "RATNAKAR BANK",
          "PAYTM  PAYMENTS BANK",
          "INDUS IND",
          "CABARA BANK",
          "Saraswat Bank",
          "Standard Chartered Bank",
          "PAYTYM",
          "RBL",
          "FEDERAL",
          "STANDERD CHARTERED BANK",
          "PRANEETH GAIKWAD",
          "THE FEDERAL BANK",
          "CITI  BANK",
          "SBI BANK ",
          "STANDERD CHARTERED",
          "IDFC BANK ",
          "THE RATNAKAR BANK LTD",
          "CITY UNION BANK LTD",
          "TAMILNAD MERCANTILE BANK LTD",
          "STANDER CHARTERD",
          "AXIS BABK",
          "CANAR BANK",
          "LOHIYA NAGAR",
          "KOTAK MAHINDTRA",
          "KOTAK MAHINDR",
          "INDUS IND ",
          "UTIB0000008",
          "KOTAK MAHINDRA ABNK",
          "THE FEDERAL BANK LTD",
          "THE RATNAKAR BANK ",
          "RATNAKAR BANK LTD",
          "THE KALYAN JANATA SAHAKARI BANK LTD",
          "AXIS IFSC",
          "SANTEDARD CHARTED"
         ],
         "y": [
          446,
          398,
          345,
          312,
          308,
          212,
          141,
          131,
          109,
          68,
          63,
          57,
          51,
          48,
          44,
          38,
          33,
          32,
          30,
          30,
          29,
          28,
          26,
          25,
          24,
          23,
          22,
          21,
          20,
          18,
          18,
          17,
          15,
          15,
          15,
          14,
          13,
          12,
          11,
          10,
          10,
          10,
          9,
          9,
          9,
          8,
          6,
          6,
          6,
          5,
          5,
          5,
          5,
          5,
          5,
          5,
          4,
          4,
          4,
          4,
          4,
          4,
          4,
          4,
          3,
          3,
          3,
          3,
          3,
          3,
          3,
          3,
          3,
          3,
          3,
          3,
          2,
          2,
          2,
          2,
          2,
          2,
          2,
          2,
          2,
          2,
          2,
          2,
          2,
          2,
          2,
          2,
          2,
          2,
          2,
          2,
          2,
          2,
          2,
          2,
          2,
          2,
          2,
          2,
          1,
          1,
          1,
          1,
          1,
          1,
          1,
          1,
          1,
          1,
          1,
          1,
          1,
          1,
          1,
          1,
          1,
          1,
          1,
          1,
          1,
          1,
          1,
          1,
          1,
          1,
          1,
          1,
          1,
          1,
          1,
          1,
          1,
          1,
          1,
          1,
          1,
          1,
          1,
          1,
          1,
          1,
          1,
          1,
          1,
          1,
          1,
          1,
          1,
          1,
          1,
          1,
          1,
          1,
          1,
          1,
          1,
          1,
          1,
          1,
          1
         ]
        }
       ],
       "layout": {
        "legend": {
         "bgcolor": "#F5F6F9",
         "font": {
          "color": "#4D5663"
         }
        },
        "paper_bgcolor": "#F5F6F9",
        "plot_bgcolor": "#F5F6F9",
        "template": {
         "data": {
          "bar": [
           {
            "error_x": {
             "color": "#2a3f5f"
            },
            "error_y": {
             "color": "#2a3f5f"
            },
            "marker": {
             "line": {
              "color": "#E5ECF6",
              "width": 0.5
             },
             "pattern": {
              "fillmode": "overlay",
              "size": 10,
              "solidity": 0.2
             }
            },
            "type": "bar"
           }
          ],
          "barpolar": [
           {
            "marker": {
             "line": {
              "color": "#E5ECF6",
              "width": 0.5
             },
             "pattern": {
              "fillmode": "overlay",
              "size": 10,
              "solidity": 0.2
             }
            },
            "type": "barpolar"
           }
          ],
          "carpet": [
           {
            "aaxis": {
             "endlinecolor": "#2a3f5f",
             "gridcolor": "white",
             "linecolor": "white",
             "minorgridcolor": "white",
             "startlinecolor": "#2a3f5f"
            },
            "baxis": {
             "endlinecolor": "#2a3f5f",
             "gridcolor": "white",
             "linecolor": "white",
             "minorgridcolor": "white",
             "startlinecolor": "#2a3f5f"
            },
            "type": "carpet"
           }
          ],
          "choropleth": [
           {
            "colorbar": {
             "outlinewidth": 0,
             "ticks": ""
            },
            "type": "choropleth"
           }
          ],
          "contour": [
           {
            "colorbar": {
             "outlinewidth": 0,
             "ticks": ""
            },
            "colorscale": [
             [
              0,
              "#0d0887"
             ],
             [
              0.1111111111111111,
              "#46039f"
             ],
             [
              0.2222222222222222,
              "#7201a8"
             ],
             [
              0.3333333333333333,
              "#9c179e"
             ],
             [
              0.4444444444444444,
              "#bd3786"
             ],
             [
              0.5555555555555556,
              "#d8576b"
             ],
             [
              0.6666666666666666,
              "#ed7953"
             ],
             [
              0.7777777777777778,
              "#fb9f3a"
             ],
             [
              0.8888888888888888,
              "#fdca26"
             ],
             [
              1,
              "#f0f921"
             ]
            ],
            "type": "contour"
           }
          ],
          "contourcarpet": [
           {
            "colorbar": {
             "outlinewidth": 0,
             "ticks": ""
            },
            "type": "contourcarpet"
           }
          ],
          "heatmap": [
           {
            "colorbar": {
             "outlinewidth": 0,
             "ticks": ""
            },
            "colorscale": [
             [
              0,
              "#0d0887"
             ],
             [
              0.1111111111111111,
              "#46039f"
             ],
             [
              0.2222222222222222,
              "#7201a8"
             ],
             [
              0.3333333333333333,
              "#9c179e"
             ],
             [
              0.4444444444444444,
              "#bd3786"
             ],
             [
              0.5555555555555556,
              "#d8576b"
             ],
             [
              0.6666666666666666,
              "#ed7953"
             ],
             [
              0.7777777777777778,
              "#fb9f3a"
             ],
             [
              0.8888888888888888,
              "#fdca26"
             ],
             [
              1,
              "#f0f921"
             ]
            ],
            "type": "heatmap"
           }
          ],
          "heatmapgl": [
           {
            "colorbar": {
             "outlinewidth": 0,
             "ticks": ""
            },
            "colorscale": [
             [
              0,
              "#0d0887"
             ],
             [
              0.1111111111111111,
              "#46039f"
             ],
             [
              0.2222222222222222,
              "#7201a8"
             ],
             [
              0.3333333333333333,
              "#9c179e"
             ],
             [
              0.4444444444444444,
              "#bd3786"
             ],
             [
              0.5555555555555556,
              "#d8576b"
             ],
             [
              0.6666666666666666,
              "#ed7953"
             ],
             [
              0.7777777777777778,
              "#fb9f3a"
             ],
             [
              0.8888888888888888,
              "#fdca26"
             ],
             [
              1,
              "#f0f921"
             ]
            ],
            "type": "heatmapgl"
           }
          ],
          "histogram": [
           {
            "marker": {
             "pattern": {
              "fillmode": "overlay",
              "size": 10,
              "solidity": 0.2
             }
            },
            "type": "histogram"
           }
          ],
          "histogram2d": [
           {
            "colorbar": {
             "outlinewidth": 0,
             "ticks": ""
            },
            "colorscale": [
             [
              0,
              "#0d0887"
             ],
             [
              0.1111111111111111,
              "#46039f"
             ],
             [
              0.2222222222222222,
              "#7201a8"
             ],
             [
              0.3333333333333333,
              "#9c179e"
             ],
             [
              0.4444444444444444,
              "#bd3786"
             ],
             [
              0.5555555555555556,
              "#d8576b"
             ],
             [
              0.6666666666666666,
              "#ed7953"
             ],
             [
              0.7777777777777778,
              "#fb9f3a"
             ],
             [
              0.8888888888888888,
              "#fdca26"
             ],
             [
              1,
              "#f0f921"
             ]
            ],
            "type": "histogram2d"
           }
          ],
          "histogram2dcontour": [
           {
            "colorbar": {
             "outlinewidth": 0,
             "ticks": ""
            },
            "colorscale": [
             [
              0,
              "#0d0887"
             ],
             [
              0.1111111111111111,
              "#46039f"
             ],
             [
              0.2222222222222222,
              "#7201a8"
             ],
             [
              0.3333333333333333,
              "#9c179e"
             ],
             [
              0.4444444444444444,
              "#bd3786"
             ],
             [
              0.5555555555555556,
              "#d8576b"
             ],
             [
              0.6666666666666666,
              "#ed7953"
             ],
             [
              0.7777777777777778,
              "#fb9f3a"
             ],
             [
              0.8888888888888888,
              "#fdca26"
             ],
             [
              1,
              "#f0f921"
             ]
            ],
            "type": "histogram2dcontour"
           }
          ],
          "mesh3d": [
           {
            "colorbar": {
             "outlinewidth": 0,
             "ticks": ""
            },
            "type": "mesh3d"
           }
          ],
          "parcoords": [
           {
            "line": {
             "colorbar": {
              "outlinewidth": 0,
              "ticks": ""
             }
            },
            "type": "parcoords"
           }
          ],
          "pie": [
           {
            "automargin": true,
            "type": "pie"
           }
          ],
          "scatter": [
           {
            "marker": {
             "colorbar": {
              "outlinewidth": 0,
              "ticks": ""
             }
            },
            "type": "scatter"
           }
          ],
          "scatter3d": [
           {
            "line": {
             "colorbar": {
              "outlinewidth": 0,
              "ticks": ""
             }
            },
            "marker": {
             "colorbar": {
              "outlinewidth": 0,
              "ticks": ""
             }
            },
            "type": "scatter3d"
           }
          ],
          "scattercarpet": [
           {
            "marker": {
             "colorbar": {
              "outlinewidth": 0,
              "ticks": ""
             }
            },
            "type": "scattercarpet"
           }
          ],
          "scattergeo": [
           {
            "marker": {
             "colorbar": {
              "outlinewidth": 0,
              "ticks": ""
             }
            },
            "type": "scattergeo"
           }
          ],
          "scattergl": [
           {
            "marker": {
             "colorbar": {
              "outlinewidth": 0,
              "ticks": ""
             }
            },
            "type": "scattergl"
           }
          ],
          "scattermapbox": [
           {
            "marker": {
             "colorbar": {
              "outlinewidth": 0,
              "ticks": ""
             }
            },
            "type": "scattermapbox"
           }
          ],
          "scatterpolar": [
           {
            "marker": {
             "colorbar": {
              "outlinewidth": 0,
              "ticks": ""
             }
            },
            "type": "scatterpolar"
           }
          ],
          "scatterpolargl": [
           {
            "marker": {
             "colorbar": {
              "outlinewidth": 0,
              "ticks": ""
             }
            },
            "type": "scatterpolargl"
           }
          ],
          "scatterternary": [
           {
            "marker": {
             "colorbar": {
              "outlinewidth": 0,
              "ticks": ""
             }
            },
            "type": "scatterternary"
           }
          ],
          "surface": [
           {
            "colorbar": {
             "outlinewidth": 0,
             "ticks": ""
            },
            "colorscale": [
             [
              0,
              "#0d0887"
             ],
             [
              0.1111111111111111,
              "#46039f"
             ],
             [
              0.2222222222222222,
              "#7201a8"
             ],
             [
              0.3333333333333333,
              "#9c179e"
             ],
             [
              0.4444444444444444,
              "#bd3786"
             ],
             [
              0.5555555555555556,
              "#d8576b"
             ],
             [
              0.6666666666666666,
              "#ed7953"
             ],
             [
              0.7777777777777778,
              "#fb9f3a"
             ],
             [
              0.8888888888888888,
              "#fdca26"
             ],
             [
              1,
              "#f0f921"
             ]
            ],
            "type": "surface"
           }
          ],
          "table": [
           {
            "cells": {
             "fill": {
              "color": "#EBF0F8"
             },
             "line": {
              "color": "white"
             }
            },
            "header": {
             "fill": {
              "color": "#C8D4E3"
             },
             "line": {
              "color": "white"
             }
            },
            "type": "table"
           }
          ]
         },
         "layout": {
          "annotationdefaults": {
           "arrowcolor": "#2a3f5f",
           "arrowhead": 0,
           "arrowwidth": 1
          },
          "autotypenumbers": "strict",
          "coloraxis": {
           "colorbar": {
            "outlinewidth": 0,
            "ticks": ""
           }
          },
          "colorscale": {
           "diverging": [
            [
             0,
             "#8e0152"
            ],
            [
             0.1,
             "#c51b7d"
            ],
            [
             0.2,
             "#de77ae"
            ],
            [
             0.3,
             "#f1b6da"
            ],
            [
             0.4,
             "#fde0ef"
            ],
            [
             0.5,
             "#f7f7f7"
            ],
            [
             0.6,
             "#e6f5d0"
            ],
            [
             0.7,
             "#b8e186"
            ],
            [
             0.8,
             "#7fbc41"
            ],
            [
             0.9,
             "#4d9221"
            ],
            [
             1,
             "#276419"
            ]
           ],
           "sequential": [
            [
             0,
             "#0d0887"
            ],
            [
             0.1111111111111111,
             "#46039f"
            ],
            [
             0.2222222222222222,
             "#7201a8"
            ],
            [
             0.3333333333333333,
             "#9c179e"
            ],
            [
             0.4444444444444444,
             "#bd3786"
            ],
            [
             0.5555555555555556,
             "#d8576b"
            ],
            [
             0.6666666666666666,
             "#ed7953"
            ],
            [
             0.7777777777777778,
             "#fb9f3a"
            ],
            [
             0.8888888888888888,
             "#fdca26"
            ],
            [
             1,
             "#f0f921"
            ]
           ],
           "sequentialminus": [
            [
             0,
             "#0d0887"
            ],
            [
             0.1111111111111111,
             "#46039f"
            ],
            [
             0.2222222222222222,
             "#7201a8"
            ],
            [
             0.3333333333333333,
             "#9c179e"
            ],
            [
             0.4444444444444444,
             "#bd3786"
            ],
            [
             0.5555555555555556,
             "#d8576b"
            ],
            [
             0.6666666666666666,
             "#ed7953"
            ],
            [
             0.7777777777777778,
             "#fb9f3a"
            ],
            [
             0.8888888888888888,
             "#fdca26"
            ],
            [
             1,
             "#f0f921"
            ]
           ]
          },
          "colorway": [
           "#636efa",
           "#EF553B",
           "#00cc96",
           "#ab63fa",
           "#FFA15A",
           "#19d3f3",
           "#FF6692",
           "#B6E880",
           "#FF97FF",
           "#FECB52"
          ],
          "font": {
           "color": "#2a3f5f"
          },
          "geo": {
           "bgcolor": "white",
           "lakecolor": "white",
           "landcolor": "#E5ECF6",
           "showlakes": true,
           "showland": true,
           "subunitcolor": "white"
          },
          "hoverlabel": {
           "align": "left"
          },
          "hovermode": "closest",
          "mapbox": {
           "style": "light"
          },
          "paper_bgcolor": "white",
          "plot_bgcolor": "#E5ECF6",
          "polar": {
           "angularaxis": {
            "gridcolor": "white",
            "linecolor": "white",
            "ticks": ""
           },
           "bgcolor": "#E5ECF6",
           "radialaxis": {
            "gridcolor": "white",
            "linecolor": "white",
            "ticks": ""
           }
          },
          "scene": {
           "xaxis": {
            "backgroundcolor": "#E5ECF6",
            "gridcolor": "white",
            "gridwidth": 2,
            "linecolor": "white",
            "showbackground": true,
            "ticks": "",
            "zerolinecolor": "white"
           },
           "yaxis": {
            "backgroundcolor": "#E5ECF6",
            "gridcolor": "white",
            "gridwidth": 2,
            "linecolor": "white",
            "showbackground": true,
            "ticks": "",
            "zerolinecolor": "white"
           },
           "zaxis": {
            "backgroundcolor": "#E5ECF6",
            "gridcolor": "white",
            "gridwidth": 2,
            "linecolor": "white",
            "showbackground": true,
            "ticks": "",
            "zerolinecolor": "white"
           }
          },
          "shapedefaults": {
           "line": {
            "color": "#2a3f5f"
           }
          },
          "ternary": {
           "aaxis": {
            "gridcolor": "white",
            "linecolor": "white",
            "ticks": ""
           },
           "baxis": {
            "gridcolor": "white",
            "linecolor": "white",
            "ticks": ""
           },
           "bgcolor": "#E5ECF6",
           "caxis": {
            "gridcolor": "white",
            "linecolor": "white",
            "ticks": ""
           }
          },
          "title": {
           "x": 0.05
          },
          "xaxis": {
           "automargin": true,
           "gridcolor": "white",
           "linecolor": "white",
           "ticks": "",
           "title": {
            "standoff": 15
           },
           "zerolinecolor": "white",
           "zerolinewidth": 2
          },
          "yaxis": {
           "automargin": true,
           "gridcolor": "white",
           "linecolor": "white",
           "ticks": "",
           "title": {
            "standoff": 15
           },
           "zerolinecolor": "white",
           "zerolinewidth": 2
          }
         }
        },
        "title": {
         "font": {
          "color": "#4D5663"
         }
        },
        "xaxis": {
         "gridcolor": "#E1E5ED",
         "showgrid": true,
         "tickfont": {
          "color": "#4D5663"
         },
         "title": {
          "font": {
           "color": "#4D5663"
          },
          "text": ""
         },
         "zerolinecolor": "#E1E5ED"
        },
        "yaxis": {
         "gridcolor": "#E1E5ED",
         "showgrid": true,
         "tickfont": {
          "color": "#4D5663"
         },
         "title": {
          "font": {
           "color": "#4D5663"
          },
          "text": ""
         },
         "zerolinecolor": "#E1E5ED"
        }
       }
      },
      "text/html": [
       "<div>                            <div id=\"1a532e12-bb0b-40a1-8db1-3341f4b39973\" class=\"plotly-graph-div\" style=\"height:525px; width:100%;\"></div>            <script type=\"text/javascript\">                require([\"plotly\"], function(Plotly) {                    window.PLOTLYENV=window.PLOTLYENV || {};\n",
       "                    window.PLOTLYENV.BASE_URL='https://plot.ly';                                    if (document.getElementById(\"1a532e12-bb0b-40a1-8db1-3341f4b39973\")) {                    Plotly.newPlot(                        \"1a532e12-bb0b-40a1-8db1-3341f4b39973\",                        [{\"marker\":{\"color\":\"rgba(255, 153, 51, 0.6)\",\"line\":{\"color\":\"rgba(255, 153, 51, 1.0)\",\"width\":1}},\"name\":\"customer_bank_name\",\"orientation\":\"v\",\"text\":\"\",\"x\":[\"AXIS BANK\",\"HDFC\",\"ICICI BANK\",\"ICICI\",\"HDFC BANK\",\"KOTAK MAHINDRA BANK\",\"SBI\",\"SBI BANK\",\"CITI BANK\",\"ICICI BANK LTD\",\"HDFC BANK LTD\",\"STANDARD CHARTERED BANK\",\"HDFC Bank\",\"BANK OF BARODA\",\"KOTAK MAHINDRA\",\"State Bank of India\",\"ICICI Bank\",\"Kotak Bank\",\"YES BANK\",\"STANDARD CHARTERED\",\"CANARA BANK\",\"UNION BANK OF INDIA\",\"IDFC FIRST BANK\",\"STATE BANK OF INDIA\",\"IDBI BANK\",\"HSBC\",\"PUNJAB NATIONAL BANK\",\"INDUSIND BANK\",\"IDFC\",\"INDIAN BANK\",\"RBL BANK\",\"FEDERAL BANK\",\"IDFC BANK LIMITED\",\"Axis Bank\",\"UNION BANK\",\"BANK OF INDIA\",\"IndusInd Bank\",\"INDIAN OVERSEAS BANK\",\"CITIBANK NA\",\"DBS BANK\",\"IDFC BANK\",\"IDFC FIRST Bank\",\"Digibank by DBS\",\"KARNATAKA BANK\",\"HSBC BANK\",\"INDUSIND BANK LTD\",\"IDBI BANK LTD\",\"Punjab National Bank - Retail Banking\",\"DBS\",\"PAYTM PAYMENTS BANK\",\"PAYTYM BANK\",\"THE RATNAKAR BANK\",\"DBS BANK LTD\",\"Federal Bank\",\"Union Bank of India\",\"SOUTH INDIAN BANK\",\"YES BANK LTD\",\"BANK OF MAHARASHTRA\",\"DIGI BANK\",\"BANDHAN BANK\",\"IDFC FIRST\",\"EQUITAS SMALL FINANCE BANK\",\"INDUSIND\",\"Airtel Payments Bank\",\"ICICI BANK \",\"AXIS BANNK\",\"Ratnakar Bank\",\"CITY UNION BANK\",\"AXIS  BANK\",\"PAYTM PAYMENTS BANK \",\"STANDARD CHARTED BANK\",\"CENTRAL BANK OF INDIA\",\"STANDARD CHARTERED \",\"Indian Bank\",\"CITI\",\"IDBI\",\"UJJIVAN SMALL FINANCE BANK\",\"HDFC BAN\",\"ALLAHABAD BANK\",\"KARUR VYSYA BANK\",\"DIGIBANK BY DBS\",\"PAYTM PAYMENTS BANK LTD\",\"CITIBANK\",\"HDFC BANK \",\"KARUR VYSYA\",\"Karur Vysya Bank\",\"Yes Bank Ltd\",\"PAYTM BANK\",\"DIGIBANK\",\"BANDHAN BANK LIMITED\",\"KOTAK BANK\",\"Bank of India\",\"IDFC \",\"Karnataka Bank Ltd\",\"Bank of Baroda - Retail Banking\",\"IDBI \",\"Bank of Baroda - Corporate Banking\",\"KOTAK MAHINDRA BANK,\",\"IDBI  BANK\",\"AXIS\",\"INDUSIND BANK \",\"VASANTH K\",\"Canara Bank\",\"KOTAK\",\"Andhra Bank\",\"AU SMALL FINANCE\",\"AXIS BANK4\",\"JANATHA SAHAKARI BANK\",\"HDFC \",\"INDUS IND BANK\",\"STATNDERD CHARTERED BANK\",\"STANDARD CHARTERD BANK\",\"ICIC BANK\",\"DIGIBANK \",\"IDFC FIRST BANK LTD\",\"STANDARD  CHARTERED\",\"HDFC  BANK\",\"SBI \",\"IDBI Bank\",\"AXIS BANK \",\"KARNATAKA BANK \",\"NKGSB COOPERATIVE  BANK LTD\",\"AXIA BANK\",\"ESAF SMALL FINANCE BANK\",\"CITIBANK \",\"KARNATAK BANK\",\"AXIS BANJK\",\"SARASWAT BANK\",\"STANDARD CHRTERED\",\"BHARAT CO-OP BANK MUMBAI LIMITED\",\"FEDERAL BANK \",\"RATNAKAR BANK\",\"PAYTM  PAYMENTS BANK\",\"INDUS IND\",\"CABARA BANK\",\"Saraswat Bank\",\"Standard Chartered Bank\",\"PAYTYM\",\"RBL\",\"FEDERAL\",\"STANDERD CHARTERED BANK\",\"PRANEETH GAIKWAD\",\"THE FEDERAL BANK\",\"CITI  BANK\",\"SBI BANK \",\"STANDERD CHARTERED\",\"IDFC BANK \",\"THE RATNAKAR BANK LTD\",\"CITY UNION BANK LTD\",\"TAMILNAD MERCANTILE BANK LTD\",\"STANDER CHARTERD\",\"AXIS BABK\",\"CANAR BANK\",\"LOHIYA NAGAR\",\"KOTAK MAHINDTRA\",\"KOTAK MAHINDR\",\"INDUS IND \",\"UTIB0000008\",\"KOTAK MAHINDRA ABNK\",\"THE FEDERAL BANK LTD\",\"THE RATNAKAR BANK \",\"RATNAKAR BANK LTD\",\"THE KALYAN JANATA SAHAKARI BANK LTD\",\"AXIS IFSC\",\"SANTEDARD CHARTED\"],\"y\":[446,398,345,312,308,212,141,131,109,68,63,57,51,48,44,38,33,32,30,30,29,28,26,25,24,23,22,21,20,18,18,17,15,15,15,14,13,12,11,10,10,10,9,9,9,8,6,6,6,5,5,5,5,5,5,5,4,4,4,4,4,4,4,4,3,3,3,3,3,3,3,3,3,3,3,3,2,2,2,2,2,2,2,2,2,2,2,2,2,2,2,2,2,2,2,2,2,2,2,2,2,2,2,2,1,1,1,1,1,1,1,1,1,1,1,1,1,1,1,1,1,1,1,1,1,1,1,1,1,1,1,1,1,1,1,1,1,1,1,1,1,1,1,1,1,1,1,1,1,1,1,1,1,1,1,1,1,1,1,1,1,1,1,1,1],\"type\":\"bar\"}],                        {\"legend\":{\"bgcolor\":\"#F5F6F9\",\"font\":{\"color\":\"#4D5663\"}},\"paper_bgcolor\":\"#F5F6F9\",\"plot_bgcolor\":\"#F5F6F9\",\"template\":{\"data\":{\"barpolar\":[{\"marker\":{\"line\":{\"color\":\"#E5ECF6\",\"width\":0.5},\"pattern\":{\"fillmode\":\"overlay\",\"size\":10,\"solidity\":0.2}},\"type\":\"barpolar\"}],\"bar\":[{\"error_x\":{\"color\":\"#2a3f5f\"},\"error_y\":{\"color\":\"#2a3f5f\"},\"marker\":{\"line\":{\"color\":\"#E5ECF6\",\"width\":0.5},\"pattern\":{\"fillmode\":\"overlay\",\"size\":10,\"solidity\":0.2}},\"type\":\"bar\"}],\"carpet\":[{\"aaxis\":{\"endlinecolor\":\"#2a3f5f\",\"gridcolor\":\"white\",\"linecolor\":\"white\",\"minorgridcolor\":\"white\",\"startlinecolor\":\"#2a3f5f\"},\"baxis\":{\"endlinecolor\":\"#2a3f5f\",\"gridcolor\":\"white\",\"linecolor\":\"white\",\"minorgridcolor\":\"white\",\"startlinecolor\":\"#2a3f5f\"},\"type\":\"carpet\"}],\"choropleth\":[{\"colorbar\":{\"outlinewidth\":0,\"ticks\":\"\"},\"type\":\"choropleth\"}],\"contourcarpet\":[{\"colorbar\":{\"outlinewidth\":0,\"ticks\":\"\"},\"type\":\"contourcarpet\"}],\"contour\":[{\"colorbar\":{\"outlinewidth\":0,\"ticks\":\"\"},\"colorscale\":[[0.0,\"#0d0887\"],[0.1111111111111111,\"#46039f\"],[0.2222222222222222,\"#7201a8\"],[0.3333333333333333,\"#9c179e\"],[0.4444444444444444,\"#bd3786\"],[0.5555555555555556,\"#d8576b\"],[0.6666666666666666,\"#ed7953\"],[0.7777777777777778,\"#fb9f3a\"],[0.8888888888888888,\"#fdca26\"],[1.0,\"#f0f921\"]],\"type\":\"contour\"}],\"heatmapgl\":[{\"colorbar\":{\"outlinewidth\":0,\"ticks\":\"\"},\"colorscale\":[[0.0,\"#0d0887\"],[0.1111111111111111,\"#46039f\"],[0.2222222222222222,\"#7201a8\"],[0.3333333333333333,\"#9c179e\"],[0.4444444444444444,\"#bd3786\"],[0.5555555555555556,\"#d8576b\"],[0.6666666666666666,\"#ed7953\"],[0.7777777777777778,\"#fb9f3a\"],[0.8888888888888888,\"#fdca26\"],[1.0,\"#f0f921\"]],\"type\":\"heatmapgl\"}],\"heatmap\":[{\"colorbar\":{\"outlinewidth\":0,\"ticks\":\"\"},\"colorscale\":[[0.0,\"#0d0887\"],[0.1111111111111111,\"#46039f\"],[0.2222222222222222,\"#7201a8\"],[0.3333333333333333,\"#9c179e\"],[0.4444444444444444,\"#bd3786\"],[0.5555555555555556,\"#d8576b\"],[0.6666666666666666,\"#ed7953\"],[0.7777777777777778,\"#fb9f3a\"],[0.8888888888888888,\"#fdca26\"],[1.0,\"#f0f921\"]],\"type\":\"heatmap\"}],\"histogram2dcontour\":[{\"colorbar\":{\"outlinewidth\":0,\"ticks\":\"\"},\"colorscale\":[[0.0,\"#0d0887\"],[0.1111111111111111,\"#46039f\"],[0.2222222222222222,\"#7201a8\"],[0.3333333333333333,\"#9c179e\"],[0.4444444444444444,\"#bd3786\"],[0.5555555555555556,\"#d8576b\"],[0.6666666666666666,\"#ed7953\"],[0.7777777777777778,\"#fb9f3a\"],[0.8888888888888888,\"#fdca26\"],[1.0,\"#f0f921\"]],\"type\":\"histogram2dcontour\"}],\"histogram2d\":[{\"colorbar\":{\"outlinewidth\":0,\"ticks\":\"\"},\"colorscale\":[[0.0,\"#0d0887\"],[0.1111111111111111,\"#46039f\"],[0.2222222222222222,\"#7201a8\"],[0.3333333333333333,\"#9c179e\"],[0.4444444444444444,\"#bd3786\"],[0.5555555555555556,\"#d8576b\"],[0.6666666666666666,\"#ed7953\"],[0.7777777777777778,\"#fb9f3a\"],[0.8888888888888888,\"#fdca26\"],[1.0,\"#f0f921\"]],\"type\":\"histogram2d\"}],\"histogram\":[{\"marker\":{\"pattern\":{\"fillmode\":\"overlay\",\"size\":10,\"solidity\":0.2}},\"type\":\"histogram\"}],\"mesh3d\":[{\"colorbar\":{\"outlinewidth\":0,\"ticks\":\"\"},\"type\":\"mesh3d\"}],\"parcoords\":[{\"line\":{\"colorbar\":{\"outlinewidth\":0,\"ticks\":\"\"}},\"type\":\"parcoords\"}],\"pie\":[{\"automargin\":true,\"type\":\"pie\"}],\"scatter3d\":[{\"line\":{\"colorbar\":{\"outlinewidth\":0,\"ticks\":\"\"}},\"marker\":{\"colorbar\":{\"outlinewidth\":0,\"ticks\":\"\"}},\"type\":\"scatter3d\"}],\"scattercarpet\":[{\"marker\":{\"colorbar\":{\"outlinewidth\":0,\"ticks\":\"\"}},\"type\":\"scattercarpet\"}],\"scattergeo\":[{\"marker\":{\"colorbar\":{\"outlinewidth\":0,\"ticks\":\"\"}},\"type\":\"scattergeo\"}],\"scattergl\":[{\"marker\":{\"colorbar\":{\"outlinewidth\":0,\"ticks\":\"\"}},\"type\":\"scattergl\"}],\"scattermapbox\":[{\"marker\":{\"colorbar\":{\"outlinewidth\":0,\"ticks\":\"\"}},\"type\":\"scattermapbox\"}],\"scatterpolargl\":[{\"marker\":{\"colorbar\":{\"outlinewidth\":0,\"ticks\":\"\"}},\"type\":\"scatterpolargl\"}],\"scatterpolar\":[{\"marker\":{\"colorbar\":{\"outlinewidth\":0,\"ticks\":\"\"}},\"type\":\"scatterpolar\"}],\"scatter\":[{\"marker\":{\"colorbar\":{\"outlinewidth\":0,\"ticks\":\"\"}},\"type\":\"scatter\"}],\"scatterternary\":[{\"marker\":{\"colorbar\":{\"outlinewidth\":0,\"ticks\":\"\"}},\"type\":\"scatterternary\"}],\"surface\":[{\"colorbar\":{\"outlinewidth\":0,\"ticks\":\"\"},\"colorscale\":[[0.0,\"#0d0887\"],[0.1111111111111111,\"#46039f\"],[0.2222222222222222,\"#7201a8\"],[0.3333333333333333,\"#9c179e\"],[0.4444444444444444,\"#bd3786\"],[0.5555555555555556,\"#d8576b\"],[0.6666666666666666,\"#ed7953\"],[0.7777777777777778,\"#fb9f3a\"],[0.8888888888888888,\"#fdca26\"],[1.0,\"#f0f921\"]],\"type\":\"surface\"}],\"table\":[{\"cells\":{\"fill\":{\"color\":\"#EBF0F8\"},\"line\":{\"color\":\"white\"}},\"header\":{\"fill\":{\"color\":\"#C8D4E3\"},\"line\":{\"color\":\"white\"}},\"type\":\"table\"}]},\"layout\":{\"annotationdefaults\":{\"arrowcolor\":\"#2a3f5f\",\"arrowhead\":0,\"arrowwidth\":1},\"autotypenumbers\":\"strict\",\"coloraxis\":{\"colorbar\":{\"outlinewidth\":0,\"ticks\":\"\"}},\"colorscale\":{\"diverging\":[[0,\"#8e0152\"],[0.1,\"#c51b7d\"],[0.2,\"#de77ae\"],[0.3,\"#f1b6da\"],[0.4,\"#fde0ef\"],[0.5,\"#f7f7f7\"],[0.6,\"#e6f5d0\"],[0.7,\"#b8e186\"],[0.8,\"#7fbc41\"],[0.9,\"#4d9221\"],[1,\"#276419\"]],\"sequential\":[[0.0,\"#0d0887\"],[0.1111111111111111,\"#46039f\"],[0.2222222222222222,\"#7201a8\"],[0.3333333333333333,\"#9c179e\"],[0.4444444444444444,\"#bd3786\"],[0.5555555555555556,\"#d8576b\"],[0.6666666666666666,\"#ed7953\"],[0.7777777777777778,\"#fb9f3a\"],[0.8888888888888888,\"#fdca26\"],[1.0,\"#f0f921\"]],\"sequentialminus\":[[0.0,\"#0d0887\"],[0.1111111111111111,\"#46039f\"],[0.2222222222222222,\"#7201a8\"],[0.3333333333333333,\"#9c179e\"],[0.4444444444444444,\"#bd3786\"],[0.5555555555555556,\"#d8576b\"],[0.6666666666666666,\"#ed7953\"],[0.7777777777777778,\"#fb9f3a\"],[0.8888888888888888,\"#fdca26\"],[1.0,\"#f0f921\"]]},\"colorway\":[\"#636efa\",\"#EF553B\",\"#00cc96\",\"#ab63fa\",\"#FFA15A\",\"#19d3f3\",\"#FF6692\",\"#B6E880\",\"#FF97FF\",\"#FECB52\"],\"font\":{\"color\":\"#2a3f5f\"},\"geo\":{\"bgcolor\":\"white\",\"lakecolor\":\"white\",\"landcolor\":\"#E5ECF6\",\"showlakes\":true,\"showland\":true,\"subunitcolor\":\"white\"},\"hoverlabel\":{\"align\":\"left\"},\"hovermode\":\"closest\",\"mapbox\":{\"style\":\"light\"},\"paper_bgcolor\":\"white\",\"plot_bgcolor\":\"#E5ECF6\",\"polar\":{\"angularaxis\":{\"gridcolor\":\"white\",\"linecolor\":\"white\",\"ticks\":\"\"},\"bgcolor\":\"#E5ECF6\",\"radialaxis\":{\"gridcolor\":\"white\",\"linecolor\":\"white\",\"ticks\":\"\"}},\"scene\":{\"xaxis\":{\"backgroundcolor\":\"#E5ECF6\",\"gridcolor\":\"white\",\"gridwidth\":2,\"linecolor\":\"white\",\"showbackground\":true,\"ticks\":\"\",\"zerolinecolor\":\"white\"},\"yaxis\":{\"backgroundcolor\":\"#E5ECF6\",\"gridcolor\":\"white\",\"gridwidth\":2,\"linecolor\":\"white\",\"showbackground\":true,\"ticks\":\"\",\"zerolinecolor\":\"white\"},\"zaxis\":{\"backgroundcolor\":\"#E5ECF6\",\"gridcolor\":\"white\",\"gridwidth\":2,\"linecolor\":\"white\",\"showbackground\":true,\"ticks\":\"\",\"zerolinecolor\":\"white\"}},\"shapedefaults\":{\"line\":{\"color\":\"#2a3f5f\"}},\"ternary\":{\"aaxis\":{\"gridcolor\":\"white\",\"linecolor\":\"white\",\"ticks\":\"\"},\"baxis\":{\"gridcolor\":\"white\",\"linecolor\":\"white\",\"ticks\":\"\"},\"bgcolor\":\"#E5ECF6\",\"caxis\":{\"gridcolor\":\"white\",\"linecolor\":\"white\",\"ticks\":\"\"}},\"title\":{\"x\":0.05},\"xaxis\":{\"automargin\":true,\"gridcolor\":\"white\",\"linecolor\":\"white\",\"ticks\":\"\",\"title\":{\"standoff\":15},\"zerolinecolor\":\"white\",\"zerolinewidth\":2},\"yaxis\":{\"automargin\":true,\"gridcolor\":\"white\",\"linecolor\":\"white\",\"ticks\":\"\",\"title\":{\"standoff\":15},\"zerolinecolor\":\"white\",\"zerolinewidth\":2}}},\"title\":{\"font\":{\"color\":\"#4D5663\"}},\"xaxis\":{\"gridcolor\":\"#E1E5ED\",\"showgrid\":true,\"tickfont\":{\"color\":\"#4D5663\"},\"title\":{\"font\":{\"color\":\"#4D5663\"},\"text\":\"\"},\"zerolinecolor\":\"#E1E5ED\"},\"yaxis\":{\"gridcolor\":\"#E1E5ED\",\"showgrid\":true,\"tickfont\":{\"color\":\"#4D5663\"},\"title\":{\"font\":{\"color\":\"#4D5663\"},\"text\":\"\"},\"zerolinecolor\":\"#E1E5ED\"}},                        {\"showLink\": true, \"linkText\": \"Export to plot.ly\", \"plotlyServerURL\": \"https://plot.ly\", \"responsive\": true}                    ).then(function(){\n",
       "                            \n",
       "var gd = document.getElementById('1a532e12-bb0b-40a1-8db1-3341f4b39973');\n",
       "var x = new MutationObserver(function (mutations, observer) {{\n",
       "        var display = window.getComputedStyle(gd).display;\n",
       "        if (!display || display === 'none') {{\n",
       "            console.log([gd, 'removed!']);\n",
       "            Plotly.purge(gd);\n",
       "            observer.disconnect();\n",
       "        }}\n",
       "}});\n",
       "\n",
       "// Listen for the removal of the full notebook cells\n",
       "var notebookContainer = gd.closest('#notebook-container');\n",
       "if (notebookContainer) {{\n",
       "    x.observe(notebookContainer, {childList: true});\n",
       "}}\n",
       "\n",
       "// Listen for the clearing of the current output cell\n",
       "var outputEl = gd.closest('.output');\n",
       "if (outputEl) {{\n",
       "    x.observe(outputEl, {childList: true});\n",
       "}}\n",
       "\n",
       "                        })                };                });            </script>        </div>"
      ]
     },
     "metadata": {},
     "output_type": "display_data"
    }
   ],
   "source": [
    "d.customer_bank_name.value_counts().iplot(kind='bar')"
   ]
  },
  {
   "cell_type": "code",
   "execution_count": 26,
   "id": "3d34ab7f",
   "metadata": {},
   "outputs": [
    {
     "data": {
      "application/vnd.plotly.v1+json": {
       "config": {
        "linkText": "Export to plot.ly",
        "plotlyServerURL": "https://plot.ly",
        "showLink": true
       },
       "data": [
        {
         "marker": {
          "color": "rgba(255, 153, 51, 0.6)",
          "line": {
           "color": "rgba(255, 153, 51, 1.0)",
           "width": 1
          }
         },
         "name": "loan_amount",
         "orientation": "v",
         "text": "",
         "type": "bar",
         "x": [
          10000,
          6000,
          8500,
          12000,
          14000,
          13000,
          7000,
          11000,
          15000,
          5000,
          16000,
          20000,
          18000,
          3500,
          4000,
          8000,
          19000,
          17000,
          2500,
          22000,
          21000,
          7500,
          9000,
          24000,
          23000,
          6500,
          40000,
          3000,
          12500,
          9500,
          2000,
          4500,
          5500,
          13500,
          26000,
          25000,
          27000,
          28000,
          11500,
          30000,
          10500,
          31000,
          44000,
          16500,
          33000,
          35000,
          29000,
          14500,
          39000,
          32000,
          18500,
          23500,
          36000,
          37000,
          22500,
          19500,
          38000,
          24500,
          21500,
          15500,
          20500,
          17500,
          31500,
          33500,
          34000,
          27500,
          29500,
          42000
         ],
         "y": [
          500,
          481,
          362,
          240,
          137,
          117,
          115,
          111,
          109,
          102,
          87,
          82,
          79,
          75,
          74,
          63,
          62,
          60,
          45,
          41,
          40,
          39,
          37,
          34,
          33,
          31,
          29,
          29,
          26,
          25,
          23,
          19,
          19,
          19,
          16,
          15,
          15,
          14,
          13,
          13,
          12,
          10,
          9,
          9,
          9,
          8,
          8,
          8,
          7,
          6,
          5,
          5,
          5,
          4,
          4,
          4,
          3,
          3,
          3,
          3,
          2,
          2,
          1,
          1,
          1,
          1,
          1,
          1
         ]
        }
       ],
       "layout": {
        "legend": {
         "bgcolor": "#F5F6F9",
         "font": {
          "color": "#4D5663"
         }
        },
        "paper_bgcolor": "#F5F6F9",
        "plot_bgcolor": "#F5F6F9",
        "template": {
         "data": {
          "bar": [
           {
            "error_x": {
             "color": "#2a3f5f"
            },
            "error_y": {
             "color": "#2a3f5f"
            },
            "marker": {
             "line": {
              "color": "#E5ECF6",
              "width": 0.5
             },
             "pattern": {
              "fillmode": "overlay",
              "size": 10,
              "solidity": 0.2
             }
            },
            "type": "bar"
           }
          ],
          "barpolar": [
           {
            "marker": {
             "line": {
              "color": "#E5ECF6",
              "width": 0.5
             },
             "pattern": {
              "fillmode": "overlay",
              "size": 10,
              "solidity": 0.2
             }
            },
            "type": "barpolar"
           }
          ],
          "carpet": [
           {
            "aaxis": {
             "endlinecolor": "#2a3f5f",
             "gridcolor": "white",
             "linecolor": "white",
             "minorgridcolor": "white",
             "startlinecolor": "#2a3f5f"
            },
            "baxis": {
             "endlinecolor": "#2a3f5f",
             "gridcolor": "white",
             "linecolor": "white",
             "minorgridcolor": "white",
             "startlinecolor": "#2a3f5f"
            },
            "type": "carpet"
           }
          ],
          "choropleth": [
           {
            "colorbar": {
             "outlinewidth": 0,
             "ticks": ""
            },
            "type": "choropleth"
           }
          ],
          "contour": [
           {
            "colorbar": {
             "outlinewidth": 0,
             "ticks": ""
            },
            "colorscale": [
             [
              0,
              "#0d0887"
             ],
             [
              0.1111111111111111,
              "#46039f"
             ],
             [
              0.2222222222222222,
              "#7201a8"
             ],
             [
              0.3333333333333333,
              "#9c179e"
             ],
             [
              0.4444444444444444,
              "#bd3786"
             ],
             [
              0.5555555555555556,
              "#d8576b"
             ],
             [
              0.6666666666666666,
              "#ed7953"
             ],
             [
              0.7777777777777778,
              "#fb9f3a"
             ],
             [
              0.8888888888888888,
              "#fdca26"
             ],
             [
              1,
              "#f0f921"
             ]
            ],
            "type": "contour"
           }
          ],
          "contourcarpet": [
           {
            "colorbar": {
             "outlinewidth": 0,
             "ticks": ""
            },
            "type": "contourcarpet"
           }
          ],
          "heatmap": [
           {
            "colorbar": {
             "outlinewidth": 0,
             "ticks": ""
            },
            "colorscale": [
             [
              0,
              "#0d0887"
             ],
             [
              0.1111111111111111,
              "#46039f"
             ],
             [
              0.2222222222222222,
              "#7201a8"
             ],
             [
              0.3333333333333333,
              "#9c179e"
             ],
             [
              0.4444444444444444,
              "#bd3786"
             ],
             [
              0.5555555555555556,
              "#d8576b"
             ],
             [
              0.6666666666666666,
              "#ed7953"
             ],
             [
              0.7777777777777778,
              "#fb9f3a"
             ],
             [
              0.8888888888888888,
              "#fdca26"
             ],
             [
              1,
              "#f0f921"
             ]
            ],
            "type": "heatmap"
           }
          ],
          "heatmapgl": [
           {
            "colorbar": {
             "outlinewidth": 0,
             "ticks": ""
            },
            "colorscale": [
             [
              0,
              "#0d0887"
             ],
             [
              0.1111111111111111,
              "#46039f"
             ],
             [
              0.2222222222222222,
              "#7201a8"
             ],
             [
              0.3333333333333333,
              "#9c179e"
             ],
             [
              0.4444444444444444,
              "#bd3786"
             ],
             [
              0.5555555555555556,
              "#d8576b"
             ],
             [
              0.6666666666666666,
              "#ed7953"
             ],
             [
              0.7777777777777778,
              "#fb9f3a"
             ],
             [
              0.8888888888888888,
              "#fdca26"
             ],
             [
              1,
              "#f0f921"
             ]
            ],
            "type": "heatmapgl"
           }
          ],
          "histogram": [
           {
            "marker": {
             "pattern": {
              "fillmode": "overlay",
              "size": 10,
              "solidity": 0.2
             }
            },
            "type": "histogram"
           }
          ],
          "histogram2d": [
           {
            "colorbar": {
             "outlinewidth": 0,
             "ticks": ""
            },
            "colorscale": [
             [
              0,
              "#0d0887"
             ],
             [
              0.1111111111111111,
              "#46039f"
             ],
             [
              0.2222222222222222,
              "#7201a8"
             ],
             [
              0.3333333333333333,
              "#9c179e"
             ],
             [
              0.4444444444444444,
              "#bd3786"
             ],
             [
              0.5555555555555556,
              "#d8576b"
             ],
             [
              0.6666666666666666,
              "#ed7953"
             ],
             [
              0.7777777777777778,
              "#fb9f3a"
             ],
             [
              0.8888888888888888,
              "#fdca26"
             ],
             [
              1,
              "#f0f921"
             ]
            ],
            "type": "histogram2d"
           }
          ],
          "histogram2dcontour": [
           {
            "colorbar": {
             "outlinewidth": 0,
             "ticks": ""
            },
            "colorscale": [
             [
              0,
              "#0d0887"
             ],
             [
              0.1111111111111111,
              "#46039f"
             ],
             [
              0.2222222222222222,
              "#7201a8"
             ],
             [
              0.3333333333333333,
              "#9c179e"
             ],
             [
              0.4444444444444444,
              "#bd3786"
             ],
             [
              0.5555555555555556,
              "#d8576b"
             ],
             [
              0.6666666666666666,
              "#ed7953"
             ],
             [
              0.7777777777777778,
              "#fb9f3a"
             ],
             [
              0.8888888888888888,
              "#fdca26"
             ],
             [
              1,
              "#f0f921"
             ]
            ],
            "type": "histogram2dcontour"
           }
          ],
          "mesh3d": [
           {
            "colorbar": {
             "outlinewidth": 0,
             "ticks": ""
            },
            "type": "mesh3d"
           }
          ],
          "parcoords": [
           {
            "line": {
             "colorbar": {
              "outlinewidth": 0,
              "ticks": ""
             }
            },
            "type": "parcoords"
           }
          ],
          "pie": [
           {
            "automargin": true,
            "type": "pie"
           }
          ],
          "scatter": [
           {
            "marker": {
             "colorbar": {
              "outlinewidth": 0,
              "ticks": ""
             }
            },
            "type": "scatter"
           }
          ],
          "scatter3d": [
           {
            "line": {
             "colorbar": {
              "outlinewidth": 0,
              "ticks": ""
             }
            },
            "marker": {
             "colorbar": {
              "outlinewidth": 0,
              "ticks": ""
             }
            },
            "type": "scatter3d"
           }
          ],
          "scattercarpet": [
           {
            "marker": {
             "colorbar": {
              "outlinewidth": 0,
              "ticks": ""
             }
            },
            "type": "scattercarpet"
           }
          ],
          "scattergeo": [
           {
            "marker": {
             "colorbar": {
              "outlinewidth": 0,
              "ticks": ""
             }
            },
            "type": "scattergeo"
           }
          ],
          "scattergl": [
           {
            "marker": {
             "colorbar": {
              "outlinewidth": 0,
              "ticks": ""
             }
            },
            "type": "scattergl"
           }
          ],
          "scattermapbox": [
           {
            "marker": {
             "colorbar": {
              "outlinewidth": 0,
              "ticks": ""
             }
            },
            "type": "scattermapbox"
           }
          ],
          "scatterpolar": [
           {
            "marker": {
             "colorbar": {
              "outlinewidth": 0,
              "ticks": ""
             }
            },
            "type": "scatterpolar"
           }
          ],
          "scatterpolargl": [
           {
            "marker": {
             "colorbar": {
              "outlinewidth": 0,
              "ticks": ""
             }
            },
            "type": "scatterpolargl"
           }
          ],
          "scatterternary": [
           {
            "marker": {
             "colorbar": {
              "outlinewidth": 0,
              "ticks": ""
             }
            },
            "type": "scatterternary"
           }
          ],
          "surface": [
           {
            "colorbar": {
             "outlinewidth": 0,
             "ticks": ""
            },
            "colorscale": [
             [
              0,
              "#0d0887"
             ],
             [
              0.1111111111111111,
              "#46039f"
             ],
             [
              0.2222222222222222,
              "#7201a8"
             ],
             [
              0.3333333333333333,
              "#9c179e"
             ],
             [
              0.4444444444444444,
              "#bd3786"
             ],
             [
              0.5555555555555556,
              "#d8576b"
             ],
             [
              0.6666666666666666,
              "#ed7953"
             ],
             [
              0.7777777777777778,
              "#fb9f3a"
             ],
             [
              0.8888888888888888,
              "#fdca26"
             ],
             [
              1,
              "#f0f921"
             ]
            ],
            "type": "surface"
           }
          ],
          "table": [
           {
            "cells": {
             "fill": {
              "color": "#EBF0F8"
             },
             "line": {
              "color": "white"
             }
            },
            "header": {
             "fill": {
              "color": "#C8D4E3"
             },
             "line": {
              "color": "white"
             }
            },
            "type": "table"
           }
          ]
         },
         "layout": {
          "annotationdefaults": {
           "arrowcolor": "#2a3f5f",
           "arrowhead": 0,
           "arrowwidth": 1
          },
          "autotypenumbers": "strict",
          "coloraxis": {
           "colorbar": {
            "outlinewidth": 0,
            "ticks": ""
           }
          },
          "colorscale": {
           "diverging": [
            [
             0,
             "#8e0152"
            ],
            [
             0.1,
             "#c51b7d"
            ],
            [
             0.2,
             "#de77ae"
            ],
            [
             0.3,
             "#f1b6da"
            ],
            [
             0.4,
             "#fde0ef"
            ],
            [
             0.5,
             "#f7f7f7"
            ],
            [
             0.6,
             "#e6f5d0"
            ],
            [
             0.7,
             "#b8e186"
            ],
            [
             0.8,
             "#7fbc41"
            ],
            [
             0.9,
             "#4d9221"
            ],
            [
             1,
             "#276419"
            ]
           ],
           "sequential": [
            [
             0,
             "#0d0887"
            ],
            [
             0.1111111111111111,
             "#46039f"
            ],
            [
             0.2222222222222222,
             "#7201a8"
            ],
            [
             0.3333333333333333,
             "#9c179e"
            ],
            [
             0.4444444444444444,
             "#bd3786"
            ],
            [
             0.5555555555555556,
             "#d8576b"
            ],
            [
             0.6666666666666666,
             "#ed7953"
            ],
            [
             0.7777777777777778,
             "#fb9f3a"
            ],
            [
             0.8888888888888888,
             "#fdca26"
            ],
            [
             1,
             "#f0f921"
            ]
           ],
           "sequentialminus": [
            [
             0,
             "#0d0887"
            ],
            [
             0.1111111111111111,
             "#46039f"
            ],
            [
             0.2222222222222222,
             "#7201a8"
            ],
            [
             0.3333333333333333,
             "#9c179e"
            ],
            [
             0.4444444444444444,
             "#bd3786"
            ],
            [
             0.5555555555555556,
             "#d8576b"
            ],
            [
             0.6666666666666666,
             "#ed7953"
            ],
            [
             0.7777777777777778,
             "#fb9f3a"
            ],
            [
             0.8888888888888888,
             "#fdca26"
            ],
            [
             1,
             "#f0f921"
            ]
           ]
          },
          "colorway": [
           "#636efa",
           "#EF553B",
           "#00cc96",
           "#ab63fa",
           "#FFA15A",
           "#19d3f3",
           "#FF6692",
           "#B6E880",
           "#FF97FF",
           "#FECB52"
          ],
          "font": {
           "color": "#2a3f5f"
          },
          "geo": {
           "bgcolor": "white",
           "lakecolor": "white",
           "landcolor": "#E5ECF6",
           "showlakes": true,
           "showland": true,
           "subunitcolor": "white"
          },
          "hoverlabel": {
           "align": "left"
          },
          "hovermode": "closest",
          "mapbox": {
           "style": "light"
          },
          "paper_bgcolor": "white",
          "plot_bgcolor": "#E5ECF6",
          "polar": {
           "angularaxis": {
            "gridcolor": "white",
            "linecolor": "white",
            "ticks": ""
           },
           "bgcolor": "#E5ECF6",
           "radialaxis": {
            "gridcolor": "white",
            "linecolor": "white",
            "ticks": ""
           }
          },
          "scene": {
           "xaxis": {
            "backgroundcolor": "#E5ECF6",
            "gridcolor": "white",
            "gridwidth": 2,
            "linecolor": "white",
            "showbackground": true,
            "ticks": "",
            "zerolinecolor": "white"
           },
           "yaxis": {
            "backgroundcolor": "#E5ECF6",
            "gridcolor": "white",
            "gridwidth": 2,
            "linecolor": "white",
            "showbackground": true,
            "ticks": "",
            "zerolinecolor": "white"
           },
           "zaxis": {
            "backgroundcolor": "#E5ECF6",
            "gridcolor": "white",
            "gridwidth": 2,
            "linecolor": "white",
            "showbackground": true,
            "ticks": "",
            "zerolinecolor": "white"
           }
          },
          "shapedefaults": {
           "line": {
            "color": "#2a3f5f"
           }
          },
          "ternary": {
           "aaxis": {
            "gridcolor": "white",
            "linecolor": "white",
            "ticks": ""
           },
           "baxis": {
            "gridcolor": "white",
            "linecolor": "white",
            "ticks": ""
           },
           "bgcolor": "#E5ECF6",
           "caxis": {
            "gridcolor": "white",
            "linecolor": "white",
            "ticks": ""
           }
          },
          "title": {
           "x": 0.05
          },
          "xaxis": {
           "automargin": true,
           "gridcolor": "white",
           "linecolor": "white",
           "ticks": "",
           "title": {
            "standoff": 15
           },
           "zerolinecolor": "white",
           "zerolinewidth": 2
          },
          "yaxis": {
           "automargin": true,
           "gridcolor": "white",
           "linecolor": "white",
           "ticks": "",
           "title": {
            "standoff": 15
           },
           "zerolinecolor": "white",
           "zerolinewidth": 2
          }
         }
        },
        "title": {
         "font": {
          "color": "#4D5663"
         }
        },
        "xaxis": {
         "gridcolor": "#E1E5ED",
         "showgrid": true,
         "tickfont": {
          "color": "#4D5663"
         },
         "title": {
          "font": {
           "color": "#4D5663"
          },
          "text": ""
         },
         "zerolinecolor": "#E1E5ED"
        },
        "yaxis": {
         "gridcolor": "#E1E5ED",
         "showgrid": true,
         "tickfont": {
          "color": "#4D5663"
         },
         "title": {
          "font": {
           "color": "#4D5663"
          },
          "text": ""
         },
         "zerolinecolor": "#E1E5ED"
        }
       }
      },
      "text/html": [
       "<div>                            <div id=\"519beb25-36d1-43b4-896f-09e10839360a\" class=\"plotly-graph-div\" style=\"height:525px; width:100%;\"></div>            <script type=\"text/javascript\">                require([\"plotly\"], function(Plotly) {                    window.PLOTLYENV=window.PLOTLYENV || {};\n",
       "                    window.PLOTLYENV.BASE_URL='https://plot.ly';                                    if (document.getElementById(\"519beb25-36d1-43b4-896f-09e10839360a\")) {                    Plotly.newPlot(                        \"519beb25-36d1-43b4-896f-09e10839360a\",                        [{\"marker\":{\"color\":\"rgba(255, 153, 51, 0.6)\",\"line\":{\"color\":\"rgba(255, 153, 51, 1.0)\",\"width\":1}},\"name\":\"loan_amount\",\"orientation\":\"v\",\"text\":\"\",\"x\":[10000,6000,8500,12000,14000,13000,7000,11000,15000,5000,16000,20000,18000,3500,4000,8000,19000,17000,2500,22000,21000,7500,9000,24000,23000,6500,40000,3000,12500,9500,2000,4500,5500,13500,26000,25000,27000,28000,11500,30000,10500,31000,44000,16500,33000,35000,29000,14500,39000,32000,18500,23500,36000,37000,22500,19500,38000,24500,21500,15500,20500,17500,31500,33500,34000,27500,29500,42000],\"y\":[500,481,362,240,137,117,115,111,109,102,87,82,79,75,74,63,62,60,45,41,40,39,37,34,33,31,29,29,26,25,23,19,19,19,16,15,15,14,13,13,12,10,9,9,9,8,8,8,7,6,5,5,5,4,4,4,3,3,3,3,2,2,1,1,1,1,1,1],\"type\":\"bar\"}],                        {\"legend\":{\"bgcolor\":\"#F5F6F9\",\"font\":{\"color\":\"#4D5663\"}},\"paper_bgcolor\":\"#F5F6F9\",\"plot_bgcolor\":\"#F5F6F9\",\"template\":{\"data\":{\"barpolar\":[{\"marker\":{\"line\":{\"color\":\"#E5ECF6\",\"width\":0.5},\"pattern\":{\"fillmode\":\"overlay\",\"size\":10,\"solidity\":0.2}},\"type\":\"barpolar\"}],\"bar\":[{\"error_x\":{\"color\":\"#2a3f5f\"},\"error_y\":{\"color\":\"#2a3f5f\"},\"marker\":{\"line\":{\"color\":\"#E5ECF6\",\"width\":0.5},\"pattern\":{\"fillmode\":\"overlay\",\"size\":10,\"solidity\":0.2}},\"type\":\"bar\"}],\"carpet\":[{\"aaxis\":{\"endlinecolor\":\"#2a3f5f\",\"gridcolor\":\"white\",\"linecolor\":\"white\",\"minorgridcolor\":\"white\",\"startlinecolor\":\"#2a3f5f\"},\"baxis\":{\"endlinecolor\":\"#2a3f5f\",\"gridcolor\":\"white\",\"linecolor\":\"white\",\"minorgridcolor\":\"white\",\"startlinecolor\":\"#2a3f5f\"},\"type\":\"carpet\"}],\"choropleth\":[{\"colorbar\":{\"outlinewidth\":0,\"ticks\":\"\"},\"type\":\"choropleth\"}],\"contourcarpet\":[{\"colorbar\":{\"outlinewidth\":0,\"ticks\":\"\"},\"type\":\"contourcarpet\"}],\"contour\":[{\"colorbar\":{\"outlinewidth\":0,\"ticks\":\"\"},\"colorscale\":[[0.0,\"#0d0887\"],[0.1111111111111111,\"#46039f\"],[0.2222222222222222,\"#7201a8\"],[0.3333333333333333,\"#9c179e\"],[0.4444444444444444,\"#bd3786\"],[0.5555555555555556,\"#d8576b\"],[0.6666666666666666,\"#ed7953\"],[0.7777777777777778,\"#fb9f3a\"],[0.8888888888888888,\"#fdca26\"],[1.0,\"#f0f921\"]],\"type\":\"contour\"}],\"heatmapgl\":[{\"colorbar\":{\"outlinewidth\":0,\"ticks\":\"\"},\"colorscale\":[[0.0,\"#0d0887\"],[0.1111111111111111,\"#46039f\"],[0.2222222222222222,\"#7201a8\"],[0.3333333333333333,\"#9c179e\"],[0.4444444444444444,\"#bd3786\"],[0.5555555555555556,\"#d8576b\"],[0.6666666666666666,\"#ed7953\"],[0.7777777777777778,\"#fb9f3a\"],[0.8888888888888888,\"#fdca26\"],[1.0,\"#f0f921\"]],\"type\":\"heatmapgl\"}],\"heatmap\":[{\"colorbar\":{\"outlinewidth\":0,\"ticks\":\"\"},\"colorscale\":[[0.0,\"#0d0887\"],[0.1111111111111111,\"#46039f\"],[0.2222222222222222,\"#7201a8\"],[0.3333333333333333,\"#9c179e\"],[0.4444444444444444,\"#bd3786\"],[0.5555555555555556,\"#d8576b\"],[0.6666666666666666,\"#ed7953\"],[0.7777777777777778,\"#fb9f3a\"],[0.8888888888888888,\"#fdca26\"],[1.0,\"#f0f921\"]],\"type\":\"heatmap\"}],\"histogram2dcontour\":[{\"colorbar\":{\"outlinewidth\":0,\"ticks\":\"\"},\"colorscale\":[[0.0,\"#0d0887\"],[0.1111111111111111,\"#46039f\"],[0.2222222222222222,\"#7201a8\"],[0.3333333333333333,\"#9c179e\"],[0.4444444444444444,\"#bd3786\"],[0.5555555555555556,\"#d8576b\"],[0.6666666666666666,\"#ed7953\"],[0.7777777777777778,\"#fb9f3a\"],[0.8888888888888888,\"#fdca26\"],[1.0,\"#f0f921\"]],\"type\":\"histogram2dcontour\"}],\"histogram2d\":[{\"colorbar\":{\"outlinewidth\":0,\"ticks\":\"\"},\"colorscale\":[[0.0,\"#0d0887\"],[0.1111111111111111,\"#46039f\"],[0.2222222222222222,\"#7201a8\"],[0.3333333333333333,\"#9c179e\"],[0.4444444444444444,\"#bd3786\"],[0.5555555555555556,\"#d8576b\"],[0.6666666666666666,\"#ed7953\"],[0.7777777777777778,\"#fb9f3a\"],[0.8888888888888888,\"#fdca26\"],[1.0,\"#f0f921\"]],\"type\":\"histogram2d\"}],\"histogram\":[{\"marker\":{\"pattern\":{\"fillmode\":\"overlay\",\"size\":10,\"solidity\":0.2}},\"type\":\"histogram\"}],\"mesh3d\":[{\"colorbar\":{\"outlinewidth\":0,\"ticks\":\"\"},\"type\":\"mesh3d\"}],\"parcoords\":[{\"line\":{\"colorbar\":{\"outlinewidth\":0,\"ticks\":\"\"}},\"type\":\"parcoords\"}],\"pie\":[{\"automargin\":true,\"type\":\"pie\"}],\"scatter3d\":[{\"line\":{\"colorbar\":{\"outlinewidth\":0,\"ticks\":\"\"}},\"marker\":{\"colorbar\":{\"outlinewidth\":0,\"ticks\":\"\"}},\"type\":\"scatter3d\"}],\"scattercarpet\":[{\"marker\":{\"colorbar\":{\"outlinewidth\":0,\"ticks\":\"\"}},\"type\":\"scattercarpet\"}],\"scattergeo\":[{\"marker\":{\"colorbar\":{\"outlinewidth\":0,\"ticks\":\"\"}},\"type\":\"scattergeo\"}],\"scattergl\":[{\"marker\":{\"colorbar\":{\"outlinewidth\":0,\"ticks\":\"\"}},\"type\":\"scattergl\"}],\"scattermapbox\":[{\"marker\":{\"colorbar\":{\"outlinewidth\":0,\"ticks\":\"\"}},\"type\":\"scattermapbox\"}],\"scatterpolargl\":[{\"marker\":{\"colorbar\":{\"outlinewidth\":0,\"ticks\":\"\"}},\"type\":\"scatterpolargl\"}],\"scatterpolar\":[{\"marker\":{\"colorbar\":{\"outlinewidth\":0,\"ticks\":\"\"}},\"type\":\"scatterpolar\"}],\"scatter\":[{\"marker\":{\"colorbar\":{\"outlinewidth\":0,\"ticks\":\"\"}},\"type\":\"scatter\"}],\"scatterternary\":[{\"marker\":{\"colorbar\":{\"outlinewidth\":0,\"ticks\":\"\"}},\"type\":\"scatterternary\"}],\"surface\":[{\"colorbar\":{\"outlinewidth\":0,\"ticks\":\"\"},\"colorscale\":[[0.0,\"#0d0887\"],[0.1111111111111111,\"#46039f\"],[0.2222222222222222,\"#7201a8\"],[0.3333333333333333,\"#9c179e\"],[0.4444444444444444,\"#bd3786\"],[0.5555555555555556,\"#d8576b\"],[0.6666666666666666,\"#ed7953\"],[0.7777777777777778,\"#fb9f3a\"],[0.8888888888888888,\"#fdca26\"],[1.0,\"#f0f921\"]],\"type\":\"surface\"}],\"table\":[{\"cells\":{\"fill\":{\"color\":\"#EBF0F8\"},\"line\":{\"color\":\"white\"}},\"header\":{\"fill\":{\"color\":\"#C8D4E3\"},\"line\":{\"color\":\"white\"}},\"type\":\"table\"}]},\"layout\":{\"annotationdefaults\":{\"arrowcolor\":\"#2a3f5f\",\"arrowhead\":0,\"arrowwidth\":1},\"autotypenumbers\":\"strict\",\"coloraxis\":{\"colorbar\":{\"outlinewidth\":0,\"ticks\":\"\"}},\"colorscale\":{\"diverging\":[[0,\"#8e0152\"],[0.1,\"#c51b7d\"],[0.2,\"#de77ae\"],[0.3,\"#f1b6da\"],[0.4,\"#fde0ef\"],[0.5,\"#f7f7f7\"],[0.6,\"#e6f5d0\"],[0.7,\"#b8e186\"],[0.8,\"#7fbc41\"],[0.9,\"#4d9221\"],[1,\"#276419\"]],\"sequential\":[[0.0,\"#0d0887\"],[0.1111111111111111,\"#46039f\"],[0.2222222222222222,\"#7201a8\"],[0.3333333333333333,\"#9c179e\"],[0.4444444444444444,\"#bd3786\"],[0.5555555555555556,\"#d8576b\"],[0.6666666666666666,\"#ed7953\"],[0.7777777777777778,\"#fb9f3a\"],[0.8888888888888888,\"#fdca26\"],[1.0,\"#f0f921\"]],\"sequentialminus\":[[0.0,\"#0d0887\"],[0.1111111111111111,\"#46039f\"],[0.2222222222222222,\"#7201a8\"],[0.3333333333333333,\"#9c179e\"],[0.4444444444444444,\"#bd3786\"],[0.5555555555555556,\"#d8576b\"],[0.6666666666666666,\"#ed7953\"],[0.7777777777777778,\"#fb9f3a\"],[0.8888888888888888,\"#fdca26\"],[1.0,\"#f0f921\"]]},\"colorway\":[\"#636efa\",\"#EF553B\",\"#00cc96\",\"#ab63fa\",\"#FFA15A\",\"#19d3f3\",\"#FF6692\",\"#B6E880\",\"#FF97FF\",\"#FECB52\"],\"font\":{\"color\":\"#2a3f5f\"},\"geo\":{\"bgcolor\":\"white\",\"lakecolor\":\"white\",\"landcolor\":\"#E5ECF6\",\"showlakes\":true,\"showland\":true,\"subunitcolor\":\"white\"},\"hoverlabel\":{\"align\":\"left\"},\"hovermode\":\"closest\",\"mapbox\":{\"style\":\"light\"},\"paper_bgcolor\":\"white\",\"plot_bgcolor\":\"#E5ECF6\",\"polar\":{\"angularaxis\":{\"gridcolor\":\"white\",\"linecolor\":\"white\",\"ticks\":\"\"},\"bgcolor\":\"#E5ECF6\",\"radialaxis\":{\"gridcolor\":\"white\",\"linecolor\":\"white\",\"ticks\":\"\"}},\"scene\":{\"xaxis\":{\"backgroundcolor\":\"#E5ECF6\",\"gridcolor\":\"white\",\"gridwidth\":2,\"linecolor\":\"white\",\"showbackground\":true,\"ticks\":\"\",\"zerolinecolor\":\"white\"},\"yaxis\":{\"backgroundcolor\":\"#E5ECF6\",\"gridcolor\":\"white\",\"gridwidth\":2,\"linecolor\":\"white\",\"showbackground\":true,\"ticks\":\"\",\"zerolinecolor\":\"white\"},\"zaxis\":{\"backgroundcolor\":\"#E5ECF6\",\"gridcolor\":\"white\",\"gridwidth\":2,\"linecolor\":\"white\",\"showbackground\":true,\"ticks\":\"\",\"zerolinecolor\":\"white\"}},\"shapedefaults\":{\"line\":{\"color\":\"#2a3f5f\"}},\"ternary\":{\"aaxis\":{\"gridcolor\":\"white\",\"linecolor\":\"white\",\"ticks\":\"\"},\"baxis\":{\"gridcolor\":\"white\",\"linecolor\":\"white\",\"ticks\":\"\"},\"bgcolor\":\"#E5ECF6\",\"caxis\":{\"gridcolor\":\"white\",\"linecolor\":\"white\",\"ticks\":\"\"}},\"title\":{\"x\":0.05},\"xaxis\":{\"automargin\":true,\"gridcolor\":\"white\",\"linecolor\":\"white\",\"ticks\":\"\",\"title\":{\"standoff\":15},\"zerolinecolor\":\"white\",\"zerolinewidth\":2},\"yaxis\":{\"automargin\":true,\"gridcolor\":\"white\",\"linecolor\":\"white\",\"ticks\":\"\",\"title\":{\"standoff\":15},\"zerolinecolor\":\"white\",\"zerolinewidth\":2}}},\"title\":{\"font\":{\"color\":\"#4D5663\"}},\"xaxis\":{\"gridcolor\":\"#E1E5ED\",\"showgrid\":true,\"tickfont\":{\"color\":\"#4D5663\"},\"title\":{\"font\":{\"color\":\"#4D5663\"},\"text\":\"\"},\"zerolinecolor\":\"#E1E5ED\"},\"yaxis\":{\"gridcolor\":\"#E1E5ED\",\"showgrid\":true,\"tickfont\":{\"color\":\"#4D5663\"},\"title\":{\"font\":{\"color\":\"#4D5663\"},\"text\":\"\"},\"zerolinecolor\":\"#E1E5ED\"}},                        {\"showLink\": true, \"linkText\": \"Export to plot.ly\", \"plotlyServerURL\": \"https://plot.ly\", \"responsive\": true}                    ).then(function(){\n",
       "                            \n",
       "var gd = document.getElementById('519beb25-36d1-43b4-896f-09e10839360a');\n",
       "var x = new MutationObserver(function (mutations, observer) {{\n",
       "        var display = window.getComputedStyle(gd).display;\n",
       "        if (!display || display === 'none') {{\n",
       "            console.log([gd, 'removed!']);\n",
       "            Plotly.purge(gd);\n",
       "            observer.disconnect();\n",
       "        }}\n",
       "}});\n",
       "\n",
       "// Listen for the removal of the full notebook cells\n",
       "var notebookContainer = gd.closest('#notebook-container');\n",
       "if (notebookContainer) {{\n",
       "    x.observe(notebookContainer, {childList: true});\n",
       "}}\n",
       "\n",
       "// Listen for the clearing of the current output cell\n",
       "var outputEl = gd.closest('.output');\n",
       "if (outputEl) {{\n",
       "    x.observe(outputEl, {childList: true});\n",
       "}}\n",
       "\n",
       "                        })                };                });            </script>        </div>"
      ]
     },
     "metadata": {},
     "output_type": "display_data"
    }
   ],
   "source": [
    "d.loan_amount.value_counts().iplot(kind='bar')"
   ]
  },
  {
   "cell_type": "code",
   "execution_count": 27,
   "id": "4cd98f42",
   "metadata": {},
   "outputs": [
    {
     "data": {
      "text/plain": [
       "10000    14.021312\n",
       "6000     13.488503\n",
       "8500     10.151430\n",
       "12000     6.730230\n",
       "14000     3.841840\n",
       "13000     3.280987\n",
       "7000      3.224902\n",
       "11000     3.112731\n",
       "15000     3.056646\n",
       "5000      2.860348\n",
       "16000     2.439708\n",
       "20000     2.299495\n",
       "18000     2.215367\n",
       "3500      2.103197\n",
       "4000      2.075154\n",
       "8000      1.766685\n",
       "19000     1.738643\n",
       "17000     1.682557\n",
       "2500      1.261918\n",
       "22000     1.149748\n",
       "21000     1.121705\n",
       "7500      1.093662\n",
       "9000      1.037577\n",
       "24000     0.953449\n",
       "23000     0.925407\n",
       "6500      0.869321\n",
       "40000     0.813236\n",
       "3000      0.813236\n",
       "12500     0.729108\n",
       "9500      0.701066\n",
       "2000      0.644980\n",
       "4500      0.532810\n",
       "5500      0.532810\n",
       "13500     0.532810\n",
       "26000     0.448682\n",
       "25000     0.420639\n",
       "27000     0.420639\n",
       "28000     0.392597\n",
       "11500     0.364554\n",
       "30000     0.364554\n",
       "10500     0.336511\n",
       "31000     0.280426\n",
       "44000     0.252384\n",
       "16500     0.252384\n",
       "33000     0.252384\n",
       "35000     0.224341\n",
       "29000     0.224341\n",
       "14500     0.224341\n",
       "39000     0.196298\n",
       "32000     0.168256\n",
       "18500     0.140213\n",
       "23500     0.140213\n",
       "36000     0.140213\n",
       "37000     0.112170\n",
       "22500     0.112170\n",
       "19500     0.112170\n",
       "38000     0.084128\n",
       "24500     0.084128\n",
       "21500     0.084128\n",
       "15500     0.084128\n",
       "20500     0.056085\n",
       "17500     0.056085\n",
       "31500     0.028043\n",
       "33500     0.028043\n",
       "34000     0.028043\n",
       "27500     0.028043\n",
       "29500     0.028043\n",
       "42000     0.028043\n",
       "Name: loan_amount, dtype: float64"
      ]
     },
     "execution_count": 27,
     "metadata": {},
     "output_type": "execute_result"
    }
   ],
   "source": [
    "d.loan_amount.value_counts(normalize=True)*100"
   ]
  },
  {
   "cell_type": "code",
   "execution_count": 28,
   "id": "0fb9ef8c",
   "metadata": {},
   "outputs": [
    {
     "data": {
      "text/plain": [
       "Software/IT/ITES/BPO                           46.788219\n",
       "Manufacturing                                  11.051893\n",
       "Others                                          8.695652\n",
       "Banking and Financial Services                  8.162693\n",
       "Healthcare                                      6.535764\n",
       "Construction,Real Estate and infrastructure     4.011220\n",
       "Education                                       3.534362\n",
       "Retail                                          3.506311\n",
       "Govt/PSU/Defence                                2.047686\n",
       "Media/Entertainment                             1.795231\n",
       "Transport and Logistics                         1.654979\n",
       "Automobile                                      1.318373\n",
       "Tourism                                         0.476858\n",
       "Aviation                                        0.364656\n",
       "Security                                        0.056101\n",
       "Name: proinfo_industry, dtype: float64"
      ]
     },
     "execution_count": 28,
     "metadata": {},
     "output_type": "execute_result"
    }
   ],
   "source": [
    "d['proinfo_industry'].value_counts(normalize=True)*100"
   ]
  },
  {
   "cell_type": "code",
   "execution_count": 29,
   "id": "401e42f5",
   "metadata": {},
   "outputs": [
    {
     "data": {
      "text/plain": [
       "IT                                                      8.524958\n",
       "sales                                                   4.655076\n",
       "Sales                                                   3.645541\n",
       "Operations                                              2.383623\n",
       "it                                                      1.934941\n",
       "Finance                                                 1.598430\n",
       "production                                              1.205833\n",
       "operations                                              1.065620\n",
       "finance                                                 1.065620\n",
       "HR                                                      0.981492\n",
       "Marketing                                               0.925407\n",
       "marketing                                               0.869321\n",
       "software                                                0.869321\n",
       "sales                                                   0.644980\n",
       "SALES                                                   0.644980\n",
       "Operation                                               0.588895\n",
       "information technology                                  0.560852\n",
       "accounts                                                0.560852\n",
       "engineering                                             0.532810\n",
       "Business Development                                    0.532810\n",
       "Engineering                                             0.504767\n",
       "Software                                                0.504767\n",
       "Marketing                                               0.504767\n",
       "Information Technology                                  0.448682\n",
       "Production                                              0.448682\n",
       "software                                                0.420639\n",
       "Sales                                                   0.392597\n",
       "operation                                               0.392597\n",
       "Information technology                                  0.364554\n",
       "BPO                                                     0.336511\n",
       "retail                                                  0.308469\n",
       "Accounts                                                0.308469\n",
       "Training                                                0.308469\n",
       "insurance                                               0.308469\n",
       "service                                                 0.280426\n",
       "quality                                                 0.280426\n",
       "Quality                                                 0.280426\n",
       "IT                                                      0.252384\n",
       "Information Technology                                  0.252384\n",
       "admin                                                   0.252384\n",
       "software Engineer                                       0.252384\n",
       "operations                                              0.252384\n",
       "healthcare                                              0.224341\n",
       "INFORMATION TECHNOLOGY                                  0.224341\n",
       "OPERATIONS                                              0.224341\n",
       "design                                                  0.224341\n",
       "sales and marketing                                     0.196298\n",
       "manager                                                 0.196298\n",
       "Customer Experience                                     0.196298\n",
       "banking                                                 0.196298\n",
       "Customer Service                                        0.196298\n",
       "Operations                                              0.196298\n",
       "Healthcare                                              0.196298\n",
       "Technical                                               0.196298\n",
       "technical                                               0.196298\n",
       "Retail                                                  0.168256\n",
       "Telecom                                                 0.168256\n",
       "Health                                                  0.168256\n",
       "Testing                                                 0.168256\n",
       "Development                                             0.168256\n",
       "Agency                                                  0.168256\n",
       "project management                                      0.168256\n",
       "R&D                                                     0.168256\n",
       "ATCI                                                    0.168256\n",
       "Software                                                0.168256\n",
       "Human Resource                                          0.168256\n",
       "QA                                                      0.168256\n",
       "Operation                                               0.140213\n",
       "HR                                                      0.140213\n",
       "Technology                                              0.140213\n",
       "accounts                                                0.140213\n",
       "AR                                                      0.140213\n",
       "Production                                              0.140213\n",
       "BUSINESS DEVELOPMENT                                    0.140213\n",
       "ITES                                                    0.140213\n",
       "Management                                              0.140213\n",
       "Software Development                                    0.140213\n",
       "Quality control                                         0.140213\n",
       "Insurance                                               0.140213\n",
       "logistics                                               0.140213\n",
       "customer service                                        0.140213\n",
       "Projects                                                0.140213\n",
       "manufacturing                                           0.140213\n",
       "Sales and Marketing                                     0.140213\n",
       "Engineering                                             0.140213\n",
       "Maintenance                                             0.140213\n",
       "human resources                                         0.140213\n",
       "Human Resources                                         0.140213\n",
       "Talent Acquisition                                      0.112170\n",
       "production                                              0.112170\n",
       "medical                                                 0.112170\n",
       "Healthcare                                              0.112170\n",
       "software engineer                                       0.112170\n",
       "Medical                                                 0.112170\n",
       "warehouse                                               0.112170\n",
       "TCF                                                     0.112170\n",
       "Quality                                                 0.112170\n",
       "administration                                          0.112170\n",
       "Medical Billing                                         0.112170\n",
       "SOFTWARE                                                0.112170\n",
       "customer support                                        0.112170\n",
       "medical coding                                          0.112170\n",
       "project                                                 0.112170\n",
       "hr                                                      0.112170\n",
       "Tax                                                     0.112170\n",
       "Education                                               0.112170\n",
       "DSF                                                     0.112170\n",
       "training                                                0.112170\n",
       "Design                                                  0.112170\n",
       "Information security                                    0.112170\n",
       "qa                                                      0.112170\n",
       "engineering                                             0.112170\n",
       "Customer success                                        0.112170\n",
       "Admin                                                   0.112170\n",
       "sales manager                                           0.112170\n",
       "IT Support                                              0.112170\n",
       "technology                                              0.112170\n",
       "Sales and Support                                       0.112170\n",
       "projects                                                0.112170\n",
       "Digital Marketing                                       0.112170\n",
       "ITES/BPO                                                0.112170\n",
       "operation                                               0.112170\n",
       "Corporate                                               0.112170\n",
       "FINANCE                                                 0.112170\n",
       "Customer Support                                        0.112170\n",
       "software development                                    0.112170\n",
       "sales and marketing                                     0.112170\n",
       "mortgage                                                0.112170\n",
       "construction                                            0.112170\n",
       "FINANCE                                                 0.112170\n",
       "Financial services                                      0.112170\n",
       "purchase                                                0.084128\n",
       "KPO                                                     0.084128\n",
       "SOFTWARE                                                0.084128\n",
       "DESIGN                                                  0.084128\n",
       "3D COMP                                                 0.084128\n",
       "mining                                                  0.084128\n",
       "compliance                                              0.084128\n",
       "Business Operations                                     0.084128\n",
       "testing                                                 0.084128\n",
       "Business development                                    0.084128\n",
       "CARE _VOIS                                              0.084128\n",
       "Media                                                   0.084128\n",
       "IT department                                           0.084128\n",
       "Process                                                 0.084128\n",
       "quality control                                         0.084128\n",
       "Acquisition                                             0.084128\n",
       "Software Developer                                      0.084128\n",
       "development                                             0.084128\n",
       "US Staffing                                             0.084128\n",
       "Nursing                                                 0.084128\n",
       "IT DEPARTMENT                                           0.084128\n",
       "quality assurance                                       0.084128\n",
       "Manager                                                 0.084128\n",
       "RCM                                                     0.084128\n",
       "store                                                   0.084128\n",
       "business development                                    0.084128\n",
       "digital                                                 0.084128\n",
       "Administration                                          0.084128\n",
       "verizon                                                 0.084128\n",
       "Civil                                                   0.084128\n",
       "TRANSMISSION                                            0.084128\n",
       "hst                                                     0.084128\n",
       "REVA Academy for Corporate Excellence                   0.084128\n",
       "Sales & Marketing                                       0.084128\n",
       "telecommunications                                      0.084128\n",
       "SD                                                      0.084128\n",
       "safety                                                  0.084128\n",
       "telecom                                                 0.084128\n",
       "Service                                                 0.084128\n",
       "It                                                      0.084128\n",
       "ites                                                    0.084128\n",
       "Quality assurance                                       0.084128\n",
       "quality                                                 0.084128\n",
       "power plant                                             0.084128\n",
       "software development                                    0.084128\n",
       "Audit                                                   0.084128\n",
       "Finance                                                 0.084128\n",
       "Utility                                                 0.084128\n",
       "Business Development                                    0.084128\n",
       "MECHANICAL                                              0.084128\n",
       "Software development                                    0.084128\n",
       "IT Software                                             0.084128\n",
       "gbs                                                     0.084128\n",
       "TEG                                                     0.084128\n",
       "Facilities                                              0.084128\n",
       "EHS                                                     0.084128\n",
       "Recruitment                                             0.084128\n",
       "HUMAN RESOURCES                                         0.084128\n",
       "administration                                          0.084128\n",
       "health care                                             0.084128\n",
       "bpo                                                     0.084128\n",
       "SOFTWARE ENGINEER                                       0.084128\n",
       "Hr                                                      0.084128\n",
       "SALES                                                   0.084128\n",
       "ROBOTICS                                                0.084128\n",
       "digital marketing                                       0.056085\n",
       "Calibration                                             0.056085\n",
       "Change management                                       0.056085\n",
       "sales marketing                                         0.056085\n",
       "Facilities services                                     0.056085\n",
       "Infra                                                   0.056085\n",
       "maintenance                                             0.056085\n",
       "Bank Loans                                              0.056085\n",
       "Treasury                                                0.056085\n",
       "education                                               0.056085\n",
       "ta                                                      0.056085\n",
       "computers                                               0.056085\n",
       "Health Care                                             0.056085\n",
       "Mines                                                   0.056085\n",
       "seller support                                          0.056085\n",
       "network                                                 0.056085\n",
       "cUSTOMER SERVICE                                        0.056085\n",
       "information technology                                  0.056085\n",
       "sales department                                        0.056085\n",
       "retentions                                              0.056085\n",
       "PJM                                                     0.056085\n",
       "IT Department                                           0.056085\n",
       "Accouts                                                 0.056085\n",
       "RND                                                     0.056085\n",
       "human resources                                         0.056085\n",
       "Designing                                               0.056085\n",
       "Sea Export                                              0.056085\n",
       "qc                                                      0.056085\n",
       "EST                                                     0.056085\n",
       "spares ops                                              0.056085\n",
       "student success manager                                 0.056085\n",
       "L & D                                                   0.056085\n",
       "parts catalogue                                         0.056085\n",
       "HVAC                                                    0.056085\n",
       "ADMIN                                                   0.056085\n",
       "PRI SUBDIVISION CHIRALA                                 0.056085\n",
       "Global Reporting                                        0.056085\n",
       "Blackjack                                               0.056085\n",
       "Account                                                 0.056085\n",
       "corporate                                               0.056085\n",
       "customer service                                        0.056085\n",
       "staffing Industry                                       0.056085\n",
       "Pharmaceutical                                          0.056085\n",
       "CONTENT DEVELOPMENT                                     0.056085\n",
       "technical                                               0.056085\n",
       "Customer Support Operations                             0.056085\n",
       "Product                                                 0.056085\n",
       "PRAC                                                    0.056085\n",
       "pharma                                                  0.056085\n",
       "engineering services                                    0.056085\n",
       "Analytics                                               0.056085\n",
       "Direct Sales                                            0.056085\n",
       "ofss                                                    0.056085\n",
       "Medical Coding                                          0.056085\n",
       "Technical                                               0.056085\n",
       "Finance & Accounts                                      0.056085\n",
       "TNE                                                     0.056085\n",
       "Human resource                                          0.056085\n",
       "COMPOSITING                                             0.056085\n",
       "Supervisor, WFM                                         0.056085\n",
       "EBO-Hospital                                            0.056085\n",
       "Customer service                                        0.056085\n",
       "Customer Success                                        0.056085\n",
       "Credentialing                                           0.056085\n",
       "it                                                      0.056085\n",
       "planning                                                0.056085\n",
       "Banca                                                   0.056085\n",
       "Techinal                                                0.056085\n",
       "origination                                             0.056085\n",
       "IT department                                           0.056085\n",
       "stores                                                  0.056085\n",
       "AUTOMATION                                              0.056085\n",
       "clinical                                                0.056085\n",
       "fiduciary trust                                         0.056085\n",
       "BANKA                                                   0.056085\n",
       "PTS                                                     0.056085\n",
       "IT/ites                                                 0.056085\n",
       "CEE RO                                                  0.056085\n",
       "planning                                                0.056085\n",
       "construction management                                 0.056085\n",
       "fsp                                                     0.056085\n",
       "Engineer                                                0.056085\n",
       "Facilities                                              0.056085\n",
       "Electricity                                             0.056085\n",
       "core networks                                           0.056085\n",
       "HCLISD US DEV-DWP                                       0.056085\n",
       "support                                                 0.056085\n",
       "accounts receivable                                     0.056085\n",
       "Developer                                               0.056085\n",
       "Quality Assurance                                       0.056085\n",
       "security                                                0.056085\n",
       "account manager                                         0.056085\n",
       "Software Engineer                                       0.056085\n",
       "GFSS Global Finance Shared Ser                          0.056085\n",
       "coding                                                  0.056085\n",
       "Content                                                 0.056085\n",
       "commercial                                              0.056085\n",
       "Portfolio                                               0.056085\n",
       "public records                                          0.056085\n",
       "banca                                                   0.056085\n",
       "Billing                                                 0.056085\n",
       "call center                                             0.056085\n",
       "CMTS                                                    0.056085\n",
       "Commercial                                              0.056085\n",
       "IFM                                                     0.056085\n",
       "it software                                             0.056085\n",
       "BANCA SALES                                             0.056085\n",
       "Palo Alto                                               0.056085\n",
       "Information technology                                  0.056085\n",
       "Service                                                 0.056085\n",
       "piping                                                  0.056085\n",
       "recruitment                                             0.056085\n",
       "WFM                                                     0.056085\n",
       "marketing                                               0.056085\n",
       "ACCOUNTS                                                0.056085\n",
       "sap                                                     0.056085\n",
       "HEALTH                                                  0.056085\n",
       "Tele Marketing                                          0.056085\n",
       "Regular                                                 0.056085\n",
       "Medical billing                                         0.056085\n",
       "Training and development                                0.056085\n",
       "Bancassurance                                           0.056085\n",
       "Health care                                             0.056085\n",
       "Medical coding                                          0.056085\n",
       "Assistant Knowledge Management                          0.056085\n",
       "Operational                                             0.056085\n",
       "DTO                                                     0.056085\n",
       "vendor sourcing                                         0.056085\n",
       "fiber                                                   0.056085\n",
       "Professional ServicesERP_Microsoft                      0.056085\n",
       "claims                                                  0.056085\n",
       "Microsoft                                               0.056085\n",
       "Japan Airlines Fare Filing-new                          0.056085\n",
       "business Development                                    0.056085\n",
       "rmp                                                     0.056085\n",
       "Loan                                                    0.056085\n",
       "EDITING                                                 0.056085\n",
       "coke3                                                   0.056085\n",
       "health                                                  0.056085\n",
       "traning                                                 0.056085\n",
       "Government                                              0.056085\n",
       "Connection                                              0.056085\n",
       "J.A.O                                                   0.056085\n",
       "AAL                                                     0.056085\n",
       "CSE                                                     0.056085\n",
       "VLSI                                                    0.056085\n",
       "QMM                                                     0.056085\n",
       "Engineer                                                0.056085\n",
       "Jvvnl                                                   0.056085\n",
       "edc                                                     0.056085\n",
       "RURAL NRG                                               0.056085\n",
       "Data Analysis                                           0.056085\n",
       "Accounts Department                                     0.056085\n",
       "contact center for UK                                   0.056085\n",
       "Broadcast Technology                                    0.056085\n",
       "web development                                         0.056085\n",
       "embedded                                                0.056085\n",
       "Textiles                                                0.056085\n",
       "Employee                                                0.056085\n",
       "Geographical Information System                         0.056085\n",
       "PES                                                     0.056085\n",
       "Global Facilities                                       0.056085\n",
       "Enzymes and Hormones                                    0.056085\n",
       "UAT                                                     0.056085\n",
       "service operations                                      0.056085\n",
       "training                                                0.056085\n",
       "Migrations                                              0.056085\n",
       "Horeca                                                  0.056085\n",
       "CS                                                      0.056085\n",
       "Book Work                                               0.056085\n",
       "Textiles                                                0.056085\n",
       "CORP SALARY SALES                                       0.056085\n",
       "PED                                                     0.056085\n",
       "Quality Control                                         0.056085\n",
       "FINANCE & ACCOUNTS                                      0.056085\n",
       "Reliance Sales                                          0.056085\n",
       "stationery                                              0.056085\n",
       "ghr                                                     0.056085\n",
       "Majors accounts                                         0.056085\n",
       "Contact Centre                                          0.056085\n",
       "ENGINEER                                                0.056085\n",
       "IT Infra                                                0.056085\n",
       "Professional services                                   0.056085\n",
       "PCSCM                                                   0.056085\n",
       "ACCOUNTS RECIEVABLE                                     0.056085\n",
       "Mechanical engineering                                  0.056085\n",
       "civil                                                   0.056085\n",
       "social media                                            0.056085\n",
       "esd                                                     0.056085\n",
       "Addl. Commissioner                                      0.056085\n",
       "CARE-VOIS                                               0.056085\n",
       "stores & Purchase                                       0.056085\n",
       "Sales-axis                                              0.056085\n",
       "Materials                                               0.056085\n",
       "Data centre                                             0.056085\n",
       "CSD                                                     0.056085\n",
       "Product data management                                 0.056085\n",
       "APPLICATION SERVICES                                    0.056085\n",
       "testing                                                 0.056085\n",
       "P.H.E.D( Bihar Jal Nal Yojna Project)                   0.056085\n",
       "Lead Operations                                         0.056085\n",
       "Corp Education                                          0.056085\n",
       "pharmacy                                                0.056085\n",
       "power                                                   0.056085\n",
       "Aetna Blr                                               0.056085\n",
       "investment                                              0.056085\n",
       "RETAIL                                                  0.056085\n",
       "product management team                                 0.056085\n",
       "ROLLING STOCK/O&M D - III                               0.056085\n",
       "TBCARE                                                  0.056085\n",
       "VM                                                      0.056085\n",
       "GG INDIA                                                0.056085\n",
       "IMS                                                     0.056085\n",
       "channel Sales                                           0.056085\n",
       "customer Service Executive                              0.056085\n",
       "procurement                                             0.056085\n",
       "hpr                                                     0.056085\n",
       "programming                                             0.056085\n",
       "CEN                                                     0.056085\n",
       "cooperage                                               0.056085\n",
       "IT Testing                                              0.056085\n",
       "ar calling                                              0.056085\n",
       "Avenue 365                                              0.056085\n",
       "Global Service Desk                                     0.056085\n",
       "d2c                                                     0.056085\n",
       "electricity distribution                                0.056085\n",
       "Transaction monitoring                                  0.056085\n",
       "lsm                                                     0.056085\n",
       "Recruitment -US TEAM                                    0.056085\n",
       "finance and accounting                                  0.056085\n",
       "otc                                                     0.056085\n",
       "Enterprise Sales                                        0.056085\n",
       "nurshing                                                0.056085\n",
       "ico                                                     0.056085\n",
       "ROLLING STOCK/O&M M -XIII                               0.056085\n",
       "business excellence                                     0.056085\n",
       "creative                                                0.056085\n",
       "GSS                                                     0.056085\n",
       "Recruitment                                             0.056085\n",
       "INT                                                     0.056085\n",
       "energy                                                  0.056085\n",
       "Product Distribution                                    0.056085\n",
       "Marketing and Sales                                     0.056085\n",
       "Service Delivery Operations                             0.056085\n",
       "MAS                                                     0.056085\n",
       "Morgan Stanley loan department                          0.056085\n",
       "interam                                                 0.056085\n",
       "IT Staff                                                0.056085\n",
       "Account Receivable                                      0.056085\n",
       "Field Maintenance Electrical                            0.056085\n",
       "CONSTRUCTION                                            0.056085\n",
       "Title                                                   0.056085\n",
       "SOFTWARE IT                                             0.056085\n",
       "ADs                                                     0.056085\n",
       "KV CUTN THIRUVARUR                                      0.056085\n",
       "Engineeribg                                             0.056085\n",
       "collateral management unit                              0.056085\n",
       "Company department                                      0.056085\n",
       "Medical Representative                                  0.056085\n",
       "NetApp program                                          0.056085\n",
       "VP                                                      0.056085\n",
       "Business development                                    0.056085\n",
       "PUNE Factory-PRI INDIRECT                               0.056085\n",
       "Accounting Operations                                   0.056085\n",
       "GLOBAL SCARED SOLUTIONS                                 0.056085\n",
       "OTC derivative                                          0.056085\n",
       "HR Operation                                            0.056085\n",
       "US IT RECRUITING                                        0.056085\n",
       "Banking and financial services                          0.056085\n",
       "Aero Engineering                                        0.056085\n",
       "Information Technology Ops                              0.056085\n",
       "BROKERAGE - US                                          0.056085\n",
       "Roster operation                                        0.056085\n",
       "SCM-Battery Exports                                     0.056085\n",
       "Microsoft eps                                           0.056085\n",
       "Finance and accounts                                    0.056085\n",
       "Research and Development                                0.056085\n",
       "customer support representative                         0.056085\n",
       "sports                                                  0.056085\n",
       "Engg. Service Dept                                      0.056085\n",
       "Operations- Sales                                       0.056085\n",
       "projects                                                0.056085\n",
       "CBS-IT Trading                                          0.056085\n",
       "AMEX Icollect                                           0.056085\n",
       "Finance and accounts                                    0.056085\n",
       "Corporate refunds                                       0.056085\n",
       "OTC                                                     0.056085\n",
       "Sales Commercial                                        0.056085\n",
       "Outsourcing                                             0.056085\n",
       "department of Science and technology                    0.056085\n",
       "Electrical                                              0.056085\n",
       "growth                                                  0.056085\n",
       "WFM Manager                                             0.056085\n",
       "Accessibility                                           0.056085\n",
       "s2p                                                     0.056085\n",
       "Services & Benefits [B]                                 0.056085\n",
       "Finance and Accounting                                  0.056085\n",
       "GTIS                                                    0.056085\n",
       "coke oven                                               0.056085\n",
       " BPS International Business-1                           0.056085\n",
       "KYC                                                     0.056085\n",
       "Retail Sales                                            0.056085\n",
       "ITS                                                     0.056085\n",
       "It recruitment                                          0.056085\n",
       "Transport                                               0.056085\n",
       "house keeping                                           0.056085\n",
       "ITI\\GS                                                  0.056085\n",
       "Sales and marketing                                     0.056085\n",
       "rotoprep                                                0.056085\n",
       " Product Development                                    0.056085\n",
       "Test Prep Business operations                           0.056085\n",
       "Verifications                                           0.056085\n",
       "Health care provider                                    0.056085\n",
       "benefit analyst                                         0.056085\n",
       "hospital                                                0.056085\n",
       "NDT                                                     0.056085\n",
       "Products                                                0.056085\n",
       "production and sales                                    0.056085\n",
       "Transformation                                          0.056085\n",
       "MANUFACTURER                                            0.056085\n",
       "Invicta                                                 0.028043\n",
       "Engineering services                                    0.028043\n",
       "insurance industry                                      0.028043\n",
       "field                                                   0.028043\n",
       "weights and measures                                    0.028043\n",
       "visual merchandiser                                     0.028043\n",
       "B2C                                                     0.028043\n",
       "mission bhagiratha                                      0.028043\n",
       "Arizona                                                 0.028043\n",
       "Software engineer                                       0.028043\n",
       "IT Department                                           0.028043\n",
       "IT Developer                                            0.028043\n",
       "Change Healthcare                                       0.028043\n",
       "server                                                  0.028043\n",
       "Payroll and operation                                   0.028043\n",
       "DIAHOP                                                  0.028043\n",
       "Electronic department                                   0.028043\n",
       "servicenow                                              0.028043\n",
       "sale's                                                  0.028043\n",
       "electronics                                             0.028043\n",
       "Data Management                                         0.028043\n",
       "Sales- Multiple Sclerosis                               0.028043\n",
       "services                                                0.028043\n",
       "Infra executive IT                                      0.028043\n",
       "student engagement                                      0.028043\n",
       "Investment banking                                      0.028043\n",
       "Maintenance Mechanical                                  0.028043\n",
       "Fund                                                    0.028043\n",
       "Specialist                                              0.028043\n",
       "energy department                                       0.028043\n",
       "Capital Market BFSI                                     0.028043\n",
       "coordinator                                             0.028043\n",
       "Air Operation                                           0.028043\n",
       "electrical                                              0.028043\n",
       "Digital marketing                                       0.028043\n",
       "sports                                                  0.028043\n",
       "it department                                           0.028043\n",
       "Technology Solutions Engineering                        0.028043\n",
       "Team Leader, Operations                                 0.028043\n",
       "client servicing                                        0.028043\n",
       "Project                                                 0.028043\n",
       "DMO                                                     0.028043\n",
       "Fund and Investment                                     0.028043\n",
       "Inside Sales                                            0.028043\n",
       "geography                                               0.028043\n",
       "AR analyst                                              0.028043\n",
       "Regional Maintenance                                    0.028043\n",
       "TRMS                                                    0.028043\n",
       "PHARMA                                                  0.028043\n",
       "mainframe support                                       0.028043\n",
       "Management Services                                     0.028043\n",
       "Credit Life                                             0.028043\n",
       "Fund raising                                            0.028043\n",
       "Flight Operations                                       0.028043\n",
       "account                                                 0.028043\n",
       "Collection                                              0.028043\n",
       "INFORMATION  TECHNOLOGY                                 0.028043\n",
       "Procurement                                             0.028043\n",
       "Direct Marketing                                        0.028043\n",
       "Technical service                                       0.028043\n",
       "GSS QA                                                  0.028043\n",
       "Solutions                                               0.028043\n",
       "Claims                                                  0.028043\n",
       "integrated drug development                             0.028043\n",
       "FMCG                                                    0.028043\n",
       "Business Intelligence                                   0.028043\n",
       "Small Business Sales                                    0.028043\n",
       "TECHNOLOGY                                              0.028043\n",
       "BANT                                                    0.028043\n",
       "OMS                                                     0.028043\n",
       "QCS                                                     0.028043\n",
       "ASD ITSM                                                0.028043\n",
       "MANUFACTURING                                           0.028043\n",
       "private equity                                          0.028043\n",
       "QA-VQA                                                  0.028043\n",
       "abg                                                     0.028043\n",
       "Finance and Accounts                                    0.028043\n",
       "payroll finance                                         0.028043\n",
       "content analyst                                         0.028043\n",
       "vending source                                          0.028043\n",
       "hris officer                                            0.028043\n",
       "FSQ                                                     0.028043\n",
       "Finance & accounts                                      0.028043\n",
       "Pharma                                                  0.028043\n",
       "bpp                                                     0.028043\n",
       "AGENCY                                                  0.028043\n",
       "adminstration                                           0.028043\n",
       "RADIATION ONCOLOGY                                      0.028043\n",
       "Aerospace                                               0.028043\n",
       "TESTING                                                 0.028043\n",
       "Agriculture                                             0.028043\n",
       "Agency-Field Sales                                      0.028043\n",
       "application team                                        0.028043\n",
       "ybp                                                     0.028043\n",
       "ASE                                                     0.028043\n",
       "Advisor II, Chat Support                                0.028043\n",
       "TIED                                                    0.028043\n",
       "pharmaceutical                                          0.028043\n",
       "GOODS SALES                                             0.028043\n",
       "new product development                                 0.028043\n",
       "Learner Success                                         0.028043\n",
       "ENI                                                     0.028043\n",
       "INIQW                                                   0.028043\n",
       "Microsoft Dynamics D365                                 0.028043\n",
       "sales & Marketing                                       0.028043\n",
       "SAP fico consultant                                     0.028043\n",
       "Department of commerce                                  0.028043\n",
       "CDO                                                     0.028043\n",
       "agency                                                  0.028043\n",
       "chemicals                                               0.028043\n",
       "Wallmart iae team corporate                             0.028043\n",
       "BFSI                                                    0.028043\n",
       "BSs                                                     0.028043\n",
       "sap                                                     0.028043\n",
       "last mile opertaions                                    0.028043\n",
       "ISAAC                                                   0.028043\n",
       " sales                                                  0.028043\n",
       "Bpo                                                     0.028043\n",
       "Crown Pack                                              0.028043\n",
       "information technologiees                               0.028043\n",
       "Product development                                     0.028043\n",
       "sells                                                   0.028043\n",
       "operarations                                            0.028043\n",
       "Data operations                                         0.028043\n",
       "Services                                                0.028043\n",
       "Cost Of sales                                           0.028043\n",
       "Accounts and Finance                                    0.028043\n",
       "utility                                                 0.028043\n",
       "horticulture                                            0.028043\n",
       "sales and BD                                            0.028043\n",
       "VFX                                                     0.028043\n",
       "Google ads                                              0.028043\n",
       "Dispute Gate                                            0.028043\n",
       "Buildings-Civil / Structural Engg                       0.028043\n",
       "Liaison                                                 0.028043\n",
       "INSURANCE                                               0.028043\n",
       "G Team                                                  0.028043\n",
       "Web Department                                          0.028043\n",
       "SRICO                                                   0.028043\n",
       "Alstom                                                  0.028043\n",
       "BMAS                                                    0.028043\n",
       "EA voice                                                0.028043\n",
       "Pharmacovigilance                                       0.028043\n",
       "survey                                                  0.028043\n",
       "sales and Marketing                                     0.028043\n",
       "GRC                                                     0.028043\n",
       "Logistic                                                0.028043\n",
       "Infrastructures                                         0.028043\n",
       "post sale                                               0.028043\n",
       "medical Coding                                          0.028043\n",
       "client specialist                                       0.028043\n",
       "Revenue Cycle                                           0.028043\n",
       "Technic support                                         0.028043\n",
       "Buying and Merchandising                                0.028043\n",
       "vrm                                                     0.028043\n",
       "AR (Accounts Receivable)                                0.028043\n",
       "Research                                                0.028043\n",
       " Business Devlopment                                    0.028043\n",
       "PR DIVISION                                             0.028043\n",
       "techdesk                                                0.028043\n",
       "itis                                                    0.028043\n",
       "It support                                              0.028043\n",
       "department of science and technology                    0.028043\n",
       "ecommerce                                               0.028043\n",
       "Cruise                                                  0.028043\n",
       "marketing and operations                                0.028043\n",
       "Ito- sd                                                 0.028043\n",
       "staffing                                                0.028043\n",
       "check out                                               0.028043\n",
       "Central government                                      0.028043\n",
       "Business                                                0.028043\n",
       "Invest India                                            0.028043\n",
       "editorial                                               0.028043\n",
       "cbr                                                     0.028043\n",
       "ELECTRICITY                                             0.028043\n",
       "assistant                                               0.028043\n",
       "HP Operations                                           0.028043\n",
       "Supply Chain                                            0.028043\n",
       "GEIDC-Range                                             0.028043\n",
       "PSG                                                     0.028043\n",
       "Mortgage                                                0.028043\n",
       "supervisor                                              0.028043\n",
       "Email customer service                                  0.028043\n",
       "osd Erection                                            0.028043\n",
       "FSSC                                                    0.028043\n",
       "Edgar                                                   0.028043\n",
       " Information Technology                                 0.028043\n",
       "Architect                                               0.028043\n",
       "analyst                                                 0.028043\n",
       "Insurance                                               0.028043\n",
       "human resource                                          0.028043\n",
       "Software Industry                                       0.028043\n",
       "net working                                             0.028043\n",
       "nre                                                     0.028043\n",
       "Jio fiber                                               0.028043\n",
       "goverment                                               0.028043\n",
       "animation                                               0.028043\n",
       "Inbound sales                                           0.028043\n",
       "supply chain                                            0.028043\n",
       "STATE GOVERNMENT                                        0.028043\n",
       "automobiles                                             0.028043\n",
       "erp                                                     0.028043\n",
       "staff                                                   0.028043\n",
       "telecommunication                                       0.028043\n",
       "led                                                     0.028043\n",
       "technical services                                      0.028043\n",
       "US SELECT                                               0.028043\n",
       "facilities                                              0.028043\n",
       "Staff                                                   0.028043\n",
       "Pda Central                                             0.028043\n",
       "roto                                                    0.028043\n",
       "space                                                   0.028043\n",
       "PCCMT                                                   0.028043\n",
       "order management                                        0.028043\n",
       "DTO                                                     0.028043\n",
       "Audit and compliance                                    0.028043\n",
       "Interactive Entertainment                               0.028043\n",
       "quality network                                         0.028043\n",
       "sales & Marketing                                       0.028043\n",
       "Professional Services Team                              0.028043\n",
       "oracle                                                  0.028043\n",
       "Travel and Lifestyle Services                           0.028043\n",
       "Operations & Supply Chain Management                    0.028043\n",
       "EHSE                                                    0.028043\n",
       "inflight services                                       0.028043\n",
       "SUPER QA                                                0.028043\n",
       "customer support                                        0.028043\n",
       "liasion manager                                         0.028043\n",
       "Networking                                              0.028043\n",
       "IT DEPARTMENT                                           0.028043\n",
       "CMS                                                     0.028043\n",
       "suncorp                                                 0.028043\n",
       "clinical research                                       0.028043\n",
       "contract and billing                                    0.028043\n",
       "influencer marketimg                                    0.028043\n",
       "Medical and Health                                      0.028043\n",
       "PokerBaazi                                              0.028043\n",
       "Tools Team                                              0.028043\n",
       "Financial Accounting                                    0.028043\n",
       "GGO                                                     0.028043\n",
       "CRM                                                     0.028043\n",
       "product accounting                                      0.028043\n",
       "LCA                                                     0.028043\n",
       "credit operations                                       0.028043\n",
       "Training and Quality                                    0.028043\n",
       "SPG                                                     0.028043\n",
       "BPS-1                                                   0.028043\n",
       "ABBOTT DERMA PRIME                                      0.028043\n",
       "Assistant                                               0.028043\n",
       "BNPP                                                    0.028043\n",
       "IMT                                                     0.028043\n",
       "animation and gaming                                    0.028043\n",
       "Gsso                                                    0.028043\n",
       "learning and development                                0.028043\n",
       "ICU                                                     0.028043\n",
       "Analyst                                                 0.028043\n",
       "CWFM                                                    0.028043\n",
       "moulding                                                0.028043\n",
       "banking and lending                                     0.028043\n",
       "csa                                                     0.028043\n",
       "payments                                                0.028043\n",
       "Underwriter                                             0.028043\n",
       "cps                                                     0.028043\n",
       "Software developer                                      0.028043\n",
       "service                                                 0.028043\n",
       "GLOBAL BANKING MANAGEMENT                               0.028043\n",
       "ENGINEERING-BROADCASTING                                0.028043\n",
       "L MKTG                                                  0.028043\n",
       "ITS                                                     0.028043\n",
       "DELIVERY                                                0.028043\n",
       "HES                                                     0.028043\n",
       "after sales                                             0.028043\n",
       "technical support                                       0.028043\n",
       "irrigation department                                   0.028043\n",
       "accounts payable                                        0.028043\n",
       "Assistant Manager                                       0.028043\n",
       "drumming                                                0.028043\n",
       "supply                                                  0.028043\n",
       "BTB                                                     0.028043\n",
       "Adops                                                   0.028043\n",
       "scribing                                                0.028043\n",
       "LOB3 - Operations - Originations                        0.028043\n",
       "premium support north America                           0.028043\n",
       "sr manager                                              0.028043\n",
       "ers                                                     0.028043\n",
       "management                                              0.028043\n",
       "technology                                              0.028043\n",
       "EA                                                      0.028043\n",
       "VQRS Mortgage                                           0.028043\n",
       "devops                                                  0.028043\n",
       "bharti                                                  0.028043\n",
       "GS online                                               0.028043\n",
       "DEBS                                                    0.028043\n",
       "customer operations                                     0.028043\n",
       "marketing job                                           0.028043\n",
       "sales and application                                   0.028043\n",
       "Fintech                                                 0.028043\n",
       "QA&QC                                                   0.028043\n",
       "Retail Support                                          0.028043\n",
       "end point security                                      0.028043\n",
       "Alliances                                               0.028043\n",
       "Project Manager                                         0.028043\n",
       "Vendor sourcing                                         0.028043\n",
       "BE-1065                                                 0.028043\n",
       "medicine                                                0.028043\n",
       "Agency Sales                                            0.028043\n",
       "FOP                                                     0.028043\n",
       "customer representative                                 0.028043\n",
       "PRD-III                                                 0.028043\n",
       "sales Marketing                                         0.028043\n",
       "customer relations                                      0.028043\n",
       "accounting                                              0.028043\n",
       "Jetstar                                                 0.028043\n",
       "audit                                                   0.028043\n",
       "insurance                                               0.028043\n",
       "Brabdibg                                                0.028043\n",
       "business analyst                                        0.028043\n",
       "Credit                                                  0.028043\n",
       "broking                                                 0.028043\n",
       "HRO                                                     0.028043\n",
       "HR and admin                                            0.028043\n",
       "Public health                                           0.028043\n",
       "Human resource management                               0.028043\n",
       " HDFC Branch Banking & Corp. Sal                        0.028043\n",
       "us sales                                                0.028043\n",
       "PD                                                      0.028043\n",
       "mbs                                                     0.028043\n",
       "Airtel Broadband                                        0.028043\n",
       "Helathcare                                              0.028043\n",
       "Quality-Assurance                                       0.028043\n",
       "DATA MANAGEMENT                                         0.028043\n",
       "Marketing Department                                    0.028043\n",
       "PMS - EQUITY DEPARTMENT                                 0.028043\n",
       "PAINTING                                                0.028043\n",
       "proudction                                              0.028043\n",
       "Lennar                                                  0.028043\n",
       "assistant manager                                       0.028043\n",
       "sales-life                                              0.028043\n",
       "PPCC Group                                              0.028043\n",
       "Graphic design                                          0.028043\n",
       "gaming                                                  0.028043\n",
       "revenue assurance                                       0.028043\n",
       "cabin crew                                              0.028043\n",
       "AGRICULTURE                                             0.028043\n",
       "COMMERCIAL                                              0.028043\n",
       "O & M                                                   0.028043\n",
       "fraud                                                   0.028043\n",
       "Civil engineering                                       0.028043\n",
       "GRE                                                     0.028043\n",
       "smd                                                     0.028043\n",
       "coomunity operation                                     0.028043\n",
       "finance department                                      0.028043\n",
       "transport                                               0.028043\n",
       "Backend                                                 0.028043\n",
       "RA                                                      0.028043\n",
       "Direct Distribution                                     0.028043\n",
       "Business Analysis- Delh                                 0.028043\n",
       "Corporate Services                                      0.028043\n",
       "American Retrieval Company                              0.028043\n",
       "HO                                                      0.028043\n",
       "Digitizing                                              0.028043\n",
       "production planning and Control                         0.028043\n",
       "BPO CLAIMS                                              0.028043\n",
       "Compliance Operations                                   0.028043\n",
       "EAM DIVISION                                            0.028043\n",
       "Chargeback                                              0.028043\n",
       "Product and Platform Engineering                        0.028043\n",
       "Implementation                                          0.028043\n",
       "Crt                                                     0.028043\n",
       "Program management                                      0.028043\n",
       "Network                                                 0.028043\n",
       "software department                                     0.028043\n",
       "Software Company                                        0.028043\n",
       "PPC                                                     0.028043\n",
       "gTech - GOC India Service Delivery                      0.028043\n",
       "Service Delivery Department                             0.028043\n",
       "Government of West Bengal                               0.028043\n",
       "INDIA BUSINESS PRESCRIPTION SALES                       0.028043\n",
       "B2B Sales                                               0.028043\n",
       "call center                                             0.028043\n",
       "Kotak Life                                              0.028043\n",
       "FM DEP                                                  0.028043\n",
       "Logistics                                               0.028043\n",
       "Assurance                                               0.028043\n",
       "software Testing                                        0.028043\n",
       "HPDC Tapukara                                           0.028043\n",
       "application developer                                   0.028043\n",
       "Value Added Services                                    0.028043\n",
       "Software Engineer                                       0.028043\n",
       "Establishment                                           0.028043\n",
       "Post Sales                                              0.028043\n",
       "project                                                 0.028043\n",
       "IT Delivery                                             0.028043\n",
       "Coke Oven                                               0.028043\n",
       "ODIN Dept                                               0.028043\n",
       "MATERIALS                                               0.028043\n",
       "software developer                                      0.028043\n",
       "Google                                                  0.028043\n",
       "Security analyst                                        0.028043\n",
       "Abbvie                                                  0.028043\n",
       "Sales department                                        0.028043\n",
       "College Admin                                           0.028043\n",
       "IE                                                      0.028043\n",
       " business development                                   0.028043\n",
       "Traning and development                                 0.028043\n",
       "RGBSI-Lam                                               0.028043\n",
       "markefing                                               0.028043\n",
       "medical                                                 0.028043\n",
       "Business Analyst                                        0.028043\n",
       "SALES AND MARKETING                                     0.028043\n",
       "Language Expert-Data Service pvt ltd                    0.028043\n",
       "Customer support                                        0.028043\n",
       "Advertising                                             0.028043\n",
       "Technical Publications                                  0.028043\n",
       "Stores                                                  0.028043\n",
       "R & D                                                   0.028043\n",
       "system                                                  0.028043\n",
       "Project manager                                         0.028043\n",
       "Order Fulfillment                                       0.028043\n",
       "SDM                                                     0.028043\n",
       "S&M                                                     0.028043\n",
       "public health department                                0.028043\n",
       "cis                                                     0.028043\n",
       "RPA                                                     0.028043\n",
       "GBSN                                                    0.028043\n",
       "Immigration Dept                                        0.028043\n",
       "network administrator                                   0.028043\n",
       "quality manager                                         0.028043\n",
       "Domestic Sales                                          0.028043\n",
       "Fraud                                                   0.028043\n",
       "Sales & Operations                                      0.028043\n",
       "civil                                                   0.028043\n",
       "Logistics                                               0.028043\n",
       "Advertisement                                           0.028043\n",
       "linux                                                   0.028043\n",
       "Recruiting                                              0.028043\n",
       "Business Development Associate                          0.028043\n",
       "Builder Channel                                         0.028043\n",
       "Linux Administator                                      0.028043\n",
       "nephrology department                                   0.028043\n",
       "fraud and claims specialist                             0.028043\n",
       "clearance support agent                                 0.028043\n",
       "Ad Ops                                                  0.028043\n",
       "Private Company                                         0.028043\n",
       "Payments                                                0.028043\n",
       "Lifescience                                             0.028043\n",
       "SEO                                                     0.028043\n",
       "Assembly                                                0.028043\n",
       "Systems                                                 0.028043\n",
       "AV PROJECT                                              0.028043\n",
       "Consultiny                                              0.028043\n",
       "Interiors                                               0.028043\n",
       "life style                                              0.028043\n",
       "Utilities                                               0.028043\n",
       "ar                                                      0.028043\n",
       "Google                                                  0.028043\n",
       "Administration                                          0.028043\n",
       "MANUFACTURING                                           0.028043\n",
       "Title search                                            0.028043\n",
       "packing                                                 0.028043\n",
       "IT Analyst                                              0.028043\n",
       "core                                                    0.028043\n",
       "Accounts & Finance                                      0.028043\n",
       "Buyer Risk Investigation                                0.028043\n",
       "ROC                                                     0.028043\n",
       "Merchandising                                           0.028043\n",
       "Record to Report                                        0.028043\n",
       "GEO                                                     0.028043\n",
       "Quality audit                                           0.028043\n",
       "Inside sales                                            0.028043\n",
       "Quality management                                      0.028043\n",
       "Recruitment and Consultancy                             0.028043\n",
       "Business development manager                            0.028043\n",
       "warehouae                                               0.028043\n",
       "CRM-IT                                                  0.028043\n",
       "Refund                                                  0.028043\n",
       "Finance and accounting                                  0.028043\n",
       "Architecture                                            0.028043\n",
       "MDM                                                     0.028043\n",
       "Instrumentation                                         0.028043\n",
       "Nobrokerhood                                            0.028043\n",
       "GTI                                                     0.028043\n",
       "Shared Services                                         0.028043\n",
       "Branch Operations                                       0.028043\n",
       "Auto Digital Center                                     0.028043\n",
       "Maintenance                                             0.028043\n",
       "ENGINEER III                                            0.028043\n",
       "Retail Unit                                             0.028043\n",
       "IT software                                             0.028043\n",
       "HR & Admin                                              0.028043\n",
       "account                                                 0.028043\n",
       "it Solutions                                            0.028043\n",
       "It Security Engineer                                    0.028043\n",
       "Sales Department                                        0.028043\n",
       "Quality Dept.                                           0.028043\n",
       "Emergency care                                          0.028043\n",
       "Research and development                                0.028043\n",
       "non voice process                                       0.028043\n",
       "research department                                     0.028043\n",
       "Energy                                                  0.028043\n",
       "IT staff                                                0.028043\n",
       "Customer Care                                           0.028043\n",
       "CUSTOMER Support                                        0.028043\n",
       " Business Development                                   0.028043\n",
       "SALEZ                                                   0.028043\n",
       "Consulting                                              0.028043\n",
       "Medical writing                                         0.028043\n",
       "Business operations                                     0.028043\n",
       "banca                                                   0.028043\n",
       "cce                                                     0.028043\n",
       "AI & Analytics                                          0.028043\n",
       "Technical Analyst                                       0.028043\n",
       "fundamental                                             0.028043\n",
       "Aerospace                                               0.028043\n",
       "GTSC                                                    0.028043\n",
       "edgar                                                   0.028043\n",
       "Construction                                            0.028043\n",
       "Civil engineering                                       0.028043\n",
       "Production Department                                   0.028043\n",
       "greendot                                                0.028043\n",
       "Sale's                                                  0.028043\n",
       "AIS                                                     0.028043\n",
       "OPERATIONS-C                                            0.028043\n",
       "Software Delivery                                       0.028043\n",
       "APC                                                     0.028043\n",
       "Escalations Desk                                        0.028043\n",
       "Corporate Business                                      0.028043\n",
       "CAM DEPT.                                               0.028043\n",
       "Signalling                                              0.028043\n",
       "hrms                                                    0.028043\n",
       "DM                                                      0.028043\n",
       "NACSB                                                   0.028043\n",
       "implementation engineer                                 0.028043\n",
       "ar caller                                               0.028043\n",
       "Textile                                                 0.028043\n",
       "Products & Services                                     0.028043\n",
       "agriculture government                                  0.028043\n",
       "Training                                                0.028043\n",
       "F&B India _ South                                       0.028043\n",
       "Warranty Operations                                     0.028043\n",
       "finance                                                 0.028043\n",
       "lead                                                    0.028043\n",
       "Export                                                  0.028043\n",
       "automation engineer                                     0.028043\n",
       "Bank Operations                                         0.028043\n",
       "SABE                                                    0.028043\n",
       "Cient Relationship Management P                         0.028043\n",
       "Workforce Management                                    0.028043\n",
       "Broking                                                 0.028043\n",
       "Payment posting                                         0.028043\n",
       "Customer Support & NOC                                  0.028043\n",
       "City operations                                         0.028043\n",
       "Technical Support                                       0.028043\n",
       "branch management                                       0.028043\n",
       "Support                                                 0.028043\n",
       "irrigation and water resources                          0.028043\n",
       "BPS                                                     0.028043\n",
       "Transportation                                          0.028043\n",
       "Customer Experience Team                                0.028043\n",
       "Crm                                                     0.028043\n",
       "sales executive                                         0.028043\n",
       "recruitment                                             0.028043\n",
       "cardiology                                              0.028043\n",
       "Customer Resolution Services                            0.028043\n",
       "Client Project                                          0.028043\n",
       "Biomedical Engineering Department                       0.028043\n",
       "Operations/CRM                                          0.028043\n",
       "RMC PLANT                                               0.028043\n",
       "customer success                                        0.028043\n",
       "Project Planning and Design                             0.028043\n",
       "Gurugram                                                0.028043\n",
       "Government                                              0.028043\n",
       "work force management                                   0.028043\n",
       "Creative_Creative Brand_Art_Image Management_Editing    0.028043\n",
       "Title Search                                            0.028043\n",
       "Analysis                                                0.028043\n",
       "Recruiting - US Operations                              0.028043\n",
       "commands center                                         0.028043\n",
       "PROJECT MANAGEMENT                                      0.028043\n",
       "A.R                                                     0.028043\n",
       "chemistry                                               0.028043\n",
       "Quality-MQA                                             0.028043\n",
       "Tied                                                    0.028043\n",
       "PROJ MGMT/ADMIN—ISMS                                    0.028043\n",
       "Service Management                                      0.028043\n",
       "operation theater                                       0.028043\n",
       "Equipment group                                         0.028043\n",
       "product                                                 0.028043\n",
       "Floor manager                                           0.028043\n",
       "Revenu                                                  0.028043\n",
       "Carriage                                                0.028043\n",
       "opertion                                                0.028043\n",
       "VIVA                                                    0.028043\n",
       "Inventory Management                                    0.028043\n",
       "producation                                             0.028043\n",
       "Customer Relations                                      0.028043\n",
       "talent and culture                                      0.028043\n",
       "IT application support                                  0.028043\n",
       "Agency sales                                            0.028043\n",
       "Printing                                                0.028043\n",
       "HUMAN RESOURCES                                         0.028043\n",
       "CHANNEL SALES MANAGER                                   0.028043\n",
       "drilling                                                0.028043\n",
       "iCRC-CBG,UK                                             0.028043\n",
       "Software Development                                    0.028043\n",
       "financial research                                      0.028043\n",
       "JPMC                                                    0.028043\n",
       "Digital marketing Technology                            0.028043\n",
       "Department of                                           0.028043\n",
       "Admission                                               0.028043\n",
       "It Analyst                                              0.028043\n",
       "infra company                                           0.028043\n",
       "Training and Development                                0.028043\n",
       "Sr. Team Leader, Operations                             0.028043\n",
       "Education                                               0.028043\n",
       "PHOENIX                                                 0.028043\n",
       "EPM                                                     0.028043\n",
       "Art                                                     0.028043\n",
       "financial                                               0.028043\n",
       "Inter. Rep, Client Processing                           0.028043\n",
       "marketing and sales                                     0.028043\n",
       "tsi                                                     0.028043\n",
       "Proposal                                                0.028043\n",
       "Merchant operations                                     0.028043\n",
       "PAG                                                     0.028043\n",
       "IT industry                                             0.028043\n",
       "ganaral                                                 0.028043\n",
       "Analyst-Operations                                      0.028043\n",
       "Financially                                             0.028043\n",
       "sea division                                            0.028043\n",
       " Engineer                                               0.028043\n",
       "consultant                                              0.028043\n",
       "Forums Social Media                                     0.028043\n",
       "painting                                                0.028043\n",
       "Power Energies                                          0.028043\n",
       "IT Developement                                         0.028043\n",
       "user account management                                 0.028043\n",
       "USIT staffing                                           0.028043\n",
       "online                                                  0.028043\n",
       "IT Technical support                                    0.028043\n",
       "RMS engineer                                            0.028043\n",
       "information technologuly                                0.028043\n",
       "BPO Services                                            0.028043\n",
       "p and c                                                 0.028043\n",
       "HR & ADMIN                                              0.028043\n",
       "BUSINESS OPERATIONS                                     0.028043\n",
       "Reconciliation                                          0.028043\n",
       "Derivative                                              0.028043\n",
       "Credit Control                                          0.028043\n",
       "Software Engineering                                    0.028043\n",
       "media                                                   0.028043\n",
       "Oil & gas                                               0.028043\n",
       "Agriculture Department                                  0.028043\n",
       "it department                                           0.028043\n",
       "T&F                                                     0.028043\n",
       "Visa payments                                           0.028043\n",
       "Contract Logistics                                      0.028043\n",
       "PENTACARE                                               0.028043\n",
       "DCI                                                     0.028043\n",
       "Cloud                                                   0.028043\n",
       "ERS-Industrial -ME                                      0.028043\n",
       "electronic                                              0.028043\n",
       "credit department                                       0.028043\n",
       "application development                                 0.028043\n",
       "Radio Frequency                                         0.028043\n",
       "Mechanical                                              0.028043\n",
       "Cyber security                                          0.028043\n",
       "manufacturing                                           0.028043\n",
       "mentions                                                0.028043\n",
       "Client Start                                            0.028043\n",
       "Real Estate & Infrastructure                            0.028043\n",
       "Studio                                                  0.028043\n",
       "billing                                                 0.028043\n",
       "Doctor                                                  0.028043\n",
       "Industries and Environment                              0.028043\n",
       "Investigation                                           0.028043\n",
       "medical and health department                           0.028043\n",
       "Mortality review                                        0.028043\n",
       "Management                                              0.028043\n",
       "Lead, Operations                                        0.028043\n",
       "Digital Business Operations                             0.028043\n",
       "CLIENT SERVICES                                         0.028043\n",
       "Human Rsource                                           0.028043\n",
       "R and D                                                 0.028043\n",
       "T&C PE                                                  0.028043\n",
       "on air promos                                           0.028043\n",
       "Member Technology                                       0.028043\n",
       "IB                                                      0.028043\n",
       "Sales & Distribution                                    0.028043\n",
       "MARKETING                                               0.028043\n",
       "Safety                                                  0.028043\n",
       "R &D                                                    0.028043\n",
       "application                                             0.028043\n",
       "regulatory affairs                                      0.028043\n",
       "Directorate of Admissions                               0.028043\n",
       "Planning                                                0.028043\n",
       "sponge division                                         0.028043\n",
       "Contentstack                                            0.028043\n",
       "Content Platforms                                       0.028043\n",
       "Agriculture department                                  0.028043\n",
       "SAP                                                     0.028043\n",
       "Accts Payable - VAR                                     0.028043\n",
       "KOTAK AGENCY-FIELD SALES                                0.028043\n",
       "Medical billing                                         0.028043\n",
       "EDC Swipe Machine                                       0.028043\n",
       "Recurting                                               0.028043\n",
       "cpd                                                     0.028043\n",
       "Advisor II, Technical Support                           0.028043\n",
       "Android                                                 0.028043\n",
       "Insurance operation                                     0.028043\n",
       "Operation department                                    0.028043\n",
       "Programming                                             0.028043\n",
       "fmcg                                                    0.028043\n",
       "Digital & Branding                                      0.028043\n",
       "H & T-Sales                                             0.028043\n",
       "APAC Staffing                                           0.028043\n",
       "DIGITAL SERVICES                                        0.028043\n",
       "grocery                                                 0.028043\n",
       "TPD Sales                                               0.028043\n",
       "ESX                                                     0.028043\n",
       "user experience                                         0.028043\n",
       "ISS BRG                                                 0.028043\n",
       "cloud computing                                         0.028043\n",
       "Web Designer                                            0.028043\n",
       "Training and Quality                                    0.028043\n",
       "account receivable                                      0.028043\n",
       "Assistant manager                                       0.028043\n",
       "Training & Quality                                      0.028043\n",
       "financial markets                                       0.028043\n",
       "Trafigura                                               0.028043\n",
       "IT digital marketing                                    0.028043\n",
       "team lead                                               0.028043\n",
       "health sciences gbu                                     0.028043\n",
       "IPD                                                     0.028043\n",
       "IN1TS                                                   0.028043\n",
       "senior software engineer                                0.028043\n",
       "Tech                                                    0.028043\n",
       "CL and I                                                0.028043\n",
       "Technical support                                       0.028043\n",
       "Data Base Administrator                                 0.028043\n",
       "Superrecords LLP                                        0.028043\n",
       "Forte Payments                                          0.028043\n",
       "backend                                                 0.028043\n",
       "hvr department                                          0.028043\n",
       "HRD                                                     0.028043\n",
       "Reporting team                                          0.028043\n",
       "l&d                                                     0.028043\n",
       "MIS expert                                              0.028043\n",
       "Finanace                                                0.028043\n",
       "Quality analyst                                         0.028043\n",
       "Electrical maintenance                                  0.028043\n",
       "HR Receuitment                                          0.028043\n",
       "Buisness development                                    0.028043\n",
       "Sales-Presales                                          0.028043\n",
       "FORMWORK                                                0.028043\n",
       "buisness development                                    0.028043\n",
       "pin plant                                               0.028043\n",
       "external data resulting                                 0.028043\n",
       "tech support                                            0.028043\n",
       "civil engineer                                          0.028043\n",
       "IT Services                                             0.028043\n",
       "R&A                                                     0.028043\n",
       "Senior Executive                                        0.028043\n",
       "analytics                                               0.028043\n",
       "solar                                                   0.028043\n",
       "HCLISD EUROPE DEL-NORDACH                               0.028043\n",
       "Research and Development                                0.028043\n",
       "WFM OFFSHORE                                            0.028043\n",
       "Network                                                 0.028043\n",
       "Financial                                               0.028043\n",
       "I and D                                                 0.028043\n",
       "RMC Office                                              0.028043\n",
       "B2B                                                     0.028043\n",
       "qad                                                     0.028043\n",
       "bioanalytical                                           0.028043\n",
       "OPERATION                                               0.028043\n",
       "E-commerce                                              0.028043\n",
       "Business Analytics                                      0.028043\n",
       "HCLISD US DEL-DWP-ESG-RCT                               0.028043\n",
       "Sales (Life)                                            0.028043\n",
       "Client Success                                          0.028043\n",
       "Medical and Editorial                                   0.028043\n",
       "PANCHAYAT RAJ                                           0.028043\n",
       "CEP                                                     0.028043\n",
       "Contact Center                                          0.028043\n",
       "Mobility                                                0.028043\n",
       "DIRECT SALES                                            0.028043\n",
       "Engagement & Customer                                   0.028043\n",
       "Automotive                                              0.028043\n",
       "automation                                              0.028043\n",
       "Compliance                                              0.028043\n",
       "civil engineering                                       0.028043\n",
       "it administration                                       0.028043\n",
       "South - Retail-Sales                                    0.028043\n",
       "Marketing Research & Development                        0.028043\n",
       "NPS                                                     0.028043\n",
       "Hr & Admin,IT                                           0.028043\n",
       "Sales Recruitment                                       0.028043\n",
       "Train Operator                                          0.028043\n",
       "rD                                                      0.028043\n",
       "Deal Management                                         0.028043\n",
       "ESABPM                                                  0.028043\n",
       "Accountant                                              0.028043\n",
       "research and development                                0.028043\n",
       "NBD                                                     0.028043\n",
       "Back office                                             0.028043\n",
       "cyber security                                          0.028043\n",
       "Sales and marketing                                     0.028043\n",
       "Customer Centricity                                     0.028043\n",
       "Name: proinfo_department, dtype: float64"
      ]
     },
     "execution_count": 29,
     "metadata": {},
     "output_type": "execute_result"
    }
   ],
   "source": [
    "d['proinfo_department'].value_counts(normalize=True)*100"
   ]
  },
  {
   "cell_type": "code",
   "execution_count": 30,
   "id": "61dc35b2",
   "metadata": {},
   "outputs": [],
   "source": [
    "# df1['loan_amount_bins'] = pd.qcut(d['loan_amount'], q=6,precision=1)\n",
    "# #defaulted['quantile_ex_2'] = pd.qcut(defaulted['issue_amount'], q=10, precision=0)\n",
    "\n",
    "# d.head()"
   ]
  },
  {
   "cell_type": "code",
   "execution_count": 31,
   "id": "5220a141",
   "metadata": {},
   "outputs": [],
   "source": [
    "# d['loan_amount_bins'] =d['loan_amount_bins'].astype(str)"
   ]
  },
  {
   "cell_type": "code",
   "execution_count": 32,
   "id": "1d4c623b",
   "metadata": {},
   "outputs": [],
   "source": [
    "# d.loan_amount_bins.value_counts(normalize=True)*100\n",
    "# there are around 52% population under loan bracket of 10000"
   ]
  },
  {
   "cell_type": "code",
   "execution_count": 33,
   "id": "1d6a8b93",
   "metadata": {},
   "outputs": [],
   "source": [
    "# d.loan_amount_bins.value_counts().iplot(kind='bar',xTitle='loan_amount_bins ', yTitle='Number of Person')"
   ]
  },
  {
   "cell_type": "code",
   "execution_count": 34,
   "id": "a98ca613",
   "metadata": {},
   "outputs": [],
   "source": [
    "# # user_status_id =12 means approved customers\n",
    "# # loan_status = 21 means loan default\n",
    "# d1=d.loc[((d['status_id']==21) & (d['user_status_id']==12))]\n",
    "# print(d1.shape)\n",
    "# d1.head()"
   ]
  },
  {
   "cell_type": "code",
   "execution_count": 35,
   "id": "f2a6e501",
   "metadata": {},
   "outputs": [],
   "source": [
    "# d1['proinfo_designation'].value_counts(normalize=True)*100"
   ]
  },
  {
   "cell_type": "code",
   "execution_count": 36,
   "id": "1d95f24c",
   "metadata": {},
   "outputs": [],
   "source": [
    "# d1['proinfo_department'].value_counts(normalize=True)*100"
   ]
  },
  {
   "cell_type": "code",
   "execution_count": 37,
   "id": "f5a0d2a6",
   "metadata": {},
   "outputs": [],
   "source": [
    "# d1['age_bins'].value_counts(normalize=True)*100"
   ]
  },
  {
   "cell_type": "code",
   "execution_count": 38,
   "id": "eb09f02a",
   "metadata": {},
   "outputs": [],
   "source": [
    "# d1.age.mean()"
   ]
  },
  {
   "cell_type": "code",
   "execution_count": 39,
   "id": "96848f60",
   "metadata": {},
   "outputs": [],
   "source": [
    "# d1['salary_bins'].value_counts(normalize=True)*100"
   ]
  },
  {
   "cell_type": "code",
   "execution_count": 40,
   "id": "169d0e19",
   "metadata": {},
   "outputs": [],
   "source": [
    "# pd.crosstab([d.salary_bins,d.loan_amount_bins], columns=d.age_bins, margins=True)"
   ]
  },
  {
   "cell_type": "code",
   "execution_count": 41,
   "id": "05ed8e92",
   "metadata": {
    "scrolled": true
   },
   "outputs": [],
   "source": [
    "# pd.crosstab([d1.salary_bins,d1.loan_amount_bins], columns=d1.age_bins, margins=True)"
   ]
  },
  {
   "cell_type": "code",
   "execution_count": 42,
   "id": "040bee21",
   "metadata": {},
   "outputs": [],
   "source": [
    "# pd.crosstab([d.id,d.salary_bins,d.loan_amount_bins], columns=d.age_bins, margins=True)"
   ]
  },
  {
   "cell_type": "code",
   "execution_count": 43,
   "id": "50b8dc8f",
   "metadata": {},
   "outputs": [],
   "source": [
    "# pd.crosstab([d.proinfo_industry,d.salary_bins,d.loan_amount_bins], columns=d.age_bins, margins=True)"
   ]
  },
  {
   "cell_type": "code",
   "execution_count": 44,
   "id": "b8fdf29e",
   "metadata": {},
   "outputs": [],
   "source": [
    "# d.age_bins.value_counts().iplot(kind='bar',xTitle='age_bins', yTitle='Number of Person', colors='Red"
   ]
  },
  {
   "cell_type": "code",
   "execution_count": 45,
   "id": "a0fd42d6",
   "metadata": {},
   "outputs": [],
   "source": [
    "# d.salary_bins.value_counts().iplot(kind='bar',xTitle='salary_bins', yTitle='Number of Person', colors='green')"
   ]
  },
  {
   "cell_type": "code",
   "execution_count": 46,
   "id": "a7fdf1e8",
   "metadata": {},
   "outputs": [],
   "source": [
    "# d.loan_amount_bins.value_counts().iplot(kind='bar',xTitle='loan_amount_bins', yTitle='Number of Person', colors='black')"
   ]
  },
  {
   "cell_type": "code",
   "execution_count": 47,
   "id": "1c671d4d",
   "metadata": {},
   "outputs": [],
   "source": [
    "# pd.crosstab([d.gender,d.age_bins,d.city], columns=d.loan_amount_bins, margins=True)"
   ]
  },
  {
   "cell_type": "code",
   "execution_count": 48,
   "id": "a99ea15a",
   "metadata": {},
   "outputs": [],
   "source": [
    "# pd.crosstab([d.accounts_manager_id,d.salary_bins,d.loan_amount_bins], columns=d.age_bins, margins=True)"
   ]
  },
  {
   "cell_type": "code",
   "execution_count": 49,
   "id": "c82e33d8",
   "metadata": {},
   "outputs": [],
   "source": [
    "# table=pd.pivot_table(d,index=['salary_bins','loan_amount_bins'],columns=['age_bins'],values=['loan_amount'],sort= False,aggfunc='count')\n",
    "# table"
   ]
  },
  {
   "cell_type": "code",
   "execution_count": 50,
   "id": "cd373c7d",
   "metadata": {
    "scrolled": true
   },
   "outputs": [],
   "source": [
    "# pd.crosstab([d.salary_bins,d.loan_amount_bins], columns=d.age_bins, margins=True)"
   ]
  },
  {
   "cell_type": "code",
   "execution_count": 51,
   "id": "920d0c40",
   "metadata": {},
   "outputs": [],
   "source": [
    "import plotly.express as px"
   ]
  },
  {
   "cell_type": "code",
   "execution_count": 52,
   "id": "e49e6899",
   "metadata": {},
   "outputs": [],
   "source": [
    "# fig = px.bar(d, x=\"salary_bins\", color=\"age3_bins\",\n",
    "#              y='loan_amount_bins',\n",
    "#              title=\"A Grouped Bar Chart of salary, loan amount and age\",\n",
    "#              barmode='group',\n",
    "#              height=600\n",
    "#             )\n",
    "\n",
    "# fig.show()"
   ]
  },
  {
   "cell_type": "code",
   "execution_count": 53,
   "id": "3b5a7be0",
   "metadata": {},
   "outputs": [],
   "source": [
    "# fig = px.bar(d, x=\"salary_bins\", color=\"age_bins\",\n",
    "#              y='loan_amount_bins',\n",
    "#              title=\"A Grouped Bar Chart salary, loan amount and age\",\n",
    "#              barmode='group',\n",
    "#              height=700,\n",
    "#              facet_row=\"loan_amount_bins\",\n",
    "#              labels=None\n",
    "#             )\n",
    "\n",
    "# fig.show()\n"
   ]
  },
  {
   "cell_type": "code",
   "execution_count": 54,
   "id": "031ef5f0",
   "metadata": {},
   "outputs": [],
   "source": [
    "# fig = px.bar(d, x=\"salary_bins\", color=\"age_bins\",\n",
    "#              y='loan_amount_bins',\n",
    "#              title=\"A Grouped Bar Chart salary, loan amount and age\",\n",
    "#              barmode='group',\n",
    "#              height=700,\n",
    "#              facet_col=\"age_bins\",\n",
    "#              labels=None\n",
    "#             )\n",
    "\n",
    "# fig.show()\n"
   ]
  },
  {
   "cell_type": "code",
   "execution_count": 55,
   "id": "25da61e0",
   "metadata": {},
   "outputs": [],
   "source": [
    "# d['age2_bins'] = pd.qcut(d['age'],\n",
    "#                            q=[0, .2, .4, .6, .8, 1])#labels=['A', 'B', 'C', 'D', 'E']\n",
    "\n",
    "# d.head()"
   ]
  },
  {
   "cell_type": "code",
   "execution_count": 56,
   "id": "859b3e5d",
   "metadata": {},
   "outputs": [
    {
     "data": {
      "text/plain": [
       "user_status_id         float64\n",
       "gender                 float64\n",
       "proinfo_monthly_sal    float64\n",
       "accounts_manager_id    float64\n",
       "age                    float64\n",
       "disbursal_amount         int64\n",
       "interest                 int64\n",
       "service_charge           int64\n",
       "penalty                  int64\n",
       "total                    int64\n",
       "loan_amount              int64\n",
       "Led                    float64\n",
       "dtype: object"
      ]
     },
     "execution_count": 56,
     "metadata": {},
     "output_type": "execute_result"
    }
   ],
   "source": [
    "df1.dtypes"
   ]
  },
  {
   "cell_type": "code",
   "execution_count": 57,
   "id": "2c26aabf",
   "metadata": {},
   "outputs": [
    {
     "data": {
      "text/plain": [
       "0"
      ]
     },
     "execution_count": 57,
     "metadata": {},
     "output_type": "execute_result"
    }
   ],
   "source": [
    "df1['age'].isna().sum()"
   ]
  },
  {
   "cell_type": "code",
   "execution_count": 58,
   "id": "f1aa482d",
   "metadata": {},
   "outputs": [],
   "source": [
    "df1['age'] = pd.to_numeric(df1['age'], errors='coerce').fillna(0).astype(int)\n"
   ]
  },
  {
   "cell_type": "code",
   "execution_count": 59,
   "id": "0c27df83",
   "metadata": {},
   "outputs": [],
   "source": [
    "df1=pd.DataFrame(df1)"
   ]
  },
  {
   "cell_type": "code",
   "execution_count": 60,
   "id": "3067e1dd",
   "metadata": {},
   "outputs": [],
   "source": [
    "for x,i in enumerate (df1['age']):\n",
    "    if i>=20 and i<=25:\n",
    "        #print(i)\n",
    "        df1.loc[x, ['age3_bins']]='[20-25]'\n",
    "    elif i>=26 and i<=30:\n",
    "        #print(i)\n",
    "        df1.loc[x, ['age3_bins']]='[26-30]'\n",
    "    elif i>=31 and i<=35:\n",
    "        #print(i)\n",
    "        df1.loc[x, ['age3_bins']]='[31-35]'\n",
    "    elif i>=36 and i<=40:\n",
    "        #print(i)\n",
    "        df1.loc[x, ['age3_bins']]='[36-40]'\n",
    "    elif i>=41 and i<=45:\n",
    "        #print(i)\n",
    "        df1.loc[x, ['age3_bins']]='[41-45]'\n",
    "    elif i>=46 and i<=50:\n",
    "        #print(i)\n",
    "        df1.loc[x, ['age3_bins']]='[46-50]'\n",
    "    elif i>50:\n",
    "        #print(i)\n",
    "        df1.loc[x, ['age3_bins']]='[>50]'\n",
    "        "
   ]
  },
  {
   "cell_type": "code",
   "execution_count": 61,
   "id": "a63bb9c9",
   "metadata": {},
   "outputs": [
    {
     "data": {
      "text/html": [
       "<div>\n",
       "<style scoped>\n",
       "    .dataframe tbody tr th:only-of-type {\n",
       "        vertical-align: middle;\n",
       "    }\n",
       "\n",
       "    .dataframe tbody tr th {\n",
       "        vertical-align: top;\n",
       "    }\n",
       "\n",
       "    .dataframe thead th {\n",
       "        text-align: right;\n",
       "    }\n",
       "</style>\n",
       "<table border=\"1\" class=\"dataframe\">\n",
       "  <thead>\n",
       "    <tr style=\"text-align: right;\">\n",
       "      <th></th>\n",
       "      <th>user_status_id</th>\n",
       "      <th>gender</th>\n",
       "      <th>proinfo_monthly_sal</th>\n",
       "      <th>accounts_manager_id</th>\n",
       "      <th>age</th>\n",
       "      <th>disbursal_amount</th>\n",
       "      <th>interest</th>\n",
       "      <th>service_charge</th>\n",
       "      <th>penalty</th>\n",
       "      <th>total</th>\n",
       "      <th>loan_amount</th>\n",
       "      <th>Led</th>\n",
       "      <th>age3_bins</th>\n",
       "    </tr>\n",
       "    <tr>\n",
       "      <th>id</th>\n",
       "      <th></th>\n",
       "      <th></th>\n",
       "      <th></th>\n",
       "      <th></th>\n",
       "      <th></th>\n",
       "      <th></th>\n",
       "      <th></th>\n",
       "      <th></th>\n",
       "      <th></th>\n",
       "      <th></th>\n",
       "      <th></th>\n",
       "      <th></th>\n",
       "      <th></th>\n",
       "    </tr>\n",
       "  </thead>\n",
       "  <tbody>\n",
       "    <tr>\n",
       "      <th>1000213</th>\n",
       "      <td>12.0</td>\n",
       "      <td>1.0</td>\n",
       "      <td>51090.0</td>\n",
       "      <td>120.0</td>\n",
       "      <td>36.0</td>\n",
       "      <td>15000.0</td>\n",
       "      <td>0.0</td>\n",
       "      <td>14850.0</td>\n",
       "      <td>18220.0</td>\n",
       "      <td>49840.0</td>\n",
       "      <td>15000.0</td>\n",
       "      <td>503.0</td>\n",
       "      <td>NaN</td>\n",
       "    </tr>\n",
       "    <tr>\n",
       "      <th>1000329</th>\n",
       "      <td>12.0</td>\n",
       "      <td>1.0</td>\n",
       "      <td>35413.0</td>\n",
       "      <td>110.0</td>\n",
       "      <td>28.0</td>\n",
       "      <td>10000.0</td>\n",
       "      <td>0.0</td>\n",
       "      <td>9900.0</td>\n",
       "      <td>18180.0</td>\n",
       "      <td>39260.0</td>\n",
       "      <td>10000.0</td>\n",
       "      <td>502.0</td>\n",
       "      <td>NaN</td>\n",
       "    </tr>\n",
       "    <tr>\n",
       "      <th>1000330</th>\n",
       "      <td>26.0</td>\n",
       "      <td>1.0</td>\n",
       "      <td>42481.0</td>\n",
       "      <td>129.0</td>\n",
       "      <td>30.0</td>\n",
       "      <td>24000.0</td>\n",
       "      <td>0.0</td>\n",
       "      <td>6480.0</td>\n",
       "      <td>7280.0</td>\n",
       "      <td>35756.0</td>\n",
       "      <td>24000.0</td>\n",
       "      <td>180.5</td>\n",
       "      <td>NaN</td>\n",
       "    </tr>\n",
       "    <tr>\n",
       "      <th>1000381</th>\n",
       "      <td>12.0</td>\n",
       "      <td>0.0</td>\n",
       "      <td>31490.0</td>\n",
       "      <td>133.0</td>\n",
       "      <td>34.0</td>\n",
       "      <td>40000.0</td>\n",
       "      <td>0.0</td>\n",
       "      <td>39600.0</td>\n",
       "      <td>18140.0</td>\n",
       "      <td>102460.0</td>\n",
       "      <td>40000.0</td>\n",
       "      <td>501.0</td>\n",
       "      <td>NaN</td>\n",
       "    </tr>\n",
       "    <tr>\n",
       "      <th>1000395</th>\n",
       "      <td>12.0</td>\n",
       "      <td>1.0</td>\n",
       "      <td>152993.0</td>\n",
       "      <td>110.0</td>\n",
       "      <td>35.0</td>\n",
       "      <td>40000.0</td>\n",
       "      <td>0.0</td>\n",
       "      <td>30000.0</td>\n",
       "      <td>13660.0</td>\n",
       "      <td>88380.0</td>\n",
       "      <td>40000.0</td>\n",
       "      <td>389.0</td>\n",
       "      <td>NaN</td>\n",
       "    </tr>\n",
       "  </tbody>\n",
       "</table>\n",
       "</div>"
      ],
      "text/plain": [
       "         user_status_id  gender  proinfo_monthly_sal  accounts_manager_id  \\\n",
       "id                                                                          \n",
       "1000213            12.0     1.0              51090.0                120.0   \n",
       "1000329            12.0     1.0              35413.0                110.0   \n",
       "1000330            26.0     1.0              42481.0                129.0   \n",
       "1000381            12.0     0.0              31490.0                133.0   \n",
       "1000395            12.0     1.0             152993.0                110.0   \n",
       "\n",
       "          age  disbursal_amount  interest  service_charge  penalty     total  \\\n",
       "id                                                                             \n",
       "1000213  36.0           15000.0       0.0         14850.0  18220.0   49840.0   \n",
       "1000329  28.0           10000.0       0.0          9900.0  18180.0   39260.0   \n",
       "1000330  30.0           24000.0       0.0          6480.0   7280.0   35756.0   \n",
       "1000381  34.0           40000.0       0.0         39600.0  18140.0  102460.0   \n",
       "1000395  35.0           40000.0       0.0         30000.0  13660.0   88380.0   \n",
       "\n",
       "         loan_amount    Led age3_bins  \n",
       "id                                     \n",
       "1000213      15000.0  503.0       NaN  \n",
       "1000329      10000.0  502.0       NaN  \n",
       "1000330      24000.0  180.5       NaN  \n",
       "1000381      40000.0  501.0       NaN  \n",
       "1000395      40000.0  389.0       NaN  "
      ]
     },
     "execution_count": 61,
     "metadata": {},
     "output_type": "execute_result"
    }
   ],
   "source": [
    "df1.head()"
   ]
  },
  {
   "cell_type": "code",
   "execution_count": 62,
   "id": "a553b3cf",
   "metadata": {},
   "outputs": [
    {
     "data": {
      "text/plain": [
       "2825"
      ]
     },
     "execution_count": 62,
     "metadata": {},
     "output_type": "execute_result"
    }
   ],
   "source": [
    "df1.age.isna().sum()"
   ]
  },
  {
   "cell_type": "code",
   "execution_count": null,
   "id": "6ccc5cf5",
   "metadata": {
    "scrolled": true
   },
   "outputs": [],
   "source": [
    "for x,i in enumerate (d['proinfo_monthly_sal']):\n",
    "    if i>=20000 and i<=25000:\n",
    "        #print(i)\n",
    "        d.loc[x, ['salary_bins']]='[20k-25k]'\n",
    "    elif i>=25000 and i<=30000:\n",
    "        ##print(i)\n",
    "        d.loc[x, ['salary_bins']]='[25k-30k]'\n",
    "    elif i>=30000 and i<=35000:\n",
    "        #print(i)\n",
    "        d.loc[x, ['salary_bins']]='[30k-35k]'\n",
    "    elif i>=35000 and i<=40000:\n",
    "        #print(i)\n",
    "        d.loc[x, ['salary_bins']]='[35k-40k]'\n",
    "    elif i>=40000 and i<=45000:\n",
    "        #print(i)\n",
    "        d.loc[x, ['salary_bins']]='[40k-45k]'\n",
    "    elif i>=45000 and i<=50000:\n",
    "        #print(i)\n",
    "        d.loc[x, ['salary_bins']]='[45k-50k]'\n",
    "    elif i>=50000 and i<=55000:\n",
    "        #print(i)\n",
    "        d.loc[x, ['salary_bins']]='[50k-55k]'\n",
    "        \n",
    "    elif i>=55000 and i<=60000:\n",
    "        #print(i)\n",
    "        d.loc[x, ['salary_bins']]='[55k-60k]'\n",
    "    elif i>=60000 and i<=65000:\n",
    "        #print(i)\n",
    "        d.loc[x, ['salary_bins']]='[60k-65k]'\n",
    "    elif i>=65000 and i<=70000:\n",
    "        #print(i)\n",
    "        d.loc[x, ['salary_bins']]='[65k-70k]'\n",
    "    elif i>=70000 and i<=75000:\n",
    "        #print(i)\n",
    "        d.loc[x, ['salary_bins']]='[70k-75k]'\n",
    "    elif i>=75000 and i<=80000:\n",
    "        #print(i)\n",
    "        d.loc[x, ['salary_bins']]='[75k-80k]'\n",
    "        \n",
    "    elif i>=80000 and i<=85000:\n",
    "        #print(i)\n",
    "        d.loc[x, ['salary_bins']]='[80k-85k]'\n",
    "        \n",
    "    elif i>=85000 and i<=90000:\n",
    "        #print(i)\n",
    "        d.loc[x, ['salary_bins']]='[85k-90k]'\n",
    "    elif i>=90000 and i<=95000:\n",
    "        #print(i)\n",
    "        d.loc[x, ['salary_bins']]='[90k-95k]'\n",
    "        \n",
    "    elif i>=95000 and i<=100000:\n",
    "        #print(i)\n",
    "        d.loc[x, ['salary_bins']]='[95k-100k]'\n",
    "    elif i>=100000 and i<=200000:\n",
    "        #print(i)\n",
    "        d.loc[x, ['salary_bins']]='[100k-200k]'\n",
    "        \n",
    "    elif i>=200000 and i<=300000:\n",
    "        #print(i)\n",
    "        d.loc[x, ['salary_bins']]='[200k-300k]'\n",
    "    elif i>=300000 and i<=400000:\n",
    "        #print(i)\n",
    "        d.loc[x, ['salary_bins']]='[300k-400k]'\n",
    "    elif i>=400000 and i<=500000:\n",
    "        #print(i)\n",
    "        d.loc[x, ['salary_bins']]='[400k-500k]'\n",
    "    elif i>500000:\n",
    "        #print(i)\n",
    "        d.loc[x, ['salary_bins']]='[500k+]'\n",
    "        "
   ]
  },
  {
   "cell_type": "code",
   "execution_count": null,
   "id": "94416c3c",
   "metadata": {},
   "outputs": [],
   "source": [
    "d['salary_bins'].value_counts()"
   ]
  },
  {
   "cell_type": "code",
   "execution_count": null,
   "id": "8e154210",
   "metadata": {},
   "outputs": [],
   "source": [
    "d['salary_bins'].shape"
   ]
  },
  {
   "cell_type": "code",
   "execution_count": null,
   "id": "1ddba3bf",
   "metadata": {},
   "outputs": [],
   "source": [
    "(d['proinfo_monthly_sal']>100000).sum()\n"
   ]
  },
  {
   "cell_type": "code",
   "execution_count": null,
   "id": "09d260a3",
   "metadata": {},
   "outputs": [],
   "source": [
    "for x,i in enumerate (d['loan_amount']):\n",
    "    if i>=2000 and i<=10000:\n",
    "        d.loc[x, ['loan_bins']]='[2k-10k]'\n",
    "\n",
    "    elif i>=10500 and i<=11000:\n",
    "        d.loc[x, ['loan_bins']]='[10.5k-11k]'\n",
    "        \n",
    "    elif i>=11000 and i<=11500:\n",
    "        d.loc[x, ['loan_bins']]='[11k-11.5k]'\n",
    "        \n",
    "        \n",
    "    elif i>=11500 and i<=12000:\n",
    "        d.loc[x, ['loan_bins']]='[11.5k-12k]'\n",
    "\n",
    "        \n",
    "    elif i>=12000 and i<=12500:\n",
    "        d.loc[x, ['loan_bins']]='[12k-12.5k]'\n",
    "        \n",
    "    elif i>=12500  and i<=13000:\n",
    "        d.loc[x, ['loan_bins']]='[12.5k-13k]'\n",
    "        \n",
    "        \n",
    "    elif i>=13000 and i<=13500:\n",
    "        d.loc[x, ['loan_bins']]='[13k-13.5k]'\n",
    "        \n",
    "        \n",
    "    elif i>=13500 and i<=14000:\n",
    "        d.loc[x, ['loan_bins']]='[13.5k-14k]'\n",
    "\n",
    "        \n",
    "    elif i>=14000 and i<=14500:\n",
    "        d.loc[x, ['loan_bins']]='[14k-14.5k]'\n",
    "        \n",
    "        \n",
    "    elif i>=14500 and i<=15000:\n",
    "        d.loc[x, ['loan_bins']]='[14.5k-15k]'\n",
    "\n",
    "        \n",
    "    elif i>=15000 and i<=15500:\n",
    "        d.loc[x, ['loan_bins']]='[15k-15.5k]'\n",
    "        \n",
    "    elif i>=15500 and i<=16000:\n",
    "        d.loc[x, ['loan_bins']]='[15.5k-16k]'\n",
    "        \n",
    "        \n",
    "    elif i>=16000 and i<=16500:\n",
    "        d.loc[x, ['loan_bins']]='[16k-16.5k]'\n",
    "        \n",
    "        \n",
    "    elif i>=16500 and i<=17000:\n",
    "        d.loc[x, ['loan_bins']]='[16.5k-17k]'\n",
    "        \n",
    "\n",
    "        \n",
    "    elif i>=17000 and i<=17500:\n",
    "        d.loc[x, ['loan_bins']]='[17k-17.5k]'\n",
    "        \n",
    "        \n",
    "    elif i>=17500 and i<=18000:\n",
    "        d.loc[x, ['loan_bins']]='[17.5k-18k]'\n",
    "\n",
    "        \n",
    "    elif i>=18000 and i<=18500:\n",
    "        d.loc[x, ['loan_bins']]='[18k-18.5k]'\n",
    "        \n",
    "    elif i>=18500 and i<=19000:\n",
    "        d.loc[x, ['loan_bins']]='[18.5k-19k]'\n",
    "        \n",
    "        \n",
    "    elif i>=19000 and i<=19500:\n",
    "        d.loc[x, ['loan_bins']]='[19k-19.5k]'\n",
    "        \n",
    "        \n",
    "    elif i>=19500 and i<=20000:\n",
    "        d.loc[x, ['loan_bins']]='[19.5k-20k]'\n",
    "        \n",
    "        \n",
    "    elif i>=20000 and i<=20500:\n",
    "        d.loc[x, ['loan_bins']]='[20k-20.5k]'\n",
    "        \n",
    "        \n",
    "    elif i>=20500 and i<=21000:\n",
    "        d.loc[x, ['loan_bins']]='[20.5k-21k]'\n",
    "\n",
    "        \n",
    "    elif i>=21000 and i<=21500:\n",
    "        d.loc[x, ['loan_bins']]='[21k-21.5k]'\n",
    "        \n",
    "    elif i>=21500 and i<=22000:\n",
    "        d.loc[x, ['loan_bins']]='[21.5k-22k]'\n",
    "        \n",
    "        \n",
    "    elif i>=22000 and i<=22500:\n",
    "        d.loc[x, ['loan_bins']]='[22k-22.5k]'\n",
    "        \n",
    "        \n",
    "    elif i>=22500 and i<=23000:\n",
    "        d.loc[x, ['loan_bins']]='[22.5k-23k]'\n",
    "        \n",
    "        \n",
    "        \n",
    "        \n",
    "    elif i>=23000 and i<=23500:\n",
    "        d.loc[x, ['loan_bins']]='[23k-23.5k]'\n",
    "        \n",
    "        \n",
    "    elif i>=23500 and i<=24000:\n",
    "        d.loc[x, ['loan_bins']]='[23.5k-24k]'\n",
    "\n",
    "        \n",
    "    elif i>=24000 and i<=24500:\n",
    "        d.loc[x, ['loan_bins']]='[24k-24.5k]'\n",
    "        \n",
    "    elif i>=24500 and i<=25000:\n",
    "        d.loc[x, ['loan_bins']]='[24.5k-25k]'\n",
    "        \n",
    "        \n",
    "    elif i>=25000 and i<=25500:\n",
    "        d.loc[x, ['loan_bins']]='[25k-25.5k]'\n",
    "        \n",
    "        \n",
    "    elif i>=25500 and i<=26000:\n",
    "        d.loc[x, ['loan_bins']]='[25.5k-26k]'\n",
    "        \n",
    "        \n",
    "        \n",
    "    elif i>=26000 and i<=26500:\n",
    "        d.loc[x, ['loan_bins']]='[26k-26.5k]'\n",
    "        \n",
    "        \n",
    "    elif i>=26500 and i<=27000:\n",
    "        d.loc[x, ['loan_bins']]='[26.5k-27k]'\n",
    "\n",
    "        \n",
    "    elif i>=27000 and i<=28000:\n",
    "        d.loc[x, ['loan_bins']]='[27k-28k]'\n",
    "        \n",
    "    elif i>=28000 and i<=28500:\n",
    "        d.loc[x, ['loan_bins']]='[28k-28.5k]'\n",
    "        \n",
    "        \n",
    "    elif i>=28500 and i<=29000:\n",
    "        d.loc[x, ['loan_bins']]='[28.5k-29k]'\n",
    "        \n",
    "        \n",
    "    elif i>=29000 and i<=29500:\n",
    "        d.loc[x, ['loan_bins']]='[29k-29.5k]'\n",
    "        \n",
    "        \n",
    "    elif i>=29500 and i<=30000:\n",
    "        d.loc[x, ['loan_bins']]='[29.5k-30k]'\n",
    "        \n",
    "        \n",
    "    elif i>=30000 and i<=30500:\n",
    "        d.loc[x, ['loan_bins']]='[30k-30.5k]'\n",
    "\n",
    "        \n",
    "    elif i>=30500 and i<=31000:\n",
    "        d.loc[x, ['loan_bins']]='[30.5k-31k]'\n",
    "        \n",
    "    elif i>=31000 and i<=31500:\n",
    "        d.loc[x, ['loan_bins']]='[31k-31.5k]'\n",
    "        \n",
    "        \n",
    "    elif i>=31500 and i<=32000:\n",
    "        d.loc[x, ['loan_bins']]='[31.5k-32k]'\n",
    "        \n",
    "        \n",
    "    elif i>=32000 and i<=32500:\n",
    "        d.loc[x, ['loan_bins']]='[32k-32.5k]'\n",
    "        \n",
    "        \n",
    "        \n",
    "    elif i>=32500 and i<=33000:\n",
    "        d.loc[x, ['loan_bins']]='[32.5k-33k]'\n",
    "        \n",
    "        \n",
    "    elif i>=33000 and i<=33500:\n",
    "        d.loc[x, ['loan_bins']]='[33k-33.5k]'\n",
    "\n",
    "        \n",
    "    elif i>=33500 and i<=34000:\n",
    "        d.loc[x, ['loan_bins']]='[33.5k-34k]'\n",
    "        \n",
    "    elif i>=34000 and i<=34500:\n",
    "        d.loc[x, ['loan_bins']]='[34k-34.5k]'\n",
    "        \n",
    "        \n",
    "    elif i>=34500 and i<=35000:\n",
    "        d.loc[x, ['loan_bins']]='[34.5k-35k]'\n",
    "        \n",
    "        \n",
    "    elif i>=35000 and i<=35500:\n",
    "        d.loc[x, ['loan_bins']]='[35k-35.5k]'\n",
    "        \n",
    "        \n",
    "    elif i>=35500 and i<=36000:\n",
    "        d.loc[x, ['loan_bins']]='[35.5k-36k]'\n",
    "        \n",
    "        \n",
    "    elif i>=36000 and i<=36500:\n",
    "        d.loc[x, ['loan_bins']]='[36k-36.5k]'\n",
    "\n",
    "        \n",
    "    elif i>=36500 and i<=37000:\n",
    "        d.loc[x, ['loan_bins']]='[36.5k-37k]'\n",
    "        \n",
    "    elif i>=37000 and i<=37500:\n",
    "        d.loc[x, ['loan_bins']]='[37k-37.5k]'\n",
    "        \n",
    "        \n",
    "    elif i>=37500 and i<=38000:\n",
    "        d.loc[x, ['loan_bins']]='[37.5k-38k]'\n",
    "        \n",
    "        \n",
    "    elif i>=38000 and i<=38500:\n",
    "        d.loc[x, ['loan_bins']]='[38k-38.5k]' \n",
    "        \n",
    "                \n",
    "    elif i>=38500 and i<=39000:\n",
    "        d.loc[x, ['loan_bins']]='[38.5k-39k]'\n",
    "\n",
    "        \n",
    "    elif i>=39000 and i<=39500:\n",
    "        d.loc[x, ['loan_bins']]='[39k-39.5k]'\n",
    "        \n",
    "    elif i>=39500 and i<=40000:\n",
    "        d.loc[x, ['loan_bins']]='[39.5k-40k]'\n",
    "        \n",
    "        \n",
    "    elif i>=40000 and i<=40500:\n",
    "        d.loc[x, ['loan_bins']]='[40k-40.5k]'\n",
    "        \n",
    "        \n",
    "    elif i>=40500 and i<=41000:\n",
    "        d.loc[x, ['loan_bins']]='[40.5k-41k]'\n",
    "        \n",
    "        \n",
    "    elif i>=41000 and i<=41500:\n",
    "        d.loc[x, ['loan_bins']]='[41k-41.5k]'\n",
    "        \n",
    "        \n",
    "    elif i>=41500 and i<=42000:\n",
    "        d.loc[x, ['loan_bins']]='[41.5k-42k]'\n",
    "\n",
    "        \n",
    "    elif i>=42000 and i<=42500:\n",
    "        d.loc[x, ['loan_bins']]='[42k-42.5k]'\n",
    "        \n",
    "    elif i>=42500 and i<=43000:\n",
    "        d.loc[x, ['loan_bins']]='[42.5k-43k]'\n",
    "        \n",
    "        \n",
    "    elif i>=43000 and i<=43500:\n",
    "        d.loc[x, ['loan_bins']]='[43k-43.5k]'\n",
    "        \n",
    "        \n",
    "    elif i>=43500 and i<=44000:\n",
    "        d.loc[x, ['loan_bins']]='[43.5k-44k]'\n",
    "        \n",
    "        \n",
    "\n",
    "  \n",
    "\n",
    "\n",
    "\n",
    "        \n"
   ]
  },
  {
   "cell_type": "code",
   "execution_count": null,
   "id": "496e515a",
   "metadata": {},
   "outputs": [],
   "source": [
    "d['loan_bins'].value_counts()"
   ]
  },
  {
   "cell_type": "code",
   "execution_count": null,
   "id": "49443c70",
   "metadata": {},
   "outputs": [],
   "source": [
    "d.head()"
   ]
  },
  {
   "cell_type": "code",
   "execution_count": null,
   "id": "9db6f64d",
   "metadata": {},
   "outputs": [],
   "source": [
    "pd.crosstab([d.loan_bins,d.salary_bins], columns=d.age_bins, margins=True)"
   ]
  },
  {
   "cell_type": "code",
   "execution_count": null,
   "id": "4fdb7437",
   "metadata": {},
   "outputs": [],
   "source": [
    "d.age3_bins.value_counts().iplot(kind='bar',xTitle='age3_bins', yTitle='Number of Person', colors='Red')"
   ]
  },
  {
   "cell_type": "code",
   "execution_count": null,
   "id": "dac6fde5",
   "metadata": {},
   "outputs": [],
   "source": [
    "d.salary_bins.value_counts().iplot(kind='bar',xTitle='salary_bins', yTitle='Number of Person', colors='green')"
   ]
  },
  {
   "cell_type": "code",
   "execution_count": null,
   "id": "d8f669d7",
   "metadata": {},
   "outputs": [],
   "source": [
    "(d['loan_bins']!='[2k-10k]').value_counts().iplot(kind='bar',xTitle='loan_bins', yTitle='Number of Person')"
   ]
  },
  {
   "cell_type": "code",
   "execution_count": null,
   "id": "27ee69b2",
   "metadata": {
    "scrolled": false
   },
   "outputs": [],
   "source": [
    "d['loan_bins'].value_counts().iplot(kind='bar',xTitle='loan_bins', yTitle='Number of Person')"
   ]
  },
  {
   "cell_type": "markdown",
   "id": "25c1bedc",
   "metadata": {},
   "source": [
    "### 22\tRajKumar\n",
    "### 36\tSaikumar P\n",
    "### 110\tSashiRekha\n",
    "### 120\tManish\n",
    "### 121\tDivya\n",
    "### 129\tBrundha\n",
    "### 132\tJagjit\n",
    "### 133\tRohitKumar\n",
    "### 139\tSaiRahul\n",
    "### 142\tTanisha\n",
    "### 143\tManjunath"
   ]
  },
  {
   "cell_type": "code",
   "execution_count": null,
   "id": "ac5c9303",
   "metadata": {},
   "outputs": [],
   "source": [
    "d.accounts_manager_id.value_counts(normalize=True)*100"
   ]
  },
  {
   "cell_type": "code",
   "execution_count": null,
   "id": "cc947719",
   "metadata": {},
   "outputs": [],
   "source": [
    "d.accounts_manager_id.value_counts().iplot(kind='bar',xTitle='accounts_manager', yTitle='Number of Person', colors='Red')"
   ]
  },
  {
   "cell_type": "code",
   "execution_count": 48,
   "id": "3625cb14",
   "metadata": {},
   "outputs": [],
   "source": [
    "# importing the modules\n",
    "from bokeh.plotting import figure, output_file, show\n",
    " \n",
    "# instantiating the figure object\n",
    "graph = figure(title = \"Bokeh Line Graph\")\n",
    "# the points to be plotted\n",
    "x = d['age']\n",
    "y = d['proinfo_monthly_sal'] \n",
    "# plotting the line graph\n",
    "graph.line(x, y)\n",
    " \n",
    "# displaying the model\n",
    "show(graph)"
   ]
  },
  {
   "cell_type": "code",
   "execution_count": 46,
   "id": "3caf6ff9",
   "metadata": {},
   "outputs": [
    {
     "data": {
      "text/plain": [
       "Index(['id', 'user_status_id', 'user_membership_id', 'twl_membership_id',\n",
       "       'has_membership', 'accounts_manager_id', 'recovery_officer_id',\n",
       "       'oauth_provider', 'name', 'email', 'sec_email', 'gender', 'user_status',\n",
       "       'user_created_by', 'user_created_on', 'user_updated_by',\n",
       "       'user_updated_on', 'user_device_type', 'active', 'is_web',\n",
       "       'ureward_points', 'native_city_id', 'user_social_name',\n",
       "       'user_reapproved_on', 'aadhar_skip', 'city', 'age', 'dob',\n",
       "       'present_landmark', 'father_name', 'present_address1',\n",
       "       'present_address2', 'present_address3', 'premanent_address1',\n",
       "       'premanent_address2', 'premanent_address3', 'premanent_address_city',\n",
       "       'premanent_address_state', 'premanent_address_state_id', 'proinfo_type',\n",
       "       'proinfo_name', 'proinfo_department', 'proinfo_designation',\n",
       "       'proinfo_ctc', 'proinfo_monthly_sal', 'proinfo_m_ctc',\n",
       "       'proinfo_m_monthly_sal', 'proinfo_saldate', 'proinfo_industry',\n",
       "       'proinfo_website', 'proinfo_pincode', 'proinfo_city', 'proinfo_state',\n",
       "       'proinfo_address1', 'proinfo_natbusiness', 'proinfo_address2',\n",
       "       'proinfo_address2.1', 'proinfo_landmark', 'proinfo_phone',\n",
       "       'mode_of_pay', 'capbility_status', 'capbility_reasons',\n",
       "       'user_survey_collg_id', 'user_survey_grad_yr', 'user_survey_exp_mnths',\n",
       "       'user_survey_marital_status', 'user_survey_purpose_of_loan',\n",
       "       'customer_bank_name', 'customer_bank_branch', 'customer_bank_ifsc_code',\n",
       "       'customer_bank_account_name', 'sequence_id', 'status_id', 'tenure_type',\n",
       "       'emi_count', 'disbursal_amount', 'interest', 'service_charge',\n",
       "       'penalty', 'total', 'loan_amount', 'Led', 'age_bins', 'salary_bins',\n",
       "       'loan_amount_bins'],\n",
       "      dtype='object')"
      ]
     },
     "execution_count": 46,
     "metadata": {},
     "output_type": "execute_result"
    }
   ],
   "source": [
    "d.columns"
   ]
  },
  {
   "cell_type": "code",
   "execution_count": null,
   "id": "3ca76266",
   "metadata": {},
   "outputs": [],
   "source": []
  }
 ],
 "metadata": {
  "kernelspec": {
   "display_name": "Python 3 (ipykernel)",
   "language": "python",
   "name": "python3"
  },
  "language_info": {
   "codemirror_mode": {
    "name": "ipython",
    "version": 3
   },
   "file_extension": ".py",
   "mimetype": "text/x-python",
   "name": "python",
   "nbconvert_exporter": "python",
   "pygments_lexer": "ipython3",
   "version": "3.10.2"
  }
 },
 "nbformat": 4,
 "nbformat_minor": 5
}
