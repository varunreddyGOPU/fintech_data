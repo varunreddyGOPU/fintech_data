{
 "cells": [
  {
   "cell_type": "code",
   "execution_count": 1,
   "id": "efe7bd48",
   "metadata": {},
   "outputs": [
    {
     "data": {
      "text/html": [
       "        <script type=\"text/javascript\">\n",
       "        window.PlotlyConfig = {MathJaxConfig: 'local'};\n",
       "        if (window.MathJax) {MathJax.Hub.Config({SVG: {font: \"STIX-Web\"}});}\n",
       "        if (typeof require !== 'undefined') {\n",
       "        require.undef(\"plotly\");\n",
       "        requirejs.config({\n",
       "            paths: {\n",
       "                'plotly': ['https://cdn.plot.ly/plotly-2.6.3.min']\n",
       "            }\n",
       "        });\n",
       "        require(['plotly'], function(Plotly) {\n",
       "            window._Plotly = Plotly;\n",
       "        });\n",
       "        }\n",
       "        </script>\n",
       "        "
      ]
     },
     "metadata": {},
     "output_type": "display_data"
    }
   ],
   "source": [
    "# importing libraries\n",
    "\n",
    "import pandas as pd  \n",
    "import numpy as np\n",
    "\n",
    "import matplotlib.pyplot as plt\n",
    "\n",
    "import plotly\n",
    "import plotly.graph_objs as go\n",
    "from plotly.offline import iplot\n",
    "\n",
    "import cufflinks as cf\n",
    "\n",
    "cf.go_offline()\n",
    "import warnings\n",
    "\n",
    "warnings.filterwarnings(\"ignore\")"
   ]
  },
  {
   "cell_type": "code",
   "execution_count": 2,
   "id": "35108673",
   "metadata": {},
   "outputs": [],
   "source": [
    "pd.set_option('display.max_columns', 200)\n",
    "pd.set_option('display.max_rows', 10000)\n",
    "pd.set_option('display.min_rows', 100)\n",
    "pd.set_option('display.expand_frame_repr', True)"
   ]
  },
  {
   "cell_type": "markdown",
   "id": "5fa08939",
   "metadata": {},
   "source": [
    "# IMPORTING DEFAULTERS"
   ]
  },
  {
   "cell_type": "code",
   "execution_count": 3,
   "id": "ff8157a4",
   "metadata": {
    "scrolled": true
   },
   "outputs": [
    {
     "name": "stdout",
     "output_type": "stream",
     "text": [
      "(2386, 30)\n"
     ]
    },
    {
     "data": {
      "text/html": [
       "<div>\n",
       "<style scoped>\n",
       "    .dataframe tbody tr th:only-of-type {\n",
       "        vertical-align: middle;\n",
       "    }\n",
       "\n",
       "    .dataframe tbody tr th {\n",
       "        vertical-align: top;\n",
       "    }\n",
       "\n",
       "    .dataframe thead th {\n",
       "        text-align: right;\n",
       "    }\n",
       "</style>\n",
       "<table border=\"1\" class=\"dataframe\">\n",
       "  <thead>\n",
       "    <tr style=\"text-align: right;\">\n",
       "      <th></th>\n",
       "      <th>id</th>\n",
       "      <th>user_status_id</th>\n",
       "      <th>accounts_manager_id</th>\n",
       "      <th>recovery_officer_id</th>\n",
       "      <th>gender</th>\n",
       "      <th>user_created_by</th>\n",
       "      <th>city</th>\n",
       "      <th>age</th>\n",
       "      <th>PERMANENT_PIN</th>\n",
       "      <th>present_pin</th>\n",
       "      <th>DEPARTMENT</th>\n",
       "      <th>DESIGNATION</th>\n",
       "      <th>proinfo_monthly_sal</th>\n",
       "      <th>INDUSTRY</th>\n",
       "      <th>proinfo_pincode</th>\n",
       "      <th>proinfo_city</th>\n",
       "      <th>capbility_status</th>\n",
       "      <th>user_survey_marital_status</th>\n",
       "      <th>customer_bank_name</th>\n",
       "      <th>customer_bank_ifsc_code</th>\n",
       "      <th>RMName</th>\n",
       "      <th>MaxPLoanAm</th>\n",
       "      <th>LMID</th>\n",
       "      <th>LMName</th>\n",
       "      <th>cloan_disbursal_amount</th>\n",
       "      <th>cloan_service_charge</th>\n",
       "      <th>cloan_penalty</th>\n",
       "      <th>cloan_total</th>\n",
       "      <th>cloan_amount</th>\n",
       "      <th>cloan_exhausted_days_avg</th>\n",
       "    </tr>\n",
       "  </thead>\n",
       "  <tbody>\n",
       "    <tr>\n",
       "      <th>0</th>\n",
       "      <td>1119722</td>\n",
       "      <td>12</td>\n",
       "      <td>133</td>\n",
       "      <td>118.0</td>\n",
       "      <td>1.0</td>\n",
       "      <td>5</td>\n",
       "      <td>vadodara</td>\n",
       "      <td>41</td>\n",
       "      <td>390019</td>\n",
       "      <td>390019</td>\n",
       "      <td>f&amp;b india _ south</td>\n",
       "      <td>account manager ii _ f&amp;b</td>\n",
       "      <td>96979</td>\n",
       "      <td>manufacturing</td>\n",
       "      <td>122022</td>\n",
       "      <td>Vadodara</td>\n",
       "      <td>1</td>\n",
       "      <td>0.0</td>\n",
       "      <td>ICICI Bank</td>\n",
       "      <td>ICIC0001454</td>\n",
       "      <td>RohitKumar</td>\n",
       "      <td>19000</td>\n",
       "      <td>55.0</td>\n",
       "      <td>SarikaReddy</td>\n",
       "      <td>335160</td>\n",
       "      <td>50300</td>\n",
       "      <td>36800</td>\n",
       "      <td>467100</td>\n",
       "      <td>380000</td>\n",
       "      <td>118.5</td>\n",
       "    </tr>\n",
       "    <tr>\n",
       "      <th>1</th>\n",
       "      <td>1224617</td>\n",
       "      <td>12</td>\n",
       "      <td>143</td>\n",
       "      <td>NaN</td>\n",
       "      <td>1.0</td>\n",
       "      <td>5</td>\n",
       "      <td>bangalore</td>\n",
       "      <td>29</td>\n",
       "      <td>560054</td>\n",
       "      <td>560054</td>\n",
       "      <td>inside sales</td>\n",
       "      <td>head of inside the</td>\n",
       "      <td>104000</td>\n",
       "      <td>software/it/ites/bpo</td>\n",
       "      <td>560048</td>\n",
       "      <td>Bangalore</td>\n",
       "      <td>1</td>\n",
       "      <td>0.0</td>\n",
       "      <td>ICICI</td>\n",
       "      <td>ICIC0002329</td>\n",
       "      <td>TripurariRai</td>\n",
       "      <td>21000</td>\n",
       "      <td>93.0</td>\n",
       "      <td>Karunakar</td>\n",
       "      <td>333396</td>\n",
       "      <td>79380</td>\n",
       "      <td>52200</td>\n",
       "      <td>509580</td>\n",
       "      <td>378000</td>\n",
       "      <td>120.0</td>\n",
       "    </tr>\n",
       "  </tbody>\n",
       "</table>\n",
       "</div>"
      ],
      "text/plain": [
       "        id  user_status_id  accounts_manager_id  recovery_officer_id  gender  \\\n",
       "0  1119722              12                  133                118.0     1.0   \n",
       "1  1224617              12                  143                  NaN     1.0   \n",
       "\n",
       "   user_created_by       city  age PERMANENT_PIN present_pin  \\\n",
       "0                5   vadodara   41        390019      390019   \n",
       "1                5  bangalore   29        560054      560054   \n",
       "\n",
       "          DEPARTMENT               DESIGNATION  proinfo_monthly_sal  \\\n",
       "0  f&b india _ south  account manager ii _ f&b                96979   \n",
       "1       inside sales        head of inside the               104000   \n",
       "\n",
       "               INDUSTRY proinfo_pincode proinfo_city  capbility_status  \\\n",
       "0         manufacturing          122022     Vadodara                 1   \n",
       "1  software/it/ites/bpo          560048    Bangalore                 1   \n",
       "\n",
       "   user_survey_marital_status customer_bank_name customer_bank_ifsc_code  \\\n",
       "0                         0.0         ICICI Bank             ICIC0001454   \n",
       "1                         0.0              ICICI             ICIC0002329   \n",
       "\n",
       "         RMName  MaxPLoanAm  LMID       LMName  cloan_disbursal_amount  \\\n",
       "0    RohitKumar       19000  55.0  SarikaReddy                  335160   \n",
       "1  TripurariRai       21000  93.0    Karunakar                  333396   \n",
       "\n",
       "   cloan_service_charge  cloan_penalty  cloan_total  cloan_amount  \\\n",
       "0                 50300          36800       467100        380000   \n",
       "1                 79380          52200       509580        378000   \n",
       "\n",
       "   cloan_exhausted_days_avg  \n",
       "0                     118.5  \n",
       "1                     120.0  "
      ]
     },
     "execution_count": 3,
     "metadata": {},
     "output_type": "execute_result"
    }
   ],
   "source": [
    "d=pd.read_csv(\"current_default_users_13_07_2022.csv\")\n",
    "print(d.shape)\n",
    "d.head(2)"
   ]
  },
  {
   "cell_type": "markdown",
   "id": "d324f570",
   "metadata": {},
   "source": [
    "# LOAN_DEFAULTERS\n"
   ]
  },
  {
   "cell_type": "code",
   "execution_count": 4,
   "id": "9f75906e",
   "metadata": {
    "scrolled": true
   },
   "outputs": [
    {
     "name": "stdout",
     "output_type": "stream",
     "text": [
      "(2888, 10)\n"
     ]
    },
    {
     "data": {
      "text/html": [
       "<div>\n",
       "<style scoped>\n",
       "    .dataframe tbody tr th:only-of-type {\n",
       "        vertical-align: middle;\n",
       "    }\n",
       "\n",
       "    .dataframe tbody tr th {\n",
       "        vertical-align: top;\n",
       "    }\n",
       "\n",
       "    .dataframe thead th {\n",
       "        text-align: right;\n",
       "    }\n",
       "</style>\n",
       "<table border=\"1\" class=\"dataframe\">\n",
       "  <thead>\n",
       "    <tr style=\"text-align: right;\">\n",
       "      <th></th>\n",
       "      <th>id</th>\n",
       "      <th>cloan_sequence_id</th>\n",
       "      <th>cloan_tenure_type</th>\n",
       "      <th>cloan_emi_count</th>\n",
       "      <th>cloan_disbursal_amount</th>\n",
       "      <th>cloan_service_charge</th>\n",
       "      <th>cloan_penalty</th>\n",
       "      <th>cloan_total</th>\n",
       "      <th>cloan_exhausted_days</th>\n",
       "      <th>cloan_status_id</th>\n",
       "    </tr>\n",
       "  </thead>\n",
       "  <tbody>\n",
       "    <tr>\n",
       "      <th>0</th>\n",
       "      <td>1000213</td>\n",
       "      <td>CNL01000106</td>\n",
       "      <td>2</td>\n",
       "      <td>2</td>\n",
       "      <td>15000</td>\n",
       "      <td>15750</td>\n",
       "      <td>18540</td>\n",
       "      <td>51060</td>\n",
       "      <td>511</td>\n",
       "      <td>21</td>\n",
       "    </tr>\n",
       "    <tr>\n",
       "      <th>1</th>\n",
       "      <td>1000329</td>\n",
       "      <td>CNL01000116</td>\n",
       "      <td>2</td>\n",
       "      <td>2</td>\n",
       "      <td>10000</td>\n",
       "      <td>9900</td>\n",
       "      <td>18500</td>\n",
       "      <td>39580</td>\n",
       "      <td>510</td>\n",
       "      <td>21</td>\n",
       "    </tr>\n",
       "  </tbody>\n",
       "</table>\n",
       "</div>"
      ],
      "text/plain": [
       "        id cloan_sequence_id  cloan_tenure_type  cloan_emi_count  \\\n",
       "0  1000213       CNL01000106                  2                2   \n",
       "1  1000329       CNL01000116                  2                2   \n",
       "\n",
       "   cloan_disbursal_amount  cloan_service_charge  cloan_penalty  cloan_total  \\\n",
       "0                   15000                 15750          18540        51060   \n",
       "1                   10000                  9900          18500        39580   \n",
       "\n",
       "   cloan_exhausted_days  cloan_status_id  \n",
       "0                   511               21  \n",
       "1                   510               21  "
      ]
     },
     "execution_count": 4,
     "metadata": {},
     "output_type": "execute_result"
    }
   ],
   "source": [
    "dl=pd.read_csv(\"current_default_loans_13_07_2022.csv\")\n",
    "print(dl.shape)\n",
    "dl.head(2)"
   ]
  },
  {
   "cell_type": "markdown",
   "id": "b8c4c5b8",
   "metadata": {},
   "source": [
    "# GROUP_BY LOAN_DATA"
   ]
  },
  {
   "cell_type": "code",
   "execution_count": 5,
   "id": "1eb87b81",
   "metadata": {
    "scrolled": false
   },
   "outputs": [
    {
     "name": "stdout",
     "output_type": "stream",
     "text": [
      "(2386, 6)\n"
     ]
    },
    {
     "data": {
      "text/html": [
       "<div>\n",
       "<style scoped>\n",
       "    .dataframe tbody tr th:only-of-type {\n",
       "        vertical-align: middle;\n",
       "    }\n",
       "\n",
       "    .dataframe tbody tr th {\n",
       "        vertical-align: top;\n",
       "    }\n",
       "\n",
       "    .dataframe thead th {\n",
       "        text-align: right;\n",
       "    }\n",
       "</style>\n",
       "<table border=\"1\" class=\"dataframe\">\n",
       "  <thead>\n",
       "    <tr style=\"text-align: right;\">\n",
       "      <th></th>\n",
       "      <th>cloan_disbursal_amount</th>\n",
       "      <th>cloan_service_charge</th>\n",
       "      <th>cloan_penalty</th>\n",
       "      <th>cloan_total</th>\n",
       "      <th>cloan_status_id</th>\n",
       "      <th>cloan_exhausted_days</th>\n",
       "    </tr>\n",
       "    <tr>\n",
       "      <th>id</th>\n",
       "      <th></th>\n",
       "      <th></th>\n",
       "      <th></th>\n",
       "      <th></th>\n",
       "      <th></th>\n",
       "      <th></th>\n",
       "    </tr>\n",
       "  </thead>\n",
       "  <tbody>\n",
       "    <tr>\n",
       "      <th>1000213</th>\n",
       "      <td>15000</td>\n",
       "      <td>15750</td>\n",
       "      <td>18540</td>\n",
       "      <td>51060</td>\n",
       "      <td>21.0</td>\n",
       "      <td>511.0</td>\n",
       "    </tr>\n",
       "    <tr>\n",
       "      <th>1000329</th>\n",
       "      <td>10000</td>\n",
       "      <td>9900</td>\n",
       "      <td>18500</td>\n",
       "      <td>39580</td>\n",
       "      <td>21.0</td>\n",
       "      <td>510.0</td>\n",
       "    </tr>\n",
       "    <tr>\n",
       "      <th>1000381</th>\n",
       "      <td>40000</td>\n",
       "      <td>39600</td>\n",
       "      <td>18460</td>\n",
       "      <td>102780</td>\n",
       "      <td>21.0</td>\n",
       "      <td>509.0</td>\n",
       "    </tr>\n",
       "    <tr>\n",
       "      <th>1000395</th>\n",
       "      <td>40000</td>\n",
       "      <td>32400</td>\n",
       "      <td>13980</td>\n",
       "      <td>91100</td>\n",
       "      <td>21.0</td>\n",
       "      <td>397.0</td>\n",
       "    </tr>\n",
       "    <tr>\n",
       "      <th>1000398</th>\n",
       "      <td>12000</td>\n",
       "      <td>480</td>\n",
       "      <td>60</td>\n",
       "      <td>13956</td>\n",
       "      <td>21.0</td>\n",
       "      <td>347.0</td>\n",
       "    </tr>\n",
       "  </tbody>\n",
       "</table>\n",
       "</div>"
      ],
      "text/plain": [
       "         cloan_disbursal_amount  cloan_service_charge  cloan_penalty  \\\n",
       "id                                                                     \n",
       "1000213                   15000                 15750          18540   \n",
       "1000329                   10000                  9900          18500   \n",
       "1000381                   40000                 39600          18460   \n",
       "1000395                   40000                 32400          13980   \n",
       "1000398                   12000                   480             60   \n",
       "\n",
       "         cloan_total  cloan_status_id  cloan_exhausted_days  \n",
       "id                                                           \n",
       "1000213        51060             21.0                 511.0  \n",
       "1000329        39580             21.0                 510.0  \n",
       "1000381       102780             21.0                 509.0  \n",
       "1000395        91100             21.0                 397.0  \n",
       "1000398        13956             21.0                 347.0  "
      ]
     },
     "execution_count": 5,
     "metadata": {},
     "output_type": "execute_result"
    }
   ],
   "source": [
    "df1=dl.groupby(['id']).agg({'cloan_disbursal_amount':'sum', 'cloan_service_charge':'sum',\n",
    "                             'cloan_penalty':\"sum\",'cloan_total':'sum','cloan_status_id':'mean','cloan_exhausted_days':'mean'})\n",
    "print(df1.shape)\n",
    "df1.head()"
   ]
  },
  {
   "cell_type": "code",
   "execution_count": 6,
   "id": "5212184e",
   "metadata": {},
   "outputs": [],
   "source": [
    "df2=df1"
   ]
  },
  {
   "cell_type": "code",
   "execution_count": 7,
   "id": "9b97a3de",
   "metadata": {},
   "outputs": [
    {
     "data": {
      "text/plain": [
       "Index(['id', 'cloan_sequence_id', 'cloan_tenure_type', 'cloan_emi_count',\n",
       "       'cloan_disbursal_amount', 'cloan_service_charge', 'cloan_penalty',\n",
       "       'cloan_total', 'cloan_exhausted_days', 'cloan_status_id'],\n",
       "      dtype='object')"
      ]
     },
     "execution_count": 7,
     "metadata": {},
     "output_type": "execute_result"
    }
   ],
   "source": [
    "dl.columns"
   ]
  },
  {
   "cell_type": "code",
   "execution_count": 8,
   "id": "b2c927c9",
   "metadata": {},
   "outputs": [],
   "source": [
    "# df1=dl.groupby(['id']).agg({'cloan_disbursal_amount':'sum', 'cloan_service_charge':'sum',\n",
    "#                              'cloan_penalty':\"sum\",'cloan_total':'sum','cloan_status_id':'mean','cloan_exhausted_days':'mean'})\n",
    "# print(df1.shape)\n",
    "# df1.head()"
   ]
  },
  {
   "cell_type": "code",
   "execution_count": 9,
   "id": "866ea18a",
   "metadata": {},
   "outputs": [
    {
     "data": {
      "text/plain": [
       "id                            2386\n",
       "user_status_id                   1\n",
       "accounts_manager_id             11\n",
       "recovery_officer_id              4\n",
       "gender                           2\n",
       "user_created_by                  1\n",
       "city                           257\n",
       "age                             37\n",
       "PERMANENT_PIN                 1437\n",
       "present_pin                   1313\n",
       "DEPARTMENT                     951\n",
       "DESIGNATION                   1136\n",
       "proinfo_monthly_sal           2043\n",
       "INDUSTRY                        15\n",
       "proinfo_pincode                663\n",
       "proinfo_city                   151\n",
       "capbility_status                 3\n",
       "user_survey_marital_status       2\n",
       "customer_bank_name             150\n",
       "customer_bank_ifsc_code       1723\n",
       "RMName                          11\n",
       "MaxPLoanAm                      42\n",
       "LMID                            18\n",
       "LMName                          17\n",
       "cloan_disbursal_amount         338\n",
       "cloan_service_charge           867\n",
       "cloan_penalty                 1303\n",
       "cloan_total                   2206\n",
       "cloan_amount                   185\n",
       "cloan_exhausted_days_avg       574\n",
       "dtype: int64"
      ]
     },
     "execution_count": 9,
     "metadata": {},
     "output_type": "execute_result"
    }
   ],
   "source": [
    "d.nunique()"
   ]
  },
  {
   "cell_type": "code",
   "execution_count": 10,
   "id": "1f3ed83a",
   "metadata": {},
   "outputs": [
    {
     "name": "stdout",
     "output_type": "stream",
     "text": [
      "<class 'pandas.core.frame.DataFrame'>\n",
      "RangeIndex: 2888 entries, 0 to 2887\n",
      "Data columns (total 10 columns):\n",
      " #   Column                  Non-Null Count  Dtype \n",
      "---  ------                  --------------  ----- \n",
      " 0   id                      2888 non-null   int64 \n",
      " 1   cloan_sequence_id       2888 non-null   object\n",
      " 2   cloan_tenure_type       2888 non-null   int64 \n",
      " 3   cloan_emi_count         2888 non-null   int64 \n",
      " 4   cloan_disbursal_amount  2888 non-null   int64 \n",
      " 5   cloan_service_charge    2888 non-null   int64 \n",
      " 6   cloan_penalty           2888 non-null   int64 \n",
      " 7   cloan_total             2888 non-null   int64 \n",
      " 8   cloan_exhausted_days    2888 non-null   int64 \n",
      " 9   cloan_status_id         2888 non-null   int64 \n",
      "dtypes: int64(9), object(1)\n",
      "memory usage: 225.8+ KB\n"
     ]
    }
   ],
   "source": [
    "dl.info()"
   ]
  },
  {
   "cell_type": "code",
   "execution_count": 11,
   "id": "aef552a1",
   "metadata": {},
   "outputs": [
    {
     "name": "stdout",
     "output_type": "stream",
     "text": [
      "<class 'pandas.core.frame.DataFrame'>\n",
      "RangeIndex: 2386 entries, 0 to 2385\n",
      "Data columns (total 30 columns):\n",
      " #   Column                      Non-Null Count  Dtype  \n",
      "---  ------                      --------------  -----  \n",
      " 0   id                          2386 non-null   int64  \n",
      " 1   user_status_id              2386 non-null   int64  \n",
      " 2   accounts_manager_id         2386 non-null   int64  \n",
      " 3   recovery_officer_id         2054 non-null   float64\n",
      " 4   gender                      2376 non-null   float64\n",
      " 5   user_created_by             2386 non-null   int64  \n",
      " 6   city                        2374 non-null   object \n",
      " 7   age                         2386 non-null   int64  \n",
      " 8   PERMANENT_PIN               2375 non-null   object \n",
      " 9   present_pin                 2377 non-null   object \n",
      " 10  DEPARTMENT                  2386 non-null   object \n",
      " 11  DESIGNATION                 2386 non-null   object \n",
      " 12  proinfo_monthly_sal         2386 non-null   int64  \n",
      " 13  INDUSTRY                    2384 non-null   object \n",
      " 14  proinfo_pincode             2377 non-null   object \n",
      " 15  proinfo_city                2386 non-null   object \n",
      " 16  capbility_status            2386 non-null   int64  \n",
      " 17  user_survey_marital_status  2380 non-null   float64\n",
      " 18  customer_bank_name          2385 non-null   object \n",
      " 19  customer_bank_ifsc_code     2385 non-null   object \n",
      " 20  RMName                      2386 non-null   object \n",
      " 21  MaxPLoanAm                  2386 non-null   int64  \n",
      " 22  LMID                        2380 non-null   float64\n",
      " 23  LMName                      2380 non-null   object \n",
      " 24  cloan_disbursal_amount      2386 non-null   int64  \n",
      " 25  cloan_service_charge        2386 non-null   int64  \n",
      " 26  cloan_penalty               2386 non-null   int64  \n",
      " 27  cloan_total                 2386 non-null   int64  \n",
      " 28  cloan_amount                2386 non-null   int64  \n",
      " 29  cloan_exhausted_days_avg    2386 non-null   float64\n",
      "dtypes: float64(5), int64(13), object(12)\n",
      "memory usage: 559.3+ KB\n"
     ]
    }
   ],
   "source": [
    "d.info()"
   ]
  },
  {
   "cell_type": "code",
   "execution_count": 12,
   "id": "aaa2f052",
   "metadata": {},
   "outputs": [],
   "source": [
    "for x,i in enumerate (d['age']):\n",
    "    if i>=20 and i<=25:\n",
    "        #print(i)\n",
    "        d.loc[x, ['age_bins']]='[20-25]'\n",
    "    elif i>25 and i<=30:\n",
    "        #print(i)\n",
    "        d.loc[x, ['age_bins']]='[26-30]'\n",
    "    elif i>30 and i<=35:\n",
    "        #print(i)\n",
    "        d.loc[x, ['age_bins']]='[31-35]'\n",
    "    elif i>35 and i<=40:\n",
    "        #print(i)\n",
    "        d.loc[x, ['age_bins']]='[36-40]'\n",
    "    elif i>40 and i<=45:\n",
    "        #print(i)\n",
    "        d.loc[x, ['age_bins']]='[41-45]'\n",
    "    elif i>45 and i<=50:\n",
    "        #print(i)\n",
    "        d.loc[x, ['age_bins']]='[46-50]'\n",
    "    elif i>50:\n",
    "        #print(x)\n",
    "        d.loc[x, ['age_bins']]='[>50]'\n",
    "        "
   ]
  },
  {
   "cell_type": "code",
   "execution_count": 13,
   "id": "5920a154",
   "metadata": {},
   "outputs": [],
   "source": [
    "for x,i in enumerate (d['proinfo_monthly_sal']):\n",
    "    if i>=20000 and i<=25000:\n",
    "        #print(i)\n",
    "        d.loc[x, ['salary_bins']]='[20k-25k]'\n",
    "    elif i>=25000 and i<=30000:\n",
    "        ##print(i)\n",
    "        d.loc[x, ['salary_bins']]='[25k-30k]'\n",
    "    elif i>=30000 and i<=35000:\n",
    "        #print(i)\n",
    "        d.loc[x, ['salary_bins']]='[30k-35k]'\n",
    "    elif i>=35000 and i<=40000:\n",
    "        #print(i)\n",
    "        d.loc[x, ['salary_bins']]='[35k-40k]'\n",
    "    elif i>=40000 and i<=45000:\n",
    "        #print(i)\n",
    "        d.loc[x, ['salary_bins']]='[40k-45k]'\n",
    "    elif i>=45000 and i<=50000:\n",
    "        #print(i)\n",
    "        d.loc[x, ['salary_bins']]='[45k-50k]'\n",
    "    elif i>=50000 and i<=55000:\n",
    "        #print(i)\n",
    "        d.loc[x, ['salary_bins']]='[50k-55k]'\n",
    "        \n",
    "    elif i>=55000 and i<=60000:\n",
    "        #print(i)\n",
    "        d.loc[x, ['salary_bins']]='[55k-60k]'\n",
    "    elif i>=60000 and i<=65000:\n",
    "        #print(i)\n",
    "        d.loc[x, ['salary_bins']]='[60k-65k]'\n",
    "    elif i>=65000 and i<=70000:\n",
    "        #print(i)\n",
    "        d.loc[x, ['salary_bins']]='[65k-70k]'\n",
    "    elif i>=70000 and i<=75000:\n",
    "        #print(i)\n",
    "        d.loc[x, ['salary_bins']]='[70k-75k]'\n",
    "    elif i>=75000 and i<=80000:\n",
    "        #print(i)\n",
    "        d.loc[x, ['salary_bins']]='[75k-80k]'\n",
    "        \n",
    "    elif i>=80000 and i<=85000:\n",
    "        #print(i)\n",
    "        d.loc[x, ['salary_bins']]='[80k-85k]'\n",
    "        \n",
    "    elif i>=85000 and i<=90000:\n",
    "        #print(i)\n",
    "        d.loc[x, ['salary_bins']]='[85k-90k]'\n",
    "    elif i>=90000 and i<=95000:\n",
    "        #print(i)\n",
    "        d.loc[x, ['salary_bins']]='[90k-95k]'\n",
    "        \n",
    "    elif i>=95000 and i<=100000:\n",
    "        #print(i)\n",
    "        d.loc[x, ['salary_bins']]='[95k-100k]'\n",
    "    elif i>=100000 and i<=200000:\n",
    "        #print(i)\n",
    "        d.loc[x, ['salary_bins']]='[100k-200k]'\n",
    "        \n",
    "    elif i>=200000 and i<=300000:\n",
    "        #print(i)\n",
    "        d.loc[x, ['salary_bins']]='[200k-300k]'\n",
    "    elif i>=300000 and i<=400000:\n",
    "        #print(i)\n",
    "        d.loc[x, ['salary_bins']]='[300k-400k]'\n",
    "    elif i>=400000 and i<=500000:\n",
    "        #print(i)\n",
    "        d.loc[x, ['salary_bins']]='[400k-500k]'\n",
    "    elif i>500000:\n",
    "        #print(i)\n",
    "        d.loc[x, ['salary_bins']]='[500k+]'\n",
    "        "
   ]
  },
  {
   "cell_type": "code",
   "execution_count": 14,
   "id": "21202511",
   "metadata": {},
   "outputs": [],
   "source": [
    "for x,i in enumerate (d['cloan_disbursal_amount']):\n",
    "    if i>=2000 and i<=10000:\n",
    "        d.loc[x, ['loan_bins']]='[2k-10k]'\n",
    "\n",
    "    elif i>=10500 and i<=11000:\n",
    "        d.loc[x, ['loan_bins']]='[10.5k-11k]'\n",
    "        \n",
    "    elif i>=11000 and i<=11500:\n",
    "        d.loc[x, ['loan_bins']]='[11k-11.5k]'\n",
    "        \n",
    "        \n",
    "    elif i>=11500 and i<=12000:\n",
    "        d.loc[x, ['loan_bins']]='[11.5k-12k]'\n",
    "\n",
    "        \n",
    "    elif i>=12000 and i<=12500:\n",
    "        d.loc[x, ['loan_bins']]='[12k-12.5k]'\n",
    "        \n",
    "    elif i>=12500  and i<=13000:\n",
    "        d.loc[x, ['loan_bins']]='[12.5k-13k]'\n",
    "        \n",
    "        \n",
    "    elif i>=13000 and i<=13500:\n",
    "        d.loc[x, ['loan_bins']]='[13k-13.5k]'\n",
    "        \n",
    "        \n",
    "    elif i>=13500 and i<=14000:\n",
    "        d.loc[x, ['loan_bins']]='[13.5k-14k]'\n",
    "\n",
    "        \n",
    "    elif i>=14000 and i<=14500:\n",
    "        d.loc[x, ['loan_bins']]='[14k-14.5k]'\n",
    "        \n",
    "        \n",
    "    elif i>=14500 and i<=15000:\n",
    "        d.loc[x, ['loan_bins']]='[14.5k-15k]'\n",
    "\n",
    "        \n",
    "    elif i>=15000 and i<=15500:\n",
    "        d.loc[x, ['loan_bins']]='[15k-15.5k]'\n",
    "        \n",
    "    elif i>=15500 and i<=16000:\n",
    "        d.loc[x, ['loan_bins']]='[15.5k-16k]'\n",
    "        \n",
    "        \n",
    "    elif i>=16000 and i<=16500:\n",
    "        d.loc[x, ['loan_bins']]='[16k-16.5k]'\n",
    "        \n",
    "        \n",
    "    elif i>=16500 and i<=17000:\n",
    "        d.loc[x, ['loan_bins']]='[16.5k-17k]'\n",
    "        \n",
    "\n",
    "        \n",
    "    elif i>=17000 and i<=17500:\n",
    "        d.loc[x, ['loan_bins']]='[17k-17.5k]'\n",
    "        \n",
    "        \n",
    "    elif i>=17500 and i<=18000:\n",
    "        d.loc[x, ['loan_bins']]='[17.5k-18k]'\n",
    "\n",
    "        \n",
    "    elif i>=18000 and i<=18500:\n",
    "        d.loc[x, ['loan_bins']]='[18k-18.5k]'\n",
    "        \n",
    "    elif i>=18500 and i<=19000:\n",
    "        d.loc[x, ['loan_bins']]='[18.5k-19k]'\n",
    "        \n",
    "        \n",
    "    elif i>=19000 and i<=19500:\n",
    "        d.loc[x, ['loan_bins']]='[19k-19.5k]'\n",
    "        \n",
    "        \n",
    "    elif i>=19500 and i<=20000:\n",
    "        d.loc[x, ['loan_bins']]='[19.5k-20k]'\n",
    "        \n",
    "        \n",
    "    elif i>=20000 and i<=20500:\n",
    "        d.loc[x, ['loan_bins']]='[20k-20.5k]'\n",
    "        \n",
    "        \n",
    "    elif i>=20500 and i<=21000:\n",
    "        d.loc[x, ['loan_bins']]='[20.5k-21k]'\n",
    "\n",
    "        \n",
    "    elif i>=21000 and i<=21500:\n",
    "        d.loc[x, ['loan_bins']]='[21k-21.5k]'\n",
    "        \n",
    "    elif i>=21500 and i<=22000:\n",
    "        d.loc[x, ['loan_bins']]='[21.5k-22k]'\n",
    "        \n",
    "        \n",
    "    elif i>=22000 and i<=22500:\n",
    "        d.loc[x, ['loan_bins']]='[22k-22.5k]'\n",
    "        \n",
    "        \n",
    "    elif i>=22500 and i<=23000:\n",
    "        d.loc[x, ['loan_bins']]='[22.5k-23k]'\n",
    "        \n",
    "        \n",
    "        \n",
    "        \n",
    "    elif i>=23000 and i<=23500:\n",
    "        d.loc[x, ['loan_bins']]='[23k-23.5k]'\n",
    "        \n",
    "        \n",
    "    elif i>=23500 and i<=24000:\n",
    "        d.loc[x, ['loan_bins']]='[23.5k-24k]'\n",
    "\n",
    "        \n",
    "    elif i>=24000 and i<=24500:\n",
    "        d.loc[x, ['loan_bins']]='[24k-24.5k]'\n",
    "        \n",
    "    elif i>=24500 and i<=25000:\n",
    "        d.loc[x, ['loan_bins']]='[24.5k-25k]'\n",
    "        \n",
    "        \n",
    "    elif i>=25000 and i<=25500:\n",
    "        d.loc[x, ['loan_bins']]='[25k-25.5k]'\n",
    "        \n",
    "        \n",
    "    elif i>=25500 and i<=26000:\n",
    "        d.loc[x, ['loan_bins']]='[25.5k-26k]'\n",
    "        \n",
    "        \n",
    "        \n",
    "    elif i>=26000 and i<=26500:\n",
    "        d.loc[x, ['loan_bins']]='[26k-26.5k]'\n",
    "        \n",
    "        \n",
    "    elif i>=26500 and i<=27000:\n",
    "        d.loc[x, ['loan_bins']]='[26.5k-27k]'\n",
    "\n",
    "        \n",
    "    elif i>=27000 and i<=28000:\n",
    "        d.loc[x, ['loan_bins']]='[27k-28k]'\n",
    "        \n",
    "    elif i>=28000 and i<=28500:\n",
    "        d.loc[x, ['loan_bins']]='[28k-28.5k]'\n",
    "        \n",
    "        \n",
    "    elif i>=28500 and i<=29000:\n",
    "        d.loc[x, ['loan_bins']]='[28.5k-29k]'\n",
    "        \n",
    "        \n",
    "    elif i>=29000 and i<=29500:\n",
    "        d.loc[x, ['loan_bins']]='[29k-29.5k]'\n",
    "        \n",
    "        \n",
    "    elif i>=29500 and i<=30000:\n",
    "        d.loc[x, ['loan_bins']]='[29.5k-30k]'\n",
    "        \n",
    "        \n",
    "    elif i>=30000 and i<=30500:\n",
    "        d.loc[x, ['loan_bins']]='[30k-30.5k]'\n",
    "\n",
    "        \n",
    "    elif i>=30500 and i<=31000:\n",
    "        d.loc[x, ['loan_bins']]='[30.5k-31k]'\n",
    "        \n",
    "    elif i>=31000 and i<=31500:\n",
    "        d.loc[x, ['loan_bins']]='[31k-31.5k]'\n",
    "        \n",
    "        \n",
    "    elif i>=31500 and i<=32000:\n",
    "        d.loc[x, ['loan_bins']]='[31.5k-32k]'\n",
    "        \n",
    "        \n",
    "    elif i>=32000 and i<=32500:\n",
    "        d.loc[x, ['loan_bins']]='[32k-32.5k]'\n",
    "        \n",
    "        \n",
    "        \n",
    "    elif i>=32500 and i<=33000:\n",
    "        d.loc[x, ['loan_bins']]='[32.5k-33k]'\n",
    "        \n",
    "        \n",
    "    elif i>=33000 and i<=33500:\n",
    "        d.loc[x, ['loan_bins']]='[33k-33.5k]'\n",
    "\n",
    "        \n",
    "    elif i>=33500 and i<=34000:\n",
    "        d.loc[x, ['loan_bins']]='[33.5k-34k]'\n",
    "        \n",
    "    elif i>=34000 and i<=34500:\n",
    "        d.loc[x, ['loan_bins']]='[34k-34.5k]'\n",
    "        \n",
    "        \n",
    "    elif i>=34500 and i<=35000:\n",
    "        d.loc[x, ['loan_bins']]='[34.5k-35k]'\n",
    "        \n",
    "        \n",
    "    elif i>=35000 and i<=35500:\n",
    "        d.loc[x, ['loan_bins']]='[35k-35.5k]'\n",
    "        \n",
    "        \n",
    "    elif i>=35500 and i<=36000:\n",
    "        d.loc[x, ['loan_bins']]='[35.5k-36k]'\n",
    "        \n",
    "        \n",
    "    elif i>=36000 and i<=36500:\n",
    "        d.loc[x, ['loan_bins']]='[36k-36.5k]'\n",
    "\n",
    "        \n",
    "    elif i>=36500 and i<=37000:\n",
    "        d.loc[x, ['loan_bins']]='[36.5k-37k]'\n",
    "        \n",
    "    elif i>=37000 and i<=37500:\n",
    "        d.loc[x, ['loan_bins']]='[37k-37.5k]'\n",
    "        \n",
    "        \n",
    "    elif i>=37500 and i<=38000:\n",
    "        d.loc[x, ['loan_bins']]='[37.5k-38k]'\n",
    "        \n",
    "        \n",
    "    elif i>=38000 and i<=38500:\n",
    "        d.loc[x, ['loan_bins']]='[38k-38.5k]' \n",
    "        \n",
    "                \n",
    "    elif i>=38500 and i<=39000:\n",
    "        d.loc[x, ['loan_bins']]='[38.5k-39k]'\n",
    "\n",
    "        \n",
    "    elif i>=39000 and i<=39500:\n",
    "        d.loc[x, ['loan_bins']]='[39k-39.5k]'\n",
    "        \n",
    "    elif i>=39500 and i<=40000:\n",
    "        d.loc[x, ['loan_bins']]='[39.5k-40k]'\n",
    "        \n",
    "        \n",
    "    elif i>=40000 and i<=40500:\n",
    "        d.loc[x, ['loan_bins']]='[40k-40.5k]'\n",
    "        \n",
    "        \n",
    "    elif i>=40500 and i<=41000:\n",
    "        d.loc[x, ['loan_bins']]='[40.5k-41k]'\n",
    "        \n",
    "        \n",
    "    elif i>=41000 and i<=41500:\n",
    "        d.loc[x, ['loan_bins']]='[41k-41.5k]'\n",
    "        \n",
    "        \n",
    "    elif i>=41500 and i<=42000:\n",
    "        d.loc[x, ['loan_bins']]='[41.5k-42k]'\n",
    "\n",
    "        \n",
    "    elif i>=42000 and i<=42500:\n",
    "        d.loc[x, ['loan_bins']]='[42k-42.5k]'\n",
    "        \n",
    "    elif i>=42500 and i<=43000:\n",
    "        d.loc[x, ['loan_bins']]='[42.5k-43k]'\n",
    "        \n",
    "        \n",
    "    elif i>=43000 and i<=43500:\n",
    "        d.loc[x, ['loan_bins']]='[43k-43.5k]'\n",
    "        \n",
    "        \n",
    "    elif i>=43500 and i<=44000:\n",
    "        d.loc[x, ['loan_bins']]='[43.5k-44k]'\n",
    "    elif i>44000 and i<45000 :\n",
    "        d.loc[x,['loan_bins']]='44k-45k'\n",
    "    elif i>45000 and i<46000 :\n",
    "        d.loc[x,['loan_bins']]='45k-46k'\n",
    "    elif i>46000 and i<47000 :\n",
    "        d.loc[x,['loan_bins']]='46k-47k'\n",
    "    elif i>47000 and i<48000 :\n",
    "        d.loc[x,['loan_bins']]='47k-48k'\n",
    "    elif i>48000 and i<49000 :\n",
    "        d.loc[x,['loan_bins']]='48k-49k'\n",
    "    elif i>49000 and i<50000 :\n",
    "        d.loc[x,['loan_bins']]='49k-50k'\n",
    "    elif i>50000 and i<55000 :\n",
    "        d.loc[x,['loan_bins']]='50k-55k'\n",
    "    elif i>55000 :\n",
    "        d.loc[x,['loan_bins']]='55k+'"
   ]
  },
  {
   "cell_type": "code",
   "execution_count": 15,
   "id": "4c329202",
   "metadata": {
    "scrolled": true
   },
   "outputs": [
    {
     "data": {
      "text/plain": [
       "55k+           24.198507\n",
       "[29.5k-30k]     6.631533\n",
       "[23.5k-24k]     4.655248\n",
       "[19.5k-20k]     4.435661\n",
       "50k-55k         4.259991\n",
       "[17.5k-18k]     4.128239\n",
       "[35.5k-36k]     3.381643\n",
       "[16.5k-17k]     3.249890\n",
       "[11.5k-12k]     3.205973\n",
       "[39.5k-40k]     3.162055\n",
       "[31.5k-32k]     2.195872\n",
       "[33.5k-34k]     2.064119\n",
       "[25k-25.5k]     2.020202\n",
       "[27k-28k]       2.020202\n",
       "[2k-10k]        2.020202\n",
       "[41.5k-42k]     1.932367\n",
       "[14.5k-15k]     1.581028\n",
       "[26k-26.5k]     1.581028\n",
       "[25.5k-26k]     1.493193\n",
       "[10.5k-11k]     1.449275\n",
       "[42k-42.5k]     1.273606\n",
       "[22k-22.5k]     1.229688\n",
       "[38.5k-39k]     1.229688\n",
       "[21k-21.5k]     1.010101\n",
       "[35k-35.5k]     0.922266\n",
       "[32.5k-33k]     0.922266\n",
       "44k-45k         0.922266\n",
       "[43.5k-44k]     0.834431\n",
       "[15.5k-16k]     0.790514\n",
       "[37k-37.5k]     0.790514\n",
       "[13.5k-14k]     0.746596\n",
       "[37.5k-38k]     0.746596\n",
       "[21.5k-22k]     0.702679\n",
       "[18.5k-19k]     0.702679\n",
       "[19k-19.5k]     0.614844\n",
       "[24.5k-25k]     0.527009\n",
       "[28k-28.5k]     0.527009\n",
       "[20.5k-21k]     0.527009\n",
       "47k-48k         0.527009\n",
       "[26.5k-27k]     0.483092\n",
       "[40.5k-41k]     0.439174\n",
       "[30.5k-31k]     0.395257\n",
       "[29k-29.5k]     0.351339\n",
       "[22.5k-23k]     0.351339\n",
       "45k-46k         0.307422\n",
       "[12k-12.5k]     0.263505\n",
       "[34k-34.5k]     0.219587\n",
       "[13k-13.5k]     0.219587\n",
       "49k-50k         0.175670\n",
       "[12.5k-13k]     0.175670\n",
       "[34.5k-35k]     0.131752\n",
       "[36k-36.5k]     0.131752\n",
       "[11k-11.5k]     0.131752\n",
       "[40k-40.5k]     0.131752\n",
       "[42.5k-43k]     0.131752\n",
       "[14k-14.5k]     0.087835\n",
       "[17k-17.5k]     0.087835\n",
       "[18k-18.5k]     0.087835\n",
       "[28.5k-29k]     0.087835\n",
       "46k-47k         0.087835\n",
       "[38k-38.5k]     0.087835\n",
       "[16k-16.5k]     0.043917\n",
       "[43k-43.5k]     0.043917\n",
       "[41k-41.5k]     0.043917\n",
       "48k-49k         0.043917\n",
       "[23k-23.5k]     0.043917\n",
       "Name: loan_bins, dtype: float64"
      ]
     },
     "execution_count": 15,
     "metadata": {},
     "output_type": "execute_result"
    }
   ],
   "source": [
    "d.loan_bins.value_counts(normalize=True)*100"
   ]
  },
  {
   "cell_type": "markdown",
   "id": "cefb03da",
   "metadata": {},
   "source": [
    "# MERGE DATAFRAME ON ID"
   ]
  },
  {
   "cell_type": "code",
   "execution_count": 16,
   "id": "d7442e51",
   "metadata": {},
   "outputs": [
    {
     "name": "stdout",
     "output_type": "stream",
     "text": [
      "(2386, 39)\n"
     ]
    },
    {
     "data": {
      "text/html": [
       "<div>\n",
       "<style scoped>\n",
       "    .dataframe tbody tr th:only-of-type {\n",
       "        vertical-align: middle;\n",
       "    }\n",
       "\n",
       "    .dataframe tbody tr th {\n",
       "        vertical-align: top;\n",
       "    }\n",
       "\n",
       "    .dataframe thead th {\n",
       "        text-align: right;\n",
       "    }\n",
       "</style>\n",
       "<table border=\"1\" class=\"dataframe\">\n",
       "  <thead>\n",
       "    <tr style=\"text-align: right;\">\n",
       "      <th></th>\n",
       "      <th>id</th>\n",
       "      <th>cloan_disbursal_amount_x</th>\n",
       "      <th>cloan_service_charge_x</th>\n",
       "      <th>cloan_penalty_x</th>\n",
       "      <th>cloan_total_x</th>\n",
       "      <th>cloan_status_id</th>\n",
       "      <th>cloan_exhausted_days</th>\n",
       "      <th>user_status_id</th>\n",
       "      <th>accounts_manager_id</th>\n",
       "      <th>recovery_officer_id</th>\n",
       "      <th>gender</th>\n",
       "      <th>user_created_by</th>\n",
       "      <th>city</th>\n",
       "      <th>age</th>\n",
       "      <th>PERMANENT_PIN</th>\n",
       "      <th>present_pin</th>\n",
       "      <th>DEPARTMENT</th>\n",
       "      <th>DESIGNATION</th>\n",
       "      <th>proinfo_monthly_sal</th>\n",
       "      <th>INDUSTRY</th>\n",
       "      <th>proinfo_pincode</th>\n",
       "      <th>proinfo_city</th>\n",
       "      <th>capbility_status</th>\n",
       "      <th>user_survey_marital_status</th>\n",
       "      <th>customer_bank_name</th>\n",
       "      <th>customer_bank_ifsc_code</th>\n",
       "      <th>RMName</th>\n",
       "      <th>MaxPLoanAm</th>\n",
       "      <th>LMID</th>\n",
       "      <th>LMName</th>\n",
       "      <th>cloan_disbursal_amount_y</th>\n",
       "      <th>cloan_service_charge_y</th>\n",
       "      <th>cloan_penalty_y</th>\n",
       "      <th>cloan_total_y</th>\n",
       "      <th>cloan_amount</th>\n",
       "      <th>cloan_exhausted_days_avg</th>\n",
       "      <th>age_bins</th>\n",
       "      <th>salary_bins</th>\n",
       "      <th>loan_bins</th>\n",
       "    </tr>\n",
       "  </thead>\n",
       "  <tbody>\n",
       "    <tr>\n",
       "      <th>0</th>\n",
       "      <td>1000213</td>\n",
       "      <td>15000</td>\n",
       "      <td>15750</td>\n",
       "      <td>18540</td>\n",
       "      <td>51060</td>\n",
       "      <td>21.0</td>\n",
       "      <td>511.0</td>\n",
       "      <td>12</td>\n",
       "      <td>120</td>\n",
       "      <td>118.0</td>\n",
       "      <td>1.0</td>\n",
       "      <td>5</td>\n",
       "      <td>nagpur</td>\n",
       "      <td>36</td>\n",
       "      <td>440009</td>\n",
       "      <td>440009</td>\n",
       "      <td>sales</td>\n",
       "      <td>manager</td>\n",
       "      <td>51090</td>\n",
       "      <td>education</td>\n",
       "      <td>440010</td>\n",
       "      <td>Nagpur</td>\n",
       "      <td>1</td>\n",
       "      <td>1.0</td>\n",
       "      <td>ICICI BANK</td>\n",
       "      <td>ICIC0006235</td>\n",
       "      <td>Manish</td>\n",
       "      <td>15000</td>\n",
       "      <td>21.0</td>\n",
       "      <td>Krishnandu</td>\n",
       "      <td>30000</td>\n",
       "      <td>31500</td>\n",
       "      <td>37080</td>\n",
       "      <td>102120</td>\n",
       "      <td>30000</td>\n",
       "      <td>511.0</td>\n",
       "      <td>[36-40]</td>\n",
       "      <td>[50k-55k]</td>\n",
       "      <td>[29.5k-30k]</td>\n",
       "    </tr>\n",
       "    <tr>\n",
       "      <th>1</th>\n",
       "      <td>1000329</td>\n",
       "      <td>10000</td>\n",
       "      <td>9900</td>\n",
       "      <td>18500</td>\n",
       "      <td>39580</td>\n",
       "      <td>21.0</td>\n",
       "      <td>510.0</td>\n",
       "      <td>12</td>\n",
       "      <td>110</td>\n",
       "      <td>118.0</td>\n",
       "      <td>1.0</td>\n",
       "      <td>5</td>\n",
       "      <td>deoghar</td>\n",
       "      <td>28</td>\n",
       "      <td>814112</td>\n",
       "      <td>814112</td>\n",
       "      <td>training and quality</td>\n",
       "      <td>lead trainer</td>\n",
       "      <td>35413</td>\n",
       "      <td>software/it/ites/bpo</td>\n",
       "      <td>834002</td>\n",
       "      <td>Ranchi</td>\n",
       "      <td>1</td>\n",
       "      <td>0.0</td>\n",
       "      <td>HDFC</td>\n",
       "      <td>HDFC0002687</td>\n",
       "      <td>SashiRekha</td>\n",
       "      <td>10000</td>\n",
       "      <td>21.0</td>\n",
       "      <td>Krishnandu</td>\n",
       "      <td>30000</td>\n",
       "      <td>29700</td>\n",
       "      <td>55500</td>\n",
       "      <td>118740</td>\n",
       "      <td>30000</td>\n",
       "      <td>510.0</td>\n",
       "      <td>[26-30]</td>\n",
       "      <td>[35k-40k]</td>\n",
       "      <td>[29.5k-30k]</td>\n",
       "    </tr>\n",
       "    <tr>\n",
       "      <th>2</th>\n",
       "      <td>1000381</td>\n",
       "      <td>40000</td>\n",
       "      <td>39600</td>\n",
       "      <td>18460</td>\n",
       "      <td>102780</td>\n",
       "      <td>21.0</td>\n",
       "      <td>509.0</td>\n",
       "      <td>12</td>\n",
       "      <td>133</td>\n",
       "      <td>140.0</td>\n",
       "      <td>0.0</td>\n",
       "      <td>5</td>\n",
       "      <td>bangalore</td>\n",
       "      <td>34</td>\n",
       "      <td>560037</td>\n",
       "      <td>560037</td>\n",
       "      <td>operations</td>\n",
       "      <td>senior process associate</td>\n",
       "      <td>31490</td>\n",
       "      <td>banking and financial services</td>\n",
       "      <td>400063</td>\n",
       "      <td>Bangalore</td>\n",
       "      <td>1</td>\n",
       "      <td>0.0</td>\n",
       "      <td>AXIS BANK</td>\n",
       "      <td>UTIB0000194</td>\n",
       "      <td>RohitKumar</td>\n",
       "      <td>40000</td>\n",
       "      <td>55.0</td>\n",
       "      <td>SarikaReddy</td>\n",
       "      <td>80000</td>\n",
       "      <td>79200</td>\n",
       "      <td>36920</td>\n",
       "      <td>205560</td>\n",
       "      <td>80000</td>\n",
       "      <td>509.0</td>\n",
       "      <td>[31-35]</td>\n",
       "      <td>[30k-35k]</td>\n",
       "      <td>55k+</td>\n",
       "    </tr>\n",
       "    <tr>\n",
       "      <th>3</th>\n",
       "      <td>1000395</td>\n",
       "      <td>40000</td>\n",
       "      <td>32400</td>\n",
       "      <td>13980</td>\n",
       "      <td>91100</td>\n",
       "      <td>21.0</td>\n",
       "      <td>397.0</td>\n",
       "      <td>12</td>\n",
       "      <td>110</td>\n",
       "      <td>134.0</td>\n",
       "      <td>1.0</td>\n",
       "      <td>5</td>\n",
       "      <td>chennai</td>\n",
       "      <td>35</td>\n",
       "      <td>600093</td>\n",
       "      <td>600093</td>\n",
       "      <td>technology</td>\n",
       "      <td>manager</td>\n",
       "      <td>152993</td>\n",
       "      <td>software/it/ites/bpo</td>\n",
       "      <td>500081</td>\n",
       "      <td>Chennai</td>\n",
       "      <td>1</td>\n",
       "      <td>1.0</td>\n",
       "      <td>ICICI BANK</td>\n",
       "      <td>ICIC0000573</td>\n",
       "      <td>SashiRekha</td>\n",
       "      <td>40000</td>\n",
       "      <td>55.0</td>\n",
       "      <td>SarikaReddy</td>\n",
       "      <td>80000</td>\n",
       "      <td>64800</td>\n",
       "      <td>27960</td>\n",
       "      <td>182200</td>\n",
       "      <td>80000</td>\n",
       "      <td>397.0</td>\n",
       "      <td>[31-35]</td>\n",
       "      <td>[100k-200k]</td>\n",
       "      <td>55k+</td>\n",
       "    </tr>\n",
       "    <tr>\n",
       "      <th>4</th>\n",
       "      <td>1000398</td>\n",
       "      <td>12000</td>\n",
       "      <td>480</td>\n",
       "      <td>60</td>\n",
       "      <td>13956</td>\n",
       "      <td>21.0</td>\n",
       "      <td>347.0</td>\n",
       "      <td>12</td>\n",
       "      <td>132</td>\n",
       "      <td>118.0</td>\n",
       "      <td>1.0</td>\n",
       "      <td>5</td>\n",
       "      <td>chennai</td>\n",
       "      <td>45</td>\n",
       "      <td>600126</td>\n",
       "      <td>600126</td>\n",
       "      <td>maintenance mechanical</td>\n",
       "      <td>tmt</td>\n",
       "      <td>58649</td>\n",
       "      <td>manufacturing</td>\n",
       "      <td>603204</td>\n",
       "      <td>Chennai</td>\n",
       "      <td>1</td>\n",
       "      <td>1.0</td>\n",
       "      <td>INDIAN OVERSEAS BANK</td>\n",
       "      <td>IOBA0003597</td>\n",
       "      <td>Jagjit</td>\n",
       "      <td>17000</td>\n",
       "      <td>55.0</td>\n",
       "      <td>SarikaReddy</td>\n",
       "      <td>24000</td>\n",
       "      <td>960</td>\n",
       "      <td>120</td>\n",
       "      <td>27912</td>\n",
       "      <td>24000</td>\n",
       "      <td>347.0</td>\n",
       "      <td>[41-45]</td>\n",
       "      <td>[55k-60k]</td>\n",
       "      <td>[23.5k-24k]</td>\n",
       "    </tr>\n",
       "  </tbody>\n",
       "</table>\n",
       "</div>"
      ],
      "text/plain": [
       "        id  cloan_disbursal_amount_x  cloan_service_charge_x  cloan_penalty_x  \\\n",
       "0  1000213                     15000                   15750            18540   \n",
       "1  1000329                     10000                    9900            18500   \n",
       "2  1000381                     40000                   39600            18460   \n",
       "3  1000395                     40000                   32400            13980   \n",
       "4  1000398                     12000                     480               60   \n",
       "\n",
       "   cloan_total_x  cloan_status_id  cloan_exhausted_days  user_status_id  \\\n",
       "0          51060             21.0                 511.0              12   \n",
       "1          39580             21.0                 510.0              12   \n",
       "2         102780             21.0                 509.0              12   \n",
       "3          91100             21.0                 397.0              12   \n",
       "4          13956             21.0                 347.0              12   \n",
       "\n",
       "   accounts_manager_id  recovery_officer_id  gender  user_created_by  \\\n",
       "0                  120                118.0     1.0                5   \n",
       "1                  110                118.0     1.0                5   \n",
       "2                  133                140.0     0.0                5   \n",
       "3                  110                134.0     1.0                5   \n",
       "4                  132                118.0     1.0                5   \n",
       "\n",
       "        city  age PERMANENT_PIN present_pin              DEPARTMENT  \\\n",
       "0     nagpur   36        440009      440009                   sales   \n",
       "1    deoghar   28        814112      814112    training and quality   \n",
       "2  bangalore   34        560037      560037              operations   \n",
       "3    chennai   35        600093      600093              technology   \n",
       "4    chennai   45        600126      600126  maintenance mechanical   \n",
       "\n",
       "                DESIGNATION  proinfo_monthly_sal  \\\n",
       "0                  manager                 51090   \n",
       "1              lead trainer                35413   \n",
       "2  senior process associate                31490   \n",
       "3                   manager               152993   \n",
       "4                       tmt                58649   \n",
       "\n",
       "                         INDUSTRY proinfo_pincode proinfo_city  \\\n",
       "0                       education          440010       Nagpur   \n",
       "1            software/it/ites/bpo          834002       Ranchi   \n",
       "2  banking and financial services          400063    Bangalore   \n",
       "3            software/it/ites/bpo          500081      Chennai   \n",
       "4                   manufacturing          603204      Chennai   \n",
       "\n",
       "   capbility_status  user_survey_marital_status    customer_bank_name  \\\n",
       "0                 1                         1.0            ICICI BANK   \n",
       "1                 1                         0.0                  HDFC   \n",
       "2                 1                         0.0             AXIS BANK   \n",
       "3                 1                         1.0            ICICI BANK   \n",
       "4                 1                         1.0  INDIAN OVERSEAS BANK   \n",
       "\n",
       "  customer_bank_ifsc_code      RMName  MaxPLoanAm  LMID       LMName  \\\n",
       "0             ICIC0006235      Manish       15000  21.0   Krishnandu   \n",
       "1             HDFC0002687  SashiRekha       10000  21.0   Krishnandu   \n",
       "2             UTIB0000194  RohitKumar       40000  55.0  SarikaReddy   \n",
       "3             ICIC0000573  SashiRekha       40000  55.0  SarikaReddy   \n",
       "4             IOBA0003597      Jagjit       17000  55.0  SarikaReddy   \n",
       "\n",
       "   cloan_disbursal_amount_y  cloan_service_charge_y  cloan_penalty_y  \\\n",
       "0                     30000                   31500            37080   \n",
       "1                     30000                   29700            55500   \n",
       "2                     80000                   79200            36920   \n",
       "3                     80000                   64800            27960   \n",
       "4                     24000                     960              120   \n",
       "\n",
       "   cloan_total_y  cloan_amount  cloan_exhausted_days_avg age_bins  \\\n",
       "0         102120         30000                     511.0  [36-40]   \n",
       "1         118740         30000                     510.0  [26-30]   \n",
       "2         205560         80000                     509.0  [31-35]   \n",
       "3         182200         80000                     397.0  [31-35]   \n",
       "4          27912         24000                     347.0  [41-45]   \n",
       "\n",
       "   salary_bins    loan_bins  \n",
       "0    [50k-55k]  [29.5k-30k]  \n",
       "1    [35k-40k]  [29.5k-30k]  \n",
       "2    [30k-35k]         55k+  \n",
       "3  [100k-200k]         55k+  \n",
       "4    [55k-60k]  [23.5k-24k]  "
      ]
     },
     "execution_count": 16,
     "metadata": {},
     "output_type": "execute_result"
    }
   ],
   "source": [
    "df3 = pd.merge(df2, d, on=\"id\")\n",
    "print(df3.shape)\n",
    "df3.head()\n"
   ]
  },
  {
   "cell_type": "markdown",
   "id": "3176263d",
   "metadata": {},
   "source": [
    "# FILTERING STATUS_ID 21"
   ]
  },
  {
   "cell_type": "code",
   "execution_count": 17,
   "id": "337b98b8",
   "metadata": {},
   "outputs": [
    {
     "name": "stdout",
     "output_type": "stream",
     "text": [
      "(2386, 39)\n"
     ]
    },
    {
     "data": {
      "text/html": [
       "<div>\n",
       "<style scoped>\n",
       "    .dataframe tbody tr th:only-of-type {\n",
       "        vertical-align: middle;\n",
       "    }\n",
       "\n",
       "    .dataframe tbody tr th {\n",
       "        vertical-align: top;\n",
       "    }\n",
       "\n",
       "    .dataframe thead th {\n",
       "        text-align: right;\n",
       "    }\n",
       "</style>\n",
       "<table border=\"1\" class=\"dataframe\">\n",
       "  <thead>\n",
       "    <tr style=\"text-align: right;\">\n",
       "      <th></th>\n",
       "      <th>id</th>\n",
       "      <th>cloan_disbursal_amount_x</th>\n",
       "      <th>cloan_service_charge_x</th>\n",
       "      <th>cloan_penalty_x</th>\n",
       "      <th>cloan_total_x</th>\n",
       "      <th>cloan_status_id</th>\n",
       "      <th>cloan_exhausted_days</th>\n",
       "      <th>user_status_id</th>\n",
       "      <th>accounts_manager_id</th>\n",
       "      <th>recovery_officer_id</th>\n",
       "      <th>gender</th>\n",
       "      <th>user_created_by</th>\n",
       "      <th>city</th>\n",
       "      <th>age</th>\n",
       "      <th>PERMANENT_PIN</th>\n",
       "      <th>present_pin</th>\n",
       "      <th>DEPARTMENT</th>\n",
       "      <th>DESIGNATION</th>\n",
       "      <th>proinfo_monthly_sal</th>\n",
       "      <th>INDUSTRY</th>\n",
       "      <th>proinfo_pincode</th>\n",
       "      <th>proinfo_city</th>\n",
       "      <th>capbility_status</th>\n",
       "      <th>user_survey_marital_status</th>\n",
       "      <th>customer_bank_name</th>\n",
       "      <th>customer_bank_ifsc_code</th>\n",
       "      <th>RMName</th>\n",
       "      <th>MaxPLoanAm</th>\n",
       "      <th>LMID</th>\n",
       "      <th>LMName</th>\n",
       "      <th>cloan_disbursal_amount_y</th>\n",
       "      <th>cloan_service_charge_y</th>\n",
       "      <th>cloan_penalty_y</th>\n",
       "      <th>cloan_total_y</th>\n",
       "      <th>cloan_amount</th>\n",
       "      <th>cloan_exhausted_days_avg</th>\n",
       "      <th>age_bins</th>\n",
       "      <th>salary_bins</th>\n",
       "      <th>loan_bins</th>\n",
       "    </tr>\n",
       "  </thead>\n",
       "  <tbody>\n",
       "    <tr>\n",
       "      <th>0</th>\n",
       "      <td>1000213</td>\n",
       "      <td>15000</td>\n",
       "      <td>15750</td>\n",
       "      <td>18540</td>\n",
       "      <td>51060</td>\n",
       "      <td>21.0</td>\n",
       "      <td>511.0</td>\n",
       "      <td>12</td>\n",
       "      <td>120</td>\n",
       "      <td>118.0</td>\n",
       "      <td>1.0</td>\n",
       "      <td>5</td>\n",
       "      <td>nagpur</td>\n",
       "      <td>36</td>\n",
       "      <td>440009</td>\n",
       "      <td>440009</td>\n",
       "      <td>sales</td>\n",
       "      <td>manager</td>\n",
       "      <td>51090</td>\n",
       "      <td>education</td>\n",
       "      <td>440010</td>\n",
       "      <td>Nagpur</td>\n",
       "      <td>1</td>\n",
       "      <td>1.0</td>\n",
       "      <td>ICICI BANK</td>\n",
       "      <td>ICIC0006235</td>\n",
       "      <td>Manish</td>\n",
       "      <td>15000</td>\n",
       "      <td>21.0</td>\n",
       "      <td>Krishnandu</td>\n",
       "      <td>30000</td>\n",
       "      <td>31500</td>\n",
       "      <td>37080</td>\n",
       "      <td>102120</td>\n",
       "      <td>30000</td>\n",
       "      <td>511.0</td>\n",
       "      <td>[36-40]</td>\n",
       "      <td>[50k-55k]</td>\n",
       "      <td>[29.5k-30k]</td>\n",
       "    </tr>\n",
       "    <tr>\n",
       "      <th>1</th>\n",
       "      <td>1000329</td>\n",
       "      <td>10000</td>\n",
       "      <td>9900</td>\n",
       "      <td>18500</td>\n",
       "      <td>39580</td>\n",
       "      <td>21.0</td>\n",
       "      <td>510.0</td>\n",
       "      <td>12</td>\n",
       "      <td>110</td>\n",
       "      <td>118.0</td>\n",
       "      <td>1.0</td>\n",
       "      <td>5</td>\n",
       "      <td>deoghar</td>\n",
       "      <td>28</td>\n",
       "      <td>814112</td>\n",
       "      <td>814112</td>\n",
       "      <td>training and quality</td>\n",
       "      <td>lead trainer</td>\n",
       "      <td>35413</td>\n",
       "      <td>software/it/ites/bpo</td>\n",
       "      <td>834002</td>\n",
       "      <td>Ranchi</td>\n",
       "      <td>1</td>\n",
       "      <td>0.0</td>\n",
       "      <td>HDFC</td>\n",
       "      <td>HDFC0002687</td>\n",
       "      <td>SashiRekha</td>\n",
       "      <td>10000</td>\n",
       "      <td>21.0</td>\n",
       "      <td>Krishnandu</td>\n",
       "      <td>30000</td>\n",
       "      <td>29700</td>\n",
       "      <td>55500</td>\n",
       "      <td>118740</td>\n",
       "      <td>30000</td>\n",
       "      <td>510.0</td>\n",
       "      <td>[26-30]</td>\n",
       "      <td>[35k-40k]</td>\n",
       "      <td>[29.5k-30k]</td>\n",
       "    </tr>\n",
       "    <tr>\n",
       "      <th>2</th>\n",
       "      <td>1000381</td>\n",
       "      <td>40000</td>\n",
       "      <td>39600</td>\n",
       "      <td>18460</td>\n",
       "      <td>102780</td>\n",
       "      <td>21.0</td>\n",
       "      <td>509.0</td>\n",
       "      <td>12</td>\n",
       "      <td>133</td>\n",
       "      <td>140.0</td>\n",
       "      <td>0.0</td>\n",
       "      <td>5</td>\n",
       "      <td>bangalore</td>\n",
       "      <td>34</td>\n",
       "      <td>560037</td>\n",
       "      <td>560037</td>\n",
       "      <td>operations</td>\n",
       "      <td>senior process associate</td>\n",
       "      <td>31490</td>\n",
       "      <td>banking and financial services</td>\n",
       "      <td>400063</td>\n",
       "      <td>Bangalore</td>\n",
       "      <td>1</td>\n",
       "      <td>0.0</td>\n",
       "      <td>AXIS BANK</td>\n",
       "      <td>UTIB0000194</td>\n",
       "      <td>RohitKumar</td>\n",
       "      <td>40000</td>\n",
       "      <td>55.0</td>\n",
       "      <td>SarikaReddy</td>\n",
       "      <td>80000</td>\n",
       "      <td>79200</td>\n",
       "      <td>36920</td>\n",
       "      <td>205560</td>\n",
       "      <td>80000</td>\n",
       "      <td>509.0</td>\n",
       "      <td>[31-35]</td>\n",
       "      <td>[30k-35k]</td>\n",
       "      <td>55k+</td>\n",
       "    </tr>\n",
       "    <tr>\n",
       "      <th>3</th>\n",
       "      <td>1000395</td>\n",
       "      <td>40000</td>\n",
       "      <td>32400</td>\n",
       "      <td>13980</td>\n",
       "      <td>91100</td>\n",
       "      <td>21.0</td>\n",
       "      <td>397.0</td>\n",
       "      <td>12</td>\n",
       "      <td>110</td>\n",
       "      <td>134.0</td>\n",
       "      <td>1.0</td>\n",
       "      <td>5</td>\n",
       "      <td>chennai</td>\n",
       "      <td>35</td>\n",
       "      <td>600093</td>\n",
       "      <td>600093</td>\n",
       "      <td>technology</td>\n",
       "      <td>manager</td>\n",
       "      <td>152993</td>\n",
       "      <td>software/it/ites/bpo</td>\n",
       "      <td>500081</td>\n",
       "      <td>Chennai</td>\n",
       "      <td>1</td>\n",
       "      <td>1.0</td>\n",
       "      <td>ICICI BANK</td>\n",
       "      <td>ICIC0000573</td>\n",
       "      <td>SashiRekha</td>\n",
       "      <td>40000</td>\n",
       "      <td>55.0</td>\n",
       "      <td>SarikaReddy</td>\n",
       "      <td>80000</td>\n",
       "      <td>64800</td>\n",
       "      <td>27960</td>\n",
       "      <td>182200</td>\n",
       "      <td>80000</td>\n",
       "      <td>397.0</td>\n",
       "      <td>[31-35]</td>\n",
       "      <td>[100k-200k]</td>\n",
       "      <td>55k+</td>\n",
       "    </tr>\n",
       "    <tr>\n",
       "      <th>4</th>\n",
       "      <td>1000398</td>\n",
       "      <td>12000</td>\n",
       "      <td>480</td>\n",
       "      <td>60</td>\n",
       "      <td>13956</td>\n",
       "      <td>21.0</td>\n",
       "      <td>347.0</td>\n",
       "      <td>12</td>\n",
       "      <td>132</td>\n",
       "      <td>118.0</td>\n",
       "      <td>1.0</td>\n",
       "      <td>5</td>\n",
       "      <td>chennai</td>\n",
       "      <td>45</td>\n",
       "      <td>600126</td>\n",
       "      <td>600126</td>\n",
       "      <td>maintenance mechanical</td>\n",
       "      <td>tmt</td>\n",
       "      <td>58649</td>\n",
       "      <td>manufacturing</td>\n",
       "      <td>603204</td>\n",
       "      <td>Chennai</td>\n",
       "      <td>1</td>\n",
       "      <td>1.0</td>\n",
       "      <td>INDIAN OVERSEAS BANK</td>\n",
       "      <td>IOBA0003597</td>\n",
       "      <td>Jagjit</td>\n",
       "      <td>17000</td>\n",
       "      <td>55.0</td>\n",
       "      <td>SarikaReddy</td>\n",
       "      <td>24000</td>\n",
       "      <td>960</td>\n",
       "      <td>120</td>\n",
       "      <td>27912</td>\n",
       "      <td>24000</td>\n",
       "      <td>347.0</td>\n",
       "      <td>[41-45]</td>\n",
       "      <td>[55k-60k]</td>\n",
       "      <td>[23.5k-24k]</td>\n",
       "    </tr>\n",
       "  </tbody>\n",
       "</table>\n",
       "</div>"
      ],
      "text/plain": [
       "        id  cloan_disbursal_amount_x  cloan_service_charge_x  cloan_penalty_x  \\\n",
       "0  1000213                     15000                   15750            18540   \n",
       "1  1000329                     10000                    9900            18500   \n",
       "2  1000381                     40000                   39600            18460   \n",
       "3  1000395                     40000                   32400            13980   \n",
       "4  1000398                     12000                     480               60   \n",
       "\n",
       "   cloan_total_x  cloan_status_id  cloan_exhausted_days  user_status_id  \\\n",
       "0          51060             21.0                 511.0              12   \n",
       "1          39580             21.0                 510.0              12   \n",
       "2         102780             21.0                 509.0              12   \n",
       "3          91100             21.0                 397.0              12   \n",
       "4          13956             21.0                 347.0              12   \n",
       "\n",
       "   accounts_manager_id  recovery_officer_id  gender  user_created_by  \\\n",
       "0                  120                118.0     1.0                5   \n",
       "1                  110                118.0     1.0                5   \n",
       "2                  133                140.0     0.0                5   \n",
       "3                  110                134.0     1.0                5   \n",
       "4                  132                118.0     1.0                5   \n",
       "\n",
       "        city  age PERMANENT_PIN present_pin              DEPARTMENT  \\\n",
       "0     nagpur   36        440009      440009                   sales   \n",
       "1    deoghar   28        814112      814112    training and quality   \n",
       "2  bangalore   34        560037      560037              operations   \n",
       "3    chennai   35        600093      600093              technology   \n",
       "4    chennai   45        600126      600126  maintenance mechanical   \n",
       "\n",
       "                DESIGNATION  proinfo_monthly_sal  \\\n",
       "0                  manager                 51090   \n",
       "1              lead trainer                35413   \n",
       "2  senior process associate                31490   \n",
       "3                   manager               152993   \n",
       "4                       tmt                58649   \n",
       "\n",
       "                         INDUSTRY proinfo_pincode proinfo_city  \\\n",
       "0                       education          440010       Nagpur   \n",
       "1            software/it/ites/bpo          834002       Ranchi   \n",
       "2  banking and financial services          400063    Bangalore   \n",
       "3            software/it/ites/bpo          500081      Chennai   \n",
       "4                   manufacturing          603204      Chennai   \n",
       "\n",
       "   capbility_status  user_survey_marital_status    customer_bank_name  \\\n",
       "0                 1                         1.0            ICICI BANK   \n",
       "1                 1                         0.0                  HDFC   \n",
       "2                 1                         0.0             AXIS BANK   \n",
       "3                 1                         1.0            ICICI BANK   \n",
       "4                 1                         1.0  INDIAN OVERSEAS BANK   \n",
       "\n",
       "  customer_bank_ifsc_code      RMName  MaxPLoanAm  LMID       LMName  \\\n",
       "0             ICIC0006235      Manish       15000  21.0   Krishnandu   \n",
       "1             HDFC0002687  SashiRekha       10000  21.0   Krishnandu   \n",
       "2             UTIB0000194  RohitKumar       40000  55.0  SarikaReddy   \n",
       "3             ICIC0000573  SashiRekha       40000  55.0  SarikaReddy   \n",
       "4             IOBA0003597      Jagjit       17000  55.0  SarikaReddy   \n",
       "\n",
       "   cloan_disbursal_amount_y  cloan_service_charge_y  cloan_penalty_y  \\\n",
       "0                     30000                   31500            37080   \n",
       "1                     30000                   29700            55500   \n",
       "2                     80000                   79200            36920   \n",
       "3                     80000                   64800            27960   \n",
       "4                     24000                     960              120   \n",
       "\n",
       "   cloan_total_y  cloan_amount  cloan_exhausted_days_avg age_bins  \\\n",
       "0         102120         30000                     511.0  [36-40]   \n",
       "1         118740         30000                     510.0  [26-30]   \n",
       "2         205560         80000                     509.0  [31-35]   \n",
       "3         182200         80000                     397.0  [31-35]   \n",
       "4          27912         24000                     347.0  [41-45]   \n",
       "\n",
       "   salary_bins    loan_bins  \n",
       "0    [50k-55k]  [29.5k-30k]  \n",
       "1    [35k-40k]  [29.5k-30k]  \n",
       "2    [30k-35k]         55k+  \n",
       "3  [100k-200k]         55k+  \n",
       "4    [55k-60k]  [23.5k-24k]  "
      ]
     },
     "execution_count": 17,
     "metadata": {},
     "output_type": "execute_result"
    }
   ],
   "source": [
    "dl21=df3[df3['cloan_status_id']==21]\n",
    "print(dl21.shape)\n",
    "dl21.head()"
   ]
  },
  {
   "cell_type": "code",
   "execution_count": 18,
   "id": "a01e25b3",
   "metadata": {},
   "outputs": [],
   "source": [
    "for x,i in enumerate (df3['age']):\n",
    "    if i>=20 and i<=25:\n",
    "        #print(i)\n",
    "        df3.loc[x, ['age_bins']]='[20-25]'\n",
    "    elif i>25 and i<=30:\n",
    "        #print(i)\n",
    "        df3.loc[x, ['age_bins']]='[26-30]'\n",
    "    elif i>30 and i<=35:\n",
    "        #print(i)\n",
    "        df3.loc[x, ['age_bins']]='[31-35]'\n",
    "    elif i>35 and i<=40:\n",
    "        #print(i)\n",
    "        df3.loc[x, ['age_bins']]='[36-40]'\n",
    "    elif i>40 and i<=45:\n",
    "        #print(i)\n",
    "        df3.loc[x, ['age_bins']]='[41-45]'\n",
    "    elif i>45 and i<=50:\n",
    "        #print(i)\n",
    "        df3.loc[x, ['age_bins']]='[46-50]'\n",
    "    elif i>50:\n",
    "        #print(x)\n",
    "        df3.loc[x, ['age_bins']]='[>50]'\n",
    "        "
   ]
  },
  {
   "cell_type": "code",
   "execution_count": 19,
   "id": "b60ac71b",
   "metadata": {},
   "outputs": [],
   "source": [
    "for x,i in enumerate (df3['proinfo_monthly_sal']):\n",
    "    if i>=20000 and i<=25000:\n",
    "        #print(i)\n",
    "        df3.loc[x, ['salary_bins']]='[20k-25k]'\n",
    "    elif i>=25000 and i<=30000:\n",
    "        ##print(i)\n",
    "        df3.loc[x, ['salary_bins']]='[25k-30k]'\n",
    "    elif i>=30000 and i<=35000:\n",
    "        #print(i)\n",
    "        df3.loc[x, ['salary_bins']]='[30k-35k]'\n",
    "    elif i>=35000 and i<=40000:\n",
    "        #print(i)\n",
    "        df3.loc[x, ['salary_bins']]='[35k-40k]'\n",
    "    elif i>=40000 and i<=45000:\n",
    "        #print(i)\n",
    "        df3.loc[x, ['salary_bins']]='[40k-45k]'\n",
    "    elif i>=45000 and i<=50000:\n",
    "        #print(i)\n",
    "        df3.loc[x, ['salary_bins']]='[45k-50k]'\n",
    "    elif i>=50000 and i<=55000:\n",
    "        #print(i)\n",
    "        df3.loc[x, ['salary_bins']]='[50k-55k]'\n",
    "        \n",
    "    elif i>=55000 and i<=60000:\n",
    "        #print(i)\n",
    "        df3.loc[x, ['salary_bins']]='[55k-60k]'\n",
    "    elif i>=60000 and i<=65000:\n",
    "        #print(i)\n",
    "        df3.loc[x, ['salary_bins']]='[60k-65k]'\n",
    "    elif i>=65000 and i<=70000:\n",
    "        #print(i)\n",
    "        df3.loc[x, ['salary_bins']]='[65k-70k]'\n",
    "    elif i>=70000 and i<=75000:\n",
    "        #print(i)\n",
    "        df3.loc[x, ['salary_bins']]='[70k-75k]'\n",
    "    elif i>=75000 and i<=80000:\n",
    "        #print(i)\n",
    "        df3.loc[x, ['salary_bins']]='[75k-80k]'\n",
    "        \n",
    "    elif i>=80000 and i<=85000:\n",
    "        #print(i)\n",
    "        df3.loc[x, ['salary_bins']]='[80k-85k]'\n",
    "        \n",
    "    elif i>=85000 and i<=90000:\n",
    "        #print(i)\n",
    "        df3.loc[x, ['salary_bins']]='[85k-90k]'\n",
    "    elif i>=90000 and i<=95000:\n",
    "        #print(i)\n",
    "        df3.loc[x, ['salary_bins']]='[90k-95k]'\n",
    "        \n",
    "    elif i>=95000 and i<=100000:\n",
    "        #print(i)\n",
    "        df3.loc[x, ['salary_bins']]='[95k-100k]'\n",
    "    elif i>=100000 and i<=200000:\n",
    "        #print(i)\n",
    "        df3.loc[x, ['salary_bins']]='[100k-200k]'\n",
    "        \n",
    "    elif i>=200000 and i<=300000:\n",
    "        #print(i)\n",
    "        df3.loc[x, ['salary_bins']]='[200k-300k]'\n",
    "    elif i>=300000 and i<=400000:\n",
    "        #print(i)\n",
    "        df3.loc[x, ['salary_bins']]='[300k-400k]'\n",
    "    elif i>=400000 and i<=500000:\n",
    "        #print(i)\n",
    "        df3.loc[x, ['salary_bins']]='[400k-500k]'\n",
    "    elif i>500000:\n",
    "        #print(i)\n",
    "        df3.loc[x, ['salary_bins']]='[500k+]'\n",
    "        "
   ]
  },
  {
   "cell_type": "code",
   "execution_count": 20,
   "id": "f94e6739",
   "metadata": {},
   "outputs": [],
   "source": [
    "for x,i in enumerate (df3['cloan_disbursal_amount_x']):\n",
    "    if i>=2000 and i<=10000:\n",
    "        df3.loc[x, ['loan_bins']]='[2k-10k]'\n",
    "\n",
    "    elif i>=10500 and i<=11000:\n",
    "        df3.loc[x, ['loan_bins']]='[10.5k-11k]'\n",
    "        \n",
    "    elif i>=11000 and i<=11500:\n",
    "        df3.loc[x, ['loan_bins']]='[11k-11.5k]'\n",
    "        \n",
    "        \n",
    "    elif i>=11500 and i<=12000:\n",
    "        df3.loc[x, ['loan_bins']]='[11.5k-12k]'\n",
    "\n",
    "        \n",
    "    elif i>=12000 and i<=12500:\n",
    "        df3.loc[x, ['loan_bins']]='[12k-12.5k]'\n",
    "        \n",
    "    elif i>=12500  and i<=13000:\n",
    "        df3.loc[x, ['loan_bins']]='[12.5k-13k]'\n",
    "        \n",
    "        \n",
    "    elif i>=13000 and i<=13500:\n",
    "        df3.loc[x, ['loan_bins']]='[13k-13.5k]'\n",
    "        \n",
    "        \n",
    "    elif i>=13500 and i<=14000:\n",
    "        df3.loc[x, ['loan_bins']]='[13.5k-14k]'\n",
    "\n",
    "        \n",
    "    elif i>=14000 and i<=14500:\n",
    "        df3.loc[x, ['loan_bins']]='[14k-14.5k]'\n",
    "        \n",
    "        \n",
    "    elif i>=14500 and i<=15000:\n",
    "        df3.loc[x, ['loan_bins']]='[14.5k-15k]'\n",
    "\n",
    "        \n",
    "    elif i>=15000 and i<=15500:\n",
    "        d.loc[x, ['loan_bins']]='[15k-15.5k]'\n",
    "        \n",
    "    elif i>=15500 and i<=16000:\n",
    "        df3.loc[x, ['loan_bins']]='[15.5k-16k]'\n",
    "        \n",
    "        \n",
    "    elif i>=16000 and i<=16500:\n",
    "        df3.loc[x, ['loan_bins']]='[16k-16.5k]'\n",
    "        \n",
    "        \n",
    "    elif i>=16500 and i<=17000:\n",
    "        df3.loc[x, ['loan_bins']]='[16.5k-17k]'\n",
    "        \n",
    "\n",
    "        \n",
    "    elif i>=17000 and i<=17500:\n",
    "        df3.loc[x, ['loan_bins']]='[17k-17.5k]'\n",
    "        \n",
    "        \n",
    "    elif i>=17500 and i<=18000:\n",
    "        df3.loc[x, ['loan_bins']]='[17.5k-18k]'\n",
    "\n",
    "        \n",
    "    elif i>=18000 and i<=18500:\n",
    "        df3.loc[x, ['loan_bins']]='[18k-18.5k]'\n",
    "        \n",
    "    elif i>=18500 and i<=19000:\n",
    "        df3.loc[x, ['loan_bins']]='[18.5k-19k]'\n",
    "        \n",
    "        \n",
    "    elif i>=19000 and i<=19500:\n",
    "        df3.loc[x, ['loan_bins']]='[19k-19.5k]'\n",
    "        \n",
    "        \n",
    "    elif i>=19500 and i<=20000:\n",
    "        df3.loc[x, ['loan_bins']]='[19.5k-20k]'\n",
    "        \n",
    "        \n",
    "    elif i>=20000 and i<=20500:\n",
    "        df3.loc[x, ['loan_bins']]='[20k-20.5k]'\n",
    "        \n",
    "        \n",
    "    elif i>=20500 and i<=21000:\n",
    "        df3.loc[x, ['loan_bins']]='[20.5k-21k]'\n",
    "\n",
    "        \n",
    "    elif i>=21000 and i<=21500:\n",
    "        df3.loc[x, ['loan_bins']]='[21k-21.5k]'\n",
    "        \n",
    "    elif i>=21500 and i<=22000:\n",
    "        df3.loc[x, ['loan_bins']]='[21.5k-22k]'\n",
    "        \n",
    "        \n",
    "    elif i>=22000 and i<=22500:\n",
    "        df3.loc[x, ['loan_bins']]='[22k-22.5k]'\n",
    "        \n",
    "        \n",
    "    elif i>=22500 and i<=23000:\n",
    "        df3.loc[x, ['loan_bins']]='[22.5k-23k]'\n",
    "        \n",
    "        \n",
    "        \n",
    "        \n",
    "    elif i>=23000 and i<=23500:\n",
    "        df3.loc[x, ['loan_bins']]='[23k-23.5k]'\n",
    "        \n",
    "        \n",
    "    elif i>=23500 and i<=24000:\n",
    "        df3.loc[x, ['loan_bins']]='[23.5k-24k]'\n",
    "\n",
    "        \n",
    "    elif i>=24000 and i<=24500:\n",
    "        df3.loc[x, ['loan_bins']]='[24k-24.5k]'\n",
    "        \n",
    "    elif i>=24500 and i<=25000:\n",
    "        df3.loc[x, ['loan_bins']]='[24.5k-25k]'\n",
    "        \n",
    "        \n",
    "    elif i>=25000 and i<=25500:\n",
    "        df3.loc[x, ['loan_bins']]='[25k-25.5k]'\n",
    "        \n",
    "        \n",
    "    elif i>=25500 and i<=26000:\n",
    "        df3.loc[x, ['loan_bins']]='[25.5k-26k]'\n",
    "        \n",
    "        \n",
    "        \n",
    "    elif i>=26000 and i<=26500:\n",
    "        df3.loc[x, ['loan_bins']]='[26k-26.5k]'\n",
    "        \n",
    "        \n",
    "    elif i>=26500 and i<=27000:\n",
    "        df3.loc[x, ['loan_bins']]='[26.5k-27k]'\n",
    "\n",
    "        \n",
    "    elif i>=27000 and i<=28000:\n",
    "        df3.loc[x, ['loan_bins']]='[27k-28k]'\n",
    "        \n",
    "    elif i>=28000 and i<=28500:\n",
    "        df3.loc[x, ['loan_bins']]='[28k-28.5k]'\n",
    "        \n",
    "        \n",
    "    elif i>=28500 and i<=29000:\n",
    "        df3.loc[x, ['loan_bins']]='[28.5k-29k]'\n",
    "        \n",
    "        \n",
    "    elif i>=29000 and i<=29500:\n",
    "        df3.loc[x, ['loan_bins']]='[29k-29.5k]'\n",
    "        \n",
    "        \n",
    "    elif i>=29500 and i<=30000:\n",
    "        df3.loc[x, ['loan_bins']]='[29.5k-30k]'\n",
    "        \n",
    "        \n",
    "    elif i>=30000 and i<=30500:\n",
    "        df3.loc[x, ['loan_bins']]='[30k-30.5k]'\n",
    "\n",
    "        \n",
    "    elif i>=30500 and i<=31000:\n",
    "        df3.loc[x, ['loan_bins']]='[30.5k-31k]'\n",
    "        \n",
    "    elif i>=31000 and i<=31500:\n",
    "        df3.loc[x, ['loan_bins']]='[31k-31.5k]'\n",
    "        \n",
    "        \n",
    "    elif i>=31500 and i<=32000:\n",
    "        df3.loc[x, ['loan_bins']]='[31.5k-32k]'\n",
    "        \n",
    "        \n",
    "    elif i>=32000 and i<=32500:\n",
    "        df3.loc[x, ['loan_bins']]='[32k-32.5k]'\n",
    "        \n",
    "        \n",
    "        \n",
    "    elif i>=32500 and i<=33000:\n",
    "        df3.loc[x, ['loan_bins']]='[32.5k-33k]'\n",
    "        \n",
    "        \n",
    "    elif i>=33000 and i<=33500:\n",
    "        df3.loc[x, ['loan_bins']]='[33k-33.5k]'\n",
    "\n",
    "        \n",
    "    elif i>=33500 and i<=34000:\n",
    "        df3.loc[x, ['loan_bins']]='[33.5k-34k]'\n",
    "        \n",
    "    elif i>=34000 and i<=34500:\n",
    "        df3.loc[x, ['loan_bins']]='[34k-34.5k]'\n",
    "        \n",
    "        \n",
    "    elif i>=34500 and i<=35000:\n",
    "        df3.loc[x, ['loan_bins']]='[34.5k-35k]'\n",
    "        \n",
    "        \n",
    "    elif i>=35000 and i<=35500:\n",
    "        df3.loc[x, ['loan_bins']]='[35k-35.5k]'\n",
    "        \n",
    "        \n",
    "    elif i>=35500 and i<=36000:\n",
    "        df3.loc[x, ['loan_bins']]='[35.5k-36k]'\n",
    "        \n",
    "        \n",
    "    elif i>=36000 and i<=36500:\n",
    "        df3.loc[x, ['loan_bins']]='[36k-36.5k]'\n",
    "\n",
    "        \n",
    "    elif i>=36500 and i<=37000:\n",
    "        df3.loc[x, ['loan_bins']]='[36.5k-37k]'\n",
    "        \n",
    "    elif i>=37000 and i<=37500:\n",
    "        df3.loc[x, ['loan_bins']]='[37k-37.5k]'\n",
    "        \n",
    "        \n",
    "    elif i>=37500 and i<=38000:\n",
    "        df3.loc[x, ['loan_bins']]='[37.5k-38k]'\n",
    "        \n",
    "        \n",
    "    elif i>=38000 and i<=38500:\n",
    "        df3.loc[x, ['loan_bins']]='[38k-38.5k]' \n",
    "        \n",
    "                \n",
    "    elif i>=38500 and i<=39000:\n",
    "        df3.loc[x, ['loan_bins']]='[38.5k-39k]'\n",
    "\n",
    "        \n",
    "    elif i>=39000 and i<=39500:\n",
    "        df3.loc[x, ['loan_bins']]='[39k-39.5k]'\n",
    "        \n",
    "    elif i>=39500 and i<=40000:\n",
    "        df3.loc[x, ['loan_bins']]='[39.5k-40k]'\n",
    "        \n",
    "        \n",
    "    elif i>=40000 and i<=40500:\n",
    "        df3.loc[x, ['loan_bins']]='[40k-40.5k]'\n",
    "        \n",
    "        \n",
    "    elif i>=40500 and i<=41000:\n",
    "        df3.loc[x, ['loan_bins']]='[40.5k-41k]'\n",
    "        \n",
    "        \n",
    "    elif i>=41000 and i<=41500:\n",
    "        df3.loc[x, ['loan_bins']]='[41k-41.5k]'\n",
    "        \n",
    "        \n",
    "    elif i>=41500 and i<=42000:\n",
    "        df3.loc[x, ['loan_bins']]='[41.5k-42k]'\n",
    "\n",
    "        \n",
    "    elif i>=42000 and i<=42500:\n",
    "        df3.loc[x, ['loan_bins']]='[42k-42.5k]'\n",
    "        \n",
    "    elif i>=42500 and i<=43000:\n",
    "        df3.loc[x, ['loan_bins']]='[42.5k-43k]'\n",
    "        \n",
    "        \n",
    "    elif i>=43000 and i<=43500:\n",
    "        df3.loc[x, ['loan_bins']]='[43k-43.5k]'\n",
    "        \n",
    "        \n",
    "    elif i>=43500 and i<=44000:\n",
    "        df3.loc[x, ['loan_bins']]='[43.5k-44k]'\n",
    "    elif i>44000 and i<45000 :\n",
    "        df3.loc[x,['loan_bins']]='44k-45k'\n",
    "    elif i>45000 and i<46000 :\n",
    "        df3.loc[x,['loan_bins']]='45k-46k'\n",
    "    elif i>46000 and i<47000 :\n",
    "        df3.loc[x,['loan_bins']]='46k-47k'\n",
    "    elif i>47000 and i<48000 :\n",
    "        df3.loc[x,['loan_bins']]='47k-48k'\n",
    "    elif i>48000 and i<49000 :\n",
    "        df3.loc[x,['loan_bins']]='48k-49k'\n",
    "    elif i>49000 and i<50000 :\n",
    "        df3.loc[x,['loan_bins']]='49k-50k'\n",
    "    elif i>50000 and i<55000 :\n",
    "        df3.loc[x,['loan_bins']]='50k-55k'\n",
    "    elif i>55000 :\n",
    "        df3.loc[x,['loan_bins']]='55k+'"
   ]
  },
  {
   "cell_type": "code",
   "execution_count": 21,
   "id": "1f382a4d",
   "metadata": {
    "scrolled": true
   },
   "outputs": [
    {
     "data": {
      "text/plain": [
       "[2k-10k]       47.275775\n",
       "[11.5k-12k]     5.909472\n",
       "[15.5k-16k]     3.855826\n",
       "[10.5k-11k]     3.688181\n",
       "[13.5k-14k]     3.478625\n",
       "[12.5k-13k]     3.310981\n",
       "[14.5k-15k]     3.269070\n",
       "[17.5k-18k]     2.472758\n",
       "[18.5k-19k]     2.430847\n",
       "[16.5k-17k]     2.137469\n",
       "[19.5k-20k]     1.969824\n",
       "[13k-13.5k]     1.508801\n",
       "[23.5k-24k]     1.257334\n",
       "[22.5k-23k]     1.173512\n",
       "[21.5k-22k]     1.131601\n",
       "[20.5k-21k]     1.131601\n",
       "[12k-12.5k]     0.963956\n",
       "[11k-11.5k]     0.880134\n",
       "[14k-14.5k]     0.796312\n",
       "[26.5k-27k]     0.754401\n",
       "[39.5k-40k]     0.670578\n",
       "[27k-28k]       0.670578\n",
       "[29.5k-30k]     0.628667\n",
       "[20k-20.5k]     0.586756\n",
       "[30.5k-31k]     0.586756\n",
       "[25.5k-26k]     0.544845\n",
       "[31.5k-32k]     0.502934\n",
       "[22k-22.5k]     0.461023\n",
       "55k+            0.419111\n",
       "[19k-19.5k]     0.419111\n",
       "[21k-21.5k]     0.419111\n",
       "[24.5k-25k]     0.377200\n",
       "[25k-25.5k]     0.335289\n",
       "[38.5k-39k]     0.335289\n",
       "[32.5k-33k]     0.335289\n",
       "[28k-28.5k]     0.251467\n",
       "[43.5k-44k]     0.209556\n",
       "[34.5k-35k]     0.209556\n",
       "[35k-35.5k]     0.209556\n",
       "50k-55k         0.167645\n",
       "[26k-26.5k]     0.167645\n",
       "[28.5k-29k]     0.167645\n",
       "[23k-23.5k]     0.125733\n",
       "[29k-29.5k]     0.125733\n",
       "[18k-18.5k]     0.125733\n",
       "[36.5k-37k]     0.125733\n",
       "[33k-33.5k]     0.125733\n",
       "[17k-17.5k]     0.125733\n",
       "[32k-32.5k]     0.125733\n",
       "[40.5k-41k]     0.083822\n",
       "44k-45k         0.083822\n",
       "49k-50k         0.083822\n",
       "[24k-24.5k]     0.083822\n",
       "[35.5k-36k]     0.083822\n",
       "46k-47k         0.083822\n",
       "45k-46k         0.083822\n",
       "[33.5k-34k]     0.083822\n",
       "[42.5k-43k]     0.041911\n",
       "[30k-30.5k]     0.041911\n",
       "48k-49k         0.041911\n",
       "[16k-16.5k]     0.041911\n",
       "[36k-36.5k]     0.041911\n",
       "[37.5k-38k]     0.041911\n",
       "[37k-37.5k]     0.041911\n",
       "[39k-39.5k]     0.041911\n",
       "[43k-43.5k]     0.041911\n",
       "Name: loan_bins, dtype: float64"
      ]
     },
     "execution_count": 21,
     "metadata": {},
     "output_type": "execute_result"
    }
   ],
   "source": [
    "df3.loan_bins.value_counts(normalize=True)*100"
   ]
  },
  {
   "cell_type": "code",
   "execution_count": null,
   "id": "153355a8",
   "metadata": {},
   "outputs": [],
   "source": []
  },
  {
   "cell_type": "code",
   "execution_count": 22,
   "id": "54b1c291",
   "metadata": {},
   "outputs": [
    {
     "data": {
      "text/plain": [
       "[31-35]    35.875943\n",
       "[26-30]    26.613579\n",
       "[36-40]    21.626153\n",
       "[41-45]     7.795474\n",
       "[20-25]     4.694049\n",
       "[46-50]     2.472758\n",
       "[>50]       0.922045\n",
       "Name: age_bins, dtype: float64"
      ]
     },
     "execution_count": 22,
     "metadata": {},
     "output_type": "execute_result"
    }
   ],
   "source": [
    "df3.age_bins.value_counts(normalize=True)*100"
   ]
  },
  {
   "cell_type": "code",
   "execution_count": 23,
   "id": "db9d73b6",
   "metadata": {
    "scrolled": false
   },
   "outputs": [
    {
     "data": {
      "text/plain": [
       "[30k-35k]      15.884325\n",
       "[35k-40k]      15.465214\n",
       "[40k-45k]      12.154233\n",
       "[45k-50k]      10.603521\n",
       "[50k-55k]       7.795474\n",
       "[60k-65k]       5.993294\n",
       "[55k-60k]       5.658005\n",
       "[100k-200k]     5.574183\n",
       "[65k-70k]       4.694049\n",
       "[25k-30k]       4.149204\n",
       "[70k-75k]       3.185247\n",
       "[75k-80k]       2.724225\n",
       "[80k-85k]       2.053646\n",
       "[85k-90k]       1.383068\n",
       "[90k-95k]       1.299246\n",
       "[95k-100k]      0.963956\n",
       "[200k-300k]     0.335289\n",
       "[500k+]         0.041911\n",
       "[20k-25k]       0.041911\n",
       "Name: salary_bins, dtype: float64"
      ]
     },
     "execution_count": 23,
     "metadata": {},
     "output_type": "execute_result"
    }
   ],
   "source": [
    "df3.salary_bins.value_counts(normalize=True)*100"
   ]
  },
  {
   "cell_type": "code",
   "execution_count": 24,
   "id": "930ce72b",
   "metadata": {},
   "outputs": [],
   "source": [
    "it =['it', 'it administration', 'it analyst', 'it application support', 'it delivery', 'it department', 'it developement', 'it developer', 'it digital marketing', 'it industry', 'it infra', 'it security engineer', 'it services', 'it software', 'it solutions', 'it staff', 'it support', 'it technical support', 'it testing', 'it/ites', 'ites', 'ites/bpo', 'itis', 'ito- sd', 'its']\n",
    "\n",
    "operations =[ 'operarations', 'operation', 'operation department', 'operational', 'operations', 'operations & supply chain management', 'operations- sales', 'operations/crm', 'opertion']\n",
    "\n",
    "\n",
    "finance =['finanace', 'finance', 'finance & accounts', 'finance and accounting', 'finance and accounts', 'finance department', 'financial', 'financial accounting', 'financial research', 'financial services', 'fintech']\n",
    "\n",
    "\n",
    "information=['information  technology', 'information security', 'information technologiees', 'information technologuly', 'information technology', 'information technology ops']\n",
    "\n",
    "\n",
    "\n",
    "hr =['hr', 'hr & admin', 'hr & admin,it', 'hr and admin', 'hr operation','human resource', 'human resource management', 'human resources', 'human rsource','management','project management','project','projects']\n",
    "\n",
    "\n",
    "\n",
    "business =['business', 'business analysis- delh', 'business analyst', 'business analytics', 'business development', 'business development associate', 'business development manager', 'business devlopment', 'business excellence', 'business intelligence', 'business operations']\n",
    "\n",
    "\n",
    "\n",
    "\n",
    "accounts =['account', 'account manager', 'account receivable', 'account s', 'accountant', 'accounting', 'accounting operations', 'accounts', 'accounts & finance', 'accounts and finance', 'accounts payable', 'accounts receivable', 'accounts recievable', 'accouts', 'accts payable - var']\n",
    "\n",
    "\n",
    "\n",
    "\n",
    "\n",
    "insurance =['insurance', 'insurance industry', 'insurance operation']\n",
    "\n",
    "\n",
    "retail = ['retail', 'retail sales', 'retail support', 'retail unit']\n",
    "\n",
    "\n",
    "customer_service =['customer care', 'customer centricity', 'customer experience', 'customer experience team', 'customer operations', 'customer relations', 'customer representative', 'customer resolution services', 'customer service', 'customer service executive', 'customer success', 'customer support', 'customer support representative']\n",
    "\n",
    "\n",
    "training =[ 'training', 'training & quality', 'training and development', 'training and quality', 'traning', 'traning and development']\n",
    "\n",
    "\n",
    "\n",
    "Technical =['tech', 'techdesk', 'techinal', 'technic support', 'technical', 'technical analyst', 'technical publications', 'technical service', 'technical services', 'technical support', 'technology', 'technology solutions engineering']\n",
    "\n",
    "\n",
    "manufacturing = ['manufacturer', 'manufacturing']\n",
    "\n",
    "\n",
    "Sales =['direct sales','banca sales','banca','s&m','inside sales', 'safety', \"sale's\", 'sales', 'sales & distribution', 'sales & marketing', 'sales & operations', 'sales and application', 'sales and bd', 'sales and marketing', 'sales and support', 'sales commercial', 'sales department', 'sales executive', 'sales manager', 'sales marketing', 'sales recruitment', 'sales- multiple sclerosis', 'sales-axis', 'sales-life', 'sales-presales']\n",
    "\n",
    "marketing =['markefing', 'marketing', 'marketing and operations', 'marketing and sales', 'marketing department', 'marketing job', 'marketing research & development','digital marketing']\n",
    "\n",
    "software =['data management','software', 'research and development','software company', 'software department', 'software developer', 'software development', 'software engineer', 'software engineering', 'software industry', 'software testing','senior executive', 'senior software engineer','design', 'designing', 'developer', 'development', 'devops']\n",
    "\n",
    "health =['pharma','nursing','health', 'health care', 'health care provider', 'healthcare', 'helathcare','medical', 'medical and editorial', 'medical and health', 'medical and health department', 'medical billing', 'medical coding', 'medical representative', 'medicine','pharmaceutical','credentialing']\n",
    "\n",
    "Engineering =['engg. service dept', 'engineer', 'engineer iii', 'engineeribg', 'engineering', 'engineering services', 'engineering-broadcasting','civil engineering','department of science and technology','mechanical','civil','electrical', 'electrical maintenance']\n",
    "\n",
    "wfm =['wfm','facilities']\n",
    "\n",
    "\n",
    "bpo = ['bpo', 'bpo claims', 'bpo services','tele marketing', 'telecom', 'telecommunication', 'telecommunications','claims','call center','seller support','crm']\n",
    "\n",
    "qc =['analyst','quality', 'quality analyst', 'quality assurance', 'quality control', 'quality dept.', 'quality management', 'quality network', 'quality-assurance','qa','bancassurance']\n",
    "\n",
    "\n",
    "agency=['agency','agency sales']\n",
    "\n",
    "\n",
    "production =['producation', 'product', 'product and platform engineering', 'product development', 'product distribution', 'product management team', 'production', 'production and sales', 'production planning and control', 'products', 'products & services','fmcg']\n",
    "\n",
    "services =['service','us staffing', 'service delivery department', 'service delivery operations', 'service operation', 'servicenow', 'services','shared services','support','care _vois']\n",
    "\n",
    "Talent =['talent acquisition','acquisition']\n",
    "\n",
    "\n",
    "administration =['admin', 'administration','assistant manager','manager','project manager']\n",
    "\n",
    "\n",
    "it =['it', 'it administration', 'it analyst', 'it application support', 'it delivery', 'it department', 'it developement', 'it developer', 'it digital marketing', 'it industry', 'it infra', 'it security engineer', 'it services', 'it software', 'it solutions', 'it staff', 'it support', 'it technical support', 'it testing', 'it/ites', 'ites', 'ites/bpo', 'itis', 'ito- sd', 'its','google ads','google','r&d','r and d']\n",
    "\n"
   ]
  },
  {
   "cell_type": "code",
   "execution_count": 25,
   "id": "8bbf7c6a",
   "metadata": {},
   "outputs": [],
   "source": [
    "for x ,i  in enumerate(df3['DEPARTMENT']):\n",
    "    if i in Sales:\n",
    "        df3.loc[x, ['department']]='Sales'\n",
    "\n",
    "    elif i in it:\n",
    "        df3.loc[x, ['department']]='IT'\n",
    "        \n",
    "        \n",
    "    elif i in operations:\n",
    "        df3.loc[x, ['department']]='Operations'\n",
    "        \n",
    "        \n",
    "    elif i in finance:\n",
    "        df3.loc[x, ['department']]='Finance'\n",
    "        \n",
    "        \n",
    "    elif i in hr:\n",
    "        df3.loc[x, ['department']]='Human Resources'\n",
    "        \n",
    "        \n",
    "    elif i in health:\n",
    "        df3.loc[x, ['department']]='Health Dept'\n",
    "        \n",
    "        \n",
    "    elif i in manufacturing:\n",
    "        df3.loc[x, ['department']]='manufaturing'\n",
    "        \n",
    "  \n",
    "    elif i in marketing:\n",
    "        df3.loc[x, ['department']]='Marketing'\n",
    "        \n",
    "        \n",
    "    elif i in Technical :\n",
    "        df3.loc[x, ['department']]='Technical'\n",
    "        \n",
    "        \n",
    "    elif i in administration:\n",
    "        df3.loc[x, ['department']]='Administration'\n",
    "     \n",
    "        \n",
    "    elif i in bpo:\n",
    "        df3.loc[x, ['department']]='Bpo'\n",
    "        \n",
    "        \n",
    "    elif i in training:\n",
    "        df3.loc[x, ['department']]='Training'\n",
    "        \n",
    "        \n",
    "    elif i in customer_service:\n",
    "        df3.loc[x, ['department']]='customer service'\n",
    "        \n",
    "        \n",
    "    elif i in retail:\n",
    "        df3.loc[x, ['department']]='Retail'\n",
    "        \n",
    "        \n",
    "    elif i in insurance:\n",
    "        df3.loc[x, ['department']]='Insurance'\n",
    "        \n",
    "  \n",
    "    elif i in qc:\n",
    "        df3.loc[x, ['department']]='Quality Control'\n",
    "        \n",
    "        \n",
    "    elif i in accounts:\n",
    "        df3.loc[x, ['department']]='Accounts'\n",
    "        \n",
    "        \n",
    "    elif i in Engineering:\n",
    "        df3.loc[x, ['department']]='Engineering'\n",
    "     \n",
    "        \n",
    "    elif i in business:\n",
    "        df3.loc[x, ['department']]='Business'\n",
    "        \n",
    "        \n",
    "    elif i in production:\n",
    "        df3.loc[x, ['department']]='Production'\n",
    "        \n",
    "        \n",
    "    elif i in marketing:\n",
    "        df3.loc[x, ['department']]='Marketing'\n",
    "        \n",
    "        \n",
    "        \n",
    "    elif i in services:\n",
    "        df3.loc[x, ['department']]='Services'\n",
    "        \n",
    "        \n",
    "    elif i in information:\n",
    "        df3.loc[x, ['department']]='Information'\n",
    "        \n",
    "    elif i in software:\n",
    "        df3.loc[x, ['department']]='Software'\n",
    "        #df3.loc[x,['loan_bins']]\n",
    "    elif i in wfm:\n",
    "        df3.loc[x, ['department']]='Work Force Management'\n",
    "        \n",
    "        \n",
    "    elif i in agency:\n",
    "        df3.loc[x, ['department']]='Agency'\n",
    "        \n",
    "    elif i in Talent:\n",
    "        df3.loc[x, ['department']]='Talent Acquisition'\n",
    "        \n",
    "    else:\n",
    "\n",
    "        df3.loc[x, ['department']]='Others'\n",
    "        "
   ]
  },
  {
   "cell_type": "code",
   "execution_count": 26,
   "id": "3a7db18d",
   "metadata": {
    "scrolled": true
   },
   "outputs": [
    {
     "data": {
      "text/plain": [
       "Others                   924\n",
       "Sales                    271\n",
       "IT                       271\n",
       "Operations               109\n",
       "Software                 100\n",
       "Finance                   77\n",
       "Human Resources           71\n",
       "Marketing                 59\n",
       "Health Dept               54\n",
       "Production                52\n",
       "Information               44\n",
       "customer service          38\n",
       "Engineering               37\n",
       "Accounts                  34\n",
       "Business                  33\n",
       "Quality Control           32\n",
       "Bpo                       31\n",
       "Administration            29\n",
       "Services                  25\n",
       "Technical                 22\n",
       "Insurance                 16\n",
       "Retail                    16\n",
       "Training                  15\n",
       "Agency                     9\n",
       "Work Force Management      6\n",
       "manufaturing               6\n",
       "Talent Acquisition         5\n",
       "Name: department, dtype: int64"
      ]
     },
     "execution_count": 26,
     "metadata": {},
     "output_type": "execute_result"
    }
   ],
   "source": [
    "df3.department.value_counts()"
   ]
  },
  {
   "cell_type": "code",
   "execution_count": 27,
   "id": "b46fdaf0",
   "metadata": {},
   "outputs": [],
   "source": [
    "df3[\"DESIGNATION\"]  = df3[\"DESIGNATION\"].str.strip()"
   ]
  },
  {
   "cell_type": "code",
   "execution_count": 28,
   "id": "a5bee0df",
   "metadata": {},
   "outputs": [],
   "source": [
    "manager = ['account manager', 'account manager ii _ f&b', 'accounts manager', 'ad ops manager', 'admin manager', 'aera sales manager', 'agency manager', 'area business manager', 'area manager', 'area nutrition manager', 'area sale manager', 'area sales manager', 'asset management bicep', 'assist manager', 'assistance manager', 'assistant billling manager', 'assistant general manager', 'assistant manager', 'assistant manager - ops', 'assistant manager design', 'assistant manager finance', 'assistant manager hr', 'assistant manager-broadcast technology', 'assistant manager-facilities and services', 'assistant manager-logistics', 'assistant operations manager', 'assistant sales manager', 'assistant store manager', 'assistant transport manager', 'associate content manager', 'associate manager', 'associate project manager',  'asst branch manager', 'asst manager', 'asst manager - technical sales & service', 'asst manager ie', 'asst manager, operations', 'asst manager, wfm', 'asst sales manager', 'asst. accounts manager', 'asst. manager', 'asst. manager business analyst', 'asst.managar', 'asst.manager', 'asst.training manager', 'bancassurance manager', 'block manager', 'branch manager', 'branch sales manager', 'buisness development manager', 'business development manager', 'center manager', 'chief manager', 'city manager assistant', 'client success manager', 'cluster manager', 'corporate affairs manager', 'customer care manager', 'customer success manager', 'delivery manager', 'department manager', 'department manager- homeware', 'dept. manager', 'deputy cluster manager - liability sales', 'deputy general manager', 'deputy manager', 'deputy manager sales', 'deputy manager, operations', 'digital marketing manager', 'dupty manager', 'dy manager', 'energy manager', 'engineering manager', 'escalation manager', 'executive relationship manager', 'facilities manager', 'floor manager', 'general manager', 'general manager - hr and admin', 'group manager', 'group relationship manager', 'health care manager', 'hr data management - process lead', 'hr manager', 'human resources - manager', 'incident manager', 'inside sales manager', 'it manager', 'it service management', 'junior manager', 'junior managers', 'key account manager', 'key accounts manager', 'manage', 'management trainee', 'manager', 'manager - business development', 'manager - crm', 'manager - hr', 'manager - marketing', 'manager - products & services', 'manager - supply', 'manager administration', 'manager business development', 'manager digital -presales', 'manager dy', 'manager electrical', 'manager hr', 'manager hro', 'manager marketing', 'manager sales', 'manager-ar', 'manager-client servicing', 'manager-data analyst', 'manager-recovery', 'manager_inside sales', 'marketing manager', 'medical officer-sr.manager', 'national sales manager', 'operation manager', 'operations analysis manager', 'operations manager', 'passenger manager', 'pre sale manager', 'procurement manager', 'producation manager', 'product manager', 'production manager', 'program manager', 'project management manager', 'project management team lead', 'project manager', 'quality manager', 'recruitment and development manager', 'regional manager', 'regional sales manager', 'relationship manager', 'reletionship manager', 'resignal sale manager', 'resource manager', 'retail store manager', 'safety manager', 'sales ad manager', 'sales manager', 'senior analyst resource management', 'senior branch manager', 'senior business development manager', 'senior corporate agency manager', 'senior manager', 'senior manager - business development', 'senior manager business development', 'senior product manager', 'senior program manager', 'senior project manager', 'senior sales manager', 'senior wealth manager', 'service manager', 'sourcing manager', 'sr account manager', 'sr admin manager', 'sr business development manager', 'sr fleet manager', 'sr manager', 'sr manager operations', 'sr. account manager', 'sr. manager', 'sr.business development manager', 'sr.manager', 'sr.manager finance', 'sr.manager operations', 'studio manager', 'team manager', 'technical manager', 'technical support manager', 'teritory manager', 'territory business manager', 'territory manager', 'territory manager - rural sales', 'territory sales manager', 'training manager', 'unit sales manager', 'works manager', 'zonal manager']\n",
    "\n",
    "exe =['account executive', 'accounts executive', 'admin executive', 'associate executive', 'audit executive', 'business development exective', 'business development executive', 'business executive', 'case processing executive', 'client service executive', 'client services executive', 'coordinator executive', 'credit executive', 'customer care executive', 'customer service executive', 'customer support executive', 'execuitive', 'executie', 'executive', 'executive - customer service', 'executive - production', 'executive - wms', 'executive assistant', 'executive f&a', 'executive internal audit',  'executive sales', 'facility executive', 'finance executive', 'head (executions &  operations )', 'hr exec', 'hr executive', 'inside sales executive', 'it executive', 'marketing executive', 'mis executive', 'process executive', 'procurement executive', 'production executive', 'project executive', 'sales development executive - us', 'sales executive', 'senior accounts executive', 'senior ar executive', 'senior business support executive', 'senior customer executive', 'senior executive', 'senior executive - global finance center', 'senior executive ar', 'senior executive ar caller', 'senior executive customer service', 'senior executive operations', 'senior executive, business development', 'senior executive-admin & facilities', 'senior executives', 'senior hr executive', 'senior operation executive', 'senior process executive', 'senior process executive-data', 'senior process executive-voice', 'senior sales executive', 'senior telesales executive', 'senior transport executive', 'senior wellness executive', 'sernior executive', 'sr business development executive', 'sr executive', 'sr executive it applications', 'sr mis executive', 'sr purchase executive', 'sr sales executive', 'sr. accounts executive', 'sr. business devlopment executive', 'sr. executive', 'sr. executive - technology delivery - treasury', 'sr. executive it sales', 'sr. exer', 'sr.executive', 'technical executive', 'territory executive', 'territory sales executive']\n",
    "\n",
    "teamlead = ['area lead', 'associate team leader', 'associate tech lead', 'business process lead', 'electronics team lead', 'group leader', 'hr data management - process lead', 'isaac lead analyst', 'it lead', 'lead', 'lead administrator', 'lead analyst', 'lead associate - ops', 'lead associate -sales', 'lead business analyst', 'lead consultant', 'lead customer care ,avp', 'lead design engineer-piping', 'lead engineer', 'lead hr business partner', 'lead merchant services', 'lead payroll and operation', 'lead programmer', 'lead shift ops fc', 'lead software engineer - ii', 'lead solution architect', 'lead trainer', 'lead-payroll', 'lead-technical functional', 'leader', 'module lead', 'operations lead', 'process lead', 'project lead', 'project leader', 'project leader (content development)', 'project leader -qc', 'project management team lead', 'quality lead', 'queue lead', 'regional training lead', 'second lead', 'senior business process lead', 'senior lead', 'senior lead analyst', 'senior lead engineer', 'senior team lead', 'senior team leader', 'senior technical lead', 'senior test lead', 'sr lead', 'sr team lead', 'sr team leader', 'sr. lead', 'team lead', 'team lead – talent acquisition', 'team leade', 'team leader', 'team leader - procurement', 'team leader operations', 'team leader-client solutions', 'team leaders', 'tech lead', 'technical lead', 'test lead', 'training lead','associate team leader', 'electronics team lead', 'project management team lead', 'senior team lead', 'senior team leader', 'sr team lead', 'sr team leader', 'team coordinator', 'team developer', 'team lea', 'team lead', 'team lead – talent acquisition', 'team leade', 'team leader', 'team leader - procurement', 'team leader operations', 'team leader-client solutions', 'team leaders', 'team manager', 'team member']\n",
    "\n",
    "Engineer =['advanced embedded engineering', 'application engineer', 'assistant chief engineer', 'assistant engineer', 'associate engineer', 'associate software engineer', 'associate system engineer', 'biomedical engineer', 'civil engineer', 'data engineer', 'design engineer', 'dy engineer', 'engineer', 'engineer - product and platform engineering', 'engineer -inspection', 'engineer supervisor', 'engineer technical service', 'engineering manager', 'engineers', 'enterprise support engineer', 'hardware engineer', 'inspection engineer', 'it application engineer', 'it security engineer', 'it service desk engineer', 'it support engineer', 'jr engineer', 'junior engineer', 'junior engineer -production', 'knowledge engineer', 'lead design engineer-piping', 'lead engineer', 'lead software engineer - ii', 'maintenance engineer', 'network engineer', 'noc engineer', 'planning engineer', 'principle qa engineer', 'project engineer', 'qa engineer', 'quality control engineer', 'recording engineer', 'rms engineer', 'sales engineer', 'senior  software  engineer', 'senior  sound engineer', 'senior cloud engineer', 'senior data engineer', 'senior devops engineer', 'senior engineer', 'senior engineer technology', 'senior engineer(commercial)', 'senior lead engineer', 'senior network engineer', 'senior project engineer', 'senior qa engineer', 'senior site engineer', 'senior softwar engineer', 'senior software engineer', 'senior system engineer', 'senior systems engineer', 'senior test engineer', 'senior testing engineer', 'senir software engineer', 'server engineer', 'service engineer', 'site engineer', 'software engineer', 'software engineering', 'software support engineer', 'software system engineer', 'software test engineer', 'sr devops engineer', 'sr engineer', 'sr qa engineer', 'sr software engineer', 'sr test engineer', 'sr.  project engineer', 'sr. engineer', 'sr. software engineer', 'sr.engineer', 'sr.software engineer', 'staff engineer', 'streaming engineer', 'support engineer', 'system engineer', 'system engineering', 'technical operations engineer', 'technical support engineer', 'test engineer', 'trainee engineer']\n",
    "associate=['admin associate', 'associate', 'associate 3', 'associate business analyst', 'associate circle head', 'associate consultant', 'associate i systems administrator', 'associate l2','associate specialist',  'associate training quality and partner management', 'associate voice', 'business development associate', 'catalog associate', 'clinical data associate', 'credentialing associate', 'customer service associate', 'customer support senior associate', 'ewm associate', 'general accounting ops associate', 'just dial associates', 'lead associate - ops', 'lead associate -sales', 'operation associates', 'operations associate', 'order to cash associate', 'presales associates', 'process associate', 'product marketing associate', 'production associate', 'recruitment associate', 'retail associate', 'sales associate', 'senior ar associate', 'senior associate', 'senior associate - operations', 'senior associate finance', 'senior associate partner-agency management', 'senior associate, learner', 'senior implementation associate', 'senior process associate', 'senior sales associate', 'senior technical associate', 'service desk associate', 'sr  associate', 'sr associate', 'sr associates', 'sr business development associate', 'sr customer service associate', 'sr process associate', 'sr retail associated', 'sr. ar associate facilities', 'sr. associate', 'sr.associate-ops', 'talent associate', 'technical associate', 'transaction processing new associate']\n",
    "\n",
    "consultant =['academic consultant', 'assistant consultant', 'associate consultant', 'assurance consultant', 'ax technical consultant', 'cloud consultant', 'consultant', 'consultant - image editor', 'consultant 1', 'consultant doctor', 'lead consultant', 'principal consultant', 'product consultant', 'sales consultant', 'sap abap consultant', 'senior associate consultant', 'senior consultant', 'senior consultant finance', 'senior customer support consultant', 'senior etl consultant', 'senior sales consultant', 'senior technical consultant', 'seniour consultant', 'sr compliance consultant', 'sr consultant', 'sr process consultant', 'sr. consultant', 'sr. sales consultant', 'technical consultant']\n",
    "developer=['android developer', 'application developer', 'bi developer', 'business developer', 'campaign developer', 'developer', 'front end developer', 'ios developer', 'java developer', 'junior software developer', 'php developer', 'process developer', 'senior developer', 'senior infra developer', 'senior sofrware developer', 'senior software developer', 'software developer', 'sr. software developer', 'sr. web developer', 'tableau developer', 'team developer', 'ui developer', 'web developer']\n",
    "\n",
    "\n",
    "Analyst =['analyst', 'analyst programmer', 'analysts', 'analysy', 'analyzt', 'application development analyst', 'application development senior analyst', 'arc analyst', 'associate business analyst', 'asst. manager business analyst', 'benefit analyst', 'business advisory sr analyst', 'business analyst', 'business development analyst', 'business systems analyst ii', 'cash analyst', 'credentialing analyst', 'data analyst', 'data research analyst', 'finacial analyst', 'financial analyst', 'hr analyst', 'instructor analyst', 'inventory analyst', 'isaac lead analyst', 'it analyst', 'it analysts', 'it-technical support analyst', 'itanalyst', 'lead analyst', 'lead business analyst', 'mainframe support analyst', 'manager-data analyst', 'marketing analyst', 'media analyst', 'mission control analyst', 'o2c analyst', 'operations analysis manager', 'operations analyst', 'payroll analyst', 'programmer analyst', 'qa analyst', 'qualioty control analyst', 'quality analysis', 'quality analyst', 'quality assurance analyst', 'scientific data analyst', 'screening analyst', 'senior  analyst', 'senior  analyst -cyber security', 'senior analyst', 'senior analyst resource management', 'senior ar analyst', 'senior business analyst', 'senior financial analyst', 'senior it analyst', 'senior lead analyst', 'senior patent analyst', 'senior process analyst', 'senior quality analysis', 'senior research analyst', 'senior software application analyst', 'senior support analyst', 'service desk analyst', 'specialization infra analyst', 'sr analys', 'sr analyst', 'sr business analyst', 'sr customer service analyst', 'sr system analyst', 'sr systems analyst', 'sr. analyst', 'sr. analyst qa', 'sr. finops analyst - ap', 'sr. qa analyst', 'system analyst', 'system operations analyst', 'tax analyst', 'technical analyst', 'technology analyst', 'transportation analysis', 'underwriting analyst 1','associate training quality and partner management', 'quality', 'quality assurance', 'quality assurance professional', 'quality officer', 'quality technologiest', 'senior quality analysis', 'sr quality controller']\n",
    "\n",
    "officer =['agriculture extension officer', 'assistant officer', 'chief business officer- sales', 'chief medical officer', 'commercial officer', 'customer relations officer', 'duty medical officer', 'field officer', 'field sales officer', 'finance officer', 'junior telecom officer', 'medical officer', 'medical officer-sr.manager', 'nursing officer', 'officer', 'proudction officer', 'public relation officer', 'quality officer', 'research officer', 'safety officer', 'sale officer', 'sales officer', 'scientific business officer', 'senior officer', 'shift officer', 'sr territory sales officer', 'sub divisional officer', 'technicalbofficer', 'translation officer', 'wfm officer']\n",
    "\n"
   ]
  },
  {
   "cell_type": "code",
   "execution_count": 29,
   "id": "d5007694",
   "metadata": {},
   "outputs": [],
   "source": [
    "for x ,i  in enumerate(df3['DESIGNATION']):\n",
    "    if i in manager:\n",
    "        df3.loc[x, ['designation']]='Manager'\n",
    "\n",
    "    elif i in exe:\n",
    "        df3.loc[x, ['designation']]='Executive'\n",
    "        \n",
    "        \n",
    "    elif i in teamlead:\n",
    "        df3.loc[x, ['designation']]='Team Lead'\n",
    "        \n",
    "        \n",
    "    elif i in Engineer:\n",
    "        df3.loc[x, ['designation']]='Engineer'\n",
    "        \n",
    "        \n",
    "    elif i in consultant:\n",
    "        df3.loc[x, ['designation']]='Consultant'\n",
    "        \n",
    "        \n",
    "    elif i in developer:\n",
    "        df3.loc[x, ['designation']]='Developer'\n",
    "        \n",
    "        \n",
    "    elif i in Analyst:\n",
    "        df3.loc[x, ['designation']]='Quality Analyst'\n",
    "        \n",
    "        \n",
    "    elif i in associate:\n",
    "        df3.loc[x, ['designation']]='Associate' \n",
    "        \n",
    "        \n",
    "    \n",
    "        \n",
    "    "
   ]
  },
  {
   "cell_type": "markdown",
   "id": "7c2b3df8",
   "metadata": {},
   "source": [
    "# MARRIED DATA "
   ]
  },
  {
   "cell_type": "code",
   "execution_count": 30,
   "id": "6537f943",
   "metadata": {
    "scrolled": false
   },
   "outputs": [
    {
     "name": "stdout",
     "output_type": "stream",
     "text": [
      "(1415, 41)\n"
     ]
    },
    {
     "data": {
      "text/html": [
       "<div>\n",
       "<style scoped>\n",
       "    .dataframe tbody tr th:only-of-type {\n",
       "        vertical-align: middle;\n",
       "    }\n",
       "\n",
       "    .dataframe tbody tr th {\n",
       "        vertical-align: top;\n",
       "    }\n",
       "\n",
       "    .dataframe thead th {\n",
       "        text-align: right;\n",
       "    }\n",
       "</style>\n",
       "<table border=\"1\" class=\"dataframe\">\n",
       "  <thead>\n",
       "    <tr style=\"text-align: right;\">\n",
       "      <th></th>\n",
       "      <th>id</th>\n",
       "      <th>cloan_disbursal_amount_x</th>\n",
       "      <th>cloan_service_charge_x</th>\n",
       "      <th>cloan_penalty_x</th>\n",
       "      <th>cloan_total_x</th>\n",
       "      <th>cloan_status_id</th>\n",
       "      <th>cloan_exhausted_days</th>\n",
       "      <th>user_status_id</th>\n",
       "      <th>accounts_manager_id</th>\n",
       "      <th>recovery_officer_id</th>\n",
       "      <th>gender</th>\n",
       "      <th>user_created_by</th>\n",
       "      <th>city</th>\n",
       "      <th>age</th>\n",
       "      <th>PERMANENT_PIN</th>\n",
       "      <th>present_pin</th>\n",
       "      <th>DEPARTMENT</th>\n",
       "      <th>DESIGNATION</th>\n",
       "      <th>proinfo_monthly_sal</th>\n",
       "      <th>INDUSTRY</th>\n",
       "      <th>proinfo_pincode</th>\n",
       "      <th>proinfo_city</th>\n",
       "      <th>capbility_status</th>\n",
       "      <th>user_survey_marital_status</th>\n",
       "      <th>customer_bank_name</th>\n",
       "      <th>customer_bank_ifsc_code</th>\n",
       "      <th>RMName</th>\n",
       "      <th>MaxPLoanAm</th>\n",
       "      <th>LMID</th>\n",
       "      <th>LMName</th>\n",
       "      <th>cloan_disbursal_amount_y</th>\n",
       "      <th>cloan_service_charge_y</th>\n",
       "      <th>cloan_penalty_y</th>\n",
       "      <th>cloan_total_y</th>\n",
       "      <th>cloan_amount</th>\n",
       "      <th>cloan_exhausted_days_avg</th>\n",
       "      <th>age_bins</th>\n",
       "      <th>salary_bins</th>\n",
       "      <th>loan_bins</th>\n",
       "      <th>department</th>\n",
       "      <th>designation</th>\n",
       "    </tr>\n",
       "  </thead>\n",
       "  <tbody>\n",
       "    <tr>\n",
       "      <th>0</th>\n",
       "      <td>1000213</td>\n",
       "      <td>15000</td>\n",
       "      <td>15750</td>\n",
       "      <td>18540</td>\n",
       "      <td>51060</td>\n",
       "      <td>21.0</td>\n",
       "      <td>511.0</td>\n",
       "      <td>12</td>\n",
       "      <td>120</td>\n",
       "      <td>118.0</td>\n",
       "      <td>1.0</td>\n",
       "      <td>5</td>\n",
       "      <td>nagpur</td>\n",
       "      <td>36</td>\n",
       "      <td>440009</td>\n",
       "      <td>440009</td>\n",
       "      <td>sales</td>\n",
       "      <td>manager</td>\n",
       "      <td>51090</td>\n",
       "      <td>education</td>\n",
       "      <td>440010</td>\n",
       "      <td>Nagpur</td>\n",
       "      <td>1</td>\n",
       "      <td>1.0</td>\n",
       "      <td>ICICI BANK</td>\n",
       "      <td>ICIC0006235</td>\n",
       "      <td>Manish</td>\n",
       "      <td>15000</td>\n",
       "      <td>21.0</td>\n",
       "      <td>Krishnandu</td>\n",
       "      <td>30000</td>\n",
       "      <td>31500</td>\n",
       "      <td>37080</td>\n",
       "      <td>102120</td>\n",
       "      <td>30000</td>\n",
       "      <td>511.0</td>\n",
       "      <td>[36-40]</td>\n",
       "      <td>[50k-55k]</td>\n",
       "      <td>[14.5k-15k]</td>\n",
       "      <td>Sales</td>\n",
       "      <td>Manager</td>\n",
       "    </tr>\n",
       "    <tr>\n",
       "      <th>3</th>\n",
       "      <td>1000395</td>\n",
       "      <td>40000</td>\n",
       "      <td>32400</td>\n",
       "      <td>13980</td>\n",
       "      <td>91100</td>\n",
       "      <td>21.0</td>\n",
       "      <td>397.0</td>\n",
       "      <td>12</td>\n",
       "      <td>110</td>\n",
       "      <td>134.0</td>\n",
       "      <td>1.0</td>\n",
       "      <td>5</td>\n",
       "      <td>chennai</td>\n",
       "      <td>35</td>\n",
       "      <td>600093</td>\n",
       "      <td>600093</td>\n",
       "      <td>technology</td>\n",
       "      <td>manager</td>\n",
       "      <td>152993</td>\n",
       "      <td>software/it/ites/bpo</td>\n",
       "      <td>500081</td>\n",
       "      <td>Chennai</td>\n",
       "      <td>1</td>\n",
       "      <td>1.0</td>\n",
       "      <td>ICICI BANK</td>\n",
       "      <td>ICIC0000573</td>\n",
       "      <td>SashiRekha</td>\n",
       "      <td>40000</td>\n",
       "      <td>55.0</td>\n",
       "      <td>SarikaReddy</td>\n",
       "      <td>80000</td>\n",
       "      <td>64800</td>\n",
       "      <td>27960</td>\n",
       "      <td>182200</td>\n",
       "      <td>80000</td>\n",
       "      <td>397.0</td>\n",
       "      <td>[31-35]</td>\n",
       "      <td>[100k-200k]</td>\n",
       "      <td>[39.5k-40k]</td>\n",
       "      <td>Technical</td>\n",
       "      <td>Manager</td>\n",
       "    </tr>\n",
       "    <tr>\n",
       "      <th>4</th>\n",
       "      <td>1000398</td>\n",
       "      <td>12000</td>\n",
       "      <td>480</td>\n",
       "      <td>60</td>\n",
       "      <td>13956</td>\n",
       "      <td>21.0</td>\n",
       "      <td>347.0</td>\n",
       "      <td>12</td>\n",
       "      <td>132</td>\n",
       "      <td>118.0</td>\n",
       "      <td>1.0</td>\n",
       "      <td>5</td>\n",
       "      <td>chennai</td>\n",
       "      <td>45</td>\n",
       "      <td>600126</td>\n",
       "      <td>600126</td>\n",
       "      <td>maintenance mechanical</td>\n",
       "      <td>tmt</td>\n",
       "      <td>58649</td>\n",
       "      <td>manufacturing</td>\n",
       "      <td>603204</td>\n",
       "      <td>Chennai</td>\n",
       "      <td>1</td>\n",
       "      <td>1.0</td>\n",
       "      <td>INDIAN OVERSEAS BANK</td>\n",
       "      <td>IOBA0003597</td>\n",
       "      <td>Jagjit</td>\n",
       "      <td>17000</td>\n",
       "      <td>55.0</td>\n",
       "      <td>SarikaReddy</td>\n",
       "      <td>24000</td>\n",
       "      <td>960</td>\n",
       "      <td>120</td>\n",
       "      <td>27912</td>\n",
       "      <td>24000</td>\n",
       "      <td>347.0</td>\n",
       "      <td>[41-45]</td>\n",
       "      <td>[55k-60k]</td>\n",
       "      <td>[11.5k-12k]</td>\n",
       "      <td>Others</td>\n",
       "      <td>NaN</td>\n",
       "    </tr>\n",
       "    <tr>\n",
       "      <th>5</th>\n",
       "      <td>1000409</td>\n",
       "      <td>12000</td>\n",
       "      <td>6120</td>\n",
       "      <td>8460</td>\n",
       "      <td>27288</td>\n",
       "      <td>21.0</td>\n",
       "      <td>272.0</td>\n",
       "      <td>12</td>\n",
       "      <td>22</td>\n",
       "      <td>116.0</td>\n",
       "      <td>1.0</td>\n",
       "      <td>5</td>\n",
       "      <td>new delhi</td>\n",
       "      <td>41</td>\n",
       "      <td>110030</td>\n",
       "      <td>110030</td>\n",
       "      <td>it</td>\n",
       "      <td>senior implementation associate</td>\n",
       "      <td>26381</td>\n",
       "      <td>software/it/ites/bpo</td>\n",
       "      <td>122003</td>\n",
       "      <td>New Delhi</td>\n",
       "      <td>1</td>\n",
       "      <td>1.0</td>\n",
       "      <td>Digibank by DBS</td>\n",
       "      <td>DBSS0IN0811</td>\n",
       "      <td>RajKumar</td>\n",
       "      <td>12000</td>\n",
       "      <td>76.0</td>\n",
       "      <td>MaheshSyreddy</td>\n",
       "      <td>48000</td>\n",
       "      <td>24480</td>\n",
       "      <td>33840</td>\n",
       "      <td>109152</td>\n",
       "      <td>48000</td>\n",
       "      <td>272.0</td>\n",
       "      <td>[41-45]</td>\n",
       "      <td>[25k-30k]</td>\n",
       "      <td>[11.5k-12k]</td>\n",
       "      <td>IT</td>\n",
       "      <td>Associate</td>\n",
       "    </tr>\n",
       "    <tr>\n",
       "      <th>6</th>\n",
       "      <td>1000430</td>\n",
       "      <td>40000</td>\n",
       "      <td>25200</td>\n",
       "      <td>9440</td>\n",
       "      <td>79360</td>\n",
       "      <td>21.0</td>\n",
       "      <td>219.0</td>\n",
       "      <td>12</td>\n",
       "      <td>143</td>\n",
       "      <td>116.0</td>\n",
       "      <td>1.0</td>\n",
       "      <td>5</td>\n",
       "      <td>hyderabad</td>\n",
       "      <td>37</td>\n",
       "      <td>500085</td>\n",
       "      <td>500085</td>\n",
       "      <td>it</td>\n",
       "      <td>escalation manager</td>\n",
       "      <td>163347</td>\n",
       "      <td>software/it/ites/bpo</td>\n",
       "      <td>500032</td>\n",
       "      <td>Hyderabad</td>\n",
       "      <td>1</td>\n",
       "      <td>1.0</td>\n",
       "      <td>HDFC BANK</td>\n",
       "      <td>HDFC0000075</td>\n",
       "      <td>TripurariRai</td>\n",
       "      <td>40000</td>\n",
       "      <td>55.0</td>\n",
       "      <td>SarikaReddy</td>\n",
       "      <td>120000</td>\n",
       "      <td>75600</td>\n",
       "      <td>28320</td>\n",
       "      <td>238080</td>\n",
       "      <td>120000</td>\n",
       "      <td>219.0</td>\n",
       "      <td>[36-40]</td>\n",
       "      <td>[100k-200k]</td>\n",
       "      <td>[39.5k-40k]</td>\n",
       "      <td>IT</td>\n",
       "      <td>Manager</td>\n",
       "    </tr>\n",
       "  </tbody>\n",
       "</table>\n",
       "</div>"
      ],
      "text/plain": [
       "        id  cloan_disbursal_amount_x  cloan_service_charge_x  cloan_penalty_x  \\\n",
       "0  1000213                     15000                   15750            18540   \n",
       "3  1000395                     40000                   32400            13980   \n",
       "4  1000398                     12000                     480               60   \n",
       "5  1000409                     12000                    6120             8460   \n",
       "6  1000430                     40000                   25200             9440   \n",
       "\n",
       "   cloan_total_x  cloan_status_id  cloan_exhausted_days  user_status_id  \\\n",
       "0          51060             21.0                 511.0              12   \n",
       "3          91100             21.0                 397.0              12   \n",
       "4          13956             21.0                 347.0              12   \n",
       "5          27288             21.0                 272.0              12   \n",
       "6          79360             21.0                 219.0              12   \n",
       "\n",
       "   accounts_manager_id  recovery_officer_id  gender  user_created_by  \\\n",
       "0                  120                118.0     1.0                5   \n",
       "3                  110                134.0     1.0                5   \n",
       "4                  132                118.0     1.0                5   \n",
       "5                   22                116.0     1.0                5   \n",
       "6                  143                116.0     1.0                5   \n",
       "\n",
       "        city  age PERMANENT_PIN present_pin              DEPARTMENT  \\\n",
       "0     nagpur   36        440009      440009                   sales   \n",
       "3    chennai   35        600093      600093              technology   \n",
       "4    chennai   45        600126      600126  maintenance mechanical   \n",
       "5  new delhi   41        110030      110030                      it   \n",
       "6  hyderabad   37        500085      500085                      it   \n",
       "\n",
       "                       DESIGNATION  proinfo_monthly_sal              INDUSTRY  \\\n",
       "0                          manager                51090             education   \n",
       "3                          manager               152993  software/it/ites/bpo   \n",
       "4                              tmt                58649         manufacturing   \n",
       "5  senior implementation associate                26381  software/it/ites/bpo   \n",
       "6               escalation manager               163347  software/it/ites/bpo   \n",
       "\n",
       "  proinfo_pincode proinfo_city  capbility_status  user_survey_marital_status  \\\n",
       "0          440010       Nagpur                 1                         1.0   \n",
       "3          500081      Chennai                 1                         1.0   \n",
       "4          603204      Chennai                 1                         1.0   \n",
       "5          122003    New Delhi                 1                         1.0   \n",
       "6          500032    Hyderabad                 1                         1.0   \n",
       "\n",
       "     customer_bank_name customer_bank_ifsc_code        RMName  MaxPLoanAm  \\\n",
       "0            ICICI BANK             ICIC0006235        Manish       15000   \n",
       "3            ICICI BANK             ICIC0000573    SashiRekha       40000   \n",
       "4  INDIAN OVERSEAS BANK             IOBA0003597        Jagjit       17000   \n",
       "5       Digibank by DBS             DBSS0IN0811      RajKumar       12000   \n",
       "6             HDFC BANK             HDFC0000075  TripurariRai       40000   \n",
       "\n",
       "   LMID         LMName  cloan_disbursal_amount_y  cloan_service_charge_y  \\\n",
       "0  21.0     Krishnandu                     30000                   31500   \n",
       "3  55.0    SarikaReddy                     80000                   64800   \n",
       "4  55.0    SarikaReddy                     24000                     960   \n",
       "5  76.0  MaheshSyreddy                     48000                   24480   \n",
       "6  55.0    SarikaReddy                    120000                   75600   \n",
       "\n",
       "   cloan_penalty_y  cloan_total_y  cloan_amount  cloan_exhausted_days_avg  \\\n",
       "0            37080         102120         30000                     511.0   \n",
       "3            27960         182200         80000                     397.0   \n",
       "4              120          27912         24000                     347.0   \n",
       "5            33840         109152         48000                     272.0   \n",
       "6            28320         238080        120000                     219.0   \n",
       "\n",
       "  age_bins  salary_bins    loan_bins department designation  \n",
       "0  [36-40]    [50k-55k]  [14.5k-15k]      Sales     Manager  \n",
       "3  [31-35]  [100k-200k]  [39.5k-40k]  Technical     Manager  \n",
       "4  [41-45]    [55k-60k]  [11.5k-12k]     Others         NaN  \n",
       "5  [41-45]    [25k-30k]  [11.5k-12k]         IT   Associate  \n",
       "6  [36-40]  [100k-200k]  [39.5k-40k]         IT     Manager  "
      ]
     },
     "execution_count": 30,
     "metadata": {},
     "output_type": "execute_result"
    }
   ],
   "source": [
    "dms1=df3[df3['user_survey_marital_status']==1.0]\n",
    "print(dms1.shape)\n",
    "dms1.head()"
   ]
  },
  {
   "cell_type": "code",
   "execution_count": 31,
   "id": "94db0f14",
   "metadata": {
    "scrolled": true
   },
   "outputs": [
    {
     "data": {
      "text/html": [
       "<div>\n",
       "<style scoped>\n",
       "    .dataframe tbody tr th:only-of-type {\n",
       "        vertical-align: middle;\n",
       "    }\n",
       "\n",
       "    .dataframe tbody tr th {\n",
       "        vertical-align: top;\n",
       "    }\n",
       "\n",
       "    .dataframe thead th {\n",
       "        text-align: right;\n",
       "    }\n",
       "</style>\n",
       "<table border=\"1\" class=\"dataframe\">\n",
       "  <thead>\n",
       "    <tr style=\"text-align: right;\">\n",
       "      <th></th>\n",
       "      <th>count</th>\n",
       "      <th>mean</th>\n",
       "      <th>std</th>\n",
       "      <th>min</th>\n",
       "      <th>25%</th>\n",
       "      <th>50%</th>\n",
       "      <th>75%</th>\n",
       "      <th>max</th>\n",
       "    </tr>\n",
       "  </thead>\n",
       "  <tbody>\n",
       "    <tr>\n",
       "      <th>id</th>\n",
       "      <td>2386.0</td>\n",
       "      <td>1.140336e+06</td>\n",
       "      <td>108644.929487</td>\n",
       "      <td>1000213.0</td>\n",
       "      <td>1041353.50</td>\n",
       "      <td>1115624.0</td>\n",
       "      <td>1242587.75</td>\n",
       "      <td>1371520.0</td>\n",
       "    </tr>\n",
       "    <tr>\n",
       "      <th>cloan_disbursal_amount_x</th>\n",
       "      <td>2386.0</td>\n",
       "      <td>1.352625e+04</td>\n",
       "      <td>8034.506857</td>\n",
       "      <td>2205.0</td>\n",
       "      <td>8500.00</td>\n",
       "      <td>11000.0</td>\n",
       "      <td>16000.00</td>\n",
       "      <td>70560.0</td>\n",
       "    </tr>\n",
       "    <tr>\n",
       "      <th>cloan_service_charge_x</th>\n",
       "      <td>2386.0</td>\n",
       "      <td>6.461566e+03</td>\n",
       "      <td>5484.072518</td>\n",
       "      <td>240.0</td>\n",
       "      <td>2700.00</td>\n",
       "      <td>4620.0</td>\n",
       "      <td>8700.00</td>\n",
       "      <td>39600.0</td>\n",
       "    </tr>\n",
       "    <tr>\n",
       "      <th>cloan_penalty_x</th>\n",
       "      <td>2386.0</td>\n",
       "      <td>8.363101e+03</td>\n",
       "      <td>5594.472334</td>\n",
       "      <td>0.0</td>\n",
       "      <td>3500.00</td>\n",
       "      <td>7340.0</td>\n",
       "      <td>12890.00</td>\n",
       "      <td>31560.0</td>\n",
       "    </tr>\n",
       "    <tr>\n",
       "      <th>cloan_total_x</th>\n",
       "      <td>2386.0</td>\n",
       "      <td>2.998973e+04</td>\n",
       "      <td>16244.469735</td>\n",
       "      <td>3600.0</td>\n",
       "      <td>18510.50</td>\n",
       "      <td>26149.0</td>\n",
       "      <td>38102.00</td>\n",
       "      <td>114660.0</td>\n",
       "    </tr>\n",
       "    <tr>\n",
       "      <th>cloan_status_id</th>\n",
       "      <td>2386.0</td>\n",
       "      <td>2.100000e+01</td>\n",
       "      <td>0.000000</td>\n",
       "      <td>21.0</td>\n",
       "      <td>21.00</td>\n",
       "      <td>21.0</td>\n",
       "      <td>21.00</td>\n",
       "      <td>21.0</td>\n",
       "    </tr>\n",
       "    <tr>\n",
       "      <th>cloan_exhausted_days</th>\n",
       "      <td>2386.0</td>\n",
       "      <td>2.624855e+02</td>\n",
       "      <td>119.924514</td>\n",
       "      <td>62.0</td>\n",
       "      <td>159.00</td>\n",
       "      <td>250.0</td>\n",
       "      <td>369.00</td>\n",
       "      <td>511.0</td>\n",
       "    </tr>\n",
       "    <tr>\n",
       "      <th>user_status_id</th>\n",
       "      <td>2386.0</td>\n",
       "      <td>1.200000e+01</td>\n",
       "      <td>0.000000</td>\n",
       "      <td>12.0</td>\n",
       "      <td>12.00</td>\n",
       "      <td>12.0</td>\n",
       "      <td>12.00</td>\n",
       "      <td>12.0</td>\n",
       "    </tr>\n",
       "    <tr>\n",
       "      <th>accounts_manager_id</th>\n",
       "      <td>2386.0</td>\n",
       "      <td>1.121102e+02</td>\n",
       "      <td>38.996888</td>\n",
       "      <td>22.0</td>\n",
       "      <td>110.00</td>\n",
       "      <td>129.0</td>\n",
       "      <td>133.00</td>\n",
       "      <td>143.0</td>\n",
       "    </tr>\n",
       "    <tr>\n",
       "      <th>recovery_officer_id</th>\n",
       "      <td>2054.0</td>\n",
       "      <td>1.229971e+02</td>\n",
       "      <td>9.110193</td>\n",
       "      <td>116.0</td>\n",
       "      <td>116.00</td>\n",
       "      <td>118.0</td>\n",
       "      <td>134.00</td>\n",
       "      <td>140.0</td>\n",
       "    </tr>\n",
       "    <tr>\n",
       "      <th>gender</th>\n",
       "      <td>2376.0</td>\n",
       "      <td>9.204545e-01</td>\n",
       "      <td>0.270645</td>\n",
       "      <td>0.0</td>\n",
       "      <td>1.00</td>\n",
       "      <td>1.0</td>\n",
       "      <td>1.00</td>\n",
       "      <td>1.0</td>\n",
       "    </tr>\n",
       "    <tr>\n",
       "      <th>user_created_by</th>\n",
       "      <td>2386.0</td>\n",
       "      <td>5.000000e+00</td>\n",
       "      <td>0.000000</td>\n",
       "      <td>5.0</td>\n",
       "      <td>5.00</td>\n",
       "      <td>5.0</td>\n",
       "      <td>5.00</td>\n",
       "      <td>5.0</td>\n",
       "    </tr>\n",
       "    <tr>\n",
       "      <th>age</th>\n",
       "      <td>2386.0</td>\n",
       "      <td>3.361945e+01</td>\n",
       "      <td>5.588565</td>\n",
       "      <td>21.0</td>\n",
       "      <td>30.00</td>\n",
       "      <td>33.0</td>\n",
       "      <td>37.00</td>\n",
       "      <td>59.0</td>\n",
       "    </tr>\n",
       "    <tr>\n",
       "      <th>proinfo_monthly_sal</th>\n",
       "      <td>2386.0</td>\n",
       "      <td>5.455035e+04</td>\n",
       "      <td>31390.119082</td>\n",
       "      <td>22151.0</td>\n",
       "      <td>36544.75</td>\n",
       "      <td>45873.0</td>\n",
       "      <td>62575.75</td>\n",
       "      <td>800000.0</td>\n",
       "    </tr>\n",
       "    <tr>\n",
       "      <th>capbility_status</th>\n",
       "      <td>2386.0</td>\n",
       "      <td>1.030176e+00</td>\n",
       "      <td>0.178307</td>\n",
       "      <td>1.0</td>\n",
       "      <td>1.00</td>\n",
       "      <td>1.0</td>\n",
       "      <td>1.00</td>\n",
       "      <td>3.0</td>\n",
       "    </tr>\n",
       "    <tr>\n",
       "      <th>user_survey_marital_status</th>\n",
       "      <td>2380.0</td>\n",
       "      <td>5.945378e-01</td>\n",
       "      <td>0.491084</td>\n",
       "      <td>0.0</td>\n",
       "      <td>0.00</td>\n",
       "      <td>1.0</td>\n",
       "      <td>1.00</td>\n",
       "      <td>1.0</td>\n",
       "    </tr>\n",
       "    <tr>\n",
       "      <th>MaxPLoanAm</th>\n",
       "      <td>2386.0</td>\n",
       "      <td>1.351697e+04</td>\n",
       "      <td>7278.153248</td>\n",
       "      <td>5000.0</td>\n",
       "      <td>8500.00</td>\n",
       "      <td>11000.0</td>\n",
       "      <td>16000.00</td>\n",
       "      <td>60000.0</td>\n",
       "    </tr>\n",
       "    <tr>\n",
       "      <th>LMID</th>\n",
       "      <td>2380.0</td>\n",
       "      <td>5.873739e+01</td>\n",
       "      <td>26.811023</td>\n",
       "      <td>1.0</td>\n",
       "      <td>21.00</td>\n",
       "      <td>70.0</td>\n",
       "      <td>80.00</td>\n",
       "      <td>128.0</td>\n",
       "    </tr>\n",
       "    <tr>\n",
       "      <th>cloan_disbursal_amount_y</th>\n",
       "      <td>2386.0</td>\n",
       "      <td>4.343224e+04</td>\n",
       "      <td>34899.074146</td>\n",
       "      <td>3969.0</td>\n",
       "      <td>22000.00</td>\n",
       "      <td>34000.0</td>\n",
       "      <td>52920.00</td>\n",
       "      <td>335160.0</td>\n",
       "    </tr>\n",
       "    <tr>\n",
       "      <th>cloan_service_charge_y</th>\n",
       "      <td>2386.0</td>\n",
       "      <td>2.006165e+04</td>\n",
       "      <td>19238.850044</td>\n",
       "      <td>400.0</td>\n",
       "      <td>7650.00</td>\n",
       "      <td>14557.5</td>\n",
       "      <td>25612.50</td>\n",
       "      <td>154630.0</td>\n",
       "    </tr>\n",
       "    <tr>\n",
       "      <th>cloan_penalty_y</th>\n",
       "      <td>2386.0</td>\n",
       "      <td>2.633018e+04</td>\n",
       "      <td>21644.013866</td>\n",
       "      <td>0.0</td>\n",
       "      <td>10140.00</td>\n",
       "      <td>22360.0</td>\n",
       "      <td>35150.00</td>\n",
       "      <td>194560.0</td>\n",
       "    </tr>\n",
       "    <tr>\n",
       "      <th>cloan_total_y</th>\n",
       "      <td>2386.0</td>\n",
       "      <td>9.510432e+04</td>\n",
       "      <td>67712.483531</td>\n",
       "      <td>6040.0</td>\n",
       "      <td>50046.00</td>\n",
       "      <td>77848.5</td>\n",
       "      <td>118775.00</td>\n",
       "      <td>628432.0</td>\n",
       "    </tr>\n",
       "    <tr>\n",
       "      <th>cloan_amount</th>\n",
       "      <td>2386.0</td>\n",
       "      <td>4.503143e+04</td>\n",
       "      <td>36944.270129</td>\n",
       "      <td>4500.0</td>\n",
       "      <td>24000.00</td>\n",
       "      <td>35000.0</td>\n",
       "      <td>54000.00</td>\n",
       "      <td>380000.0</td>\n",
       "    </tr>\n",
       "    <tr>\n",
       "      <th>cloan_exhausted_days_avg</th>\n",
       "      <td>2386.0</td>\n",
       "      <td>2.624855e+02</td>\n",
       "      <td>119.924514</td>\n",
       "      <td>62.0</td>\n",
       "      <td>159.00</td>\n",
       "      <td>250.0</td>\n",
       "      <td>369.00</td>\n",
       "      <td>511.0</td>\n",
       "    </tr>\n",
       "  </tbody>\n",
       "</table>\n",
       "</div>"
      ],
      "text/plain": [
       "                             count          mean            std        min  \\\n",
       "id                          2386.0  1.140336e+06  108644.929487  1000213.0   \n",
       "cloan_disbursal_amount_x    2386.0  1.352625e+04    8034.506857     2205.0   \n",
       "cloan_service_charge_x      2386.0  6.461566e+03    5484.072518      240.0   \n",
       "cloan_penalty_x             2386.0  8.363101e+03    5594.472334        0.0   \n",
       "cloan_total_x               2386.0  2.998973e+04   16244.469735     3600.0   \n",
       "cloan_status_id             2386.0  2.100000e+01       0.000000       21.0   \n",
       "cloan_exhausted_days        2386.0  2.624855e+02     119.924514       62.0   \n",
       "user_status_id              2386.0  1.200000e+01       0.000000       12.0   \n",
       "accounts_manager_id         2386.0  1.121102e+02      38.996888       22.0   \n",
       "recovery_officer_id         2054.0  1.229971e+02       9.110193      116.0   \n",
       "gender                      2376.0  9.204545e-01       0.270645        0.0   \n",
       "user_created_by             2386.0  5.000000e+00       0.000000        5.0   \n",
       "age                         2386.0  3.361945e+01       5.588565       21.0   \n",
       "proinfo_monthly_sal         2386.0  5.455035e+04   31390.119082    22151.0   \n",
       "capbility_status            2386.0  1.030176e+00       0.178307        1.0   \n",
       "user_survey_marital_status  2380.0  5.945378e-01       0.491084        0.0   \n",
       "MaxPLoanAm                  2386.0  1.351697e+04    7278.153248     5000.0   \n",
       "LMID                        2380.0  5.873739e+01      26.811023        1.0   \n",
       "cloan_disbursal_amount_y    2386.0  4.343224e+04   34899.074146     3969.0   \n",
       "cloan_service_charge_y      2386.0  2.006165e+04   19238.850044      400.0   \n",
       "cloan_penalty_y             2386.0  2.633018e+04   21644.013866        0.0   \n",
       "cloan_total_y               2386.0  9.510432e+04   67712.483531     6040.0   \n",
       "cloan_amount                2386.0  4.503143e+04   36944.270129     4500.0   \n",
       "cloan_exhausted_days_avg    2386.0  2.624855e+02     119.924514       62.0   \n",
       "\n",
       "                                   25%        50%         75%        max  \n",
       "id                          1041353.50  1115624.0  1242587.75  1371520.0  \n",
       "cloan_disbursal_amount_x       8500.00    11000.0    16000.00    70560.0  \n",
       "cloan_service_charge_x         2700.00     4620.0     8700.00    39600.0  \n",
       "cloan_penalty_x                3500.00     7340.0    12890.00    31560.0  \n",
       "cloan_total_x                 18510.50    26149.0    38102.00   114660.0  \n",
       "cloan_status_id                  21.00       21.0       21.00       21.0  \n",
       "cloan_exhausted_days            159.00      250.0      369.00      511.0  \n",
       "user_status_id                   12.00       12.0       12.00       12.0  \n",
       "accounts_manager_id             110.00      129.0      133.00      143.0  \n",
       "recovery_officer_id             116.00      118.0      134.00      140.0  \n",
       "gender                            1.00        1.0        1.00        1.0  \n",
       "user_created_by                   5.00        5.0        5.00        5.0  \n",
       "age                              30.00       33.0       37.00       59.0  \n",
       "proinfo_monthly_sal           36544.75    45873.0    62575.75   800000.0  \n",
       "capbility_status                  1.00        1.0        1.00        3.0  \n",
       "user_survey_marital_status        0.00        1.0        1.00        1.0  \n",
       "MaxPLoanAm                     8500.00    11000.0    16000.00    60000.0  \n",
       "LMID                             21.00       70.0       80.00      128.0  \n",
       "cloan_disbursal_amount_y      22000.00    34000.0    52920.00   335160.0  \n",
       "cloan_service_charge_y         7650.00    14557.5    25612.50   154630.0  \n",
       "cloan_penalty_y               10140.00    22360.0    35150.00   194560.0  \n",
       "cloan_total_y                 50046.00    77848.5   118775.00   628432.0  \n",
       "cloan_amount                  24000.00    35000.0    54000.00   380000.0  \n",
       "cloan_exhausted_days_avg        159.00      250.0      369.00      511.0  "
      ]
     },
     "execution_count": 31,
     "metadata": {},
     "output_type": "execute_result"
    }
   ],
   "source": [
    "df3.describe().T"
   ]
  },
  {
   "cell_type": "code",
   "execution_count": 32,
   "id": "d4a8c9dd",
   "metadata": {},
   "outputs": [
    {
     "data": {
      "text/plain": [
       "54550.35205364627"
      ]
     },
     "execution_count": 32,
     "metadata": {},
     "output_type": "execute_result"
    }
   ],
   "source": [
    "df3['proinfo_monthly_sal'].mean()"
   ]
  },
  {
   "cell_type": "markdown",
   "id": "6eb533e9",
   "metadata": {},
   "source": [
    "# UNMARRIED DATA"
   ]
  },
  {
   "cell_type": "code",
   "execution_count": 33,
   "id": "b51c75a3",
   "metadata": {},
   "outputs": [
    {
     "name": "stdout",
     "output_type": "stream",
     "text": [
      "(965, 41)\n"
     ]
    },
    {
     "data": {
      "text/html": [
       "<div>\n",
       "<style scoped>\n",
       "    .dataframe tbody tr th:only-of-type {\n",
       "        vertical-align: middle;\n",
       "    }\n",
       "\n",
       "    .dataframe tbody tr th {\n",
       "        vertical-align: top;\n",
       "    }\n",
       "\n",
       "    .dataframe thead th {\n",
       "        text-align: right;\n",
       "    }\n",
       "</style>\n",
       "<table border=\"1\" class=\"dataframe\">\n",
       "  <thead>\n",
       "    <tr style=\"text-align: right;\">\n",
       "      <th></th>\n",
       "      <th>id</th>\n",
       "      <th>cloan_disbursal_amount_x</th>\n",
       "      <th>cloan_service_charge_x</th>\n",
       "      <th>cloan_penalty_x</th>\n",
       "      <th>cloan_total_x</th>\n",
       "      <th>cloan_status_id</th>\n",
       "      <th>cloan_exhausted_days</th>\n",
       "      <th>user_status_id</th>\n",
       "      <th>accounts_manager_id</th>\n",
       "      <th>recovery_officer_id</th>\n",
       "      <th>gender</th>\n",
       "      <th>user_created_by</th>\n",
       "      <th>city</th>\n",
       "      <th>age</th>\n",
       "      <th>PERMANENT_PIN</th>\n",
       "      <th>present_pin</th>\n",
       "      <th>DEPARTMENT</th>\n",
       "      <th>DESIGNATION</th>\n",
       "      <th>proinfo_monthly_sal</th>\n",
       "      <th>INDUSTRY</th>\n",
       "      <th>proinfo_pincode</th>\n",
       "      <th>proinfo_city</th>\n",
       "      <th>capbility_status</th>\n",
       "      <th>user_survey_marital_status</th>\n",
       "      <th>customer_bank_name</th>\n",
       "      <th>customer_bank_ifsc_code</th>\n",
       "      <th>RMName</th>\n",
       "      <th>MaxPLoanAm</th>\n",
       "      <th>LMID</th>\n",
       "      <th>LMName</th>\n",
       "      <th>cloan_disbursal_amount_y</th>\n",
       "      <th>cloan_service_charge_y</th>\n",
       "      <th>cloan_penalty_y</th>\n",
       "      <th>cloan_total_y</th>\n",
       "      <th>cloan_amount</th>\n",
       "      <th>cloan_exhausted_days_avg</th>\n",
       "      <th>age_bins</th>\n",
       "      <th>salary_bins</th>\n",
       "      <th>loan_bins</th>\n",
       "      <th>department</th>\n",
       "      <th>designation</th>\n",
       "    </tr>\n",
       "  </thead>\n",
       "  <tbody>\n",
       "    <tr>\n",
       "      <th>1</th>\n",
       "      <td>1000329</td>\n",
       "      <td>10000</td>\n",
       "      <td>9900</td>\n",
       "      <td>18500</td>\n",
       "      <td>39580</td>\n",
       "      <td>21.0</td>\n",
       "      <td>510.0</td>\n",
       "      <td>12</td>\n",
       "      <td>110</td>\n",
       "      <td>118.0</td>\n",
       "      <td>1.0</td>\n",
       "      <td>5</td>\n",
       "      <td>deoghar</td>\n",
       "      <td>28</td>\n",
       "      <td>814112</td>\n",
       "      <td>814112</td>\n",
       "      <td>training and quality</td>\n",
       "      <td>lead trainer</td>\n",
       "      <td>35413</td>\n",
       "      <td>software/it/ites/bpo</td>\n",
       "      <td>834002</td>\n",
       "      <td>Ranchi</td>\n",
       "      <td>1</td>\n",
       "      <td>0.0</td>\n",
       "      <td>HDFC</td>\n",
       "      <td>HDFC0002687</td>\n",
       "      <td>SashiRekha</td>\n",
       "      <td>10000</td>\n",
       "      <td>21.0</td>\n",
       "      <td>Krishnandu</td>\n",
       "      <td>30000</td>\n",
       "      <td>29700</td>\n",
       "      <td>55500</td>\n",
       "      <td>118740</td>\n",
       "      <td>30000</td>\n",
       "      <td>510.0</td>\n",
       "      <td>[26-30]</td>\n",
       "      <td>[35k-40k]</td>\n",
       "      <td>[2k-10k]</td>\n",
       "      <td>Training</td>\n",
       "      <td>Team Lead</td>\n",
       "    </tr>\n",
       "    <tr>\n",
       "      <th>2</th>\n",
       "      <td>1000381</td>\n",
       "      <td>40000</td>\n",
       "      <td>39600</td>\n",
       "      <td>18460</td>\n",
       "      <td>102780</td>\n",
       "      <td>21.0</td>\n",
       "      <td>509.0</td>\n",
       "      <td>12</td>\n",
       "      <td>133</td>\n",
       "      <td>140.0</td>\n",
       "      <td>0.0</td>\n",
       "      <td>5</td>\n",
       "      <td>bangalore</td>\n",
       "      <td>34</td>\n",
       "      <td>560037</td>\n",
       "      <td>560037</td>\n",
       "      <td>operations</td>\n",
       "      <td>senior process associate</td>\n",
       "      <td>31490</td>\n",
       "      <td>banking and financial services</td>\n",
       "      <td>400063</td>\n",
       "      <td>Bangalore</td>\n",
       "      <td>1</td>\n",
       "      <td>0.0</td>\n",
       "      <td>AXIS BANK</td>\n",
       "      <td>UTIB0000194</td>\n",
       "      <td>RohitKumar</td>\n",
       "      <td>40000</td>\n",
       "      <td>55.0</td>\n",
       "      <td>SarikaReddy</td>\n",
       "      <td>80000</td>\n",
       "      <td>79200</td>\n",
       "      <td>36920</td>\n",
       "      <td>205560</td>\n",
       "      <td>80000</td>\n",
       "      <td>509.0</td>\n",
       "      <td>[31-35]</td>\n",
       "      <td>[30k-35k]</td>\n",
       "      <td>[39.5k-40k]</td>\n",
       "      <td>Operations</td>\n",
       "      <td>Associate</td>\n",
       "    </tr>\n",
       "    <tr>\n",
       "      <th>7</th>\n",
       "      <td>1000435</td>\n",
       "      <td>32000</td>\n",
       "      <td>11960</td>\n",
       "      <td>17160</td>\n",
       "      <td>64896</td>\n",
       "      <td>21.0</td>\n",
       "      <td>492.0</td>\n",
       "      <td>12</td>\n",
       "      <td>121</td>\n",
       "      <td>140.0</td>\n",
       "      <td>1.0</td>\n",
       "      <td>5</td>\n",
       "      <td>kolkata</td>\n",
       "      <td>34</td>\n",
       "      <td>700033</td>\n",
       "      <td>560043</td>\n",
       "      <td>ifm</td>\n",
       "      <td>engineering manager</td>\n",
       "      <td>58206</td>\n",
       "      <td>others</td>\n",
       "      <td>560001</td>\n",
       "      <td>Bangalore</td>\n",
       "      <td>1</td>\n",
       "      <td>0.0</td>\n",
       "      <td>HSBC</td>\n",
       "      <td>HSBC0560002</td>\n",
       "      <td>Divya</td>\n",
       "      <td>20000</td>\n",
       "      <td>21.0</td>\n",
       "      <td>Krishnandu</td>\n",
       "      <td>64000</td>\n",
       "      <td>23920</td>\n",
       "      <td>34320</td>\n",
       "      <td>129792</td>\n",
       "      <td>64000</td>\n",
       "      <td>492.0</td>\n",
       "      <td>[31-35]</td>\n",
       "      <td>[55k-60k]</td>\n",
       "      <td>[31.5k-32k]</td>\n",
       "      <td>Others</td>\n",
       "      <td>Manager</td>\n",
       "    </tr>\n",
       "    <tr>\n",
       "      <th>9</th>\n",
       "      <td>1000500</td>\n",
       "      <td>23000</td>\n",
       "      <td>20010</td>\n",
       "      <td>15420</td>\n",
       "      <td>61144</td>\n",
       "      <td>21.0</td>\n",
       "      <td>433.0</td>\n",
       "      <td>12</td>\n",
       "      <td>143</td>\n",
       "      <td>116.0</td>\n",
       "      <td>1.0</td>\n",
       "      <td>5</td>\n",
       "      <td>hyderabad</td>\n",
       "      <td>38</td>\n",
       "      <td>508245</td>\n",
       "      <td>500035</td>\n",
       "      <td>net working</td>\n",
       "      <td>system admin</td>\n",
       "      <td>81549</td>\n",
       "      <td>software/it/ites/bpo</td>\n",
       "      <td>500010</td>\n",
       "      <td>Hyderabad</td>\n",
       "      <td>1</td>\n",
       "      <td>0.0</td>\n",
       "      <td>ICICI BANK</td>\n",
       "      <td>ICIC0000075</td>\n",
       "      <td>TripurariRai</td>\n",
       "      <td>24000</td>\n",
       "      <td>76.0</td>\n",
       "      <td>MaheshSyreddy</td>\n",
       "      <td>69000</td>\n",
       "      <td>60030</td>\n",
       "      <td>46260</td>\n",
       "      <td>183432</td>\n",
       "      <td>69000</td>\n",
       "      <td>433.0</td>\n",
       "      <td>[36-40]</td>\n",
       "      <td>[80k-85k]</td>\n",
       "      <td>[22.5k-23k]</td>\n",
       "      <td>Others</td>\n",
       "      <td>NaN</td>\n",
       "    </tr>\n",
       "    <tr>\n",
       "      <th>10</th>\n",
       "      <td>1000515</td>\n",
       "      <td>15876</td>\n",
       "      <td>3780</td>\n",
       "      <td>1740</td>\n",
       "      <td>23520</td>\n",
       "      <td>21.0</td>\n",
       "      <td>91.0</td>\n",
       "      <td>12</td>\n",
       "      <td>143</td>\n",
       "      <td>NaN</td>\n",
       "      <td>1.0</td>\n",
       "      <td>5</td>\n",
       "      <td>kolkata</td>\n",
       "      <td>31</td>\n",
       "      <td>700157</td>\n",
       "      <td>700157</td>\n",
       "      <td>ites</td>\n",
       "      <td>business analyst</td>\n",
       "      <td>49697</td>\n",
       "      <td>software/it/ites/bpo</td>\n",
       "      <td>700016</td>\n",
       "      <td>Kolkata</td>\n",
       "      <td>1</td>\n",
       "      <td>0.0</td>\n",
       "      <td>HDFC BANK</td>\n",
       "      <td>HDFC0002058</td>\n",
       "      <td>TripurariRai</td>\n",
       "      <td>18000</td>\n",
       "      <td>55.0</td>\n",
       "      <td>SarikaReddy</td>\n",
       "      <td>95256</td>\n",
       "      <td>22680</td>\n",
       "      <td>10440</td>\n",
       "      <td>141120</td>\n",
       "      <td>108000</td>\n",
       "      <td>91.0</td>\n",
       "      <td>[31-35]</td>\n",
       "      <td>[45k-50k]</td>\n",
       "      <td>[15.5k-16k]</td>\n",
       "      <td>IT</td>\n",
       "      <td>Quality Analyst</td>\n",
       "    </tr>\n",
       "  </tbody>\n",
       "</table>\n",
       "</div>"
      ],
      "text/plain": [
       "         id  cloan_disbursal_amount_x  cloan_service_charge_x  \\\n",
       "1   1000329                     10000                    9900   \n",
       "2   1000381                     40000                   39600   \n",
       "7   1000435                     32000                   11960   \n",
       "9   1000500                     23000                   20010   \n",
       "10  1000515                     15876                    3780   \n",
       "\n",
       "    cloan_penalty_x  cloan_total_x  cloan_status_id  cloan_exhausted_days  \\\n",
       "1             18500          39580             21.0                 510.0   \n",
       "2             18460         102780             21.0                 509.0   \n",
       "7             17160          64896             21.0                 492.0   \n",
       "9             15420          61144             21.0                 433.0   \n",
       "10             1740          23520             21.0                  91.0   \n",
       "\n",
       "    user_status_id  accounts_manager_id  recovery_officer_id  gender  \\\n",
       "1               12                  110                118.0     1.0   \n",
       "2               12                  133                140.0     0.0   \n",
       "7               12                  121                140.0     1.0   \n",
       "9               12                  143                116.0     1.0   \n",
       "10              12                  143                  NaN     1.0   \n",
       "\n",
       "    user_created_by       city  age PERMANENT_PIN present_pin  \\\n",
       "1                 5    deoghar   28        814112      814112   \n",
       "2                 5  bangalore   34        560037      560037   \n",
       "7                 5    kolkata   34        700033      560043   \n",
       "9                 5  hyderabad   38        508245      500035   \n",
       "10                5    kolkata   31        700157      700157   \n",
       "\n",
       "              DEPARTMENT               DESIGNATION  proinfo_monthly_sal  \\\n",
       "1   training and quality              lead trainer                35413   \n",
       "2             operations  senior process associate                31490   \n",
       "7                    ifm       engineering manager                58206   \n",
       "9            net working              system admin                81549   \n",
       "10                  ites          business analyst                49697   \n",
       "\n",
       "                          INDUSTRY proinfo_pincode proinfo_city  \\\n",
       "1             software/it/ites/bpo          834002       Ranchi   \n",
       "2   banking and financial services          400063    Bangalore   \n",
       "7                           others          560001    Bangalore   \n",
       "9             software/it/ites/bpo          500010    Hyderabad   \n",
       "10            software/it/ites/bpo          700016      Kolkata   \n",
       "\n",
       "    capbility_status  user_survey_marital_status customer_bank_name  \\\n",
       "1                  1                         0.0               HDFC   \n",
       "2                  1                         0.0          AXIS BANK   \n",
       "7                  1                         0.0               HSBC   \n",
       "9                  1                         0.0         ICICI BANK   \n",
       "10                 1                         0.0          HDFC BANK   \n",
       "\n",
       "   customer_bank_ifsc_code        RMName  MaxPLoanAm  LMID         LMName  \\\n",
       "1              HDFC0002687    SashiRekha       10000  21.0     Krishnandu   \n",
       "2              UTIB0000194    RohitKumar       40000  55.0    SarikaReddy   \n",
       "7              HSBC0560002         Divya       20000  21.0     Krishnandu   \n",
       "9              ICIC0000075  TripurariRai       24000  76.0  MaheshSyreddy   \n",
       "10             HDFC0002058  TripurariRai       18000  55.0    SarikaReddy   \n",
       "\n",
       "    cloan_disbursal_amount_y  cloan_service_charge_y  cloan_penalty_y  \\\n",
       "1                      30000                   29700            55500   \n",
       "2                      80000                   79200            36920   \n",
       "7                      64000                   23920            34320   \n",
       "9                      69000                   60030            46260   \n",
       "10                     95256                   22680            10440   \n",
       "\n",
       "    cloan_total_y  cloan_amount  cloan_exhausted_days_avg age_bins  \\\n",
       "1          118740         30000                     510.0  [26-30]   \n",
       "2          205560         80000                     509.0  [31-35]   \n",
       "7          129792         64000                     492.0  [31-35]   \n",
       "9          183432         69000                     433.0  [36-40]   \n",
       "10         141120        108000                      91.0  [31-35]   \n",
       "\n",
       "   salary_bins    loan_bins  department      designation  \n",
       "1    [35k-40k]     [2k-10k]    Training        Team Lead  \n",
       "2    [30k-35k]  [39.5k-40k]  Operations        Associate  \n",
       "7    [55k-60k]  [31.5k-32k]      Others          Manager  \n",
       "9    [80k-85k]  [22.5k-23k]      Others              NaN  \n",
       "10   [45k-50k]  [15.5k-16k]          IT  Quality Analyst  "
      ]
     },
     "execution_count": 33,
     "metadata": {},
     "output_type": "execute_result"
    }
   ],
   "source": [
    "dms0=df3[df3['user_survey_marital_status']==0.0]\n",
    "print(dms0.shape)\n",
    "dms0.head()"
   ]
  },
  {
   "cell_type": "markdown",
   "id": "e5e2ed49",
   "metadata": {},
   "source": [
    "# AGE "
   ]
  },
  {
   "cell_type": "code",
   "execution_count": 34,
   "id": "74bbc741",
   "metadata": {},
   "outputs": [
    {
     "data": {
      "application/vnd.plotly.v1+json": {
       "config": {
        "linkText": "Export to plot.ly",
        "plotlyServerURL": "https://plot.ly",
        "showLink": true
       },
       "data": [
        {
         "marker": {
          "color": "rgba(255, 153, 51, 0.6)",
          "line": {
           "color": "rgba(255, 153, 51, 1.0)",
           "width": 1
          }
         },
         "name": "age",
         "orientation": "v",
         "text": "",
         "type": "bar",
         "x": [
          32,
          30,
          33,
          31,
          29,
          35,
          36,
          34,
          28,
          38,
          37,
          27,
          39,
          26,
          40,
          41,
          25,
          42,
          24,
          43,
          44,
          45,
          46,
          23,
          47,
          49,
          50,
          52,
          48,
          51,
          22,
          55,
          53,
          59,
          21,
          54,
          58
         ],
         "y": [
          214,
          184,
          180,
          172,
          150,
          149,
          141,
          141,
          132,
          112,
          104,
          93,
          85,
          76,
          74,
          67,
          56,
          40,
          35,
          34,
          23,
          22,
          20,
          17,
          11,
          10,
          10,
          9,
          8,
          7,
          3,
          2,
          1,
          1,
          1,
          1,
          1
         ]
        }
       ],
       "layout": {
        "legend": {
         "bgcolor": "#F5F6F9",
         "font": {
          "color": "#4D5663"
         }
        },
        "paper_bgcolor": "#F5F6F9",
        "plot_bgcolor": "#F5F6F9",
        "template": {
         "data": {
          "bar": [
           {
            "error_x": {
             "color": "#2a3f5f"
            },
            "error_y": {
             "color": "#2a3f5f"
            },
            "marker": {
             "line": {
              "color": "#E5ECF6",
              "width": 0.5
             },
             "pattern": {
              "fillmode": "overlay",
              "size": 10,
              "solidity": 0.2
             }
            },
            "type": "bar"
           }
          ],
          "barpolar": [
           {
            "marker": {
             "line": {
              "color": "#E5ECF6",
              "width": 0.5
             },
             "pattern": {
              "fillmode": "overlay",
              "size": 10,
              "solidity": 0.2
             }
            },
            "type": "barpolar"
           }
          ],
          "carpet": [
           {
            "aaxis": {
             "endlinecolor": "#2a3f5f",
             "gridcolor": "white",
             "linecolor": "white",
             "minorgridcolor": "white",
             "startlinecolor": "#2a3f5f"
            },
            "baxis": {
             "endlinecolor": "#2a3f5f",
             "gridcolor": "white",
             "linecolor": "white",
             "minorgridcolor": "white",
             "startlinecolor": "#2a3f5f"
            },
            "type": "carpet"
           }
          ],
          "choropleth": [
           {
            "colorbar": {
             "outlinewidth": 0,
             "ticks": ""
            },
            "type": "choropleth"
           }
          ],
          "contour": [
           {
            "colorbar": {
             "outlinewidth": 0,
             "ticks": ""
            },
            "colorscale": [
             [
              0,
              "#0d0887"
             ],
             [
              0.1111111111111111,
              "#46039f"
             ],
             [
              0.2222222222222222,
              "#7201a8"
             ],
             [
              0.3333333333333333,
              "#9c179e"
             ],
             [
              0.4444444444444444,
              "#bd3786"
             ],
             [
              0.5555555555555556,
              "#d8576b"
             ],
             [
              0.6666666666666666,
              "#ed7953"
             ],
             [
              0.7777777777777778,
              "#fb9f3a"
             ],
             [
              0.8888888888888888,
              "#fdca26"
             ],
             [
              1,
              "#f0f921"
             ]
            ],
            "type": "contour"
           }
          ],
          "contourcarpet": [
           {
            "colorbar": {
             "outlinewidth": 0,
             "ticks": ""
            },
            "type": "contourcarpet"
           }
          ],
          "heatmap": [
           {
            "colorbar": {
             "outlinewidth": 0,
             "ticks": ""
            },
            "colorscale": [
             [
              0,
              "#0d0887"
             ],
             [
              0.1111111111111111,
              "#46039f"
             ],
             [
              0.2222222222222222,
              "#7201a8"
             ],
             [
              0.3333333333333333,
              "#9c179e"
             ],
             [
              0.4444444444444444,
              "#bd3786"
             ],
             [
              0.5555555555555556,
              "#d8576b"
             ],
             [
              0.6666666666666666,
              "#ed7953"
             ],
             [
              0.7777777777777778,
              "#fb9f3a"
             ],
             [
              0.8888888888888888,
              "#fdca26"
             ],
             [
              1,
              "#f0f921"
             ]
            ],
            "type": "heatmap"
           }
          ],
          "heatmapgl": [
           {
            "colorbar": {
             "outlinewidth": 0,
             "ticks": ""
            },
            "colorscale": [
             [
              0,
              "#0d0887"
             ],
             [
              0.1111111111111111,
              "#46039f"
             ],
             [
              0.2222222222222222,
              "#7201a8"
             ],
             [
              0.3333333333333333,
              "#9c179e"
             ],
             [
              0.4444444444444444,
              "#bd3786"
             ],
             [
              0.5555555555555556,
              "#d8576b"
             ],
             [
              0.6666666666666666,
              "#ed7953"
             ],
             [
              0.7777777777777778,
              "#fb9f3a"
             ],
             [
              0.8888888888888888,
              "#fdca26"
             ],
             [
              1,
              "#f0f921"
             ]
            ],
            "type": "heatmapgl"
           }
          ],
          "histogram": [
           {
            "marker": {
             "pattern": {
              "fillmode": "overlay",
              "size": 10,
              "solidity": 0.2
             }
            },
            "type": "histogram"
           }
          ],
          "histogram2d": [
           {
            "colorbar": {
             "outlinewidth": 0,
             "ticks": ""
            },
            "colorscale": [
             [
              0,
              "#0d0887"
             ],
             [
              0.1111111111111111,
              "#46039f"
             ],
             [
              0.2222222222222222,
              "#7201a8"
             ],
             [
              0.3333333333333333,
              "#9c179e"
             ],
             [
              0.4444444444444444,
              "#bd3786"
             ],
             [
              0.5555555555555556,
              "#d8576b"
             ],
             [
              0.6666666666666666,
              "#ed7953"
             ],
             [
              0.7777777777777778,
              "#fb9f3a"
             ],
             [
              0.8888888888888888,
              "#fdca26"
             ],
             [
              1,
              "#f0f921"
             ]
            ],
            "type": "histogram2d"
           }
          ],
          "histogram2dcontour": [
           {
            "colorbar": {
             "outlinewidth": 0,
             "ticks": ""
            },
            "colorscale": [
             [
              0,
              "#0d0887"
             ],
             [
              0.1111111111111111,
              "#46039f"
             ],
             [
              0.2222222222222222,
              "#7201a8"
             ],
             [
              0.3333333333333333,
              "#9c179e"
             ],
             [
              0.4444444444444444,
              "#bd3786"
             ],
             [
              0.5555555555555556,
              "#d8576b"
             ],
             [
              0.6666666666666666,
              "#ed7953"
             ],
             [
              0.7777777777777778,
              "#fb9f3a"
             ],
             [
              0.8888888888888888,
              "#fdca26"
             ],
             [
              1,
              "#f0f921"
             ]
            ],
            "type": "histogram2dcontour"
           }
          ],
          "mesh3d": [
           {
            "colorbar": {
             "outlinewidth": 0,
             "ticks": ""
            },
            "type": "mesh3d"
           }
          ],
          "parcoords": [
           {
            "line": {
             "colorbar": {
              "outlinewidth": 0,
              "ticks": ""
             }
            },
            "type": "parcoords"
           }
          ],
          "pie": [
           {
            "automargin": true,
            "type": "pie"
           }
          ],
          "scatter": [
           {
            "marker": {
             "colorbar": {
              "outlinewidth": 0,
              "ticks": ""
             }
            },
            "type": "scatter"
           }
          ],
          "scatter3d": [
           {
            "line": {
             "colorbar": {
              "outlinewidth": 0,
              "ticks": ""
             }
            },
            "marker": {
             "colorbar": {
              "outlinewidth": 0,
              "ticks": ""
             }
            },
            "type": "scatter3d"
           }
          ],
          "scattercarpet": [
           {
            "marker": {
             "colorbar": {
              "outlinewidth": 0,
              "ticks": ""
             }
            },
            "type": "scattercarpet"
           }
          ],
          "scattergeo": [
           {
            "marker": {
             "colorbar": {
              "outlinewidth": 0,
              "ticks": ""
             }
            },
            "type": "scattergeo"
           }
          ],
          "scattergl": [
           {
            "marker": {
             "colorbar": {
              "outlinewidth": 0,
              "ticks": ""
             }
            },
            "type": "scattergl"
           }
          ],
          "scattermapbox": [
           {
            "marker": {
             "colorbar": {
              "outlinewidth": 0,
              "ticks": ""
             }
            },
            "type": "scattermapbox"
           }
          ],
          "scatterpolar": [
           {
            "marker": {
             "colorbar": {
              "outlinewidth": 0,
              "ticks": ""
             }
            },
            "type": "scatterpolar"
           }
          ],
          "scatterpolargl": [
           {
            "marker": {
             "colorbar": {
              "outlinewidth": 0,
              "ticks": ""
             }
            },
            "type": "scatterpolargl"
           }
          ],
          "scatterternary": [
           {
            "marker": {
             "colorbar": {
              "outlinewidth": 0,
              "ticks": ""
             }
            },
            "type": "scatterternary"
           }
          ],
          "surface": [
           {
            "colorbar": {
             "outlinewidth": 0,
             "ticks": ""
            },
            "colorscale": [
             [
              0,
              "#0d0887"
             ],
             [
              0.1111111111111111,
              "#46039f"
             ],
             [
              0.2222222222222222,
              "#7201a8"
             ],
             [
              0.3333333333333333,
              "#9c179e"
             ],
             [
              0.4444444444444444,
              "#bd3786"
             ],
             [
              0.5555555555555556,
              "#d8576b"
             ],
             [
              0.6666666666666666,
              "#ed7953"
             ],
             [
              0.7777777777777778,
              "#fb9f3a"
             ],
             [
              0.8888888888888888,
              "#fdca26"
             ],
             [
              1,
              "#f0f921"
             ]
            ],
            "type": "surface"
           }
          ],
          "table": [
           {
            "cells": {
             "fill": {
              "color": "#EBF0F8"
             },
             "line": {
              "color": "white"
             }
            },
            "header": {
             "fill": {
              "color": "#C8D4E3"
             },
             "line": {
              "color": "white"
             }
            },
            "type": "table"
           }
          ]
         },
         "layout": {
          "annotationdefaults": {
           "arrowcolor": "#2a3f5f",
           "arrowhead": 0,
           "arrowwidth": 1
          },
          "autotypenumbers": "strict",
          "coloraxis": {
           "colorbar": {
            "outlinewidth": 0,
            "ticks": ""
           }
          },
          "colorscale": {
           "diverging": [
            [
             0,
             "#8e0152"
            ],
            [
             0.1,
             "#c51b7d"
            ],
            [
             0.2,
             "#de77ae"
            ],
            [
             0.3,
             "#f1b6da"
            ],
            [
             0.4,
             "#fde0ef"
            ],
            [
             0.5,
             "#f7f7f7"
            ],
            [
             0.6,
             "#e6f5d0"
            ],
            [
             0.7,
             "#b8e186"
            ],
            [
             0.8,
             "#7fbc41"
            ],
            [
             0.9,
             "#4d9221"
            ],
            [
             1,
             "#276419"
            ]
           ],
           "sequential": [
            [
             0,
             "#0d0887"
            ],
            [
             0.1111111111111111,
             "#46039f"
            ],
            [
             0.2222222222222222,
             "#7201a8"
            ],
            [
             0.3333333333333333,
             "#9c179e"
            ],
            [
             0.4444444444444444,
             "#bd3786"
            ],
            [
             0.5555555555555556,
             "#d8576b"
            ],
            [
             0.6666666666666666,
             "#ed7953"
            ],
            [
             0.7777777777777778,
             "#fb9f3a"
            ],
            [
             0.8888888888888888,
             "#fdca26"
            ],
            [
             1,
             "#f0f921"
            ]
           ],
           "sequentialminus": [
            [
             0,
             "#0d0887"
            ],
            [
             0.1111111111111111,
             "#46039f"
            ],
            [
             0.2222222222222222,
             "#7201a8"
            ],
            [
             0.3333333333333333,
             "#9c179e"
            ],
            [
             0.4444444444444444,
             "#bd3786"
            ],
            [
             0.5555555555555556,
             "#d8576b"
            ],
            [
             0.6666666666666666,
             "#ed7953"
            ],
            [
             0.7777777777777778,
             "#fb9f3a"
            ],
            [
             0.8888888888888888,
             "#fdca26"
            ],
            [
             1,
             "#f0f921"
            ]
           ]
          },
          "colorway": [
           "#636efa",
           "#EF553B",
           "#00cc96",
           "#ab63fa",
           "#FFA15A",
           "#19d3f3",
           "#FF6692",
           "#B6E880",
           "#FF97FF",
           "#FECB52"
          ],
          "font": {
           "color": "#2a3f5f"
          },
          "geo": {
           "bgcolor": "white",
           "lakecolor": "white",
           "landcolor": "#E5ECF6",
           "showlakes": true,
           "showland": true,
           "subunitcolor": "white"
          },
          "hoverlabel": {
           "align": "left"
          },
          "hovermode": "closest",
          "mapbox": {
           "style": "light"
          },
          "paper_bgcolor": "white",
          "plot_bgcolor": "#E5ECF6",
          "polar": {
           "angularaxis": {
            "gridcolor": "white",
            "linecolor": "white",
            "ticks": ""
           },
           "bgcolor": "#E5ECF6",
           "radialaxis": {
            "gridcolor": "white",
            "linecolor": "white",
            "ticks": ""
           }
          },
          "scene": {
           "xaxis": {
            "backgroundcolor": "#E5ECF6",
            "gridcolor": "white",
            "gridwidth": 2,
            "linecolor": "white",
            "showbackground": true,
            "ticks": "",
            "zerolinecolor": "white"
           },
           "yaxis": {
            "backgroundcolor": "#E5ECF6",
            "gridcolor": "white",
            "gridwidth": 2,
            "linecolor": "white",
            "showbackground": true,
            "ticks": "",
            "zerolinecolor": "white"
           },
           "zaxis": {
            "backgroundcolor": "#E5ECF6",
            "gridcolor": "white",
            "gridwidth": 2,
            "linecolor": "white",
            "showbackground": true,
            "ticks": "",
            "zerolinecolor": "white"
           }
          },
          "shapedefaults": {
           "line": {
            "color": "#2a3f5f"
           }
          },
          "ternary": {
           "aaxis": {
            "gridcolor": "white",
            "linecolor": "white",
            "ticks": ""
           },
           "baxis": {
            "gridcolor": "white",
            "linecolor": "white",
            "ticks": ""
           },
           "bgcolor": "#E5ECF6",
           "caxis": {
            "gridcolor": "white",
            "linecolor": "white",
            "ticks": ""
           }
          },
          "title": {
           "x": 0.05
          },
          "xaxis": {
           "automargin": true,
           "gridcolor": "white",
           "linecolor": "white",
           "ticks": "",
           "title": {
            "standoff": 15
           },
           "zerolinecolor": "white",
           "zerolinewidth": 2
          },
          "yaxis": {
           "automargin": true,
           "gridcolor": "white",
           "linecolor": "white",
           "ticks": "",
           "title": {
            "standoff": 15
           },
           "zerolinecolor": "white",
           "zerolinewidth": 2
          }
         }
        },
        "title": {
         "font": {
          "color": "#4D5663"
         }
        },
        "xaxis": {
         "gridcolor": "#E1E5ED",
         "showgrid": true,
         "tickfont": {
          "color": "#4D5663"
         },
         "title": {
          "font": {
           "color": "#4D5663"
          },
          "text": "age"
         },
         "zerolinecolor": "#E1E5ED"
        },
        "yaxis": {
         "gridcolor": "#E1E5ED",
         "showgrid": true,
         "tickfont": {
          "color": "#4D5663"
         },
         "title": {
          "font": {
           "color": "#4D5663"
          },
          "text": "Number of Person"
         },
         "zerolinecolor": "#E1E5ED"
        }
       }
      },
      "text/html": [
       "<div>                            <div id=\"298d6578-ccf0-4b0c-abd3-2d4baece2e36\" class=\"plotly-graph-div\" style=\"height:525px; width:100%;\"></div>            <script type=\"text/javascript\">                require([\"plotly\"], function(Plotly) {                    window.PLOTLYENV=window.PLOTLYENV || {};\n",
       "                    window.PLOTLYENV.BASE_URL='https://plot.ly';                                    if (document.getElementById(\"298d6578-ccf0-4b0c-abd3-2d4baece2e36\")) {                    Plotly.newPlot(                        \"298d6578-ccf0-4b0c-abd3-2d4baece2e36\",                        [{\"marker\":{\"color\":\"rgba(255, 153, 51, 0.6)\",\"line\":{\"color\":\"rgba(255, 153, 51, 1.0)\",\"width\":1}},\"name\":\"age\",\"orientation\":\"v\",\"text\":\"\",\"x\":[32,30,33,31,29,35,36,34,28,38,37,27,39,26,40,41,25,42,24,43,44,45,46,23,47,49,50,52,48,51,22,55,53,59,21,54,58],\"y\":[214,184,180,172,150,149,141,141,132,112,104,93,85,76,74,67,56,40,35,34,23,22,20,17,11,10,10,9,8,7,3,2,1,1,1,1,1],\"type\":\"bar\"}],                        {\"legend\":{\"bgcolor\":\"#F5F6F9\",\"font\":{\"color\":\"#4D5663\"}},\"paper_bgcolor\":\"#F5F6F9\",\"plot_bgcolor\":\"#F5F6F9\",\"template\":{\"data\":{\"barpolar\":[{\"marker\":{\"line\":{\"color\":\"#E5ECF6\",\"width\":0.5},\"pattern\":{\"fillmode\":\"overlay\",\"size\":10,\"solidity\":0.2}},\"type\":\"barpolar\"}],\"bar\":[{\"error_x\":{\"color\":\"#2a3f5f\"},\"error_y\":{\"color\":\"#2a3f5f\"},\"marker\":{\"line\":{\"color\":\"#E5ECF6\",\"width\":0.5},\"pattern\":{\"fillmode\":\"overlay\",\"size\":10,\"solidity\":0.2}},\"type\":\"bar\"}],\"carpet\":[{\"aaxis\":{\"endlinecolor\":\"#2a3f5f\",\"gridcolor\":\"white\",\"linecolor\":\"white\",\"minorgridcolor\":\"white\",\"startlinecolor\":\"#2a3f5f\"},\"baxis\":{\"endlinecolor\":\"#2a3f5f\",\"gridcolor\":\"white\",\"linecolor\":\"white\",\"minorgridcolor\":\"white\",\"startlinecolor\":\"#2a3f5f\"},\"type\":\"carpet\"}],\"choropleth\":[{\"colorbar\":{\"outlinewidth\":0,\"ticks\":\"\"},\"type\":\"choropleth\"}],\"contourcarpet\":[{\"colorbar\":{\"outlinewidth\":0,\"ticks\":\"\"},\"type\":\"contourcarpet\"}],\"contour\":[{\"colorbar\":{\"outlinewidth\":0,\"ticks\":\"\"},\"colorscale\":[[0.0,\"#0d0887\"],[0.1111111111111111,\"#46039f\"],[0.2222222222222222,\"#7201a8\"],[0.3333333333333333,\"#9c179e\"],[0.4444444444444444,\"#bd3786\"],[0.5555555555555556,\"#d8576b\"],[0.6666666666666666,\"#ed7953\"],[0.7777777777777778,\"#fb9f3a\"],[0.8888888888888888,\"#fdca26\"],[1.0,\"#f0f921\"]],\"type\":\"contour\"}],\"heatmapgl\":[{\"colorbar\":{\"outlinewidth\":0,\"ticks\":\"\"},\"colorscale\":[[0.0,\"#0d0887\"],[0.1111111111111111,\"#46039f\"],[0.2222222222222222,\"#7201a8\"],[0.3333333333333333,\"#9c179e\"],[0.4444444444444444,\"#bd3786\"],[0.5555555555555556,\"#d8576b\"],[0.6666666666666666,\"#ed7953\"],[0.7777777777777778,\"#fb9f3a\"],[0.8888888888888888,\"#fdca26\"],[1.0,\"#f0f921\"]],\"type\":\"heatmapgl\"}],\"heatmap\":[{\"colorbar\":{\"outlinewidth\":0,\"ticks\":\"\"},\"colorscale\":[[0.0,\"#0d0887\"],[0.1111111111111111,\"#46039f\"],[0.2222222222222222,\"#7201a8\"],[0.3333333333333333,\"#9c179e\"],[0.4444444444444444,\"#bd3786\"],[0.5555555555555556,\"#d8576b\"],[0.6666666666666666,\"#ed7953\"],[0.7777777777777778,\"#fb9f3a\"],[0.8888888888888888,\"#fdca26\"],[1.0,\"#f0f921\"]],\"type\":\"heatmap\"}],\"histogram2dcontour\":[{\"colorbar\":{\"outlinewidth\":0,\"ticks\":\"\"},\"colorscale\":[[0.0,\"#0d0887\"],[0.1111111111111111,\"#46039f\"],[0.2222222222222222,\"#7201a8\"],[0.3333333333333333,\"#9c179e\"],[0.4444444444444444,\"#bd3786\"],[0.5555555555555556,\"#d8576b\"],[0.6666666666666666,\"#ed7953\"],[0.7777777777777778,\"#fb9f3a\"],[0.8888888888888888,\"#fdca26\"],[1.0,\"#f0f921\"]],\"type\":\"histogram2dcontour\"}],\"histogram2d\":[{\"colorbar\":{\"outlinewidth\":0,\"ticks\":\"\"},\"colorscale\":[[0.0,\"#0d0887\"],[0.1111111111111111,\"#46039f\"],[0.2222222222222222,\"#7201a8\"],[0.3333333333333333,\"#9c179e\"],[0.4444444444444444,\"#bd3786\"],[0.5555555555555556,\"#d8576b\"],[0.6666666666666666,\"#ed7953\"],[0.7777777777777778,\"#fb9f3a\"],[0.8888888888888888,\"#fdca26\"],[1.0,\"#f0f921\"]],\"type\":\"histogram2d\"}],\"histogram\":[{\"marker\":{\"pattern\":{\"fillmode\":\"overlay\",\"size\":10,\"solidity\":0.2}},\"type\":\"histogram\"}],\"mesh3d\":[{\"colorbar\":{\"outlinewidth\":0,\"ticks\":\"\"},\"type\":\"mesh3d\"}],\"parcoords\":[{\"line\":{\"colorbar\":{\"outlinewidth\":0,\"ticks\":\"\"}},\"type\":\"parcoords\"}],\"pie\":[{\"automargin\":true,\"type\":\"pie\"}],\"scatter3d\":[{\"line\":{\"colorbar\":{\"outlinewidth\":0,\"ticks\":\"\"}},\"marker\":{\"colorbar\":{\"outlinewidth\":0,\"ticks\":\"\"}},\"type\":\"scatter3d\"}],\"scattercarpet\":[{\"marker\":{\"colorbar\":{\"outlinewidth\":0,\"ticks\":\"\"}},\"type\":\"scattercarpet\"}],\"scattergeo\":[{\"marker\":{\"colorbar\":{\"outlinewidth\":0,\"ticks\":\"\"}},\"type\":\"scattergeo\"}],\"scattergl\":[{\"marker\":{\"colorbar\":{\"outlinewidth\":0,\"ticks\":\"\"}},\"type\":\"scattergl\"}],\"scattermapbox\":[{\"marker\":{\"colorbar\":{\"outlinewidth\":0,\"ticks\":\"\"}},\"type\":\"scattermapbox\"}],\"scatterpolargl\":[{\"marker\":{\"colorbar\":{\"outlinewidth\":0,\"ticks\":\"\"}},\"type\":\"scatterpolargl\"}],\"scatterpolar\":[{\"marker\":{\"colorbar\":{\"outlinewidth\":0,\"ticks\":\"\"}},\"type\":\"scatterpolar\"}],\"scatter\":[{\"marker\":{\"colorbar\":{\"outlinewidth\":0,\"ticks\":\"\"}},\"type\":\"scatter\"}],\"scatterternary\":[{\"marker\":{\"colorbar\":{\"outlinewidth\":0,\"ticks\":\"\"}},\"type\":\"scatterternary\"}],\"surface\":[{\"colorbar\":{\"outlinewidth\":0,\"ticks\":\"\"},\"colorscale\":[[0.0,\"#0d0887\"],[0.1111111111111111,\"#46039f\"],[0.2222222222222222,\"#7201a8\"],[0.3333333333333333,\"#9c179e\"],[0.4444444444444444,\"#bd3786\"],[0.5555555555555556,\"#d8576b\"],[0.6666666666666666,\"#ed7953\"],[0.7777777777777778,\"#fb9f3a\"],[0.8888888888888888,\"#fdca26\"],[1.0,\"#f0f921\"]],\"type\":\"surface\"}],\"table\":[{\"cells\":{\"fill\":{\"color\":\"#EBF0F8\"},\"line\":{\"color\":\"white\"}},\"header\":{\"fill\":{\"color\":\"#C8D4E3\"},\"line\":{\"color\":\"white\"}},\"type\":\"table\"}]},\"layout\":{\"annotationdefaults\":{\"arrowcolor\":\"#2a3f5f\",\"arrowhead\":0,\"arrowwidth\":1},\"autotypenumbers\":\"strict\",\"coloraxis\":{\"colorbar\":{\"outlinewidth\":0,\"ticks\":\"\"}},\"colorscale\":{\"diverging\":[[0,\"#8e0152\"],[0.1,\"#c51b7d\"],[0.2,\"#de77ae\"],[0.3,\"#f1b6da\"],[0.4,\"#fde0ef\"],[0.5,\"#f7f7f7\"],[0.6,\"#e6f5d0\"],[0.7,\"#b8e186\"],[0.8,\"#7fbc41\"],[0.9,\"#4d9221\"],[1,\"#276419\"]],\"sequential\":[[0.0,\"#0d0887\"],[0.1111111111111111,\"#46039f\"],[0.2222222222222222,\"#7201a8\"],[0.3333333333333333,\"#9c179e\"],[0.4444444444444444,\"#bd3786\"],[0.5555555555555556,\"#d8576b\"],[0.6666666666666666,\"#ed7953\"],[0.7777777777777778,\"#fb9f3a\"],[0.8888888888888888,\"#fdca26\"],[1.0,\"#f0f921\"]],\"sequentialminus\":[[0.0,\"#0d0887\"],[0.1111111111111111,\"#46039f\"],[0.2222222222222222,\"#7201a8\"],[0.3333333333333333,\"#9c179e\"],[0.4444444444444444,\"#bd3786\"],[0.5555555555555556,\"#d8576b\"],[0.6666666666666666,\"#ed7953\"],[0.7777777777777778,\"#fb9f3a\"],[0.8888888888888888,\"#fdca26\"],[1.0,\"#f0f921\"]]},\"colorway\":[\"#636efa\",\"#EF553B\",\"#00cc96\",\"#ab63fa\",\"#FFA15A\",\"#19d3f3\",\"#FF6692\",\"#B6E880\",\"#FF97FF\",\"#FECB52\"],\"font\":{\"color\":\"#2a3f5f\"},\"geo\":{\"bgcolor\":\"white\",\"lakecolor\":\"white\",\"landcolor\":\"#E5ECF6\",\"showlakes\":true,\"showland\":true,\"subunitcolor\":\"white\"},\"hoverlabel\":{\"align\":\"left\"},\"hovermode\":\"closest\",\"mapbox\":{\"style\":\"light\"},\"paper_bgcolor\":\"white\",\"plot_bgcolor\":\"#E5ECF6\",\"polar\":{\"angularaxis\":{\"gridcolor\":\"white\",\"linecolor\":\"white\",\"ticks\":\"\"},\"bgcolor\":\"#E5ECF6\",\"radialaxis\":{\"gridcolor\":\"white\",\"linecolor\":\"white\",\"ticks\":\"\"}},\"scene\":{\"xaxis\":{\"backgroundcolor\":\"#E5ECF6\",\"gridcolor\":\"white\",\"gridwidth\":2,\"linecolor\":\"white\",\"showbackground\":true,\"ticks\":\"\",\"zerolinecolor\":\"white\"},\"yaxis\":{\"backgroundcolor\":\"#E5ECF6\",\"gridcolor\":\"white\",\"gridwidth\":2,\"linecolor\":\"white\",\"showbackground\":true,\"ticks\":\"\",\"zerolinecolor\":\"white\"},\"zaxis\":{\"backgroundcolor\":\"#E5ECF6\",\"gridcolor\":\"white\",\"gridwidth\":2,\"linecolor\":\"white\",\"showbackground\":true,\"ticks\":\"\",\"zerolinecolor\":\"white\"}},\"shapedefaults\":{\"line\":{\"color\":\"#2a3f5f\"}},\"ternary\":{\"aaxis\":{\"gridcolor\":\"white\",\"linecolor\":\"white\",\"ticks\":\"\"},\"baxis\":{\"gridcolor\":\"white\",\"linecolor\":\"white\",\"ticks\":\"\"},\"bgcolor\":\"#E5ECF6\",\"caxis\":{\"gridcolor\":\"white\",\"linecolor\":\"white\",\"ticks\":\"\"}},\"title\":{\"x\":0.05},\"xaxis\":{\"automargin\":true,\"gridcolor\":\"white\",\"linecolor\":\"white\",\"ticks\":\"\",\"title\":{\"standoff\":15},\"zerolinecolor\":\"white\",\"zerolinewidth\":2},\"yaxis\":{\"automargin\":true,\"gridcolor\":\"white\",\"linecolor\":\"white\",\"ticks\":\"\",\"title\":{\"standoff\":15},\"zerolinecolor\":\"white\",\"zerolinewidth\":2}}},\"title\":{\"font\":{\"color\":\"#4D5663\"}},\"xaxis\":{\"gridcolor\":\"#E1E5ED\",\"showgrid\":true,\"tickfont\":{\"color\":\"#4D5663\"},\"title\":{\"font\":{\"color\":\"#4D5663\"},\"text\":\"age\"},\"zerolinecolor\":\"#E1E5ED\"},\"yaxis\":{\"gridcolor\":\"#E1E5ED\",\"showgrid\":true,\"tickfont\":{\"color\":\"#4D5663\"},\"title\":{\"font\":{\"color\":\"#4D5663\"},\"text\":\"Number of Person\"},\"zerolinecolor\":\"#E1E5ED\"}},                        {\"showLink\": true, \"linkText\": \"Export to plot.ly\", \"plotlyServerURL\": \"https://plot.ly\", \"responsive\": true}                    ).then(function(){\n",
       "                            \n",
       "var gd = document.getElementById('298d6578-ccf0-4b0c-abd3-2d4baece2e36');\n",
       "var x = new MutationObserver(function (mutations, observer) {{\n",
       "        var display = window.getComputedStyle(gd).display;\n",
       "        if (!display || display === 'none') {{\n",
       "            console.log([gd, 'removed!']);\n",
       "            Plotly.purge(gd);\n",
       "            observer.disconnect();\n",
       "        }}\n",
       "}});\n",
       "\n",
       "// Listen for the removal of the full notebook cells\n",
       "var notebookContainer = gd.closest('#notebook-container');\n",
       "if (notebookContainer) {{\n",
       "    x.observe(notebookContainer, {childList: true});\n",
       "}}\n",
       "\n",
       "// Listen for the clearing of the current output cell\n",
       "var outputEl = gd.closest('.output');\n",
       "if (outputEl) {{\n",
       "    x.observe(outputEl, {childList: true});\n",
       "}}\n",
       "\n",
       "                        })                };                });            </script>        </div>"
      ]
     },
     "metadata": {},
     "output_type": "display_data"
    }
   ],
   "source": [
    "(df3['age']).value_counts().iplot(kind='bar',xTitle='age', yTitle='Number of Person')"
   ]
  },
  {
   "cell_type": "code",
   "execution_count": 35,
   "id": "8f8ad3a3",
   "metadata": {},
   "outputs": [
    {
     "data": {
      "application/vnd.plotly.v1+json": {
       "config": {
        "linkText": "Export to plot.ly",
        "plotlyServerURL": "https://plot.ly",
        "showLink": true
       },
       "data": [
        {
         "marker": {
          "color": "rgba(255, 153, 51, 0.6)",
          "line": {
           "color": "rgba(255, 153, 51, 1.0)",
           "width": 1
          }
         },
         "name": "age_bins",
         "orientation": "v",
         "text": "",
         "type": "bar",
         "x": [
          "[31-35]",
          "[26-30]",
          "[36-40]",
          "[41-45]",
          "[20-25]",
          "[46-50]",
          "[>50]"
         ],
         "y": [
          856,
          635,
          516,
          186,
          112,
          59,
          22
         ]
        }
       ],
       "layout": {
        "legend": {
         "bgcolor": "#F5F6F9",
         "font": {
          "color": "#4D5663"
         }
        },
        "paper_bgcolor": "#F5F6F9",
        "plot_bgcolor": "#F5F6F9",
        "template": {
         "data": {
          "bar": [
           {
            "error_x": {
             "color": "#2a3f5f"
            },
            "error_y": {
             "color": "#2a3f5f"
            },
            "marker": {
             "line": {
              "color": "#E5ECF6",
              "width": 0.5
             },
             "pattern": {
              "fillmode": "overlay",
              "size": 10,
              "solidity": 0.2
             }
            },
            "type": "bar"
           }
          ],
          "barpolar": [
           {
            "marker": {
             "line": {
              "color": "#E5ECF6",
              "width": 0.5
             },
             "pattern": {
              "fillmode": "overlay",
              "size": 10,
              "solidity": 0.2
             }
            },
            "type": "barpolar"
           }
          ],
          "carpet": [
           {
            "aaxis": {
             "endlinecolor": "#2a3f5f",
             "gridcolor": "white",
             "linecolor": "white",
             "minorgridcolor": "white",
             "startlinecolor": "#2a3f5f"
            },
            "baxis": {
             "endlinecolor": "#2a3f5f",
             "gridcolor": "white",
             "linecolor": "white",
             "minorgridcolor": "white",
             "startlinecolor": "#2a3f5f"
            },
            "type": "carpet"
           }
          ],
          "choropleth": [
           {
            "colorbar": {
             "outlinewidth": 0,
             "ticks": ""
            },
            "type": "choropleth"
           }
          ],
          "contour": [
           {
            "colorbar": {
             "outlinewidth": 0,
             "ticks": ""
            },
            "colorscale": [
             [
              0,
              "#0d0887"
             ],
             [
              0.1111111111111111,
              "#46039f"
             ],
             [
              0.2222222222222222,
              "#7201a8"
             ],
             [
              0.3333333333333333,
              "#9c179e"
             ],
             [
              0.4444444444444444,
              "#bd3786"
             ],
             [
              0.5555555555555556,
              "#d8576b"
             ],
             [
              0.6666666666666666,
              "#ed7953"
             ],
             [
              0.7777777777777778,
              "#fb9f3a"
             ],
             [
              0.8888888888888888,
              "#fdca26"
             ],
             [
              1,
              "#f0f921"
             ]
            ],
            "type": "contour"
           }
          ],
          "contourcarpet": [
           {
            "colorbar": {
             "outlinewidth": 0,
             "ticks": ""
            },
            "type": "contourcarpet"
           }
          ],
          "heatmap": [
           {
            "colorbar": {
             "outlinewidth": 0,
             "ticks": ""
            },
            "colorscale": [
             [
              0,
              "#0d0887"
             ],
             [
              0.1111111111111111,
              "#46039f"
             ],
             [
              0.2222222222222222,
              "#7201a8"
             ],
             [
              0.3333333333333333,
              "#9c179e"
             ],
             [
              0.4444444444444444,
              "#bd3786"
             ],
             [
              0.5555555555555556,
              "#d8576b"
             ],
             [
              0.6666666666666666,
              "#ed7953"
             ],
             [
              0.7777777777777778,
              "#fb9f3a"
             ],
             [
              0.8888888888888888,
              "#fdca26"
             ],
             [
              1,
              "#f0f921"
             ]
            ],
            "type": "heatmap"
           }
          ],
          "heatmapgl": [
           {
            "colorbar": {
             "outlinewidth": 0,
             "ticks": ""
            },
            "colorscale": [
             [
              0,
              "#0d0887"
             ],
             [
              0.1111111111111111,
              "#46039f"
             ],
             [
              0.2222222222222222,
              "#7201a8"
             ],
             [
              0.3333333333333333,
              "#9c179e"
             ],
             [
              0.4444444444444444,
              "#bd3786"
             ],
             [
              0.5555555555555556,
              "#d8576b"
             ],
             [
              0.6666666666666666,
              "#ed7953"
             ],
             [
              0.7777777777777778,
              "#fb9f3a"
             ],
             [
              0.8888888888888888,
              "#fdca26"
             ],
             [
              1,
              "#f0f921"
             ]
            ],
            "type": "heatmapgl"
           }
          ],
          "histogram": [
           {
            "marker": {
             "pattern": {
              "fillmode": "overlay",
              "size": 10,
              "solidity": 0.2
             }
            },
            "type": "histogram"
           }
          ],
          "histogram2d": [
           {
            "colorbar": {
             "outlinewidth": 0,
             "ticks": ""
            },
            "colorscale": [
             [
              0,
              "#0d0887"
             ],
             [
              0.1111111111111111,
              "#46039f"
             ],
             [
              0.2222222222222222,
              "#7201a8"
             ],
             [
              0.3333333333333333,
              "#9c179e"
             ],
             [
              0.4444444444444444,
              "#bd3786"
             ],
             [
              0.5555555555555556,
              "#d8576b"
             ],
             [
              0.6666666666666666,
              "#ed7953"
             ],
             [
              0.7777777777777778,
              "#fb9f3a"
             ],
             [
              0.8888888888888888,
              "#fdca26"
             ],
             [
              1,
              "#f0f921"
             ]
            ],
            "type": "histogram2d"
           }
          ],
          "histogram2dcontour": [
           {
            "colorbar": {
             "outlinewidth": 0,
             "ticks": ""
            },
            "colorscale": [
             [
              0,
              "#0d0887"
             ],
             [
              0.1111111111111111,
              "#46039f"
             ],
             [
              0.2222222222222222,
              "#7201a8"
             ],
             [
              0.3333333333333333,
              "#9c179e"
             ],
             [
              0.4444444444444444,
              "#bd3786"
             ],
             [
              0.5555555555555556,
              "#d8576b"
             ],
             [
              0.6666666666666666,
              "#ed7953"
             ],
             [
              0.7777777777777778,
              "#fb9f3a"
             ],
             [
              0.8888888888888888,
              "#fdca26"
             ],
             [
              1,
              "#f0f921"
             ]
            ],
            "type": "histogram2dcontour"
           }
          ],
          "mesh3d": [
           {
            "colorbar": {
             "outlinewidth": 0,
             "ticks": ""
            },
            "type": "mesh3d"
           }
          ],
          "parcoords": [
           {
            "line": {
             "colorbar": {
              "outlinewidth": 0,
              "ticks": ""
             }
            },
            "type": "parcoords"
           }
          ],
          "pie": [
           {
            "automargin": true,
            "type": "pie"
           }
          ],
          "scatter": [
           {
            "marker": {
             "colorbar": {
              "outlinewidth": 0,
              "ticks": ""
             }
            },
            "type": "scatter"
           }
          ],
          "scatter3d": [
           {
            "line": {
             "colorbar": {
              "outlinewidth": 0,
              "ticks": ""
             }
            },
            "marker": {
             "colorbar": {
              "outlinewidth": 0,
              "ticks": ""
             }
            },
            "type": "scatter3d"
           }
          ],
          "scattercarpet": [
           {
            "marker": {
             "colorbar": {
              "outlinewidth": 0,
              "ticks": ""
             }
            },
            "type": "scattercarpet"
           }
          ],
          "scattergeo": [
           {
            "marker": {
             "colorbar": {
              "outlinewidth": 0,
              "ticks": ""
             }
            },
            "type": "scattergeo"
           }
          ],
          "scattergl": [
           {
            "marker": {
             "colorbar": {
              "outlinewidth": 0,
              "ticks": ""
             }
            },
            "type": "scattergl"
           }
          ],
          "scattermapbox": [
           {
            "marker": {
             "colorbar": {
              "outlinewidth": 0,
              "ticks": ""
             }
            },
            "type": "scattermapbox"
           }
          ],
          "scatterpolar": [
           {
            "marker": {
             "colorbar": {
              "outlinewidth": 0,
              "ticks": ""
             }
            },
            "type": "scatterpolar"
           }
          ],
          "scatterpolargl": [
           {
            "marker": {
             "colorbar": {
              "outlinewidth": 0,
              "ticks": ""
             }
            },
            "type": "scatterpolargl"
           }
          ],
          "scatterternary": [
           {
            "marker": {
             "colorbar": {
              "outlinewidth": 0,
              "ticks": ""
             }
            },
            "type": "scatterternary"
           }
          ],
          "surface": [
           {
            "colorbar": {
             "outlinewidth": 0,
             "ticks": ""
            },
            "colorscale": [
             [
              0,
              "#0d0887"
             ],
             [
              0.1111111111111111,
              "#46039f"
             ],
             [
              0.2222222222222222,
              "#7201a8"
             ],
             [
              0.3333333333333333,
              "#9c179e"
             ],
             [
              0.4444444444444444,
              "#bd3786"
             ],
             [
              0.5555555555555556,
              "#d8576b"
             ],
             [
              0.6666666666666666,
              "#ed7953"
             ],
             [
              0.7777777777777778,
              "#fb9f3a"
             ],
             [
              0.8888888888888888,
              "#fdca26"
             ],
             [
              1,
              "#f0f921"
             ]
            ],
            "type": "surface"
           }
          ],
          "table": [
           {
            "cells": {
             "fill": {
              "color": "#EBF0F8"
             },
             "line": {
              "color": "white"
             }
            },
            "header": {
             "fill": {
              "color": "#C8D4E3"
             },
             "line": {
              "color": "white"
             }
            },
            "type": "table"
           }
          ]
         },
         "layout": {
          "annotationdefaults": {
           "arrowcolor": "#2a3f5f",
           "arrowhead": 0,
           "arrowwidth": 1
          },
          "autotypenumbers": "strict",
          "coloraxis": {
           "colorbar": {
            "outlinewidth": 0,
            "ticks": ""
           }
          },
          "colorscale": {
           "diverging": [
            [
             0,
             "#8e0152"
            ],
            [
             0.1,
             "#c51b7d"
            ],
            [
             0.2,
             "#de77ae"
            ],
            [
             0.3,
             "#f1b6da"
            ],
            [
             0.4,
             "#fde0ef"
            ],
            [
             0.5,
             "#f7f7f7"
            ],
            [
             0.6,
             "#e6f5d0"
            ],
            [
             0.7,
             "#b8e186"
            ],
            [
             0.8,
             "#7fbc41"
            ],
            [
             0.9,
             "#4d9221"
            ],
            [
             1,
             "#276419"
            ]
           ],
           "sequential": [
            [
             0,
             "#0d0887"
            ],
            [
             0.1111111111111111,
             "#46039f"
            ],
            [
             0.2222222222222222,
             "#7201a8"
            ],
            [
             0.3333333333333333,
             "#9c179e"
            ],
            [
             0.4444444444444444,
             "#bd3786"
            ],
            [
             0.5555555555555556,
             "#d8576b"
            ],
            [
             0.6666666666666666,
             "#ed7953"
            ],
            [
             0.7777777777777778,
             "#fb9f3a"
            ],
            [
             0.8888888888888888,
             "#fdca26"
            ],
            [
             1,
             "#f0f921"
            ]
           ],
           "sequentialminus": [
            [
             0,
             "#0d0887"
            ],
            [
             0.1111111111111111,
             "#46039f"
            ],
            [
             0.2222222222222222,
             "#7201a8"
            ],
            [
             0.3333333333333333,
             "#9c179e"
            ],
            [
             0.4444444444444444,
             "#bd3786"
            ],
            [
             0.5555555555555556,
             "#d8576b"
            ],
            [
             0.6666666666666666,
             "#ed7953"
            ],
            [
             0.7777777777777778,
             "#fb9f3a"
            ],
            [
             0.8888888888888888,
             "#fdca26"
            ],
            [
             1,
             "#f0f921"
            ]
           ]
          },
          "colorway": [
           "#636efa",
           "#EF553B",
           "#00cc96",
           "#ab63fa",
           "#FFA15A",
           "#19d3f3",
           "#FF6692",
           "#B6E880",
           "#FF97FF",
           "#FECB52"
          ],
          "font": {
           "color": "#2a3f5f"
          },
          "geo": {
           "bgcolor": "white",
           "lakecolor": "white",
           "landcolor": "#E5ECF6",
           "showlakes": true,
           "showland": true,
           "subunitcolor": "white"
          },
          "hoverlabel": {
           "align": "left"
          },
          "hovermode": "closest",
          "mapbox": {
           "style": "light"
          },
          "paper_bgcolor": "white",
          "plot_bgcolor": "#E5ECF6",
          "polar": {
           "angularaxis": {
            "gridcolor": "white",
            "linecolor": "white",
            "ticks": ""
           },
           "bgcolor": "#E5ECF6",
           "radialaxis": {
            "gridcolor": "white",
            "linecolor": "white",
            "ticks": ""
           }
          },
          "scene": {
           "xaxis": {
            "backgroundcolor": "#E5ECF6",
            "gridcolor": "white",
            "gridwidth": 2,
            "linecolor": "white",
            "showbackground": true,
            "ticks": "",
            "zerolinecolor": "white"
           },
           "yaxis": {
            "backgroundcolor": "#E5ECF6",
            "gridcolor": "white",
            "gridwidth": 2,
            "linecolor": "white",
            "showbackground": true,
            "ticks": "",
            "zerolinecolor": "white"
           },
           "zaxis": {
            "backgroundcolor": "#E5ECF6",
            "gridcolor": "white",
            "gridwidth": 2,
            "linecolor": "white",
            "showbackground": true,
            "ticks": "",
            "zerolinecolor": "white"
           }
          },
          "shapedefaults": {
           "line": {
            "color": "#2a3f5f"
           }
          },
          "ternary": {
           "aaxis": {
            "gridcolor": "white",
            "linecolor": "white",
            "ticks": ""
           },
           "baxis": {
            "gridcolor": "white",
            "linecolor": "white",
            "ticks": ""
           },
           "bgcolor": "#E5ECF6",
           "caxis": {
            "gridcolor": "white",
            "linecolor": "white",
            "ticks": ""
           }
          },
          "title": {
           "x": 0.05
          },
          "xaxis": {
           "automargin": true,
           "gridcolor": "white",
           "linecolor": "white",
           "ticks": "",
           "title": {
            "standoff": 15
           },
           "zerolinecolor": "white",
           "zerolinewidth": 2
          },
          "yaxis": {
           "automargin": true,
           "gridcolor": "white",
           "linecolor": "white",
           "ticks": "",
           "title": {
            "standoff": 15
           },
           "zerolinecolor": "white",
           "zerolinewidth": 2
          }
         }
        },
        "title": {
         "font": {
          "color": "#4D5663"
         }
        },
        "xaxis": {
         "gridcolor": "#E1E5ED",
         "showgrid": true,
         "tickfont": {
          "color": "#4D5663"
         },
         "title": {
          "font": {
           "color": "#4D5663"
          },
          "text": "age"
         },
         "zerolinecolor": "#E1E5ED"
        },
        "yaxis": {
         "gridcolor": "#E1E5ED",
         "showgrid": true,
         "tickfont": {
          "color": "#4D5663"
         },
         "title": {
          "font": {
           "color": "#4D5663"
          },
          "text": "Number of Person"
         },
         "zerolinecolor": "#E1E5ED"
        }
       }
      },
      "text/html": [
       "<div>                            <div id=\"9a495384-208e-44e2-a65c-ee94c72cd638\" class=\"plotly-graph-div\" style=\"height:525px; width:100%;\"></div>            <script type=\"text/javascript\">                require([\"plotly\"], function(Plotly) {                    window.PLOTLYENV=window.PLOTLYENV || {};\n",
       "                    window.PLOTLYENV.BASE_URL='https://plot.ly';                                    if (document.getElementById(\"9a495384-208e-44e2-a65c-ee94c72cd638\")) {                    Plotly.newPlot(                        \"9a495384-208e-44e2-a65c-ee94c72cd638\",                        [{\"marker\":{\"color\":\"rgba(255, 153, 51, 0.6)\",\"line\":{\"color\":\"rgba(255, 153, 51, 1.0)\",\"width\":1}},\"name\":\"age_bins\",\"orientation\":\"v\",\"text\":\"\",\"x\":[\"[31-35]\",\"[26-30]\",\"[36-40]\",\"[41-45]\",\"[20-25]\",\"[46-50]\",\"[>50]\"],\"y\":[856,635,516,186,112,59,22],\"type\":\"bar\"}],                        {\"legend\":{\"bgcolor\":\"#F5F6F9\",\"font\":{\"color\":\"#4D5663\"}},\"paper_bgcolor\":\"#F5F6F9\",\"plot_bgcolor\":\"#F5F6F9\",\"template\":{\"data\":{\"barpolar\":[{\"marker\":{\"line\":{\"color\":\"#E5ECF6\",\"width\":0.5},\"pattern\":{\"fillmode\":\"overlay\",\"size\":10,\"solidity\":0.2}},\"type\":\"barpolar\"}],\"bar\":[{\"error_x\":{\"color\":\"#2a3f5f\"},\"error_y\":{\"color\":\"#2a3f5f\"},\"marker\":{\"line\":{\"color\":\"#E5ECF6\",\"width\":0.5},\"pattern\":{\"fillmode\":\"overlay\",\"size\":10,\"solidity\":0.2}},\"type\":\"bar\"}],\"carpet\":[{\"aaxis\":{\"endlinecolor\":\"#2a3f5f\",\"gridcolor\":\"white\",\"linecolor\":\"white\",\"minorgridcolor\":\"white\",\"startlinecolor\":\"#2a3f5f\"},\"baxis\":{\"endlinecolor\":\"#2a3f5f\",\"gridcolor\":\"white\",\"linecolor\":\"white\",\"minorgridcolor\":\"white\",\"startlinecolor\":\"#2a3f5f\"},\"type\":\"carpet\"}],\"choropleth\":[{\"colorbar\":{\"outlinewidth\":0,\"ticks\":\"\"},\"type\":\"choropleth\"}],\"contourcarpet\":[{\"colorbar\":{\"outlinewidth\":0,\"ticks\":\"\"},\"type\":\"contourcarpet\"}],\"contour\":[{\"colorbar\":{\"outlinewidth\":0,\"ticks\":\"\"},\"colorscale\":[[0.0,\"#0d0887\"],[0.1111111111111111,\"#46039f\"],[0.2222222222222222,\"#7201a8\"],[0.3333333333333333,\"#9c179e\"],[0.4444444444444444,\"#bd3786\"],[0.5555555555555556,\"#d8576b\"],[0.6666666666666666,\"#ed7953\"],[0.7777777777777778,\"#fb9f3a\"],[0.8888888888888888,\"#fdca26\"],[1.0,\"#f0f921\"]],\"type\":\"contour\"}],\"heatmapgl\":[{\"colorbar\":{\"outlinewidth\":0,\"ticks\":\"\"},\"colorscale\":[[0.0,\"#0d0887\"],[0.1111111111111111,\"#46039f\"],[0.2222222222222222,\"#7201a8\"],[0.3333333333333333,\"#9c179e\"],[0.4444444444444444,\"#bd3786\"],[0.5555555555555556,\"#d8576b\"],[0.6666666666666666,\"#ed7953\"],[0.7777777777777778,\"#fb9f3a\"],[0.8888888888888888,\"#fdca26\"],[1.0,\"#f0f921\"]],\"type\":\"heatmapgl\"}],\"heatmap\":[{\"colorbar\":{\"outlinewidth\":0,\"ticks\":\"\"},\"colorscale\":[[0.0,\"#0d0887\"],[0.1111111111111111,\"#46039f\"],[0.2222222222222222,\"#7201a8\"],[0.3333333333333333,\"#9c179e\"],[0.4444444444444444,\"#bd3786\"],[0.5555555555555556,\"#d8576b\"],[0.6666666666666666,\"#ed7953\"],[0.7777777777777778,\"#fb9f3a\"],[0.8888888888888888,\"#fdca26\"],[1.0,\"#f0f921\"]],\"type\":\"heatmap\"}],\"histogram2dcontour\":[{\"colorbar\":{\"outlinewidth\":0,\"ticks\":\"\"},\"colorscale\":[[0.0,\"#0d0887\"],[0.1111111111111111,\"#46039f\"],[0.2222222222222222,\"#7201a8\"],[0.3333333333333333,\"#9c179e\"],[0.4444444444444444,\"#bd3786\"],[0.5555555555555556,\"#d8576b\"],[0.6666666666666666,\"#ed7953\"],[0.7777777777777778,\"#fb9f3a\"],[0.8888888888888888,\"#fdca26\"],[1.0,\"#f0f921\"]],\"type\":\"histogram2dcontour\"}],\"histogram2d\":[{\"colorbar\":{\"outlinewidth\":0,\"ticks\":\"\"},\"colorscale\":[[0.0,\"#0d0887\"],[0.1111111111111111,\"#46039f\"],[0.2222222222222222,\"#7201a8\"],[0.3333333333333333,\"#9c179e\"],[0.4444444444444444,\"#bd3786\"],[0.5555555555555556,\"#d8576b\"],[0.6666666666666666,\"#ed7953\"],[0.7777777777777778,\"#fb9f3a\"],[0.8888888888888888,\"#fdca26\"],[1.0,\"#f0f921\"]],\"type\":\"histogram2d\"}],\"histogram\":[{\"marker\":{\"pattern\":{\"fillmode\":\"overlay\",\"size\":10,\"solidity\":0.2}},\"type\":\"histogram\"}],\"mesh3d\":[{\"colorbar\":{\"outlinewidth\":0,\"ticks\":\"\"},\"type\":\"mesh3d\"}],\"parcoords\":[{\"line\":{\"colorbar\":{\"outlinewidth\":0,\"ticks\":\"\"}},\"type\":\"parcoords\"}],\"pie\":[{\"automargin\":true,\"type\":\"pie\"}],\"scatter3d\":[{\"line\":{\"colorbar\":{\"outlinewidth\":0,\"ticks\":\"\"}},\"marker\":{\"colorbar\":{\"outlinewidth\":0,\"ticks\":\"\"}},\"type\":\"scatter3d\"}],\"scattercarpet\":[{\"marker\":{\"colorbar\":{\"outlinewidth\":0,\"ticks\":\"\"}},\"type\":\"scattercarpet\"}],\"scattergeo\":[{\"marker\":{\"colorbar\":{\"outlinewidth\":0,\"ticks\":\"\"}},\"type\":\"scattergeo\"}],\"scattergl\":[{\"marker\":{\"colorbar\":{\"outlinewidth\":0,\"ticks\":\"\"}},\"type\":\"scattergl\"}],\"scattermapbox\":[{\"marker\":{\"colorbar\":{\"outlinewidth\":0,\"ticks\":\"\"}},\"type\":\"scattermapbox\"}],\"scatterpolargl\":[{\"marker\":{\"colorbar\":{\"outlinewidth\":0,\"ticks\":\"\"}},\"type\":\"scatterpolargl\"}],\"scatterpolar\":[{\"marker\":{\"colorbar\":{\"outlinewidth\":0,\"ticks\":\"\"}},\"type\":\"scatterpolar\"}],\"scatter\":[{\"marker\":{\"colorbar\":{\"outlinewidth\":0,\"ticks\":\"\"}},\"type\":\"scatter\"}],\"scatterternary\":[{\"marker\":{\"colorbar\":{\"outlinewidth\":0,\"ticks\":\"\"}},\"type\":\"scatterternary\"}],\"surface\":[{\"colorbar\":{\"outlinewidth\":0,\"ticks\":\"\"},\"colorscale\":[[0.0,\"#0d0887\"],[0.1111111111111111,\"#46039f\"],[0.2222222222222222,\"#7201a8\"],[0.3333333333333333,\"#9c179e\"],[0.4444444444444444,\"#bd3786\"],[0.5555555555555556,\"#d8576b\"],[0.6666666666666666,\"#ed7953\"],[0.7777777777777778,\"#fb9f3a\"],[0.8888888888888888,\"#fdca26\"],[1.0,\"#f0f921\"]],\"type\":\"surface\"}],\"table\":[{\"cells\":{\"fill\":{\"color\":\"#EBF0F8\"},\"line\":{\"color\":\"white\"}},\"header\":{\"fill\":{\"color\":\"#C8D4E3\"},\"line\":{\"color\":\"white\"}},\"type\":\"table\"}]},\"layout\":{\"annotationdefaults\":{\"arrowcolor\":\"#2a3f5f\",\"arrowhead\":0,\"arrowwidth\":1},\"autotypenumbers\":\"strict\",\"coloraxis\":{\"colorbar\":{\"outlinewidth\":0,\"ticks\":\"\"}},\"colorscale\":{\"diverging\":[[0,\"#8e0152\"],[0.1,\"#c51b7d\"],[0.2,\"#de77ae\"],[0.3,\"#f1b6da\"],[0.4,\"#fde0ef\"],[0.5,\"#f7f7f7\"],[0.6,\"#e6f5d0\"],[0.7,\"#b8e186\"],[0.8,\"#7fbc41\"],[0.9,\"#4d9221\"],[1,\"#276419\"]],\"sequential\":[[0.0,\"#0d0887\"],[0.1111111111111111,\"#46039f\"],[0.2222222222222222,\"#7201a8\"],[0.3333333333333333,\"#9c179e\"],[0.4444444444444444,\"#bd3786\"],[0.5555555555555556,\"#d8576b\"],[0.6666666666666666,\"#ed7953\"],[0.7777777777777778,\"#fb9f3a\"],[0.8888888888888888,\"#fdca26\"],[1.0,\"#f0f921\"]],\"sequentialminus\":[[0.0,\"#0d0887\"],[0.1111111111111111,\"#46039f\"],[0.2222222222222222,\"#7201a8\"],[0.3333333333333333,\"#9c179e\"],[0.4444444444444444,\"#bd3786\"],[0.5555555555555556,\"#d8576b\"],[0.6666666666666666,\"#ed7953\"],[0.7777777777777778,\"#fb9f3a\"],[0.8888888888888888,\"#fdca26\"],[1.0,\"#f0f921\"]]},\"colorway\":[\"#636efa\",\"#EF553B\",\"#00cc96\",\"#ab63fa\",\"#FFA15A\",\"#19d3f3\",\"#FF6692\",\"#B6E880\",\"#FF97FF\",\"#FECB52\"],\"font\":{\"color\":\"#2a3f5f\"},\"geo\":{\"bgcolor\":\"white\",\"lakecolor\":\"white\",\"landcolor\":\"#E5ECF6\",\"showlakes\":true,\"showland\":true,\"subunitcolor\":\"white\"},\"hoverlabel\":{\"align\":\"left\"},\"hovermode\":\"closest\",\"mapbox\":{\"style\":\"light\"},\"paper_bgcolor\":\"white\",\"plot_bgcolor\":\"#E5ECF6\",\"polar\":{\"angularaxis\":{\"gridcolor\":\"white\",\"linecolor\":\"white\",\"ticks\":\"\"},\"bgcolor\":\"#E5ECF6\",\"radialaxis\":{\"gridcolor\":\"white\",\"linecolor\":\"white\",\"ticks\":\"\"}},\"scene\":{\"xaxis\":{\"backgroundcolor\":\"#E5ECF6\",\"gridcolor\":\"white\",\"gridwidth\":2,\"linecolor\":\"white\",\"showbackground\":true,\"ticks\":\"\",\"zerolinecolor\":\"white\"},\"yaxis\":{\"backgroundcolor\":\"#E5ECF6\",\"gridcolor\":\"white\",\"gridwidth\":2,\"linecolor\":\"white\",\"showbackground\":true,\"ticks\":\"\",\"zerolinecolor\":\"white\"},\"zaxis\":{\"backgroundcolor\":\"#E5ECF6\",\"gridcolor\":\"white\",\"gridwidth\":2,\"linecolor\":\"white\",\"showbackground\":true,\"ticks\":\"\",\"zerolinecolor\":\"white\"}},\"shapedefaults\":{\"line\":{\"color\":\"#2a3f5f\"}},\"ternary\":{\"aaxis\":{\"gridcolor\":\"white\",\"linecolor\":\"white\",\"ticks\":\"\"},\"baxis\":{\"gridcolor\":\"white\",\"linecolor\":\"white\",\"ticks\":\"\"},\"bgcolor\":\"#E5ECF6\",\"caxis\":{\"gridcolor\":\"white\",\"linecolor\":\"white\",\"ticks\":\"\"}},\"title\":{\"x\":0.05},\"xaxis\":{\"automargin\":true,\"gridcolor\":\"white\",\"linecolor\":\"white\",\"ticks\":\"\",\"title\":{\"standoff\":15},\"zerolinecolor\":\"white\",\"zerolinewidth\":2},\"yaxis\":{\"automargin\":true,\"gridcolor\":\"white\",\"linecolor\":\"white\",\"ticks\":\"\",\"title\":{\"standoff\":15},\"zerolinecolor\":\"white\",\"zerolinewidth\":2}}},\"title\":{\"font\":{\"color\":\"#4D5663\"}},\"xaxis\":{\"gridcolor\":\"#E1E5ED\",\"showgrid\":true,\"tickfont\":{\"color\":\"#4D5663\"},\"title\":{\"font\":{\"color\":\"#4D5663\"},\"text\":\"age\"},\"zerolinecolor\":\"#E1E5ED\"},\"yaxis\":{\"gridcolor\":\"#E1E5ED\",\"showgrid\":true,\"tickfont\":{\"color\":\"#4D5663\"},\"title\":{\"font\":{\"color\":\"#4D5663\"},\"text\":\"Number of Person\"},\"zerolinecolor\":\"#E1E5ED\"}},                        {\"showLink\": true, \"linkText\": \"Export to plot.ly\", \"plotlyServerURL\": \"https://plot.ly\", \"responsive\": true}                    ).then(function(){\n",
       "                            \n",
       "var gd = document.getElementById('9a495384-208e-44e2-a65c-ee94c72cd638');\n",
       "var x = new MutationObserver(function (mutations, observer) {{\n",
       "        var display = window.getComputedStyle(gd).display;\n",
       "        if (!display || display === 'none') {{\n",
       "            console.log([gd, 'removed!']);\n",
       "            Plotly.purge(gd);\n",
       "            observer.disconnect();\n",
       "        }}\n",
       "}});\n",
       "\n",
       "// Listen for the removal of the full notebook cells\n",
       "var notebookContainer = gd.closest('#notebook-container');\n",
       "if (notebookContainer) {{\n",
       "    x.observe(notebookContainer, {childList: true});\n",
       "}}\n",
       "\n",
       "// Listen for the clearing of the current output cell\n",
       "var outputEl = gd.closest('.output');\n",
       "if (outputEl) {{\n",
       "    x.observe(outputEl, {childList: true});\n",
       "}}\n",
       "\n",
       "                        })                };                });            </script>        </div>"
      ]
     },
     "metadata": {},
     "output_type": "display_data"
    }
   ],
   "source": [
    "(df3['age_bins']).value_counts().iplot(kind='bar',xTitle='age', yTitle='Number of Person')"
   ]
  },
  {
   "cell_type": "code",
   "execution_count": 36,
   "id": "64b1280e",
   "metadata": {},
   "outputs": [
    {
     "data": {
      "application/vnd.plotly.v1+json": {
       "config": {
        "linkText": "Export to plot.ly",
        "plotlyServerURL": "https://plot.ly",
        "showLink": true
       },
       "data": [
        {
         "marker": {
          "color": "rgba(219, 64, 82, 0.6)",
          "line": {
           "color": "rgba(219, 64, 82, 1.0)",
           "width": 1
          }
         },
         "name": "salary_bins",
         "orientation": "v",
         "text": "",
         "type": "bar",
         "x": [
          "[30k-35k]",
          "[35k-40k]",
          "[40k-45k]",
          "[45k-50k]",
          "[50k-55k]",
          "[60k-65k]",
          "[55k-60k]",
          "[100k-200k]",
          "[65k-70k]",
          "[25k-30k]",
          "[70k-75k]",
          "[75k-80k]",
          "[80k-85k]",
          "[85k-90k]",
          "[90k-95k]",
          "[95k-100k]",
          "[200k-300k]",
          "[500k+]",
          "[20k-25k]"
         ],
         "y": [
          379,
          369,
          290,
          253,
          186,
          143,
          135,
          133,
          112,
          99,
          76,
          65,
          49,
          33,
          31,
          23,
          8,
          1,
          1
         ]
        }
       ],
       "layout": {
        "legend": {
         "bgcolor": "#F5F6F9",
         "font": {
          "color": "#4D5663"
         }
        },
        "paper_bgcolor": "#F5F6F9",
        "plot_bgcolor": "#F5F6F9",
        "template": {
         "data": {
          "bar": [
           {
            "error_x": {
             "color": "#2a3f5f"
            },
            "error_y": {
             "color": "#2a3f5f"
            },
            "marker": {
             "line": {
              "color": "#E5ECF6",
              "width": 0.5
             },
             "pattern": {
              "fillmode": "overlay",
              "size": 10,
              "solidity": 0.2
             }
            },
            "type": "bar"
           }
          ],
          "barpolar": [
           {
            "marker": {
             "line": {
              "color": "#E5ECF6",
              "width": 0.5
             },
             "pattern": {
              "fillmode": "overlay",
              "size": 10,
              "solidity": 0.2
             }
            },
            "type": "barpolar"
           }
          ],
          "carpet": [
           {
            "aaxis": {
             "endlinecolor": "#2a3f5f",
             "gridcolor": "white",
             "linecolor": "white",
             "minorgridcolor": "white",
             "startlinecolor": "#2a3f5f"
            },
            "baxis": {
             "endlinecolor": "#2a3f5f",
             "gridcolor": "white",
             "linecolor": "white",
             "minorgridcolor": "white",
             "startlinecolor": "#2a3f5f"
            },
            "type": "carpet"
           }
          ],
          "choropleth": [
           {
            "colorbar": {
             "outlinewidth": 0,
             "ticks": ""
            },
            "type": "choropleth"
           }
          ],
          "contour": [
           {
            "colorbar": {
             "outlinewidth": 0,
             "ticks": ""
            },
            "colorscale": [
             [
              0,
              "#0d0887"
             ],
             [
              0.1111111111111111,
              "#46039f"
             ],
             [
              0.2222222222222222,
              "#7201a8"
             ],
             [
              0.3333333333333333,
              "#9c179e"
             ],
             [
              0.4444444444444444,
              "#bd3786"
             ],
             [
              0.5555555555555556,
              "#d8576b"
             ],
             [
              0.6666666666666666,
              "#ed7953"
             ],
             [
              0.7777777777777778,
              "#fb9f3a"
             ],
             [
              0.8888888888888888,
              "#fdca26"
             ],
             [
              1,
              "#f0f921"
             ]
            ],
            "type": "contour"
           }
          ],
          "contourcarpet": [
           {
            "colorbar": {
             "outlinewidth": 0,
             "ticks": ""
            },
            "type": "contourcarpet"
           }
          ],
          "heatmap": [
           {
            "colorbar": {
             "outlinewidth": 0,
             "ticks": ""
            },
            "colorscale": [
             [
              0,
              "#0d0887"
             ],
             [
              0.1111111111111111,
              "#46039f"
             ],
             [
              0.2222222222222222,
              "#7201a8"
             ],
             [
              0.3333333333333333,
              "#9c179e"
             ],
             [
              0.4444444444444444,
              "#bd3786"
             ],
             [
              0.5555555555555556,
              "#d8576b"
             ],
             [
              0.6666666666666666,
              "#ed7953"
             ],
             [
              0.7777777777777778,
              "#fb9f3a"
             ],
             [
              0.8888888888888888,
              "#fdca26"
             ],
             [
              1,
              "#f0f921"
             ]
            ],
            "type": "heatmap"
           }
          ],
          "heatmapgl": [
           {
            "colorbar": {
             "outlinewidth": 0,
             "ticks": ""
            },
            "colorscale": [
             [
              0,
              "#0d0887"
             ],
             [
              0.1111111111111111,
              "#46039f"
             ],
             [
              0.2222222222222222,
              "#7201a8"
             ],
             [
              0.3333333333333333,
              "#9c179e"
             ],
             [
              0.4444444444444444,
              "#bd3786"
             ],
             [
              0.5555555555555556,
              "#d8576b"
             ],
             [
              0.6666666666666666,
              "#ed7953"
             ],
             [
              0.7777777777777778,
              "#fb9f3a"
             ],
             [
              0.8888888888888888,
              "#fdca26"
             ],
             [
              1,
              "#f0f921"
             ]
            ],
            "type": "heatmapgl"
           }
          ],
          "histogram": [
           {
            "marker": {
             "pattern": {
              "fillmode": "overlay",
              "size": 10,
              "solidity": 0.2
             }
            },
            "type": "histogram"
           }
          ],
          "histogram2d": [
           {
            "colorbar": {
             "outlinewidth": 0,
             "ticks": ""
            },
            "colorscale": [
             [
              0,
              "#0d0887"
             ],
             [
              0.1111111111111111,
              "#46039f"
             ],
             [
              0.2222222222222222,
              "#7201a8"
             ],
             [
              0.3333333333333333,
              "#9c179e"
             ],
             [
              0.4444444444444444,
              "#bd3786"
             ],
             [
              0.5555555555555556,
              "#d8576b"
             ],
             [
              0.6666666666666666,
              "#ed7953"
             ],
             [
              0.7777777777777778,
              "#fb9f3a"
             ],
             [
              0.8888888888888888,
              "#fdca26"
             ],
             [
              1,
              "#f0f921"
             ]
            ],
            "type": "histogram2d"
           }
          ],
          "histogram2dcontour": [
           {
            "colorbar": {
             "outlinewidth": 0,
             "ticks": ""
            },
            "colorscale": [
             [
              0,
              "#0d0887"
             ],
             [
              0.1111111111111111,
              "#46039f"
             ],
             [
              0.2222222222222222,
              "#7201a8"
             ],
             [
              0.3333333333333333,
              "#9c179e"
             ],
             [
              0.4444444444444444,
              "#bd3786"
             ],
             [
              0.5555555555555556,
              "#d8576b"
             ],
             [
              0.6666666666666666,
              "#ed7953"
             ],
             [
              0.7777777777777778,
              "#fb9f3a"
             ],
             [
              0.8888888888888888,
              "#fdca26"
             ],
             [
              1,
              "#f0f921"
             ]
            ],
            "type": "histogram2dcontour"
           }
          ],
          "mesh3d": [
           {
            "colorbar": {
             "outlinewidth": 0,
             "ticks": ""
            },
            "type": "mesh3d"
           }
          ],
          "parcoords": [
           {
            "line": {
             "colorbar": {
              "outlinewidth": 0,
              "ticks": ""
             }
            },
            "type": "parcoords"
           }
          ],
          "pie": [
           {
            "automargin": true,
            "type": "pie"
           }
          ],
          "scatter": [
           {
            "marker": {
             "colorbar": {
              "outlinewidth": 0,
              "ticks": ""
             }
            },
            "type": "scatter"
           }
          ],
          "scatter3d": [
           {
            "line": {
             "colorbar": {
              "outlinewidth": 0,
              "ticks": ""
             }
            },
            "marker": {
             "colorbar": {
              "outlinewidth": 0,
              "ticks": ""
             }
            },
            "type": "scatter3d"
           }
          ],
          "scattercarpet": [
           {
            "marker": {
             "colorbar": {
              "outlinewidth": 0,
              "ticks": ""
             }
            },
            "type": "scattercarpet"
           }
          ],
          "scattergeo": [
           {
            "marker": {
             "colorbar": {
              "outlinewidth": 0,
              "ticks": ""
             }
            },
            "type": "scattergeo"
           }
          ],
          "scattergl": [
           {
            "marker": {
             "colorbar": {
              "outlinewidth": 0,
              "ticks": ""
             }
            },
            "type": "scattergl"
           }
          ],
          "scattermapbox": [
           {
            "marker": {
             "colorbar": {
              "outlinewidth": 0,
              "ticks": ""
             }
            },
            "type": "scattermapbox"
           }
          ],
          "scatterpolar": [
           {
            "marker": {
             "colorbar": {
              "outlinewidth": 0,
              "ticks": ""
             }
            },
            "type": "scatterpolar"
           }
          ],
          "scatterpolargl": [
           {
            "marker": {
             "colorbar": {
              "outlinewidth": 0,
              "ticks": ""
             }
            },
            "type": "scatterpolargl"
           }
          ],
          "scatterternary": [
           {
            "marker": {
             "colorbar": {
              "outlinewidth": 0,
              "ticks": ""
             }
            },
            "type": "scatterternary"
           }
          ],
          "surface": [
           {
            "colorbar": {
             "outlinewidth": 0,
             "ticks": ""
            },
            "colorscale": [
             [
              0,
              "#0d0887"
             ],
             [
              0.1111111111111111,
              "#46039f"
             ],
             [
              0.2222222222222222,
              "#7201a8"
             ],
             [
              0.3333333333333333,
              "#9c179e"
             ],
             [
              0.4444444444444444,
              "#bd3786"
             ],
             [
              0.5555555555555556,
              "#d8576b"
             ],
             [
              0.6666666666666666,
              "#ed7953"
             ],
             [
              0.7777777777777778,
              "#fb9f3a"
             ],
             [
              0.8888888888888888,
              "#fdca26"
             ],
             [
              1,
              "#f0f921"
             ]
            ],
            "type": "surface"
           }
          ],
          "table": [
           {
            "cells": {
             "fill": {
              "color": "#EBF0F8"
             },
             "line": {
              "color": "white"
             }
            },
            "header": {
             "fill": {
              "color": "#C8D4E3"
             },
             "line": {
              "color": "white"
             }
            },
            "type": "table"
           }
          ]
         },
         "layout": {
          "annotationdefaults": {
           "arrowcolor": "#2a3f5f",
           "arrowhead": 0,
           "arrowwidth": 1
          },
          "autotypenumbers": "strict",
          "coloraxis": {
           "colorbar": {
            "outlinewidth": 0,
            "ticks": ""
           }
          },
          "colorscale": {
           "diverging": [
            [
             0,
             "#8e0152"
            ],
            [
             0.1,
             "#c51b7d"
            ],
            [
             0.2,
             "#de77ae"
            ],
            [
             0.3,
             "#f1b6da"
            ],
            [
             0.4,
             "#fde0ef"
            ],
            [
             0.5,
             "#f7f7f7"
            ],
            [
             0.6,
             "#e6f5d0"
            ],
            [
             0.7,
             "#b8e186"
            ],
            [
             0.8,
             "#7fbc41"
            ],
            [
             0.9,
             "#4d9221"
            ],
            [
             1,
             "#276419"
            ]
           ],
           "sequential": [
            [
             0,
             "#0d0887"
            ],
            [
             0.1111111111111111,
             "#46039f"
            ],
            [
             0.2222222222222222,
             "#7201a8"
            ],
            [
             0.3333333333333333,
             "#9c179e"
            ],
            [
             0.4444444444444444,
             "#bd3786"
            ],
            [
             0.5555555555555556,
             "#d8576b"
            ],
            [
             0.6666666666666666,
             "#ed7953"
            ],
            [
             0.7777777777777778,
             "#fb9f3a"
            ],
            [
             0.8888888888888888,
             "#fdca26"
            ],
            [
             1,
             "#f0f921"
            ]
           ],
           "sequentialminus": [
            [
             0,
             "#0d0887"
            ],
            [
             0.1111111111111111,
             "#46039f"
            ],
            [
             0.2222222222222222,
             "#7201a8"
            ],
            [
             0.3333333333333333,
             "#9c179e"
            ],
            [
             0.4444444444444444,
             "#bd3786"
            ],
            [
             0.5555555555555556,
             "#d8576b"
            ],
            [
             0.6666666666666666,
             "#ed7953"
            ],
            [
             0.7777777777777778,
             "#fb9f3a"
            ],
            [
             0.8888888888888888,
             "#fdca26"
            ],
            [
             1,
             "#f0f921"
            ]
           ]
          },
          "colorway": [
           "#636efa",
           "#EF553B",
           "#00cc96",
           "#ab63fa",
           "#FFA15A",
           "#19d3f3",
           "#FF6692",
           "#B6E880",
           "#FF97FF",
           "#FECB52"
          ],
          "font": {
           "color": "#2a3f5f"
          },
          "geo": {
           "bgcolor": "white",
           "lakecolor": "white",
           "landcolor": "#E5ECF6",
           "showlakes": true,
           "showland": true,
           "subunitcolor": "white"
          },
          "hoverlabel": {
           "align": "left"
          },
          "hovermode": "closest",
          "mapbox": {
           "style": "light"
          },
          "paper_bgcolor": "white",
          "plot_bgcolor": "#E5ECF6",
          "polar": {
           "angularaxis": {
            "gridcolor": "white",
            "linecolor": "white",
            "ticks": ""
           },
           "bgcolor": "#E5ECF6",
           "radialaxis": {
            "gridcolor": "white",
            "linecolor": "white",
            "ticks": ""
           }
          },
          "scene": {
           "xaxis": {
            "backgroundcolor": "#E5ECF6",
            "gridcolor": "white",
            "gridwidth": 2,
            "linecolor": "white",
            "showbackground": true,
            "ticks": "",
            "zerolinecolor": "white"
           },
           "yaxis": {
            "backgroundcolor": "#E5ECF6",
            "gridcolor": "white",
            "gridwidth": 2,
            "linecolor": "white",
            "showbackground": true,
            "ticks": "",
            "zerolinecolor": "white"
           },
           "zaxis": {
            "backgroundcolor": "#E5ECF6",
            "gridcolor": "white",
            "gridwidth": 2,
            "linecolor": "white",
            "showbackground": true,
            "ticks": "",
            "zerolinecolor": "white"
           }
          },
          "shapedefaults": {
           "line": {
            "color": "#2a3f5f"
           }
          },
          "ternary": {
           "aaxis": {
            "gridcolor": "white",
            "linecolor": "white",
            "ticks": ""
           },
           "baxis": {
            "gridcolor": "white",
            "linecolor": "white",
            "ticks": ""
           },
           "bgcolor": "#E5ECF6",
           "caxis": {
            "gridcolor": "white",
            "linecolor": "white",
            "ticks": ""
           }
          },
          "title": {
           "x": 0.05
          },
          "xaxis": {
           "automargin": true,
           "gridcolor": "white",
           "linecolor": "white",
           "ticks": "",
           "title": {
            "standoff": 15
           },
           "zerolinecolor": "white",
           "zerolinewidth": 2
          },
          "yaxis": {
           "automargin": true,
           "gridcolor": "white",
           "linecolor": "white",
           "ticks": "",
           "title": {
            "standoff": 15
           },
           "zerolinecolor": "white",
           "zerolinewidth": 2
          }
         }
        },
        "title": {
         "font": {
          "color": "#4D5663"
         }
        },
        "xaxis": {
         "gridcolor": "#E1E5ED",
         "showgrid": true,
         "tickfont": {
          "color": "#4D5663"
         },
         "title": {
          "font": {
           "color": "#4D5663"
          },
          "text": "salary_amount"
         },
         "zerolinecolor": "#E1E5ED"
        },
        "yaxis": {
         "gridcolor": "#E1E5ED",
         "showgrid": true,
         "tickfont": {
          "color": "#4D5663"
         },
         "title": {
          "font": {
           "color": "#4D5663"
          },
          "text": "Number of Person"
         },
         "zerolinecolor": "#E1E5ED"
        }
       }
      },
      "text/html": [
       "<div>                            <div id=\"9d73c7b8-3e77-4b2e-b8fe-d83cc3a95a18\" class=\"plotly-graph-div\" style=\"height:525px; width:100%;\"></div>            <script type=\"text/javascript\">                require([\"plotly\"], function(Plotly) {                    window.PLOTLYENV=window.PLOTLYENV || {};\n",
       "                    window.PLOTLYENV.BASE_URL='https://plot.ly';                                    if (document.getElementById(\"9d73c7b8-3e77-4b2e-b8fe-d83cc3a95a18\")) {                    Plotly.newPlot(                        \"9d73c7b8-3e77-4b2e-b8fe-d83cc3a95a18\",                        [{\"marker\":{\"color\":\"rgba(219, 64, 82, 0.6)\",\"line\":{\"color\":\"rgba(219, 64, 82, 1.0)\",\"width\":1}},\"name\":\"salary_bins\",\"orientation\":\"v\",\"text\":\"\",\"x\":[\"[30k-35k]\",\"[35k-40k]\",\"[40k-45k]\",\"[45k-50k]\",\"[50k-55k]\",\"[60k-65k]\",\"[55k-60k]\",\"[100k-200k]\",\"[65k-70k]\",\"[25k-30k]\",\"[70k-75k]\",\"[75k-80k]\",\"[80k-85k]\",\"[85k-90k]\",\"[90k-95k]\",\"[95k-100k]\",\"[200k-300k]\",\"[500k+]\",\"[20k-25k]\"],\"y\":[379,369,290,253,186,143,135,133,112,99,76,65,49,33,31,23,8,1,1],\"type\":\"bar\"}],                        {\"legend\":{\"bgcolor\":\"#F5F6F9\",\"font\":{\"color\":\"#4D5663\"}},\"paper_bgcolor\":\"#F5F6F9\",\"plot_bgcolor\":\"#F5F6F9\",\"template\":{\"data\":{\"barpolar\":[{\"marker\":{\"line\":{\"color\":\"#E5ECF6\",\"width\":0.5},\"pattern\":{\"fillmode\":\"overlay\",\"size\":10,\"solidity\":0.2}},\"type\":\"barpolar\"}],\"bar\":[{\"error_x\":{\"color\":\"#2a3f5f\"},\"error_y\":{\"color\":\"#2a3f5f\"},\"marker\":{\"line\":{\"color\":\"#E5ECF6\",\"width\":0.5},\"pattern\":{\"fillmode\":\"overlay\",\"size\":10,\"solidity\":0.2}},\"type\":\"bar\"}],\"carpet\":[{\"aaxis\":{\"endlinecolor\":\"#2a3f5f\",\"gridcolor\":\"white\",\"linecolor\":\"white\",\"minorgridcolor\":\"white\",\"startlinecolor\":\"#2a3f5f\"},\"baxis\":{\"endlinecolor\":\"#2a3f5f\",\"gridcolor\":\"white\",\"linecolor\":\"white\",\"minorgridcolor\":\"white\",\"startlinecolor\":\"#2a3f5f\"},\"type\":\"carpet\"}],\"choropleth\":[{\"colorbar\":{\"outlinewidth\":0,\"ticks\":\"\"},\"type\":\"choropleth\"}],\"contourcarpet\":[{\"colorbar\":{\"outlinewidth\":0,\"ticks\":\"\"},\"type\":\"contourcarpet\"}],\"contour\":[{\"colorbar\":{\"outlinewidth\":0,\"ticks\":\"\"},\"colorscale\":[[0.0,\"#0d0887\"],[0.1111111111111111,\"#46039f\"],[0.2222222222222222,\"#7201a8\"],[0.3333333333333333,\"#9c179e\"],[0.4444444444444444,\"#bd3786\"],[0.5555555555555556,\"#d8576b\"],[0.6666666666666666,\"#ed7953\"],[0.7777777777777778,\"#fb9f3a\"],[0.8888888888888888,\"#fdca26\"],[1.0,\"#f0f921\"]],\"type\":\"contour\"}],\"heatmapgl\":[{\"colorbar\":{\"outlinewidth\":0,\"ticks\":\"\"},\"colorscale\":[[0.0,\"#0d0887\"],[0.1111111111111111,\"#46039f\"],[0.2222222222222222,\"#7201a8\"],[0.3333333333333333,\"#9c179e\"],[0.4444444444444444,\"#bd3786\"],[0.5555555555555556,\"#d8576b\"],[0.6666666666666666,\"#ed7953\"],[0.7777777777777778,\"#fb9f3a\"],[0.8888888888888888,\"#fdca26\"],[1.0,\"#f0f921\"]],\"type\":\"heatmapgl\"}],\"heatmap\":[{\"colorbar\":{\"outlinewidth\":0,\"ticks\":\"\"},\"colorscale\":[[0.0,\"#0d0887\"],[0.1111111111111111,\"#46039f\"],[0.2222222222222222,\"#7201a8\"],[0.3333333333333333,\"#9c179e\"],[0.4444444444444444,\"#bd3786\"],[0.5555555555555556,\"#d8576b\"],[0.6666666666666666,\"#ed7953\"],[0.7777777777777778,\"#fb9f3a\"],[0.8888888888888888,\"#fdca26\"],[1.0,\"#f0f921\"]],\"type\":\"heatmap\"}],\"histogram2dcontour\":[{\"colorbar\":{\"outlinewidth\":0,\"ticks\":\"\"},\"colorscale\":[[0.0,\"#0d0887\"],[0.1111111111111111,\"#46039f\"],[0.2222222222222222,\"#7201a8\"],[0.3333333333333333,\"#9c179e\"],[0.4444444444444444,\"#bd3786\"],[0.5555555555555556,\"#d8576b\"],[0.6666666666666666,\"#ed7953\"],[0.7777777777777778,\"#fb9f3a\"],[0.8888888888888888,\"#fdca26\"],[1.0,\"#f0f921\"]],\"type\":\"histogram2dcontour\"}],\"histogram2d\":[{\"colorbar\":{\"outlinewidth\":0,\"ticks\":\"\"},\"colorscale\":[[0.0,\"#0d0887\"],[0.1111111111111111,\"#46039f\"],[0.2222222222222222,\"#7201a8\"],[0.3333333333333333,\"#9c179e\"],[0.4444444444444444,\"#bd3786\"],[0.5555555555555556,\"#d8576b\"],[0.6666666666666666,\"#ed7953\"],[0.7777777777777778,\"#fb9f3a\"],[0.8888888888888888,\"#fdca26\"],[1.0,\"#f0f921\"]],\"type\":\"histogram2d\"}],\"histogram\":[{\"marker\":{\"pattern\":{\"fillmode\":\"overlay\",\"size\":10,\"solidity\":0.2}},\"type\":\"histogram\"}],\"mesh3d\":[{\"colorbar\":{\"outlinewidth\":0,\"ticks\":\"\"},\"type\":\"mesh3d\"}],\"parcoords\":[{\"line\":{\"colorbar\":{\"outlinewidth\":0,\"ticks\":\"\"}},\"type\":\"parcoords\"}],\"pie\":[{\"automargin\":true,\"type\":\"pie\"}],\"scatter3d\":[{\"line\":{\"colorbar\":{\"outlinewidth\":0,\"ticks\":\"\"}},\"marker\":{\"colorbar\":{\"outlinewidth\":0,\"ticks\":\"\"}},\"type\":\"scatter3d\"}],\"scattercarpet\":[{\"marker\":{\"colorbar\":{\"outlinewidth\":0,\"ticks\":\"\"}},\"type\":\"scattercarpet\"}],\"scattergeo\":[{\"marker\":{\"colorbar\":{\"outlinewidth\":0,\"ticks\":\"\"}},\"type\":\"scattergeo\"}],\"scattergl\":[{\"marker\":{\"colorbar\":{\"outlinewidth\":0,\"ticks\":\"\"}},\"type\":\"scattergl\"}],\"scattermapbox\":[{\"marker\":{\"colorbar\":{\"outlinewidth\":0,\"ticks\":\"\"}},\"type\":\"scattermapbox\"}],\"scatterpolargl\":[{\"marker\":{\"colorbar\":{\"outlinewidth\":0,\"ticks\":\"\"}},\"type\":\"scatterpolargl\"}],\"scatterpolar\":[{\"marker\":{\"colorbar\":{\"outlinewidth\":0,\"ticks\":\"\"}},\"type\":\"scatterpolar\"}],\"scatter\":[{\"marker\":{\"colorbar\":{\"outlinewidth\":0,\"ticks\":\"\"}},\"type\":\"scatter\"}],\"scatterternary\":[{\"marker\":{\"colorbar\":{\"outlinewidth\":0,\"ticks\":\"\"}},\"type\":\"scatterternary\"}],\"surface\":[{\"colorbar\":{\"outlinewidth\":0,\"ticks\":\"\"},\"colorscale\":[[0.0,\"#0d0887\"],[0.1111111111111111,\"#46039f\"],[0.2222222222222222,\"#7201a8\"],[0.3333333333333333,\"#9c179e\"],[0.4444444444444444,\"#bd3786\"],[0.5555555555555556,\"#d8576b\"],[0.6666666666666666,\"#ed7953\"],[0.7777777777777778,\"#fb9f3a\"],[0.8888888888888888,\"#fdca26\"],[1.0,\"#f0f921\"]],\"type\":\"surface\"}],\"table\":[{\"cells\":{\"fill\":{\"color\":\"#EBF0F8\"},\"line\":{\"color\":\"white\"}},\"header\":{\"fill\":{\"color\":\"#C8D4E3\"},\"line\":{\"color\":\"white\"}},\"type\":\"table\"}]},\"layout\":{\"annotationdefaults\":{\"arrowcolor\":\"#2a3f5f\",\"arrowhead\":0,\"arrowwidth\":1},\"autotypenumbers\":\"strict\",\"coloraxis\":{\"colorbar\":{\"outlinewidth\":0,\"ticks\":\"\"}},\"colorscale\":{\"diverging\":[[0,\"#8e0152\"],[0.1,\"#c51b7d\"],[0.2,\"#de77ae\"],[0.3,\"#f1b6da\"],[0.4,\"#fde0ef\"],[0.5,\"#f7f7f7\"],[0.6,\"#e6f5d0\"],[0.7,\"#b8e186\"],[0.8,\"#7fbc41\"],[0.9,\"#4d9221\"],[1,\"#276419\"]],\"sequential\":[[0.0,\"#0d0887\"],[0.1111111111111111,\"#46039f\"],[0.2222222222222222,\"#7201a8\"],[0.3333333333333333,\"#9c179e\"],[0.4444444444444444,\"#bd3786\"],[0.5555555555555556,\"#d8576b\"],[0.6666666666666666,\"#ed7953\"],[0.7777777777777778,\"#fb9f3a\"],[0.8888888888888888,\"#fdca26\"],[1.0,\"#f0f921\"]],\"sequentialminus\":[[0.0,\"#0d0887\"],[0.1111111111111111,\"#46039f\"],[0.2222222222222222,\"#7201a8\"],[0.3333333333333333,\"#9c179e\"],[0.4444444444444444,\"#bd3786\"],[0.5555555555555556,\"#d8576b\"],[0.6666666666666666,\"#ed7953\"],[0.7777777777777778,\"#fb9f3a\"],[0.8888888888888888,\"#fdca26\"],[1.0,\"#f0f921\"]]},\"colorway\":[\"#636efa\",\"#EF553B\",\"#00cc96\",\"#ab63fa\",\"#FFA15A\",\"#19d3f3\",\"#FF6692\",\"#B6E880\",\"#FF97FF\",\"#FECB52\"],\"font\":{\"color\":\"#2a3f5f\"},\"geo\":{\"bgcolor\":\"white\",\"lakecolor\":\"white\",\"landcolor\":\"#E5ECF6\",\"showlakes\":true,\"showland\":true,\"subunitcolor\":\"white\"},\"hoverlabel\":{\"align\":\"left\"},\"hovermode\":\"closest\",\"mapbox\":{\"style\":\"light\"},\"paper_bgcolor\":\"white\",\"plot_bgcolor\":\"#E5ECF6\",\"polar\":{\"angularaxis\":{\"gridcolor\":\"white\",\"linecolor\":\"white\",\"ticks\":\"\"},\"bgcolor\":\"#E5ECF6\",\"radialaxis\":{\"gridcolor\":\"white\",\"linecolor\":\"white\",\"ticks\":\"\"}},\"scene\":{\"xaxis\":{\"backgroundcolor\":\"#E5ECF6\",\"gridcolor\":\"white\",\"gridwidth\":2,\"linecolor\":\"white\",\"showbackground\":true,\"ticks\":\"\",\"zerolinecolor\":\"white\"},\"yaxis\":{\"backgroundcolor\":\"#E5ECF6\",\"gridcolor\":\"white\",\"gridwidth\":2,\"linecolor\":\"white\",\"showbackground\":true,\"ticks\":\"\",\"zerolinecolor\":\"white\"},\"zaxis\":{\"backgroundcolor\":\"#E5ECF6\",\"gridcolor\":\"white\",\"gridwidth\":2,\"linecolor\":\"white\",\"showbackground\":true,\"ticks\":\"\",\"zerolinecolor\":\"white\"}},\"shapedefaults\":{\"line\":{\"color\":\"#2a3f5f\"}},\"ternary\":{\"aaxis\":{\"gridcolor\":\"white\",\"linecolor\":\"white\",\"ticks\":\"\"},\"baxis\":{\"gridcolor\":\"white\",\"linecolor\":\"white\",\"ticks\":\"\"},\"bgcolor\":\"#E5ECF6\",\"caxis\":{\"gridcolor\":\"white\",\"linecolor\":\"white\",\"ticks\":\"\"}},\"title\":{\"x\":0.05},\"xaxis\":{\"automargin\":true,\"gridcolor\":\"white\",\"linecolor\":\"white\",\"ticks\":\"\",\"title\":{\"standoff\":15},\"zerolinecolor\":\"white\",\"zerolinewidth\":2},\"yaxis\":{\"automargin\":true,\"gridcolor\":\"white\",\"linecolor\":\"white\",\"ticks\":\"\",\"title\":{\"standoff\":15},\"zerolinecolor\":\"white\",\"zerolinewidth\":2}}},\"title\":{\"font\":{\"color\":\"#4D5663\"}},\"xaxis\":{\"gridcolor\":\"#E1E5ED\",\"showgrid\":true,\"tickfont\":{\"color\":\"#4D5663\"},\"title\":{\"font\":{\"color\":\"#4D5663\"},\"text\":\"salary_amount\"},\"zerolinecolor\":\"#E1E5ED\"},\"yaxis\":{\"gridcolor\":\"#E1E5ED\",\"showgrid\":true,\"tickfont\":{\"color\":\"#4D5663\"},\"title\":{\"font\":{\"color\":\"#4D5663\"},\"text\":\"Number of Person\"},\"zerolinecolor\":\"#E1E5ED\"}},                        {\"showLink\": true, \"linkText\": \"Export to plot.ly\", \"plotlyServerURL\": \"https://plot.ly\", \"responsive\": true}                    ).then(function(){\n",
       "                            \n",
       "var gd = document.getElementById('9d73c7b8-3e77-4b2e-b8fe-d83cc3a95a18');\n",
       "var x = new MutationObserver(function (mutations, observer) {{\n",
       "        var display = window.getComputedStyle(gd).display;\n",
       "        if (!display || display === 'none') {{\n",
       "            console.log([gd, 'removed!']);\n",
       "            Plotly.purge(gd);\n",
       "            observer.disconnect();\n",
       "        }}\n",
       "}});\n",
       "\n",
       "// Listen for the removal of the full notebook cells\n",
       "var notebookContainer = gd.closest('#notebook-container');\n",
       "if (notebookContainer) {{\n",
       "    x.observe(notebookContainer, {childList: true});\n",
       "}}\n",
       "\n",
       "// Listen for the clearing of the current output cell\n",
       "var outputEl = gd.closest('.output');\n",
       "if (outputEl) {{\n",
       "    x.observe(outputEl, {childList: true});\n",
       "}}\n",
       "\n",
       "                        })                };                });            </script>        </div>"
      ]
     },
     "metadata": {},
     "output_type": "display_data"
    }
   ],
   "source": [
    "(df3['salary_bins']).value_counts().iplot(kind='bar',xTitle='salary_amount', yTitle='Number of Person',color='red')"
   ]
  },
  {
   "cell_type": "code",
   "execution_count": 37,
   "id": "338ba35c",
   "metadata": {
    "scrolled": false
   },
   "outputs": [
    {
     "data": {
      "application/vnd.plotly.v1+json": {
       "config": {
        "linkText": "Export to plot.ly",
        "plotlyServerURL": "https://plot.ly",
        "showLink": true
       },
       "data": [
        {
         "marker": {
          "color": "rgba(0, 128, 0, 0.6)",
          "line": {
           "color": "rgba(0, 128, 0, 1.0)",
           "width": 1
          }
         },
         "name": "loan_bins",
         "orientation": "v",
         "text": "",
         "type": "bar",
         "x": [
          "[2k-10k]",
          "[11.5k-12k]",
          "[15.5k-16k]",
          "[10.5k-11k]",
          "[13.5k-14k]",
          "[12.5k-13k]",
          "[14.5k-15k]",
          "[17.5k-18k]",
          "[18.5k-19k]",
          "[16.5k-17k]",
          "[19.5k-20k]",
          "[13k-13.5k]",
          "[23.5k-24k]",
          "[22.5k-23k]",
          "[21.5k-22k]",
          "[20.5k-21k]",
          "[12k-12.5k]",
          "[11k-11.5k]",
          "[14k-14.5k]",
          "[26.5k-27k]",
          "[39.5k-40k]",
          "[27k-28k]",
          "[29.5k-30k]",
          "[20k-20.5k]",
          "[30.5k-31k]",
          "[25.5k-26k]",
          "[31.5k-32k]",
          "[22k-22.5k]",
          "55k+",
          "[19k-19.5k]",
          "[21k-21.5k]",
          "[24.5k-25k]",
          "[25k-25.5k]",
          "[38.5k-39k]",
          "[32.5k-33k]",
          "[28k-28.5k]",
          "[43.5k-44k]",
          "[34.5k-35k]",
          "[35k-35.5k]",
          "50k-55k",
          "[26k-26.5k]",
          "[28.5k-29k]",
          "[23k-23.5k]",
          "[29k-29.5k]",
          "[18k-18.5k]",
          "[36.5k-37k]",
          "[33k-33.5k]",
          "[17k-17.5k]",
          "[32k-32.5k]",
          "[40.5k-41k]",
          "44k-45k",
          "49k-50k",
          "[24k-24.5k]",
          "[35.5k-36k]",
          "46k-47k",
          "45k-46k",
          "[33.5k-34k]",
          "[42.5k-43k]",
          "[30k-30.5k]",
          "48k-49k",
          "[16k-16.5k]",
          "[36k-36.5k]",
          "[37.5k-38k]",
          "[37k-37.5k]",
          "[39k-39.5k]",
          "[43k-43.5k]"
         ],
         "y": [
          1128,
          141,
          92,
          88,
          83,
          79,
          78,
          59,
          58,
          51,
          47,
          36,
          30,
          28,
          27,
          27,
          23,
          21,
          19,
          18,
          16,
          16,
          15,
          14,
          14,
          13,
          12,
          11,
          10,
          10,
          10,
          9,
          8,
          8,
          8,
          6,
          5,
          5,
          5,
          4,
          4,
          4,
          3,
          3,
          3,
          3,
          3,
          3,
          3,
          2,
          2,
          2,
          2,
          2,
          2,
          2,
          2,
          1,
          1,
          1,
          1,
          1,
          1,
          1,
          1,
          1
         ]
        }
       ],
       "layout": {
        "legend": {
         "bgcolor": "#F5F6F9",
         "font": {
          "color": "#4D5663"
         }
        },
        "paper_bgcolor": "#F5F6F9",
        "plot_bgcolor": "#F5F6F9",
        "template": {
         "data": {
          "bar": [
           {
            "error_x": {
             "color": "#2a3f5f"
            },
            "error_y": {
             "color": "#2a3f5f"
            },
            "marker": {
             "line": {
              "color": "#E5ECF6",
              "width": 0.5
             },
             "pattern": {
              "fillmode": "overlay",
              "size": 10,
              "solidity": 0.2
             }
            },
            "type": "bar"
           }
          ],
          "barpolar": [
           {
            "marker": {
             "line": {
              "color": "#E5ECF6",
              "width": 0.5
             },
             "pattern": {
              "fillmode": "overlay",
              "size": 10,
              "solidity": 0.2
             }
            },
            "type": "barpolar"
           }
          ],
          "carpet": [
           {
            "aaxis": {
             "endlinecolor": "#2a3f5f",
             "gridcolor": "white",
             "linecolor": "white",
             "minorgridcolor": "white",
             "startlinecolor": "#2a3f5f"
            },
            "baxis": {
             "endlinecolor": "#2a3f5f",
             "gridcolor": "white",
             "linecolor": "white",
             "minorgridcolor": "white",
             "startlinecolor": "#2a3f5f"
            },
            "type": "carpet"
           }
          ],
          "choropleth": [
           {
            "colorbar": {
             "outlinewidth": 0,
             "ticks": ""
            },
            "type": "choropleth"
           }
          ],
          "contour": [
           {
            "colorbar": {
             "outlinewidth": 0,
             "ticks": ""
            },
            "colorscale": [
             [
              0,
              "#0d0887"
             ],
             [
              0.1111111111111111,
              "#46039f"
             ],
             [
              0.2222222222222222,
              "#7201a8"
             ],
             [
              0.3333333333333333,
              "#9c179e"
             ],
             [
              0.4444444444444444,
              "#bd3786"
             ],
             [
              0.5555555555555556,
              "#d8576b"
             ],
             [
              0.6666666666666666,
              "#ed7953"
             ],
             [
              0.7777777777777778,
              "#fb9f3a"
             ],
             [
              0.8888888888888888,
              "#fdca26"
             ],
             [
              1,
              "#f0f921"
             ]
            ],
            "type": "contour"
           }
          ],
          "contourcarpet": [
           {
            "colorbar": {
             "outlinewidth": 0,
             "ticks": ""
            },
            "type": "contourcarpet"
           }
          ],
          "heatmap": [
           {
            "colorbar": {
             "outlinewidth": 0,
             "ticks": ""
            },
            "colorscale": [
             [
              0,
              "#0d0887"
             ],
             [
              0.1111111111111111,
              "#46039f"
             ],
             [
              0.2222222222222222,
              "#7201a8"
             ],
             [
              0.3333333333333333,
              "#9c179e"
             ],
             [
              0.4444444444444444,
              "#bd3786"
             ],
             [
              0.5555555555555556,
              "#d8576b"
             ],
             [
              0.6666666666666666,
              "#ed7953"
             ],
             [
              0.7777777777777778,
              "#fb9f3a"
             ],
             [
              0.8888888888888888,
              "#fdca26"
             ],
             [
              1,
              "#f0f921"
             ]
            ],
            "type": "heatmap"
           }
          ],
          "heatmapgl": [
           {
            "colorbar": {
             "outlinewidth": 0,
             "ticks": ""
            },
            "colorscale": [
             [
              0,
              "#0d0887"
             ],
             [
              0.1111111111111111,
              "#46039f"
             ],
             [
              0.2222222222222222,
              "#7201a8"
             ],
             [
              0.3333333333333333,
              "#9c179e"
             ],
             [
              0.4444444444444444,
              "#bd3786"
             ],
             [
              0.5555555555555556,
              "#d8576b"
             ],
             [
              0.6666666666666666,
              "#ed7953"
             ],
             [
              0.7777777777777778,
              "#fb9f3a"
             ],
             [
              0.8888888888888888,
              "#fdca26"
             ],
             [
              1,
              "#f0f921"
             ]
            ],
            "type": "heatmapgl"
           }
          ],
          "histogram": [
           {
            "marker": {
             "pattern": {
              "fillmode": "overlay",
              "size": 10,
              "solidity": 0.2
             }
            },
            "type": "histogram"
           }
          ],
          "histogram2d": [
           {
            "colorbar": {
             "outlinewidth": 0,
             "ticks": ""
            },
            "colorscale": [
             [
              0,
              "#0d0887"
             ],
             [
              0.1111111111111111,
              "#46039f"
             ],
             [
              0.2222222222222222,
              "#7201a8"
             ],
             [
              0.3333333333333333,
              "#9c179e"
             ],
             [
              0.4444444444444444,
              "#bd3786"
             ],
             [
              0.5555555555555556,
              "#d8576b"
             ],
             [
              0.6666666666666666,
              "#ed7953"
             ],
             [
              0.7777777777777778,
              "#fb9f3a"
             ],
             [
              0.8888888888888888,
              "#fdca26"
             ],
             [
              1,
              "#f0f921"
             ]
            ],
            "type": "histogram2d"
           }
          ],
          "histogram2dcontour": [
           {
            "colorbar": {
             "outlinewidth": 0,
             "ticks": ""
            },
            "colorscale": [
             [
              0,
              "#0d0887"
             ],
             [
              0.1111111111111111,
              "#46039f"
             ],
             [
              0.2222222222222222,
              "#7201a8"
             ],
             [
              0.3333333333333333,
              "#9c179e"
             ],
             [
              0.4444444444444444,
              "#bd3786"
             ],
             [
              0.5555555555555556,
              "#d8576b"
             ],
             [
              0.6666666666666666,
              "#ed7953"
             ],
             [
              0.7777777777777778,
              "#fb9f3a"
             ],
             [
              0.8888888888888888,
              "#fdca26"
             ],
             [
              1,
              "#f0f921"
             ]
            ],
            "type": "histogram2dcontour"
           }
          ],
          "mesh3d": [
           {
            "colorbar": {
             "outlinewidth": 0,
             "ticks": ""
            },
            "type": "mesh3d"
           }
          ],
          "parcoords": [
           {
            "line": {
             "colorbar": {
              "outlinewidth": 0,
              "ticks": ""
             }
            },
            "type": "parcoords"
           }
          ],
          "pie": [
           {
            "automargin": true,
            "type": "pie"
           }
          ],
          "scatter": [
           {
            "marker": {
             "colorbar": {
              "outlinewidth": 0,
              "ticks": ""
             }
            },
            "type": "scatter"
           }
          ],
          "scatter3d": [
           {
            "line": {
             "colorbar": {
              "outlinewidth": 0,
              "ticks": ""
             }
            },
            "marker": {
             "colorbar": {
              "outlinewidth": 0,
              "ticks": ""
             }
            },
            "type": "scatter3d"
           }
          ],
          "scattercarpet": [
           {
            "marker": {
             "colorbar": {
              "outlinewidth": 0,
              "ticks": ""
             }
            },
            "type": "scattercarpet"
           }
          ],
          "scattergeo": [
           {
            "marker": {
             "colorbar": {
              "outlinewidth": 0,
              "ticks": ""
             }
            },
            "type": "scattergeo"
           }
          ],
          "scattergl": [
           {
            "marker": {
             "colorbar": {
              "outlinewidth": 0,
              "ticks": ""
             }
            },
            "type": "scattergl"
           }
          ],
          "scattermapbox": [
           {
            "marker": {
             "colorbar": {
              "outlinewidth": 0,
              "ticks": ""
             }
            },
            "type": "scattermapbox"
           }
          ],
          "scatterpolar": [
           {
            "marker": {
             "colorbar": {
              "outlinewidth": 0,
              "ticks": ""
             }
            },
            "type": "scatterpolar"
           }
          ],
          "scatterpolargl": [
           {
            "marker": {
             "colorbar": {
              "outlinewidth": 0,
              "ticks": ""
             }
            },
            "type": "scatterpolargl"
           }
          ],
          "scatterternary": [
           {
            "marker": {
             "colorbar": {
              "outlinewidth": 0,
              "ticks": ""
             }
            },
            "type": "scatterternary"
           }
          ],
          "surface": [
           {
            "colorbar": {
             "outlinewidth": 0,
             "ticks": ""
            },
            "colorscale": [
             [
              0,
              "#0d0887"
             ],
             [
              0.1111111111111111,
              "#46039f"
             ],
             [
              0.2222222222222222,
              "#7201a8"
             ],
             [
              0.3333333333333333,
              "#9c179e"
             ],
             [
              0.4444444444444444,
              "#bd3786"
             ],
             [
              0.5555555555555556,
              "#d8576b"
             ],
             [
              0.6666666666666666,
              "#ed7953"
             ],
             [
              0.7777777777777778,
              "#fb9f3a"
             ],
             [
              0.8888888888888888,
              "#fdca26"
             ],
             [
              1,
              "#f0f921"
             ]
            ],
            "type": "surface"
           }
          ],
          "table": [
           {
            "cells": {
             "fill": {
              "color": "#EBF0F8"
             },
             "line": {
              "color": "white"
             }
            },
            "header": {
             "fill": {
              "color": "#C8D4E3"
             },
             "line": {
              "color": "white"
             }
            },
            "type": "table"
           }
          ]
         },
         "layout": {
          "annotationdefaults": {
           "arrowcolor": "#2a3f5f",
           "arrowhead": 0,
           "arrowwidth": 1
          },
          "autotypenumbers": "strict",
          "coloraxis": {
           "colorbar": {
            "outlinewidth": 0,
            "ticks": ""
           }
          },
          "colorscale": {
           "diverging": [
            [
             0,
             "#8e0152"
            ],
            [
             0.1,
             "#c51b7d"
            ],
            [
             0.2,
             "#de77ae"
            ],
            [
             0.3,
             "#f1b6da"
            ],
            [
             0.4,
             "#fde0ef"
            ],
            [
             0.5,
             "#f7f7f7"
            ],
            [
             0.6,
             "#e6f5d0"
            ],
            [
             0.7,
             "#b8e186"
            ],
            [
             0.8,
             "#7fbc41"
            ],
            [
             0.9,
             "#4d9221"
            ],
            [
             1,
             "#276419"
            ]
           ],
           "sequential": [
            [
             0,
             "#0d0887"
            ],
            [
             0.1111111111111111,
             "#46039f"
            ],
            [
             0.2222222222222222,
             "#7201a8"
            ],
            [
             0.3333333333333333,
             "#9c179e"
            ],
            [
             0.4444444444444444,
             "#bd3786"
            ],
            [
             0.5555555555555556,
             "#d8576b"
            ],
            [
             0.6666666666666666,
             "#ed7953"
            ],
            [
             0.7777777777777778,
             "#fb9f3a"
            ],
            [
             0.8888888888888888,
             "#fdca26"
            ],
            [
             1,
             "#f0f921"
            ]
           ],
           "sequentialminus": [
            [
             0,
             "#0d0887"
            ],
            [
             0.1111111111111111,
             "#46039f"
            ],
            [
             0.2222222222222222,
             "#7201a8"
            ],
            [
             0.3333333333333333,
             "#9c179e"
            ],
            [
             0.4444444444444444,
             "#bd3786"
            ],
            [
             0.5555555555555556,
             "#d8576b"
            ],
            [
             0.6666666666666666,
             "#ed7953"
            ],
            [
             0.7777777777777778,
             "#fb9f3a"
            ],
            [
             0.8888888888888888,
             "#fdca26"
            ],
            [
             1,
             "#f0f921"
            ]
           ]
          },
          "colorway": [
           "#636efa",
           "#EF553B",
           "#00cc96",
           "#ab63fa",
           "#FFA15A",
           "#19d3f3",
           "#FF6692",
           "#B6E880",
           "#FF97FF",
           "#FECB52"
          ],
          "font": {
           "color": "#2a3f5f"
          },
          "geo": {
           "bgcolor": "white",
           "lakecolor": "white",
           "landcolor": "#E5ECF6",
           "showlakes": true,
           "showland": true,
           "subunitcolor": "white"
          },
          "hoverlabel": {
           "align": "left"
          },
          "hovermode": "closest",
          "mapbox": {
           "style": "light"
          },
          "paper_bgcolor": "white",
          "plot_bgcolor": "#E5ECF6",
          "polar": {
           "angularaxis": {
            "gridcolor": "white",
            "linecolor": "white",
            "ticks": ""
           },
           "bgcolor": "#E5ECF6",
           "radialaxis": {
            "gridcolor": "white",
            "linecolor": "white",
            "ticks": ""
           }
          },
          "scene": {
           "xaxis": {
            "backgroundcolor": "#E5ECF6",
            "gridcolor": "white",
            "gridwidth": 2,
            "linecolor": "white",
            "showbackground": true,
            "ticks": "",
            "zerolinecolor": "white"
           },
           "yaxis": {
            "backgroundcolor": "#E5ECF6",
            "gridcolor": "white",
            "gridwidth": 2,
            "linecolor": "white",
            "showbackground": true,
            "ticks": "",
            "zerolinecolor": "white"
           },
           "zaxis": {
            "backgroundcolor": "#E5ECF6",
            "gridcolor": "white",
            "gridwidth": 2,
            "linecolor": "white",
            "showbackground": true,
            "ticks": "",
            "zerolinecolor": "white"
           }
          },
          "shapedefaults": {
           "line": {
            "color": "#2a3f5f"
           }
          },
          "ternary": {
           "aaxis": {
            "gridcolor": "white",
            "linecolor": "white",
            "ticks": ""
           },
           "baxis": {
            "gridcolor": "white",
            "linecolor": "white",
            "ticks": ""
           },
           "bgcolor": "#E5ECF6",
           "caxis": {
            "gridcolor": "white",
            "linecolor": "white",
            "ticks": ""
           }
          },
          "title": {
           "x": 0.05
          },
          "xaxis": {
           "automargin": true,
           "gridcolor": "white",
           "linecolor": "white",
           "ticks": "",
           "title": {
            "standoff": 15
           },
           "zerolinecolor": "white",
           "zerolinewidth": 2
          },
          "yaxis": {
           "automargin": true,
           "gridcolor": "white",
           "linecolor": "white",
           "ticks": "",
           "title": {
            "standoff": 15
           },
           "zerolinecolor": "white",
           "zerolinewidth": 2
          }
         }
        },
        "title": {
         "font": {
          "color": "#4D5663"
         }
        },
        "xaxis": {
         "gridcolor": "#E1E5ED",
         "showgrid": true,
         "tickfont": {
          "color": "#4D5663"
         },
         "title": {
          "font": {
           "color": "#4D5663"
          },
          "text": "loan_amount"
         },
         "zerolinecolor": "#E1E5ED"
        },
        "yaxis": {
         "gridcolor": "#E1E5ED",
         "showgrid": true,
         "tickfont": {
          "color": "#4D5663"
         },
         "title": {
          "font": {
           "color": "#4D5663"
          },
          "text": "Number of Person"
         },
         "zerolinecolor": "#E1E5ED"
        }
       }
      },
      "text/html": [
       "<div>                            <div id=\"2d869498-fb38-4390-8552-4146cb952f38\" class=\"plotly-graph-div\" style=\"height:525px; width:100%;\"></div>            <script type=\"text/javascript\">                require([\"plotly\"], function(Plotly) {                    window.PLOTLYENV=window.PLOTLYENV || {};\n",
       "                    window.PLOTLYENV.BASE_URL='https://plot.ly';                                    if (document.getElementById(\"2d869498-fb38-4390-8552-4146cb952f38\")) {                    Plotly.newPlot(                        \"2d869498-fb38-4390-8552-4146cb952f38\",                        [{\"marker\":{\"color\":\"rgba(0, 128, 0, 0.6)\",\"line\":{\"color\":\"rgba(0, 128, 0, 1.0)\",\"width\":1}},\"name\":\"loan_bins\",\"orientation\":\"v\",\"text\":\"\",\"x\":[\"[2k-10k]\",\"[11.5k-12k]\",\"[15.5k-16k]\",\"[10.5k-11k]\",\"[13.5k-14k]\",\"[12.5k-13k]\",\"[14.5k-15k]\",\"[17.5k-18k]\",\"[18.5k-19k]\",\"[16.5k-17k]\",\"[19.5k-20k]\",\"[13k-13.5k]\",\"[23.5k-24k]\",\"[22.5k-23k]\",\"[21.5k-22k]\",\"[20.5k-21k]\",\"[12k-12.5k]\",\"[11k-11.5k]\",\"[14k-14.5k]\",\"[26.5k-27k]\",\"[39.5k-40k]\",\"[27k-28k]\",\"[29.5k-30k]\",\"[20k-20.5k]\",\"[30.5k-31k]\",\"[25.5k-26k]\",\"[31.5k-32k]\",\"[22k-22.5k]\",\"55k+\",\"[19k-19.5k]\",\"[21k-21.5k]\",\"[24.5k-25k]\",\"[25k-25.5k]\",\"[38.5k-39k]\",\"[32.5k-33k]\",\"[28k-28.5k]\",\"[43.5k-44k]\",\"[34.5k-35k]\",\"[35k-35.5k]\",\"50k-55k\",\"[26k-26.5k]\",\"[28.5k-29k]\",\"[23k-23.5k]\",\"[29k-29.5k]\",\"[18k-18.5k]\",\"[36.5k-37k]\",\"[33k-33.5k]\",\"[17k-17.5k]\",\"[32k-32.5k]\",\"[40.5k-41k]\",\"44k-45k\",\"49k-50k\",\"[24k-24.5k]\",\"[35.5k-36k]\",\"46k-47k\",\"45k-46k\",\"[33.5k-34k]\",\"[42.5k-43k]\",\"[30k-30.5k]\",\"48k-49k\",\"[16k-16.5k]\",\"[36k-36.5k]\",\"[37.5k-38k]\",\"[37k-37.5k]\",\"[39k-39.5k]\",\"[43k-43.5k]\"],\"y\":[1128,141,92,88,83,79,78,59,58,51,47,36,30,28,27,27,23,21,19,18,16,16,15,14,14,13,12,11,10,10,10,9,8,8,8,6,5,5,5,4,4,4,3,3,3,3,3,3,3,2,2,2,2,2,2,2,2,1,1,1,1,1,1,1,1,1],\"type\":\"bar\"}],                        {\"legend\":{\"bgcolor\":\"#F5F6F9\",\"font\":{\"color\":\"#4D5663\"}},\"paper_bgcolor\":\"#F5F6F9\",\"plot_bgcolor\":\"#F5F6F9\",\"template\":{\"data\":{\"barpolar\":[{\"marker\":{\"line\":{\"color\":\"#E5ECF6\",\"width\":0.5},\"pattern\":{\"fillmode\":\"overlay\",\"size\":10,\"solidity\":0.2}},\"type\":\"barpolar\"}],\"bar\":[{\"error_x\":{\"color\":\"#2a3f5f\"},\"error_y\":{\"color\":\"#2a3f5f\"},\"marker\":{\"line\":{\"color\":\"#E5ECF6\",\"width\":0.5},\"pattern\":{\"fillmode\":\"overlay\",\"size\":10,\"solidity\":0.2}},\"type\":\"bar\"}],\"carpet\":[{\"aaxis\":{\"endlinecolor\":\"#2a3f5f\",\"gridcolor\":\"white\",\"linecolor\":\"white\",\"minorgridcolor\":\"white\",\"startlinecolor\":\"#2a3f5f\"},\"baxis\":{\"endlinecolor\":\"#2a3f5f\",\"gridcolor\":\"white\",\"linecolor\":\"white\",\"minorgridcolor\":\"white\",\"startlinecolor\":\"#2a3f5f\"},\"type\":\"carpet\"}],\"choropleth\":[{\"colorbar\":{\"outlinewidth\":0,\"ticks\":\"\"},\"type\":\"choropleth\"}],\"contourcarpet\":[{\"colorbar\":{\"outlinewidth\":0,\"ticks\":\"\"},\"type\":\"contourcarpet\"}],\"contour\":[{\"colorbar\":{\"outlinewidth\":0,\"ticks\":\"\"},\"colorscale\":[[0.0,\"#0d0887\"],[0.1111111111111111,\"#46039f\"],[0.2222222222222222,\"#7201a8\"],[0.3333333333333333,\"#9c179e\"],[0.4444444444444444,\"#bd3786\"],[0.5555555555555556,\"#d8576b\"],[0.6666666666666666,\"#ed7953\"],[0.7777777777777778,\"#fb9f3a\"],[0.8888888888888888,\"#fdca26\"],[1.0,\"#f0f921\"]],\"type\":\"contour\"}],\"heatmapgl\":[{\"colorbar\":{\"outlinewidth\":0,\"ticks\":\"\"},\"colorscale\":[[0.0,\"#0d0887\"],[0.1111111111111111,\"#46039f\"],[0.2222222222222222,\"#7201a8\"],[0.3333333333333333,\"#9c179e\"],[0.4444444444444444,\"#bd3786\"],[0.5555555555555556,\"#d8576b\"],[0.6666666666666666,\"#ed7953\"],[0.7777777777777778,\"#fb9f3a\"],[0.8888888888888888,\"#fdca26\"],[1.0,\"#f0f921\"]],\"type\":\"heatmapgl\"}],\"heatmap\":[{\"colorbar\":{\"outlinewidth\":0,\"ticks\":\"\"},\"colorscale\":[[0.0,\"#0d0887\"],[0.1111111111111111,\"#46039f\"],[0.2222222222222222,\"#7201a8\"],[0.3333333333333333,\"#9c179e\"],[0.4444444444444444,\"#bd3786\"],[0.5555555555555556,\"#d8576b\"],[0.6666666666666666,\"#ed7953\"],[0.7777777777777778,\"#fb9f3a\"],[0.8888888888888888,\"#fdca26\"],[1.0,\"#f0f921\"]],\"type\":\"heatmap\"}],\"histogram2dcontour\":[{\"colorbar\":{\"outlinewidth\":0,\"ticks\":\"\"},\"colorscale\":[[0.0,\"#0d0887\"],[0.1111111111111111,\"#46039f\"],[0.2222222222222222,\"#7201a8\"],[0.3333333333333333,\"#9c179e\"],[0.4444444444444444,\"#bd3786\"],[0.5555555555555556,\"#d8576b\"],[0.6666666666666666,\"#ed7953\"],[0.7777777777777778,\"#fb9f3a\"],[0.8888888888888888,\"#fdca26\"],[1.0,\"#f0f921\"]],\"type\":\"histogram2dcontour\"}],\"histogram2d\":[{\"colorbar\":{\"outlinewidth\":0,\"ticks\":\"\"},\"colorscale\":[[0.0,\"#0d0887\"],[0.1111111111111111,\"#46039f\"],[0.2222222222222222,\"#7201a8\"],[0.3333333333333333,\"#9c179e\"],[0.4444444444444444,\"#bd3786\"],[0.5555555555555556,\"#d8576b\"],[0.6666666666666666,\"#ed7953\"],[0.7777777777777778,\"#fb9f3a\"],[0.8888888888888888,\"#fdca26\"],[1.0,\"#f0f921\"]],\"type\":\"histogram2d\"}],\"histogram\":[{\"marker\":{\"pattern\":{\"fillmode\":\"overlay\",\"size\":10,\"solidity\":0.2}},\"type\":\"histogram\"}],\"mesh3d\":[{\"colorbar\":{\"outlinewidth\":0,\"ticks\":\"\"},\"type\":\"mesh3d\"}],\"parcoords\":[{\"line\":{\"colorbar\":{\"outlinewidth\":0,\"ticks\":\"\"}},\"type\":\"parcoords\"}],\"pie\":[{\"automargin\":true,\"type\":\"pie\"}],\"scatter3d\":[{\"line\":{\"colorbar\":{\"outlinewidth\":0,\"ticks\":\"\"}},\"marker\":{\"colorbar\":{\"outlinewidth\":0,\"ticks\":\"\"}},\"type\":\"scatter3d\"}],\"scattercarpet\":[{\"marker\":{\"colorbar\":{\"outlinewidth\":0,\"ticks\":\"\"}},\"type\":\"scattercarpet\"}],\"scattergeo\":[{\"marker\":{\"colorbar\":{\"outlinewidth\":0,\"ticks\":\"\"}},\"type\":\"scattergeo\"}],\"scattergl\":[{\"marker\":{\"colorbar\":{\"outlinewidth\":0,\"ticks\":\"\"}},\"type\":\"scattergl\"}],\"scattermapbox\":[{\"marker\":{\"colorbar\":{\"outlinewidth\":0,\"ticks\":\"\"}},\"type\":\"scattermapbox\"}],\"scatterpolargl\":[{\"marker\":{\"colorbar\":{\"outlinewidth\":0,\"ticks\":\"\"}},\"type\":\"scatterpolargl\"}],\"scatterpolar\":[{\"marker\":{\"colorbar\":{\"outlinewidth\":0,\"ticks\":\"\"}},\"type\":\"scatterpolar\"}],\"scatter\":[{\"marker\":{\"colorbar\":{\"outlinewidth\":0,\"ticks\":\"\"}},\"type\":\"scatter\"}],\"scatterternary\":[{\"marker\":{\"colorbar\":{\"outlinewidth\":0,\"ticks\":\"\"}},\"type\":\"scatterternary\"}],\"surface\":[{\"colorbar\":{\"outlinewidth\":0,\"ticks\":\"\"},\"colorscale\":[[0.0,\"#0d0887\"],[0.1111111111111111,\"#46039f\"],[0.2222222222222222,\"#7201a8\"],[0.3333333333333333,\"#9c179e\"],[0.4444444444444444,\"#bd3786\"],[0.5555555555555556,\"#d8576b\"],[0.6666666666666666,\"#ed7953\"],[0.7777777777777778,\"#fb9f3a\"],[0.8888888888888888,\"#fdca26\"],[1.0,\"#f0f921\"]],\"type\":\"surface\"}],\"table\":[{\"cells\":{\"fill\":{\"color\":\"#EBF0F8\"},\"line\":{\"color\":\"white\"}},\"header\":{\"fill\":{\"color\":\"#C8D4E3\"},\"line\":{\"color\":\"white\"}},\"type\":\"table\"}]},\"layout\":{\"annotationdefaults\":{\"arrowcolor\":\"#2a3f5f\",\"arrowhead\":0,\"arrowwidth\":1},\"autotypenumbers\":\"strict\",\"coloraxis\":{\"colorbar\":{\"outlinewidth\":0,\"ticks\":\"\"}},\"colorscale\":{\"diverging\":[[0,\"#8e0152\"],[0.1,\"#c51b7d\"],[0.2,\"#de77ae\"],[0.3,\"#f1b6da\"],[0.4,\"#fde0ef\"],[0.5,\"#f7f7f7\"],[0.6,\"#e6f5d0\"],[0.7,\"#b8e186\"],[0.8,\"#7fbc41\"],[0.9,\"#4d9221\"],[1,\"#276419\"]],\"sequential\":[[0.0,\"#0d0887\"],[0.1111111111111111,\"#46039f\"],[0.2222222222222222,\"#7201a8\"],[0.3333333333333333,\"#9c179e\"],[0.4444444444444444,\"#bd3786\"],[0.5555555555555556,\"#d8576b\"],[0.6666666666666666,\"#ed7953\"],[0.7777777777777778,\"#fb9f3a\"],[0.8888888888888888,\"#fdca26\"],[1.0,\"#f0f921\"]],\"sequentialminus\":[[0.0,\"#0d0887\"],[0.1111111111111111,\"#46039f\"],[0.2222222222222222,\"#7201a8\"],[0.3333333333333333,\"#9c179e\"],[0.4444444444444444,\"#bd3786\"],[0.5555555555555556,\"#d8576b\"],[0.6666666666666666,\"#ed7953\"],[0.7777777777777778,\"#fb9f3a\"],[0.8888888888888888,\"#fdca26\"],[1.0,\"#f0f921\"]]},\"colorway\":[\"#636efa\",\"#EF553B\",\"#00cc96\",\"#ab63fa\",\"#FFA15A\",\"#19d3f3\",\"#FF6692\",\"#B6E880\",\"#FF97FF\",\"#FECB52\"],\"font\":{\"color\":\"#2a3f5f\"},\"geo\":{\"bgcolor\":\"white\",\"lakecolor\":\"white\",\"landcolor\":\"#E5ECF6\",\"showlakes\":true,\"showland\":true,\"subunitcolor\":\"white\"},\"hoverlabel\":{\"align\":\"left\"},\"hovermode\":\"closest\",\"mapbox\":{\"style\":\"light\"},\"paper_bgcolor\":\"white\",\"plot_bgcolor\":\"#E5ECF6\",\"polar\":{\"angularaxis\":{\"gridcolor\":\"white\",\"linecolor\":\"white\",\"ticks\":\"\"},\"bgcolor\":\"#E5ECF6\",\"radialaxis\":{\"gridcolor\":\"white\",\"linecolor\":\"white\",\"ticks\":\"\"}},\"scene\":{\"xaxis\":{\"backgroundcolor\":\"#E5ECF6\",\"gridcolor\":\"white\",\"gridwidth\":2,\"linecolor\":\"white\",\"showbackground\":true,\"ticks\":\"\",\"zerolinecolor\":\"white\"},\"yaxis\":{\"backgroundcolor\":\"#E5ECF6\",\"gridcolor\":\"white\",\"gridwidth\":2,\"linecolor\":\"white\",\"showbackground\":true,\"ticks\":\"\",\"zerolinecolor\":\"white\"},\"zaxis\":{\"backgroundcolor\":\"#E5ECF6\",\"gridcolor\":\"white\",\"gridwidth\":2,\"linecolor\":\"white\",\"showbackground\":true,\"ticks\":\"\",\"zerolinecolor\":\"white\"}},\"shapedefaults\":{\"line\":{\"color\":\"#2a3f5f\"}},\"ternary\":{\"aaxis\":{\"gridcolor\":\"white\",\"linecolor\":\"white\",\"ticks\":\"\"},\"baxis\":{\"gridcolor\":\"white\",\"linecolor\":\"white\",\"ticks\":\"\"},\"bgcolor\":\"#E5ECF6\",\"caxis\":{\"gridcolor\":\"white\",\"linecolor\":\"white\",\"ticks\":\"\"}},\"title\":{\"x\":0.05},\"xaxis\":{\"automargin\":true,\"gridcolor\":\"white\",\"linecolor\":\"white\",\"ticks\":\"\",\"title\":{\"standoff\":15},\"zerolinecolor\":\"white\",\"zerolinewidth\":2},\"yaxis\":{\"automargin\":true,\"gridcolor\":\"white\",\"linecolor\":\"white\",\"ticks\":\"\",\"title\":{\"standoff\":15},\"zerolinecolor\":\"white\",\"zerolinewidth\":2}}},\"title\":{\"font\":{\"color\":\"#4D5663\"}},\"xaxis\":{\"gridcolor\":\"#E1E5ED\",\"showgrid\":true,\"tickfont\":{\"color\":\"#4D5663\"},\"title\":{\"font\":{\"color\":\"#4D5663\"},\"text\":\"loan_amount\"},\"zerolinecolor\":\"#E1E5ED\"},\"yaxis\":{\"gridcolor\":\"#E1E5ED\",\"showgrid\":true,\"tickfont\":{\"color\":\"#4D5663\"},\"title\":{\"font\":{\"color\":\"#4D5663\"},\"text\":\"Number of Person\"},\"zerolinecolor\":\"#E1E5ED\"}},                        {\"showLink\": true, \"linkText\": \"Export to plot.ly\", \"plotlyServerURL\": \"https://plot.ly\", \"responsive\": true}                    ).then(function(){\n",
       "                            \n",
       "var gd = document.getElementById('2d869498-fb38-4390-8552-4146cb952f38');\n",
       "var x = new MutationObserver(function (mutations, observer) {{\n",
       "        var display = window.getComputedStyle(gd).display;\n",
       "        if (!display || display === 'none') {{\n",
       "            console.log([gd, 'removed!']);\n",
       "            Plotly.purge(gd);\n",
       "            observer.disconnect();\n",
       "        }}\n",
       "}});\n",
       "\n",
       "// Listen for the removal of the full notebook cells\n",
       "var notebookContainer = gd.closest('#notebook-container');\n",
       "if (notebookContainer) {{\n",
       "    x.observe(notebookContainer, {childList: true});\n",
       "}}\n",
       "\n",
       "// Listen for the clearing of the current output cell\n",
       "var outputEl = gd.closest('.output');\n",
       "if (outputEl) {{\n",
       "    x.observe(outputEl, {childList: true});\n",
       "}}\n",
       "\n",
       "                        })                };                });            </script>        </div>"
      ]
     },
     "metadata": {},
     "output_type": "display_data"
    }
   ],
   "source": [
    "(df3['loan_bins']).value_counts().iplot(kind='bar',xTitle='loan_amount', yTitle='Number of Person',color='green')"
   ]
  },
  {
   "cell_type": "code",
   "execution_count": null,
   "id": "4d9e703b",
   "metadata": {},
   "outputs": [],
   "source": []
  },
  {
   "cell_type": "code",
   "execution_count": 38,
   "id": "60c58449",
   "metadata": {},
   "outputs": [
    {
     "data": {
      "application/vnd.plotly.v1+json": {
       "config": {
        "linkText": "Export to plot.ly",
        "plotlyServerURL": "https://plot.ly",
        "showLink": true
       },
       "data": [
        {
         "marker": {
          "color": "rgba(0, 128, 0, 0.6)",
          "line": {
           "color": "rgba(0, 128, 0, 1.0)",
           "width": 1
          }
         },
         "name": "MaxPLoanAm",
         "orientation": "v",
         "text": "",
         "type": "bar",
         "x": [
          10000,
          8500,
          6000,
          12000,
          14000,
          13000,
          15000,
          11000,
          18000,
          16000,
          20000,
          17000,
          19000,
          7000,
          21000,
          22000,
          23000,
          24000,
          40000,
          26000,
          27000,
          28000,
          33000,
          44000,
          31000,
          30000,
          29000,
          35000,
          25000,
          32000,
          37000,
          39000,
          8000,
          42000,
          36000,
          34000,
          38000,
          9000,
          5000,
          41000,
          60000,
          56000
         ],
         "y": [
          414,
          319,
          311,
          188,
          119,
          117,
          96,
          94,
          84,
          75,
          73,
          68,
          64,
          55,
          44,
          33,
          27,
          27,
          27,
          18,
          17,
          15,
          12,
          11,
          11,
          10,
          9,
          8,
          7,
          6,
          6,
          5,
          2,
          2,
          2,
          2,
          2,
          2,
          1,
          1,
          1,
          1
         ]
        }
       ],
       "layout": {
        "legend": {
         "bgcolor": "#F5F6F9",
         "font": {
          "color": "#4D5663"
         }
        },
        "paper_bgcolor": "#F5F6F9",
        "plot_bgcolor": "#F5F6F9",
        "template": {
         "data": {
          "bar": [
           {
            "error_x": {
             "color": "#2a3f5f"
            },
            "error_y": {
             "color": "#2a3f5f"
            },
            "marker": {
             "line": {
              "color": "#E5ECF6",
              "width": 0.5
             },
             "pattern": {
              "fillmode": "overlay",
              "size": 10,
              "solidity": 0.2
             }
            },
            "type": "bar"
           }
          ],
          "barpolar": [
           {
            "marker": {
             "line": {
              "color": "#E5ECF6",
              "width": 0.5
             },
             "pattern": {
              "fillmode": "overlay",
              "size": 10,
              "solidity": 0.2
             }
            },
            "type": "barpolar"
           }
          ],
          "carpet": [
           {
            "aaxis": {
             "endlinecolor": "#2a3f5f",
             "gridcolor": "white",
             "linecolor": "white",
             "minorgridcolor": "white",
             "startlinecolor": "#2a3f5f"
            },
            "baxis": {
             "endlinecolor": "#2a3f5f",
             "gridcolor": "white",
             "linecolor": "white",
             "minorgridcolor": "white",
             "startlinecolor": "#2a3f5f"
            },
            "type": "carpet"
           }
          ],
          "choropleth": [
           {
            "colorbar": {
             "outlinewidth": 0,
             "ticks": ""
            },
            "type": "choropleth"
           }
          ],
          "contour": [
           {
            "colorbar": {
             "outlinewidth": 0,
             "ticks": ""
            },
            "colorscale": [
             [
              0,
              "#0d0887"
             ],
             [
              0.1111111111111111,
              "#46039f"
             ],
             [
              0.2222222222222222,
              "#7201a8"
             ],
             [
              0.3333333333333333,
              "#9c179e"
             ],
             [
              0.4444444444444444,
              "#bd3786"
             ],
             [
              0.5555555555555556,
              "#d8576b"
             ],
             [
              0.6666666666666666,
              "#ed7953"
             ],
             [
              0.7777777777777778,
              "#fb9f3a"
             ],
             [
              0.8888888888888888,
              "#fdca26"
             ],
             [
              1,
              "#f0f921"
             ]
            ],
            "type": "contour"
           }
          ],
          "contourcarpet": [
           {
            "colorbar": {
             "outlinewidth": 0,
             "ticks": ""
            },
            "type": "contourcarpet"
           }
          ],
          "heatmap": [
           {
            "colorbar": {
             "outlinewidth": 0,
             "ticks": ""
            },
            "colorscale": [
             [
              0,
              "#0d0887"
             ],
             [
              0.1111111111111111,
              "#46039f"
             ],
             [
              0.2222222222222222,
              "#7201a8"
             ],
             [
              0.3333333333333333,
              "#9c179e"
             ],
             [
              0.4444444444444444,
              "#bd3786"
             ],
             [
              0.5555555555555556,
              "#d8576b"
             ],
             [
              0.6666666666666666,
              "#ed7953"
             ],
             [
              0.7777777777777778,
              "#fb9f3a"
             ],
             [
              0.8888888888888888,
              "#fdca26"
             ],
             [
              1,
              "#f0f921"
             ]
            ],
            "type": "heatmap"
           }
          ],
          "heatmapgl": [
           {
            "colorbar": {
             "outlinewidth": 0,
             "ticks": ""
            },
            "colorscale": [
             [
              0,
              "#0d0887"
             ],
             [
              0.1111111111111111,
              "#46039f"
             ],
             [
              0.2222222222222222,
              "#7201a8"
             ],
             [
              0.3333333333333333,
              "#9c179e"
             ],
             [
              0.4444444444444444,
              "#bd3786"
             ],
             [
              0.5555555555555556,
              "#d8576b"
             ],
             [
              0.6666666666666666,
              "#ed7953"
             ],
             [
              0.7777777777777778,
              "#fb9f3a"
             ],
             [
              0.8888888888888888,
              "#fdca26"
             ],
             [
              1,
              "#f0f921"
             ]
            ],
            "type": "heatmapgl"
           }
          ],
          "histogram": [
           {
            "marker": {
             "pattern": {
              "fillmode": "overlay",
              "size": 10,
              "solidity": 0.2
             }
            },
            "type": "histogram"
           }
          ],
          "histogram2d": [
           {
            "colorbar": {
             "outlinewidth": 0,
             "ticks": ""
            },
            "colorscale": [
             [
              0,
              "#0d0887"
             ],
             [
              0.1111111111111111,
              "#46039f"
             ],
             [
              0.2222222222222222,
              "#7201a8"
             ],
             [
              0.3333333333333333,
              "#9c179e"
             ],
             [
              0.4444444444444444,
              "#bd3786"
             ],
             [
              0.5555555555555556,
              "#d8576b"
             ],
             [
              0.6666666666666666,
              "#ed7953"
             ],
             [
              0.7777777777777778,
              "#fb9f3a"
             ],
             [
              0.8888888888888888,
              "#fdca26"
             ],
             [
              1,
              "#f0f921"
             ]
            ],
            "type": "histogram2d"
           }
          ],
          "histogram2dcontour": [
           {
            "colorbar": {
             "outlinewidth": 0,
             "ticks": ""
            },
            "colorscale": [
             [
              0,
              "#0d0887"
             ],
             [
              0.1111111111111111,
              "#46039f"
             ],
             [
              0.2222222222222222,
              "#7201a8"
             ],
             [
              0.3333333333333333,
              "#9c179e"
             ],
             [
              0.4444444444444444,
              "#bd3786"
             ],
             [
              0.5555555555555556,
              "#d8576b"
             ],
             [
              0.6666666666666666,
              "#ed7953"
             ],
             [
              0.7777777777777778,
              "#fb9f3a"
             ],
             [
              0.8888888888888888,
              "#fdca26"
             ],
             [
              1,
              "#f0f921"
             ]
            ],
            "type": "histogram2dcontour"
           }
          ],
          "mesh3d": [
           {
            "colorbar": {
             "outlinewidth": 0,
             "ticks": ""
            },
            "type": "mesh3d"
           }
          ],
          "parcoords": [
           {
            "line": {
             "colorbar": {
              "outlinewidth": 0,
              "ticks": ""
             }
            },
            "type": "parcoords"
           }
          ],
          "pie": [
           {
            "automargin": true,
            "type": "pie"
           }
          ],
          "scatter": [
           {
            "marker": {
             "colorbar": {
              "outlinewidth": 0,
              "ticks": ""
             }
            },
            "type": "scatter"
           }
          ],
          "scatter3d": [
           {
            "line": {
             "colorbar": {
              "outlinewidth": 0,
              "ticks": ""
             }
            },
            "marker": {
             "colorbar": {
              "outlinewidth": 0,
              "ticks": ""
             }
            },
            "type": "scatter3d"
           }
          ],
          "scattercarpet": [
           {
            "marker": {
             "colorbar": {
              "outlinewidth": 0,
              "ticks": ""
             }
            },
            "type": "scattercarpet"
           }
          ],
          "scattergeo": [
           {
            "marker": {
             "colorbar": {
              "outlinewidth": 0,
              "ticks": ""
             }
            },
            "type": "scattergeo"
           }
          ],
          "scattergl": [
           {
            "marker": {
             "colorbar": {
              "outlinewidth": 0,
              "ticks": ""
             }
            },
            "type": "scattergl"
           }
          ],
          "scattermapbox": [
           {
            "marker": {
             "colorbar": {
              "outlinewidth": 0,
              "ticks": ""
             }
            },
            "type": "scattermapbox"
           }
          ],
          "scatterpolar": [
           {
            "marker": {
             "colorbar": {
              "outlinewidth": 0,
              "ticks": ""
             }
            },
            "type": "scatterpolar"
           }
          ],
          "scatterpolargl": [
           {
            "marker": {
             "colorbar": {
              "outlinewidth": 0,
              "ticks": ""
             }
            },
            "type": "scatterpolargl"
           }
          ],
          "scatterternary": [
           {
            "marker": {
             "colorbar": {
              "outlinewidth": 0,
              "ticks": ""
             }
            },
            "type": "scatterternary"
           }
          ],
          "surface": [
           {
            "colorbar": {
             "outlinewidth": 0,
             "ticks": ""
            },
            "colorscale": [
             [
              0,
              "#0d0887"
             ],
             [
              0.1111111111111111,
              "#46039f"
             ],
             [
              0.2222222222222222,
              "#7201a8"
             ],
             [
              0.3333333333333333,
              "#9c179e"
             ],
             [
              0.4444444444444444,
              "#bd3786"
             ],
             [
              0.5555555555555556,
              "#d8576b"
             ],
             [
              0.6666666666666666,
              "#ed7953"
             ],
             [
              0.7777777777777778,
              "#fb9f3a"
             ],
             [
              0.8888888888888888,
              "#fdca26"
             ],
             [
              1,
              "#f0f921"
             ]
            ],
            "type": "surface"
           }
          ],
          "table": [
           {
            "cells": {
             "fill": {
              "color": "#EBF0F8"
             },
             "line": {
              "color": "white"
             }
            },
            "header": {
             "fill": {
              "color": "#C8D4E3"
             },
             "line": {
              "color": "white"
             }
            },
            "type": "table"
           }
          ]
         },
         "layout": {
          "annotationdefaults": {
           "arrowcolor": "#2a3f5f",
           "arrowhead": 0,
           "arrowwidth": 1
          },
          "autotypenumbers": "strict",
          "coloraxis": {
           "colorbar": {
            "outlinewidth": 0,
            "ticks": ""
           }
          },
          "colorscale": {
           "diverging": [
            [
             0,
             "#8e0152"
            ],
            [
             0.1,
             "#c51b7d"
            ],
            [
             0.2,
             "#de77ae"
            ],
            [
             0.3,
             "#f1b6da"
            ],
            [
             0.4,
             "#fde0ef"
            ],
            [
             0.5,
             "#f7f7f7"
            ],
            [
             0.6,
             "#e6f5d0"
            ],
            [
             0.7,
             "#b8e186"
            ],
            [
             0.8,
             "#7fbc41"
            ],
            [
             0.9,
             "#4d9221"
            ],
            [
             1,
             "#276419"
            ]
           ],
           "sequential": [
            [
             0,
             "#0d0887"
            ],
            [
             0.1111111111111111,
             "#46039f"
            ],
            [
             0.2222222222222222,
             "#7201a8"
            ],
            [
             0.3333333333333333,
             "#9c179e"
            ],
            [
             0.4444444444444444,
             "#bd3786"
            ],
            [
             0.5555555555555556,
             "#d8576b"
            ],
            [
             0.6666666666666666,
             "#ed7953"
            ],
            [
             0.7777777777777778,
             "#fb9f3a"
            ],
            [
             0.8888888888888888,
             "#fdca26"
            ],
            [
             1,
             "#f0f921"
            ]
           ],
           "sequentialminus": [
            [
             0,
             "#0d0887"
            ],
            [
             0.1111111111111111,
             "#46039f"
            ],
            [
             0.2222222222222222,
             "#7201a8"
            ],
            [
             0.3333333333333333,
             "#9c179e"
            ],
            [
             0.4444444444444444,
             "#bd3786"
            ],
            [
             0.5555555555555556,
             "#d8576b"
            ],
            [
             0.6666666666666666,
             "#ed7953"
            ],
            [
             0.7777777777777778,
             "#fb9f3a"
            ],
            [
             0.8888888888888888,
             "#fdca26"
            ],
            [
             1,
             "#f0f921"
            ]
           ]
          },
          "colorway": [
           "#636efa",
           "#EF553B",
           "#00cc96",
           "#ab63fa",
           "#FFA15A",
           "#19d3f3",
           "#FF6692",
           "#B6E880",
           "#FF97FF",
           "#FECB52"
          ],
          "font": {
           "color": "#2a3f5f"
          },
          "geo": {
           "bgcolor": "white",
           "lakecolor": "white",
           "landcolor": "#E5ECF6",
           "showlakes": true,
           "showland": true,
           "subunitcolor": "white"
          },
          "hoverlabel": {
           "align": "left"
          },
          "hovermode": "closest",
          "mapbox": {
           "style": "light"
          },
          "paper_bgcolor": "white",
          "plot_bgcolor": "#E5ECF6",
          "polar": {
           "angularaxis": {
            "gridcolor": "white",
            "linecolor": "white",
            "ticks": ""
           },
           "bgcolor": "#E5ECF6",
           "radialaxis": {
            "gridcolor": "white",
            "linecolor": "white",
            "ticks": ""
           }
          },
          "scene": {
           "xaxis": {
            "backgroundcolor": "#E5ECF6",
            "gridcolor": "white",
            "gridwidth": 2,
            "linecolor": "white",
            "showbackground": true,
            "ticks": "",
            "zerolinecolor": "white"
           },
           "yaxis": {
            "backgroundcolor": "#E5ECF6",
            "gridcolor": "white",
            "gridwidth": 2,
            "linecolor": "white",
            "showbackground": true,
            "ticks": "",
            "zerolinecolor": "white"
           },
           "zaxis": {
            "backgroundcolor": "#E5ECF6",
            "gridcolor": "white",
            "gridwidth": 2,
            "linecolor": "white",
            "showbackground": true,
            "ticks": "",
            "zerolinecolor": "white"
           }
          },
          "shapedefaults": {
           "line": {
            "color": "#2a3f5f"
           }
          },
          "ternary": {
           "aaxis": {
            "gridcolor": "white",
            "linecolor": "white",
            "ticks": ""
           },
           "baxis": {
            "gridcolor": "white",
            "linecolor": "white",
            "ticks": ""
           },
           "bgcolor": "#E5ECF6",
           "caxis": {
            "gridcolor": "white",
            "linecolor": "white",
            "ticks": ""
           }
          },
          "title": {
           "x": 0.05
          },
          "xaxis": {
           "automargin": true,
           "gridcolor": "white",
           "linecolor": "white",
           "ticks": "",
           "title": {
            "standoff": 15
           },
           "zerolinecolor": "white",
           "zerolinewidth": 2
          },
          "yaxis": {
           "automargin": true,
           "gridcolor": "white",
           "linecolor": "white",
           "ticks": "",
           "title": {
            "standoff": 15
           },
           "zerolinecolor": "white",
           "zerolinewidth": 2
          }
         }
        },
        "title": {
         "font": {
          "color": "#4D5663"
         }
        },
        "xaxis": {
         "gridcolor": "#E1E5ED",
         "showgrid": true,
         "tickfont": {
          "color": "#4D5663"
         },
         "title": {
          "font": {
           "color": "#4D5663"
          },
          "text": "loan_amount"
         },
         "zerolinecolor": "#E1E5ED"
        },
        "yaxis": {
         "gridcolor": "#E1E5ED",
         "showgrid": true,
         "tickfont": {
          "color": "#4D5663"
         },
         "title": {
          "font": {
           "color": "#4D5663"
          },
          "text": "Number of Person"
         },
         "zerolinecolor": "#E1E5ED"
        }
       }
      },
      "text/html": [
       "<div>                            <div id=\"f157792e-67b9-4cad-a515-21186212fbd7\" class=\"plotly-graph-div\" style=\"height:525px; width:100%;\"></div>            <script type=\"text/javascript\">                require([\"plotly\"], function(Plotly) {                    window.PLOTLYENV=window.PLOTLYENV || {};\n",
       "                    window.PLOTLYENV.BASE_URL='https://plot.ly';                                    if (document.getElementById(\"f157792e-67b9-4cad-a515-21186212fbd7\")) {                    Plotly.newPlot(                        \"f157792e-67b9-4cad-a515-21186212fbd7\",                        [{\"marker\":{\"color\":\"rgba(0, 128, 0, 0.6)\",\"line\":{\"color\":\"rgba(0, 128, 0, 1.0)\",\"width\":1}},\"name\":\"MaxPLoanAm\",\"orientation\":\"v\",\"text\":\"\",\"x\":[10000,8500,6000,12000,14000,13000,15000,11000,18000,16000,20000,17000,19000,7000,21000,22000,23000,24000,40000,26000,27000,28000,33000,44000,31000,30000,29000,35000,25000,32000,37000,39000,8000,42000,36000,34000,38000,9000,5000,41000,60000,56000],\"y\":[414,319,311,188,119,117,96,94,84,75,73,68,64,55,44,33,27,27,27,18,17,15,12,11,11,10,9,8,7,6,6,5,2,2,2,2,2,2,1,1,1,1],\"type\":\"bar\"}],                        {\"legend\":{\"bgcolor\":\"#F5F6F9\",\"font\":{\"color\":\"#4D5663\"}},\"paper_bgcolor\":\"#F5F6F9\",\"plot_bgcolor\":\"#F5F6F9\",\"template\":{\"data\":{\"barpolar\":[{\"marker\":{\"line\":{\"color\":\"#E5ECF6\",\"width\":0.5},\"pattern\":{\"fillmode\":\"overlay\",\"size\":10,\"solidity\":0.2}},\"type\":\"barpolar\"}],\"bar\":[{\"error_x\":{\"color\":\"#2a3f5f\"},\"error_y\":{\"color\":\"#2a3f5f\"},\"marker\":{\"line\":{\"color\":\"#E5ECF6\",\"width\":0.5},\"pattern\":{\"fillmode\":\"overlay\",\"size\":10,\"solidity\":0.2}},\"type\":\"bar\"}],\"carpet\":[{\"aaxis\":{\"endlinecolor\":\"#2a3f5f\",\"gridcolor\":\"white\",\"linecolor\":\"white\",\"minorgridcolor\":\"white\",\"startlinecolor\":\"#2a3f5f\"},\"baxis\":{\"endlinecolor\":\"#2a3f5f\",\"gridcolor\":\"white\",\"linecolor\":\"white\",\"minorgridcolor\":\"white\",\"startlinecolor\":\"#2a3f5f\"},\"type\":\"carpet\"}],\"choropleth\":[{\"colorbar\":{\"outlinewidth\":0,\"ticks\":\"\"},\"type\":\"choropleth\"}],\"contourcarpet\":[{\"colorbar\":{\"outlinewidth\":0,\"ticks\":\"\"},\"type\":\"contourcarpet\"}],\"contour\":[{\"colorbar\":{\"outlinewidth\":0,\"ticks\":\"\"},\"colorscale\":[[0.0,\"#0d0887\"],[0.1111111111111111,\"#46039f\"],[0.2222222222222222,\"#7201a8\"],[0.3333333333333333,\"#9c179e\"],[0.4444444444444444,\"#bd3786\"],[0.5555555555555556,\"#d8576b\"],[0.6666666666666666,\"#ed7953\"],[0.7777777777777778,\"#fb9f3a\"],[0.8888888888888888,\"#fdca26\"],[1.0,\"#f0f921\"]],\"type\":\"contour\"}],\"heatmapgl\":[{\"colorbar\":{\"outlinewidth\":0,\"ticks\":\"\"},\"colorscale\":[[0.0,\"#0d0887\"],[0.1111111111111111,\"#46039f\"],[0.2222222222222222,\"#7201a8\"],[0.3333333333333333,\"#9c179e\"],[0.4444444444444444,\"#bd3786\"],[0.5555555555555556,\"#d8576b\"],[0.6666666666666666,\"#ed7953\"],[0.7777777777777778,\"#fb9f3a\"],[0.8888888888888888,\"#fdca26\"],[1.0,\"#f0f921\"]],\"type\":\"heatmapgl\"}],\"heatmap\":[{\"colorbar\":{\"outlinewidth\":0,\"ticks\":\"\"},\"colorscale\":[[0.0,\"#0d0887\"],[0.1111111111111111,\"#46039f\"],[0.2222222222222222,\"#7201a8\"],[0.3333333333333333,\"#9c179e\"],[0.4444444444444444,\"#bd3786\"],[0.5555555555555556,\"#d8576b\"],[0.6666666666666666,\"#ed7953\"],[0.7777777777777778,\"#fb9f3a\"],[0.8888888888888888,\"#fdca26\"],[1.0,\"#f0f921\"]],\"type\":\"heatmap\"}],\"histogram2dcontour\":[{\"colorbar\":{\"outlinewidth\":0,\"ticks\":\"\"},\"colorscale\":[[0.0,\"#0d0887\"],[0.1111111111111111,\"#46039f\"],[0.2222222222222222,\"#7201a8\"],[0.3333333333333333,\"#9c179e\"],[0.4444444444444444,\"#bd3786\"],[0.5555555555555556,\"#d8576b\"],[0.6666666666666666,\"#ed7953\"],[0.7777777777777778,\"#fb9f3a\"],[0.8888888888888888,\"#fdca26\"],[1.0,\"#f0f921\"]],\"type\":\"histogram2dcontour\"}],\"histogram2d\":[{\"colorbar\":{\"outlinewidth\":0,\"ticks\":\"\"},\"colorscale\":[[0.0,\"#0d0887\"],[0.1111111111111111,\"#46039f\"],[0.2222222222222222,\"#7201a8\"],[0.3333333333333333,\"#9c179e\"],[0.4444444444444444,\"#bd3786\"],[0.5555555555555556,\"#d8576b\"],[0.6666666666666666,\"#ed7953\"],[0.7777777777777778,\"#fb9f3a\"],[0.8888888888888888,\"#fdca26\"],[1.0,\"#f0f921\"]],\"type\":\"histogram2d\"}],\"histogram\":[{\"marker\":{\"pattern\":{\"fillmode\":\"overlay\",\"size\":10,\"solidity\":0.2}},\"type\":\"histogram\"}],\"mesh3d\":[{\"colorbar\":{\"outlinewidth\":0,\"ticks\":\"\"},\"type\":\"mesh3d\"}],\"parcoords\":[{\"line\":{\"colorbar\":{\"outlinewidth\":0,\"ticks\":\"\"}},\"type\":\"parcoords\"}],\"pie\":[{\"automargin\":true,\"type\":\"pie\"}],\"scatter3d\":[{\"line\":{\"colorbar\":{\"outlinewidth\":0,\"ticks\":\"\"}},\"marker\":{\"colorbar\":{\"outlinewidth\":0,\"ticks\":\"\"}},\"type\":\"scatter3d\"}],\"scattercarpet\":[{\"marker\":{\"colorbar\":{\"outlinewidth\":0,\"ticks\":\"\"}},\"type\":\"scattercarpet\"}],\"scattergeo\":[{\"marker\":{\"colorbar\":{\"outlinewidth\":0,\"ticks\":\"\"}},\"type\":\"scattergeo\"}],\"scattergl\":[{\"marker\":{\"colorbar\":{\"outlinewidth\":0,\"ticks\":\"\"}},\"type\":\"scattergl\"}],\"scattermapbox\":[{\"marker\":{\"colorbar\":{\"outlinewidth\":0,\"ticks\":\"\"}},\"type\":\"scattermapbox\"}],\"scatterpolargl\":[{\"marker\":{\"colorbar\":{\"outlinewidth\":0,\"ticks\":\"\"}},\"type\":\"scatterpolargl\"}],\"scatterpolar\":[{\"marker\":{\"colorbar\":{\"outlinewidth\":0,\"ticks\":\"\"}},\"type\":\"scatterpolar\"}],\"scatter\":[{\"marker\":{\"colorbar\":{\"outlinewidth\":0,\"ticks\":\"\"}},\"type\":\"scatter\"}],\"scatterternary\":[{\"marker\":{\"colorbar\":{\"outlinewidth\":0,\"ticks\":\"\"}},\"type\":\"scatterternary\"}],\"surface\":[{\"colorbar\":{\"outlinewidth\":0,\"ticks\":\"\"},\"colorscale\":[[0.0,\"#0d0887\"],[0.1111111111111111,\"#46039f\"],[0.2222222222222222,\"#7201a8\"],[0.3333333333333333,\"#9c179e\"],[0.4444444444444444,\"#bd3786\"],[0.5555555555555556,\"#d8576b\"],[0.6666666666666666,\"#ed7953\"],[0.7777777777777778,\"#fb9f3a\"],[0.8888888888888888,\"#fdca26\"],[1.0,\"#f0f921\"]],\"type\":\"surface\"}],\"table\":[{\"cells\":{\"fill\":{\"color\":\"#EBF0F8\"},\"line\":{\"color\":\"white\"}},\"header\":{\"fill\":{\"color\":\"#C8D4E3\"},\"line\":{\"color\":\"white\"}},\"type\":\"table\"}]},\"layout\":{\"annotationdefaults\":{\"arrowcolor\":\"#2a3f5f\",\"arrowhead\":0,\"arrowwidth\":1},\"autotypenumbers\":\"strict\",\"coloraxis\":{\"colorbar\":{\"outlinewidth\":0,\"ticks\":\"\"}},\"colorscale\":{\"diverging\":[[0,\"#8e0152\"],[0.1,\"#c51b7d\"],[0.2,\"#de77ae\"],[0.3,\"#f1b6da\"],[0.4,\"#fde0ef\"],[0.5,\"#f7f7f7\"],[0.6,\"#e6f5d0\"],[0.7,\"#b8e186\"],[0.8,\"#7fbc41\"],[0.9,\"#4d9221\"],[1,\"#276419\"]],\"sequential\":[[0.0,\"#0d0887\"],[0.1111111111111111,\"#46039f\"],[0.2222222222222222,\"#7201a8\"],[0.3333333333333333,\"#9c179e\"],[0.4444444444444444,\"#bd3786\"],[0.5555555555555556,\"#d8576b\"],[0.6666666666666666,\"#ed7953\"],[0.7777777777777778,\"#fb9f3a\"],[0.8888888888888888,\"#fdca26\"],[1.0,\"#f0f921\"]],\"sequentialminus\":[[0.0,\"#0d0887\"],[0.1111111111111111,\"#46039f\"],[0.2222222222222222,\"#7201a8\"],[0.3333333333333333,\"#9c179e\"],[0.4444444444444444,\"#bd3786\"],[0.5555555555555556,\"#d8576b\"],[0.6666666666666666,\"#ed7953\"],[0.7777777777777778,\"#fb9f3a\"],[0.8888888888888888,\"#fdca26\"],[1.0,\"#f0f921\"]]},\"colorway\":[\"#636efa\",\"#EF553B\",\"#00cc96\",\"#ab63fa\",\"#FFA15A\",\"#19d3f3\",\"#FF6692\",\"#B6E880\",\"#FF97FF\",\"#FECB52\"],\"font\":{\"color\":\"#2a3f5f\"},\"geo\":{\"bgcolor\":\"white\",\"lakecolor\":\"white\",\"landcolor\":\"#E5ECF6\",\"showlakes\":true,\"showland\":true,\"subunitcolor\":\"white\"},\"hoverlabel\":{\"align\":\"left\"},\"hovermode\":\"closest\",\"mapbox\":{\"style\":\"light\"},\"paper_bgcolor\":\"white\",\"plot_bgcolor\":\"#E5ECF6\",\"polar\":{\"angularaxis\":{\"gridcolor\":\"white\",\"linecolor\":\"white\",\"ticks\":\"\"},\"bgcolor\":\"#E5ECF6\",\"radialaxis\":{\"gridcolor\":\"white\",\"linecolor\":\"white\",\"ticks\":\"\"}},\"scene\":{\"xaxis\":{\"backgroundcolor\":\"#E5ECF6\",\"gridcolor\":\"white\",\"gridwidth\":2,\"linecolor\":\"white\",\"showbackground\":true,\"ticks\":\"\",\"zerolinecolor\":\"white\"},\"yaxis\":{\"backgroundcolor\":\"#E5ECF6\",\"gridcolor\":\"white\",\"gridwidth\":2,\"linecolor\":\"white\",\"showbackground\":true,\"ticks\":\"\",\"zerolinecolor\":\"white\"},\"zaxis\":{\"backgroundcolor\":\"#E5ECF6\",\"gridcolor\":\"white\",\"gridwidth\":2,\"linecolor\":\"white\",\"showbackground\":true,\"ticks\":\"\",\"zerolinecolor\":\"white\"}},\"shapedefaults\":{\"line\":{\"color\":\"#2a3f5f\"}},\"ternary\":{\"aaxis\":{\"gridcolor\":\"white\",\"linecolor\":\"white\",\"ticks\":\"\"},\"baxis\":{\"gridcolor\":\"white\",\"linecolor\":\"white\",\"ticks\":\"\"},\"bgcolor\":\"#E5ECF6\",\"caxis\":{\"gridcolor\":\"white\",\"linecolor\":\"white\",\"ticks\":\"\"}},\"title\":{\"x\":0.05},\"xaxis\":{\"automargin\":true,\"gridcolor\":\"white\",\"linecolor\":\"white\",\"ticks\":\"\",\"title\":{\"standoff\":15},\"zerolinecolor\":\"white\",\"zerolinewidth\":2},\"yaxis\":{\"automargin\":true,\"gridcolor\":\"white\",\"linecolor\":\"white\",\"ticks\":\"\",\"title\":{\"standoff\":15},\"zerolinecolor\":\"white\",\"zerolinewidth\":2}}},\"title\":{\"font\":{\"color\":\"#4D5663\"}},\"xaxis\":{\"gridcolor\":\"#E1E5ED\",\"showgrid\":true,\"tickfont\":{\"color\":\"#4D5663\"},\"title\":{\"font\":{\"color\":\"#4D5663\"},\"text\":\"loan_amount\"},\"zerolinecolor\":\"#E1E5ED\"},\"yaxis\":{\"gridcolor\":\"#E1E5ED\",\"showgrid\":true,\"tickfont\":{\"color\":\"#4D5663\"},\"title\":{\"font\":{\"color\":\"#4D5663\"},\"text\":\"Number of Person\"},\"zerolinecolor\":\"#E1E5ED\"}},                        {\"showLink\": true, \"linkText\": \"Export to plot.ly\", \"plotlyServerURL\": \"https://plot.ly\", \"responsive\": true}                    ).then(function(){\n",
       "                            \n",
       "var gd = document.getElementById('f157792e-67b9-4cad-a515-21186212fbd7');\n",
       "var x = new MutationObserver(function (mutations, observer) {{\n",
       "        var display = window.getComputedStyle(gd).display;\n",
       "        if (!display || display === 'none') {{\n",
       "            console.log([gd, 'removed!']);\n",
       "            Plotly.purge(gd);\n",
       "            observer.disconnect();\n",
       "        }}\n",
       "}});\n",
       "\n",
       "// Listen for the removal of the full notebook cells\n",
       "var notebookContainer = gd.closest('#notebook-container');\n",
       "if (notebookContainer) {{\n",
       "    x.observe(notebookContainer, {childList: true});\n",
       "}}\n",
       "\n",
       "// Listen for the clearing of the current output cell\n",
       "var outputEl = gd.closest('.output');\n",
       "if (outputEl) {{\n",
       "    x.observe(outputEl, {childList: true});\n",
       "}}\n",
       "\n",
       "                        })                };                });            </script>        </div>"
      ]
     },
     "metadata": {},
     "output_type": "display_data"
    }
   ],
   "source": [
    "(df3['MaxPLoanAm']).value_counts().iplot(kind='bar',xTitle='loan_amount', yTitle='Number of Person',color='green')"
   ]
  },
  {
   "cell_type": "code",
   "execution_count": 39,
   "id": "46fe0f9a",
   "metadata": {},
   "outputs": [
    {
     "data": {
      "application/vnd.plotly.v1+json": {
       "config": {
        "linkText": "Export to plot.ly",
        "plotlyServerURL": "https://plot.ly",
        "showLink": true
       },
       "data": [
        {
         "marker": {
          "color": "rgba(219, 64, 82, 0.6)",
          "line": {
           "color": "rgba(219, 64, 82, 1.0)",
           "width": 1
          }
         },
         "name": "age",
         "orientation": "v",
         "text": "",
         "type": "bar",
         "x": [
          33,
          32,
          36,
          35,
          34,
          38,
          37,
          39,
          31,
          30,
          40,
          41,
          29,
          42,
          43,
          28,
          44,
          45,
          46,
          26,
          49,
          27,
          47,
          50,
          52,
          48,
          51,
          25,
          24,
          55,
          59,
          58,
          23,
          53
         ],
         "y": [
          124,
          121,
          117,
          116,
          98,
          97,
          95,
          77,
          75,
          67,
          65,
          59,
          58,
          36,
          31,
          25,
          22,
          20,
          19,
          12,
          10,
          10,
          10,
          10,
          9,
          8,
          7,
          6,
          5,
          2,
          1,
          1,
          1,
          1
         ]
        }
       ],
       "layout": {
        "legend": {
         "bgcolor": "#F5F6F9",
         "font": {
          "color": "#4D5663"
         }
        },
        "paper_bgcolor": "#F5F6F9",
        "plot_bgcolor": "#F5F6F9",
        "template": {
         "data": {
          "bar": [
           {
            "error_x": {
             "color": "#2a3f5f"
            },
            "error_y": {
             "color": "#2a3f5f"
            },
            "marker": {
             "line": {
              "color": "#E5ECF6",
              "width": 0.5
             },
             "pattern": {
              "fillmode": "overlay",
              "size": 10,
              "solidity": 0.2
             }
            },
            "type": "bar"
           }
          ],
          "barpolar": [
           {
            "marker": {
             "line": {
              "color": "#E5ECF6",
              "width": 0.5
             },
             "pattern": {
              "fillmode": "overlay",
              "size": 10,
              "solidity": 0.2
             }
            },
            "type": "barpolar"
           }
          ],
          "carpet": [
           {
            "aaxis": {
             "endlinecolor": "#2a3f5f",
             "gridcolor": "white",
             "linecolor": "white",
             "minorgridcolor": "white",
             "startlinecolor": "#2a3f5f"
            },
            "baxis": {
             "endlinecolor": "#2a3f5f",
             "gridcolor": "white",
             "linecolor": "white",
             "minorgridcolor": "white",
             "startlinecolor": "#2a3f5f"
            },
            "type": "carpet"
           }
          ],
          "choropleth": [
           {
            "colorbar": {
             "outlinewidth": 0,
             "ticks": ""
            },
            "type": "choropleth"
           }
          ],
          "contour": [
           {
            "colorbar": {
             "outlinewidth": 0,
             "ticks": ""
            },
            "colorscale": [
             [
              0,
              "#0d0887"
             ],
             [
              0.1111111111111111,
              "#46039f"
             ],
             [
              0.2222222222222222,
              "#7201a8"
             ],
             [
              0.3333333333333333,
              "#9c179e"
             ],
             [
              0.4444444444444444,
              "#bd3786"
             ],
             [
              0.5555555555555556,
              "#d8576b"
             ],
             [
              0.6666666666666666,
              "#ed7953"
             ],
             [
              0.7777777777777778,
              "#fb9f3a"
             ],
             [
              0.8888888888888888,
              "#fdca26"
             ],
             [
              1,
              "#f0f921"
             ]
            ],
            "type": "contour"
           }
          ],
          "contourcarpet": [
           {
            "colorbar": {
             "outlinewidth": 0,
             "ticks": ""
            },
            "type": "contourcarpet"
           }
          ],
          "heatmap": [
           {
            "colorbar": {
             "outlinewidth": 0,
             "ticks": ""
            },
            "colorscale": [
             [
              0,
              "#0d0887"
             ],
             [
              0.1111111111111111,
              "#46039f"
             ],
             [
              0.2222222222222222,
              "#7201a8"
             ],
             [
              0.3333333333333333,
              "#9c179e"
             ],
             [
              0.4444444444444444,
              "#bd3786"
             ],
             [
              0.5555555555555556,
              "#d8576b"
             ],
             [
              0.6666666666666666,
              "#ed7953"
             ],
             [
              0.7777777777777778,
              "#fb9f3a"
             ],
             [
              0.8888888888888888,
              "#fdca26"
             ],
             [
              1,
              "#f0f921"
             ]
            ],
            "type": "heatmap"
           }
          ],
          "heatmapgl": [
           {
            "colorbar": {
             "outlinewidth": 0,
             "ticks": ""
            },
            "colorscale": [
             [
              0,
              "#0d0887"
             ],
             [
              0.1111111111111111,
              "#46039f"
             ],
             [
              0.2222222222222222,
              "#7201a8"
             ],
             [
              0.3333333333333333,
              "#9c179e"
             ],
             [
              0.4444444444444444,
              "#bd3786"
             ],
             [
              0.5555555555555556,
              "#d8576b"
             ],
             [
              0.6666666666666666,
              "#ed7953"
             ],
             [
              0.7777777777777778,
              "#fb9f3a"
             ],
             [
              0.8888888888888888,
              "#fdca26"
             ],
             [
              1,
              "#f0f921"
             ]
            ],
            "type": "heatmapgl"
           }
          ],
          "histogram": [
           {
            "marker": {
             "pattern": {
              "fillmode": "overlay",
              "size": 10,
              "solidity": 0.2
             }
            },
            "type": "histogram"
           }
          ],
          "histogram2d": [
           {
            "colorbar": {
             "outlinewidth": 0,
             "ticks": ""
            },
            "colorscale": [
             [
              0,
              "#0d0887"
             ],
             [
              0.1111111111111111,
              "#46039f"
             ],
             [
              0.2222222222222222,
              "#7201a8"
             ],
             [
              0.3333333333333333,
              "#9c179e"
             ],
             [
              0.4444444444444444,
              "#bd3786"
             ],
             [
              0.5555555555555556,
              "#d8576b"
             ],
             [
              0.6666666666666666,
              "#ed7953"
             ],
             [
              0.7777777777777778,
              "#fb9f3a"
             ],
             [
              0.8888888888888888,
              "#fdca26"
             ],
             [
              1,
              "#f0f921"
             ]
            ],
            "type": "histogram2d"
           }
          ],
          "histogram2dcontour": [
           {
            "colorbar": {
             "outlinewidth": 0,
             "ticks": ""
            },
            "colorscale": [
             [
              0,
              "#0d0887"
             ],
             [
              0.1111111111111111,
              "#46039f"
             ],
             [
              0.2222222222222222,
              "#7201a8"
             ],
             [
              0.3333333333333333,
              "#9c179e"
             ],
             [
              0.4444444444444444,
              "#bd3786"
             ],
             [
              0.5555555555555556,
              "#d8576b"
             ],
             [
              0.6666666666666666,
              "#ed7953"
             ],
             [
              0.7777777777777778,
              "#fb9f3a"
             ],
             [
              0.8888888888888888,
              "#fdca26"
             ],
             [
              1,
              "#f0f921"
             ]
            ],
            "type": "histogram2dcontour"
           }
          ],
          "mesh3d": [
           {
            "colorbar": {
             "outlinewidth": 0,
             "ticks": ""
            },
            "type": "mesh3d"
           }
          ],
          "parcoords": [
           {
            "line": {
             "colorbar": {
              "outlinewidth": 0,
              "ticks": ""
             }
            },
            "type": "parcoords"
           }
          ],
          "pie": [
           {
            "automargin": true,
            "type": "pie"
           }
          ],
          "scatter": [
           {
            "marker": {
             "colorbar": {
              "outlinewidth": 0,
              "ticks": ""
             }
            },
            "type": "scatter"
           }
          ],
          "scatter3d": [
           {
            "line": {
             "colorbar": {
              "outlinewidth": 0,
              "ticks": ""
             }
            },
            "marker": {
             "colorbar": {
              "outlinewidth": 0,
              "ticks": ""
             }
            },
            "type": "scatter3d"
           }
          ],
          "scattercarpet": [
           {
            "marker": {
             "colorbar": {
              "outlinewidth": 0,
              "ticks": ""
             }
            },
            "type": "scattercarpet"
           }
          ],
          "scattergeo": [
           {
            "marker": {
             "colorbar": {
              "outlinewidth": 0,
              "ticks": ""
             }
            },
            "type": "scattergeo"
           }
          ],
          "scattergl": [
           {
            "marker": {
             "colorbar": {
              "outlinewidth": 0,
              "ticks": ""
             }
            },
            "type": "scattergl"
           }
          ],
          "scattermapbox": [
           {
            "marker": {
             "colorbar": {
              "outlinewidth": 0,
              "ticks": ""
             }
            },
            "type": "scattermapbox"
           }
          ],
          "scatterpolar": [
           {
            "marker": {
             "colorbar": {
              "outlinewidth": 0,
              "ticks": ""
             }
            },
            "type": "scatterpolar"
           }
          ],
          "scatterpolargl": [
           {
            "marker": {
             "colorbar": {
              "outlinewidth": 0,
              "ticks": ""
             }
            },
            "type": "scatterpolargl"
           }
          ],
          "scatterternary": [
           {
            "marker": {
             "colorbar": {
              "outlinewidth": 0,
              "ticks": ""
             }
            },
            "type": "scatterternary"
           }
          ],
          "surface": [
           {
            "colorbar": {
             "outlinewidth": 0,
             "ticks": ""
            },
            "colorscale": [
             [
              0,
              "#0d0887"
             ],
             [
              0.1111111111111111,
              "#46039f"
             ],
             [
              0.2222222222222222,
              "#7201a8"
             ],
             [
              0.3333333333333333,
              "#9c179e"
             ],
             [
              0.4444444444444444,
              "#bd3786"
             ],
             [
              0.5555555555555556,
              "#d8576b"
             ],
             [
              0.6666666666666666,
              "#ed7953"
             ],
             [
              0.7777777777777778,
              "#fb9f3a"
             ],
             [
              0.8888888888888888,
              "#fdca26"
             ],
             [
              1,
              "#f0f921"
             ]
            ],
            "type": "surface"
           }
          ],
          "table": [
           {
            "cells": {
             "fill": {
              "color": "#EBF0F8"
             },
             "line": {
              "color": "white"
             }
            },
            "header": {
             "fill": {
              "color": "#C8D4E3"
             },
             "line": {
              "color": "white"
             }
            },
            "type": "table"
           }
          ]
         },
         "layout": {
          "annotationdefaults": {
           "arrowcolor": "#2a3f5f",
           "arrowhead": 0,
           "arrowwidth": 1
          },
          "autotypenumbers": "strict",
          "coloraxis": {
           "colorbar": {
            "outlinewidth": 0,
            "ticks": ""
           }
          },
          "colorscale": {
           "diverging": [
            [
             0,
             "#8e0152"
            ],
            [
             0.1,
             "#c51b7d"
            ],
            [
             0.2,
             "#de77ae"
            ],
            [
             0.3,
             "#f1b6da"
            ],
            [
             0.4,
             "#fde0ef"
            ],
            [
             0.5,
             "#f7f7f7"
            ],
            [
             0.6,
             "#e6f5d0"
            ],
            [
             0.7,
             "#b8e186"
            ],
            [
             0.8,
             "#7fbc41"
            ],
            [
             0.9,
             "#4d9221"
            ],
            [
             1,
             "#276419"
            ]
           ],
           "sequential": [
            [
             0,
             "#0d0887"
            ],
            [
             0.1111111111111111,
             "#46039f"
            ],
            [
             0.2222222222222222,
             "#7201a8"
            ],
            [
             0.3333333333333333,
             "#9c179e"
            ],
            [
             0.4444444444444444,
             "#bd3786"
            ],
            [
             0.5555555555555556,
             "#d8576b"
            ],
            [
             0.6666666666666666,
             "#ed7953"
            ],
            [
             0.7777777777777778,
             "#fb9f3a"
            ],
            [
             0.8888888888888888,
             "#fdca26"
            ],
            [
             1,
             "#f0f921"
            ]
           ],
           "sequentialminus": [
            [
             0,
             "#0d0887"
            ],
            [
             0.1111111111111111,
             "#46039f"
            ],
            [
             0.2222222222222222,
             "#7201a8"
            ],
            [
             0.3333333333333333,
             "#9c179e"
            ],
            [
             0.4444444444444444,
             "#bd3786"
            ],
            [
             0.5555555555555556,
             "#d8576b"
            ],
            [
             0.6666666666666666,
             "#ed7953"
            ],
            [
             0.7777777777777778,
             "#fb9f3a"
            ],
            [
             0.8888888888888888,
             "#fdca26"
            ],
            [
             1,
             "#f0f921"
            ]
           ]
          },
          "colorway": [
           "#636efa",
           "#EF553B",
           "#00cc96",
           "#ab63fa",
           "#FFA15A",
           "#19d3f3",
           "#FF6692",
           "#B6E880",
           "#FF97FF",
           "#FECB52"
          ],
          "font": {
           "color": "#2a3f5f"
          },
          "geo": {
           "bgcolor": "white",
           "lakecolor": "white",
           "landcolor": "#E5ECF6",
           "showlakes": true,
           "showland": true,
           "subunitcolor": "white"
          },
          "hoverlabel": {
           "align": "left"
          },
          "hovermode": "closest",
          "mapbox": {
           "style": "light"
          },
          "paper_bgcolor": "white",
          "plot_bgcolor": "#E5ECF6",
          "polar": {
           "angularaxis": {
            "gridcolor": "white",
            "linecolor": "white",
            "ticks": ""
           },
           "bgcolor": "#E5ECF6",
           "radialaxis": {
            "gridcolor": "white",
            "linecolor": "white",
            "ticks": ""
           }
          },
          "scene": {
           "xaxis": {
            "backgroundcolor": "#E5ECF6",
            "gridcolor": "white",
            "gridwidth": 2,
            "linecolor": "white",
            "showbackground": true,
            "ticks": "",
            "zerolinecolor": "white"
           },
           "yaxis": {
            "backgroundcolor": "#E5ECF6",
            "gridcolor": "white",
            "gridwidth": 2,
            "linecolor": "white",
            "showbackground": true,
            "ticks": "",
            "zerolinecolor": "white"
           },
           "zaxis": {
            "backgroundcolor": "#E5ECF6",
            "gridcolor": "white",
            "gridwidth": 2,
            "linecolor": "white",
            "showbackground": true,
            "ticks": "",
            "zerolinecolor": "white"
           }
          },
          "shapedefaults": {
           "line": {
            "color": "#2a3f5f"
           }
          },
          "ternary": {
           "aaxis": {
            "gridcolor": "white",
            "linecolor": "white",
            "ticks": ""
           },
           "baxis": {
            "gridcolor": "white",
            "linecolor": "white",
            "ticks": ""
           },
           "bgcolor": "#E5ECF6",
           "caxis": {
            "gridcolor": "white",
            "linecolor": "white",
            "ticks": ""
           }
          },
          "title": {
           "x": 0.05
          },
          "xaxis": {
           "automargin": true,
           "gridcolor": "white",
           "linecolor": "white",
           "ticks": "",
           "title": {
            "standoff": 15
           },
           "zerolinecolor": "white",
           "zerolinewidth": 2
          },
          "yaxis": {
           "automargin": true,
           "gridcolor": "white",
           "linecolor": "white",
           "ticks": "",
           "title": {
            "standoff": 15
           },
           "zerolinecolor": "white",
           "zerolinewidth": 2
          }
         }
        },
        "title": {
         "font": {
          "color": "#4D5663"
         }
        },
        "xaxis": {
         "gridcolor": "#E1E5ED",
         "showgrid": true,
         "tickfont": {
          "color": "#4D5663"
         },
         "title": {
          "font": {
           "color": "#4D5663"
          },
          "text": "age"
         },
         "zerolinecolor": "#E1E5ED"
        },
        "yaxis": {
         "gridcolor": "#E1E5ED",
         "showgrid": true,
         "tickfont": {
          "color": "#4D5663"
         },
         "title": {
          "font": {
           "color": "#4D5663"
          },
          "text": "Number of Person"
         },
         "zerolinecolor": "#E1E5ED"
        }
       }
      },
      "text/html": [
       "<div>                            <div id=\"1cc4e1dd-7a83-40be-a201-b180f709da2b\" class=\"plotly-graph-div\" style=\"height:525px; width:100%;\"></div>            <script type=\"text/javascript\">                require([\"plotly\"], function(Plotly) {                    window.PLOTLYENV=window.PLOTLYENV || {};\n",
       "                    window.PLOTLYENV.BASE_URL='https://plot.ly';                                    if (document.getElementById(\"1cc4e1dd-7a83-40be-a201-b180f709da2b\")) {                    Plotly.newPlot(                        \"1cc4e1dd-7a83-40be-a201-b180f709da2b\",                        [{\"marker\":{\"color\":\"rgba(219, 64, 82, 0.6)\",\"line\":{\"color\":\"rgba(219, 64, 82, 1.0)\",\"width\":1}},\"name\":\"age\",\"orientation\":\"v\",\"text\":\"\",\"x\":[33,32,36,35,34,38,37,39,31,30,40,41,29,42,43,28,44,45,46,26,49,27,47,50,52,48,51,25,24,55,59,58,23,53],\"y\":[124,121,117,116,98,97,95,77,75,67,65,59,58,36,31,25,22,20,19,12,10,10,10,10,9,8,7,6,5,2,1,1,1,1],\"type\":\"bar\"}],                        {\"legend\":{\"bgcolor\":\"#F5F6F9\",\"font\":{\"color\":\"#4D5663\"}},\"paper_bgcolor\":\"#F5F6F9\",\"plot_bgcolor\":\"#F5F6F9\",\"template\":{\"data\":{\"barpolar\":[{\"marker\":{\"line\":{\"color\":\"#E5ECF6\",\"width\":0.5},\"pattern\":{\"fillmode\":\"overlay\",\"size\":10,\"solidity\":0.2}},\"type\":\"barpolar\"}],\"bar\":[{\"error_x\":{\"color\":\"#2a3f5f\"},\"error_y\":{\"color\":\"#2a3f5f\"},\"marker\":{\"line\":{\"color\":\"#E5ECF6\",\"width\":0.5},\"pattern\":{\"fillmode\":\"overlay\",\"size\":10,\"solidity\":0.2}},\"type\":\"bar\"}],\"carpet\":[{\"aaxis\":{\"endlinecolor\":\"#2a3f5f\",\"gridcolor\":\"white\",\"linecolor\":\"white\",\"minorgridcolor\":\"white\",\"startlinecolor\":\"#2a3f5f\"},\"baxis\":{\"endlinecolor\":\"#2a3f5f\",\"gridcolor\":\"white\",\"linecolor\":\"white\",\"minorgridcolor\":\"white\",\"startlinecolor\":\"#2a3f5f\"},\"type\":\"carpet\"}],\"choropleth\":[{\"colorbar\":{\"outlinewidth\":0,\"ticks\":\"\"},\"type\":\"choropleth\"}],\"contourcarpet\":[{\"colorbar\":{\"outlinewidth\":0,\"ticks\":\"\"},\"type\":\"contourcarpet\"}],\"contour\":[{\"colorbar\":{\"outlinewidth\":0,\"ticks\":\"\"},\"colorscale\":[[0.0,\"#0d0887\"],[0.1111111111111111,\"#46039f\"],[0.2222222222222222,\"#7201a8\"],[0.3333333333333333,\"#9c179e\"],[0.4444444444444444,\"#bd3786\"],[0.5555555555555556,\"#d8576b\"],[0.6666666666666666,\"#ed7953\"],[0.7777777777777778,\"#fb9f3a\"],[0.8888888888888888,\"#fdca26\"],[1.0,\"#f0f921\"]],\"type\":\"contour\"}],\"heatmapgl\":[{\"colorbar\":{\"outlinewidth\":0,\"ticks\":\"\"},\"colorscale\":[[0.0,\"#0d0887\"],[0.1111111111111111,\"#46039f\"],[0.2222222222222222,\"#7201a8\"],[0.3333333333333333,\"#9c179e\"],[0.4444444444444444,\"#bd3786\"],[0.5555555555555556,\"#d8576b\"],[0.6666666666666666,\"#ed7953\"],[0.7777777777777778,\"#fb9f3a\"],[0.8888888888888888,\"#fdca26\"],[1.0,\"#f0f921\"]],\"type\":\"heatmapgl\"}],\"heatmap\":[{\"colorbar\":{\"outlinewidth\":0,\"ticks\":\"\"},\"colorscale\":[[0.0,\"#0d0887\"],[0.1111111111111111,\"#46039f\"],[0.2222222222222222,\"#7201a8\"],[0.3333333333333333,\"#9c179e\"],[0.4444444444444444,\"#bd3786\"],[0.5555555555555556,\"#d8576b\"],[0.6666666666666666,\"#ed7953\"],[0.7777777777777778,\"#fb9f3a\"],[0.8888888888888888,\"#fdca26\"],[1.0,\"#f0f921\"]],\"type\":\"heatmap\"}],\"histogram2dcontour\":[{\"colorbar\":{\"outlinewidth\":0,\"ticks\":\"\"},\"colorscale\":[[0.0,\"#0d0887\"],[0.1111111111111111,\"#46039f\"],[0.2222222222222222,\"#7201a8\"],[0.3333333333333333,\"#9c179e\"],[0.4444444444444444,\"#bd3786\"],[0.5555555555555556,\"#d8576b\"],[0.6666666666666666,\"#ed7953\"],[0.7777777777777778,\"#fb9f3a\"],[0.8888888888888888,\"#fdca26\"],[1.0,\"#f0f921\"]],\"type\":\"histogram2dcontour\"}],\"histogram2d\":[{\"colorbar\":{\"outlinewidth\":0,\"ticks\":\"\"},\"colorscale\":[[0.0,\"#0d0887\"],[0.1111111111111111,\"#46039f\"],[0.2222222222222222,\"#7201a8\"],[0.3333333333333333,\"#9c179e\"],[0.4444444444444444,\"#bd3786\"],[0.5555555555555556,\"#d8576b\"],[0.6666666666666666,\"#ed7953\"],[0.7777777777777778,\"#fb9f3a\"],[0.8888888888888888,\"#fdca26\"],[1.0,\"#f0f921\"]],\"type\":\"histogram2d\"}],\"histogram\":[{\"marker\":{\"pattern\":{\"fillmode\":\"overlay\",\"size\":10,\"solidity\":0.2}},\"type\":\"histogram\"}],\"mesh3d\":[{\"colorbar\":{\"outlinewidth\":0,\"ticks\":\"\"},\"type\":\"mesh3d\"}],\"parcoords\":[{\"line\":{\"colorbar\":{\"outlinewidth\":0,\"ticks\":\"\"}},\"type\":\"parcoords\"}],\"pie\":[{\"automargin\":true,\"type\":\"pie\"}],\"scatter3d\":[{\"line\":{\"colorbar\":{\"outlinewidth\":0,\"ticks\":\"\"}},\"marker\":{\"colorbar\":{\"outlinewidth\":0,\"ticks\":\"\"}},\"type\":\"scatter3d\"}],\"scattercarpet\":[{\"marker\":{\"colorbar\":{\"outlinewidth\":0,\"ticks\":\"\"}},\"type\":\"scattercarpet\"}],\"scattergeo\":[{\"marker\":{\"colorbar\":{\"outlinewidth\":0,\"ticks\":\"\"}},\"type\":\"scattergeo\"}],\"scattergl\":[{\"marker\":{\"colorbar\":{\"outlinewidth\":0,\"ticks\":\"\"}},\"type\":\"scattergl\"}],\"scattermapbox\":[{\"marker\":{\"colorbar\":{\"outlinewidth\":0,\"ticks\":\"\"}},\"type\":\"scattermapbox\"}],\"scatterpolargl\":[{\"marker\":{\"colorbar\":{\"outlinewidth\":0,\"ticks\":\"\"}},\"type\":\"scatterpolargl\"}],\"scatterpolar\":[{\"marker\":{\"colorbar\":{\"outlinewidth\":0,\"ticks\":\"\"}},\"type\":\"scatterpolar\"}],\"scatter\":[{\"marker\":{\"colorbar\":{\"outlinewidth\":0,\"ticks\":\"\"}},\"type\":\"scatter\"}],\"scatterternary\":[{\"marker\":{\"colorbar\":{\"outlinewidth\":0,\"ticks\":\"\"}},\"type\":\"scatterternary\"}],\"surface\":[{\"colorbar\":{\"outlinewidth\":0,\"ticks\":\"\"},\"colorscale\":[[0.0,\"#0d0887\"],[0.1111111111111111,\"#46039f\"],[0.2222222222222222,\"#7201a8\"],[0.3333333333333333,\"#9c179e\"],[0.4444444444444444,\"#bd3786\"],[0.5555555555555556,\"#d8576b\"],[0.6666666666666666,\"#ed7953\"],[0.7777777777777778,\"#fb9f3a\"],[0.8888888888888888,\"#fdca26\"],[1.0,\"#f0f921\"]],\"type\":\"surface\"}],\"table\":[{\"cells\":{\"fill\":{\"color\":\"#EBF0F8\"},\"line\":{\"color\":\"white\"}},\"header\":{\"fill\":{\"color\":\"#C8D4E3\"},\"line\":{\"color\":\"white\"}},\"type\":\"table\"}]},\"layout\":{\"annotationdefaults\":{\"arrowcolor\":\"#2a3f5f\",\"arrowhead\":0,\"arrowwidth\":1},\"autotypenumbers\":\"strict\",\"coloraxis\":{\"colorbar\":{\"outlinewidth\":0,\"ticks\":\"\"}},\"colorscale\":{\"diverging\":[[0,\"#8e0152\"],[0.1,\"#c51b7d\"],[0.2,\"#de77ae\"],[0.3,\"#f1b6da\"],[0.4,\"#fde0ef\"],[0.5,\"#f7f7f7\"],[0.6,\"#e6f5d0\"],[0.7,\"#b8e186\"],[0.8,\"#7fbc41\"],[0.9,\"#4d9221\"],[1,\"#276419\"]],\"sequential\":[[0.0,\"#0d0887\"],[0.1111111111111111,\"#46039f\"],[0.2222222222222222,\"#7201a8\"],[0.3333333333333333,\"#9c179e\"],[0.4444444444444444,\"#bd3786\"],[0.5555555555555556,\"#d8576b\"],[0.6666666666666666,\"#ed7953\"],[0.7777777777777778,\"#fb9f3a\"],[0.8888888888888888,\"#fdca26\"],[1.0,\"#f0f921\"]],\"sequentialminus\":[[0.0,\"#0d0887\"],[0.1111111111111111,\"#46039f\"],[0.2222222222222222,\"#7201a8\"],[0.3333333333333333,\"#9c179e\"],[0.4444444444444444,\"#bd3786\"],[0.5555555555555556,\"#d8576b\"],[0.6666666666666666,\"#ed7953\"],[0.7777777777777778,\"#fb9f3a\"],[0.8888888888888888,\"#fdca26\"],[1.0,\"#f0f921\"]]},\"colorway\":[\"#636efa\",\"#EF553B\",\"#00cc96\",\"#ab63fa\",\"#FFA15A\",\"#19d3f3\",\"#FF6692\",\"#B6E880\",\"#FF97FF\",\"#FECB52\"],\"font\":{\"color\":\"#2a3f5f\"},\"geo\":{\"bgcolor\":\"white\",\"lakecolor\":\"white\",\"landcolor\":\"#E5ECF6\",\"showlakes\":true,\"showland\":true,\"subunitcolor\":\"white\"},\"hoverlabel\":{\"align\":\"left\"},\"hovermode\":\"closest\",\"mapbox\":{\"style\":\"light\"},\"paper_bgcolor\":\"white\",\"plot_bgcolor\":\"#E5ECF6\",\"polar\":{\"angularaxis\":{\"gridcolor\":\"white\",\"linecolor\":\"white\",\"ticks\":\"\"},\"bgcolor\":\"#E5ECF6\",\"radialaxis\":{\"gridcolor\":\"white\",\"linecolor\":\"white\",\"ticks\":\"\"}},\"scene\":{\"xaxis\":{\"backgroundcolor\":\"#E5ECF6\",\"gridcolor\":\"white\",\"gridwidth\":2,\"linecolor\":\"white\",\"showbackground\":true,\"ticks\":\"\",\"zerolinecolor\":\"white\"},\"yaxis\":{\"backgroundcolor\":\"#E5ECF6\",\"gridcolor\":\"white\",\"gridwidth\":2,\"linecolor\":\"white\",\"showbackground\":true,\"ticks\":\"\",\"zerolinecolor\":\"white\"},\"zaxis\":{\"backgroundcolor\":\"#E5ECF6\",\"gridcolor\":\"white\",\"gridwidth\":2,\"linecolor\":\"white\",\"showbackground\":true,\"ticks\":\"\",\"zerolinecolor\":\"white\"}},\"shapedefaults\":{\"line\":{\"color\":\"#2a3f5f\"}},\"ternary\":{\"aaxis\":{\"gridcolor\":\"white\",\"linecolor\":\"white\",\"ticks\":\"\"},\"baxis\":{\"gridcolor\":\"white\",\"linecolor\":\"white\",\"ticks\":\"\"},\"bgcolor\":\"#E5ECF6\",\"caxis\":{\"gridcolor\":\"white\",\"linecolor\":\"white\",\"ticks\":\"\"}},\"title\":{\"x\":0.05},\"xaxis\":{\"automargin\":true,\"gridcolor\":\"white\",\"linecolor\":\"white\",\"ticks\":\"\",\"title\":{\"standoff\":15},\"zerolinecolor\":\"white\",\"zerolinewidth\":2},\"yaxis\":{\"automargin\":true,\"gridcolor\":\"white\",\"linecolor\":\"white\",\"ticks\":\"\",\"title\":{\"standoff\":15},\"zerolinecolor\":\"white\",\"zerolinewidth\":2}}},\"title\":{\"font\":{\"color\":\"#4D5663\"}},\"xaxis\":{\"gridcolor\":\"#E1E5ED\",\"showgrid\":true,\"tickfont\":{\"color\":\"#4D5663\"},\"title\":{\"font\":{\"color\":\"#4D5663\"},\"text\":\"age\"},\"zerolinecolor\":\"#E1E5ED\"},\"yaxis\":{\"gridcolor\":\"#E1E5ED\",\"showgrid\":true,\"tickfont\":{\"color\":\"#4D5663\"},\"title\":{\"font\":{\"color\":\"#4D5663\"},\"text\":\"Number of Person\"},\"zerolinecolor\":\"#E1E5ED\"}},                        {\"showLink\": true, \"linkText\": \"Export to plot.ly\", \"plotlyServerURL\": \"https://plot.ly\", \"responsive\": true}                    ).then(function(){\n",
       "                            \n",
       "var gd = document.getElementById('1cc4e1dd-7a83-40be-a201-b180f709da2b');\n",
       "var x = new MutationObserver(function (mutations, observer) {{\n",
       "        var display = window.getComputedStyle(gd).display;\n",
       "        if (!display || display === 'none') {{\n",
       "            console.log([gd, 'removed!']);\n",
       "            Plotly.purge(gd);\n",
       "            observer.disconnect();\n",
       "        }}\n",
       "}});\n",
       "\n",
       "// Listen for the removal of the full notebook cells\n",
       "var notebookContainer = gd.closest('#notebook-container');\n",
       "if (notebookContainer) {{\n",
       "    x.observe(notebookContainer, {childList: true});\n",
       "}}\n",
       "\n",
       "// Listen for the clearing of the current output cell\n",
       "var outputEl = gd.closest('.output');\n",
       "if (outputEl) {{\n",
       "    x.observe(outputEl, {childList: true});\n",
       "}}\n",
       "\n",
       "                        })                };                });            </script>        </div>"
      ]
     },
     "metadata": {},
     "output_type": "display_data"
    },
    {
     "name": "stdout",
     "output_type": "stream",
     "text": [
      "(1415, 41)\n"
     ]
    }
   ],
   "source": [
    "#married\n",
    "(dms1['age']).value_counts().iplot(kind='bar',xTitle='age', yTitle='Number of Person',color='red')\n",
    "print(dms1.shape)"
   ]
  },
  {
   "cell_type": "code",
   "execution_count": 40,
   "id": "08e364a4",
   "metadata": {
    "scrolled": false
   },
   "outputs": [
    {
     "data": {
      "application/vnd.plotly.v1+json": {
       "config": {
        "linkText": "Export to plot.ly",
        "plotlyServerURL": "https://plot.ly",
        "showLink": true
       },
       "data": [
        {
         "marker": {
          "color": "rgba(255, 153, 51, 0.6)",
          "line": {
           "color": "rgba(255, 153, 51, 1.0)",
           "width": 1
          }
         },
         "name": "age_bins",
         "orientation": "v",
         "text": "",
         "type": "bar",
         "x": [
          "[31-35]",
          "[36-40]",
          "[26-30]",
          "[41-45]",
          "[46-50]",
          "[>50]",
          "[20-25]"
         ],
         "y": [
          534,
          451,
          172,
          168,
          57,
          21,
          12
         ]
        }
       ],
       "layout": {
        "legend": {
         "bgcolor": "#F5F6F9",
         "font": {
          "color": "#4D5663"
         }
        },
        "paper_bgcolor": "#F5F6F9",
        "plot_bgcolor": "#F5F6F9",
        "template": {
         "data": {
          "bar": [
           {
            "error_x": {
             "color": "#2a3f5f"
            },
            "error_y": {
             "color": "#2a3f5f"
            },
            "marker": {
             "line": {
              "color": "#E5ECF6",
              "width": 0.5
             },
             "pattern": {
              "fillmode": "overlay",
              "size": 10,
              "solidity": 0.2
             }
            },
            "type": "bar"
           }
          ],
          "barpolar": [
           {
            "marker": {
             "line": {
              "color": "#E5ECF6",
              "width": 0.5
             },
             "pattern": {
              "fillmode": "overlay",
              "size": 10,
              "solidity": 0.2
             }
            },
            "type": "barpolar"
           }
          ],
          "carpet": [
           {
            "aaxis": {
             "endlinecolor": "#2a3f5f",
             "gridcolor": "white",
             "linecolor": "white",
             "minorgridcolor": "white",
             "startlinecolor": "#2a3f5f"
            },
            "baxis": {
             "endlinecolor": "#2a3f5f",
             "gridcolor": "white",
             "linecolor": "white",
             "minorgridcolor": "white",
             "startlinecolor": "#2a3f5f"
            },
            "type": "carpet"
           }
          ],
          "choropleth": [
           {
            "colorbar": {
             "outlinewidth": 0,
             "ticks": ""
            },
            "type": "choropleth"
           }
          ],
          "contour": [
           {
            "colorbar": {
             "outlinewidth": 0,
             "ticks": ""
            },
            "colorscale": [
             [
              0,
              "#0d0887"
             ],
             [
              0.1111111111111111,
              "#46039f"
             ],
             [
              0.2222222222222222,
              "#7201a8"
             ],
             [
              0.3333333333333333,
              "#9c179e"
             ],
             [
              0.4444444444444444,
              "#bd3786"
             ],
             [
              0.5555555555555556,
              "#d8576b"
             ],
             [
              0.6666666666666666,
              "#ed7953"
             ],
             [
              0.7777777777777778,
              "#fb9f3a"
             ],
             [
              0.8888888888888888,
              "#fdca26"
             ],
             [
              1,
              "#f0f921"
             ]
            ],
            "type": "contour"
           }
          ],
          "contourcarpet": [
           {
            "colorbar": {
             "outlinewidth": 0,
             "ticks": ""
            },
            "type": "contourcarpet"
           }
          ],
          "heatmap": [
           {
            "colorbar": {
             "outlinewidth": 0,
             "ticks": ""
            },
            "colorscale": [
             [
              0,
              "#0d0887"
             ],
             [
              0.1111111111111111,
              "#46039f"
             ],
             [
              0.2222222222222222,
              "#7201a8"
             ],
             [
              0.3333333333333333,
              "#9c179e"
             ],
             [
              0.4444444444444444,
              "#bd3786"
             ],
             [
              0.5555555555555556,
              "#d8576b"
             ],
             [
              0.6666666666666666,
              "#ed7953"
             ],
             [
              0.7777777777777778,
              "#fb9f3a"
             ],
             [
              0.8888888888888888,
              "#fdca26"
             ],
             [
              1,
              "#f0f921"
             ]
            ],
            "type": "heatmap"
           }
          ],
          "heatmapgl": [
           {
            "colorbar": {
             "outlinewidth": 0,
             "ticks": ""
            },
            "colorscale": [
             [
              0,
              "#0d0887"
             ],
             [
              0.1111111111111111,
              "#46039f"
             ],
             [
              0.2222222222222222,
              "#7201a8"
             ],
             [
              0.3333333333333333,
              "#9c179e"
             ],
             [
              0.4444444444444444,
              "#bd3786"
             ],
             [
              0.5555555555555556,
              "#d8576b"
             ],
             [
              0.6666666666666666,
              "#ed7953"
             ],
             [
              0.7777777777777778,
              "#fb9f3a"
             ],
             [
              0.8888888888888888,
              "#fdca26"
             ],
             [
              1,
              "#f0f921"
             ]
            ],
            "type": "heatmapgl"
           }
          ],
          "histogram": [
           {
            "marker": {
             "pattern": {
              "fillmode": "overlay",
              "size": 10,
              "solidity": 0.2
             }
            },
            "type": "histogram"
           }
          ],
          "histogram2d": [
           {
            "colorbar": {
             "outlinewidth": 0,
             "ticks": ""
            },
            "colorscale": [
             [
              0,
              "#0d0887"
             ],
             [
              0.1111111111111111,
              "#46039f"
             ],
             [
              0.2222222222222222,
              "#7201a8"
             ],
             [
              0.3333333333333333,
              "#9c179e"
             ],
             [
              0.4444444444444444,
              "#bd3786"
             ],
             [
              0.5555555555555556,
              "#d8576b"
             ],
             [
              0.6666666666666666,
              "#ed7953"
             ],
             [
              0.7777777777777778,
              "#fb9f3a"
             ],
             [
              0.8888888888888888,
              "#fdca26"
             ],
             [
              1,
              "#f0f921"
             ]
            ],
            "type": "histogram2d"
           }
          ],
          "histogram2dcontour": [
           {
            "colorbar": {
             "outlinewidth": 0,
             "ticks": ""
            },
            "colorscale": [
             [
              0,
              "#0d0887"
             ],
             [
              0.1111111111111111,
              "#46039f"
             ],
             [
              0.2222222222222222,
              "#7201a8"
             ],
             [
              0.3333333333333333,
              "#9c179e"
             ],
             [
              0.4444444444444444,
              "#bd3786"
             ],
             [
              0.5555555555555556,
              "#d8576b"
             ],
             [
              0.6666666666666666,
              "#ed7953"
             ],
             [
              0.7777777777777778,
              "#fb9f3a"
             ],
             [
              0.8888888888888888,
              "#fdca26"
             ],
             [
              1,
              "#f0f921"
             ]
            ],
            "type": "histogram2dcontour"
           }
          ],
          "mesh3d": [
           {
            "colorbar": {
             "outlinewidth": 0,
             "ticks": ""
            },
            "type": "mesh3d"
           }
          ],
          "parcoords": [
           {
            "line": {
             "colorbar": {
              "outlinewidth": 0,
              "ticks": ""
             }
            },
            "type": "parcoords"
           }
          ],
          "pie": [
           {
            "automargin": true,
            "type": "pie"
           }
          ],
          "scatter": [
           {
            "marker": {
             "colorbar": {
              "outlinewidth": 0,
              "ticks": ""
             }
            },
            "type": "scatter"
           }
          ],
          "scatter3d": [
           {
            "line": {
             "colorbar": {
              "outlinewidth": 0,
              "ticks": ""
             }
            },
            "marker": {
             "colorbar": {
              "outlinewidth": 0,
              "ticks": ""
             }
            },
            "type": "scatter3d"
           }
          ],
          "scattercarpet": [
           {
            "marker": {
             "colorbar": {
              "outlinewidth": 0,
              "ticks": ""
             }
            },
            "type": "scattercarpet"
           }
          ],
          "scattergeo": [
           {
            "marker": {
             "colorbar": {
              "outlinewidth": 0,
              "ticks": ""
             }
            },
            "type": "scattergeo"
           }
          ],
          "scattergl": [
           {
            "marker": {
             "colorbar": {
              "outlinewidth": 0,
              "ticks": ""
             }
            },
            "type": "scattergl"
           }
          ],
          "scattermapbox": [
           {
            "marker": {
             "colorbar": {
              "outlinewidth": 0,
              "ticks": ""
             }
            },
            "type": "scattermapbox"
           }
          ],
          "scatterpolar": [
           {
            "marker": {
             "colorbar": {
              "outlinewidth": 0,
              "ticks": ""
             }
            },
            "type": "scatterpolar"
           }
          ],
          "scatterpolargl": [
           {
            "marker": {
             "colorbar": {
              "outlinewidth": 0,
              "ticks": ""
             }
            },
            "type": "scatterpolargl"
           }
          ],
          "scatterternary": [
           {
            "marker": {
             "colorbar": {
              "outlinewidth": 0,
              "ticks": ""
             }
            },
            "type": "scatterternary"
           }
          ],
          "surface": [
           {
            "colorbar": {
             "outlinewidth": 0,
             "ticks": ""
            },
            "colorscale": [
             [
              0,
              "#0d0887"
             ],
             [
              0.1111111111111111,
              "#46039f"
             ],
             [
              0.2222222222222222,
              "#7201a8"
             ],
             [
              0.3333333333333333,
              "#9c179e"
             ],
             [
              0.4444444444444444,
              "#bd3786"
             ],
             [
              0.5555555555555556,
              "#d8576b"
             ],
             [
              0.6666666666666666,
              "#ed7953"
             ],
             [
              0.7777777777777778,
              "#fb9f3a"
             ],
             [
              0.8888888888888888,
              "#fdca26"
             ],
             [
              1,
              "#f0f921"
             ]
            ],
            "type": "surface"
           }
          ],
          "table": [
           {
            "cells": {
             "fill": {
              "color": "#EBF0F8"
             },
             "line": {
              "color": "white"
             }
            },
            "header": {
             "fill": {
              "color": "#C8D4E3"
             },
             "line": {
              "color": "white"
             }
            },
            "type": "table"
           }
          ]
         },
         "layout": {
          "annotationdefaults": {
           "arrowcolor": "#2a3f5f",
           "arrowhead": 0,
           "arrowwidth": 1
          },
          "autotypenumbers": "strict",
          "coloraxis": {
           "colorbar": {
            "outlinewidth": 0,
            "ticks": ""
           }
          },
          "colorscale": {
           "diverging": [
            [
             0,
             "#8e0152"
            ],
            [
             0.1,
             "#c51b7d"
            ],
            [
             0.2,
             "#de77ae"
            ],
            [
             0.3,
             "#f1b6da"
            ],
            [
             0.4,
             "#fde0ef"
            ],
            [
             0.5,
             "#f7f7f7"
            ],
            [
             0.6,
             "#e6f5d0"
            ],
            [
             0.7,
             "#b8e186"
            ],
            [
             0.8,
             "#7fbc41"
            ],
            [
             0.9,
             "#4d9221"
            ],
            [
             1,
             "#276419"
            ]
           ],
           "sequential": [
            [
             0,
             "#0d0887"
            ],
            [
             0.1111111111111111,
             "#46039f"
            ],
            [
             0.2222222222222222,
             "#7201a8"
            ],
            [
             0.3333333333333333,
             "#9c179e"
            ],
            [
             0.4444444444444444,
             "#bd3786"
            ],
            [
             0.5555555555555556,
             "#d8576b"
            ],
            [
             0.6666666666666666,
             "#ed7953"
            ],
            [
             0.7777777777777778,
             "#fb9f3a"
            ],
            [
             0.8888888888888888,
             "#fdca26"
            ],
            [
             1,
             "#f0f921"
            ]
           ],
           "sequentialminus": [
            [
             0,
             "#0d0887"
            ],
            [
             0.1111111111111111,
             "#46039f"
            ],
            [
             0.2222222222222222,
             "#7201a8"
            ],
            [
             0.3333333333333333,
             "#9c179e"
            ],
            [
             0.4444444444444444,
             "#bd3786"
            ],
            [
             0.5555555555555556,
             "#d8576b"
            ],
            [
             0.6666666666666666,
             "#ed7953"
            ],
            [
             0.7777777777777778,
             "#fb9f3a"
            ],
            [
             0.8888888888888888,
             "#fdca26"
            ],
            [
             1,
             "#f0f921"
            ]
           ]
          },
          "colorway": [
           "#636efa",
           "#EF553B",
           "#00cc96",
           "#ab63fa",
           "#FFA15A",
           "#19d3f3",
           "#FF6692",
           "#B6E880",
           "#FF97FF",
           "#FECB52"
          ],
          "font": {
           "color": "#2a3f5f"
          },
          "geo": {
           "bgcolor": "white",
           "lakecolor": "white",
           "landcolor": "#E5ECF6",
           "showlakes": true,
           "showland": true,
           "subunitcolor": "white"
          },
          "hoverlabel": {
           "align": "left"
          },
          "hovermode": "closest",
          "mapbox": {
           "style": "light"
          },
          "paper_bgcolor": "white",
          "plot_bgcolor": "#E5ECF6",
          "polar": {
           "angularaxis": {
            "gridcolor": "white",
            "linecolor": "white",
            "ticks": ""
           },
           "bgcolor": "#E5ECF6",
           "radialaxis": {
            "gridcolor": "white",
            "linecolor": "white",
            "ticks": ""
           }
          },
          "scene": {
           "xaxis": {
            "backgroundcolor": "#E5ECF6",
            "gridcolor": "white",
            "gridwidth": 2,
            "linecolor": "white",
            "showbackground": true,
            "ticks": "",
            "zerolinecolor": "white"
           },
           "yaxis": {
            "backgroundcolor": "#E5ECF6",
            "gridcolor": "white",
            "gridwidth": 2,
            "linecolor": "white",
            "showbackground": true,
            "ticks": "",
            "zerolinecolor": "white"
           },
           "zaxis": {
            "backgroundcolor": "#E5ECF6",
            "gridcolor": "white",
            "gridwidth": 2,
            "linecolor": "white",
            "showbackground": true,
            "ticks": "",
            "zerolinecolor": "white"
           }
          },
          "shapedefaults": {
           "line": {
            "color": "#2a3f5f"
           }
          },
          "ternary": {
           "aaxis": {
            "gridcolor": "white",
            "linecolor": "white",
            "ticks": ""
           },
           "baxis": {
            "gridcolor": "white",
            "linecolor": "white",
            "ticks": ""
           },
           "bgcolor": "#E5ECF6",
           "caxis": {
            "gridcolor": "white",
            "linecolor": "white",
            "ticks": ""
           }
          },
          "title": {
           "x": 0.05
          },
          "xaxis": {
           "automargin": true,
           "gridcolor": "white",
           "linecolor": "white",
           "ticks": "",
           "title": {
            "standoff": 15
           },
           "zerolinecolor": "white",
           "zerolinewidth": 2
          },
          "yaxis": {
           "automargin": true,
           "gridcolor": "white",
           "linecolor": "white",
           "ticks": "",
           "title": {
            "standoff": 15
           },
           "zerolinecolor": "white",
           "zerolinewidth": 2
          }
         }
        },
        "title": {
         "font": {
          "color": "#4D5663"
         }
        },
        "xaxis": {
         "gridcolor": "#E1E5ED",
         "showgrid": true,
         "tickfont": {
          "color": "#4D5663"
         },
         "title": {
          "font": {
           "color": "#4D5663"
          },
          "text": "age"
         },
         "zerolinecolor": "#E1E5ED"
        },
        "yaxis": {
         "gridcolor": "#E1E5ED",
         "showgrid": true,
         "tickfont": {
          "color": "#4D5663"
         },
         "title": {
          "font": {
           "color": "#4D5663"
          },
          "text": "Number of Person"
         },
         "zerolinecolor": "#E1E5ED"
        }
       }
      },
      "text/html": [
       "<div>                            <div id=\"d4051f97-54a4-4ad5-8e13-fbd92f2269e6\" class=\"plotly-graph-div\" style=\"height:525px; width:100%;\"></div>            <script type=\"text/javascript\">                require([\"plotly\"], function(Plotly) {                    window.PLOTLYENV=window.PLOTLYENV || {};\n",
       "                    window.PLOTLYENV.BASE_URL='https://plot.ly';                                    if (document.getElementById(\"d4051f97-54a4-4ad5-8e13-fbd92f2269e6\")) {                    Plotly.newPlot(                        \"d4051f97-54a4-4ad5-8e13-fbd92f2269e6\",                        [{\"marker\":{\"color\":\"rgba(255, 153, 51, 0.6)\",\"line\":{\"color\":\"rgba(255, 153, 51, 1.0)\",\"width\":1}},\"name\":\"age_bins\",\"orientation\":\"v\",\"text\":\"\",\"x\":[\"[31-35]\",\"[36-40]\",\"[26-30]\",\"[41-45]\",\"[46-50]\",\"[>50]\",\"[20-25]\"],\"y\":[534,451,172,168,57,21,12],\"type\":\"bar\"}],                        {\"legend\":{\"bgcolor\":\"#F5F6F9\",\"font\":{\"color\":\"#4D5663\"}},\"paper_bgcolor\":\"#F5F6F9\",\"plot_bgcolor\":\"#F5F6F9\",\"template\":{\"data\":{\"barpolar\":[{\"marker\":{\"line\":{\"color\":\"#E5ECF6\",\"width\":0.5},\"pattern\":{\"fillmode\":\"overlay\",\"size\":10,\"solidity\":0.2}},\"type\":\"barpolar\"}],\"bar\":[{\"error_x\":{\"color\":\"#2a3f5f\"},\"error_y\":{\"color\":\"#2a3f5f\"},\"marker\":{\"line\":{\"color\":\"#E5ECF6\",\"width\":0.5},\"pattern\":{\"fillmode\":\"overlay\",\"size\":10,\"solidity\":0.2}},\"type\":\"bar\"}],\"carpet\":[{\"aaxis\":{\"endlinecolor\":\"#2a3f5f\",\"gridcolor\":\"white\",\"linecolor\":\"white\",\"minorgridcolor\":\"white\",\"startlinecolor\":\"#2a3f5f\"},\"baxis\":{\"endlinecolor\":\"#2a3f5f\",\"gridcolor\":\"white\",\"linecolor\":\"white\",\"minorgridcolor\":\"white\",\"startlinecolor\":\"#2a3f5f\"},\"type\":\"carpet\"}],\"choropleth\":[{\"colorbar\":{\"outlinewidth\":0,\"ticks\":\"\"},\"type\":\"choropleth\"}],\"contourcarpet\":[{\"colorbar\":{\"outlinewidth\":0,\"ticks\":\"\"},\"type\":\"contourcarpet\"}],\"contour\":[{\"colorbar\":{\"outlinewidth\":0,\"ticks\":\"\"},\"colorscale\":[[0.0,\"#0d0887\"],[0.1111111111111111,\"#46039f\"],[0.2222222222222222,\"#7201a8\"],[0.3333333333333333,\"#9c179e\"],[0.4444444444444444,\"#bd3786\"],[0.5555555555555556,\"#d8576b\"],[0.6666666666666666,\"#ed7953\"],[0.7777777777777778,\"#fb9f3a\"],[0.8888888888888888,\"#fdca26\"],[1.0,\"#f0f921\"]],\"type\":\"contour\"}],\"heatmapgl\":[{\"colorbar\":{\"outlinewidth\":0,\"ticks\":\"\"},\"colorscale\":[[0.0,\"#0d0887\"],[0.1111111111111111,\"#46039f\"],[0.2222222222222222,\"#7201a8\"],[0.3333333333333333,\"#9c179e\"],[0.4444444444444444,\"#bd3786\"],[0.5555555555555556,\"#d8576b\"],[0.6666666666666666,\"#ed7953\"],[0.7777777777777778,\"#fb9f3a\"],[0.8888888888888888,\"#fdca26\"],[1.0,\"#f0f921\"]],\"type\":\"heatmapgl\"}],\"heatmap\":[{\"colorbar\":{\"outlinewidth\":0,\"ticks\":\"\"},\"colorscale\":[[0.0,\"#0d0887\"],[0.1111111111111111,\"#46039f\"],[0.2222222222222222,\"#7201a8\"],[0.3333333333333333,\"#9c179e\"],[0.4444444444444444,\"#bd3786\"],[0.5555555555555556,\"#d8576b\"],[0.6666666666666666,\"#ed7953\"],[0.7777777777777778,\"#fb9f3a\"],[0.8888888888888888,\"#fdca26\"],[1.0,\"#f0f921\"]],\"type\":\"heatmap\"}],\"histogram2dcontour\":[{\"colorbar\":{\"outlinewidth\":0,\"ticks\":\"\"},\"colorscale\":[[0.0,\"#0d0887\"],[0.1111111111111111,\"#46039f\"],[0.2222222222222222,\"#7201a8\"],[0.3333333333333333,\"#9c179e\"],[0.4444444444444444,\"#bd3786\"],[0.5555555555555556,\"#d8576b\"],[0.6666666666666666,\"#ed7953\"],[0.7777777777777778,\"#fb9f3a\"],[0.8888888888888888,\"#fdca26\"],[1.0,\"#f0f921\"]],\"type\":\"histogram2dcontour\"}],\"histogram2d\":[{\"colorbar\":{\"outlinewidth\":0,\"ticks\":\"\"},\"colorscale\":[[0.0,\"#0d0887\"],[0.1111111111111111,\"#46039f\"],[0.2222222222222222,\"#7201a8\"],[0.3333333333333333,\"#9c179e\"],[0.4444444444444444,\"#bd3786\"],[0.5555555555555556,\"#d8576b\"],[0.6666666666666666,\"#ed7953\"],[0.7777777777777778,\"#fb9f3a\"],[0.8888888888888888,\"#fdca26\"],[1.0,\"#f0f921\"]],\"type\":\"histogram2d\"}],\"histogram\":[{\"marker\":{\"pattern\":{\"fillmode\":\"overlay\",\"size\":10,\"solidity\":0.2}},\"type\":\"histogram\"}],\"mesh3d\":[{\"colorbar\":{\"outlinewidth\":0,\"ticks\":\"\"},\"type\":\"mesh3d\"}],\"parcoords\":[{\"line\":{\"colorbar\":{\"outlinewidth\":0,\"ticks\":\"\"}},\"type\":\"parcoords\"}],\"pie\":[{\"automargin\":true,\"type\":\"pie\"}],\"scatter3d\":[{\"line\":{\"colorbar\":{\"outlinewidth\":0,\"ticks\":\"\"}},\"marker\":{\"colorbar\":{\"outlinewidth\":0,\"ticks\":\"\"}},\"type\":\"scatter3d\"}],\"scattercarpet\":[{\"marker\":{\"colorbar\":{\"outlinewidth\":0,\"ticks\":\"\"}},\"type\":\"scattercarpet\"}],\"scattergeo\":[{\"marker\":{\"colorbar\":{\"outlinewidth\":0,\"ticks\":\"\"}},\"type\":\"scattergeo\"}],\"scattergl\":[{\"marker\":{\"colorbar\":{\"outlinewidth\":0,\"ticks\":\"\"}},\"type\":\"scattergl\"}],\"scattermapbox\":[{\"marker\":{\"colorbar\":{\"outlinewidth\":0,\"ticks\":\"\"}},\"type\":\"scattermapbox\"}],\"scatterpolargl\":[{\"marker\":{\"colorbar\":{\"outlinewidth\":0,\"ticks\":\"\"}},\"type\":\"scatterpolargl\"}],\"scatterpolar\":[{\"marker\":{\"colorbar\":{\"outlinewidth\":0,\"ticks\":\"\"}},\"type\":\"scatterpolar\"}],\"scatter\":[{\"marker\":{\"colorbar\":{\"outlinewidth\":0,\"ticks\":\"\"}},\"type\":\"scatter\"}],\"scatterternary\":[{\"marker\":{\"colorbar\":{\"outlinewidth\":0,\"ticks\":\"\"}},\"type\":\"scatterternary\"}],\"surface\":[{\"colorbar\":{\"outlinewidth\":0,\"ticks\":\"\"},\"colorscale\":[[0.0,\"#0d0887\"],[0.1111111111111111,\"#46039f\"],[0.2222222222222222,\"#7201a8\"],[0.3333333333333333,\"#9c179e\"],[0.4444444444444444,\"#bd3786\"],[0.5555555555555556,\"#d8576b\"],[0.6666666666666666,\"#ed7953\"],[0.7777777777777778,\"#fb9f3a\"],[0.8888888888888888,\"#fdca26\"],[1.0,\"#f0f921\"]],\"type\":\"surface\"}],\"table\":[{\"cells\":{\"fill\":{\"color\":\"#EBF0F8\"},\"line\":{\"color\":\"white\"}},\"header\":{\"fill\":{\"color\":\"#C8D4E3\"},\"line\":{\"color\":\"white\"}},\"type\":\"table\"}]},\"layout\":{\"annotationdefaults\":{\"arrowcolor\":\"#2a3f5f\",\"arrowhead\":0,\"arrowwidth\":1},\"autotypenumbers\":\"strict\",\"coloraxis\":{\"colorbar\":{\"outlinewidth\":0,\"ticks\":\"\"}},\"colorscale\":{\"diverging\":[[0,\"#8e0152\"],[0.1,\"#c51b7d\"],[0.2,\"#de77ae\"],[0.3,\"#f1b6da\"],[0.4,\"#fde0ef\"],[0.5,\"#f7f7f7\"],[0.6,\"#e6f5d0\"],[0.7,\"#b8e186\"],[0.8,\"#7fbc41\"],[0.9,\"#4d9221\"],[1,\"#276419\"]],\"sequential\":[[0.0,\"#0d0887\"],[0.1111111111111111,\"#46039f\"],[0.2222222222222222,\"#7201a8\"],[0.3333333333333333,\"#9c179e\"],[0.4444444444444444,\"#bd3786\"],[0.5555555555555556,\"#d8576b\"],[0.6666666666666666,\"#ed7953\"],[0.7777777777777778,\"#fb9f3a\"],[0.8888888888888888,\"#fdca26\"],[1.0,\"#f0f921\"]],\"sequentialminus\":[[0.0,\"#0d0887\"],[0.1111111111111111,\"#46039f\"],[0.2222222222222222,\"#7201a8\"],[0.3333333333333333,\"#9c179e\"],[0.4444444444444444,\"#bd3786\"],[0.5555555555555556,\"#d8576b\"],[0.6666666666666666,\"#ed7953\"],[0.7777777777777778,\"#fb9f3a\"],[0.8888888888888888,\"#fdca26\"],[1.0,\"#f0f921\"]]},\"colorway\":[\"#636efa\",\"#EF553B\",\"#00cc96\",\"#ab63fa\",\"#FFA15A\",\"#19d3f3\",\"#FF6692\",\"#B6E880\",\"#FF97FF\",\"#FECB52\"],\"font\":{\"color\":\"#2a3f5f\"},\"geo\":{\"bgcolor\":\"white\",\"lakecolor\":\"white\",\"landcolor\":\"#E5ECF6\",\"showlakes\":true,\"showland\":true,\"subunitcolor\":\"white\"},\"hoverlabel\":{\"align\":\"left\"},\"hovermode\":\"closest\",\"mapbox\":{\"style\":\"light\"},\"paper_bgcolor\":\"white\",\"plot_bgcolor\":\"#E5ECF6\",\"polar\":{\"angularaxis\":{\"gridcolor\":\"white\",\"linecolor\":\"white\",\"ticks\":\"\"},\"bgcolor\":\"#E5ECF6\",\"radialaxis\":{\"gridcolor\":\"white\",\"linecolor\":\"white\",\"ticks\":\"\"}},\"scene\":{\"xaxis\":{\"backgroundcolor\":\"#E5ECF6\",\"gridcolor\":\"white\",\"gridwidth\":2,\"linecolor\":\"white\",\"showbackground\":true,\"ticks\":\"\",\"zerolinecolor\":\"white\"},\"yaxis\":{\"backgroundcolor\":\"#E5ECF6\",\"gridcolor\":\"white\",\"gridwidth\":2,\"linecolor\":\"white\",\"showbackground\":true,\"ticks\":\"\",\"zerolinecolor\":\"white\"},\"zaxis\":{\"backgroundcolor\":\"#E5ECF6\",\"gridcolor\":\"white\",\"gridwidth\":2,\"linecolor\":\"white\",\"showbackground\":true,\"ticks\":\"\",\"zerolinecolor\":\"white\"}},\"shapedefaults\":{\"line\":{\"color\":\"#2a3f5f\"}},\"ternary\":{\"aaxis\":{\"gridcolor\":\"white\",\"linecolor\":\"white\",\"ticks\":\"\"},\"baxis\":{\"gridcolor\":\"white\",\"linecolor\":\"white\",\"ticks\":\"\"},\"bgcolor\":\"#E5ECF6\",\"caxis\":{\"gridcolor\":\"white\",\"linecolor\":\"white\",\"ticks\":\"\"}},\"title\":{\"x\":0.05},\"xaxis\":{\"automargin\":true,\"gridcolor\":\"white\",\"linecolor\":\"white\",\"ticks\":\"\",\"title\":{\"standoff\":15},\"zerolinecolor\":\"white\",\"zerolinewidth\":2},\"yaxis\":{\"automargin\":true,\"gridcolor\":\"white\",\"linecolor\":\"white\",\"ticks\":\"\",\"title\":{\"standoff\":15},\"zerolinecolor\":\"white\",\"zerolinewidth\":2}}},\"title\":{\"font\":{\"color\":\"#4D5663\"}},\"xaxis\":{\"gridcolor\":\"#E1E5ED\",\"showgrid\":true,\"tickfont\":{\"color\":\"#4D5663\"},\"title\":{\"font\":{\"color\":\"#4D5663\"},\"text\":\"age\"},\"zerolinecolor\":\"#E1E5ED\"},\"yaxis\":{\"gridcolor\":\"#E1E5ED\",\"showgrid\":true,\"tickfont\":{\"color\":\"#4D5663\"},\"title\":{\"font\":{\"color\":\"#4D5663\"},\"text\":\"Number of Person\"},\"zerolinecolor\":\"#E1E5ED\"}},                        {\"showLink\": true, \"linkText\": \"Export to plot.ly\", \"plotlyServerURL\": \"https://plot.ly\", \"responsive\": true}                    ).then(function(){\n",
       "                            \n",
       "var gd = document.getElementById('d4051f97-54a4-4ad5-8e13-fbd92f2269e6');\n",
       "var x = new MutationObserver(function (mutations, observer) {{\n",
       "        var display = window.getComputedStyle(gd).display;\n",
       "        if (!display || display === 'none') {{\n",
       "            console.log([gd, 'removed!']);\n",
       "            Plotly.purge(gd);\n",
       "            observer.disconnect();\n",
       "        }}\n",
       "}});\n",
       "\n",
       "// Listen for the removal of the full notebook cells\n",
       "var notebookContainer = gd.closest('#notebook-container');\n",
       "if (notebookContainer) {{\n",
       "    x.observe(notebookContainer, {childList: true});\n",
       "}}\n",
       "\n",
       "// Listen for the clearing of the current output cell\n",
       "var outputEl = gd.closest('.output');\n",
       "if (outputEl) {{\n",
       "    x.observe(outputEl, {childList: true});\n",
       "}}\n",
       "\n",
       "                        })                };                });            </script>        </div>"
      ]
     },
     "metadata": {},
     "output_type": "display_data"
    }
   ],
   "source": [
    "(dms1['age_bins']).value_counts().iplot(kind='bar',xTitle='age', yTitle='Number of Person')"
   ]
  },
  {
   "cell_type": "code",
   "execution_count": 41,
   "id": "fea6af6b",
   "metadata": {},
   "outputs": [
    {
     "data": {
      "application/vnd.plotly.v1+json": {
       "config": {
        "linkText": "Export to plot.ly",
        "plotlyServerURL": "https://plot.ly",
        "showLink": true
       },
       "data": [
        {
         "marker": {
          "color": "rgba(255, 153, 51, 0.6)",
          "line": {
           "color": "rgba(255, 153, 51, 1.0)",
           "width": 1
          }
         },
         "name": "gender",
         "orientation": "v",
         "text": "",
         "type": "bar",
         "x": [
          1,
          0
         ],
         "y": [
          1319,
          94
         ]
        }
       ],
       "layout": {
        "legend": {
         "bgcolor": "#F5F6F9",
         "font": {
          "color": "#4D5663"
         }
        },
        "paper_bgcolor": "#F5F6F9",
        "plot_bgcolor": "#F5F6F9",
        "template": {
         "data": {
          "bar": [
           {
            "error_x": {
             "color": "#2a3f5f"
            },
            "error_y": {
             "color": "#2a3f5f"
            },
            "marker": {
             "line": {
              "color": "#E5ECF6",
              "width": 0.5
             },
             "pattern": {
              "fillmode": "overlay",
              "size": 10,
              "solidity": 0.2
             }
            },
            "type": "bar"
           }
          ],
          "barpolar": [
           {
            "marker": {
             "line": {
              "color": "#E5ECF6",
              "width": 0.5
             },
             "pattern": {
              "fillmode": "overlay",
              "size": 10,
              "solidity": 0.2
             }
            },
            "type": "barpolar"
           }
          ],
          "carpet": [
           {
            "aaxis": {
             "endlinecolor": "#2a3f5f",
             "gridcolor": "white",
             "linecolor": "white",
             "minorgridcolor": "white",
             "startlinecolor": "#2a3f5f"
            },
            "baxis": {
             "endlinecolor": "#2a3f5f",
             "gridcolor": "white",
             "linecolor": "white",
             "minorgridcolor": "white",
             "startlinecolor": "#2a3f5f"
            },
            "type": "carpet"
           }
          ],
          "choropleth": [
           {
            "colorbar": {
             "outlinewidth": 0,
             "ticks": ""
            },
            "type": "choropleth"
           }
          ],
          "contour": [
           {
            "colorbar": {
             "outlinewidth": 0,
             "ticks": ""
            },
            "colorscale": [
             [
              0,
              "#0d0887"
             ],
             [
              0.1111111111111111,
              "#46039f"
             ],
             [
              0.2222222222222222,
              "#7201a8"
             ],
             [
              0.3333333333333333,
              "#9c179e"
             ],
             [
              0.4444444444444444,
              "#bd3786"
             ],
             [
              0.5555555555555556,
              "#d8576b"
             ],
             [
              0.6666666666666666,
              "#ed7953"
             ],
             [
              0.7777777777777778,
              "#fb9f3a"
             ],
             [
              0.8888888888888888,
              "#fdca26"
             ],
             [
              1,
              "#f0f921"
             ]
            ],
            "type": "contour"
           }
          ],
          "contourcarpet": [
           {
            "colorbar": {
             "outlinewidth": 0,
             "ticks": ""
            },
            "type": "contourcarpet"
           }
          ],
          "heatmap": [
           {
            "colorbar": {
             "outlinewidth": 0,
             "ticks": ""
            },
            "colorscale": [
             [
              0,
              "#0d0887"
             ],
             [
              0.1111111111111111,
              "#46039f"
             ],
             [
              0.2222222222222222,
              "#7201a8"
             ],
             [
              0.3333333333333333,
              "#9c179e"
             ],
             [
              0.4444444444444444,
              "#bd3786"
             ],
             [
              0.5555555555555556,
              "#d8576b"
             ],
             [
              0.6666666666666666,
              "#ed7953"
             ],
             [
              0.7777777777777778,
              "#fb9f3a"
             ],
             [
              0.8888888888888888,
              "#fdca26"
             ],
             [
              1,
              "#f0f921"
             ]
            ],
            "type": "heatmap"
           }
          ],
          "heatmapgl": [
           {
            "colorbar": {
             "outlinewidth": 0,
             "ticks": ""
            },
            "colorscale": [
             [
              0,
              "#0d0887"
             ],
             [
              0.1111111111111111,
              "#46039f"
             ],
             [
              0.2222222222222222,
              "#7201a8"
             ],
             [
              0.3333333333333333,
              "#9c179e"
             ],
             [
              0.4444444444444444,
              "#bd3786"
             ],
             [
              0.5555555555555556,
              "#d8576b"
             ],
             [
              0.6666666666666666,
              "#ed7953"
             ],
             [
              0.7777777777777778,
              "#fb9f3a"
             ],
             [
              0.8888888888888888,
              "#fdca26"
             ],
             [
              1,
              "#f0f921"
             ]
            ],
            "type": "heatmapgl"
           }
          ],
          "histogram": [
           {
            "marker": {
             "pattern": {
              "fillmode": "overlay",
              "size": 10,
              "solidity": 0.2
             }
            },
            "type": "histogram"
           }
          ],
          "histogram2d": [
           {
            "colorbar": {
             "outlinewidth": 0,
             "ticks": ""
            },
            "colorscale": [
             [
              0,
              "#0d0887"
             ],
             [
              0.1111111111111111,
              "#46039f"
             ],
             [
              0.2222222222222222,
              "#7201a8"
             ],
             [
              0.3333333333333333,
              "#9c179e"
             ],
             [
              0.4444444444444444,
              "#bd3786"
             ],
             [
              0.5555555555555556,
              "#d8576b"
             ],
             [
              0.6666666666666666,
              "#ed7953"
             ],
             [
              0.7777777777777778,
              "#fb9f3a"
             ],
             [
              0.8888888888888888,
              "#fdca26"
             ],
             [
              1,
              "#f0f921"
             ]
            ],
            "type": "histogram2d"
           }
          ],
          "histogram2dcontour": [
           {
            "colorbar": {
             "outlinewidth": 0,
             "ticks": ""
            },
            "colorscale": [
             [
              0,
              "#0d0887"
             ],
             [
              0.1111111111111111,
              "#46039f"
             ],
             [
              0.2222222222222222,
              "#7201a8"
             ],
             [
              0.3333333333333333,
              "#9c179e"
             ],
             [
              0.4444444444444444,
              "#bd3786"
             ],
             [
              0.5555555555555556,
              "#d8576b"
             ],
             [
              0.6666666666666666,
              "#ed7953"
             ],
             [
              0.7777777777777778,
              "#fb9f3a"
             ],
             [
              0.8888888888888888,
              "#fdca26"
             ],
             [
              1,
              "#f0f921"
             ]
            ],
            "type": "histogram2dcontour"
           }
          ],
          "mesh3d": [
           {
            "colorbar": {
             "outlinewidth": 0,
             "ticks": ""
            },
            "type": "mesh3d"
           }
          ],
          "parcoords": [
           {
            "line": {
             "colorbar": {
              "outlinewidth": 0,
              "ticks": ""
             }
            },
            "type": "parcoords"
           }
          ],
          "pie": [
           {
            "automargin": true,
            "type": "pie"
           }
          ],
          "scatter": [
           {
            "marker": {
             "colorbar": {
              "outlinewidth": 0,
              "ticks": ""
             }
            },
            "type": "scatter"
           }
          ],
          "scatter3d": [
           {
            "line": {
             "colorbar": {
              "outlinewidth": 0,
              "ticks": ""
             }
            },
            "marker": {
             "colorbar": {
              "outlinewidth": 0,
              "ticks": ""
             }
            },
            "type": "scatter3d"
           }
          ],
          "scattercarpet": [
           {
            "marker": {
             "colorbar": {
              "outlinewidth": 0,
              "ticks": ""
             }
            },
            "type": "scattercarpet"
           }
          ],
          "scattergeo": [
           {
            "marker": {
             "colorbar": {
              "outlinewidth": 0,
              "ticks": ""
             }
            },
            "type": "scattergeo"
           }
          ],
          "scattergl": [
           {
            "marker": {
             "colorbar": {
              "outlinewidth": 0,
              "ticks": ""
             }
            },
            "type": "scattergl"
           }
          ],
          "scattermapbox": [
           {
            "marker": {
             "colorbar": {
              "outlinewidth": 0,
              "ticks": ""
             }
            },
            "type": "scattermapbox"
           }
          ],
          "scatterpolar": [
           {
            "marker": {
             "colorbar": {
              "outlinewidth": 0,
              "ticks": ""
             }
            },
            "type": "scatterpolar"
           }
          ],
          "scatterpolargl": [
           {
            "marker": {
             "colorbar": {
              "outlinewidth": 0,
              "ticks": ""
             }
            },
            "type": "scatterpolargl"
           }
          ],
          "scatterternary": [
           {
            "marker": {
             "colorbar": {
              "outlinewidth": 0,
              "ticks": ""
             }
            },
            "type": "scatterternary"
           }
          ],
          "surface": [
           {
            "colorbar": {
             "outlinewidth": 0,
             "ticks": ""
            },
            "colorscale": [
             [
              0,
              "#0d0887"
             ],
             [
              0.1111111111111111,
              "#46039f"
             ],
             [
              0.2222222222222222,
              "#7201a8"
             ],
             [
              0.3333333333333333,
              "#9c179e"
             ],
             [
              0.4444444444444444,
              "#bd3786"
             ],
             [
              0.5555555555555556,
              "#d8576b"
             ],
             [
              0.6666666666666666,
              "#ed7953"
             ],
             [
              0.7777777777777778,
              "#fb9f3a"
             ],
             [
              0.8888888888888888,
              "#fdca26"
             ],
             [
              1,
              "#f0f921"
             ]
            ],
            "type": "surface"
           }
          ],
          "table": [
           {
            "cells": {
             "fill": {
              "color": "#EBF0F8"
             },
             "line": {
              "color": "white"
             }
            },
            "header": {
             "fill": {
              "color": "#C8D4E3"
             },
             "line": {
              "color": "white"
             }
            },
            "type": "table"
           }
          ]
         },
         "layout": {
          "annotationdefaults": {
           "arrowcolor": "#2a3f5f",
           "arrowhead": 0,
           "arrowwidth": 1
          },
          "autotypenumbers": "strict",
          "coloraxis": {
           "colorbar": {
            "outlinewidth": 0,
            "ticks": ""
           }
          },
          "colorscale": {
           "diverging": [
            [
             0,
             "#8e0152"
            ],
            [
             0.1,
             "#c51b7d"
            ],
            [
             0.2,
             "#de77ae"
            ],
            [
             0.3,
             "#f1b6da"
            ],
            [
             0.4,
             "#fde0ef"
            ],
            [
             0.5,
             "#f7f7f7"
            ],
            [
             0.6,
             "#e6f5d0"
            ],
            [
             0.7,
             "#b8e186"
            ],
            [
             0.8,
             "#7fbc41"
            ],
            [
             0.9,
             "#4d9221"
            ],
            [
             1,
             "#276419"
            ]
           ],
           "sequential": [
            [
             0,
             "#0d0887"
            ],
            [
             0.1111111111111111,
             "#46039f"
            ],
            [
             0.2222222222222222,
             "#7201a8"
            ],
            [
             0.3333333333333333,
             "#9c179e"
            ],
            [
             0.4444444444444444,
             "#bd3786"
            ],
            [
             0.5555555555555556,
             "#d8576b"
            ],
            [
             0.6666666666666666,
             "#ed7953"
            ],
            [
             0.7777777777777778,
             "#fb9f3a"
            ],
            [
             0.8888888888888888,
             "#fdca26"
            ],
            [
             1,
             "#f0f921"
            ]
           ],
           "sequentialminus": [
            [
             0,
             "#0d0887"
            ],
            [
             0.1111111111111111,
             "#46039f"
            ],
            [
             0.2222222222222222,
             "#7201a8"
            ],
            [
             0.3333333333333333,
             "#9c179e"
            ],
            [
             0.4444444444444444,
             "#bd3786"
            ],
            [
             0.5555555555555556,
             "#d8576b"
            ],
            [
             0.6666666666666666,
             "#ed7953"
            ],
            [
             0.7777777777777778,
             "#fb9f3a"
            ],
            [
             0.8888888888888888,
             "#fdca26"
            ],
            [
             1,
             "#f0f921"
            ]
           ]
          },
          "colorway": [
           "#636efa",
           "#EF553B",
           "#00cc96",
           "#ab63fa",
           "#FFA15A",
           "#19d3f3",
           "#FF6692",
           "#B6E880",
           "#FF97FF",
           "#FECB52"
          ],
          "font": {
           "color": "#2a3f5f"
          },
          "geo": {
           "bgcolor": "white",
           "lakecolor": "white",
           "landcolor": "#E5ECF6",
           "showlakes": true,
           "showland": true,
           "subunitcolor": "white"
          },
          "hoverlabel": {
           "align": "left"
          },
          "hovermode": "closest",
          "mapbox": {
           "style": "light"
          },
          "paper_bgcolor": "white",
          "plot_bgcolor": "#E5ECF6",
          "polar": {
           "angularaxis": {
            "gridcolor": "white",
            "linecolor": "white",
            "ticks": ""
           },
           "bgcolor": "#E5ECF6",
           "radialaxis": {
            "gridcolor": "white",
            "linecolor": "white",
            "ticks": ""
           }
          },
          "scene": {
           "xaxis": {
            "backgroundcolor": "#E5ECF6",
            "gridcolor": "white",
            "gridwidth": 2,
            "linecolor": "white",
            "showbackground": true,
            "ticks": "",
            "zerolinecolor": "white"
           },
           "yaxis": {
            "backgroundcolor": "#E5ECF6",
            "gridcolor": "white",
            "gridwidth": 2,
            "linecolor": "white",
            "showbackground": true,
            "ticks": "",
            "zerolinecolor": "white"
           },
           "zaxis": {
            "backgroundcolor": "#E5ECF6",
            "gridcolor": "white",
            "gridwidth": 2,
            "linecolor": "white",
            "showbackground": true,
            "ticks": "",
            "zerolinecolor": "white"
           }
          },
          "shapedefaults": {
           "line": {
            "color": "#2a3f5f"
           }
          },
          "ternary": {
           "aaxis": {
            "gridcolor": "white",
            "linecolor": "white",
            "ticks": ""
           },
           "baxis": {
            "gridcolor": "white",
            "linecolor": "white",
            "ticks": ""
           },
           "bgcolor": "#E5ECF6",
           "caxis": {
            "gridcolor": "white",
            "linecolor": "white",
            "ticks": ""
           }
          },
          "title": {
           "x": 0.05
          },
          "xaxis": {
           "automargin": true,
           "gridcolor": "white",
           "linecolor": "white",
           "ticks": "",
           "title": {
            "standoff": 15
           },
           "zerolinecolor": "white",
           "zerolinewidth": 2
          },
          "yaxis": {
           "automargin": true,
           "gridcolor": "white",
           "linecolor": "white",
           "ticks": "",
           "title": {
            "standoff": 15
           },
           "zerolinecolor": "white",
           "zerolinewidth": 2
          }
         }
        },
        "title": {
         "font": {
          "color": "#4D5663"
         }
        },
        "xaxis": {
         "gridcolor": "#E1E5ED",
         "showgrid": true,
         "tickfont": {
          "color": "#4D5663"
         },
         "title": {
          "font": {
           "color": "#4D5663"
          },
          "text": "age"
         },
         "zerolinecolor": "#E1E5ED"
        },
        "yaxis": {
         "gridcolor": "#E1E5ED",
         "showgrid": true,
         "tickfont": {
          "color": "#4D5663"
         },
         "title": {
          "font": {
           "color": "#4D5663"
          },
          "text": "Number of Person"
         },
         "zerolinecolor": "#E1E5ED"
        }
       }
      },
      "text/html": [
       "<div>                            <div id=\"e19400b5-83ae-4c62-a9e2-cb601cb17d3a\" class=\"plotly-graph-div\" style=\"height:525px; width:100%;\"></div>            <script type=\"text/javascript\">                require([\"plotly\"], function(Plotly) {                    window.PLOTLYENV=window.PLOTLYENV || {};\n",
       "                    window.PLOTLYENV.BASE_URL='https://plot.ly';                                    if (document.getElementById(\"e19400b5-83ae-4c62-a9e2-cb601cb17d3a\")) {                    Plotly.newPlot(                        \"e19400b5-83ae-4c62-a9e2-cb601cb17d3a\",                        [{\"marker\":{\"color\":\"rgba(255, 153, 51, 0.6)\",\"line\":{\"color\":\"rgba(255, 153, 51, 1.0)\",\"width\":1}},\"name\":\"gender\",\"orientation\":\"v\",\"text\":\"\",\"x\":[1.0,0.0],\"y\":[1319,94],\"type\":\"bar\"}],                        {\"legend\":{\"bgcolor\":\"#F5F6F9\",\"font\":{\"color\":\"#4D5663\"}},\"paper_bgcolor\":\"#F5F6F9\",\"plot_bgcolor\":\"#F5F6F9\",\"template\":{\"data\":{\"barpolar\":[{\"marker\":{\"line\":{\"color\":\"#E5ECF6\",\"width\":0.5},\"pattern\":{\"fillmode\":\"overlay\",\"size\":10,\"solidity\":0.2}},\"type\":\"barpolar\"}],\"bar\":[{\"error_x\":{\"color\":\"#2a3f5f\"},\"error_y\":{\"color\":\"#2a3f5f\"},\"marker\":{\"line\":{\"color\":\"#E5ECF6\",\"width\":0.5},\"pattern\":{\"fillmode\":\"overlay\",\"size\":10,\"solidity\":0.2}},\"type\":\"bar\"}],\"carpet\":[{\"aaxis\":{\"endlinecolor\":\"#2a3f5f\",\"gridcolor\":\"white\",\"linecolor\":\"white\",\"minorgridcolor\":\"white\",\"startlinecolor\":\"#2a3f5f\"},\"baxis\":{\"endlinecolor\":\"#2a3f5f\",\"gridcolor\":\"white\",\"linecolor\":\"white\",\"minorgridcolor\":\"white\",\"startlinecolor\":\"#2a3f5f\"},\"type\":\"carpet\"}],\"choropleth\":[{\"colorbar\":{\"outlinewidth\":0,\"ticks\":\"\"},\"type\":\"choropleth\"}],\"contourcarpet\":[{\"colorbar\":{\"outlinewidth\":0,\"ticks\":\"\"},\"type\":\"contourcarpet\"}],\"contour\":[{\"colorbar\":{\"outlinewidth\":0,\"ticks\":\"\"},\"colorscale\":[[0.0,\"#0d0887\"],[0.1111111111111111,\"#46039f\"],[0.2222222222222222,\"#7201a8\"],[0.3333333333333333,\"#9c179e\"],[0.4444444444444444,\"#bd3786\"],[0.5555555555555556,\"#d8576b\"],[0.6666666666666666,\"#ed7953\"],[0.7777777777777778,\"#fb9f3a\"],[0.8888888888888888,\"#fdca26\"],[1.0,\"#f0f921\"]],\"type\":\"contour\"}],\"heatmapgl\":[{\"colorbar\":{\"outlinewidth\":0,\"ticks\":\"\"},\"colorscale\":[[0.0,\"#0d0887\"],[0.1111111111111111,\"#46039f\"],[0.2222222222222222,\"#7201a8\"],[0.3333333333333333,\"#9c179e\"],[0.4444444444444444,\"#bd3786\"],[0.5555555555555556,\"#d8576b\"],[0.6666666666666666,\"#ed7953\"],[0.7777777777777778,\"#fb9f3a\"],[0.8888888888888888,\"#fdca26\"],[1.0,\"#f0f921\"]],\"type\":\"heatmapgl\"}],\"heatmap\":[{\"colorbar\":{\"outlinewidth\":0,\"ticks\":\"\"},\"colorscale\":[[0.0,\"#0d0887\"],[0.1111111111111111,\"#46039f\"],[0.2222222222222222,\"#7201a8\"],[0.3333333333333333,\"#9c179e\"],[0.4444444444444444,\"#bd3786\"],[0.5555555555555556,\"#d8576b\"],[0.6666666666666666,\"#ed7953\"],[0.7777777777777778,\"#fb9f3a\"],[0.8888888888888888,\"#fdca26\"],[1.0,\"#f0f921\"]],\"type\":\"heatmap\"}],\"histogram2dcontour\":[{\"colorbar\":{\"outlinewidth\":0,\"ticks\":\"\"},\"colorscale\":[[0.0,\"#0d0887\"],[0.1111111111111111,\"#46039f\"],[0.2222222222222222,\"#7201a8\"],[0.3333333333333333,\"#9c179e\"],[0.4444444444444444,\"#bd3786\"],[0.5555555555555556,\"#d8576b\"],[0.6666666666666666,\"#ed7953\"],[0.7777777777777778,\"#fb9f3a\"],[0.8888888888888888,\"#fdca26\"],[1.0,\"#f0f921\"]],\"type\":\"histogram2dcontour\"}],\"histogram2d\":[{\"colorbar\":{\"outlinewidth\":0,\"ticks\":\"\"},\"colorscale\":[[0.0,\"#0d0887\"],[0.1111111111111111,\"#46039f\"],[0.2222222222222222,\"#7201a8\"],[0.3333333333333333,\"#9c179e\"],[0.4444444444444444,\"#bd3786\"],[0.5555555555555556,\"#d8576b\"],[0.6666666666666666,\"#ed7953\"],[0.7777777777777778,\"#fb9f3a\"],[0.8888888888888888,\"#fdca26\"],[1.0,\"#f0f921\"]],\"type\":\"histogram2d\"}],\"histogram\":[{\"marker\":{\"pattern\":{\"fillmode\":\"overlay\",\"size\":10,\"solidity\":0.2}},\"type\":\"histogram\"}],\"mesh3d\":[{\"colorbar\":{\"outlinewidth\":0,\"ticks\":\"\"},\"type\":\"mesh3d\"}],\"parcoords\":[{\"line\":{\"colorbar\":{\"outlinewidth\":0,\"ticks\":\"\"}},\"type\":\"parcoords\"}],\"pie\":[{\"automargin\":true,\"type\":\"pie\"}],\"scatter3d\":[{\"line\":{\"colorbar\":{\"outlinewidth\":0,\"ticks\":\"\"}},\"marker\":{\"colorbar\":{\"outlinewidth\":0,\"ticks\":\"\"}},\"type\":\"scatter3d\"}],\"scattercarpet\":[{\"marker\":{\"colorbar\":{\"outlinewidth\":0,\"ticks\":\"\"}},\"type\":\"scattercarpet\"}],\"scattergeo\":[{\"marker\":{\"colorbar\":{\"outlinewidth\":0,\"ticks\":\"\"}},\"type\":\"scattergeo\"}],\"scattergl\":[{\"marker\":{\"colorbar\":{\"outlinewidth\":0,\"ticks\":\"\"}},\"type\":\"scattergl\"}],\"scattermapbox\":[{\"marker\":{\"colorbar\":{\"outlinewidth\":0,\"ticks\":\"\"}},\"type\":\"scattermapbox\"}],\"scatterpolargl\":[{\"marker\":{\"colorbar\":{\"outlinewidth\":0,\"ticks\":\"\"}},\"type\":\"scatterpolargl\"}],\"scatterpolar\":[{\"marker\":{\"colorbar\":{\"outlinewidth\":0,\"ticks\":\"\"}},\"type\":\"scatterpolar\"}],\"scatter\":[{\"marker\":{\"colorbar\":{\"outlinewidth\":0,\"ticks\":\"\"}},\"type\":\"scatter\"}],\"scatterternary\":[{\"marker\":{\"colorbar\":{\"outlinewidth\":0,\"ticks\":\"\"}},\"type\":\"scatterternary\"}],\"surface\":[{\"colorbar\":{\"outlinewidth\":0,\"ticks\":\"\"},\"colorscale\":[[0.0,\"#0d0887\"],[0.1111111111111111,\"#46039f\"],[0.2222222222222222,\"#7201a8\"],[0.3333333333333333,\"#9c179e\"],[0.4444444444444444,\"#bd3786\"],[0.5555555555555556,\"#d8576b\"],[0.6666666666666666,\"#ed7953\"],[0.7777777777777778,\"#fb9f3a\"],[0.8888888888888888,\"#fdca26\"],[1.0,\"#f0f921\"]],\"type\":\"surface\"}],\"table\":[{\"cells\":{\"fill\":{\"color\":\"#EBF0F8\"},\"line\":{\"color\":\"white\"}},\"header\":{\"fill\":{\"color\":\"#C8D4E3\"},\"line\":{\"color\":\"white\"}},\"type\":\"table\"}]},\"layout\":{\"annotationdefaults\":{\"arrowcolor\":\"#2a3f5f\",\"arrowhead\":0,\"arrowwidth\":1},\"autotypenumbers\":\"strict\",\"coloraxis\":{\"colorbar\":{\"outlinewidth\":0,\"ticks\":\"\"}},\"colorscale\":{\"diverging\":[[0,\"#8e0152\"],[0.1,\"#c51b7d\"],[0.2,\"#de77ae\"],[0.3,\"#f1b6da\"],[0.4,\"#fde0ef\"],[0.5,\"#f7f7f7\"],[0.6,\"#e6f5d0\"],[0.7,\"#b8e186\"],[0.8,\"#7fbc41\"],[0.9,\"#4d9221\"],[1,\"#276419\"]],\"sequential\":[[0.0,\"#0d0887\"],[0.1111111111111111,\"#46039f\"],[0.2222222222222222,\"#7201a8\"],[0.3333333333333333,\"#9c179e\"],[0.4444444444444444,\"#bd3786\"],[0.5555555555555556,\"#d8576b\"],[0.6666666666666666,\"#ed7953\"],[0.7777777777777778,\"#fb9f3a\"],[0.8888888888888888,\"#fdca26\"],[1.0,\"#f0f921\"]],\"sequentialminus\":[[0.0,\"#0d0887\"],[0.1111111111111111,\"#46039f\"],[0.2222222222222222,\"#7201a8\"],[0.3333333333333333,\"#9c179e\"],[0.4444444444444444,\"#bd3786\"],[0.5555555555555556,\"#d8576b\"],[0.6666666666666666,\"#ed7953\"],[0.7777777777777778,\"#fb9f3a\"],[0.8888888888888888,\"#fdca26\"],[1.0,\"#f0f921\"]]},\"colorway\":[\"#636efa\",\"#EF553B\",\"#00cc96\",\"#ab63fa\",\"#FFA15A\",\"#19d3f3\",\"#FF6692\",\"#B6E880\",\"#FF97FF\",\"#FECB52\"],\"font\":{\"color\":\"#2a3f5f\"},\"geo\":{\"bgcolor\":\"white\",\"lakecolor\":\"white\",\"landcolor\":\"#E5ECF6\",\"showlakes\":true,\"showland\":true,\"subunitcolor\":\"white\"},\"hoverlabel\":{\"align\":\"left\"},\"hovermode\":\"closest\",\"mapbox\":{\"style\":\"light\"},\"paper_bgcolor\":\"white\",\"plot_bgcolor\":\"#E5ECF6\",\"polar\":{\"angularaxis\":{\"gridcolor\":\"white\",\"linecolor\":\"white\",\"ticks\":\"\"},\"bgcolor\":\"#E5ECF6\",\"radialaxis\":{\"gridcolor\":\"white\",\"linecolor\":\"white\",\"ticks\":\"\"}},\"scene\":{\"xaxis\":{\"backgroundcolor\":\"#E5ECF6\",\"gridcolor\":\"white\",\"gridwidth\":2,\"linecolor\":\"white\",\"showbackground\":true,\"ticks\":\"\",\"zerolinecolor\":\"white\"},\"yaxis\":{\"backgroundcolor\":\"#E5ECF6\",\"gridcolor\":\"white\",\"gridwidth\":2,\"linecolor\":\"white\",\"showbackground\":true,\"ticks\":\"\",\"zerolinecolor\":\"white\"},\"zaxis\":{\"backgroundcolor\":\"#E5ECF6\",\"gridcolor\":\"white\",\"gridwidth\":2,\"linecolor\":\"white\",\"showbackground\":true,\"ticks\":\"\",\"zerolinecolor\":\"white\"}},\"shapedefaults\":{\"line\":{\"color\":\"#2a3f5f\"}},\"ternary\":{\"aaxis\":{\"gridcolor\":\"white\",\"linecolor\":\"white\",\"ticks\":\"\"},\"baxis\":{\"gridcolor\":\"white\",\"linecolor\":\"white\",\"ticks\":\"\"},\"bgcolor\":\"#E5ECF6\",\"caxis\":{\"gridcolor\":\"white\",\"linecolor\":\"white\",\"ticks\":\"\"}},\"title\":{\"x\":0.05},\"xaxis\":{\"automargin\":true,\"gridcolor\":\"white\",\"linecolor\":\"white\",\"ticks\":\"\",\"title\":{\"standoff\":15},\"zerolinecolor\":\"white\",\"zerolinewidth\":2},\"yaxis\":{\"automargin\":true,\"gridcolor\":\"white\",\"linecolor\":\"white\",\"ticks\":\"\",\"title\":{\"standoff\":15},\"zerolinecolor\":\"white\",\"zerolinewidth\":2}}},\"title\":{\"font\":{\"color\":\"#4D5663\"}},\"xaxis\":{\"gridcolor\":\"#E1E5ED\",\"showgrid\":true,\"tickfont\":{\"color\":\"#4D5663\"},\"title\":{\"font\":{\"color\":\"#4D5663\"},\"text\":\"age\"},\"zerolinecolor\":\"#E1E5ED\"},\"yaxis\":{\"gridcolor\":\"#E1E5ED\",\"showgrid\":true,\"tickfont\":{\"color\":\"#4D5663\"},\"title\":{\"font\":{\"color\":\"#4D5663\"},\"text\":\"Number of Person\"},\"zerolinecolor\":\"#E1E5ED\"}},                        {\"showLink\": true, \"linkText\": \"Export to plot.ly\", \"plotlyServerURL\": \"https://plot.ly\", \"responsive\": true}                    ).then(function(){\n",
       "                            \n",
       "var gd = document.getElementById('e19400b5-83ae-4c62-a9e2-cb601cb17d3a');\n",
       "var x = new MutationObserver(function (mutations, observer) {{\n",
       "        var display = window.getComputedStyle(gd).display;\n",
       "        if (!display || display === 'none') {{\n",
       "            console.log([gd, 'removed!']);\n",
       "            Plotly.purge(gd);\n",
       "            observer.disconnect();\n",
       "        }}\n",
       "}});\n",
       "\n",
       "// Listen for the removal of the full notebook cells\n",
       "var notebookContainer = gd.closest('#notebook-container');\n",
       "if (notebookContainer) {{\n",
       "    x.observe(notebookContainer, {childList: true});\n",
       "}}\n",
       "\n",
       "// Listen for the clearing of the current output cell\n",
       "var outputEl = gd.closest('.output');\n",
       "if (outputEl) {{\n",
       "    x.observe(outputEl, {childList: true});\n",
       "}}\n",
       "\n",
       "                        })                };                });            </script>        </div>"
      ]
     },
     "metadata": {},
     "output_type": "display_data"
    }
   ],
   "source": [
    "(dms1['gender']).value_counts().iplot(kind='bar',xTitle='age', yTitle='Number of Person')"
   ]
  },
  {
   "cell_type": "code",
   "execution_count": 42,
   "id": "9a2c064b",
   "metadata": {},
   "outputs": [
    {
     "data": {
      "application/vnd.plotly.v1+json": {
       "config": {
        "linkText": "Export to plot.ly",
        "plotlyServerURL": "https://plot.ly",
        "showLink": true
       },
       "data": [
        {
         "marker": {
          "color": "rgba(255, 153, 51, 0.6)",
          "line": {
           "color": "rgba(255, 153, 51, 1.0)",
           "width": 1
          }
         },
         "name": "age_bins",
         "orientation": "v",
         "text": "",
         "type": "bar",
         "x": [
          "[26-30]",
          "[31-35]",
          "[20-25]",
          "[36-40]",
          "[41-45]",
          "[>50]",
          "[46-50]"
         ],
         "y": [
          462,
          319,
          100,
          64,
          18,
          1,
          1
         ]
        }
       ],
       "layout": {
        "legend": {
         "bgcolor": "#F5F6F9",
         "font": {
          "color": "#4D5663"
         }
        },
        "paper_bgcolor": "#F5F6F9",
        "plot_bgcolor": "#F5F6F9",
        "template": {
         "data": {
          "bar": [
           {
            "error_x": {
             "color": "#2a3f5f"
            },
            "error_y": {
             "color": "#2a3f5f"
            },
            "marker": {
             "line": {
              "color": "#E5ECF6",
              "width": 0.5
             },
             "pattern": {
              "fillmode": "overlay",
              "size": 10,
              "solidity": 0.2
             }
            },
            "type": "bar"
           }
          ],
          "barpolar": [
           {
            "marker": {
             "line": {
              "color": "#E5ECF6",
              "width": 0.5
             },
             "pattern": {
              "fillmode": "overlay",
              "size": 10,
              "solidity": 0.2
             }
            },
            "type": "barpolar"
           }
          ],
          "carpet": [
           {
            "aaxis": {
             "endlinecolor": "#2a3f5f",
             "gridcolor": "white",
             "linecolor": "white",
             "minorgridcolor": "white",
             "startlinecolor": "#2a3f5f"
            },
            "baxis": {
             "endlinecolor": "#2a3f5f",
             "gridcolor": "white",
             "linecolor": "white",
             "minorgridcolor": "white",
             "startlinecolor": "#2a3f5f"
            },
            "type": "carpet"
           }
          ],
          "choropleth": [
           {
            "colorbar": {
             "outlinewidth": 0,
             "ticks": ""
            },
            "type": "choropleth"
           }
          ],
          "contour": [
           {
            "colorbar": {
             "outlinewidth": 0,
             "ticks": ""
            },
            "colorscale": [
             [
              0,
              "#0d0887"
             ],
             [
              0.1111111111111111,
              "#46039f"
             ],
             [
              0.2222222222222222,
              "#7201a8"
             ],
             [
              0.3333333333333333,
              "#9c179e"
             ],
             [
              0.4444444444444444,
              "#bd3786"
             ],
             [
              0.5555555555555556,
              "#d8576b"
             ],
             [
              0.6666666666666666,
              "#ed7953"
             ],
             [
              0.7777777777777778,
              "#fb9f3a"
             ],
             [
              0.8888888888888888,
              "#fdca26"
             ],
             [
              1,
              "#f0f921"
             ]
            ],
            "type": "contour"
           }
          ],
          "contourcarpet": [
           {
            "colorbar": {
             "outlinewidth": 0,
             "ticks": ""
            },
            "type": "contourcarpet"
           }
          ],
          "heatmap": [
           {
            "colorbar": {
             "outlinewidth": 0,
             "ticks": ""
            },
            "colorscale": [
             [
              0,
              "#0d0887"
             ],
             [
              0.1111111111111111,
              "#46039f"
             ],
             [
              0.2222222222222222,
              "#7201a8"
             ],
             [
              0.3333333333333333,
              "#9c179e"
             ],
             [
              0.4444444444444444,
              "#bd3786"
             ],
             [
              0.5555555555555556,
              "#d8576b"
             ],
             [
              0.6666666666666666,
              "#ed7953"
             ],
             [
              0.7777777777777778,
              "#fb9f3a"
             ],
             [
              0.8888888888888888,
              "#fdca26"
             ],
             [
              1,
              "#f0f921"
             ]
            ],
            "type": "heatmap"
           }
          ],
          "heatmapgl": [
           {
            "colorbar": {
             "outlinewidth": 0,
             "ticks": ""
            },
            "colorscale": [
             [
              0,
              "#0d0887"
             ],
             [
              0.1111111111111111,
              "#46039f"
             ],
             [
              0.2222222222222222,
              "#7201a8"
             ],
             [
              0.3333333333333333,
              "#9c179e"
             ],
             [
              0.4444444444444444,
              "#bd3786"
             ],
             [
              0.5555555555555556,
              "#d8576b"
             ],
             [
              0.6666666666666666,
              "#ed7953"
             ],
             [
              0.7777777777777778,
              "#fb9f3a"
             ],
             [
              0.8888888888888888,
              "#fdca26"
             ],
             [
              1,
              "#f0f921"
             ]
            ],
            "type": "heatmapgl"
           }
          ],
          "histogram": [
           {
            "marker": {
             "pattern": {
              "fillmode": "overlay",
              "size": 10,
              "solidity": 0.2
             }
            },
            "type": "histogram"
           }
          ],
          "histogram2d": [
           {
            "colorbar": {
             "outlinewidth": 0,
             "ticks": ""
            },
            "colorscale": [
             [
              0,
              "#0d0887"
             ],
             [
              0.1111111111111111,
              "#46039f"
             ],
             [
              0.2222222222222222,
              "#7201a8"
             ],
             [
              0.3333333333333333,
              "#9c179e"
             ],
             [
              0.4444444444444444,
              "#bd3786"
             ],
             [
              0.5555555555555556,
              "#d8576b"
             ],
             [
              0.6666666666666666,
              "#ed7953"
             ],
             [
              0.7777777777777778,
              "#fb9f3a"
             ],
             [
              0.8888888888888888,
              "#fdca26"
             ],
             [
              1,
              "#f0f921"
             ]
            ],
            "type": "histogram2d"
           }
          ],
          "histogram2dcontour": [
           {
            "colorbar": {
             "outlinewidth": 0,
             "ticks": ""
            },
            "colorscale": [
             [
              0,
              "#0d0887"
             ],
             [
              0.1111111111111111,
              "#46039f"
             ],
             [
              0.2222222222222222,
              "#7201a8"
             ],
             [
              0.3333333333333333,
              "#9c179e"
             ],
             [
              0.4444444444444444,
              "#bd3786"
             ],
             [
              0.5555555555555556,
              "#d8576b"
             ],
             [
              0.6666666666666666,
              "#ed7953"
             ],
             [
              0.7777777777777778,
              "#fb9f3a"
             ],
             [
              0.8888888888888888,
              "#fdca26"
             ],
             [
              1,
              "#f0f921"
             ]
            ],
            "type": "histogram2dcontour"
           }
          ],
          "mesh3d": [
           {
            "colorbar": {
             "outlinewidth": 0,
             "ticks": ""
            },
            "type": "mesh3d"
           }
          ],
          "parcoords": [
           {
            "line": {
             "colorbar": {
              "outlinewidth": 0,
              "ticks": ""
             }
            },
            "type": "parcoords"
           }
          ],
          "pie": [
           {
            "automargin": true,
            "type": "pie"
           }
          ],
          "scatter": [
           {
            "marker": {
             "colorbar": {
              "outlinewidth": 0,
              "ticks": ""
             }
            },
            "type": "scatter"
           }
          ],
          "scatter3d": [
           {
            "line": {
             "colorbar": {
              "outlinewidth": 0,
              "ticks": ""
             }
            },
            "marker": {
             "colorbar": {
              "outlinewidth": 0,
              "ticks": ""
             }
            },
            "type": "scatter3d"
           }
          ],
          "scattercarpet": [
           {
            "marker": {
             "colorbar": {
              "outlinewidth": 0,
              "ticks": ""
             }
            },
            "type": "scattercarpet"
           }
          ],
          "scattergeo": [
           {
            "marker": {
             "colorbar": {
              "outlinewidth": 0,
              "ticks": ""
             }
            },
            "type": "scattergeo"
           }
          ],
          "scattergl": [
           {
            "marker": {
             "colorbar": {
              "outlinewidth": 0,
              "ticks": ""
             }
            },
            "type": "scattergl"
           }
          ],
          "scattermapbox": [
           {
            "marker": {
             "colorbar": {
              "outlinewidth": 0,
              "ticks": ""
             }
            },
            "type": "scattermapbox"
           }
          ],
          "scatterpolar": [
           {
            "marker": {
             "colorbar": {
              "outlinewidth": 0,
              "ticks": ""
             }
            },
            "type": "scatterpolar"
           }
          ],
          "scatterpolargl": [
           {
            "marker": {
             "colorbar": {
              "outlinewidth": 0,
              "ticks": ""
             }
            },
            "type": "scatterpolargl"
           }
          ],
          "scatterternary": [
           {
            "marker": {
             "colorbar": {
              "outlinewidth": 0,
              "ticks": ""
             }
            },
            "type": "scatterternary"
           }
          ],
          "surface": [
           {
            "colorbar": {
             "outlinewidth": 0,
             "ticks": ""
            },
            "colorscale": [
             [
              0,
              "#0d0887"
             ],
             [
              0.1111111111111111,
              "#46039f"
             ],
             [
              0.2222222222222222,
              "#7201a8"
             ],
             [
              0.3333333333333333,
              "#9c179e"
             ],
             [
              0.4444444444444444,
              "#bd3786"
             ],
             [
              0.5555555555555556,
              "#d8576b"
             ],
             [
              0.6666666666666666,
              "#ed7953"
             ],
             [
              0.7777777777777778,
              "#fb9f3a"
             ],
             [
              0.8888888888888888,
              "#fdca26"
             ],
             [
              1,
              "#f0f921"
             ]
            ],
            "type": "surface"
           }
          ],
          "table": [
           {
            "cells": {
             "fill": {
              "color": "#EBF0F8"
             },
             "line": {
              "color": "white"
             }
            },
            "header": {
             "fill": {
              "color": "#C8D4E3"
             },
             "line": {
              "color": "white"
             }
            },
            "type": "table"
           }
          ]
         },
         "layout": {
          "annotationdefaults": {
           "arrowcolor": "#2a3f5f",
           "arrowhead": 0,
           "arrowwidth": 1
          },
          "autotypenumbers": "strict",
          "coloraxis": {
           "colorbar": {
            "outlinewidth": 0,
            "ticks": ""
           }
          },
          "colorscale": {
           "diverging": [
            [
             0,
             "#8e0152"
            ],
            [
             0.1,
             "#c51b7d"
            ],
            [
             0.2,
             "#de77ae"
            ],
            [
             0.3,
             "#f1b6da"
            ],
            [
             0.4,
             "#fde0ef"
            ],
            [
             0.5,
             "#f7f7f7"
            ],
            [
             0.6,
             "#e6f5d0"
            ],
            [
             0.7,
             "#b8e186"
            ],
            [
             0.8,
             "#7fbc41"
            ],
            [
             0.9,
             "#4d9221"
            ],
            [
             1,
             "#276419"
            ]
           ],
           "sequential": [
            [
             0,
             "#0d0887"
            ],
            [
             0.1111111111111111,
             "#46039f"
            ],
            [
             0.2222222222222222,
             "#7201a8"
            ],
            [
             0.3333333333333333,
             "#9c179e"
            ],
            [
             0.4444444444444444,
             "#bd3786"
            ],
            [
             0.5555555555555556,
             "#d8576b"
            ],
            [
             0.6666666666666666,
             "#ed7953"
            ],
            [
             0.7777777777777778,
             "#fb9f3a"
            ],
            [
             0.8888888888888888,
             "#fdca26"
            ],
            [
             1,
             "#f0f921"
            ]
           ],
           "sequentialminus": [
            [
             0,
             "#0d0887"
            ],
            [
             0.1111111111111111,
             "#46039f"
            ],
            [
             0.2222222222222222,
             "#7201a8"
            ],
            [
             0.3333333333333333,
             "#9c179e"
            ],
            [
             0.4444444444444444,
             "#bd3786"
            ],
            [
             0.5555555555555556,
             "#d8576b"
            ],
            [
             0.6666666666666666,
             "#ed7953"
            ],
            [
             0.7777777777777778,
             "#fb9f3a"
            ],
            [
             0.8888888888888888,
             "#fdca26"
            ],
            [
             1,
             "#f0f921"
            ]
           ]
          },
          "colorway": [
           "#636efa",
           "#EF553B",
           "#00cc96",
           "#ab63fa",
           "#FFA15A",
           "#19d3f3",
           "#FF6692",
           "#B6E880",
           "#FF97FF",
           "#FECB52"
          ],
          "font": {
           "color": "#2a3f5f"
          },
          "geo": {
           "bgcolor": "white",
           "lakecolor": "white",
           "landcolor": "#E5ECF6",
           "showlakes": true,
           "showland": true,
           "subunitcolor": "white"
          },
          "hoverlabel": {
           "align": "left"
          },
          "hovermode": "closest",
          "mapbox": {
           "style": "light"
          },
          "paper_bgcolor": "white",
          "plot_bgcolor": "#E5ECF6",
          "polar": {
           "angularaxis": {
            "gridcolor": "white",
            "linecolor": "white",
            "ticks": ""
           },
           "bgcolor": "#E5ECF6",
           "radialaxis": {
            "gridcolor": "white",
            "linecolor": "white",
            "ticks": ""
           }
          },
          "scene": {
           "xaxis": {
            "backgroundcolor": "#E5ECF6",
            "gridcolor": "white",
            "gridwidth": 2,
            "linecolor": "white",
            "showbackground": true,
            "ticks": "",
            "zerolinecolor": "white"
           },
           "yaxis": {
            "backgroundcolor": "#E5ECF6",
            "gridcolor": "white",
            "gridwidth": 2,
            "linecolor": "white",
            "showbackground": true,
            "ticks": "",
            "zerolinecolor": "white"
           },
           "zaxis": {
            "backgroundcolor": "#E5ECF6",
            "gridcolor": "white",
            "gridwidth": 2,
            "linecolor": "white",
            "showbackground": true,
            "ticks": "",
            "zerolinecolor": "white"
           }
          },
          "shapedefaults": {
           "line": {
            "color": "#2a3f5f"
           }
          },
          "ternary": {
           "aaxis": {
            "gridcolor": "white",
            "linecolor": "white",
            "ticks": ""
           },
           "baxis": {
            "gridcolor": "white",
            "linecolor": "white",
            "ticks": ""
           },
           "bgcolor": "#E5ECF6",
           "caxis": {
            "gridcolor": "white",
            "linecolor": "white",
            "ticks": ""
           }
          },
          "title": {
           "x": 0.05
          },
          "xaxis": {
           "automargin": true,
           "gridcolor": "white",
           "linecolor": "white",
           "ticks": "",
           "title": {
            "standoff": 15
           },
           "zerolinecolor": "white",
           "zerolinewidth": 2
          },
          "yaxis": {
           "automargin": true,
           "gridcolor": "white",
           "linecolor": "white",
           "ticks": "",
           "title": {
            "standoff": 15
           },
           "zerolinecolor": "white",
           "zerolinewidth": 2
          }
         }
        },
        "title": {
         "font": {
          "color": "#4D5663"
         }
        },
        "xaxis": {
         "gridcolor": "#E1E5ED",
         "showgrid": true,
         "tickfont": {
          "color": "#4D5663"
         },
         "title": {
          "font": {
           "color": "#4D5663"
          },
          "text": "age"
         },
         "zerolinecolor": "#E1E5ED"
        },
        "yaxis": {
         "gridcolor": "#E1E5ED",
         "showgrid": true,
         "tickfont": {
          "color": "#4D5663"
         },
         "title": {
          "font": {
           "color": "#4D5663"
          },
          "text": "Number of Person"
         },
         "zerolinecolor": "#E1E5ED"
        }
       }
      },
      "text/html": [
       "<div>                            <div id=\"046befe9-92f3-4a9a-8b12-082a92225846\" class=\"plotly-graph-div\" style=\"height:525px; width:100%;\"></div>            <script type=\"text/javascript\">                require([\"plotly\"], function(Plotly) {                    window.PLOTLYENV=window.PLOTLYENV || {};\n",
       "                    window.PLOTLYENV.BASE_URL='https://plot.ly';                                    if (document.getElementById(\"046befe9-92f3-4a9a-8b12-082a92225846\")) {                    Plotly.newPlot(                        \"046befe9-92f3-4a9a-8b12-082a92225846\",                        [{\"marker\":{\"color\":\"rgba(255, 153, 51, 0.6)\",\"line\":{\"color\":\"rgba(255, 153, 51, 1.0)\",\"width\":1}},\"name\":\"age_bins\",\"orientation\":\"v\",\"text\":\"\",\"x\":[\"[26-30]\",\"[31-35]\",\"[20-25]\",\"[36-40]\",\"[41-45]\",\"[>50]\",\"[46-50]\"],\"y\":[462,319,100,64,18,1,1],\"type\":\"bar\"}],                        {\"legend\":{\"bgcolor\":\"#F5F6F9\",\"font\":{\"color\":\"#4D5663\"}},\"paper_bgcolor\":\"#F5F6F9\",\"plot_bgcolor\":\"#F5F6F9\",\"template\":{\"data\":{\"barpolar\":[{\"marker\":{\"line\":{\"color\":\"#E5ECF6\",\"width\":0.5},\"pattern\":{\"fillmode\":\"overlay\",\"size\":10,\"solidity\":0.2}},\"type\":\"barpolar\"}],\"bar\":[{\"error_x\":{\"color\":\"#2a3f5f\"},\"error_y\":{\"color\":\"#2a3f5f\"},\"marker\":{\"line\":{\"color\":\"#E5ECF6\",\"width\":0.5},\"pattern\":{\"fillmode\":\"overlay\",\"size\":10,\"solidity\":0.2}},\"type\":\"bar\"}],\"carpet\":[{\"aaxis\":{\"endlinecolor\":\"#2a3f5f\",\"gridcolor\":\"white\",\"linecolor\":\"white\",\"minorgridcolor\":\"white\",\"startlinecolor\":\"#2a3f5f\"},\"baxis\":{\"endlinecolor\":\"#2a3f5f\",\"gridcolor\":\"white\",\"linecolor\":\"white\",\"minorgridcolor\":\"white\",\"startlinecolor\":\"#2a3f5f\"},\"type\":\"carpet\"}],\"choropleth\":[{\"colorbar\":{\"outlinewidth\":0,\"ticks\":\"\"},\"type\":\"choropleth\"}],\"contourcarpet\":[{\"colorbar\":{\"outlinewidth\":0,\"ticks\":\"\"},\"type\":\"contourcarpet\"}],\"contour\":[{\"colorbar\":{\"outlinewidth\":0,\"ticks\":\"\"},\"colorscale\":[[0.0,\"#0d0887\"],[0.1111111111111111,\"#46039f\"],[0.2222222222222222,\"#7201a8\"],[0.3333333333333333,\"#9c179e\"],[0.4444444444444444,\"#bd3786\"],[0.5555555555555556,\"#d8576b\"],[0.6666666666666666,\"#ed7953\"],[0.7777777777777778,\"#fb9f3a\"],[0.8888888888888888,\"#fdca26\"],[1.0,\"#f0f921\"]],\"type\":\"contour\"}],\"heatmapgl\":[{\"colorbar\":{\"outlinewidth\":0,\"ticks\":\"\"},\"colorscale\":[[0.0,\"#0d0887\"],[0.1111111111111111,\"#46039f\"],[0.2222222222222222,\"#7201a8\"],[0.3333333333333333,\"#9c179e\"],[0.4444444444444444,\"#bd3786\"],[0.5555555555555556,\"#d8576b\"],[0.6666666666666666,\"#ed7953\"],[0.7777777777777778,\"#fb9f3a\"],[0.8888888888888888,\"#fdca26\"],[1.0,\"#f0f921\"]],\"type\":\"heatmapgl\"}],\"heatmap\":[{\"colorbar\":{\"outlinewidth\":0,\"ticks\":\"\"},\"colorscale\":[[0.0,\"#0d0887\"],[0.1111111111111111,\"#46039f\"],[0.2222222222222222,\"#7201a8\"],[0.3333333333333333,\"#9c179e\"],[0.4444444444444444,\"#bd3786\"],[0.5555555555555556,\"#d8576b\"],[0.6666666666666666,\"#ed7953\"],[0.7777777777777778,\"#fb9f3a\"],[0.8888888888888888,\"#fdca26\"],[1.0,\"#f0f921\"]],\"type\":\"heatmap\"}],\"histogram2dcontour\":[{\"colorbar\":{\"outlinewidth\":0,\"ticks\":\"\"},\"colorscale\":[[0.0,\"#0d0887\"],[0.1111111111111111,\"#46039f\"],[0.2222222222222222,\"#7201a8\"],[0.3333333333333333,\"#9c179e\"],[0.4444444444444444,\"#bd3786\"],[0.5555555555555556,\"#d8576b\"],[0.6666666666666666,\"#ed7953\"],[0.7777777777777778,\"#fb9f3a\"],[0.8888888888888888,\"#fdca26\"],[1.0,\"#f0f921\"]],\"type\":\"histogram2dcontour\"}],\"histogram2d\":[{\"colorbar\":{\"outlinewidth\":0,\"ticks\":\"\"},\"colorscale\":[[0.0,\"#0d0887\"],[0.1111111111111111,\"#46039f\"],[0.2222222222222222,\"#7201a8\"],[0.3333333333333333,\"#9c179e\"],[0.4444444444444444,\"#bd3786\"],[0.5555555555555556,\"#d8576b\"],[0.6666666666666666,\"#ed7953\"],[0.7777777777777778,\"#fb9f3a\"],[0.8888888888888888,\"#fdca26\"],[1.0,\"#f0f921\"]],\"type\":\"histogram2d\"}],\"histogram\":[{\"marker\":{\"pattern\":{\"fillmode\":\"overlay\",\"size\":10,\"solidity\":0.2}},\"type\":\"histogram\"}],\"mesh3d\":[{\"colorbar\":{\"outlinewidth\":0,\"ticks\":\"\"},\"type\":\"mesh3d\"}],\"parcoords\":[{\"line\":{\"colorbar\":{\"outlinewidth\":0,\"ticks\":\"\"}},\"type\":\"parcoords\"}],\"pie\":[{\"automargin\":true,\"type\":\"pie\"}],\"scatter3d\":[{\"line\":{\"colorbar\":{\"outlinewidth\":0,\"ticks\":\"\"}},\"marker\":{\"colorbar\":{\"outlinewidth\":0,\"ticks\":\"\"}},\"type\":\"scatter3d\"}],\"scattercarpet\":[{\"marker\":{\"colorbar\":{\"outlinewidth\":0,\"ticks\":\"\"}},\"type\":\"scattercarpet\"}],\"scattergeo\":[{\"marker\":{\"colorbar\":{\"outlinewidth\":0,\"ticks\":\"\"}},\"type\":\"scattergeo\"}],\"scattergl\":[{\"marker\":{\"colorbar\":{\"outlinewidth\":0,\"ticks\":\"\"}},\"type\":\"scattergl\"}],\"scattermapbox\":[{\"marker\":{\"colorbar\":{\"outlinewidth\":0,\"ticks\":\"\"}},\"type\":\"scattermapbox\"}],\"scatterpolargl\":[{\"marker\":{\"colorbar\":{\"outlinewidth\":0,\"ticks\":\"\"}},\"type\":\"scatterpolargl\"}],\"scatterpolar\":[{\"marker\":{\"colorbar\":{\"outlinewidth\":0,\"ticks\":\"\"}},\"type\":\"scatterpolar\"}],\"scatter\":[{\"marker\":{\"colorbar\":{\"outlinewidth\":0,\"ticks\":\"\"}},\"type\":\"scatter\"}],\"scatterternary\":[{\"marker\":{\"colorbar\":{\"outlinewidth\":0,\"ticks\":\"\"}},\"type\":\"scatterternary\"}],\"surface\":[{\"colorbar\":{\"outlinewidth\":0,\"ticks\":\"\"},\"colorscale\":[[0.0,\"#0d0887\"],[0.1111111111111111,\"#46039f\"],[0.2222222222222222,\"#7201a8\"],[0.3333333333333333,\"#9c179e\"],[0.4444444444444444,\"#bd3786\"],[0.5555555555555556,\"#d8576b\"],[0.6666666666666666,\"#ed7953\"],[0.7777777777777778,\"#fb9f3a\"],[0.8888888888888888,\"#fdca26\"],[1.0,\"#f0f921\"]],\"type\":\"surface\"}],\"table\":[{\"cells\":{\"fill\":{\"color\":\"#EBF0F8\"},\"line\":{\"color\":\"white\"}},\"header\":{\"fill\":{\"color\":\"#C8D4E3\"},\"line\":{\"color\":\"white\"}},\"type\":\"table\"}]},\"layout\":{\"annotationdefaults\":{\"arrowcolor\":\"#2a3f5f\",\"arrowhead\":0,\"arrowwidth\":1},\"autotypenumbers\":\"strict\",\"coloraxis\":{\"colorbar\":{\"outlinewidth\":0,\"ticks\":\"\"}},\"colorscale\":{\"diverging\":[[0,\"#8e0152\"],[0.1,\"#c51b7d\"],[0.2,\"#de77ae\"],[0.3,\"#f1b6da\"],[0.4,\"#fde0ef\"],[0.5,\"#f7f7f7\"],[0.6,\"#e6f5d0\"],[0.7,\"#b8e186\"],[0.8,\"#7fbc41\"],[0.9,\"#4d9221\"],[1,\"#276419\"]],\"sequential\":[[0.0,\"#0d0887\"],[0.1111111111111111,\"#46039f\"],[0.2222222222222222,\"#7201a8\"],[0.3333333333333333,\"#9c179e\"],[0.4444444444444444,\"#bd3786\"],[0.5555555555555556,\"#d8576b\"],[0.6666666666666666,\"#ed7953\"],[0.7777777777777778,\"#fb9f3a\"],[0.8888888888888888,\"#fdca26\"],[1.0,\"#f0f921\"]],\"sequentialminus\":[[0.0,\"#0d0887\"],[0.1111111111111111,\"#46039f\"],[0.2222222222222222,\"#7201a8\"],[0.3333333333333333,\"#9c179e\"],[0.4444444444444444,\"#bd3786\"],[0.5555555555555556,\"#d8576b\"],[0.6666666666666666,\"#ed7953\"],[0.7777777777777778,\"#fb9f3a\"],[0.8888888888888888,\"#fdca26\"],[1.0,\"#f0f921\"]]},\"colorway\":[\"#636efa\",\"#EF553B\",\"#00cc96\",\"#ab63fa\",\"#FFA15A\",\"#19d3f3\",\"#FF6692\",\"#B6E880\",\"#FF97FF\",\"#FECB52\"],\"font\":{\"color\":\"#2a3f5f\"},\"geo\":{\"bgcolor\":\"white\",\"lakecolor\":\"white\",\"landcolor\":\"#E5ECF6\",\"showlakes\":true,\"showland\":true,\"subunitcolor\":\"white\"},\"hoverlabel\":{\"align\":\"left\"},\"hovermode\":\"closest\",\"mapbox\":{\"style\":\"light\"},\"paper_bgcolor\":\"white\",\"plot_bgcolor\":\"#E5ECF6\",\"polar\":{\"angularaxis\":{\"gridcolor\":\"white\",\"linecolor\":\"white\",\"ticks\":\"\"},\"bgcolor\":\"#E5ECF6\",\"radialaxis\":{\"gridcolor\":\"white\",\"linecolor\":\"white\",\"ticks\":\"\"}},\"scene\":{\"xaxis\":{\"backgroundcolor\":\"#E5ECF6\",\"gridcolor\":\"white\",\"gridwidth\":2,\"linecolor\":\"white\",\"showbackground\":true,\"ticks\":\"\",\"zerolinecolor\":\"white\"},\"yaxis\":{\"backgroundcolor\":\"#E5ECF6\",\"gridcolor\":\"white\",\"gridwidth\":2,\"linecolor\":\"white\",\"showbackground\":true,\"ticks\":\"\",\"zerolinecolor\":\"white\"},\"zaxis\":{\"backgroundcolor\":\"#E5ECF6\",\"gridcolor\":\"white\",\"gridwidth\":2,\"linecolor\":\"white\",\"showbackground\":true,\"ticks\":\"\",\"zerolinecolor\":\"white\"}},\"shapedefaults\":{\"line\":{\"color\":\"#2a3f5f\"}},\"ternary\":{\"aaxis\":{\"gridcolor\":\"white\",\"linecolor\":\"white\",\"ticks\":\"\"},\"baxis\":{\"gridcolor\":\"white\",\"linecolor\":\"white\",\"ticks\":\"\"},\"bgcolor\":\"#E5ECF6\",\"caxis\":{\"gridcolor\":\"white\",\"linecolor\":\"white\",\"ticks\":\"\"}},\"title\":{\"x\":0.05},\"xaxis\":{\"automargin\":true,\"gridcolor\":\"white\",\"linecolor\":\"white\",\"ticks\":\"\",\"title\":{\"standoff\":15},\"zerolinecolor\":\"white\",\"zerolinewidth\":2},\"yaxis\":{\"automargin\":true,\"gridcolor\":\"white\",\"linecolor\":\"white\",\"ticks\":\"\",\"title\":{\"standoff\":15},\"zerolinecolor\":\"white\",\"zerolinewidth\":2}}},\"title\":{\"font\":{\"color\":\"#4D5663\"}},\"xaxis\":{\"gridcolor\":\"#E1E5ED\",\"showgrid\":true,\"tickfont\":{\"color\":\"#4D5663\"},\"title\":{\"font\":{\"color\":\"#4D5663\"},\"text\":\"age\"},\"zerolinecolor\":\"#E1E5ED\"},\"yaxis\":{\"gridcolor\":\"#E1E5ED\",\"showgrid\":true,\"tickfont\":{\"color\":\"#4D5663\"},\"title\":{\"font\":{\"color\":\"#4D5663\"},\"text\":\"Number of Person\"},\"zerolinecolor\":\"#E1E5ED\"}},                        {\"showLink\": true, \"linkText\": \"Export to plot.ly\", \"plotlyServerURL\": \"https://plot.ly\", \"responsive\": true}                    ).then(function(){\n",
       "                            \n",
       "var gd = document.getElementById('046befe9-92f3-4a9a-8b12-082a92225846');\n",
       "var x = new MutationObserver(function (mutations, observer) {{\n",
       "        var display = window.getComputedStyle(gd).display;\n",
       "        if (!display || display === 'none') {{\n",
       "            console.log([gd, 'removed!']);\n",
       "            Plotly.purge(gd);\n",
       "            observer.disconnect();\n",
       "        }}\n",
       "}});\n",
       "\n",
       "// Listen for the removal of the full notebook cells\n",
       "var notebookContainer = gd.closest('#notebook-container');\n",
       "if (notebookContainer) {{\n",
       "    x.observe(notebookContainer, {childList: true});\n",
       "}}\n",
       "\n",
       "// Listen for the clearing of the current output cell\n",
       "var outputEl = gd.closest('.output');\n",
       "if (outputEl) {{\n",
       "    x.observe(outputEl, {childList: true});\n",
       "}}\n",
       "\n",
       "                        })                };                });            </script>        </div>"
      ]
     },
     "metadata": {},
     "output_type": "display_data"
    },
    {
     "name": "stdout",
     "output_type": "stream",
     "text": [
      "(965, 41)\n"
     ]
    }
   ],
   "source": [
    "#unmarried\n",
    "(dms0['age_bins']).value_counts().iplot(kind='bar',xTitle='age', yTitle='Number of Person')\n",
    "print(dms0.shape)"
   ]
  },
  {
   "cell_type": "code",
   "execution_count": 43,
   "id": "49c062aa",
   "metadata": {
    "scrolled": true
   },
   "outputs": [
    {
     "data": {
      "application/vnd.plotly.v1+json": {
       "config": {
        "linkText": "Export to plot.ly",
        "plotlyServerURL": "https://plot.ly",
        "showLink": true
       },
       "data": [
        {
         "marker": {
          "color": "rgba(255, 153, 51, 0.6)",
          "line": {
           "color": "rgba(255, 153, 51, 1.0)",
           "width": 1
          }
         },
         "name": "age",
         "orientation": "v",
         "text": "",
         "type": "bar",
         "x": [
          30,
          28,
          31,
          32,
          29,
          27,
          26,
          33,
          25,
          34,
          35,
          24,
          36,
          23,
          38,
          37,
          41,
          39,
          40,
          42,
          43,
          22,
          45,
          44,
          21,
          54,
          47
         ],
         "y": [
          117,
          107,
          96,
          93,
          92,
          82,
          64,
          55,
          50,
          42,
          33,
          30,
          24,
          16,
          15,
          9,
          8,
          8,
          8,
          4,
          3,
          3,
          2,
          1,
          1,
          1,
          1
         ]
        }
       ],
       "layout": {
        "legend": {
         "bgcolor": "#F5F6F9",
         "font": {
          "color": "#4D5663"
         }
        },
        "paper_bgcolor": "#F5F6F9",
        "plot_bgcolor": "#F5F6F9",
        "template": {
         "data": {
          "bar": [
           {
            "error_x": {
             "color": "#2a3f5f"
            },
            "error_y": {
             "color": "#2a3f5f"
            },
            "marker": {
             "line": {
              "color": "#E5ECF6",
              "width": 0.5
             },
             "pattern": {
              "fillmode": "overlay",
              "size": 10,
              "solidity": 0.2
             }
            },
            "type": "bar"
           }
          ],
          "barpolar": [
           {
            "marker": {
             "line": {
              "color": "#E5ECF6",
              "width": 0.5
             },
             "pattern": {
              "fillmode": "overlay",
              "size": 10,
              "solidity": 0.2
             }
            },
            "type": "barpolar"
           }
          ],
          "carpet": [
           {
            "aaxis": {
             "endlinecolor": "#2a3f5f",
             "gridcolor": "white",
             "linecolor": "white",
             "minorgridcolor": "white",
             "startlinecolor": "#2a3f5f"
            },
            "baxis": {
             "endlinecolor": "#2a3f5f",
             "gridcolor": "white",
             "linecolor": "white",
             "minorgridcolor": "white",
             "startlinecolor": "#2a3f5f"
            },
            "type": "carpet"
           }
          ],
          "choropleth": [
           {
            "colorbar": {
             "outlinewidth": 0,
             "ticks": ""
            },
            "type": "choropleth"
           }
          ],
          "contour": [
           {
            "colorbar": {
             "outlinewidth": 0,
             "ticks": ""
            },
            "colorscale": [
             [
              0,
              "#0d0887"
             ],
             [
              0.1111111111111111,
              "#46039f"
             ],
             [
              0.2222222222222222,
              "#7201a8"
             ],
             [
              0.3333333333333333,
              "#9c179e"
             ],
             [
              0.4444444444444444,
              "#bd3786"
             ],
             [
              0.5555555555555556,
              "#d8576b"
             ],
             [
              0.6666666666666666,
              "#ed7953"
             ],
             [
              0.7777777777777778,
              "#fb9f3a"
             ],
             [
              0.8888888888888888,
              "#fdca26"
             ],
             [
              1,
              "#f0f921"
             ]
            ],
            "type": "contour"
           }
          ],
          "contourcarpet": [
           {
            "colorbar": {
             "outlinewidth": 0,
             "ticks": ""
            },
            "type": "contourcarpet"
           }
          ],
          "heatmap": [
           {
            "colorbar": {
             "outlinewidth": 0,
             "ticks": ""
            },
            "colorscale": [
             [
              0,
              "#0d0887"
             ],
             [
              0.1111111111111111,
              "#46039f"
             ],
             [
              0.2222222222222222,
              "#7201a8"
             ],
             [
              0.3333333333333333,
              "#9c179e"
             ],
             [
              0.4444444444444444,
              "#bd3786"
             ],
             [
              0.5555555555555556,
              "#d8576b"
             ],
             [
              0.6666666666666666,
              "#ed7953"
             ],
             [
              0.7777777777777778,
              "#fb9f3a"
             ],
             [
              0.8888888888888888,
              "#fdca26"
             ],
             [
              1,
              "#f0f921"
             ]
            ],
            "type": "heatmap"
           }
          ],
          "heatmapgl": [
           {
            "colorbar": {
             "outlinewidth": 0,
             "ticks": ""
            },
            "colorscale": [
             [
              0,
              "#0d0887"
             ],
             [
              0.1111111111111111,
              "#46039f"
             ],
             [
              0.2222222222222222,
              "#7201a8"
             ],
             [
              0.3333333333333333,
              "#9c179e"
             ],
             [
              0.4444444444444444,
              "#bd3786"
             ],
             [
              0.5555555555555556,
              "#d8576b"
             ],
             [
              0.6666666666666666,
              "#ed7953"
             ],
             [
              0.7777777777777778,
              "#fb9f3a"
             ],
             [
              0.8888888888888888,
              "#fdca26"
             ],
             [
              1,
              "#f0f921"
             ]
            ],
            "type": "heatmapgl"
           }
          ],
          "histogram": [
           {
            "marker": {
             "pattern": {
              "fillmode": "overlay",
              "size": 10,
              "solidity": 0.2
             }
            },
            "type": "histogram"
           }
          ],
          "histogram2d": [
           {
            "colorbar": {
             "outlinewidth": 0,
             "ticks": ""
            },
            "colorscale": [
             [
              0,
              "#0d0887"
             ],
             [
              0.1111111111111111,
              "#46039f"
             ],
             [
              0.2222222222222222,
              "#7201a8"
             ],
             [
              0.3333333333333333,
              "#9c179e"
             ],
             [
              0.4444444444444444,
              "#bd3786"
             ],
             [
              0.5555555555555556,
              "#d8576b"
             ],
             [
              0.6666666666666666,
              "#ed7953"
             ],
             [
              0.7777777777777778,
              "#fb9f3a"
             ],
             [
              0.8888888888888888,
              "#fdca26"
             ],
             [
              1,
              "#f0f921"
             ]
            ],
            "type": "histogram2d"
           }
          ],
          "histogram2dcontour": [
           {
            "colorbar": {
             "outlinewidth": 0,
             "ticks": ""
            },
            "colorscale": [
             [
              0,
              "#0d0887"
             ],
             [
              0.1111111111111111,
              "#46039f"
             ],
             [
              0.2222222222222222,
              "#7201a8"
             ],
             [
              0.3333333333333333,
              "#9c179e"
             ],
             [
              0.4444444444444444,
              "#bd3786"
             ],
             [
              0.5555555555555556,
              "#d8576b"
             ],
             [
              0.6666666666666666,
              "#ed7953"
             ],
             [
              0.7777777777777778,
              "#fb9f3a"
             ],
             [
              0.8888888888888888,
              "#fdca26"
             ],
             [
              1,
              "#f0f921"
             ]
            ],
            "type": "histogram2dcontour"
           }
          ],
          "mesh3d": [
           {
            "colorbar": {
             "outlinewidth": 0,
             "ticks": ""
            },
            "type": "mesh3d"
           }
          ],
          "parcoords": [
           {
            "line": {
             "colorbar": {
              "outlinewidth": 0,
              "ticks": ""
             }
            },
            "type": "parcoords"
           }
          ],
          "pie": [
           {
            "automargin": true,
            "type": "pie"
           }
          ],
          "scatter": [
           {
            "marker": {
             "colorbar": {
              "outlinewidth": 0,
              "ticks": ""
             }
            },
            "type": "scatter"
           }
          ],
          "scatter3d": [
           {
            "line": {
             "colorbar": {
              "outlinewidth": 0,
              "ticks": ""
             }
            },
            "marker": {
             "colorbar": {
              "outlinewidth": 0,
              "ticks": ""
             }
            },
            "type": "scatter3d"
           }
          ],
          "scattercarpet": [
           {
            "marker": {
             "colorbar": {
              "outlinewidth": 0,
              "ticks": ""
             }
            },
            "type": "scattercarpet"
           }
          ],
          "scattergeo": [
           {
            "marker": {
             "colorbar": {
              "outlinewidth": 0,
              "ticks": ""
             }
            },
            "type": "scattergeo"
           }
          ],
          "scattergl": [
           {
            "marker": {
             "colorbar": {
              "outlinewidth": 0,
              "ticks": ""
             }
            },
            "type": "scattergl"
           }
          ],
          "scattermapbox": [
           {
            "marker": {
             "colorbar": {
              "outlinewidth": 0,
              "ticks": ""
             }
            },
            "type": "scattermapbox"
           }
          ],
          "scatterpolar": [
           {
            "marker": {
             "colorbar": {
              "outlinewidth": 0,
              "ticks": ""
             }
            },
            "type": "scatterpolar"
           }
          ],
          "scatterpolargl": [
           {
            "marker": {
             "colorbar": {
              "outlinewidth": 0,
              "ticks": ""
             }
            },
            "type": "scatterpolargl"
           }
          ],
          "scatterternary": [
           {
            "marker": {
             "colorbar": {
              "outlinewidth": 0,
              "ticks": ""
             }
            },
            "type": "scatterternary"
           }
          ],
          "surface": [
           {
            "colorbar": {
             "outlinewidth": 0,
             "ticks": ""
            },
            "colorscale": [
             [
              0,
              "#0d0887"
             ],
             [
              0.1111111111111111,
              "#46039f"
             ],
             [
              0.2222222222222222,
              "#7201a8"
             ],
             [
              0.3333333333333333,
              "#9c179e"
             ],
             [
              0.4444444444444444,
              "#bd3786"
             ],
             [
              0.5555555555555556,
              "#d8576b"
             ],
             [
              0.6666666666666666,
              "#ed7953"
             ],
             [
              0.7777777777777778,
              "#fb9f3a"
             ],
             [
              0.8888888888888888,
              "#fdca26"
             ],
             [
              1,
              "#f0f921"
             ]
            ],
            "type": "surface"
           }
          ],
          "table": [
           {
            "cells": {
             "fill": {
              "color": "#EBF0F8"
             },
             "line": {
              "color": "white"
             }
            },
            "header": {
             "fill": {
              "color": "#C8D4E3"
             },
             "line": {
              "color": "white"
             }
            },
            "type": "table"
           }
          ]
         },
         "layout": {
          "annotationdefaults": {
           "arrowcolor": "#2a3f5f",
           "arrowhead": 0,
           "arrowwidth": 1
          },
          "autotypenumbers": "strict",
          "coloraxis": {
           "colorbar": {
            "outlinewidth": 0,
            "ticks": ""
           }
          },
          "colorscale": {
           "diverging": [
            [
             0,
             "#8e0152"
            ],
            [
             0.1,
             "#c51b7d"
            ],
            [
             0.2,
             "#de77ae"
            ],
            [
             0.3,
             "#f1b6da"
            ],
            [
             0.4,
             "#fde0ef"
            ],
            [
             0.5,
             "#f7f7f7"
            ],
            [
             0.6,
             "#e6f5d0"
            ],
            [
             0.7,
             "#b8e186"
            ],
            [
             0.8,
             "#7fbc41"
            ],
            [
             0.9,
             "#4d9221"
            ],
            [
             1,
             "#276419"
            ]
           ],
           "sequential": [
            [
             0,
             "#0d0887"
            ],
            [
             0.1111111111111111,
             "#46039f"
            ],
            [
             0.2222222222222222,
             "#7201a8"
            ],
            [
             0.3333333333333333,
             "#9c179e"
            ],
            [
             0.4444444444444444,
             "#bd3786"
            ],
            [
             0.5555555555555556,
             "#d8576b"
            ],
            [
             0.6666666666666666,
             "#ed7953"
            ],
            [
             0.7777777777777778,
             "#fb9f3a"
            ],
            [
             0.8888888888888888,
             "#fdca26"
            ],
            [
             1,
             "#f0f921"
            ]
           ],
           "sequentialminus": [
            [
             0,
             "#0d0887"
            ],
            [
             0.1111111111111111,
             "#46039f"
            ],
            [
             0.2222222222222222,
             "#7201a8"
            ],
            [
             0.3333333333333333,
             "#9c179e"
            ],
            [
             0.4444444444444444,
             "#bd3786"
            ],
            [
             0.5555555555555556,
             "#d8576b"
            ],
            [
             0.6666666666666666,
             "#ed7953"
            ],
            [
             0.7777777777777778,
             "#fb9f3a"
            ],
            [
             0.8888888888888888,
             "#fdca26"
            ],
            [
             1,
             "#f0f921"
            ]
           ]
          },
          "colorway": [
           "#636efa",
           "#EF553B",
           "#00cc96",
           "#ab63fa",
           "#FFA15A",
           "#19d3f3",
           "#FF6692",
           "#B6E880",
           "#FF97FF",
           "#FECB52"
          ],
          "font": {
           "color": "#2a3f5f"
          },
          "geo": {
           "bgcolor": "white",
           "lakecolor": "white",
           "landcolor": "#E5ECF6",
           "showlakes": true,
           "showland": true,
           "subunitcolor": "white"
          },
          "hoverlabel": {
           "align": "left"
          },
          "hovermode": "closest",
          "mapbox": {
           "style": "light"
          },
          "paper_bgcolor": "white",
          "plot_bgcolor": "#E5ECF6",
          "polar": {
           "angularaxis": {
            "gridcolor": "white",
            "linecolor": "white",
            "ticks": ""
           },
           "bgcolor": "#E5ECF6",
           "radialaxis": {
            "gridcolor": "white",
            "linecolor": "white",
            "ticks": ""
           }
          },
          "scene": {
           "xaxis": {
            "backgroundcolor": "#E5ECF6",
            "gridcolor": "white",
            "gridwidth": 2,
            "linecolor": "white",
            "showbackground": true,
            "ticks": "",
            "zerolinecolor": "white"
           },
           "yaxis": {
            "backgroundcolor": "#E5ECF6",
            "gridcolor": "white",
            "gridwidth": 2,
            "linecolor": "white",
            "showbackground": true,
            "ticks": "",
            "zerolinecolor": "white"
           },
           "zaxis": {
            "backgroundcolor": "#E5ECF6",
            "gridcolor": "white",
            "gridwidth": 2,
            "linecolor": "white",
            "showbackground": true,
            "ticks": "",
            "zerolinecolor": "white"
           }
          },
          "shapedefaults": {
           "line": {
            "color": "#2a3f5f"
           }
          },
          "ternary": {
           "aaxis": {
            "gridcolor": "white",
            "linecolor": "white",
            "ticks": ""
           },
           "baxis": {
            "gridcolor": "white",
            "linecolor": "white",
            "ticks": ""
           },
           "bgcolor": "#E5ECF6",
           "caxis": {
            "gridcolor": "white",
            "linecolor": "white",
            "ticks": ""
           }
          },
          "title": {
           "x": 0.05
          },
          "xaxis": {
           "automargin": true,
           "gridcolor": "white",
           "linecolor": "white",
           "ticks": "",
           "title": {
            "standoff": 15
           },
           "zerolinecolor": "white",
           "zerolinewidth": 2
          },
          "yaxis": {
           "automargin": true,
           "gridcolor": "white",
           "linecolor": "white",
           "ticks": "",
           "title": {
            "standoff": 15
           },
           "zerolinecolor": "white",
           "zerolinewidth": 2
          }
         }
        },
        "title": {
         "font": {
          "color": "#4D5663"
         }
        },
        "xaxis": {
         "gridcolor": "#E1E5ED",
         "showgrid": true,
         "tickfont": {
          "color": "#4D5663"
         },
         "title": {
          "font": {
           "color": "#4D5663"
          },
          "text": "age"
         },
         "zerolinecolor": "#E1E5ED"
        },
        "yaxis": {
         "gridcolor": "#E1E5ED",
         "showgrid": true,
         "tickfont": {
          "color": "#4D5663"
         },
         "title": {
          "font": {
           "color": "#4D5663"
          },
          "text": "Number of Person"
         },
         "zerolinecolor": "#E1E5ED"
        }
       }
      },
      "text/html": [
       "<div>                            <div id=\"675dfdaa-cb9b-4ac4-85fd-b740efb37229\" class=\"plotly-graph-div\" style=\"height:525px; width:100%;\"></div>            <script type=\"text/javascript\">                require([\"plotly\"], function(Plotly) {                    window.PLOTLYENV=window.PLOTLYENV || {};\n",
       "                    window.PLOTLYENV.BASE_URL='https://plot.ly';                                    if (document.getElementById(\"675dfdaa-cb9b-4ac4-85fd-b740efb37229\")) {                    Plotly.newPlot(                        \"675dfdaa-cb9b-4ac4-85fd-b740efb37229\",                        [{\"marker\":{\"color\":\"rgba(255, 153, 51, 0.6)\",\"line\":{\"color\":\"rgba(255, 153, 51, 1.0)\",\"width\":1}},\"name\":\"age\",\"orientation\":\"v\",\"text\":\"\",\"x\":[30,28,31,32,29,27,26,33,25,34,35,24,36,23,38,37,41,39,40,42,43,22,45,44,21,54,47],\"y\":[117,107,96,93,92,82,64,55,50,42,33,30,24,16,15,9,8,8,8,4,3,3,2,1,1,1,1],\"type\":\"bar\"}],                        {\"legend\":{\"bgcolor\":\"#F5F6F9\",\"font\":{\"color\":\"#4D5663\"}},\"paper_bgcolor\":\"#F5F6F9\",\"plot_bgcolor\":\"#F5F6F9\",\"template\":{\"data\":{\"barpolar\":[{\"marker\":{\"line\":{\"color\":\"#E5ECF6\",\"width\":0.5},\"pattern\":{\"fillmode\":\"overlay\",\"size\":10,\"solidity\":0.2}},\"type\":\"barpolar\"}],\"bar\":[{\"error_x\":{\"color\":\"#2a3f5f\"},\"error_y\":{\"color\":\"#2a3f5f\"},\"marker\":{\"line\":{\"color\":\"#E5ECF6\",\"width\":0.5},\"pattern\":{\"fillmode\":\"overlay\",\"size\":10,\"solidity\":0.2}},\"type\":\"bar\"}],\"carpet\":[{\"aaxis\":{\"endlinecolor\":\"#2a3f5f\",\"gridcolor\":\"white\",\"linecolor\":\"white\",\"minorgridcolor\":\"white\",\"startlinecolor\":\"#2a3f5f\"},\"baxis\":{\"endlinecolor\":\"#2a3f5f\",\"gridcolor\":\"white\",\"linecolor\":\"white\",\"minorgridcolor\":\"white\",\"startlinecolor\":\"#2a3f5f\"},\"type\":\"carpet\"}],\"choropleth\":[{\"colorbar\":{\"outlinewidth\":0,\"ticks\":\"\"},\"type\":\"choropleth\"}],\"contourcarpet\":[{\"colorbar\":{\"outlinewidth\":0,\"ticks\":\"\"},\"type\":\"contourcarpet\"}],\"contour\":[{\"colorbar\":{\"outlinewidth\":0,\"ticks\":\"\"},\"colorscale\":[[0.0,\"#0d0887\"],[0.1111111111111111,\"#46039f\"],[0.2222222222222222,\"#7201a8\"],[0.3333333333333333,\"#9c179e\"],[0.4444444444444444,\"#bd3786\"],[0.5555555555555556,\"#d8576b\"],[0.6666666666666666,\"#ed7953\"],[0.7777777777777778,\"#fb9f3a\"],[0.8888888888888888,\"#fdca26\"],[1.0,\"#f0f921\"]],\"type\":\"contour\"}],\"heatmapgl\":[{\"colorbar\":{\"outlinewidth\":0,\"ticks\":\"\"},\"colorscale\":[[0.0,\"#0d0887\"],[0.1111111111111111,\"#46039f\"],[0.2222222222222222,\"#7201a8\"],[0.3333333333333333,\"#9c179e\"],[0.4444444444444444,\"#bd3786\"],[0.5555555555555556,\"#d8576b\"],[0.6666666666666666,\"#ed7953\"],[0.7777777777777778,\"#fb9f3a\"],[0.8888888888888888,\"#fdca26\"],[1.0,\"#f0f921\"]],\"type\":\"heatmapgl\"}],\"heatmap\":[{\"colorbar\":{\"outlinewidth\":0,\"ticks\":\"\"},\"colorscale\":[[0.0,\"#0d0887\"],[0.1111111111111111,\"#46039f\"],[0.2222222222222222,\"#7201a8\"],[0.3333333333333333,\"#9c179e\"],[0.4444444444444444,\"#bd3786\"],[0.5555555555555556,\"#d8576b\"],[0.6666666666666666,\"#ed7953\"],[0.7777777777777778,\"#fb9f3a\"],[0.8888888888888888,\"#fdca26\"],[1.0,\"#f0f921\"]],\"type\":\"heatmap\"}],\"histogram2dcontour\":[{\"colorbar\":{\"outlinewidth\":0,\"ticks\":\"\"},\"colorscale\":[[0.0,\"#0d0887\"],[0.1111111111111111,\"#46039f\"],[0.2222222222222222,\"#7201a8\"],[0.3333333333333333,\"#9c179e\"],[0.4444444444444444,\"#bd3786\"],[0.5555555555555556,\"#d8576b\"],[0.6666666666666666,\"#ed7953\"],[0.7777777777777778,\"#fb9f3a\"],[0.8888888888888888,\"#fdca26\"],[1.0,\"#f0f921\"]],\"type\":\"histogram2dcontour\"}],\"histogram2d\":[{\"colorbar\":{\"outlinewidth\":0,\"ticks\":\"\"},\"colorscale\":[[0.0,\"#0d0887\"],[0.1111111111111111,\"#46039f\"],[0.2222222222222222,\"#7201a8\"],[0.3333333333333333,\"#9c179e\"],[0.4444444444444444,\"#bd3786\"],[0.5555555555555556,\"#d8576b\"],[0.6666666666666666,\"#ed7953\"],[0.7777777777777778,\"#fb9f3a\"],[0.8888888888888888,\"#fdca26\"],[1.0,\"#f0f921\"]],\"type\":\"histogram2d\"}],\"histogram\":[{\"marker\":{\"pattern\":{\"fillmode\":\"overlay\",\"size\":10,\"solidity\":0.2}},\"type\":\"histogram\"}],\"mesh3d\":[{\"colorbar\":{\"outlinewidth\":0,\"ticks\":\"\"},\"type\":\"mesh3d\"}],\"parcoords\":[{\"line\":{\"colorbar\":{\"outlinewidth\":0,\"ticks\":\"\"}},\"type\":\"parcoords\"}],\"pie\":[{\"automargin\":true,\"type\":\"pie\"}],\"scatter3d\":[{\"line\":{\"colorbar\":{\"outlinewidth\":0,\"ticks\":\"\"}},\"marker\":{\"colorbar\":{\"outlinewidth\":0,\"ticks\":\"\"}},\"type\":\"scatter3d\"}],\"scattercarpet\":[{\"marker\":{\"colorbar\":{\"outlinewidth\":0,\"ticks\":\"\"}},\"type\":\"scattercarpet\"}],\"scattergeo\":[{\"marker\":{\"colorbar\":{\"outlinewidth\":0,\"ticks\":\"\"}},\"type\":\"scattergeo\"}],\"scattergl\":[{\"marker\":{\"colorbar\":{\"outlinewidth\":0,\"ticks\":\"\"}},\"type\":\"scattergl\"}],\"scattermapbox\":[{\"marker\":{\"colorbar\":{\"outlinewidth\":0,\"ticks\":\"\"}},\"type\":\"scattermapbox\"}],\"scatterpolargl\":[{\"marker\":{\"colorbar\":{\"outlinewidth\":0,\"ticks\":\"\"}},\"type\":\"scatterpolargl\"}],\"scatterpolar\":[{\"marker\":{\"colorbar\":{\"outlinewidth\":0,\"ticks\":\"\"}},\"type\":\"scatterpolar\"}],\"scatter\":[{\"marker\":{\"colorbar\":{\"outlinewidth\":0,\"ticks\":\"\"}},\"type\":\"scatter\"}],\"scatterternary\":[{\"marker\":{\"colorbar\":{\"outlinewidth\":0,\"ticks\":\"\"}},\"type\":\"scatterternary\"}],\"surface\":[{\"colorbar\":{\"outlinewidth\":0,\"ticks\":\"\"},\"colorscale\":[[0.0,\"#0d0887\"],[0.1111111111111111,\"#46039f\"],[0.2222222222222222,\"#7201a8\"],[0.3333333333333333,\"#9c179e\"],[0.4444444444444444,\"#bd3786\"],[0.5555555555555556,\"#d8576b\"],[0.6666666666666666,\"#ed7953\"],[0.7777777777777778,\"#fb9f3a\"],[0.8888888888888888,\"#fdca26\"],[1.0,\"#f0f921\"]],\"type\":\"surface\"}],\"table\":[{\"cells\":{\"fill\":{\"color\":\"#EBF0F8\"},\"line\":{\"color\":\"white\"}},\"header\":{\"fill\":{\"color\":\"#C8D4E3\"},\"line\":{\"color\":\"white\"}},\"type\":\"table\"}]},\"layout\":{\"annotationdefaults\":{\"arrowcolor\":\"#2a3f5f\",\"arrowhead\":0,\"arrowwidth\":1},\"autotypenumbers\":\"strict\",\"coloraxis\":{\"colorbar\":{\"outlinewidth\":0,\"ticks\":\"\"}},\"colorscale\":{\"diverging\":[[0,\"#8e0152\"],[0.1,\"#c51b7d\"],[0.2,\"#de77ae\"],[0.3,\"#f1b6da\"],[0.4,\"#fde0ef\"],[0.5,\"#f7f7f7\"],[0.6,\"#e6f5d0\"],[0.7,\"#b8e186\"],[0.8,\"#7fbc41\"],[0.9,\"#4d9221\"],[1,\"#276419\"]],\"sequential\":[[0.0,\"#0d0887\"],[0.1111111111111111,\"#46039f\"],[0.2222222222222222,\"#7201a8\"],[0.3333333333333333,\"#9c179e\"],[0.4444444444444444,\"#bd3786\"],[0.5555555555555556,\"#d8576b\"],[0.6666666666666666,\"#ed7953\"],[0.7777777777777778,\"#fb9f3a\"],[0.8888888888888888,\"#fdca26\"],[1.0,\"#f0f921\"]],\"sequentialminus\":[[0.0,\"#0d0887\"],[0.1111111111111111,\"#46039f\"],[0.2222222222222222,\"#7201a8\"],[0.3333333333333333,\"#9c179e\"],[0.4444444444444444,\"#bd3786\"],[0.5555555555555556,\"#d8576b\"],[0.6666666666666666,\"#ed7953\"],[0.7777777777777778,\"#fb9f3a\"],[0.8888888888888888,\"#fdca26\"],[1.0,\"#f0f921\"]]},\"colorway\":[\"#636efa\",\"#EF553B\",\"#00cc96\",\"#ab63fa\",\"#FFA15A\",\"#19d3f3\",\"#FF6692\",\"#B6E880\",\"#FF97FF\",\"#FECB52\"],\"font\":{\"color\":\"#2a3f5f\"},\"geo\":{\"bgcolor\":\"white\",\"lakecolor\":\"white\",\"landcolor\":\"#E5ECF6\",\"showlakes\":true,\"showland\":true,\"subunitcolor\":\"white\"},\"hoverlabel\":{\"align\":\"left\"},\"hovermode\":\"closest\",\"mapbox\":{\"style\":\"light\"},\"paper_bgcolor\":\"white\",\"plot_bgcolor\":\"#E5ECF6\",\"polar\":{\"angularaxis\":{\"gridcolor\":\"white\",\"linecolor\":\"white\",\"ticks\":\"\"},\"bgcolor\":\"#E5ECF6\",\"radialaxis\":{\"gridcolor\":\"white\",\"linecolor\":\"white\",\"ticks\":\"\"}},\"scene\":{\"xaxis\":{\"backgroundcolor\":\"#E5ECF6\",\"gridcolor\":\"white\",\"gridwidth\":2,\"linecolor\":\"white\",\"showbackground\":true,\"ticks\":\"\",\"zerolinecolor\":\"white\"},\"yaxis\":{\"backgroundcolor\":\"#E5ECF6\",\"gridcolor\":\"white\",\"gridwidth\":2,\"linecolor\":\"white\",\"showbackground\":true,\"ticks\":\"\",\"zerolinecolor\":\"white\"},\"zaxis\":{\"backgroundcolor\":\"#E5ECF6\",\"gridcolor\":\"white\",\"gridwidth\":2,\"linecolor\":\"white\",\"showbackground\":true,\"ticks\":\"\",\"zerolinecolor\":\"white\"}},\"shapedefaults\":{\"line\":{\"color\":\"#2a3f5f\"}},\"ternary\":{\"aaxis\":{\"gridcolor\":\"white\",\"linecolor\":\"white\",\"ticks\":\"\"},\"baxis\":{\"gridcolor\":\"white\",\"linecolor\":\"white\",\"ticks\":\"\"},\"bgcolor\":\"#E5ECF6\",\"caxis\":{\"gridcolor\":\"white\",\"linecolor\":\"white\",\"ticks\":\"\"}},\"title\":{\"x\":0.05},\"xaxis\":{\"automargin\":true,\"gridcolor\":\"white\",\"linecolor\":\"white\",\"ticks\":\"\",\"title\":{\"standoff\":15},\"zerolinecolor\":\"white\",\"zerolinewidth\":2},\"yaxis\":{\"automargin\":true,\"gridcolor\":\"white\",\"linecolor\":\"white\",\"ticks\":\"\",\"title\":{\"standoff\":15},\"zerolinecolor\":\"white\",\"zerolinewidth\":2}}},\"title\":{\"font\":{\"color\":\"#4D5663\"}},\"xaxis\":{\"gridcolor\":\"#E1E5ED\",\"showgrid\":true,\"tickfont\":{\"color\":\"#4D5663\"},\"title\":{\"font\":{\"color\":\"#4D5663\"},\"text\":\"age\"},\"zerolinecolor\":\"#E1E5ED\"},\"yaxis\":{\"gridcolor\":\"#E1E5ED\",\"showgrid\":true,\"tickfont\":{\"color\":\"#4D5663\"},\"title\":{\"font\":{\"color\":\"#4D5663\"},\"text\":\"Number of Person\"},\"zerolinecolor\":\"#E1E5ED\"}},                        {\"showLink\": true, \"linkText\": \"Export to plot.ly\", \"plotlyServerURL\": \"https://plot.ly\", \"responsive\": true}                    ).then(function(){\n",
       "                            \n",
       "var gd = document.getElementById('675dfdaa-cb9b-4ac4-85fd-b740efb37229');\n",
       "var x = new MutationObserver(function (mutations, observer) {{\n",
       "        var display = window.getComputedStyle(gd).display;\n",
       "        if (!display || display === 'none') {{\n",
       "            console.log([gd, 'removed!']);\n",
       "            Plotly.purge(gd);\n",
       "            observer.disconnect();\n",
       "        }}\n",
       "}});\n",
       "\n",
       "// Listen for the removal of the full notebook cells\n",
       "var notebookContainer = gd.closest('#notebook-container');\n",
       "if (notebookContainer) {{\n",
       "    x.observe(notebookContainer, {childList: true});\n",
       "}}\n",
       "\n",
       "// Listen for the clearing of the current output cell\n",
       "var outputEl = gd.closest('.output');\n",
       "if (outputEl) {{\n",
       "    x.observe(outputEl, {childList: true});\n",
       "}}\n",
       "\n",
       "                        })                };                });            </script>        </div>"
      ]
     },
     "metadata": {},
     "output_type": "display_data"
    }
   ],
   "source": [
    "(dms0['age']).value_counts().iplot(kind='bar',xTitle='age', yTitle='Number of Person')"
   ]
  },
  {
   "cell_type": "code",
   "execution_count": 44,
   "id": "430330c7",
   "metadata": {},
   "outputs": [
    {
     "data": {
      "application/vnd.plotly.v1+json": {
       "config": {
        "linkText": "Export to plot.ly",
        "plotlyServerURL": "https://plot.ly",
        "showLink": true
       },
       "data": [
        {
         "marker": {
          "color": "rgba(255, 153, 51, 0.6)",
          "line": {
           "color": "rgba(255, 153, 51, 1.0)",
           "width": 1
          }
         },
         "name": "gender",
         "orientation": "v",
         "text": "",
         "type": "bar",
         "x": [
          1,
          0
         ],
         "y": [
          863,
          94
         ]
        }
       ],
       "layout": {
        "legend": {
         "bgcolor": "#F5F6F9",
         "font": {
          "color": "#4D5663"
         }
        },
        "paper_bgcolor": "#F5F6F9",
        "plot_bgcolor": "#F5F6F9",
        "template": {
         "data": {
          "bar": [
           {
            "error_x": {
             "color": "#2a3f5f"
            },
            "error_y": {
             "color": "#2a3f5f"
            },
            "marker": {
             "line": {
              "color": "#E5ECF6",
              "width": 0.5
             },
             "pattern": {
              "fillmode": "overlay",
              "size": 10,
              "solidity": 0.2
             }
            },
            "type": "bar"
           }
          ],
          "barpolar": [
           {
            "marker": {
             "line": {
              "color": "#E5ECF6",
              "width": 0.5
             },
             "pattern": {
              "fillmode": "overlay",
              "size": 10,
              "solidity": 0.2
             }
            },
            "type": "barpolar"
           }
          ],
          "carpet": [
           {
            "aaxis": {
             "endlinecolor": "#2a3f5f",
             "gridcolor": "white",
             "linecolor": "white",
             "minorgridcolor": "white",
             "startlinecolor": "#2a3f5f"
            },
            "baxis": {
             "endlinecolor": "#2a3f5f",
             "gridcolor": "white",
             "linecolor": "white",
             "minorgridcolor": "white",
             "startlinecolor": "#2a3f5f"
            },
            "type": "carpet"
           }
          ],
          "choropleth": [
           {
            "colorbar": {
             "outlinewidth": 0,
             "ticks": ""
            },
            "type": "choropleth"
           }
          ],
          "contour": [
           {
            "colorbar": {
             "outlinewidth": 0,
             "ticks": ""
            },
            "colorscale": [
             [
              0,
              "#0d0887"
             ],
             [
              0.1111111111111111,
              "#46039f"
             ],
             [
              0.2222222222222222,
              "#7201a8"
             ],
             [
              0.3333333333333333,
              "#9c179e"
             ],
             [
              0.4444444444444444,
              "#bd3786"
             ],
             [
              0.5555555555555556,
              "#d8576b"
             ],
             [
              0.6666666666666666,
              "#ed7953"
             ],
             [
              0.7777777777777778,
              "#fb9f3a"
             ],
             [
              0.8888888888888888,
              "#fdca26"
             ],
             [
              1,
              "#f0f921"
             ]
            ],
            "type": "contour"
           }
          ],
          "contourcarpet": [
           {
            "colorbar": {
             "outlinewidth": 0,
             "ticks": ""
            },
            "type": "contourcarpet"
           }
          ],
          "heatmap": [
           {
            "colorbar": {
             "outlinewidth": 0,
             "ticks": ""
            },
            "colorscale": [
             [
              0,
              "#0d0887"
             ],
             [
              0.1111111111111111,
              "#46039f"
             ],
             [
              0.2222222222222222,
              "#7201a8"
             ],
             [
              0.3333333333333333,
              "#9c179e"
             ],
             [
              0.4444444444444444,
              "#bd3786"
             ],
             [
              0.5555555555555556,
              "#d8576b"
             ],
             [
              0.6666666666666666,
              "#ed7953"
             ],
             [
              0.7777777777777778,
              "#fb9f3a"
             ],
             [
              0.8888888888888888,
              "#fdca26"
             ],
             [
              1,
              "#f0f921"
             ]
            ],
            "type": "heatmap"
           }
          ],
          "heatmapgl": [
           {
            "colorbar": {
             "outlinewidth": 0,
             "ticks": ""
            },
            "colorscale": [
             [
              0,
              "#0d0887"
             ],
             [
              0.1111111111111111,
              "#46039f"
             ],
             [
              0.2222222222222222,
              "#7201a8"
             ],
             [
              0.3333333333333333,
              "#9c179e"
             ],
             [
              0.4444444444444444,
              "#bd3786"
             ],
             [
              0.5555555555555556,
              "#d8576b"
             ],
             [
              0.6666666666666666,
              "#ed7953"
             ],
             [
              0.7777777777777778,
              "#fb9f3a"
             ],
             [
              0.8888888888888888,
              "#fdca26"
             ],
             [
              1,
              "#f0f921"
             ]
            ],
            "type": "heatmapgl"
           }
          ],
          "histogram": [
           {
            "marker": {
             "pattern": {
              "fillmode": "overlay",
              "size": 10,
              "solidity": 0.2
             }
            },
            "type": "histogram"
           }
          ],
          "histogram2d": [
           {
            "colorbar": {
             "outlinewidth": 0,
             "ticks": ""
            },
            "colorscale": [
             [
              0,
              "#0d0887"
             ],
             [
              0.1111111111111111,
              "#46039f"
             ],
             [
              0.2222222222222222,
              "#7201a8"
             ],
             [
              0.3333333333333333,
              "#9c179e"
             ],
             [
              0.4444444444444444,
              "#bd3786"
             ],
             [
              0.5555555555555556,
              "#d8576b"
             ],
             [
              0.6666666666666666,
              "#ed7953"
             ],
             [
              0.7777777777777778,
              "#fb9f3a"
             ],
             [
              0.8888888888888888,
              "#fdca26"
             ],
             [
              1,
              "#f0f921"
             ]
            ],
            "type": "histogram2d"
           }
          ],
          "histogram2dcontour": [
           {
            "colorbar": {
             "outlinewidth": 0,
             "ticks": ""
            },
            "colorscale": [
             [
              0,
              "#0d0887"
             ],
             [
              0.1111111111111111,
              "#46039f"
             ],
             [
              0.2222222222222222,
              "#7201a8"
             ],
             [
              0.3333333333333333,
              "#9c179e"
             ],
             [
              0.4444444444444444,
              "#bd3786"
             ],
             [
              0.5555555555555556,
              "#d8576b"
             ],
             [
              0.6666666666666666,
              "#ed7953"
             ],
             [
              0.7777777777777778,
              "#fb9f3a"
             ],
             [
              0.8888888888888888,
              "#fdca26"
             ],
             [
              1,
              "#f0f921"
             ]
            ],
            "type": "histogram2dcontour"
           }
          ],
          "mesh3d": [
           {
            "colorbar": {
             "outlinewidth": 0,
             "ticks": ""
            },
            "type": "mesh3d"
           }
          ],
          "parcoords": [
           {
            "line": {
             "colorbar": {
              "outlinewidth": 0,
              "ticks": ""
             }
            },
            "type": "parcoords"
           }
          ],
          "pie": [
           {
            "automargin": true,
            "type": "pie"
           }
          ],
          "scatter": [
           {
            "marker": {
             "colorbar": {
              "outlinewidth": 0,
              "ticks": ""
             }
            },
            "type": "scatter"
           }
          ],
          "scatter3d": [
           {
            "line": {
             "colorbar": {
              "outlinewidth": 0,
              "ticks": ""
             }
            },
            "marker": {
             "colorbar": {
              "outlinewidth": 0,
              "ticks": ""
             }
            },
            "type": "scatter3d"
           }
          ],
          "scattercarpet": [
           {
            "marker": {
             "colorbar": {
              "outlinewidth": 0,
              "ticks": ""
             }
            },
            "type": "scattercarpet"
           }
          ],
          "scattergeo": [
           {
            "marker": {
             "colorbar": {
              "outlinewidth": 0,
              "ticks": ""
             }
            },
            "type": "scattergeo"
           }
          ],
          "scattergl": [
           {
            "marker": {
             "colorbar": {
              "outlinewidth": 0,
              "ticks": ""
             }
            },
            "type": "scattergl"
           }
          ],
          "scattermapbox": [
           {
            "marker": {
             "colorbar": {
              "outlinewidth": 0,
              "ticks": ""
             }
            },
            "type": "scattermapbox"
           }
          ],
          "scatterpolar": [
           {
            "marker": {
             "colorbar": {
              "outlinewidth": 0,
              "ticks": ""
             }
            },
            "type": "scatterpolar"
           }
          ],
          "scatterpolargl": [
           {
            "marker": {
             "colorbar": {
              "outlinewidth": 0,
              "ticks": ""
             }
            },
            "type": "scatterpolargl"
           }
          ],
          "scatterternary": [
           {
            "marker": {
             "colorbar": {
              "outlinewidth": 0,
              "ticks": ""
             }
            },
            "type": "scatterternary"
           }
          ],
          "surface": [
           {
            "colorbar": {
             "outlinewidth": 0,
             "ticks": ""
            },
            "colorscale": [
             [
              0,
              "#0d0887"
             ],
             [
              0.1111111111111111,
              "#46039f"
             ],
             [
              0.2222222222222222,
              "#7201a8"
             ],
             [
              0.3333333333333333,
              "#9c179e"
             ],
             [
              0.4444444444444444,
              "#bd3786"
             ],
             [
              0.5555555555555556,
              "#d8576b"
             ],
             [
              0.6666666666666666,
              "#ed7953"
             ],
             [
              0.7777777777777778,
              "#fb9f3a"
             ],
             [
              0.8888888888888888,
              "#fdca26"
             ],
             [
              1,
              "#f0f921"
             ]
            ],
            "type": "surface"
           }
          ],
          "table": [
           {
            "cells": {
             "fill": {
              "color": "#EBF0F8"
             },
             "line": {
              "color": "white"
             }
            },
            "header": {
             "fill": {
              "color": "#C8D4E3"
             },
             "line": {
              "color": "white"
             }
            },
            "type": "table"
           }
          ]
         },
         "layout": {
          "annotationdefaults": {
           "arrowcolor": "#2a3f5f",
           "arrowhead": 0,
           "arrowwidth": 1
          },
          "autotypenumbers": "strict",
          "coloraxis": {
           "colorbar": {
            "outlinewidth": 0,
            "ticks": ""
           }
          },
          "colorscale": {
           "diverging": [
            [
             0,
             "#8e0152"
            ],
            [
             0.1,
             "#c51b7d"
            ],
            [
             0.2,
             "#de77ae"
            ],
            [
             0.3,
             "#f1b6da"
            ],
            [
             0.4,
             "#fde0ef"
            ],
            [
             0.5,
             "#f7f7f7"
            ],
            [
             0.6,
             "#e6f5d0"
            ],
            [
             0.7,
             "#b8e186"
            ],
            [
             0.8,
             "#7fbc41"
            ],
            [
             0.9,
             "#4d9221"
            ],
            [
             1,
             "#276419"
            ]
           ],
           "sequential": [
            [
             0,
             "#0d0887"
            ],
            [
             0.1111111111111111,
             "#46039f"
            ],
            [
             0.2222222222222222,
             "#7201a8"
            ],
            [
             0.3333333333333333,
             "#9c179e"
            ],
            [
             0.4444444444444444,
             "#bd3786"
            ],
            [
             0.5555555555555556,
             "#d8576b"
            ],
            [
             0.6666666666666666,
             "#ed7953"
            ],
            [
             0.7777777777777778,
             "#fb9f3a"
            ],
            [
             0.8888888888888888,
             "#fdca26"
            ],
            [
             1,
             "#f0f921"
            ]
           ],
           "sequentialminus": [
            [
             0,
             "#0d0887"
            ],
            [
             0.1111111111111111,
             "#46039f"
            ],
            [
             0.2222222222222222,
             "#7201a8"
            ],
            [
             0.3333333333333333,
             "#9c179e"
            ],
            [
             0.4444444444444444,
             "#bd3786"
            ],
            [
             0.5555555555555556,
             "#d8576b"
            ],
            [
             0.6666666666666666,
             "#ed7953"
            ],
            [
             0.7777777777777778,
             "#fb9f3a"
            ],
            [
             0.8888888888888888,
             "#fdca26"
            ],
            [
             1,
             "#f0f921"
            ]
           ]
          },
          "colorway": [
           "#636efa",
           "#EF553B",
           "#00cc96",
           "#ab63fa",
           "#FFA15A",
           "#19d3f3",
           "#FF6692",
           "#B6E880",
           "#FF97FF",
           "#FECB52"
          ],
          "font": {
           "color": "#2a3f5f"
          },
          "geo": {
           "bgcolor": "white",
           "lakecolor": "white",
           "landcolor": "#E5ECF6",
           "showlakes": true,
           "showland": true,
           "subunitcolor": "white"
          },
          "hoverlabel": {
           "align": "left"
          },
          "hovermode": "closest",
          "mapbox": {
           "style": "light"
          },
          "paper_bgcolor": "white",
          "plot_bgcolor": "#E5ECF6",
          "polar": {
           "angularaxis": {
            "gridcolor": "white",
            "linecolor": "white",
            "ticks": ""
           },
           "bgcolor": "#E5ECF6",
           "radialaxis": {
            "gridcolor": "white",
            "linecolor": "white",
            "ticks": ""
           }
          },
          "scene": {
           "xaxis": {
            "backgroundcolor": "#E5ECF6",
            "gridcolor": "white",
            "gridwidth": 2,
            "linecolor": "white",
            "showbackground": true,
            "ticks": "",
            "zerolinecolor": "white"
           },
           "yaxis": {
            "backgroundcolor": "#E5ECF6",
            "gridcolor": "white",
            "gridwidth": 2,
            "linecolor": "white",
            "showbackground": true,
            "ticks": "",
            "zerolinecolor": "white"
           },
           "zaxis": {
            "backgroundcolor": "#E5ECF6",
            "gridcolor": "white",
            "gridwidth": 2,
            "linecolor": "white",
            "showbackground": true,
            "ticks": "",
            "zerolinecolor": "white"
           }
          },
          "shapedefaults": {
           "line": {
            "color": "#2a3f5f"
           }
          },
          "ternary": {
           "aaxis": {
            "gridcolor": "white",
            "linecolor": "white",
            "ticks": ""
           },
           "baxis": {
            "gridcolor": "white",
            "linecolor": "white",
            "ticks": ""
           },
           "bgcolor": "#E5ECF6",
           "caxis": {
            "gridcolor": "white",
            "linecolor": "white",
            "ticks": ""
           }
          },
          "title": {
           "x": 0.05
          },
          "xaxis": {
           "automargin": true,
           "gridcolor": "white",
           "linecolor": "white",
           "ticks": "",
           "title": {
            "standoff": 15
           },
           "zerolinecolor": "white",
           "zerolinewidth": 2
          },
          "yaxis": {
           "automargin": true,
           "gridcolor": "white",
           "linecolor": "white",
           "ticks": "",
           "title": {
            "standoff": 15
           },
           "zerolinecolor": "white",
           "zerolinewidth": 2
          }
         }
        },
        "title": {
         "font": {
          "color": "#4D5663"
         }
        },
        "xaxis": {
         "gridcolor": "#E1E5ED",
         "showgrid": true,
         "tickfont": {
          "color": "#4D5663"
         },
         "title": {
          "font": {
           "color": "#4D5663"
          },
          "text": "gender"
         },
         "zerolinecolor": "#E1E5ED"
        },
        "yaxis": {
         "gridcolor": "#E1E5ED",
         "showgrid": true,
         "tickfont": {
          "color": "#4D5663"
         },
         "title": {
          "font": {
           "color": "#4D5663"
          },
          "text": "Number of Person"
         },
         "zerolinecolor": "#E1E5ED"
        }
       }
      },
      "text/html": [
       "<div>                            <div id=\"1c525bd5-d74f-45ec-be81-e4a0e51e2568\" class=\"plotly-graph-div\" style=\"height:525px; width:100%;\"></div>            <script type=\"text/javascript\">                require([\"plotly\"], function(Plotly) {                    window.PLOTLYENV=window.PLOTLYENV || {};\n",
       "                    window.PLOTLYENV.BASE_URL='https://plot.ly';                                    if (document.getElementById(\"1c525bd5-d74f-45ec-be81-e4a0e51e2568\")) {                    Plotly.newPlot(                        \"1c525bd5-d74f-45ec-be81-e4a0e51e2568\",                        [{\"marker\":{\"color\":\"rgba(255, 153, 51, 0.6)\",\"line\":{\"color\":\"rgba(255, 153, 51, 1.0)\",\"width\":1}},\"name\":\"gender\",\"orientation\":\"v\",\"text\":\"\",\"x\":[1.0,0.0],\"y\":[863,94],\"type\":\"bar\"}],                        {\"legend\":{\"bgcolor\":\"#F5F6F9\",\"font\":{\"color\":\"#4D5663\"}},\"paper_bgcolor\":\"#F5F6F9\",\"plot_bgcolor\":\"#F5F6F9\",\"template\":{\"data\":{\"barpolar\":[{\"marker\":{\"line\":{\"color\":\"#E5ECF6\",\"width\":0.5},\"pattern\":{\"fillmode\":\"overlay\",\"size\":10,\"solidity\":0.2}},\"type\":\"barpolar\"}],\"bar\":[{\"error_x\":{\"color\":\"#2a3f5f\"},\"error_y\":{\"color\":\"#2a3f5f\"},\"marker\":{\"line\":{\"color\":\"#E5ECF6\",\"width\":0.5},\"pattern\":{\"fillmode\":\"overlay\",\"size\":10,\"solidity\":0.2}},\"type\":\"bar\"}],\"carpet\":[{\"aaxis\":{\"endlinecolor\":\"#2a3f5f\",\"gridcolor\":\"white\",\"linecolor\":\"white\",\"minorgridcolor\":\"white\",\"startlinecolor\":\"#2a3f5f\"},\"baxis\":{\"endlinecolor\":\"#2a3f5f\",\"gridcolor\":\"white\",\"linecolor\":\"white\",\"minorgridcolor\":\"white\",\"startlinecolor\":\"#2a3f5f\"},\"type\":\"carpet\"}],\"choropleth\":[{\"colorbar\":{\"outlinewidth\":0,\"ticks\":\"\"},\"type\":\"choropleth\"}],\"contourcarpet\":[{\"colorbar\":{\"outlinewidth\":0,\"ticks\":\"\"},\"type\":\"contourcarpet\"}],\"contour\":[{\"colorbar\":{\"outlinewidth\":0,\"ticks\":\"\"},\"colorscale\":[[0.0,\"#0d0887\"],[0.1111111111111111,\"#46039f\"],[0.2222222222222222,\"#7201a8\"],[0.3333333333333333,\"#9c179e\"],[0.4444444444444444,\"#bd3786\"],[0.5555555555555556,\"#d8576b\"],[0.6666666666666666,\"#ed7953\"],[0.7777777777777778,\"#fb9f3a\"],[0.8888888888888888,\"#fdca26\"],[1.0,\"#f0f921\"]],\"type\":\"contour\"}],\"heatmapgl\":[{\"colorbar\":{\"outlinewidth\":0,\"ticks\":\"\"},\"colorscale\":[[0.0,\"#0d0887\"],[0.1111111111111111,\"#46039f\"],[0.2222222222222222,\"#7201a8\"],[0.3333333333333333,\"#9c179e\"],[0.4444444444444444,\"#bd3786\"],[0.5555555555555556,\"#d8576b\"],[0.6666666666666666,\"#ed7953\"],[0.7777777777777778,\"#fb9f3a\"],[0.8888888888888888,\"#fdca26\"],[1.0,\"#f0f921\"]],\"type\":\"heatmapgl\"}],\"heatmap\":[{\"colorbar\":{\"outlinewidth\":0,\"ticks\":\"\"},\"colorscale\":[[0.0,\"#0d0887\"],[0.1111111111111111,\"#46039f\"],[0.2222222222222222,\"#7201a8\"],[0.3333333333333333,\"#9c179e\"],[0.4444444444444444,\"#bd3786\"],[0.5555555555555556,\"#d8576b\"],[0.6666666666666666,\"#ed7953\"],[0.7777777777777778,\"#fb9f3a\"],[0.8888888888888888,\"#fdca26\"],[1.0,\"#f0f921\"]],\"type\":\"heatmap\"}],\"histogram2dcontour\":[{\"colorbar\":{\"outlinewidth\":0,\"ticks\":\"\"},\"colorscale\":[[0.0,\"#0d0887\"],[0.1111111111111111,\"#46039f\"],[0.2222222222222222,\"#7201a8\"],[0.3333333333333333,\"#9c179e\"],[0.4444444444444444,\"#bd3786\"],[0.5555555555555556,\"#d8576b\"],[0.6666666666666666,\"#ed7953\"],[0.7777777777777778,\"#fb9f3a\"],[0.8888888888888888,\"#fdca26\"],[1.0,\"#f0f921\"]],\"type\":\"histogram2dcontour\"}],\"histogram2d\":[{\"colorbar\":{\"outlinewidth\":0,\"ticks\":\"\"},\"colorscale\":[[0.0,\"#0d0887\"],[0.1111111111111111,\"#46039f\"],[0.2222222222222222,\"#7201a8\"],[0.3333333333333333,\"#9c179e\"],[0.4444444444444444,\"#bd3786\"],[0.5555555555555556,\"#d8576b\"],[0.6666666666666666,\"#ed7953\"],[0.7777777777777778,\"#fb9f3a\"],[0.8888888888888888,\"#fdca26\"],[1.0,\"#f0f921\"]],\"type\":\"histogram2d\"}],\"histogram\":[{\"marker\":{\"pattern\":{\"fillmode\":\"overlay\",\"size\":10,\"solidity\":0.2}},\"type\":\"histogram\"}],\"mesh3d\":[{\"colorbar\":{\"outlinewidth\":0,\"ticks\":\"\"},\"type\":\"mesh3d\"}],\"parcoords\":[{\"line\":{\"colorbar\":{\"outlinewidth\":0,\"ticks\":\"\"}},\"type\":\"parcoords\"}],\"pie\":[{\"automargin\":true,\"type\":\"pie\"}],\"scatter3d\":[{\"line\":{\"colorbar\":{\"outlinewidth\":0,\"ticks\":\"\"}},\"marker\":{\"colorbar\":{\"outlinewidth\":0,\"ticks\":\"\"}},\"type\":\"scatter3d\"}],\"scattercarpet\":[{\"marker\":{\"colorbar\":{\"outlinewidth\":0,\"ticks\":\"\"}},\"type\":\"scattercarpet\"}],\"scattergeo\":[{\"marker\":{\"colorbar\":{\"outlinewidth\":0,\"ticks\":\"\"}},\"type\":\"scattergeo\"}],\"scattergl\":[{\"marker\":{\"colorbar\":{\"outlinewidth\":0,\"ticks\":\"\"}},\"type\":\"scattergl\"}],\"scattermapbox\":[{\"marker\":{\"colorbar\":{\"outlinewidth\":0,\"ticks\":\"\"}},\"type\":\"scattermapbox\"}],\"scatterpolargl\":[{\"marker\":{\"colorbar\":{\"outlinewidth\":0,\"ticks\":\"\"}},\"type\":\"scatterpolargl\"}],\"scatterpolar\":[{\"marker\":{\"colorbar\":{\"outlinewidth\":0,\"ticks\":\"\"}},\"type\":\"scatterpolar\"}],\"scatter\":[{\"marker\":{\"colorbar\":{\"outlinewidth\":0,\"ticks\":\"\"}},\"type\":\"scatter\"}],\"scatterternary\":[{\"marker\":{\"colorbar\":{\"outlinewidth\":0,\"ticks\":\"\"}},\"type\":\"scatterternary\"}],\"surface\":[{\"colorbar\":{\"outlinewidth\":0,\"ticks\":\"\"},\"colorscale\":[[0.0,\"#0d0887\"],[0.1111111111111111,\"#46039f\"],[0.2222222222222222,\"#7201a8\"],[0.3333333333333333,\"#9c179e\"],[0.4444444444444444,\"#bd3786\"],[0.5555555555555556,\"#d8576b\"],[0.6666666666666666,\"#ed7953\"],[0.7777777777777778,\"#fb9f3a\"],[0.8888888888888888,\"#fdca26\"],[1.0,\"#f0f921\"]],\"type\":\"surface\"}],\"table\":[{\"cells\":{\"fill\":{\"color\":\"#EBF0F8\"},\"line\":{\"color\":\"white\"}},\"header\":{\"fill\":{\"color\":\"#C8D4E3\"},\"line\":{\"color\":\"white\"}},\"type\":\"table\"}]},\"layout\":{\"annotationdefaults\":{\"arrowcolor\":\"#2a3f5f\",\"arrowhead\":0,\"arrowwidth\":1},\"autotypenumbers\":\"strict\",\"coloraxis\":{\"colorbar\":{\"outlinewidth\":0,\"ticks\":\"\"}},\"colorscale\":{\"diverging\":[[0,\"#8e0152\"],[0.1,\"#c51b7d\"],[0.2,\"#de77ae\"],[0.3,\"#f1b6da\"],[0.4,\"#fde0ef\"],[0.5,\"#f7f7f7\"],[0.6,\"#e6f5d0\"],[0.7,\"#b8e186\"],[0.8,\"#7fbc41\"],[0.9,\"#4d9221\"],[1,\"#276419\"]],\"sequential\":[[0.0,\"#0d0887\"],[0.1111111111111111,\"#46039f\"],[0.2222222222222222,\"#7201a8\"],[0.3333333333333333,\"#9c179e\"],[0.4444444444444444,\"#bd3786\"],[0.5555555555555556,\"#d8576b\"],[0.6666666666666666,\"#ed7953\"],[0.7777777777777778,\"#fb9f3a\"],[0.8888888888888888,\"#fdca26\"],[1.0,\"#f0f921\"]],\"sequentialminus\":[[0.0,\"#0d0887\"],[0.1111111111111111,\"#46039f\"],[0.2222222222222222,\"#7201a8\"],[0.3333333333333333,\"#9c179e\"],[0.4444444444444444,\"#bd3786\"],[0.5555555555555556,\"#d8576b\"],[0.6666666666666666,\"#ed7953\"],[0.7777777777777778,\"#fb9f3a\"],[0.8888888888888888,\"#fdca26\"],[1.0,\"#f0f921\"]]},\"colorway\":[\"#636efa\",\"#EF553B\",\"#00cc96\",\"#ab63fa\",\"#FFA15A\",\"#19d3f3\",\"#FF6692\",\"#B6E880\",\"#FF97FF\",\"#FECB52\"],\"font\":{\"color\":\"#2a3f5f\"},\"geo\":{\"bgcolor\":\"white\",\"lakecolor\":\"white\",\"landcolor\":\"#E5ECF6\",\"showlakes\":true,\"showland\":true,\"subunitcolor\":\"white\"},\"hoverlabel\":{\"align\":\"left\"},\"hovermode\":\"closest\",\"mapbox\":{\"style\":\"light\"},\"paper_bgcolor\":\"white\",\"plot_bgcolor\":\"#E5ECF6\",\"polar\":{\"angularaxis\":{\"gridcolor\":\"white\",\"linecolor\":\"white\",\"ticks\":\"\"},\"bgcolor\":\"#E5ECF6\",\"radialaxis\":{\"gridcolor\":\"white\",\"linecolor\":\"white\",\"ticks\":\"\"}},\"scene\":{\"xaxis\":{\"backgroundcolor\":\"#E5ECF6\",\"gridcolor\":\"white\",\"gridwidth\":2,\"linecolor\":\"white\",\"showbackground\":true,\"ticks\":\"\",\"zerolinecolor\":\"white\"},\"yaxis\":{\"backgroundcolor\":\"#E5ECF6\",\"gridcolor\":\"white\",\"gridwidth\":2,\"linecolor\":\"white\",\"showbackground\":true,\"ticks\":\"\",\"zerolinecolor\":\"white\"},\"zaxis\":{\"backgroundcolor\":\"#E5ECF6\",\"gridcolor\":\"white\",\"gridwidth\":2,\"linecolor\":\"white\",\"showbackground\":true,\"ticks\":\"\",\"zerolinecolor\":\"white\"}},\"shapedefaults\":{\"line\":{\"color\":\"#2a3f5f\"}},\"ternary\":{\"aaxis\":{\"gridcolor\":\"white\",\"linecolor\":\"white\",\"ticks\":\"\"},\"baxis\":{\"gridcolor\":\"white\",\"linecolor\":\"white\",\"ticks\":\"\"},\"bgcolor\":\"#E5ECF6\",\"caxis\":{\"gridcolor\":\"white\",\"linecolor\":\"white\",\"ticks\":\"\"}},\"title\":{\"x\":0.05},\"xaxis\":{\"automargin\":true,\"gridcolor\":\"white\",\"linecolor\":\"white\",\"ticks\":\"\",\"title\":{\"standoff\":15},\"zerolinecolor\":\"white\",\"zerolinewidth\":2},\"yaxis\":{\"automargin\":true,\"gridcolor\":\"white\",\"linecolor\":\"white\",\"ticks\":\"\",\"title\":{\"standoff\":15},\"zerolinecolor\":\"white\",\"zerolinewidth\":2}}},\"title\":{\"font\":{\"color\":\"#4D5663\"}},\"xaxis\":{\"gridcolor\":\"#E1E5ED\",\"showgrid\":true,\"tickfont\":{\"color\":\"#4D5663\"},\"title\":{\"font\":{\"color\":\"#4D5663\"},\"text\":\"gender\"},\"zerolinecolor\":\"#E1E5ED\"},\"yaxis\":{\"gridcolor\":\"#E1E5ED\",\"showgrid\":true,\"tickfont\":{\"color\":\"#4D5663\"},\"title\":{\"font\":{\"color\":\"#4D5663\"},\"text\":\"Number of Person\"},\"zerolinecolor\":\"#E1E5ED\"}},                        {\"showLink\": true, \"linkText\": \"Export to plot.ly\", \"plotlyServerURL\": \"https://plot.ly\", \"responsive\": true}                    ).then(function(){\n",
       "                            \n",
       "var gd = document.getElementById('1c525bd5-d74f-45ec-be81-e4a0e51e2568');\n",
       "var x = new MutationObserver(function (mutations, observer) {{\n",
       "        var display = window.getComputedStyle(gd).display;\n",
       "        if (!display || display === 'none') {{\n",
       "            console.log([gd, 'removed!']);\n",
       "            Plotly.purge(gd);\n",
       "            observer.disconnect();\n",
       "        }}\n",
       "}});\n",
       "\n",
       "// Listen for the removal of the full notebook cells\n",
       "var notebookContainer = gd.closest('#notebook-container');\n",
       "if (notebookContainer) {{\n",
       "    x.observe(notebookContainer, {childList: true});\n",
       "}}\n",
       "\n",
       "// Listen for the clearing of the current output cell\n",
       "var outputEl = gd.closest('.output');\n",
       "if (outputEl) {{\n",
       "    x.observe(outputEl, {childList: true});\n",
       "}}\n",
       "\n",
       "                        })                };                });            </script>        </div>"
      ]
     },
     "metadata": {},
     "output_type": "display_data"
    }
   ],
   "source": [
    "(dms0['gender']).value_counts().iplot(kind='bar',xTitle='gender', yTitle='Number of Person')"
   ]
  },
  {
   "cell_type": "code",
   "execution_count": 45,
   "id": "b5dab0b2",
   "metadata": {
    "scrolled": true
   },
   "outputs": [
    {
     "data": {
      "application/vnd.plotly.v1+json": {
       "config": {
        "linkText": "Export to plot.ly",
        "plotlyServerURL": "https://plot.ly",
        "showLink": true
       },
       "data": [
        {
         "marker": {
          "color": "rgba(255, 153, 51, 0.6)",
          "line": {
           "color": "rgba(255, 153, 51, 1.0)",
           "width": 1
          }
         },
         "name": "LMName",
         "orientation": "v",
         "text": "",
         "type": "bar",
         "x": [
          "Krishnandu",
          "SarikaReddy",
          "MaheshSyreddy",
          "Naseeruddin",
          "Karunakar",
          "Ramakrishna",
          "Navya D",
          "Pranay",
          "Praveen",
          "Bharath",
          "Bijayani",
          "Srikanth",
          "CapitalNow",
          "Shireesha",
          "BandariBhargavi",
          "Shailaja",
          "PV Sai Kumar"
         ],
         "y": [
          688,
          488,
          461,
          410,
          261,
          28,
          13,
          9,
          6,
          3,
          3,
          2,
          2,
          2,
          2,
          1,
          1
         ]
        }
       ],
       "layout": {
        "legend": {
         "bgcolor": "#F5F6F9",
         "font": {
          "color": "#4D5663"
         }
        },
        "paper_bgcolor": "#F5F6F9",
        "plot_bgcolor": "#F5F6F9",
        "template": {
         "data": {
          "bar": [
           {
            "error_x": {
             "color": "#2a3f5f"
            },
            "error_y": {
             "color": "#2a3f5f"
            },
            "marker": {
             "line": {
              "color": "#E5ECF6",
              "width": 0.5
             },
             "pattern": {
              "fillmode": "overlay",
              "size": 10,
              "solidity": 0.2
             }
            },
            "type": "bar"
           }
          ],
          "barpolar": [
           {
            "marker": {
             "line": {
              "color": "#E5ECF6",
              "width": 0.5
             },
             "pattern": {
              "fillmode": "overlay",
              "size": 10,
              "solidity": 0.2
             }
            },
            "type": "barpolar"
           }
          ],
          "carpet": [
           {
            "aaxis": {
             "endlinecolor": "#2a3f5f",
             "gridcolor": "white",
             "linecolor": "white",
             "minorgridcolor": "white",
             "startlinecolor": "#2a3f5f"
            },
            "baxis": {
             "endlinecolor": "#2a3f5f",
             "gridcolor": "white",
             "linecolor": "white",
             "minorgridcolor": "white",
             "startlinecolor": "#2a3f5f"
            },
            "type": "carpet"
           }
          ],
          "choropleth": [
           {
            "colorbar": {
             "outlinewidth": 0,
             "ticks": ""
            },
            "type": "choropleth"
           }
          ],
          "contour": [
           {
            "colorbar": {
             "outlinewidth": 0,
             "ticks": ""
            },
            "colorscale": [
             [
              0,
              "#0d0887"
             ],
             [
              0.1111111111111111,
              "#46039f"
             ],
             [
              0.2222222222222222,
              "#7201a8"
             ],
             [
              0.3333333333333333,
              "#9c179e"
             ],
             [
              0.4444444444444444,
              "#bd3786"
             ],
             [
              0.5555555555555556,
              "#d8576b"
             ],
             [
              0.6666666666666666,
              "#ed7953"
             ],
             [
              0.7777777777777778,
              "#fb9f3a"
             ],
             [
              0.8888888888888888,
              "#fdca26"
             ],
             [
              1,
              "#f0f921"
             ]
            ],
            "type": "contour"
           }
          ],
          "contourcarpet": [
           {
            "colorbar": {
             "outlinewidth": 0,
             "ticks": ""
            },
            "type": "contourcarpet"
           }
          ],
          "heatmap": [
           {
            "colorbar": {
             "outlinewidth": 0,
             "ticks": ""
            },
            "colorscale": [
             [
              0,
              "#0d0887"
             ],
             [
              0.1111111111111111,
              "#46039f"
             ],
             [
              0.2222222222222222,
              "#7201a8"
             ],
             [
              0.3333333333333333,
              "#9c179e"
             ],
             [
              0.4444444444444444,
              "#bd3786"
             ],
             [
              0.5555555555555556,
              "#d8576b"
             ],
             [
              0.6666666666666666,
              "#ed7953"
             ],
             [
              0.7777777777777778,
              "#fb9f3a"
             ],
             [
              0.8888888888888888,
              "#fdca26"
             ],
             [
              1,
              "#f0f921"
             ]
            ],
            "type": "heatmap"
           }
          ],
          "heatmapgl": [
           {
            "colorbar": {
             "outlinewidth": 0,
             "ticks": ""
            },
            "colorscale": [
             [
              0,
              "#0d0887"
             ],
             [
              0.1111111111111111,
              "#46039f"
             ],
             [
              0.2222222222222222,
              "#7201a8"
             ],
             [
              0.3333333333333333,
              "#9c179e"
             ],
             [
              0.4444444444444444,
              "#bd3786"
             ],
             [
              0.5555555555555556,
              "#d8576b"
             ],
             [
              0.6666666666666666,
              "#ed7953"
             ],
             [
              0.7777777777777778,
              "#fb9f3a"
             ],
             [
              0.8888888888888888,
              "#fdca26"
             ],
             [
              1,
              "#f0f921"
             ]
            ],
            "type": "heatmapgl"
           }
          ],
          "histogram": [
           {
            "marker": {
             "pattern": {
              "fillmode": "overlay",
              "size": 10,
              "solidity": 0.2
             }
            },
            "type": "histogram"
           }
          ],
          "histogram2d": [
           {
            "colorbar": {
             "outlinewidth": 0,
             "ticks": ""
            },
            "colorscale": [
             [
              0,
              "#0d0887"
             ],
             [
              0.1111111111111111,
              "#46039f"
             ],
             [
              0.2222222222222222,
              "#7201a8"
             ],
             [
              0.3333333333333333,
              "#9c179e"
             ],
             [
              0.4444444444444444,
              "#bd3786"
             ],
             [
              0.5555555555555556,
              "#d8576b"
             ],
             [
              0.6666666666666666,
              "#ed7953"
             ],
             [
              0.7777777777777778,
              "#fb9f3a"
             ],
             [
              0.8888888888888888,
              "#fdca26"
             ],
             [
              1,
              "#f0f921"
             ]
            ],
            "type": "histogram2d"
           }
          ],
          "histogram2dcontour": [
           {
            "colorbar": {
             "outlinewidth": 0,
             "ticks": ""
            },
            "colorscale": [
             [
              0,
              "#0d0887"
             ],
             [
              0.1111111111111111,
              "#46039f"
             ],
             [
              0.2222222222222222,
              "#7201a8"
             ],
             [
              0.3333333333333333,
              "#9c179e"
             ],
             [
              0.4444444444444444,
              "#bd3786"
             ],
             [
              0.5555555555555556,
              "#d8576b"
             ],
             [
              0.6666666666666666,
              "#ed7953"
             ],
             [
              0.7777777777777778,
              "#fb9f3a"
             ],
             [
              0.8888888888888888,
              "#fdca26"
             ],
             [
              1,
              "#f0f921"
             ]
            ],
            "type": "histogram2dcontour"
           }
          ],
          "mesh3d": [
           {
            "colorbar": {
             "outlinewidth": 0,
             "ticks": ""
            },
            "type": "mesh3d"
           }
          ],
          "parcoords": [
           {
            "line": {
             "colorbar": {
              "outlinewidth": 0,
              "ticks": ""
             }
            },
            "type": "parcoords"
           }
          ],
          "pie": [
           {
            "automargin": true,
            "type": "pie"
           }
          ],
          "scatter": [
           {
            "marker": {
             "colorbar": {
              "outlinewidth": 0,
              "ticks": ""
             }
            },
            "type": "scatter"
           }
          ],
          "scatter3d": [
           {
            "line": {
             "colorbar": {
              "outlinewidth": 0,
              "ticks": ""
             }
            },
            "marker": {
             "colorbar": {
              "outlinewidth": 0,
              "ticks": ""
             }
            },
            "type": "scatter3d"
           }
          ],
          "scattercarpet": [
           {
            "marker": {
             "colorbar": {
              "outlinewidth": 0,
              "ticks": ""
             }
            },
            "type": "scattercarpet"
           }
          ],
          "scattergeo": [
           {
            "marker": {
             "colorbar": {
              "outlinewidth": 0,
              "ticks": ""
             }
            },
            "type": "scattergeo"
           }
          ],
          "scattergl": [
           {
            "marker": {
             "colorbar": {
              "outlinewidth": 0,
              "ticks": ""
             }
            },
            "type": "scattergl"
           }
          ],
          "scattermapbox": [
           {
            "marker": {
             "colorbar": {
              "outlinewidth": 0,
              "ticks": ""
             }
            },
            "type": "scattermapbox"
           }
          ],
          "scatterpolar": [
           {
            "marker": {
             "colorbar": {
              "outlinewidth": 0,
              "ticks": ""
             }
            },
            "type": "scatterpolar"
           }
          ],
          "scatterpolargl": [
           {
            "marker": {
             "colorbar": {
              "outlinewidth": 0,
              "ticks": ""
             }
            },
            "type": "scatterpolargl"
           }
          ],
          "scatterternary": [
           {
            "marker": {
             "colorbar": {
              "outlinewidth": 0,
              "ticks": ""
             }
            },
            "type": "scatterternary"
           }
          ],
          "surface": [
           {
            "colorbar": {
             "outlinewidth": 0,
             "ticks": ""
            },
            "colorscale": [
             [
              0,
              "#0d0887"
             ],
             [
              0.1111111111111111,
              "#46039f"
             ],
             [
              0.2222222222222222,
              "#7201a8"
             ],
             [
              0.3333333333333333,
              "#9c179e"
             ],
             [
              0.4444444444444444,
              "#bd3786"
             ],
             [
              0.5555555555555556,
              "#d8576b"
             ],
             [
              0.6666666666666666,
              "#ed7953"
             ],
             [
              0.7777777777777778,
              "#fb9f3a"
             ],
             [
              0.8888888888888888,
              "#fdca26"
             ],
             [
              1,
              "#f0f921"
             ]
            ],
            "type": "surface"
           }
          ],
          "table": [
           {
            "cells": {
             "fill": {
              "color": "#EBF0F8"
             },
             "line": {
              "color": "white"
             }
            },
            "header": {
             "fill": {
              "color": "#C8D4E3"
             },
             "line": {
              "color": "white"
             }
            },
            "type": "table"
           }
          ]
         },
         "layout": {
          "annotationdefaults": {
           "arrowcolor": "#2a3f5f",
           "arrowhead": 0,
           "arrowwidth": 1
          },
          "autotypenumbers": "strict",
          "coloraxis": {
           "colorbar": {
            "outlinewidth": 0,
            "ticks": ""
           }
          },
          "colorscale": {
           "diverging": [
            [
             0,
             "#8e0152"
            ],
            [
             0.1,
             "#c51b7d"
            ],
            [
             0.2,
             "#de77ae"
            ],
            [
             0.3,
             "#f1b6da"
            ],
            [
             0.4,
             "#fde0ef"
            ],
            [
             0.5,
             "#f7f7f7"
            ],
            [
             0.6,
             "#e6f5d0"
            ],
            [
             0.7,
             "#b8e186"
            ],
            [
             0.8,
             "#7fbc41"
            ],
            [
             0.9,
             "#4d9221"
            ],
            [
             1,
             "#276419"
            ]
           ],
           "sequential": [
            [
             0,
             "#0d0887"
            ],
            [
             0.1111111111111111,
             "#46039f"
            ],
            [
             0.2222222222222222,
             "#7201a8"
            ],
            [
             0.3333333333333333,
             "#9c179e"
            ],
            [
             0.4444444444444444,
             "#bd3786"
            ],
            [
             0.5555555555555556,
             "#d8576b"
            ],
            [
             0.6666666666666666,
             "#ed7953"
            ],
            [
             0.7777777777777778,
             "#fb9f3a"
            ],
            [
             0.8888888888888888,
             "#fdca26"
            ],
            [
             1,
             "#f0f921"
            ]
           ],
           "sequentialminus": [
            [
             0,
             "#0d0887"
            ],
            [
             0.1111111111111111,
             "#46039f"
            ],
            [
             0.2222222222222222,
             "#7201a8"
            ],
            [
             0.3333333333333333,
             "#9c179e"
            ],
            [
             0.4444444444444444,
             "#bd3786"
            ],
            [
             0.5555555555555556,
             "#d8576b"
            ],
            [
             0.6666666666666666,
             "#ed7953"
            ],
            [
             0.7777777777777778,
             "#fb9f3a"
            ],
            [
             0.8888888888888888,
             "#fdca26"
            ],
            [
             1,
             "#f0f921"
            ]
           ]
          },
          "colorway": [
           "#636efa",
           "#EF553B",
           "#00cc96",
           "#ab63fa",
           "#FFA15A",
           "#19d3f3",
           "#FF6692",
           "#B6E880",
           "#FF97FF",
           "#FECB52"
          ],
          "font": {
           "color": "#2a3f5f"
          },
          "geo": {
           "bgcolor": "white",
           "lakecolor": "white",
           "landcolor": "#E5ECF6",
           "showlakes": true,
           "showland": true,
           "subunitcolor": "white"
          },
          "hoverlabel": {
           "align": "left"
          },
          "hovermode": "closest",
          "mapbox": {
           "style": "light"
          },
          "paper_bgcolor": "white",
          "plot_bgcolor": "#E5ECF6",
          "polar": {
           "angularaxis": {
            "gridcolor": "white",
            "linecolor": "white",
            "ticks": ""
           },
           "bgcolor": "#E5ECF6",
           "radialaxis": {
            "gridcolor": "white",
            "linecolor": "white",
            "ticks": ""
           }
          },
          "scene": {
           "xaxis": {
            "backgroundcolor": "#E5ECF6",
            "gridcolor": "white",
            "gridwidth": 2,
            "linecolor": "white",
            "showbackground": true,
            "ticks": "",
            "zerolinecolor": "white"
           },
           "yaxis": {
            "backgroundcolor": "#E5ECF6",
            "gridcolor": "white",
            "gridwidth": 2,
            "linecolor": "white",
            "showbackground": true,
            "ticks": "",
            "zerolinecolor": "white"
           },
           "zaxis": {
            "backgroundcolor": "#E5ECF6",
            "gridcolor": "white",
            "gridwidth": 2,
            "linecolor": "white",
            "showbackground": true,
            "ticks": "",
            "zerolinecolor": "white"
           }
          },
          "shapedefaults": {
           "line": {
            "color": "#2a3f5f"
           }
          },
          "ternary": {
           "aaxis": {
            "gridcolor": "white",
            "linecolor": "white",
            "ticks": ""
           },
           "baxis": {
            "gridcolor": "white",
            "linecolor": "white",
            "ticks": ""
           },
           "bgcolor": "#E5ECF6",
           "caxis": {
            "gridcolor": "white",
            "linecolor": "white",
            "ticks": ""
           }
          },
          "title": {
           "x": 0.05
          },
          "xaxis": {
           "automargin": true,
           "gridcolor": "white",
           "linecolor": "white",
           "ticks": "",
           "title": {
            "standoff": 15
           },
           "zerolinecolor": "white",
           "zerolinewidth": 2
          },
          "yaxis": {
           "automargin": true,
           "gridcolor": "white",
           "linecolor": "white",
           "ticks": "",
           "title": {
            "standoff": 15
           },
           "zerolinecolor": "white",
           "zerolinewidth": 2
          }
         }
        },
        "title": {
         "font": {
          "color": "#4D5663"
         }
        },
        "xaxis": {
         "gridcolor": "#E1E5ED",
         "showgrid": true,
         "tickfont": {
          "color": "#4D5663"
         },
         "title": {
          "font": {
           "color": "#4D5663"
          },
          "text": "age"
         },
         "zerolinecolor": "#E1E5ED"
        },
        "yaxis": {
         "gridcolor": "#E1E5ED",
         "showgrid": true,
         "tickfont": {
          "color": "#4D5663"
         },
         "title": {
          "font": {
           "color": "#4D5663"
          },
          "text": "Number of Person"
         },
         "zerolinecolor": "#E1E5ED"
        }
       }
      },
      "text/html": [
       "<div>                            <div id=\"40a46dd9-12c7-4ece-a14f-79e4b0419389\" class=\"plotly-graph-div\" style=\"height:525px; width:100%;\"></div>            <script type=\"text/javascript\">                require([\"plotly\"], function(Plotly) {                    window.PLOTLYENV=window.PLOTLYENV || {};\n",
       "                    window.PLOTLYENV.BASE_URL='https://plot.ly';                                    if (document.getElementById(\"40a46dd9-12c7-4ece-a14f-79e4b0419389\")) {                    Plotly.newPlot(                        \"40a46dd9-12c7-4ece-a14f-79e4b0419389\",                        [{\"marker\":{\"color\":\"rgba(255, 153, 51, 0.6)\",\"line\":{\"color\":\"rgba(255, 153, 51, 1.0)\",\"width\":1}},\"name\":\"LMName\",\"orientation\":\"v\",\"text\":\"\",\"x\":[\"Krishnandu\",\"SarikaReddy\",\"MaheshSyreddy\",\"Naseeruddin\",\"Karunakar\",\"Ramakrishna\",\"Navya D\",\"Pranay\",\"Praveen\",\"Bharath\",\"Bijayani\",\"Srikanth\",\"CapitalNow\",\"Shireesha\",\"BandariBhargavi\",\"Shailaja\",\"PV Sai Kumar\"],\"y\":[688,488,461,410,261,28,13,9,6,3,3,2,2,2,2,1,1],\"type\":\"bar\"}],                        {\"legend\":{\"bgcolor\":\"#F5F6F9\",\"font\":{\"color\":\"#4D5663\"}},\"paper_bgcolor\":\"#F5F6F9\",\"plot_bgcolor\":\"#F5F6F9\",\"template\":{\"data\":{\"barpolar\":[{\"marker\":{\"line\":{\"color\":\"#E5ECF6\",\"width\":0.5},\"pattern\":{\"fillmode\":\"overlay\",\"size\":10,\"solidity\":0.2}},\"type\":\"barpolar\"}],\"bar\":[{\"error_x\":{\"color\":\"#2a3f5f\"},\"error_y\":{\"color\":\"#2a3f5f\"},\"marker\":{\"line\":{\"color\":\"#E5ECF6\",\"width\":0.5},\"pattern\":{\"fillmode\":\"overlay\",\"size\":10,\"solidity\":0.2}},\"type\":\"bar\"}],\"carpet\":[{\"aaxis\":{\"endlinecolor\":\"#2a3f5f\",\"gridcolor\":\"white\",\"linecolor\":\"white\",\"minorgridcolor\":\"white\",\"startlinecolor\":\"#2a3f5f\"},\"baxis\":{\"endlinecolor\":\"#2a3f5f\",\"gridcolor\":\"white\",\"linecolor\":\"white\",\"minorgridcolor\":\"white\",\"startlinecolor\":\"#2a3f5f\"},\"type\":\"carpet\"}],\"choropleth\":[{\"colorbar\":{\"outlinewidth\":0,\"ticks\":\"\"},\"type\":\"choropleth\"}],\"contourcarpet\":[{\"colorbar\":{\"outlinewidth\":0,\"ticks\":\"\"},\"type\":\"contourcarpet\"}],\"contour\":[{\"colorbar\":{\"outlinewidth\":0,\"ticks\":\"\"},\"colorscale\":[[0.0,\"#0d0887\"],[0.1111111111111111,\"#46039f\"],[0.2222222222222222,\"#7201a8\"],[0.3333333333333333,\"#9c179e\"],[0.4444444444444444,\"#bd3786\"],[0.5555555555555556,\"#d8576b\"],[0.6666666666666666,\"#ed7953\"],[0.7777777777777778,\"#fb9f3a\"],[0.8888888888888888,\"#fdca26\"],[1.0,\"#f0f921\"]],\"type\":\"contour\"}],\"heatmapgl\":[{\"colorbar\":{\"outlinewidth\":0,\"ticks\":\"\"},\"colorscale\":[[0.0,\"#0d0887\"],[0.1111111111111111,\"#46039f\"],[0.2222222222222222,\"#7201a8\"],[0.3333333333333333,\"#9c179e\"],[0.4444444444444444,\"#bd3786\"],[0.5555555555555556,\"#d8576b\"],[0.6666666666666666,\"#ed7953\"],[0.7777777777777778,\"#fb9f3a\"],[0.8888888888888888,\"#fdca26\"],[1.0,\"#f0f921\"]],\"type\":\"heatmapgl\"}],\"heatmap\":[{\"colorbar\":{\"outlinewidth\":0,\"ticks\":\"\"},\"colorscale\":[[0.0,\"#0d0887\"],[0.1111111111111111,\"#46039f\"],[0.2222222222222222,\"#7201a8\"],[0.3333333333333333,\"#9c179e\"],[0.4444444444444444,\"#bd3786\"],[0.5555555555555556,\"#d8576b\"],[0.6666666666666666,\"#ed7953\"],[0.7777777777777778,\"#fb9f3a\"],[0.8888888888888888,\"#fdca26\"],[1.0,\"#f0f921\"]],\"type\":\"heatmap\"}],\"histogram2dcontour\":[{\"colorbar\":{\"outlinewidth\":0,\"ticks\":\"\"},\"colorscale\":[[0.0,\"#0d0887\"],[0.1111111111111111,\"#46039f\"],[0.2222222222222222,\"#7201a8\"],[0.3333333333333333,\"#9c179e\"],[0.4444444444444444,\"#bd3786\"],[0.5555555555555556,\"#d8576b\"],[0.6666666666666666,\"#ed7953\"],[0.7777777777777778,\"#fb9f3a\"],[0.8888888888888888,\"#fdca26\"],[1.0,\"#f0f921\"]],\"type\":\"histogram2dcontour\"}],\"histogram2d\":[{\"colorbar\":{\"outlinewidth\":0,\"ticks\":\"\"},\"colorscale\":[[0.0,\"#0d0887\"],[0.1111111111111111,\"#46039f\"],[0.2222222222222222,\"#7201a8\"],[0.3333333333333333,\"#9c179e\"],[0.4444444444444444,\"#bd3786\"],[0.5555555555555556,\"#d8576b\"],[0.6666666666666666,\"#ed7953\"],[0.7777777777777778,\"#fb9f3a\"],[0.8888888888888888,\"#fdca26\"],[1.0,\"#f0f921\"]],\"type\":\"histogram2d\"}],\"histogram\":[{\"marker\":{\"pattern\":{\"fillmode\":\"overlay\",\"size\":10,\"solidity\":0.2}},\"type\":\"histogram\"}],\"mesh3d\":[{\"colorbar\":{\"outlinewidth\":0,\"ticks\":\"\"},\"type\":\"mesh3d\"}],\"parcoords\":[{\"line\":{\"colorbar\":{\"outlinewidth\":0,\"ticks\":\"\"}},\"type\":\"parcoords\"}],\"pie\":[{\"automargin\":true,\"type\":\"pie\"}],\"scatter3d\":[{\"line\":{\"colorbar\":{\"outlinewidth\":0,\"ticks\":\"\"}},\"marker\":{\"colorbar\":{\"outlinewidth\":0,\"ticks\":\"\"}},\"type\":\"scatter3d\"}],\"scattercarpet\":[{\"marker\":{\"colorbar\":{\"outlinewidth\":0,\"ticks\":\"\"}},\"type\":\"scattercarpet\"}],\"scattergeo\":[{\"marker\":{\"colorbar\":{\"outlinewidth\":0,\"ticks\":\"\"}},\"type\":\"scattergeo\"}],\"scattergl\":[{\"marker\":{\"colorbar\":{\"outlinewidth\":0,\"ticks\":\"\"}},\"type\":\"scattergl\"}],\"scattermapbox\":[{\"marker\":{\"colorbar\":{\"outlinewidth\":0,\"ticks\":\"\"}},\"type\":\"scattermapbox\"}],\"scatterpolargl\":[{\"marker\":{\"colorbar\":{\"outlinewidth\":0,\"ticks\":\"\"}},\"type\":\"scatterpolargl\"}],\"scatterpolar\":[{\"marker\":{\"colorbar\":{\"outlinewidth\":0,\"ticks\":\"\"}},\"type\":\"scatterpolar\"}],\"scatter\":[{\"marker\":{\"colorbar\":{\"outlinewidth\":0,\"ticks\":\"\"}},\"type\":\"scatter\"}],\"scatterternary\":[{\"marker\":{\"colorbar\":{\"outlinewidth\":0,\"ticks\":\"\"}},\"type\":\"scatterternary\"}],\"surface\":[{\"colorbar\":{\"outlinewidth\":0,\"ticks\":\"\"},\"colorscale\":[[0.0,\"#0d0887\"],[0.1111111111111111,\"#46039f\"],[0.2222222222222222,\"#7201a8\"],[0.3333333333333333,\"#9c179e\"],[0.4444444444444444,\"#bd3786\"],[0.5555555555555556,\"#d8576b\"],[0.6666666666666666,\"#ed7953\"],[0.7777777777777778,\"#fb9f3a\"],[0.8888888888888888,\"#fdca26\"],[1.0,\"#f0f921\"]],\"type\":\"surface\"}],\"table\":[{\"cells\":{\"fill\":{\"color\":\"#EBF0F8\"},\"line\":{\"color\":\"white\"}},\"header\":{\"fill\":{\"color\":\"#C8D4E3\"},\"line\":{\"color\":\"white\"}},\"type\":\"table\"}]},\"layout\":{\"annotationdefaults\":{\"arrowcolor\":\"#2a3f5f\",\"arrowhead\":0,\"arrowwidth\":1},\"autotypenumbers\":\"strict\",\"coloraxis\":{\"colorbar\":{\"outlinewidth\":0,\"ticks\":\"\"}},\"colorscale\":{\"diverging\":[[0,\"#8e0152\"],[0.1,\"#c51b7d\"],[0.2,\"#de77ae\"],[0.3,\"#f1b6da\"],[0.4,\"#fde0ef\"],[0.5,\"#f7f7f7\"],[0.6,\"#e6f5d0\"],[0.7,\"#b8e186\"],[0.8,\"#7fbc41\"],[0.9,\"#4d9221\"],[1,\"#276419\"]],\"sequential\":[[0.0,\"#0d0887\"],[0.1111111111111111,\"#46039f\"],[0.2222222222222222,\"#7201a8\"],[0.3333333333333333,\"#9c179e\"],[0.4444444444444444,\"#bd3786\"],[0.5555555555555556,\"#d8576b\"],[0.6666666666666666,\"#ed7953\"],[0.7777777777777778,\"#fb9f3a\"],[0.8888888888888888,\"#fdca26\"],[1.0,\"#f0f921\"]],\"sequentialminus\":[[0.0,\"#0d0887\"],[0.1111111111111111,\"#46039f\"],[0.2222222222222222,\"#7201a8\"],[0.3333333333333333,\"#9c179e\"],[0.4444444444444444,\"#bd3786\"],[0.5555555555555556,\"#d8576b\"],[0.6666666666666666,\"#ed7953\"],[0.7777777777777778,\"#fb9f3a\"],[0.8888888888888888,\"#fdca26\"],[1.0,\"#f0f921\"]]},\"colorway\":[\"#636efa\",\"#EF553B\",\"#00cc96\",\"#ab63fa\",\"#FFA15A\",\"#19d3f3\",\"#FF6692\",\"#B6E880\",\"#FF97FF\",\"#FECB52\"],\"font\":{\"color\":\"#2a3f5f\"},\"geo\":{\"bgcolor\":\"white\",\"lakecolor\":\"white\",\"landcolor\":\"#E5ECF6\",\"showlakes\":true,\"showland\":true,\"subunitcolor\":\"white\"},\"hoverlabel\":{\"align\":\"left\"},\"hovermode\":\"closest\",\"mapbox\":{\"style\":\"light\"},\"paper_bgcolor\":\"white\",\"plot_bgcolor\":\"#E5ECF6\",\"polar\":{\"angularaxis\":{\"gridcolor\":\"white\",\"linecolor\":\"white\",\"ticks\":\"\"},\"bgcolor\":\"#E5ECF6\",\"radialaxis\":{\"gridcolor\":\"white\",\"linecolor\":\"white\",\"ticks\":\"\"}},\"scene\":{\"xaxis\":{\"backgroundcolor\":\"#E5ECF6\",\"gridcolor\":\"white\",\"gridwidth\":2,\"linecolor\":\"white\",\"showbackground\":true,\"ticks\":\"\",\"zerolinecolor\":\"white\"},\"yaxis\":{\"backgroundcolor\":\"#E5ECF6\",\"gridcolor\":\"white\",\"gridwidth\":2,\"linecolor\":\"white\",\"showbackground\":true,\"ticks\":\"\",\"zerolinecolor\":\"white\"},\"zaxis\":{\"backgroundcolor\":\"#E5ECF6\",\"gridcolor\":\"white\",\"gridwidth\":2,\"linecolor\":\"white\",\"showbackground\":true,\"ticks\":\"\",\"zerolinecolor\":\"white\"}},\"shapedefaults\":{\"line\":{\"color\":\"#2a3f5f\"}},\"ternary\":{\"aaxis\":{\"gridcolor\":\"white\",\"linecolor\":\"white\",\"ticks\":\"\"},\"baxis\":{\"gridcolor\":\"white\",\"linecolor\":\"white\",\"ticks\":\"\"},\"bgcolor\":\"#E5ECF6\",\"caxis\":{\"gridcolor\":\"white\",\"linecolor\":\"white\",\"ticks\":\"\"}},\"title\":{\"x\":0.05},\"xaxis\":{\"automargin\":true,\"gridcolor\":\"white\",\"linecolor\":\"white\",\"ticks\":\"\",\"title\":{\"standoff\":15},\"zerolinecolor\":\"white\",\"zerolinewidth\":2},\"yaxis\":{\"automargin\":true,\"gridcolor\":\"white\",\"linecolor\":\"white\",\"ticks\":\"\",\"title\":{\"standoff\":15},\"zerolinecolor\":\"white\",\"zerolinewidth\":2}}},\"title\":{\"font\":{\"color\":\"#4D5663\"}},\"xaxis\":{\"gridcolor\":\"#E1E5ED\",\"showgrid\":true,\"tickfont\":{\"color\":\"#4D5663\"},\"title\":{\"font\":{\"color\":\"#4D5663\"},\"text\":\"age\"},\"zerolinecolor\":\"#E1E5ED\"},\"yaxis\":{\"gridcolor\":\"#E1E5ED\",\"showgrid\":true,\"tickfont\":{\"color\":\"#4D5663\"},\"title\":{\"font\":{\"color\":\"#4D5663\"},\"text\":\"Number of Person\"},\"zerolinecolor\":\"#E1E5ED\"}},                        {\"showLink\": true, \"linkText\": \"Export to plot.ly\", \"plotlyServerURL\": \"https://plot.ly\", \"responsive\": true}                    ).then(function(){\n",
       "                            \n",
       "var gd = document.getElementById('40a46dd9-12c7-4ece-a14f-79e4b0419389');\n",
       "var x = new MutationObserver(function (mutations, observer) {{\n",
       "        var display = window.getComputedStyle(gd).display;\n",
       "        if (!display || display === 'none') {{\n",
       "            console.log([gd, 'removed!']);\n",
       "            Plotly.purge(gd);\n",
       "            observer.disconnect();\n",
       "        }}\n",
       "}});\n",
       "\n",
       "// Listen for the removal of the full notebook cells\n",
       "var notebookContainer = gd.closest('#notebook-container');\n",
       "if (notebookContainer) {{\n",
       "    x.observe(notebookContainer, {childList: true});\n",
       "}}\n",
       "\n",
       "// Listen for the clearing of the current output cell\n",
       "var outputEl = gd.closest('.output');\n",
       "if (outputEl) {{\n",
       "    x.observe(outputEl, {childList: true});\n",
       "}}\n",
       "\n",
       "                        })                };                });            </script>        </div>"
      ]
     },
     "metadata": {},
     "output_type": "display_data"
    }
   ],
   "source": [
    "(df3['LMName']).value_counts().iplot(kind='bar',xTitle='age', yTitle='Number of Person')"
   ]
  },
  {
   "cell_type": "code",
   "execution_count": 46,
   "id": "8d7fc573",
   "metadata": {},
   "outputs": [
    {
     "data": {
      "text/plain": [
       "Krishnandu         688\n",
       "SarikaReddy        488\n",
       "MaheshSyreddy      461\n",
       "Naseeruddin        410\n",
       "Karunakar          261\n",
       "Ramakrishna         28\n",
       "Navya D             13\n",
       "Pranay               9\n",
       "Praveen              6\n",
       "Bharath              3\n",
       "Bijayani             3\n",
       "Srikanth             2\n",
       "CapitalNow           2\n",
       "Shireesha            2\n",
       "BandariBhargavi      2\n",
       "Shailaja             1\n",
       "PV Sai Kumar         1\n",
       "Name: LMName, dtype: int64"
      ]
     },
     "execution_count": 46,
     "metadata": {},
     "output_type": "execute_result"
    }
   ],
   "source": [
    "df3['LMName'].value_counts()"
   ]
  },
  {
   "cell_type": "code",
   "execution_count": 47,
   "id": "cf67e566",
   "metadata": {
    "scrolled": false
   },
   "outputs": [
    {
     "name": "stdout",
     "output_type": "stream",
     "text": [
      "(3, 41)\n"
     ]
    },
    {
     "data": {
      "text/html": [
       "<div>\n",
       "<style scoped>\n",
       "    .dataframe tbody tr th:only-of-type {\n",
       "        vertical-align: middle;\n",
       "    }\n",
       "\n",
       "    .dataframe tbody tr th {\n",
       "        vertical-align: top;\n",
       "    }\n",
       "\n",
       "    .dataframe thead th {\n",
       "        text-align: right;\n",
       "    }\n",
       "</style>\n",
       "<table border=\"1\" class=\"dataframe\">\n",
       "  <thead>\n",
       "    <tr style=\"text-align: right;\">\n",
       "      <th></th>\n",
       "      <th>id</th>\n",
       "      <th>cloan_disbursal_amount_x</th>\n",
       "      <th>cloan_service_charge_x</th>\n",
       "      <th>cloan_penalty_x</th>\n",
       "      <th>cloan_total_x</th>\n",
       "      <th>cloan_status_id</th>\n",
       "      <th>cloan_exhausted_days</th>\n",
       "      <th>user_status_id</th>\n",
       "      <th>accounts_manager_id</th>\n",
       "      <th>recovery_officer_id</th>\n",
       "      <th>gender</th>\n",
       "      <th>user_created_by</th>\n",
       "      <th>city</th>\n",
       "      <th>age</th>\n",
       "      <th>PERMANENT_PIN</th>\n",
       "      <th>present_pin</th>\n",
       "      <th>DEPARTMENT</th>\n",
       "      <th>DESIGNATION</th>\n",
       "      <th>proinfo_monthly_sal</th>\n",
       "      <th>INDUSTRY</th>\n",
       "      <th>proinfo_pincode</th>\n",
       "      <th>proinfo_city</th>\n",
       "      <th>capbility_status</th>\n",
       "      <th>user_survey_marital_status</th>\n",
       "      <th>customer_bank_name</th>\n",
       "      <th>customer_bank_ifsc_code</th>\n",
       "      <th>RMName</th>\n",
       "      <th>MaxPLoanAm</th>\n",
       "      <th>LMID</th>\n",
       "      <th>LMName</th>\n",
       "      <th>cloan_disbursal_amount_y</th>\n",
       "      <th>cloan_service_charge_y</th>\n",
       "      <th>cloan_penalty_y</th>\n",
       "      <th>cloan_total_y</th>\n",
       "      <th>cloan_amount</th>\n",
       "      <th>cloan_exhausted_days_avg</th>\n",
       "      <th>age_bins</th>\n",
       "      <th>salary_bins</th>\n",
       "      <th>loan_bins</th>\n",
       "      <th>department</th>\n",
       "      <th>designation</th>\n",
       "    </tr>\n",
       "  </thead>\n",
       "  <tbody>\n",
       "    <tr>\n",
       "      <th>1520</th>\n",
       "      <td>1172281</td>\n",
       "      <td>13000</td>\n",
       "      <td>7410</td>\n",
       "      <td>9900</td>\n",
       "      <td>31844</td>\n",
       "      <td>21.0</td>\n",
       "      <td>295.0</td>\n",
       "      <td>12</td>\n",
       "      <td>143</td>\n",
       "      <td>134.0</td>\n",
       "      <td>1.0</td>\n",
       "      <td>5</td>\n",
       "      <td>chennai</td>\n",
       "      <td>41</td>\n",
       "      <td>603002</td>\n",
       "      <td>603002</td>\n",
       "      <td>production</td>\n",
       "      <td>team leader</td>\n",
       "      <td>65000</td>\n",
       "      <td>manufacturing</td>\n",
       "      <td>600119</td>\n",
       "      <td>Chennai</td>\n",
       "      <td>3</td>\n",
       "      <td>1.0</td>\n",
       "      <td>ICICI BANK</td>\n",
       "      <td>ICIC0006037</td>\n",
       "      <td>TripurariRai</td>\n",
       "      <td>13000</td>\n",
       "      <td>21.0</td>\n",
       "      <td>Krishnandu</td>\n",
       "      <td>78000</td>\n",
       "      <td>44460</td>\n",
       "      <td>59400</td>\n",
       "      <td>191064</td>\n",
       "      <td>78000</td>\n",
       "      <td>295.0</td>\n",
       "      <td>[41-45]</td>\n",
       "      <td>[60k-65k]</td>\n",
       "      <td>[12.5k-13k]</td>\n",
       "      <td>Production</td>\n",
       "      <td>Team Lead</td>\n",
       "    </tr>\n",
       "    <tr>\n",
       "      <th>1931</th>\n",
       "      <td>1265787</td>\n",
       "      <td>8150</td>\n",
       "      <td>1080</td>\n",
       "      <td>960</td>\n",
       "      <td>11040</td>\n",
       "      <td>21.0</td>\n",
       "      <td>78.0</td>\n",
       "      <td>12</td>\n",
       "      <td>129</td>\n",
       "      <td>NaN</td>\n",
       "      <td>1.0</td>\n",
       "      <td>5</td>\n",
       "      <td>hyderabad</td>\n",
       "      <td>39</td>\n",
       "      <td>502319</td>\n",
       "      <td>502319</td>\n",
       "      <td>research and development</td>\n",
       "      <td>scientist</td>\n",
       "      <td>94412</td>\n",
       "      <td>healthcare</td>\n",
       "      <td>500092</td>\n",
       "      <td>Hyderabad</td>\n",
       "      <td>3</td>\n",
       "      <td>1.0</td>\n",
       "      <td>HDFC</td>\n",
       "      <td>HDFC0000811</td>\n",
       "      <td>Brundha</td>\n",
       "      <td>33000</td>\n",
       "      <td>80.0</td>\n",
       "      <td>Naseeruddin</td>\n",
       "      <td>16300</td>\n",
       "      <td>2160</td>\n",
       "      <td>1920</td>\n",
       "      <td>22080</td>\n",
       "      <td>18000</td>\n",
       "      <td>78.0</td>\n",
       "      <td>[36-40]</td>\n",
       "      <td>[90k-95k]</td>\n",
       "      <td>[2k-10k]</td>\n",
       "      <td>Software</td>\n",
       "      <td>NaN</td>\n",
       "    </tr>\n",
       "    <tr>\n",
       "      <th>2377</th>\n",
       "      <td>1356304</td>\n",
       "      <td>6174</td>\n",
       "      <td>840</td>\n",
       "      <td>780</td>\n",
       "      <td>8620</td>\n",
       "      <td>21.0</td>\n",
       "      <td>69.0</td>\n",
       "      <td>12</td>\n",
       "      <td>36</td>\n",
       "      <td>NaN</td>\n",
       "      <td>1.0</td>\n",
       "      <td>5</td>\n",
       "      <td>NaN</td>\n",
       "      <td>30</td>\n",
       "      <td>NaN</td>\n",
       "      <td>NaN</td>\n",
       "      <td>compliance</td>\n",
       "      <td>screening analyst</td>\n",
       "      <td>49689</td>\n",
       "      <td>banking and financial services</td>\n",
       "      <td>NaN</td>\n",
       "      <td>Hyderabad</td>\n",
       "      <td>3</td>\n",
       "      <td>1.0</td>\n",
       "      <td>HDFC</td>\n",
       "      <td>HDFC0003788</td>\n",
       "      <td>Saikumar P</td>\n",
       "      <td>12000</td>\n",
       "      <td>NaN</td>\n",
       "      <td>NaN</td>\n",
       "      <td>6174</td>\n",
       "      <td>840</td>\n",
       "      <td>780</td>\n",
       "      <td>8620</td>\n",
       "      <td>7000</td>\n",
       "      <td>69.0</td>\n",
       "      <td>[26-30]</td>\n",
       "      <td>[45k-50k]</td>\n",
       "      <td>[2k-10k]</td>\n",
       "      <td>Others</td>\n",
       "      <td>Quality Analyst</td>\n",
       "    </tr>\n",
       "  </tbody>\n",
       "</table>\n",
       "</div>"
      ],
      "text/plain": [
       "           id  cloan_disbursal_amount_x  cloan_service_charge_x  \\\n",
       "1520  1172281                     13000                    7410   \n",
       "1931  1265787                      8150                    1080   \n",
       "2377  1356304                      6174                     840   \n",
       "\n",
       "      cloan_penalty_x  cloan_total_x  cloan_status_id  cloan_exhausted_days  \\\n",
       "1520             9900          31844             21.0                 295.0   \n",
       "1931              960          11040             21.0                  78.0   \n",
       "2377              780           8620             21.0                  69.0   \n",
       "\n",
       "      user_status_id  accounts_manager_id  recovery_officer_id  gender  \\\n",
       "1520              12                  143                134.0     1.0   \n",
       "1931              12                  129                  NaN     1.0   \n",
       "2377              12                   36                  NaN     1.0   \n",
       "\n",
       "      user_created_by       city  age PERMANENT_PIN present_pin  \\\n",
       "1520                5    chennai   41        603002      603002   \n",
       "1931                5  hyderabad   39        502319      502319   \n",
       "2377                5        NaN   30           NaN         NaN   \n",
       "\n",
       "                    DEPARTMENT        DESIGNATION  proinfo_monthly_sal  \\\n",
       "1520                production        team leader                65000   \n",
       "1931  research and development          scientist                94412   \n",
       "2377                compliance  screening analyst                49689   \n",
       "\n",
       "                            INDUSTRY proinfo_pincode proinfo_city  \\\n",
       "1520                   manufacturing          600119      Chennai   \n",
       "1931                      healthcare          500092    Hyderabad   \n",
       "2377  banking and financial services             NaN    Hyderabad   \n",
       "\n",
       "      capbility_status  user_survey_marital_status customer_bank_name  \\\n",
       "1520                 3                         1.0         ICICI BANK   \n",
       "1931                 3                         1.0               HDFC   \n",
       "2377                 3                         1.0               HDFC   \n",
       "\n",
       "     customer_bank_ifsc_code        RMName  MaxPLoanAm  LMID       LMName  \\\n",
       "1520             ICIC0006037  TripurariRai       13000  21.0   Krishnandu   \n",
       "1931             HDFC0000811       Brundha       33000  80.0  Naseeruddin   \n",
       "2377             HDFC0003788    Saikumar P       12000   NaN          NaN   \n",
       "\n",
       "      cloan_disbursal_amount_y  cloan_service_charge_y  cloan_penalty_y  \\\n",
       "1520                     78000                   44460            59400   \n",
       "1931                     16300                    2160             1920   \n",
       "2377                      6174                     840              780   \n",
       "\n",
       "      cloan_total_y  cloan_amount  cloan_exhausted_days_avg age_bins  \\\n",
       "1520         191064         78000                     295.0  [41-45]   \n",
       "1931          22080         18000                      78.0  [36-40]   \n",
       "2377           8620          7000                      69.0  [26-30]   \n",
       "\n",
       "     salary_bins    loan_bins  department      designation  \n",
       "1520   [60k-65k]  [12.5k-13k]  Production        Team Lead  \n",
       "1931   [90k-95k]     [2k-10k]    Software              NaN  \n",
       "2377   [45k-50k]     [2k-10k]      Others  Quality Analyst  "
      ]
     },
     "execution_count": 47,
     "metadata": {},
     "output_type": "execute_result"
    }
   ],
   "source": [
    "df_c = df3[df3['capbility_status'] ==3]\n",
    "print(df_c.shape)\n",
    "df_c.head()"
   ]
  },
  {
   "cell_type": "code",
   "execution_count": 48,
   "id": "82f4a53b",
   "metadata": {},
   "outputs": [
    {
     "data": {
      "application/vnd.plotly.v1+json": {
       "config": {
        "linkText": "Export to plot.ly",
        "plotlyServerURL": "https://plot.ly",
        "showLink": true
       },
       "data": [
        {
         "marker": {
          "color": "rgba(255, 153, 51, 0.6)",
          "line": {
           "color": "rgba(255, 153, 51, 1.0)",
           "width": 1
          }
         },
         "name": "LMName",
         "orientation": "v",
         "text": "",
         "type": "bar",
         "x": [
          "Krishnandu",
          "SarikaReddy",
          "MaheshSyreddy",
          "Naseeruddin",
          "Karunakar",
          "Ramakrishna",
          "Navya D",
          "Pranay",
          "Praveen",
          "Bharath",
          "Bijayani",
          "Srikanth",
          "CapitalNow",
          "Shireesha",
          "BandariBhargavi",
          "Shailaja",
          "PV Sai Kumar"
         ],
         "y": [
          688,
          488,
          461,
          410,
          261,
          28,
          13,
          9,
          6,
          3,
          3,
          2,
          2,
          2,
          2,
          1,
          1
         ]
        }
       ],
       "layout": {
        "legend": {
         "bgcolor": "#F5F6F9",
         "font": {
          "color": "#4D5663"
         }
        },
        "paper_bgcolor": "#F5F6F9",
        "plot_bgcolor": "#F5F6F9",
        "template": {
         "data": {
          "bar": [
           {
            "error_x": {
             "color": "#2a3f5f"
            },
            "error_y": {
             "color": "#2a3f5f"
            },
            "marker": {
             "line": {
              "color": "#E5ECF6",
              "width": 0.5
             },
             "pattern": {
              "fillmode": "overlay",
              "size": 10,
              "solidity": 0.2
             }
            },
            "type": "bar"
           }
          ],
          "barpolar": [
           {
            "marker": {
             "line": {
              "color": "#E5ECF6",
              "width": 0.5
             },
             "pattern": {
              "fillmode": "overlay",
              "size": 10,
              "solidity": 0.2
             }
            },
            "type": "barpolar"
           }
          ],
          "carpet": [
           {
            "aaxis": {
             "endlinecolor": "#2a3f5f",
             "gridcolor": "white",
             "linecolor": "white",
             "minorgridcolor": "white",
             "startlinecolor": "#2a3f5f"
            },
            "baxis": {
             "endlinecolor": "#2a3f5f",
             "gridcolor": "white",
             "linecolor": "white",
             "minorgridcolor": "white",
             "startlinecolor": "#2a3f5f"
            },
            "type": "carpet"
           }
          ],
          "choropleth": [
           {
            "colorbar": {
             "outlinewidth": 0,
             "ticks": ""
            },
            "type": "choropleth"
           }
          ],
          "contour": [
           {
            "colorbar": {
             "outlinewidth": 0,
             "ticks": ""
            },
            "colorscale": [
             [
              0,
              "#0d0887"
             ],
             [
              0.1111111111111111,
              "#46039f"
             ],
             [
              0.2222222222222222,
              "#7201a8"
             ],
             [
              0.3333333333333333,
              "#9c179e"
             ],
             [
              0.4444444444444444,
              "#bd3786"
             ],
             [
              0.5555555555555556,
              "#d8576b"
             ],
             [
              0.6666666666666666,
              "#ed7953"
             ],
             [
              0.7777777777777778,
              "#fb9f3a"
             ],
             [
              0.8888888888888888,
              "#fdca26"
             ],
             [
              1,
              "#f0f921"
             ]
            ],
            "type": "contour"
           }
          ],
          "contourcarpet": [
           {
            "colorbar": {
             "outlinewidth": 0,
             "ticks": ""
            },
            "type": "contourcarpet"
           }
          ],
          "heatmap": [
           {
            "colorbar": {
             "outlinewidth": 0,
             "ticks": ""
            },
            "colorscale": [
             [
              0,
              "#0d0887"
             ],
             [
              0.1111111111111111,
              "#46039f"
             ],
             [
              0.2222222222222222,
              "#7201a8"
             ],
             [
              0.3333333333333333,
              "#9c179e"
             ],
             [
              0.4444444444444444,
              "#bd3786"
             ],
             [
              0.5555555555555556,
              "#d8576b"
             ],
             [
              0.6666666666666666,
              "#ed7953"
             ],
             [
              0.7777777777777778,
              "#fb9f3a"
             ],
             [
              0.8888888888888888,
              "#fdca26"
             ],
             [
              1,
              "#f0f921"
             ]
            ],
            "type": "heatmap"
           }
          ],
          "heatmapgl": [
           {
            "colorbar": {
             "outlinewidth": 0,
             "ticks": ""
            },
            "colorscale": [
             [
              0,
              "#0d0887"
             ],
             [
              0.1111111111111111,
              "#46039f"
             ],
             [
              0.2222222222222222,
              "#7201a8"
             ],
             [
              0.3333333333333333,
              "#9c179e"
             ],
             [
              0.4444444444444444,
              "#bd3786"
             ],
             [
              0.5555555555555556,
              "#d8576b"
             ],
             [
              0.6666666666666666,
              "#ed7953"
             ],
             [
              0.7777777777777778,
              "#fb9f3a"
             ],
             [
              0.8888888888888888,
              "#fdca26"
             ],
             [
              1,
              "#f0f921"
             ]
            ],
            "type": "heatmapgl"
           }
          ],
          "histogram": [
           {
            "marker": {
             "pattern": {
              "fillmode": "overlay",
              "size": 10,
              "solidity": 0.2
             }
            },
            "type": "histogram"
           }
          ],
          "histogram2d": [
           {
            "colorbar": {
             "outlinewidth": 0,
             "ticks": ""
            },
            "colorscale": [
             [
              0,
              "#0d0887"
             ],
             [
              0.1111111111111111,
              "#46039f"
             ],
             [
              0.2222222222222222,
              "#7201a8"
             ],
             [
              0.3333333333333333,
              "#9c179e"
             ],
             [
              0.4444444444444444,
              "#bd3786"
             ],
             [
              0.5555555555555556,
              "#d8576b"
             ],
             [
              0.6666666666666666,
              "#ed7953"
             ],
             [
              0.7777777777777778,
              "#fb9f3a"
             ],
             [
              0.8888888888888888,
              "#fdca26"
             ],
             [
              1,
              "#f0f921"
             ]
            ],
            "type": "histogram2d"
           }
          ],
          "histogram2dcontour": [
           {
            "colorbar": {
             "outlinewidth": 0,
             "ticks": ""
            },
            "colorscale": [
             [
              0,
              "#0d0887"
             ],
             [
              0.1111111111111111,
              "#46039f"
             ],
             [
              0.2222222222222222,
              "#7201a8"
             ],
             [
              0.3333333333333333,
              "#9c179e"
             ],
             [
              0.4444444444444444,
              "#bd3786"
             ],
             [
              0.5555555555555556,
              "#d8576b"
             ],
             [
              0.6666666666666666,
              "#ed7953"
             ],
             [
              0.7777777777777778,
              "#fb9f3a"
             ],
             [
              0.8888888888888888,
              "#fdca26"
             ],
             [
              1,
              "#f0f921"
             ]
            ],
            "type": "histogram2dcontour"
           }
          ],
          "mesh3d": [
           {
            "colorbar": {
             "outlinewidth": 0,
             "ticks": ""
            },
            "type": "mesh3d"
           }
          ],
          "parcoords": [
           {
            "line": {
             "colorbar": {
              "outlinewidth": 0,
              "ticks": ""
             }
            },
            "type": "parcoords"
           }
          ],
          "pie": [
           {
            "automargin": true,
            "type": "pie"
           }
          ],
          "scatter": [
           {
            "marker": {
             "colorbar": {
              "outlinewidth": 0,
              "ticks": ""
             }
            },
            "type": "scatter"
           }
          ],
          "scatter3d": [
           {
            "line": {
             "colorbar": {
              "outlinewidth": 0,
              "ticks": ""
             }
            },
            "marker": {
             "colorbar": {
              "outlinewidth": 0,
              "ticks": ""
             }
            },
            "type": "scatter3d"
           }
          ],
          "scattercarpet": [
           {
            "marker": {
             "colorbar": {
              "outlinewidth": 0,
              "ticks": ""
             }
            },
            "type": "scattercarpet"
           }
          ],
          "scattergeo": [
           {
            "marker": {
             "colorbar": {
              "outlinewidth": 0,
              "ticks": ""
             }
            },
            "type": "scattergeo"
           }
          ],
          "scattergl": [
           {
            "marker": {
             "colorbar": {
              "outlinewidth": 0,
              "ticks": ""
             }
            },
            "type": "scattergl"
           }
          ],
          "scattermapbox": [
           {
            "marker": {
             "colorbar": {
              "outlinewidth": 0,
              "ticks": ""
             }
            },
            "type": "scattermapbox"
           }
          ],
          "scatterpolar": [
           {
            "marker": {
             "colorbar": {
              "outlinewidth": 0,
              "ticks": ""
             }
            },
            "type": "scatterpolar"
           }
          ],
          "scatterpolargl": [
           {
            "marker": {
             "colorbar": {
              "outlinewidth": 0,
              "ticks": ""
             }
            },
            "type": "scatterpolargl"
           }
          ],
          "scatterternary": [
           {
            "marker": {
             "colorbar": {
              "outlinewidth": 0,
              "ticks": ""
             }
            },
            "type": "scatterternary"
           }
          ],
          "surface": [
           {
            "colorbar": {
             "outlinewidth": 0,
             "ticks": ""
            },
            "colorscale": [
             [
              0,
              "#0d0887"
             ],
             [
              0.1111111111111111,
              "#46039f"
             ],
             [
              0.2222222222222222,
              "#7201a8"
             ],
             [
              0.3333333333333333,
              "#9c179e"
             ],
             [
              0.4444444444444444,
              "#bd3786"
             ],
             [
              0.5555555555555556,
              "#d8576b"
             ],
             [
              0.6666666666666666,
              "#ed7953"
             ],
             [
              0.7777777777777778,
              "#fb9f3a"
             ],
             [
              0.8888888888888888,
              "#fdca26"
             ],
             [
              1,
              "#f0f921"
             ]
            ],
            "type": "surface"
           }
          ],
          "table": [
           {
            "cells": {
             "fill": {
              "color": "#EBF0F8"
             },
             "line": {
              "color": "white"
             }
            },
            "header": {
             "fill": {
              "color": "#C8D4E3"
             },
             "line": {
              "color": "white"
             }
            },
            "type": "table"
           }
          ]
         },
         "layout": {
          "annotationdefaults": {
           "arrowcolor": "#2a3f5f",
           "arrowhead": 0,
           "arrowwidth": 1
          },
          "autotypenumbers": "strict",
          "coloraxis": {
           "colorbar": {
            "outlinewidth": 0,
            "ticks": ""
           }
          },
          "colorscale": {
           "diverging": [
            [
             0,
             "#8e0152"
            ],
            [
             0.1,
             "#c51b7d"
            ],
            [
             0.2,
             "#de77ae"
            ],
            [
             0.3,
             "#f1b6da"
            ],
            [
             0.4,
             "#fde0ef"
            ],
            [
             0.5,
             "#f7f7f7"
            ],
            [
             0.6,
             "#e6f5d0"
            ],
            [
             0.7,
             "#b8e186"
            ],
            [
             0.8,
             "#7fbc41"
            ],
            [
             0.9,
             "#4d9221"
            ],
            [
             1,
             "#276419"
            ]
           ],
           "sequential": [
            [
             0,
             "#0d0887"
            ],
            [
             0.1111111111111111,
             "#46039f"
            ],
            [
             0.2222222222222222,
             "#7201a8"
            ],
            [
             0.3333333333333333,
             "#9c179e"
            ],
            [
             0.4444444444444444,
             "#bd3786"
            ],
            [
             0.5555555555555556,
             "#d8576b"
            ],
            [
             0.6666666666666666,
             "#ed7953"
            ],
            [
             0.7777777777777778,
             "#fb9f3a"
            ],
            [
             0.8888888888888888,
             "#fdca26"
            ],
            [
             1,
             "#f0f921"
            ]
           ],
           "sequentialminus": [
            [
             0,
             "#0d0887"
            ],
            [
             0.1111111111111111,
             "#46039f"
            ],
            [
             0.2222222222222222,
             "#7201a8"
            ],
            [
             0.3333333333333333,
             "#9c179e"
            ],
            [
             0.4444444444444444,
             "#bd3786"
            ],
            [
             0.5555555555555556,
             "#d8576b"
            ],
            [
             0.6666666666666666,
             "#ed7953"
            ],
            [
             0.7777777777777778,
             "#fb9f3a"
            ],
            [
             0.8888888888888888,
             "#fdca26"
            ],
            [
             1,
             "#f0f921"
            ]
           ]
          },
          "colorway": [
           "#636efa",
           "#EF553B",
           "#00cc96",
           "#ab63fa",
           "#FFA15A",
           "#19d3f3",
           "#FF6692",
           "#B6E880",
           "#FF97FF",
           "#FECB52"
          ],
          "font": {
           "color": "#2a3f5f"
          },
          "geo": {
           "bgcolor": "white",
           "lakecolor": "white",
           "landcolor": "#E5ECF6",
           "showlakes": true,
           "showland": true,
           "subunitcolor": "white"
          },
          "hoverlabel": {
           "align": "left"
          },
          "hovermode": "closest",
          "mapbox": {
           "style": "light"
          },
          "paper_bgcolor": "white",
          "plot_bgcolor": "#E5ECF6",
          "polar": {
           "angularaxis": {
            "gridcolor": "white",
            "linecolor": "white",
            "ticks": ""
           },
           "bgcolor": "#E5ECF6",
           "radialaxis": {
            "gridcolor": "white",
            "linecolor": "white",
            "ticks": ""
           }
          },
          "scene": {
           "xaxis": {
            "backgroundcolor": "#E5ECF6",
            "gridcolor": "white",
            "gridwidth": 2,
            "linecolor": "white",
            "showbackground": true,
            "ticks": "",
            "zerolinecolor": "white"
           },
           "yaxis": {
            "backgroundcolor": "#E5ECF6",
            "gridcolor": "white",
            "gridwidth": 2,
            "linecolor": "white",
            "showbackground": true,
            "ticks": "",
            "zerolinecolor": "white"
           },
           "zaxis": {
            "backgroundcolor": "#E5ECF6",
            "gridcolor": "white",
            "gridwidth": 2,
            "linecolor": "white",
            "showbackground": true,
            "ticks": "",
            "zerolinecolor": "white"
           }
          },
          "shapedefaults": {
           "line": {
            "color": "#2a3f5f"
           }
          },
          "ternary": {
           "aaxis": {
            "gridcolor": "white",
            "linecolor": "white",
            "ticks": ""
           },
           "baxis": {
            "gridcolor": "white",
            "linecolor": "white",
            "ticks": ""
           },
           "bgcolor": "#E5ECF6",
           "caxis": {
            "gridcolor": "white",
            "linecolor": "white",
            "ticks": ""
           }
          },
          "title": {
           "x": 0.05
          },
          "xaxis": {
           "automargin": true,
           "gridcolor": "white",
           "linecolor": "white",
           "ticks": "",
           "title": {
            "standoff": 15
           },
           "zerolinecolor": "white",
           "zerolinewidth": 2
          },
          "yaxis": {
           "automargin": true,
           "gridcolor": "white",
           "linecolor": "white",
           "ticks": "",
           "title": {
            "standoff": 15
           },
           "zerolinecolor": "white",
           "zerolinewidth": 2
          }
         }
        },
        "title": {
         "font": {
          "color": "#4D5663"
         }
        },
        "xaxis": {
         "gridcolor": "#E1E5ED",
         "showgrid": true,
         "tickfont": {
          "color": "#4D5663"
         },
         "title": {
          "font": {
           "color": "#4D5663"
          },
          "text": "age"
         },
         "zerolinecolor": "#E1E5ED"
        },
        "yaxis": {
         "gridcolor": "#E1E5ED",
         "showgrid": true,
         "tickfont": {
          "color": "#4D5663"
         },
         "title": {
          "font": {
           "color": "#4D5663"
          },
          "text": "Number of Person"
         },
         "zerolinecolor": "#E1E5ED"
        }
       }
      },
      "text/html": [
       "<div>                            <div id=\"cbd9dcfc-061c-43c2-a58a-89ee1e950f2a\" class=\"plotly-graph-div\" style=\"height:525px; width:100%;\"></div>            <script type=\"text/javascript\">                require([\"plotly\"], function(Plotly) {                    window.PLOTLYENV=window.PLOTLYENV || {};\n",
       "                    window.PLOTLYENV.BASE_URL='https://plot.ly';                                    if (document.getElementById(\"cbd9dcfc-061c-43c2-a58a-89ee1e950f2a\")) {                    Plotly.newPlot(                        \"cbd9dcfc-061c-43c2-a58a-89ee1e950f2a\",                        [{\"marker\":{\"color\":\"rgba(255, 153, 51, 0.6)\",\"line\":{\"color\":\"rgba(255, 153, 51, 1.0)\",\"width\":1}},\"name\":\"LMName\",\"orientation\":\"v\",\"text\":\"\",\"x\":[\"Krishnandu\",\"SarikaReddy\",\"MaheshSyreddy\",\"Naseeruddin\",\"Karunakar\",\"Ramakrishna\",\"Navya D\",\"Pranay\",\"Praveen\",\"Bharath\",\"Bijayani\",\"Srikanth\",\"CapitalNow\",\"Shireesha\",\"BandariBhargavi\",\"Shailaja\",\"PV Sai Kumar\"],\"y\":[688,488,461,410,261,28,13,9,6,3,3,2,2,2,2,1,1],\"type\":\"bar\"}],                        {\"legend\":{\"bgcolor\":\"#F5F6F9\",\"font\":{\"color\":\"#4D5663\"}},\"paper_bgcolor\":\"#F5F6F9\",\"plot_bgcolor\":\"#F5F6F9\",\"template\":{\"data\":{\"barpolar\":[{\"marker\":{\"line\":{\"color\":\"#E5ECF6\",\"width\":0.5},\"pattern\":{\"fillmode\":\"overlay\",\"size\":10,\"solidity\":0.2}},\"type\":\"barpolar\"}],\"bar\":[{\"error_x\":{\"color\":\"#2a3f5f\"},\"error_y\":{\"color\":\"#2a3f5f\"},\"marker\":{\"line\":{\"color\":\"#E5ECF6\",\"width\":0.5},\"pattern\":{\"fillmode\":\"overlay\",\"size\":10,\"solidity\":0.2}},\"type\":\"bar\"}],\"carpet\":[{\"aaxis\":{\"endlinecolor\":\"#2a3f5f\",\"gridcolor\":\"white\",\"linecolor\":\"white\",\"minorgridcolor\":\"white\",\"startlinecolor\":\"#2a3f5f\"},\"baxis\":{\"endlinecolor\":\"#2a3f5f\",\"gridcolor\":\"white\",\"linecolor\":\"white\",\"minorgridcolor\":\"white\",\"startlinecolor\":\"#2a3f5f\"},\"type\":\"carpet\"}],\"choropleth\":[{\"colorbar\":{\"outlinewidth\":0,\"ticks\":\"\"},\"type\":\"choropleth\"}],\"contourcarpet\":[{\"colorbar\":{\"outlinewidth\":0,\"ticks\":\"\"},\"type\":\"contourcarpet\"}],\"contour\":[{\"colorbar\":{\"outlinewidth\":0,\"ticks\":\"\"},\"colorscale\":[[0.0,\"#0d0887\"],[0.1111111111111111,\"#46039f\"],[0.2222222222222222,\"#7201a8\"],[0.3333333333333333,\"#9c179e\"],[0.4444444444444444,\"#bd3786\"],[0.5555555555555556,\"#d8576b\"],[0.6666666666666666,\"#ed7953\"],[0.7777777777777778,\"#fb9f3a\"],[0.8888888888888888,\"#fdca26\"],[1.0,\"#f0f921\"]],\"type\":\"contour\"}],\"heatmapgl\":[{\"colorbar\":{\"outlinewidth\":0,\"ticks\":\"\"},\"colorscale\":[[0.0,\"#0d0887\"],[0.1111111111111111,\"#46039f\"],[0.2222222222222222,\"#7201a8\"],[0.3333333333333333,\"#9c179e\"],[0.4444444444444444,\"#bd3786\"],[0.5555555555555556,\"#d8576b\"],[0.6666666666666666,\"#ed7953\"],[0.7777777777777778,\"#fb9f3a\"],[0.8888888888888888,\"#fdca26\"],[1.0,\"#f0f921\"]],\"type\":\"heatmapgl\"}],\"heatmap\":[{\"colorbar\":{\"outlinewidth\":0,\"ticks\":\"\"},\"colorscale\":[[0.0,\"#0d0887\"],[0.1111111111111111,\"#46039f\"],[0.2222222222222222,\"#7201a8\"],[0.3333333333333333,\"#9c179e\"],[0.4444444444444444,\"#bd3786\"],[0.5555555555555556,\"#d8576b\"],[0.6666666666666666,\"#ed7953\"],[0.7777777777777778,\"#fb9f3a\"],[0.8888888888888888,\"#fdca26\"],[1.0,\"#f0f921\"]],\"type\":\"heatmap\"}],\"histogram2dcontour\":[{\"colorbar\":{\"outlinewidth\":0,\"ticks\":\"\"},\"colorscale\":[[0.0,\"#0d0887\"],[0.1111111111111111,\"#46039f\"],[0.2222222222222222,\"#7201a8\"],[0.3333333333333333,\"#9c179e\"],[0.4444444444444444,\"#bd3786\"],[0.5555555555555556,\"#d8576b\"],[0.6666666666666666,\"#ed7953\"],[0.7777777777777778,\"#fb9f3a\"],[0.8888888888888888,\"#fdca26\"],[1.0,\"#f0f921\"]],\"type\":\"histogram2dcontour\"}],\"histogram2d\":[{\"colorbar\":{\"outlinewidth\":0,\"ticks\":\"\"},\"colorscale\":[[0.0,\"#0d0887\"],[0.1111111111111111,\"#46039f\"],[0.2222222222222222,\"#7201a8\"],[0.3333333333333333,\"#9c179e\"],[0.4444444444444444,\"#bd3786\"],[0.5555555555555556,\"#d8576b\"],[0.6666666666666666,\"#ed7953\"],[0.7777777777777778,\"#fb9f3a\"],[0.8888888888888888,\"#fdca26\"],[1.0,\"#f0f921\"]],\"type\":\"histogram2d\"}],\"histogram\":[{\"marker\":{\"pattern\":{\"fillmode\":\"overlay\",\"size\":10,\"solidity\":0.2}},\"type\":\"histogram\"}],\"mesh3d\":[{\"colorbar\":{\"outlinewidth\":0,\"ticks\":\"\"},\"type\":\"mesh3d\"}],\"parcoords\":[{\"line\":{\"colorbar\":{\"outlinewidth\":0,\"ticks\":\"\"}},\"type\":\"parcoords\"}],\"pie\":[{\"automargin\":true,\"type\":\"pie\"}],\"scatter3d\":[{\"line\":{\"colorbar\":{\"outlinewidth\":0,\"ticks\":\"\"}},\"marker\":{\"colorbar\":{\"outlinewidth\":0,\"ticks\":\"\"}},\"type\":\"scatter3d\"}],\"scattercarpet\":[{\"marker\":{\"colorbar\":{\"outlinewidth\":0,\"ticks\":\"\"}},\"type\":\"scattercarpet\"}],\"scattergeo\":[{\"marker\":{\"colorbar\":{\"outlinewidth\":0,\"ticks\":\"\"}},\"type\":\"scattergeo\"}],\"scattergl\":[{\"marker\":{\"colorbar\":{\"outlinewidth\":0,\"ticks\":\"\"}},\"type\":\"scattergl\"}],\"scattermapbox\":[{\"marker\":{\"colorbar\":{\"outlinewidth\":0,\"ticks\":\"\"}},\"type\":\"scattermapbox\"}],\"scatterpolargl\":[{\"marker\":{\"colorbar\":{\"outlinewidth\":0,\"ticks\":\"\"}},\"type\":\"scatterpolargl\"}],\"scatterpolar\":[{\"marker\":{\"colorbar\":{\"outlinewidth\":0,\"ticks\":\"\"}},\"type\":\"scatterpolar\"}],\"scatter\":[{\"marker\":{\"colorbar\":{\"outlinewidth\":0,\"ticks\":\"\"}},\"type\":\"scatter\"}],\"scatterternary\":[{\"marker\":{\"colorbar\":{\"outlinewidth\":0,\"ticks\":\"\"}},\"type\":\"scatterternary\"}],\"surface\":[{\"colorbar\":{\"outlinewidth\":0,\"ticks\":\"\"},\"colorscale\":[[0.0,\"#0d0887\"],[0.1111111111111111,\"#46039f\"],[0.2222222222222222,\"#7201a8\"],[0.3333333333333333,\"#9c179e\"],[0.4444444444444444,\"#bd3786\"],[0.5555555555555556,\"#d8576b\"],[0.6666666666666666,\"#ed7953\"],[0.7777777777777778,\"#fb9f3a\"],[0.8888888888888888,\"#fdca26\"],[1.0,\"#f0f921\"]],\"type\":\"surface\"}],\"table\":[{\"cells\":{\"fill\":{\"color\":\"#EBF0F8\"},\"line\":{\"color\":\"white\"}},\"header\":{\"fill\":{\"color\":\"#C8D4E3\"},\"line\":{\"color\":\"white\"}},\"type\":\"table\"}]},\"layout\":{\"annotationdefaults\":{\"arrowcolor\":\"#2a3f5f\",\"arrowhead\":0,\"arrowwidth\":1},\"autotypenumbers\":\"strict\",\"coloraxis\":{\"colorbar\":{\"outlinewidth\":0,\"ticks\":\"\"}},\"colorscale\":{\"diverging\":[[0,\"#8e0152\"],[0.1,\"#c51b7d\"],[0.2,\"#de77ae\"],[0.3,\"#f1b6da\"],[0.4,\"#fde0ef\"],[0.5,\"#f7f7f7\"],[0.6,\"#e6f5d0\"],[0.7,\"#b8e186\"],[0.8,\"#7fbc41\"],[0.9,\"#4d9221\"],[1,\"#276419\"]],\"sequential\":[[0.0,\"#0d0887\"],[0.1111111111111111,\"#46039f\"],[0.2222222222222222,\"#7201a8\"],[0.3333333333333333,\"#9c179e\"],[0.4444444444444444,\"#bd3786\"],[0.5555555555555556,\"#d8576b\"],[0.6666666666666666,\"#ed7953\"],[0.7777777777777778,\"#fb9f3a\"],[0.8888888888888888,\"#fdca26\"],[1.0,\"#f0f921\"]],\"sequentialminus\":[[0.0,\"#0d0887\"],[0.1111111111111111,\"#46039f\"],[0.2222222222222222,\"#7201a8\"],[0.3333333333333333,\"#9c179e\"],[0.4444444444444444,\"#bd3786\"],[0.5555555555555556,\"#d8576b\"],[0.6666666666666666,\"#ed7953\"],[0.7777777777777778,\"#fb9f3a\"],[0.8888888888888888,\"#fdca26\"],[1.0,\"#f0f921\"]]},\"colorway\":[\"#636efa\",\"#EF553B\",\"#00cc96\",\"#ab63fa\",\"#FFA15A\",\"#19d3f3\",\"#FF6692\",\"#B6E880\",\"#FF97FF\",\"#FECB52\"],\"font\":{\"color\":\"#2a3f5f\"},\"geo\":{\"bgcolor\":\"white\",\"lakecolor\":\"white\",\"landcolor\":\"#E5ECF6\",\"showlakes\":true,\"showland\":true,\"subunitcolor\":\"white\"},\"hoverlabel\":{\"align\":\"left\"},\"hovermode\":\"closest\",\"mapbox\":{\"style\":\"light\"},\"paper_bgcolor\":\"white\",\"plot_bgcolor\":\"#E5ECF6\",\"polar\":{\"angularaxis\":{\"gridcolor\":\"white\",\"linecolor\":\"white\",\"ticks\":\"\"},\"bgcolor\":\"#E5ECF6\",\"radialaxis\":{\"gridcolor\":\"white\",\"linecolor\":\"white\",\"ticks\":\"\"}},\"scene\":{\"xaxis\":{\"backgroundcolor\":\"#E5ECF6\",\"gridcolor\":\"white\",\"gridwidth\":2,\"linecolor\":\"white\",\"showbackground\":true,\"ticks\":\"\",\"zerolinecolor\":\"white\"},\"yaxis\":{\"backgroundcolor\":\"#E5ECF6\",\"gridcolor\":\"white\",\"gridwidth\":2,\"linecolor\":\"white\",\"showbackground\":true,\"ticks\":\"\",\"zerolinecolor\":\"white\"},\"zaxis\":{\"backgroundcolor\":\"#E5ECF6\",\"gridcolor\":\"white\",\"gridwidth\":2,\"linecolor\":\"white\",\"showbackground\":true,\"ticks\":\"\",\"zerolinecolor\":\"white\"}},\"shapedefaults\":{\"line\":{\"color\":\"#2a3f5f\"}},\"ternary\":{\"aaxis\":{\"gridcolor\":\"white\",\"linecolor\":\"white\",\"ticks\":\"\"},\"baxis\":{\"gridcolor\":\"white\",\"linecolor\":\"white\",\"ticks\":\"\"},\"bgcolor\":\"#E5ECF6\",\"caxis\":{\"gridcolor\":\"white\",\"linecolor\":\"white\",\"ticks\":\"\"}},\"title\":{\"x\":0.05},\"xaxis\":{\"automargin\":true,\"gridcolor\":\"white\",\"linecolor\":\"white\",\"ticks\":\"\",\"title\":{\"standoff\":15},\"zerolinecolor\":\"white\",\"zerolinewidth\":2},\"yaxis\":{\"automargin\":true,\"gridcolor\":\"white\",\"linecolor\":\"white\",\"ticks\":\"\",\"title\":{\"standoff\":15},\"zerolinecolor\":\"white\",\"zerolinewidth\":2}}},\"title\":{\"font\":{\"color\":\"#4D5663\"}},\"xaxis\":{\"gridcolor\":\"#E1E5ED\",\"showgrid\":true,\"tickfont\":{\"color\":\"#4D5663\"},\"title\":{\"font\":{\"color\":\"#4D5663\"},\"text\":\"age\"},\"zerolinecolor\":\"#E1E5ED\"},\"yaxis\":{\"gridcolor\":\"#E1E5ED\",\"showgrid\":true,\"tickfont\":{\"color\":\"#4D5663\"},\"title\":{\"font\":{\"color\":\"#4D5663\"},\"text\":\"Number of Person\"},\"zerolinecolor\":\"#E1E5ED\"}},                        {\"showLink\": true, \"linkText\": \"Export to plot.ly\", \"plotlyServerURL\": \"https://plot.ly\", \"responsive\": true}                    ).then(function(){\n",
       "                            \n",
       "var gd = document.getElementById('cbd9dcfc-061c-43c2-a58a-89ee1e950f2a');\n",
       "var x = new MutationObserver(function (mutations, observer) {{\n",
       "        var display = window.getComputedStyle(gd).display;\n",
       "        if (!display || display === 'none') {{\n",
       "            console.log([gd, 'removed!']);\n",
       "            Plotly.purge(gd);\n",
       "            observer.disconnect();\n",
       "        }}\n",
       "}});\n",
       "\n",
       "// Listen for the removal of the full notebook cells\n",
       "var notebookContainer = gd.closest('#notebook-container');\n",
       "if (notebookContainer) {{\n",
       "    x.observe(notebookContainer, {childList: true});\n",
       "}}\n",
       "\n",
       "// Listen for the clearing of the current output cell\n",
       "var outputEl = gd.closest('.output');\n",
       "if (outputEl) {{\n",
       "    x.observe(outputEl, {childList: true});\n",
       "}}\n",
       "\n",
       "                        })                };                });            </script>        </div>"
      ]
     },
     "metadata": {},
     "output_type": "display_data"
    }
   ],
   "source": [
    "(df3['LMName']).value_counts().iplot(kind='bar',xTitle='age', yTitle='Number of Person')"
   ]
  },
  {
   "cell_type": "code",
   "execution_count": 49,
   "id": "19ed33f5",
   "metadata": {
    "scrolled": true
   },
   "outputs": [
    {
     "name": "stdout",
     "output_type": "stream",
     "text": [
      "(66, 41)\n"
     ]
    },
    {
     "data": {
      "text/html": [
       "<div>\n",
       "<style scoped>\n",
       "    .dataframe tbody tr th:only-of-type {\n",
       "        vertical-align: middle;\n",
       "    }\n",
       "\n",
       "    .dataframe tbody tr th {\n",
       "        vertical-align: top;\n",
       "    }\n",
       "\n",
       "    .dataframe thead th {\n",
       "        text-align: right;\n",
       "    }\n",
       "</style>\n",
       "<table border=\"1\" class=\"dataframe\">\n",
       "  <thead>\n",
       "    <tr style=\"text-align: right;\">\n",
       "      <th></th>\n",
       "      <th>id</th>\n",
       "      <th>cloan_disbursal_amount_x</th>\n",
       "      <th>cloan_service_charge_x</th>\n",
       "      <th>cloan_penalty_x</th>\n",
       "      <th>cloan_total_x</th>\n",
       "      <th>cloan_status_id</th>\n",
       "      <th>cloan_exhausted_days</th>\n",
       "      <th>user_status_id</th>\n",
       "      <th>accounts_manager_id</th>\n",
       "      <th>recovery_officer_id</th>\n",
       "      <th>gender</th>\n",
       "      <th>user_created_by</th>\n",
       "      <th>city</th>\n",
       "      <th>age</th>\n",
       "      <th>PERMANENT_PIN</th>\n",
       "      <th>present_pin</th>\n",
       "      <th>DEPARTMENT</th>\n",
       "      <th>DESIGNATION</th>\n",
       "      <th>proinfo_monthly_sal</th>\n",
       "      <th>INDUSTRY</th>\n",
       "      <th>proinfo_pincode</th>\n",
       "      <th>proinfo_city</th>\n",
       "      <th>capbility_status</th>\n",
       "      <th>user_survey_marital_status</th>\n",
       "      <th>customer_bank_name</th>\n",
       "      <th>customer_bank_ifsc_code</th>\n",
       "      <th>RMName</th>\n",
       "      <th>MaxPLoanAm</th>\n",
       "      <th>LMID</th>\n",
       "      <th>LMName</th>\n",
       "      <th>cloan_disbursal_amount_y</th>\n",
       "      <th>cloan_service_charge_y</th>\n",
       "      <th>cloan_penalty_y</th>\n",
       "      <th>cloan_total_y</th>\n",
       "      <th>cloan_amount</th>\n",
       "      <th>cloan_exhausted_days_avg</th>\n",
       "      <th>age_bins</th>\n",
       "      <th>salary_bins</th>\n",
       "      <th>loan_bins</th>\n",
       "      <th>department</th>\n",
       "      <th>designation</th>\n",
       "    </tr>\n",
       "  </thead>\n",
       "  <tbody>\n",
       "    <tr>\n",
       "      <th>1109</th>\n",
       "      <td>1105868</td>\n",
       "      <td>7497</td>\n",
       "      <td>2295</td>\n",
       "      <td>3500</td>\n",
       "      <td>14295</td>\n",
       "      <td>21.0</td>\n",
       "      <td>135.0</td>\n",
       "      <td>12</td>\n",
       "      <td>143</td>\n",
       "      <td>118.0</td>\n",
       "      <td>1.0</td>\n",
       "      <td>5</td>\n",
       "      <td>new delhi</td>\n",
       "      <td>39</td>\n",
       "      <td>110018</td>\n",
       "      <td>110018</td>\n",
       "      <td>in1ts</td>\n",
       "      <td>team leader</td>\n",
       "      <td>38881</td>\n",
       "      <td>software/it/ites/bpo</td>\n",
       "      <td>122016</td>\n",
       "      <td>Gurgaon</td>\n",
       "      <td>2</td>\n",
       "      <td>1.0</td>\n",
       "      <td>ICICI BANK</td>\n",
       "      <td>ICIC0000314</td>\n",
       "      <td>TripurariRai</td>\n",
       "      <td>8500</td>\n",
       "      <td>55.0</td>\n",
       "      <td>SarikaReddy</td>\n",
       "      <td>104958</td>\n",
       "      <td>32130</td>\n",
       "      <td>49000</td>\n",
       "      <td>200130</td>\n",
       "      <td>119000</td>\n",
       "      <td>135.0</td>\n",
       "      <td>[36-40]</td>\n",
       "      <td>[35k-40k]</td>\n",
       "      <td>[2k-10k]</td>\n",
       "      <td>Others</td>\n",
       "      <td>Team Lead</td>\n",
       "    </tr>\n",
       "    <tr>\n",
       "      <th>1347</th>\n",
       "      <td>1137674</td>\n",
       "      <td>6000</td>\n",
       "      <td>4500</td>\n",
       "      <td>12900</td>\n",
       "      <td>24108</td>\n",
       "      <td>21.0</td>\n",
       "      <td>370.0</td>\n",
       "      <td>12</td>\n",
       "      <td>129</td>\n",
       "      <td>118.0</td>\n",
       "      <td>1.0</td>\n",
       "      <td>5</td>\n",
       "      <td>vijayawada</td>\n",
       "      <td>27</td>\n",
       "      <td>523111</td>\n",
       "      <td>523111</td>\n",
       "      <td>it</td>\n",
       "      <td>senior cloud engineer</td>\n",
       "      <td>52621</td>\n",
       "      <td>software/it/ites/bpo</td>\n",
       "      <td>520010</td>\n",
       "      <td>Vijayawada</td>\n",
       "      <td>2</td>\n",
       "      <td>0.0</td>\n",
       "      <td>HDFC</td>\n",
       "      <td>HDFC0003739</td>\n",
       "      <td>Brundha</td>\n",
       "      <td>6000</td>\n",
       "      <td>21.0</td>\n",
       "      <td>Krishnandu</td>\n",
       "      <td>12000</td>\n",
       "      <td>9000</td>\n",
       "      <td>25800</td>\n",
       "      <td>48216</td>\n",
       "      <td>12000</td>\n",
       "      <td>370.0</td>\n",
       "      <td>[26-30]</td>\n",
       "      <td>[50k-55k]</td>\n",
       "      <td>[2k-10k]</td>\n",
       "      <td>IT</td>\n",
       "      <td>Engineer</td>\n",
       "    </tr>\n",
       "    <tr>\n",
       "      <th>1369</th>\n",
       "      <td>1140740</td>\n",
       "      <td>13000</td>\n",
       "      <td>5850</td>\n",
       "      <td>6700</td>\n",
       "      <td>27084</td>\n",
       "      <td>21.0</td>\n",
       "      <td>215.0</td>\n",
       "      <td>12</td>\n",
       "      <td>132</td>\n",
       "      <td>140.0</td>\n",
       "      <td>1.0</td>\n",
       "      <td>5</td>\n",
       "      <td>bangalore</td>\n",
       "      <td>30</td>\n",
       "      <td>517237</td>\n",
       "      <td>560076</td>\n",
       "      <td>regulatory affairs</td>\n",
       "      <td>business process lead</td>\n",
       "      <td>45000</td>\n",
       "      <td>others</td>\n",
       "      <td>560066</td>\n",
       "      <td>Bangalore</td>\n",
       "      <td>2</td>\n",
       "      <td>0.0</td>\n",
       "      <td>STANDARD CHARTERED BANK</td>\n",
       "      <td>SCBL0036074</td>\n",
       "      <td>Jagjit</td>\n",
       "      <td>13000</td>\n",
       "      <td>21.0</td>\n",
       "      <td>Krishnandu</td>\n",
       "      <td>52000</td>\n",
       "      <td>23400</td>\n",
       "      <td>26800</td>\n",
       "      <td>108336</td>\n",
       "      <td>52000</td>\n",
       "      <td>215.0</td>\n",
       "      <td>[26-30]</td>\n",
       "      <td>[40k-45k]</td>\n",
       "      <td>[12.5k-13k]</td>\n",
       "      <td>Others</td>\n",
       "      <td>Team Lead</td>\n",
       "    </tr>\n",
       "    <tr>\n",
       "      <th>1499</th>\n",
       "      <td>1163635</td>\n",
       "      <td>13500</td>\n",
       "      <td>2540</td>\n",
       "      <td>5740</td>\n",
       "      <td>23373</td>\n",
       "      <td>21.0</td>\n",
       "      <td>333.5</td>\n",
       "      <td>12</td>\n",
       "      <td>110</td>\n",
       "      <td>118.0</td>\n",
       "      <td>1.0</td>\n",
       "      <td>5</td>\n",
       "      <td>loni</td>\n",
       "      <td>34</td>\n",
       "      <td>201102</td>\n",
       "      <td>201102</td>\n",
       "      <td>stores &amp; purchase</td>\n",
       "      <td>assistant manager</td>\n",
       "      <td>44000</td>\n",
       "      <td>construction,real estate and infrastructure</td>\n",
       "      <td>110053</td>\n",
       "      <td>New Delhi</td>\n",
       "      <td>2</td>\n",
       "      <td>1.0</td>\n",
       "      <td>AXIS BANK</td>\n",
       "      <td>UTIB0000462</td>\n",
       "      <td>SashiRekha</td>\n",
       "      <td>8500</td>\n",
       "      <td>93.0</td>\n",
       "      <td>Karunakar</td>\n",
       "      <td>40500</td>\n",
       "      <td>7620</td>\n",
       "      <td>17220</td>\n",
       "      <td>70119</td>\n",
       "      <td>40500</td>\n",
       "      <td>333.5</td>\n",
       "      <td>[31-35]</td>\n",
       "      <td>[40k-45k]</td>\n",
       "      <td>[13k-13.5k]</td>\n",
       "      <td>Others</td>\n",
       "      <td>Manager</td>\n",
       "    </tr>\n",
       "    <tr>\n",
       "      <th>1501</th>\n",
       "      <td>1164188</td>\n",
       "      <td>10584</td>\n",
       "      <td>2520</td>\n",
       "      <td>2540</td>\n",
       "      <td>17060</td>\n",
       "      <td>21.0</td>\n",
       "      <td>111.0</td>\n",
       "      <td>12</td>\n",
       "      <td>129</td>\n",
       "      <td>NaN</td>\n",
       "      <td>1.0</td>\n",
       "      <td>5</td>\n",
       "      <td>tadpatri</td>\n",
       "      <td>26</td>\n",
       "      <td>515408</td>\n",
       "      <td>515408</td>\n",
       "      <td>finance</td>\n",
       "      <td>opeartions accountant</td>\n",
       "      <td>60804</td>\n",
       "      <td>banking and financial services</td>\n",
       "      <td>560103</td>\n",
       "      <td>Bangalore</td>\n",
       "      <td>2</td>\n",
       "      <td>0.0</td>\n",
       "      <td>KOTAK MAHINDRA BANK</td>\n",
       "      <td>KKBK0007456</td>\n",
       "      <td>Brundha</td>\n",
       "      <td>15000</td>\n",
       "      <td>93.0</td>\n",
       "      <td>Karunakar</td>\n",
       "      <td>95256</td>\n",
       "      <td>22680</td>\n",
       "      <td>22860</td>\n",
       "      <td>153540</td>\n",
       "      <td>108000</td>\n",
       "      <td>111.0</td>\n",
       "      <td>[26-30]</td>\n",
       "      <td>[60k-65k]</td>\n",
       "      <td>[10.5k-11k]</td>\n",
       "      <td>Finance</td>\n",
       "      <td>NaN</td>\n",
       "    </tr>\n",
       "  </tbody>\n",
       "</table>\n",
       "</div>"
      ],
      "text/plain": [
       "           id  cloan_disbursal_amount_x  cloan_service_charge_x  \\\n",
       "1109  1105868                      7497                    2295   \n",
       "1347  1137674                      6000                    4500   \n",
       "1369  1140740                     13000                    5850   \n",
       "1499  1163635                     13500                    2540   \n",
       "1501  1164188                     10584                    2520   \n",
       "\n",
       "      cloan_penalty_x  cloan_total_x  cloan_status_id  cloan_exhausted_days  \\\n",
       "1109             3500          14295             21.0                 135.0   \n",
       "1347            12900          24108             21.0                 370.0   \n",
       "1369             6700          27084             21.0                 215.0   \n",
       "1499             5740          23373             21.0                 333.5   \n",
       "1501             2540          17060             21.0                 111.0   \n",
       "\n",
       "      user_status_id  accounts_manager_id  recovery_officer_id  gender  \\\n",
       "1109              12                  143                118.0     1.0   \n",
       "1347              12                  129                118.0     1.0   \n",
       "1369              12                  132                140.0     1.0   \n",
       "1499              12                  110                118.0     1.0   \n",
       "1501              12                  129                  NaN     1.0   \n",
       "\n",
       "      user_created_by        city  age PERMANENT_PIN present_pin  \\\n",
       "1109                5   new delhi   39        110018      110018   \n",
       "1347                5  vijayawada   27        523111      523111   \n",
       "1369                5   bangalore   30        517237      560076   \n",
       "1499                5        loni   34        201102      201102   \n",
       "1501                5    tadpatri   26        515408      515408   \n",
       "\n",
       "              DEPARTMENT            DESIGNATION  proinfo_monthly_sal  \\\n",
       "1109               in1ts            team leader                38881   \n",
       "1347                  it  senior cloud engineer                52621   \n",
       "1369  regulatory affairs  business process lead                45000   \n",
       "1499   stores & purchase      assistant manager                44000   \n",
       "1501             finance  opeartions accountant                60804   \n",
       "\n",
       "                                         INDUSTRY proinfo_pincode  \\\n",
       "1109                         software/it/ites/bpo          122016   \n",
       "1347                         software/it/ites/bpo          520010   \n",
       "1369                                       others          560066   \n",
       "1499  construction,real estate and infrastructure          110053   \n",
       "1501               banking and financial services          560103   \n",
       "\n",
       "     proinfo_city  capbility_status  user_survey_marital_status  \\\n",
       "1109      Gurgaon                 2                         1.0   \n",
       "1347   Vijayawada                 2                         0.0   \n",
       "1369    Bangalore                 2                         0.0   \n",
       "1499    New Delhi                 2                         1.0   \n",
       "1501    Bangalore                 2                         0.0   \n",
       "\n",
       "           customer_bank_name customer_bank_ifsc_code        RMName  \\\n",
       "1109               ICICI BANK             ICIC0000314  TripurariRai   \n",
       "1347                     HDFC             HDFC0003739       Brundha   \n",
       "1369  STANDARD CHARTERED BANK             SCBL0036074        Jagjit   \n",
       "1499                AXIS BANK             UTIB0000462    SashiRekha   \n",
       "1501      KOTAK MAHINDRA BANK             KKBK0007456       Brundha   \n",
       "\n",
       "      MaxPLoanAm  LMID       LMName  cloan_disbursal_amount_y  \\\n",
       "1109        8500  55.0  SarikaReddy                    104958   \n",
       "1347        6000  21.0   Krishnandu                     12000   \n",
       "1369       13000  21.0   Krishnandu                     52000   \n",
       "1499        8500  93.0    Karunakar                     40500   \n",
       "1501       15000  93.0    Karunakar                     95256   \n",
       "\n",
       "      cloan_service_charge_y  cloan_penalty_y  cloan_total_y  cloan_amount  \\\n",
       "1109                   32130            49000         200130        119000   \n",
       "1347                    9000            25800          48216         12000   \n",
       "1369                   23400            26800         108336         52000   \n",
       "1499                    7620            17220          70119         40500   \n",
       "1501                   22680            22860         153540        108000   \n",
       "\n",
       "      cloan_exhausted_days_avg age_bins salary_bins    loan_bins department  \\\n",
       "1109                     135.0  [36-40]   [35k-40k]     [2k-10k]     Others   \n",
       "1347                     370.0  [26-30]   [50k-55k]     [2k-10k]         IT   \n",
       "1369                     215.0  [26-30]   [40k-45k]  [12.5k-13k]     Others   \n",
       "1499                     333.5  [31-35]   [40k-45k]  [13k-13.5k]     Others   \n",
       "1501                     111.0  [26-30]   [60k-65k]  [10.5k-11k]    Finance   \n",
       "\n",
       "     designation  \n",
       "1109   Team Lead  \n",
       "1347    Engineer  \n",
       "1369   Team Lead  \n",
       "1499     Manager  \n",
       "1501         NaN  "
      ]
     },
     "execution_count": 49,
     "metadata": {},
     "output_type": "execute_result"
    }
   ],
   "source": [
    "df_c2 = df3[df3['capbility_status'] ==2]\n",
    "print(df_c2.shape)\n",
    "df_c2.head()"
   ]
  },
  {
   "cell_type": "code",
   "execution_count": 50,
   "id": "3ae9d67c",
   "metadata": {},
   "outputs": [
    {
     "data": {
      "application/vnd.plotly.v1+json": {
       "config": {
        "linkText": "Export to plot.ly",
        "plotlyServerURL": "https://plot.ly",
        "showLink": true
       },
       "data": [
        {
         "marker": {
          "color": "rgba(255, 153, 51, 0.6)",
          "line": {
           "color": "rgba(255, 153, 51, 1.0)",
           "width": 1
          }
         },
         "name": "LMName",
         "orientation": "v",
         "text": "",
         "type": "bar",
         "x": [
          "Karunakar",
          "SarikaReddy",
          "Naseeruddin",
          "Krishnandu",
          "Shireesha",
          "MaheshSyreddy",
          "Srikanth",
          "Bijayani",
          "Pranay"
         ],
         "y": [
          32,
          10,
          9,
          8,
          1,
          1,
          1,
          1,
          1
         ]
        }
       ],
       "layout": {
        "legend": {
         "bgcolor": "#F5F6F9",
         "font": {
          "color": "#4D5663"
         }
        },
        "paper_bgcolor": "#F5F6F9",
        "plot_bgcolor": "#F5F6F9",
        "template": {
         "data": {
          "bar": [
           {
            "error_x": {
             "color": "#2a3f5f"
            },
            "error_y": {
             "color": "#2a3f5f"
            },
            "marker": {
             "line": {
              "color": "#E5ECF6",
              "width": 0.5
             },
             "pattern": {
              "fillmode": "overlay",
              "size": 10,
              "solidity": 0.2
             }
            },
            "type": "bar"
           }
          ],
          "barpolar": [
           {
            "marker": {
             "line": {
              "color": "#E5ECF6",
              "width": 0.5
             },
             "pattern": {
              "fillmode": "overlay",
              "size": 10,
              "solidity": 0.2
             }
            },
            "type": "barpolar"
           }
          ],
          "carpet": [
           {
            "aaxis": {
             "endlinecolor": "#2a3f5f",
             "gridcolor": "white",
             "linecolor": "white",
             "minorgridcolor": "white",
             "startlinecolor": "#2a3f5f"
            },
            "baxis": {
             "endlinecolor": "#2a3f5f",
             "gridcolor": "white",
             "linecolor": "white",
             "minorgridcolor": "white",
             "startlinecolor": "#2a3f5f"
            },
            "type": "carpet"
           }
          ],
          "choropleth": [
           {
            "colorbar": {
             "outlinewidth": 0,
             "ticks": ""
            },
            "type": "choropleth"
           }
          ],
          "contour": [
           {
            "colorbar": {
             "outlinewidth": 0,
             "ticks": ""
            },
            "colorscale": [
             [
              0,
              "#0d0887"
             ],
             [
              0.1111111111111111,
              "#46039f"
             ],
             [
              0.2222222222222222,
              "#7201a8"
             ],
             [
              0.3333333333333333,
              "#9c179e"
             ],
             [
              0.4444444444444444,
              "#bd3786"
             ],
             [
              0.5555555555555556,
              "#d8576b"
             ],
             [
              0.6666666666666666,
              "#ed7953"
             ],
             [
              0.7777777777777778,
              "#fb9f3a"
             ],
             [
              0.8888888888888888,
              "#fdca26"
             ],
             [
              1,
              "#f0f921"
             ]
            ],
            "type": "contour"
           }
          ],
          "contourcarpet": [
           {
            "colorbar": {
             "outlinewidth": 0,
             "ticks": ""
            },
            "type": "contourcarpet"
           }
          ],
          "heatmap": [
           {
            "colorbar": {
             "outlinewidth": 0,
             "ticks": ""
            },
            "colorscale": [
             [
              0,
              "#0d0887"
             ],
             [
              0.1111111111111111,
              "#46039f"
             ],
             [
              0.2222222222222222,
              "#7201a8"
             ],
             [
              0.3333333333333333,
              "#9c179e"
             ],
             [
              0.4444444444444444,
              "#bd3786"
             ],
             [
              0.5555555555555556,
              "#d8576b"
             ],
             [
              0.6666666666666666,
              "#ed7953"
             ],
             [
              0.7777777777777778,
              "#fb9f3a"
             ],
             [
              0.8888888888888888,
              "#fdca26"
             ],
             [
              1,
              "#f0f921"
             ]
            ],
            "type": "heatmap"
           }
          ],
          "heatmapgl": [
           {
            "colorbar": {
             "outlinewidth": 0,
             "ticks": ""
            },
            "colorscale": [
             [
              0,
              "#0d0887"
             ],
             [
              0.1111111111111111,
              "#46039f"
             ],
             [
              0.2222222222222222,
              "#7201a8"
             ],
             [
              0.3333333333333333,
              "#9c179e"
             ],
             [
              0.4444444444444444,
              "#bd3786"
             ],
             [
              0.5555555555555556,
              "#d8576b"
             ],
             [
              0.6666666666666666,
              "#ed7953"
             ],
             [
              0.7777777777777778,
              "#fb9f3a"
             ],
             [
              0.8888888888888888,
              "#fdca26"
             ],
             [
              1,
              "#f0f921"
             ]
            ],
            "type": "heatmapgl"
           }
          ],
          "histogram": [
           {
            "marker": {
             "pattern": {
              "fillmode": "overlay",
              "size": 10,
              "solidity": 0.2
             }
            },
            "type": "histogram"
           }
          ],
          "histogram2d": [
           {
            "colorbar": {
             "outlinewidth": 0,
             "ticks": ""
            },
            "colorscale": [
             [
              0,
              "#0d0887"
             ],
             [
              0.1111111111111111,
              "#46039f"
             ],
             [
              0.2222222222222222,
              "#7201a8"
             ],
             [
              0.3333333333333333,
              "#9c179e"
             ],
             [
              0.4444444444444444,
              "#bd3786"
             ],
             [
              0.5555555555555556,
              "#d8576b"
             ],
             [
              0.6666666666666666,
              "#ed7953"
             ],
             [
              0.7777777777777778,
              "#fb9f3a"
             ],
             [
              0.8888888888888888,
              "#fdca26"
             ],
             [
              1,
              "#f0f921"
             ]
            ],
            "type": "histogram2d"
           }
          ],
          "histogram2dcontour": [
           {
            "colorbar": {
             "outlinewidth": 0,
             "ticks": ""
            },
            "colorscale": [
             [
              0,
              "#0d0887"
             ],
             [
              0.1111111111111111,
              "#46039f"
             ],
             [
              0.2222222222222222,
              "#7201a8"
             ],
             [
              0.3333333333333333,
              "#9c179e"
             ],
             [
              0.4444444444444444,
              "#bd3786"
             ],
             [
              0.5555555555555556,
              "#d8576b"
             ],
             [
              0.6666666666666666,
              "#ed7953"
             ],
             [
              0.7777777777777778,
              "#fb9f3a"
             ],
             [
              0.8888888888888888,
              "#fdca26"
             ],
             [
              1,
              "#f0f921"
             ]
            ],
            "type": "histogram2dcontour"
           }
          ],
          "mesh3d": [
           {
            "colorbar": {
             "outlinewidth": 0,
             "ticks": ""
            },
            "type": "mesh3d"
           }
          ],
          "parcoords": [
           {
            "line": {
             "colorbar": {
              "outlinewidth": 0,
              "ticks": ""
             }
            },
            "type": "parcoords"
           }
          ],
          "pie": [
           {
            "automargin": true,
            "type": "pie"
           }
          ],
          "scatter": [
           {
            "marker": {
             "colorbar": {
              "outlinewidth": 0,
              "ticks": ""
             }
            },
            "type": "scatter"
           }
          ],
          "scatter3d": [
           {
            "line": {
             "colorbar": {
              "outlinewidth": 0,
              "ticks": ""
             }
            },
            "marker": {
             "colorbar": {
              "outlinewidth": 0,
              "ticks": ""
             }
            },
            "type": "scatter3d"
           }
          ],
          "scattercarpet": [
           {
            "marker": {
             "colorbar": {
              "outlinewidth": 0,
              "ticks": ""
             }
            },
            "type": "scattercarpet"
           }
          ],
          "scattergeo": [
           {
            "marker": {
             "colorbar": {
              "outlinewidth": 0,
              "ticks": ""
             }
            },
            "type": "scattergeo"
           }
          ],
          "scattergl": [
           {
            "marker": {
             "colorbar": {
              "outlinewidth": 0,
              "ticks": ""
             }
            },
            "type": "scattergl"
           }
          ],
          "scattermapbox": [
           {
            "marker": {
             "colorbar": {
              "outlinewidth": 0,
              "ticks": ""
             }
            },
            "type": "scattermapbox"
           }
          ],
          "scatterpolar": [
           {
            "marker": {
             "colorbar": {
              "outlinewidth": 0,
              "ticks": ""
             }
            },
            "type": "scatterpolar"
           }
          ],
          "scatterpolargl": [
           {
            "marker": {
             "colorbar": {
              "outlinewidth": 0,
              "ticks": ""
             }
            },
            "type": "scatterpolargl"
           }
          ],
          "scatterternary": [
           {
            "marker": {
             "colorbar": {
              "outlinewidth": 0,
              "ticks": ""
             }
            },
            "type": "scatterternary"
           }
          ],
          "surface": [
           {
            "colorbar": {
             "outlinewidth": 0,
             "ticks": ""
            },
            "colorscale": [
             [
              0,
              "#0d0887"
             ],
             [
              0.1111111111111111,
              "#46039f"
             ],
             [
              0.2222222222222222,
              "#7201a8"
             ],
             [
              0.3333333333333333,
              "#9c179e"
             ],
             [
              0.4444444444444444,
              "#bd3786"
             ],
             [
              0.5555555555555556,
              "#d8576b"
             ],
             [
              0.6666666666666666,
              "#ed7953"
             ],
             [
              0.7777777777777778,
              "#fb9f3a"
             ],
             [
              0.8888888888888888,
              "#fdca26"
             ],
             [
              1,
              "#f0f921"
             ]
            ],
            "type": "surface"
           }
          ],
          "table": [
           {
            "cells": {
             "fill": {
              "color": "#EBF0F8"
             },
             "line": {
              "color": "white"
             }
            },
            "header": {
             "fill": {
              "color": "#C8D4E3"
             },
             "line": {
              "color": "white"
             }
            },
            "type": "table"
           }
          ]
         },
         "layout": {
          "annotationdefaults": {
           "arrowcolor": "#2a3f5f",
           "arrowhead": 0,
           "arrowwidth": 1
          },
          "autotypenumbers": "strict",
          "coloraxis": {
           "colorbar": {
            "outlinewidth": 0,
            "ticks": ""
           }
          },
          "colorscale": {
           "diverging": [
            [
             0,
             "#8e0152"
            ],
            [
             0.1,
             "#c51b7d"
            ],
            [
             0.2,
             "#de77ae"
            ],
            [
             0.3,
             "#f1b6da"
            ],
            [
             0.4,
             "#fde0ef"
            ],
            [
             0.5,
             "#f7f7f7"
            ],
            [
             0.6,
             "#e6f5d0"
            ],
            [
             0.7,
             "#b8e186"
            ],
            [
             0.8,
             "#7fbc41"
            ],
            [
             0.9,
             "#4d9221"
            ],
            [
             1,
             "#276419"
            ]
           ],
           "sequential": [
            [
             0,
             "#0d0887"
            ],
            [
             0.1111111111111111,
             "#46039f"
            ],
            [
             0.2222222222222222,
             "#7201a8"
            ],
            [
             0.3333333333333333,
             "#9c179e"
            ],
            [
             0.4444444444444444,
             "#bd3786"
            ],
            [
             0.5555555555555556,
             "#d8576b"
            ],
            [
             0.6666666666666666,
             "#ed7953"
            ],
            [
             0.7777777777777778,
             "#fb9f3a"
            ],
            [
             0.8888888888888888,
             "#fdca26"
            ],
            [
             1,
             "#f0f921"
            ]
           ],
           "sequentialminus": [
            [
             0,
             "#0d0887"
            ],
            [
             0.1111111111111111,
             "#46039f"
            ],
            [
             0.2222222222222222,
             "#7201a8"
            ],
            [
             0.3333333333333333,
             "#9c179e"
            ],
            [
             0.4444444444444444,
             "#bd3786"
            ],
            [
             0.5555555555555556,
             "#d8576b"
            ],
            [
             0.6666666666666666,
             "#ed7953"
            ],
            [
             0.7777777777777778,
             "#fb9f3a"
            ],
            [
             0.8888888888888888,
             "#fdca26"
            ],
            [
             1,
             "#f0f921"
            ]
           ]
          },
          "colorway": [
           "#636efa",
           "#EF553B",
           "#00cc96",
           "#ab63fa",
           "#FFA15A",
           "#19d3f3",
           "#FF6692",
           "#B6E880",
           "#FF97FF",
           "#FECB52"
          ],
          "font": {
           "color": "#2a3f5f"
          },
          "geo": {
           "bgcolor": "white",
           "lakecolor": "white",
           "landcolor": "#E5ECF6",
           "showlakes": true,
           "showland": true,
           "subunitcolor": "white"
          },
          "hoverlabel": {
           "align": "left"
          },
          "hovermode": "closest",
          "mapbox": {
           "style": "light"
          },
          "paper_bgcolor": "white",
          "plot_bgcolor": "#E5ECF6",
          "polar": {
           "angularaxis": {
            "gridcolor": "white",
            "linecolor": "white",
            "ticks": ""
           },
           "bgcolor": "#E5ECF6",
           "radialaxis": {
            "gridcolor": "white",
            "linecolor": "white",
            "ticks": ""
           }
          },
          "scene": {
           "xaxis": {
            "backgroundcolor": "#E5ECF6",
            "gridcolor": "white",
            "gridwidth": 2,
            "linecolor": "white",
            "showbackground": true,
            "ticks": "",
            "zerolinecolor": "white"
           },
           "yaxis": {
            "backgroundcolor": "#E5ECF6",
            "gridcolor": "white",
            "gridwidth": 2,
            "linecolor": "white",
            "showbackground": true,
            "ticks": "",
            "zerolinecolor": "white"
           },
           "zaxis": {
            "backgroundcolor": "#E5ECF6",
            "gridcolor": "white",
            "gridwidth": 2,
            "linecolor": "white",
            "showbackground": true,
            "ticks": "",
            "zerolinecolor": "white"
           }
          },
          "shapedefaults": {
           "line": {
            "color": "#2a3f5f"
           }
          },
          "ternary": {
           "aaxis": {
            "gridcolor": "white",
            "linecolor": "white",
            "ticks": ""
           },
           "baxis": {
            "gridcolor": "white",
            "linecolor": "white",
            "ticks": ""
           },
           "bgcolor": "#E5ECF6",
           "caxis": {
            "gridcolor": "white",
            "linecolor": "white",
            "ticks": ""
           }
          },
          "title": {
           "x": 0.05
          },
          "xaxis": {
           "automargin": true,
           "gridcolor": "white",
           "linecolor": "white",
           "ticks": "",
           "title": {
            "standoff": 15
           },
           "zerolinecolor": "white",
           "zerolinewidth": 2
          },
          "yaxis": {
           "automargin": true,
           "gridcolor": "white",
           "linecolor": "white",
           "ticks": "",
           "title": {
            "standoff": 15
           },
           "zerolinecolor": "white",
           "zerolinewidth": 2
          }
         }
        },
        "title": {
         "font": {
          "color": "#4D5663"
         }
        },
        "xaxis": {
         "gridcolor": "#E1E5ED",
         "showgrid": true,
         "tickfont": {
          "color": "#4D5663"
         },
         "title": {
          "font": {
           "color": "#4D5663"
          },
          "text": "age"
         },
         "zerolinecolor": "#E1E5ED"
        },
        "yaxis": {
         "gridcolor": "#E1E5ED",
         "showgrid": true,
         "tickfont": {
          "color": "#4D5663"
         },
         "title": {
          "font": {
           "color": "#4D5663"
          },
          "text": "Number of Person"
         },
         "zerolinecolor": "#E1E5ED"
        }
       }
      },
      "text/html": [
       "<div>                            <div id=\"d5eb42b8-36de-4835-8915-afc0dec002c9\" class=\"plotly-graph-div\" style=\"height:525px; width:100%;\"></div>            <script type=\"text/javascript\">                require([\"plotly\"], function(Plotly) {                    window.PLOTLYENV=window.PLOTLYENV || {};\n",
       "                    window.PLOTLYENV.BASE_URL='https://plot.ly';                                    if (document.getElementById(\"d5eb42b8-36de-4835-8915-afc0dec002c9\")) {                    Plotly.newPlot(                        \"d5eb42b8-36de-4835-8915-afc0dec002c9\",                        [{\"marker\":{\"color\":\"rgba(255, 153, 51, 0.6)\",\"line\":{\"color\":\"rgba(255, 153, 51, 1.0)\",\"width\":1}},\"name\":\"LMName\",\"orientation\":\"v\",\"text\":\"\",\"x\":[\"Karunakar\",\"SarikaReddy\",\"Naseeruddin\",\"Krishnandu\",\"Shireesha\",\"MaheshSyreddy\",\"Srikanth\",\"Bijayani\",\"Pranay\"],\"y\":[32,10,9,8,1,1,1,1,1],\"type\":\"bar\"}],                        {\"legend\":{\"bgcolor\":\"#F5F6F9\",\"font\":{\"color\":\"#4D5663\"}},\"paper_bgcolor\":\"#F5F6F9\",\"plot_bgcolor\":\"#F5F6F9\",\"template\":{\"data\":{\"barpolar\":[{\"marker\":{\"line\":{\"color\":\"#E5ECF6\",\"width\":0.5},\"pattern\":{\"fillmode\":\"overlay\",\"size\":10,\"solidity\":0.2}},\"type\":\"barpolar\"}],\"bar\":[{\"error_x\":{\"color\":\"#2a3f5f\"},\"error_y\":{\"color\":\"#2a3f5f\"},\"marker\":{\"line\":{\"color\":\"#E5ECF6\",\"width\":0.5},\"pattern\":{\"fillmode\":\"overlay\",\"size\":10,\"solidity\":0.2}},\"type\":\"bar\"}],\"carpet\":[{\"aaxis\":{\"endlinecolor\":\"#2a3f5f\",\"gridcolor\":\"white\",\"linecolor\":\"white\",\"minorgridcolor\":\"white\",\"startlinecolor\":\"#2a3f5f\"},\"baxis\":{\"endlinecolor\":\"#2a3f5f\",\"gridcolor\":\"white\",\"linecolor\":\"white\",\"minorgridcolor\":\"white\",\"startlinecolor\":\"#2a3f5f\"},\"type\":\"carpet\"}],\"choropleth\":[{\"colorbar\":{\"outlinewidth\":0,\"ticks\":\"\"},\"type\":\"choropleth\"}],\"contourcarpet\":[{\"colorbar\":{\"outlinewidth\":0,\"ticks\":\"\"},\"type\":\"contourcarpet\"}],\"contour\":[{\"colorbar\":{\"outlinewidth\":0,\"ticks\":\"\"},\"colorscale\":[[0.0,\"#0d0887\"],[0.1111111111111111,\"#46039f\"],[0.2222222222222222,\"#7201a8\"],[0.3333333333333333,\"#9c179e\"],[0.4444444444444444,\"#bd3786\"],[0.5555555555555556,\"#d8576b\"],[0.6666666666666666,\"#ed7953\"],[0.7777777777777778,\"#fb9f3a\"],[0.8888888888888888,\"#fdca26\"],[1.0,\"#f0f921\"]],\"type\":\"contour\"}],\"heatmapgl\":[{\"colorbar\":{\"outlinewidth\":0,\"ticks\":\"\"},\"colorscale\":[[0.0,\"#0d0887\"],[0.1111111111111111,\"#46039f\"],[0.2222222222222222,\"#7201a8\"],[0.3333333333333333,\"#9c179e\"],[0.4444444444444444,\"#bd3786\"],[0.5555555555555556,\"#d8576b\"],[0.6666666666666666,\"#ed7953\"],[0.7777777777777778,\"#fb9f3a\"],[0.8888888888888888,\"#fdca26\"],[1.0,\"#f0f921\"]],\"type\":\"heatmapgl\"}],\"heatmap\":[{\"colorbar\":{\"outlinewidth\":0,\"ticks\":\"\"},\"colorscale\":[[0.0,\"#0d0887\"],[0.1111111111111111,\"#46039f\"],[0.2222222222222222,\"#7201a8\"],[0.3333333333333333,\"#9c179e\"],[0.4444444444444444,\"#bd3786\"],[0.5555555555555556,\"#d8576b\"],[0.6666666666666666,\"#ed7953\"],[0.7777777777777778,\"#fb9f3a\"],[0.8888888888888888,\"#fdca26\"],[1.0,\"#f0f921\"]],\"type\":\"heatmap\"}],\"histogram2dcontour\":[{\"colorbar\":{\"outlinewidth\":0,\"ticks\":\"\"},\"colorscale\":[[0.0,\"#0d0887\"],[0.1111111111111111,\"#46039f\"],[0.2222222222222222,\"#7201a8\"],[0.3333333333333333,\"#9c179e\"],[0.4444444444444444,\"#bd3786\"],[0.5555555555555556,\"#d8576b\"],[0.6666666666666666,\"#ed7953\"],[0.7777777777777778,\"#fb9f3a\"],[0.8888888888888888,\"#fdca26\"],[1.0,\"#f0f921\"]],\"type\":\"histogram2dcontour\"}],\"histogram2d\":[{\"colorbar\":{\"outlinewidth\":0,\"ticks\":\"\"},\"colorscale\":[[0.0,\"#0d0887\"],[0.1111111111111111,\"#46039f\"],[0.2222222222222222,\"#7201a8\"],[0.3333333333333333,\"#9c179e\"],[0.4444444444444444,\"#bd3786\"],[0.5555555555555556,\"#d8576b\"],[0.6666666666666666,\"#ed7953\"],[0.7777777777777778,\"#fb9f3a\"],[0.8888888888888888,\"#fdca26\"],[1.0,\"#f0f921\"]],\"type\":\"histogram2d\"}],\"histogram\":[{\"marker\":{\"pattern\":{\"fillmode\":\"overlay\",\"size\":10,\"solidity\":0.2}},\"type\":\"histogram\"}],\"mesh3d\":[{\"colorbar\":{\"outlinewidth\":0,\"ticks\":\"\"},\"type\":\"mesh3d\"}],\"parcoords\":[{\"line\":{\"colorbar\":{\"outlinewidth\":0,\"ticks\":\"\"}},\"type\":\"parcoords\"}],\"pie\":[{\"automargin\":true,\"type\":\"pie\"}],\"scatter3d\":[{\"line\":{\"colorbar\":{\"outlinewidth\":0,\"ticks\":\"\"}},\"marker\":{\"colorbar\":{\"outlinewidth\":0,\"ticks\":\"\"}},\"type\":\"scatter3d\"}],\"scattercarpet\":[{\"marker\":{\"colorbar\":{\"outlinewidth\":0,\"ticks\":\"\"}},\"type\":\"scattercarpet\"}],\"scattergeo\":[{\"marker\":{\"colorbar\":{\"outlinewidth\":0,\"ticks\":\"\"}},\"type\":\"scattergeo\"}],\"scattergl\":[{\"marker\":{\"colorbar\":{\"outlinewidth\":0,\"ticks\":\"\"}},\"type\":\"scattergl\"}],\"scattermapbox\":[{\"marker\":{\"colorbar\":{\"outlinewidth\":0,\"ticks\":\"\"}},\"type\":\"scattermapbox\"}],\"scatterpolargl\":[{\"marker\":{\"colorbar\":{\"outlinewidth\":0,\"ticks\":\"\"}},\"type\":\"scatterpolargl\"}],\"scatterpolar\":[{\"marker\":{\"colorbar\":{\"outlinewidth\":0,\"ticks\":\"\"}},\"type\":\"scatterpolar\"}],\"scatter\":[{\"marker\":{\"colorbar\":{\"outlinewidth\":0,\"ticks\":\"\"}},\"type\":\"scatter\"}],\"scatterternary\":[{\"marker\":{\"colorbar\":{\"outlinewidth\":0,\"ticks\":\"\"}},\"type\":\"scatterternary\"}],\"surface\":[{\"colorbar\":{\"outlinewidth\":0,\"ticks\":\"\"},\"colorscale\":[[0.0,\"#0d0887\"],[0.1111111111111111,\"#46039f\"],[0.2222222222222222,\"#7201a8\"],[0.3333333333333333,\"#9c179e\"],[0.4444444444444444,\"#bd3786\"],[0.5555555555555556,\"#d8576b\"],[0.6666666666666666,\"#ed7953\"],[0.7777777777777778,\"#fb9f3a\"],[0.8888888888888888,\"#fdca26\"],[1.0,\"#f0f921\"]],\"type\":\"surface\"}],\"table\":[{\"cells\":{\"fill\":{\"color\":\"#EBF0F8\"},\"line\":{\"color\":\"white\"}},\"header\":{\"fill\":{\"color\":\"#C8D4E3\"},\"line\":{\"color\":\"white\"}},\"type\":\"table\"}]},\"layout\":{\"annotationdefaults\":{\"arrowcolor\":\"#2a3f5f\",\"arrowhead\":0,\"arrowwidth\":1},\"autotypenumbers\":\"strict\",\"coloraxis\":{\"colorbar\":{\"outlinewidth\":0,\"ticks\":\"\"}},\"colorscale\":{\"diverging\":[[0,\"#8e0152\"],[0.1,\"#c51b7d\"],[0.2,\"#de77ae\"],[0.3,\"#f1b6da\"],[0.4,\"#fde0ef\"],[0.5,\"#f7f7f7\"],[0.6,\"#e6f5d0\"],[0.7,\"#b8e186\"],[0.8,\"#7fbc41\"],[0.9,\"#4d9221\"],[1,\"#276419\"]],\"sequential\":[[0.0,\"#0d0887\"],[0.1111111111111111,\"#46039f\"],[0.2222222222222222,\"#7201a8\"],[0.3333333333333333,\"#9c179e\"],[0.4444444444444444,\"#bd3786\"],[0.5555555555555556,\"#d8576b\"],[0.6666666666666666,\"#ed7953\"],[0.7777777777777778,\"#fb9f3a\"],[0.8888888888888888,\"#fdca26\"],[1.0,\"#f0f921\"]],\"sequentialminus\":[[0.0,\"#0d0887\"],[0.1111111111111111,\"#46039f\"],[0.2222222222222222,\"#7201a8\"],[0.3333333333333333,\"#9c179e\"],[0.4444444444444444,\"#bd3786\"],[0.5555555555555556,\"#d8576b\"],[0.6666666666666666,\"#ed7953\"],[0.7777777777777778,\"#fb9f3a\"],[0.8888888888888888,\"#fdca26\"],[1.0,\"#f0f921\"]]},\"colorway\":[\"#636efa\",\"#EF553B\",\"#00cc96\",\"#ab63fa\",\"#FFA15A\",\"#19d3f3\",\"#FF6692\",\"#B6E880\",\"#FF97FF\",\"#FECB52\"],\"font\":{\"color\":\"#2a3f5f\"},\"geo\":{\"bgcolor\":\"white\",\"lakecolor\":\"white\",\"landcolor\":\"#E5ECF6\",\"showlakes\":true,\"showland\":true,\"subunitcolor\":\"white\"},\"hoverlabel\":{\"align\":\"left\"},\"hovermode\":\"closest\",\"mapbox\":{\"style\":\"light\"},\"paper_bgcolor\":\"white\",\"plot_bgcolor\":\"#E5ECF6\",\"polar\":{\"angularaxis\":{\"gridcolor\":\"white\",\"linecolor\":\"white\",\"ticks\":\"\"},\"bgcolor\":\"#E5ECF6\",\"radialaxis\":{\"gridcolor\":\"white\",\"linecolor\":\"white\",\"ticks\":\"\"}},\"scene\":{\"xaxis\":{\"backgroundcolor\":\"#E5ECF6\",\"gridcolor\":\"white\",\"gridwidth\":2,\"linecolor\":\"white\",\"showbackground\":true,\"ticks\":\"\",\"zerolinecolor\":\"white\"},\"yaxis\":{\"backgroundcolor\":\"#E5ECF6\",\"gridcolor\":\"white\",\"gridwidth\":2,\"linecolor\":\"white\",\"showbackground\":true,\"ticks\":\"\",\"zerolinecolor\":\"white\"},\"zaxis\":{\"backgroundcolor\":\"#E5ECF6\",\"gridcolor\":\"white\",\"gridwidth\":2,\"linecolor\":\"white\",\"showbackground\":true,\"ticks\":\"\",\"zerolinecolor\":\"white\"}},\"shapedefaults\":{\"line\":{\"color\":\"#2a3f5f\"}},\"ternary\":{\"aaxis\":{\"gridcolor\":\"white\",\"linecolor\":\"white\",\"ticks\":\"\"},\"baxis\":{\"gridcolor\":\"white\",\"linecolor\":\"white\",\"ticks\":\"\"},\"bgcolor\":\"#E5ECF6\",\"caxis\":{\"gridcolor\":\"white\",\"linecolor\":\"white\",\"ticks\":\"\"}},\"title\":{\"x\":0.05},\"xaxis\":{\"automargin\":true,\"gridcolor\":\"white\",\"linecolor\":\"white\",\"ticks\":\"\",\"title\":{\"standoff\":15},\"zerolinecolor\":\"white\",\"zerolinewidth\":2},\"yaxis\":{\"automargin\":true,\"gridcolor\":\"white\",\"linecolor\":\"white\",\"ticks\":\"\",\"title\":{\"standoff\":15},\"zerolinecolor\":\"white\",\"zerolinewidth\":2}}},\"title\":{\"font\":{\"color\":\"#4D5663\"}},\"xaxis\":{\"gridcolor\":\"#E1E5ED\",\"showgrid\":true,\"tickfont\":{\"color\":\"#4D5663\"},\"title\":{\"font\":{\"color\":\"#4D5663\"},\"text\":\"age\"},\"zerolinecolor\":\"#E1E5ED\"},\"yaxis\":{\"gridcolor\":\"#E1E5ED\",\"showgrid\":true,\"tickfont\":{\"color\":\"#4D5663\"},\"title\":{\"font\":{\"color\":\"#4D5663\"},\"text\":\"Number of Person\"},\"zerolinecolor\":\"#E1E5ED\"}},                        {\"showLink\": true, \"linkText\": \"Export to plot.ly\", \"plotlyServerURL\": \"https://plot.ly\", \"responsive\": true}                    ).then(function(){\n",
       "                            \n",
       "var gd = document.getElementById('d5eb42b8-36de-4835-8915-afc0dec002c9');\n",
       "var x = new MutationObserver(function (mutations, observer) {{\n",
       "        var display = window.getComputedStyle(gd).display;\n",
       "        if (!display || display === 'none') {{\n",
       "            console.log([gd, 'removed!']);\n",
       "            Plotly.purge(gd);\n",
       "            observer.disconnect();\n",
       "        }}\n",
       "}});\n",
       "\n",
       "// Listen for the removal of the full notebook cells\n",
       "var notebookContainer = gd.closest('#notebook-container');\n",
       "if (notebookContainer) {{\n",
       "    x.observe(notebookContainer, {childList: true});\n",
       "}}\n",
       "\n",
       "// Listen for the clearing of the current output cell\n",
       "var outputEl = gd.closest('.output');\n",
       "if (outputEl) {{\n",
       "    x.observe(outputEl, {childList: true});\n",
       "}}\n",
       "\n",
       "                        })                };                });            </script>        </div>"
      ]
     },
     "metadata": {},
     "output_type": "display_data"
    }
   ],
   "source": [
    "(df_c2['LMName']).value_counts().iplot(kind='bar',xTitle='age', yTitle='Number of Person')"
   ]
  },
  {
   "cell_type": "code",
   "execution_count": 51,
   "id": "0b1e07a9",
   "metadata": {},
   "outputs": [
    {
     "name": "stdout",
     "output_type": "stream",
     "text": [
      "(2317, 41)\n"
     ]
    },
    {
     "data": {
      "text/html": [
       "<div>\n",
       "<style scoped>\n",
       "    .dataframe tbody tr th:only-of-type {\n",
       "        vertical-align: middle;\n",
       "    }\n",
       "\n",
       "    .dataframe tbody tr th {\n",
       "        vertical-align: top;\n",
       "    }\n",
       "\n",
       "    .dataframe thead th {\n",
       "        text-align: right;\n",
       "    }\n",
       "</style>\n",
       "<table border=\"1\" class=\"dataframe\">\n",
       "  <thead>\n",
       "    <tr style=\"text-align: right;\">\n",
       "      <th></th>\n",
       "      <th>id</th>\n",
       "      <th>cloan_disbursal_amount_x</th>\n",
       "      <th>cloan_service_charge_x</th>\n",
       "      <th>cloan_penalty_x</th>\n",
       "      <th>cloan_total_x</th>\n",
       "      <th>cloan_status_id</th>\n",
       "      <th>cloan_exhausted_days</th>\n",
       "      <th>user_status_id</th>\n",
       "      <th>accounts_manager_id</th>\n",
       "      <th>recovery_officer_id</th>\n",
       "      <th>gender</th>\n",
       "      <th>user_created_by</th>\n",
       "      <th>city</th>\n",
       "      <th>age</th>\n",
       "      <th>PERMANENT_PIN</th>\n",
       "      <th>present_pin</th>\n",
       "      <th>DEPARTMENT</th>\n",
       "      <th>DESIGNATION</th>\n",
       "      <th>proinfo_monthly_sal</th>\n",
       "      <th>INDUSTRY</th>\n",
       "      <th>proinfo_pincode</th>\n",
       "      <th>proinfo_city</th>\n",
       "      <th>capbility_status</th>\n",
       "      <th>user_survey_marital_status</th>\n",
       "      <th>customer_bank_name</th>\n",
       "      <th>customer_bank_ifsc_code</th>\n",
       "      <th>RMName</th>\n",
       "      <th>MaxPLoanAm</th>\n",
       "      <th>LMID</th>\n",
       "      <th>LMName</th>\n",
       "      <th>cloan_disbursal_amount_y</th>\n",
       "      <th>cloan_service_charge_y</th>\n",
       "      <th>cloan_penalty_y</th>\n",
       "      <th>cloan_total_y</th>\n",
       "      <th>cloan_amount</th>\n",
       "      <th>cloan_exhausted_days_avg</th>\n",
       "      <th>age_bins</th>\n",
       "      <th>salary_bins</th>\n",
       "      <th>loan_bins</th>\n",
       "      <th>department</th>\n",
       "      <th>designation</th>\n",
       "    </tr>\n",
       "  </thead>\n",
       "  <tbody>\n",
       "    <tr>\n",
       "      <th>0</th>\n",
       "      <td>1000213</td>\n",
       "      <td>15000</td>\n",
       "      <td>15750</td>\n",
       "      <td>18540</td>\n",
       "      <td>51060</td>\n",
       "      <td>21.0</td>\n",
       "      <td>511.0</td>\n",
       "      <td>12</td>\n",
       "      <td>120</td>\n",
       "      <td>118.0</td>\n",
       "      <td>1.0</td>\n",
       "      <td>5</td>\n",
       "      <td>nagpur</td>\n",
       "      <td>36</td>\n",
       "      <td>440009</td>\n",
       "      <td>440009</td>\n",
       "      <td>sales</td>\n",
       "      <td>manager</td>\n",
       "      <td>51090</td>\n",
       "      <td>education</td>\n",
       "      <td>440010</td>\n",
       "      <td>Nagpur</td>\n",
       "      <td>1</td>\n",
       "      <td>1.0</td>\n",
       "      <td>ICICI BANK</td>\n",
       "      <td>ICIC0006235</td>\n",
       "      <td>Manish</td>\n",
       "      <td>15000</td>\n",
       "      <td>21.0</td>\n",
       "      <td>Krishnandu</td>\n",
       "      <td>30000</td>\n",
       "      <td>31500</td>\n",
       "      <td>37080</td>\n",
       "      <td>102120</td>\n",
       "      <td>30000</td>\n",
       "      <td>511.0</td>\n",
       "      <td>[36-40]</td>\n",
       "      <td>[50k-55k]</td>\n",
       "      <td>[14.5k-15k]</td>\n",
       "      <td>Sales</td>\n",
       "      <td>Manager</td>\n",
       "    </tr>\n",
       "    <tr>\n",
       "      <th>1</th>\n",
       "      <td>1000329</td>\n",
       "      <td>10000</td>\n",
       "      <td>9900</td>\n",
       "      <td>18500</td>\n",
       "      <td>39580</td>\n",
       "      <td>21.0</td>\n",
       "      <td>510.0</td>\n",
       "      <td>12</td>\n",
       "      <td>110</td>\n",
       "      <td>118.0</td>\n",
       "      <td>1.0</td>\n",
       "      <td>5</td>\n",
       "      <td>deoghar</td>\n",
       "      <td>28</td>\n",
       "      <td>814112</td>\n",
       "      <td>814112</td>\n",
       "      <td>training and quality</td>\n",
       "      <td>lead trainer</td>\n",
       "      <td>35413</td>\n",
       "      <td>software/it/ites/bpo</td>\n",
       "      <td>834002</td>\n",
       "      <td>Ranchi</td>\n",
       "      <td>1</td>\n",
       "      <td>0.0</td>\n",
       "      <td>HDFC</td>\n",
       "      <td>HDFC0002687</td>\n",
       "      <td>SashiRekha</td>\n",
       "      <td>10000</td>\n",
       "      <td>21.0</td>\n",
       "      <td>Krishnandu</td>\n",
       "      <td>30000</td>\n",
       "      <td>29700</td>\n",
       "      <td>55500</td>\n",
       "      <td>118740</td>\n",
       "      <td>30000</td>\n",
       "      <td>510.0</td>\n",
       "      <td>[26-30]</td>\n",
       "      <td>[35k-40k]</td>\n",
       "      <td>[2k-10k]</td>\n",
       "      <td>Training</td>\n",
       "      <td>Team Lead</td>\n",
       "    </tr>\n",
       "    <tr>\n",
       "      <th>2</th>\n",
       "      <td>1000381</td>\n",
       "      <td>40000</td>\n",
       "      <td>39600</td>\n",
       "      <td>18460</td>\n",
       "      <td>102780</td>\n",
       "      <td>21.0</td>\n",
       "      <td>509.0</td>\n",
       "      <td>12</td>\n",
       "      <td>133</td>\n",
       "      <td>140.0</td>\n",
       "      <td>0.0</td>\n",
       "      <td>5</td>\n",
       "      <td>bangalore</td>\n",
       "      <td>34</td>\n",
       "      <td>560037</td>\n",
       "      <td>560037</td>\n",
       "      <td>operations</td>\n",
       "      <td>senior process associate</td>\n",
       "      <td>31490</td>\n",
       "      <td>banking and financial services</td>\n",
       "      <td>400063</td>\n",
       "      <td>Bangalore</td>\n",
       "      <td>1</td>\n",
       "      <td>0.0</td>\n",
       "      <td>AXIS BANK</td>\n",
       "      <td>UTIB0000194</td>\n",
       "      <td>RohitKumar</td>\n",
       "      <td>40000</td>\n",
       "      <td>55.0</td>\n",
       "      <td>SarikaReddy</td>\n",
       "      <td>80000</td>\n",
       "      <td>79200</td>\n",
       "      <td>36920</td>\n",
       "      <td>205560</td>\n",
       "      <td>80000</td>\n",
       "      <td>509.0</td>\n",
       "      <td>[31-35]</td>\n",
       "      <td>[30k-35k]</td>\n",
       "      <td>[39.5k-40k]</td>\n",
       "      <td>Operations</td>\n",
       "      <td>Associate</td>\n",
       "    </tr>\n",
       "    <tr>\n",
       "      <th>3</th>\n",
       "      <td>1000395</td>\n",
       "      <td>40000</td>\n",
       "      <td>32400</td>\n",
       "      <td>13980</td>\n",
       "      <td>91100</td>\n",
       "      <td>21.0</td>\n",
       "      <td>397.0</td>\n",
       "      <td>12</td>\n",
       "      <td>110</td>\n",
       "      <td>134.0</td>\n",
       "      <td>1.0</td>\n",
       "      <td>5</td>\n",
       "      <td>chennai</td>\n",
       "      <td>35</td>\n",
       "      <td>600093</td>\n",
       "      <td>600093</td>\n",
       "      <td>technology</td>\n",
       "      <td>manager</td>\n",
       "      <td>152993</td>\n",
       "      <td>software/it/ites/bpo</td>\n",
       "      <td>500081</td>\n",
       "      <td>Chennai</td>\n",
       "      <td>1</td>\n",
       "      <td>1.0</td>\n",
       "      <td>ICICI BANK</td>\n",
       "      <td>ICIC0000573</td>\n",
       "      <td>SashiRekha</td>\n",
       "      <td>40000</td>\n",
       "      <td>55.0</td>\n",
       "      <td>SarikaReddy</td>\n",
       "      <td>80000</td>\n",
       "      <td>64800</td>\n",
       "      <td>27960</td>\n",
       "      <td>182200</td>\n",
       "      <td>80000</td>\n",
       "      <td>397.0</td>\n",
       "      <td>[31-35]</td>\n",
       "      <td>[100k-200k]</td>\n",
       "      <td>[39.5k-40k]</td>\n",
       "      <td>Technical</td>\n",
       "      <td>Manager</td>\n",
       "    </tr>\n",
       "    <tr>\n",
       "      <th>4</th>\n",
       "      <td>1000398</td>\n",
       "      <td>12000</td>\n",
       "      <td>480</td>\n",
       "      <td>60</td>\n",
       "      <td>13956</td>\n",
       "      <td>21.0</td>\n",
       "      <td>347.0</td>\n",
       "      <td>12</td>\n",
       "      <td>132</td>\n",
       "      <td>118.0</td>\n",
       "      <td>1.0</td>\n",
       "      <td>5</td>\n",
       "      <td>chennai</td>\n",
       "      <td>45</td>\n",
       "      <td>600126</td>\n",
       "      <td>600126</td>\n",
       "      <td>maintenance mechanical</td>\n",
       "      <td>tmt</td>\n",
       "      <td>58649</td>\n",
       "      <td>manufacturing</td>\n",
       "      <td>603204</td>\n",
       "      <td>Chennai</td>\n",
       "      <td>1</td>\n",
       "      <td>1.0</td>\n",
       "      <td>INDIAN OVERSEAS BANK</td>\n",
       "      <td>IOBA0003597</td>\n",
       "      <td>Jagjit</td>\n",
       "      <td>17000</td>\n",
       "      <td>55.0</td>\n",
       "      <td>SarikaReddy</td>\n",
       "      <td>24000</td>\n",
       "      <td>960</td>\n",
       "      <td>120</td>\n",
       "      <td>27912</td>\n",
       "      <td>24000</td>\n",
       "      <td>347.0</td>\n",
       "      <td>[41-45]</td>\n",
       "      <td>[55k-60k]</td>\n",
       "      <td>[11.5k-12k]</td>\n",
       "      <td>Others</td>\n",
       "      <td>NaN</td>\n",
       "    </tr>\n",
       "  </tbody>\n",
       "</table>\n",
       "</div>"
      ],
      "text/plain": [
       "        id  cloan_disbursal_amount_x  cloan_service_charge_x  cloan_penalty_x  \\\n",
       "0  1000213                     15000                   15750            18540   \n",
       "1  1000329                     10000                    9900            18500   \n",
       "2  1000381                     40000                   39600            18460   \n",
       "3  1000395                     40000                   32400            13980   \n",
       "4  1000398                     12000                     480               60   \n",
       "\n",
       "   cloan_total_x  cloan_status_id  cloan_exhausted_days  user_status_id  \\\n",
       "0          51060             21.0                 511.0              12   \n",
       "1          39580             21.0                 510.0              12   \n",
       "2         102780             21.0                 509.0              12   \n",
       "3          91100             21.0                 397.0              12   \n",
       "4          13956             21.0                 347.0              12   \n",
       "\n",
       "   accounts_manager_id  recovery_officer_id  gender  user_created_by  \\\n",
       "0                  120                118.0     1.0                5   \n",
       "1                  110                118.0     1.0                5   \n",
       "2                  133                140.0     0.0                5   \n",
       "3                  110                134.0     1.0                5   \n",
       "4                  132                118.0     1.0                5   \n",
       "\n",
       "        city  age PERMANENT_PIN present_pin              DEPARTMENT  \\\n",
       "0     nagpur   36        440009      440009                   sales   \n",
       "1    deoghar   28        814112      814112    training and quality   \n",
       "2  bangalore   34        560037      560037              operations   \n",
       "3    chennai   35        600093      600093              technology   \n",
       "4    chennai   45        600126      600126  maintenance mechanical   \n",
       "\n",
       "                DESIGNATION  proinfo_monthly_sal  \\\n",
       "0                   manager                51090   \n",
       "1              lead trainer                35413   \n",
       "2  senior process associate                31490   \n",
       "3                   manager               152993   \n",
       "4                       tmt                58649   \n",
       "\n",
       "                         INDUSTRY proinfo_pincode proinfo_city  \\\n",
       "0                       education          440010       Nagpur   \n",
       "1            software/it/ites/bpo          834002       Ranchi   \n",
       "2  banking and financial services          400063    Bangalore   \n",
       "3            software/it/ites/bpo          500081      Chennai   \n",
       "4                   manufacturing          603204      Chennai   \n",
       "\n",
       "   capbility_status  user_survey_marital_status    customer_bank_name  \\\n",
       "0                 1                         1.0            ICICI BANK   \n",
       "1                 1                         0.0                  HDFC   \n",
       "2                 1                         0.0             AXIS BANK   \n",
       "3                 1                         1.0            ICICI BANK   \n",
       "4                 1                         1.0  INDIAN OVERSEAS BANK   \n",
       "\n",
       "  customer_bank_ifsc_code      RMName  MaxPLoanAm  LMID       LMName  \\\n",
       "0             ICIC0006235      Manish       15000  21.0   Krishnandu   \n",
       "1             HDFC0002687  SashiRekha       10000  21.0   Krishnandu   \n",
       "2             UTIB0000194  RohitKumar       40000  55.0  SarikaReddy   \n",
       "3             ICIC0000573  SashiRekha       40000  55.0  SarikaReddy   \n",
       "4             IOBA0003597      Jagjit       17000  55.0  SarikaReddy   \n",
       "\n",
       "   cloan_disbursal_amount_y  cloan_service_charge_y  cloan_penalty_y  \\\n",
       "0                     30000                   31500            37080   \n",
       "1                     30000                   29700            55500   \n",
       "2                     80000                   79200            36920   \n",
       "3                     80000                   64800            27960   \n",
       "4                     24000                     960              120   \n",
       "\n",
       "   cloan_total_y  cloan_amount  cloan_exhausted_days_avg age_bins  \\\n",
       "0         102120         30000                     511.0  [36-40]   \n",
       "1         118740         30000                     510.0  [26-30]   \n",
       "2         205560         80000                     509.0  [31-35]   \n",
       "3         182200         80000                     397.0  [31-35]   \n",
       "4          27912         24000                     347.0  [41-45]   \n",
       "\n",
       "   salary_bins    loan_bins  department designation  \n",
       "0    [50k-55k]  [14.5k-15k]       Sales     Manager  \n",
       "1    [35k-40k]     [2k-10k]    Training   Team Lead  \n",
       "2    [30k-35k]  [39.5k-40k]  Operations   Associate  \n",
       "3  [100k-200k]  [39.5k-40k]   Technical     Manager  \n",
       "4    [55k-60k]  [11.5k-12k]      Others         NaN  "
      ]
     },
     "execution_count": 51,
     "metadata": {},
     "output_type": "execute_result"
    }
   ],
   "source": [
    "df_c1 = df3[df3['capbility_status'] ==1]\n",
    "print(df_c1.shape)\n",
    "df_c1.head()"
   ]
  },
  {
   "cell_type": "code",
   "execution_count": 52,
   "id": "d886f102",
   "metadata": {},
   "outputs": [
    {
     "data": {
      "application/vnd.plotly.v1+json": {
       "config": {
        "linkText": "Export to plot.ly",
        "plotlyServerURL": "https://plot.ly",
        "showLink": true
       },
       "data": [
        {
         "marker": {
          "color": "rgba(255, 153, 51, 0.6)",
          "line": {
           "color": "rgba(255, 153, 51, 1.0)",
           "width": 1
          }
         },
         "name": "LMName",
         "orientation": "v",
         "text": "",
         "type": "bar",
         "x": [
          "Krishnandu",
          "SarikaReddy",
          "MaheshSyreddy",
          "Naseeruddin",
          "Karunakar",
          "Ramakrishna",
          "Navya D",
          "Pranay",
          "Praveen",
          "Bharath",
          "BandariBhargavi",
          "CapitalNow",
          "Bijayani",
          "Shailaja",
          "Srikanth",
          "PV Sai Kumar",
          "Shireesha"
         ],
         "y": [
          679,
          478,
          460,
          400,
          229,
          28,
          13,
          8,
          6,
          3,
          2,
          2,
          2,
          1,
          1,
          1,
          1
         ]
        }
       ],
       "layout": {
        "legend": {
         "bgcolor": "#F5F6F9",
         "font": {
          "color": "#4D5663"
         }
        },
        "paper_bgcolor": "#F5F6F9",
        "plot_bgcolor": "#F5F6F9",
        "template": {
         "data": {
          "bar": [
           {
            "error_x": {
             "color": "#2a3f5f"
            },
            "error_y": {
             "color": "#2a3f5f"
            },
            "marker": {
             "line": {
              "color": "#E5ECF6",
              "width": 0.5
             },
             "pattern": {
              "fillmode": "overlay",
              "size": 10,
              "solidity": 0.2
             }
            },
            "type": "bar"
           }
          ],
          "barpolar": [
           {
            "marker": {
             "line": {
              "color": "#E5ECF6",
              "width": 0.5
             },
             "pattern": {
              "fillmode": "overlay",
              "size": 10,
              "solidity": 0.2
             }
            },
            "type": "barpolar"
           }
          ],
          "carpet": [
           {
            "aaxis": {
             "endlinecolor": "#2a3f5f",
             "gridcolor": "white",
             "linecolor": "white",
             "minorgridcolor": "white",
             "startlinecolor": "#2a3f5f"
            },
            "baxis": {
             "endlinecolor": "#2a3f5f",
             "gridcolor": "white",
             "linecolor": "white",
             "minorgridcolor": "white",
             "startlinecolor": "#2a3f5f"
            },
            "type": "carpet"
           }
          ],
          "choropleth": [
           {
            "colorbar": {
             "outlinewidth": 0,
             "ticks": ""
            },
            "type": "choropleth"
           }
          ],
          "contour": [
           {
            "colorbar": {
             "outlinewidth": 0,
             "ticks": ""
            },
            "colorscale": [
             [
              0,
              "#0d0887"
             ],
             [
              0.1111111111111111,
              "#46039f"
             ],
             [
              0.2222222222222222,
              "#7201a8"
             ],
             [
              0.3333333333333333,
              "#9c179e"
             ],
             [
              0.4444444444444444,
              "#bd3786"
             ],
             [
              0.5555555555555556,
              "#d8576b"
             ],
             [
              0.6666666666666666,
              "#ed7953"
             ],
             [
              0.7777777777777778,
              "#fb9f3a"
             ],
             [
              0.8888888888888888,
              "#fdca26"
             ],
             [
              1,
              "#f0f921"
             ]
            ],
            "type": "contour"
           }
          ],
          "contourcarpet": [
           {
            "colorbar": {
             "outlinewidth": 0,
             "ticks": ""
            },
            "type": "contourcarpet"
           }
          ],
          "heatmap": [
           {
            "colorbar": {
             "outlinewidth": 0,
             "ticks": ""
            },
            "colorscale": [
             [
              0,
              "#0d0887"
             ],
             [
              0.1111111111111111,
              "#46039f"
             ],
             [
              0.2222222222222222,
              "#7201a8"
             ],
             [
              0.3333333333333333,
              "#9c179e"
             ],
             [
              0.4444444444444444,
              "#bd3786"
             ],
             [
              0.5555555555555556,
              "#d8576b"
             ],
             [
              0.6666666666666666,
              "#ed7953"
             ],
             [
              0.7777777777777778,
              "#fb9f3a"
             ],
             [
              0.8888888888888888,
              "#fdca26"
             ],
             [
              1,
              "#f0f921"
             ]
            ],
            "type": "heatmap"
           }
          ],
          "heatmapgl": [
           {
            "colorbar": {
             "outlinewidth": 0,
             "ticks": ""
            },
            "colorscale": [
             [
              0,
              "#0d0887"
             ],
             [
              0.1111111111111111,
              "#46039f"
             ],
             [
              0.2222222222222222,
              "#7201a8"
             ],
             [
              0.3333333333333333,
              "#9c179e"
             ],
             [
              0.4444444444444444,
              "#bd3786"
             ],
             [
              0.5555555555555556,
              "#d8576b"
             ],
             [
              0.6666666666666666,
              "#ed7953"
             ],
             [
              0.7777777777777778,
              "#fb9f3a"
             ],
             [
              0.8888888888888888,
              "#fdca26"
             ],
             [
              1,
              "#f0f921"
             ]
            ],
            "type": "heatmapgl"
           }
          ],
          "histogram": [
           {
            "marker": {
             "pattern": {
              "fillmode": "overlay",
              "size": 10,
              "solidity": 0.2
             }
            },
            "type": "histogram"
           }
          ],
          "histogram2d": [
           {
            "colorbar": {
             "outlinewidth": 0,
             "ticks": ""
            },
            "colorscale": [
             [
              0,
              "#0d0887"
             ],
             [
              0.1111111111111111,
              "#46039f"
             ],
             [
              0.2222222222222222,
              "#7201a8"
             ],
             [
              0.3333333333333333,
              "#9c179e"
             ],
             [
              0.4444444444444444,
              "#bd3786"
             ],
             [
              0.5555555555555556,
              "#d8576b"
             ],
             [
              0.6666666666666666,
              "#ed7953"
             ],
             [
              0.7777777777777778,
              "#fb9f3a"
             ],
             [
              0.8888888888888888,
              "#fdca26"
             ],
             [
              1,
              "#f0f921"
             ]
            ],
            "type": "histogram2d"
           }
          ],
          "histogram2dcontour": [
           {
            "colorbar": {
             "outlinewidth": 0,
             "ticks": ""
            },
            "colorscale": [
             [
              0,
              "#0d0887"
             ],
             [
              0.1111111111111111,
              "#46039f"
             ],
             [
              0.2222222222222222,
              "#7201a8"
             ],
             [
              0.3333333333333333,
              "#9c179e"
             ],
             [
              0.4444444444444444,
              "#bd3786"
             ],
             [
              0.5555555555555556,
              "#d8576b"
             ],
             [
              0.6666666666666666,
              "#ed7953"
             ],
             [
              0.7777777777777778,
              "#fb9f3a"
             ],
             [
              0.8888888888888888,
              "#fdca26"
             ],
             [
              1,
              "#f0f921"
             ]
            ],
            "type": "histogram2dcontour"
           }
          ],
          "mesh3d": [
           {
            "colorbar": {
             "outlinewidth": 0,
             "ticks": ""
            },
            "type": "mesh3d"
           }
          ],
          "parcoords": [
           {
            "line": {
             "colorbar": {
              "outlinewidth": 0,
              "ticks": ""
             }
            },
            "type": "parcoords"
           }
          ],
          "pie": [
           {
            "automargin": true,
            "type": "pie"
           }
          ],
          "scatter": [
           {
            "marker": {
             "colorbar": {
              "outlinewidth": 0,
              "ticks": ""
             }
            },
            "type": "scatter"
           }
          ],
          "scatter3d": [
           {
            "line": {
             "colorbar": {
              "outlinewidth": 0,
              "ticks": ""
             }
            },
            "marker": {
             "colorbar": {
              "outlinewidth": 0,
              "ticks": ""
             }
            },
            "type": "scatter3d"
           }
          ],
          "scattercarpet": [
           {
            "marker": {
             "colorbar": {
              "outlinewidth": 0,
              "ticks": ""
             }
            },
            "type": "scattercarpet"
           }
          ],
          "scattergeo": [
           {
            "marker": {
             "colorbar": {
              "outlinewidth": 0,
              "ticks": ""
             }
            },
            "type": "scattergeo"
           }
          ],
          "scattergl": [
           {
            "marker": {
             "colorbar": {
              "outlinewidth": 0,
              "ticks": ""
             }
            },
            "type": "scattergl"
           }
          ],
          "scattermapbox": [
           {
            "marker": {
             "colorbar": {
              "outlinewidth": 0,
              "ticks": ""
             }
            },
            "type": "scattermapbox"
           }
          ],
          "scatterpolar": [
           {
            "marker": {
             "colorbar": {
              "outlinewidth": 0,
              "ticks": ""
             }
            },
            "type": "scatterpolar"
           }
          ],
          "scatterpolargl": [
           {
            "marker": {
             "colorbar": {
              "outlinewidth": 0,
              "ticks": ""
             }
            },
            "type": "scatterpolargl"
           }
          ],
          "scatterternary": [
           {
            "marker": {
             "colorbar": {
              "outlinewidth": 0,
              "ticks": ""
             }
            },
            "type": "scatterternary"
           }
          ],
          "surface": [
           {
            "colorbar": {
             "outlinewidth": 0,
             "ticks": ""
            },
            "colorscale": [
             [
              0,
              "#0d0887"
             ],
             [
              0.1111111111111111,
              "#46039f"
             ],
             [
              0.2222222222222222,
              "#7201a8"
             ],
             [
              0.3333333333333333,
              "#9c179e"
             ],
             [
              0.4444444444444444,
              "#bd3786"
             ],
             [
              0.5555555555555556,
              "#d8576b"
             ],
             [
              0.6666666666666666,
              "#ed7953"
             ],
             [
              0.7777777777777778,
              "#fb9f3a"
             ],
             [
              0.8888888888888888,
              "#fdca26"
             ],
             [
              1,
              "#f0f921"
             ]
            ],
            "type": "surface"
           }
          ],
          "table": [
           {
            "cells": {
             "fill": {
              "color": "#EBF0F8"
             },
             "line": {
              "color": "white"
             }
            },
            "header": {
             "fill": {
              "color": "#C8D4E3"
             },
             "line": {
              "color": "white"
             }
            },
            "type": "table"
           }
          ]
         },
         "layout": {
          "annotationdefaults": {
           "arrowcolor": "#2a3f5f",
           "arrowhead": 0,
           "arrowwidth": 1
          },
          "autotypenumbers": "strict",
          "coloraxis": {
           "colorbar": {
            "outlinewidth": 0,
            "ticks": ""
           }
          },
          "colorscale": {
           "diverging": [
            [
             0,
             "#8e0152"
            ],
            [
             0.1,
             "#c51b7d"
            ],
            [
             0.2,
             "#de77ae"
            ],
            [
             0.3,
             "#f1b6da"
            ],
            [
             0.4,
             "#fde0ef"
            ],
            [
             0.5,
             "#f7f7f7"
            ],
            [
             0.6,
             "#e6f5d0"
            ],
            [
             0.7,
             "#b8e186"
            ],
            [
             0.8,
             "#7fbc41"
            ],
            [
             0.9,
             "#4d9221"
            ],
            [
             1,
             "#276419"
            ]
           ],
           "sequential": [
            [
             0,
             "#0d0887"
            ],
            [
             0.1111111111111111,
             "#46039f"
            ],
            [
             0.2222222222222222,
             "#7201a8"
            ],
            [
             0.3333333333333333,
             "#9c179e"
            ],
            [
             0.4444444444444444,
             "#bd3786"
            ],
            [
             0.5555555555555556,
             "#d8576b"
            ],
            [
             0.6666666666666666,
             "#ed7953"
            ],
            [
             0.7777777777777778,
             "#fb9f3a"
            ],
            [
             0.8888888888888888,
             "#fdca26"
            ],
            [
             1,
             "#f0f921"
            ]
           ],
           "sequentialminus": [
            [
             0,
             "#0d0887"
            ],
            [
             0.1111111111111111,
             "#46039f"
            ],
            [
             0.2222222222222222,
             "#7201a8"
            ],
            [
             0.3333333333333333,
             "#9c179e"
            ],
            [
             0.4444444444444444,
             "#bd3786"
            ],
            [
             0.5555555555555556,
             "#d8576b"
            ],
            [
             0.6666666666666666,
             "#ed7953"
            ],
            [
             0.7777777777777778,
             "#fb9f3a"
            ],
            [
             0.8888888888888888,
             "#fdca26"
            ],
            [
             1,
             "#f0f921"
            ]
           ]
          },
          "colorway": [
           "#636efa",
           "#EF553B",
           "#00cc96",
           "#ab63fa",
           "#FFA15A",
           "#19d3f3",
           "#FF6692",
           "#B6E880",
           "#FF97FF",
           "#FECB52"
          ],
          "font": {
           "color": "#2a3f5f"
          },
          "geo": {
           "bgcolor": "white",
           "lakecolor": "white",
           "landcolor": "#E5ECF6",
           "showlakes": true,
           "showland": true,
           "subunitcolor": "white"
          },
          "hoverlabel": {
           "align": "left"
          },
          "hovermode": "closest",
          "mapbox": {
           "style": "light"
          },
          "paper_bgcolor": "white",
          "plot_bgcolor": "#E5ECF6",
          "polar": {
           "angularaxis": {
            "gridcolor": "white",
            "linecolor": "white",
            "ticks": ""
           },
           "bgcolor": "#E5ECF6",
           "radialaxis": {
            "gridcolor": "white",
            "linecolor": "white",
            "ticks": ""
           }
          },
          "scene": {
           "xaxis": {
            "backgroundcolor": "#E5ECF6",
            "gridcolor": "white",
            "gridwidth": 2,
            "linecolor": "white",
            "showbackground": true,
            "ticks": "",
            "zerolinecolor": "white"
           },
           "yaxis": {
            "backgroundcolor": "#E5ECF6",
            "gridcolor": "white",
            "gridwidth": 2,
            "linecolor": "white",
            "showbackground": true,
            "ticks": "",
            "zerolinecolor": "white"
           },
           "zaxis": {
            "backgroundcolor": "#E5ECF6",
            "gridcolor": "white",
            "gridwidth": 2,
            "linecolor": "white",
            "showbackground": true,
            "ticks": "",
            "zerolinecolor": "white"
           }
          },
          "shapedefaults": {
           "line": {
            "color": "#2a3f5f"
           }
          },
          "ternary": {
           "aaxis": {
            "gridcolor": "white",
            "linecolor": "white",
            "ticks": ""
           },
           "baxis": {
            "gridcolor": "white",
            "linecolor": "white",
            "ticks": ""
           },
           "bgcolor": "#E5ECF6",
           "caxis": {
            "gridcolor": "white",
            "linecolor": "white",
            "ticks": ""
           }
          },
          "title": {
           "x": 0.05
          },
          "xaxis": {
           "automargin": true,
           "gridcolor": "white",
           "linecolor": "white",
           "ticks": "",
           "title": {
            "standoff": 15
           },
           "zerolinecolor": "white",
           "zerolinewidth": 2
          },
          "yaxis": {
           "automargin": true,
           "gridcolor": "white",
           "linecolor": "white",
           "ticks": "",
           "title": {
            "standoff": 15
           },
           "zerolinecolor": "white",
           "zerolinewidth": 2
          }
         }
        },
        "title": {
         "font": {
          "color": "#4D5663"
         }
        },
        "xaxis": {
         "gridcolor": "#E1E5ED",
         "showgrid": true,
         "tickfont": {
          "color": "#4D5663"
         },
         "title": {
          "font": {
           "color": "#4D5663"
          },
          "text": "age"
         },
         "zerolinecolor": "#E1E5ED"
        },
        "yaxis": {
         "gridcolor": "#E1E5ED",
         "showgrid": true,
         "tickfont": {
          "color": "#4D5663"
         },
         "title": {
          "font": {
           "color": "#4D5663"
          },
          "text": "Number of Person"
         },
         "zerolinecolor": "#E1E5ED"
        }
       }
      },
      "text/html": [
       "<div>                            <div id=\"937a6b7e-752b-4e58-b82b-088aa31b952b\" class=\"plotly-graph-div\" style=\"height:525px; width:100%;\"></div>            <script type=\"text/javascript\">                require([\"plotly\"], function(Plotly) {                    window.PLOTLYENV=window.PLOTLYENV || {};\n",
       "                    window.PLOTLYENV.BASE_URL='https://plot.ly';                                    if (document.getElementById(\"937a6b7e-752b-4e58-b82b-088aa31b952b\")) {                    Plotly.newPlot(                        \"937a6b7e-752b-4e58-b82b-088aa31b952b\",                        [{\"marker\":{\"color\":\"rgba(255, 153, 51, 0.6)\",\"line\":{\"color\":\"rgba(255, 153, 51, 1.0)\",\"width\":1}},\"name\":\"LMName\",\"orientation\":\"v\",\"text\":\"\",\"x\":[\"Krishnandu\",\"SarikaReddy\",\"MaheshSyreddy\",\"Naseeruddin\",\"Karunakar\",\"Ramakrishna\",\"Navya D\",\"Pranay\",\"Praveen\",\"Bharath\",\"BandariBhargavi\",\"CapitalNow\",\"Bijayani\",\"Shailaja\",\"Srikanth\",\"PV Sai Kumar\",\"Shireesha\"],\"y\":[679,478,460,400,229,28,13,8,6,3,2,2,2,1,1,1,1],\"type\":\"bar\"}],                        {\"legend\":{\"bgcolor\":\"#F5F6F9\",\"font\":{\"color\":\"#4D5663\"}},\"paper_bgcolor\":\"#F5F6F9\",\"plot_bgcolor\":\"#F5F6F9\",\"template\":{\"data\":{\"barpolar\":[{\"marker\":{\"line\":{\"color\":\"#E5ECF6\",\"width\":0.5},\"pattern\":{\"fillmode\":\"overlay\",\"size\":10,\"solidity\":0.2}},\"type\":\"barpolar\"}],\"bar\":[{\"error_x\":{\"color\":\"#2a3f5f\"},\"error_y\":{\"color\":\"#2a3f5f\"},\"marker\":{\"line\":{\"color\":\"#E5ECF6\",\"width\":0.5},\"pattern\":{\"fillmode\":\"overlay\",\"size\":10,\"solidity\":0.2}},\"type\":\"bar\"}],\"carpet\":[{\"aaxis\":{\"endlinecolor\":\"#2a3f5f\",\"gridcolor\":\"white\",\"linecolor\":\"white\",\"minorgridcolor\":\"white\",\"startlinecolor\":\"#2a3f5f\"},\"baxis\":{\"endlinecolor\":\"#2a3f5f\",\"gridcolor\":\"white\",\"linecolor\":\"white\",\"minorgridcolor\":\"white\",\"startlinecolor\":\"#2a3f5f\"},\"type\":\"carpet\"}],\"choropleth\":[{\"colorbar\":{\"outlinewidth\":0,\"ticks\":\"\"},\"type\":\"choropleth\"}],\"contourcarpet\":[{\"colorbar\":{\"outlinewidth\":0,\"ticks\":\"\"},\"type\":\"contourcarpet\"}],\"contour\":[{\"colorbar\":{\"outlinewidth\":0,\"ticks\":\"\"},\"colorscale\":[[0.0,\"#0d0887\"],[0.1111111111111111,\"#46039f\"],[0.2222222222222222,\"#7201a8\"],[0.3333333333333333,\"#9c179e\"],[0.4444444444444444,\"#bd3786\"],[0.5555555555555556,\"#d8576b\"],[0.6666666666666666,\"#ed7953\"],[0.7777777777777778,\"#fb9f3a\"],[0.8888888888888888,\"#fdca26\"],[1.0,\"#f0f921\"]],\"type\":\"contour\"}],\"heatmapgl\":[{\"colorbar\":{\"outlinewidth\":0,\"ticks\":\"\"},\"colorscale\":[[0.0,\"#0d0887\"],[0.1111111111111111,\"#46039f\"],[0.2222222222222222,\"#7201a8\"],[0.3333333333333333,\"#9c179e\"],[0.4444444444444444,\"#bd3786\"],[0.5555555555555556,\"#d8576b\"],[0.6666666666666666,\"#ed7953\"],[0.7777777777777778,\"#fb9f3a\"],[0.8888888888888888,\"#fdca26\"],[1.0,\"#f0f921\"]],\"type\":\"heatmapgl\"}],\"heatmap\":[{\"colorbar\":{\"outlinewidth\":0,\"ticks\":\"\"},\"colorscale\":[[0.0,\"#0d0887\"],[0.1111111111111111,\"#46039f\"],[0.2222222222222222,\"#7201a8\"],[0.3333333333333333,\"#9c179e\"],[0.4444444444444444,\"#bd3786\"],[0.5555555555555556,\"#d8576b\"],[0.6666666666666666,\"#ed7953\"],[0.7777777777777778,\"#fb9f3a\"],[0.8888888888888888,\"#fdca26\"],[1.0,\"#f0f921\"]],\"type\":\"heatmap\"}],\"histogram2dcontour\":[{\"colorbar\":{\"outlinewidth\":0,\"ticks\":\"\"},\"colorscale\":[[0.0,\"#0d0887\"],[0.1111111111111111,\"#46039f\"],[0.2222222222222222,\"#7201a8\"],[0.3333333333333333,\"#9c179e\"],[0.4444444444444444,\"#bd3786\"],[0.5555555555555556,\"#d8576b\"],[0.6666666666666666,\"#ed7953\"],[0.7777777777777778,\"#fb9f3a\"],[0.8888888888888888,\"#fdca26\"],[1.0,\"#f0f921\"]],\"type\":\"histogram2dcontour\"}],\"histogram2d\":[{\"colorbar\":{\"outlinewidth\":0,\"ticks\":\"\"},\"colorscale\":[[0.0,\"#0d0887\"],[0.1111111111111111,\"#46039f\"],[0.2222222222222222,\"#7201a8\"],[0.3333333333333333,\"#9c179e\"],[0.4444444444444444,\"#bd3786\"],[0.5555555555555556,\"#d8576b\"],[0.6666666666666666,\"#ed7953\"],[0.7777777777777778,\"#fb9f3a\"],[0.8888888888888888,\"#fdca26\"],[1.0,\"#f0f921\"]],\"type\":\"histogram2d\"}],\"histogram\":[{\"marker\":{\"pattern\":{\"fillmode\":\"overlay\",\"size\":10,\"solidity\":0.2}},\"type\":\"histogram\"}],\"mesh3d\":[{\"colorbar\":{\"outlinewidth\":0,\"ticks\":\"\"},\"type\":\"mesh3d\"}],\"parcoords\":[{\"line\":{\"colorbar\":{\"outlinewidth\":0,\"ticks\":\"\"}},\"type\":\"parcoords\"}],\"pie\":[{\"automargin\":true,\"type\":\"pie\"}],\"scatter3d\":[{\"line\":{\"colorbar\":{\"outlinewidth\":0,\"ticks\":\"\"}},\"marker\":{\"colorbar\":{\"outlinewidth\":0,\"ticks\":\"\"}},\"type\":\"scatter3d\"}],\"scattercarpet\":[{\"marker\":{\"colorbar\":{\"outlinewidth\":0,\"ticks\":\"\"}},\"type\":\"scattercarpet\"}],\"scattergeo\":[{\"marker\":{\"colorbar\":{\"outlinewidth\":0,\"ticks\":\"\"}},\"type\":\"scattergeo\"}],\"scattergl\":[{\"marker\":{\"colorbar\":{\"outlinewidth\":0,\"ticks\":\"\"}},\"type\":\"scattergl\"}],\"scattermapbox\":[{\"marker\":{\"colorbar\":{\"outlinewidth\":0,\"ticks\":\"\"}},\"type\":\"scattermapbox\"}],\"scatterpolargl\":[{\"marker\":{\"colorbar\":{\"outlinewidth\":0,\"ticks\":\"\"}},\"type\":\"scatterpolargl\"}],\"scatterpolar\":[{\"marker\":{\"colorbar\":{\"outlinewidth\":0,\"ticks\":\"\"}},\"type\":\"scatterpolar\"}],\"scatter\":[{\"marker\":{\"colorbar\":{\"outlinewidth\":0,\"ticks\":\"\"}},\"type\":\"scatter\"}],\"scatterternary\":[{\"marker\":{\"colorbar\":{\"outlinewidth\":0,\"ticks\":\"\"}},\"type\":\"scatterternary\"}],\"surface\":[{\"colorbar\":{\"outlinewidth\":0,\"ticks\":\"\"},\"colorscale\":[[0.0,\"#0d0887\"],[0.1111111111111111,\"#46039f\"],[0.2222222222222222,\"#7201a8\"],[0.3333333333333333,\"#9c179e\"],[0.4444444444444444,\"#bd3786\"],[0.5555555555555556,\"#d8576b\"],[0.6666666666666666,\"#ed7953\"],[0.7777777777777778,\"#fb9f3a\"],[0.8888888888888888,\"#fdca26\"],[1.0,\"#f0f921\"]],\"type\":\"surface\"}],\"table\":[{\"cells\":{\"fill\":{\"color\":\"#EBF0F8\"},\"line\":{\"color\":\"white\"}},\"header\":{\"fill\":{\"color\":\"#C8D4E3\"},\"line\":{\"color\":\"white\"}},\"type\":\"table\"}]},\"layout\":{\"annotationdefaults\":{\"arrowcolor\":\"#2a3f5f\",\"arrowhead\":0,\"arrowwidth\":1},\"autotypenumbers\":\"strict\",\"coloraxis\":{\"colorbar\":{\"outlinewidth\":0,\"ticks\":\"\"}},\"colorscale\":{\"diverging\":[[0,\"#8e0152\"],[0.1,\"#c51b7d\"],[0.2,\"#de77ae\"],[0.3,\"#f1b6da\"],[0.4,\"#fde0ef\"],[0.5,\"#f7f7f7\"],[0.6,\"#e6f5d0\"],[0.7,\"#b8e186\"],[0.8,\"#7fbc41\"],[0.9,\"#4d9221\"],[1,\"#276419\"]],\"sequential\":[[0.0,\"#0d0887\"],[0.1111111111111111,\"#46039f\"],[0.2222222222222222,\"#7201a8\"],[0.3333333333333333,\"#9c179e\"],[0.4444444444444444,\"#bd3786\"],[0.5555555555555556,\"#d8576b\"],[0.6666666666666666,\"#ed7953\"],[0.7777777777777778,\"#fb9f3a\"],[0.8888888888888888,\"#fdca26\"],[1.0,\"#f0f921\"]],\"sequentialminus\":[[0.0,\"#0d0887\"],[0.1111111111111111,\"#46039f\"],[0.2222222222222222,\"#7201a8\"],[0.3333333333333333,\"#9c179e\"],[0.4444444444444444,\"#bd3786\"],[0.5555555555555556,\"#d8576b\"],[0.6666666666666666,\"#ed7953\"],[0.7777777777777778,\"#fb9f3a\"],[0.8888888888888888,\"#fdca26\"],[1.0,\"#f0f921\"]]},\"colorway\":[\"#636efa\",\"#EF553B\",\"#00cc96\",\"#ab63fa\",\"#FFA15A\",\"#19d3f3\",\"#FF6692\",\"#B6E880\",\"#FF97FF\",\"#FECB52\"],\"font\":{\"color\":\"#2a3f5f\"},\"geo\":{\"bgcolor\":\"white\",\"lakecolor\":\"white\",\"landcolor\":\"#E5ECF6\",\"showlakes\":true,\"showland\":true,\"subunitcolor\":\"white\"},\"hoverlabel\":{\"align\":\"left\"},\"hovermode\":\"closest\",\"mapbox\":{\"style\":\"light\"},\"paper_bgcolor\":\"white\",\"plot_bgcolor\":\"#E5ECF6\",\"polar\":{\"angularaxis\":{\"gridcolor\":\"white\",\"linecolor\":\"white\",\"ticks\":\"\"},\"bgcolor\":\"#E5ECF6\",\"radialaxis\":{\"gridcolor\":\"white\",\"linecolor\":\"white\",\"ticks\":\"\"}},\"scene\":{\"xaxis\":{\"backgroundcolor\":\"#E5ECF6\",\"gridcolor\":\"white\",\"gridwidth\":2,\"linecolor\":\"white\",\"showbackground\":true,\"ticks\":\"\",\"zerolinecolor\":\"white\"},\"yaxis\":{\"backgroundcolor\":\"#E5ECF6\",\"gridcolor\":\"white\",\"gridwidth\":2,\"linecolor\":\"white\",\"showbackground\":true,\"ticks\":\"\",\"zerolinecolor\":\"white\"},\"zaxis\":{\"backgroundcolor\":\"#E5ECF6\",\"gridcolor\":\"white\",\"gridwidth\":2,\"linecolor\":\"white\",\"showbackground\":true,\"ticks\":\"\",\"zerolinecolor\":\"white\"}},\"shapedefaults\":{\"line\":{\"color\":\"#2a3f5f\"}},\"ternary\":{\"aaxis\":{\"gridcolor\":\"white\",\"linecolor\":\"white\",\"ticks\":\"\"},\"baxis\":{\"gridcolor\":\"white\",\"linecolor\":\"white\",\"ticks\":\"\"},\"bgcolor\":\"#E5ECF6\",\"caxis\":{\"gridcolor\":\"white\",\"linecolor\":\"white\",\"ticks\":\"\"}},\"title\":{\"x\":0.05},\"xaxis\":{\"automargin\":true,\"gridcolor\":\"white\",\"linecolor\":\"white\",\"ticks\":\"\",\"title\":{\"standoff\":15},\"zerolinecolor\":\"white\",\"zerolinewidth\":2},\"yaxis\":{\"automargin\":true,\"gridcolor\":\"white\",\"linecolor\":\"white\",\"ticks\":\"\",\"title\":{\"standoff\":15},\"zerolinecolor\":\"white\",\"zerolinewidth\":2}}},\"title\":{\"font\":{\"color\":\"#4D5663\"}},\"xaxis\":{\"gridcolor\":\"#E1E5ED\",\"showgrid\":true,\"tickfont\":{\"color\":\"#4D5663\"},\"title\":{\"font\":{\"color\":\"#4D5663\"},\"text\":\"age\"},\"zerolinecolor\":\"#E1E5ED\"},\"yaxis\":{\"gridcolor\":\"#E1E5ED\",\"showgrid\":true,\"tickfont\":{\"color\":\"#4D5663\"},\"title\":{\"font\":{\"color\":\"#4D5663\"},\"text\":\"Number of Person\"},\"zerolinecolor\":\"#E1E5ED\"}},                        {\"showLink\": true, \"linkText\": \"Export to plot.ly\", \"plotlyServerURL\": \"https://plot.ly\", \"responsive\": true}                    ).then(function(){\n",
       "                            \n",
       "var gd = document.getElementById('937a6b7e-752b-4e58-b82b-088aa31b952b');\n",
       "var x = new MutationObserver(function (mutations, observer) {{\n",
       "        var display = window.getComputedStyle(gd).display;\n",
       "        if (!display || display === 'none') {{\n",
       "            console.log([gd, 'removed!']);\n",
       "            Plotly.purge(gd);\n",
       "            observer.disconnect();\n",
       "        }}\n",
       "}});\n",
       "\n",
       "// Listen for the removal of the full notebook cells\n",
       "var notebookContainer = gd.closest('#notebook-container');\n",
       "if (notebookContainer) {{\n",
       "    x.observe(notebookContainer, {childList: true});\n",
       "}}\n",
       "\n",
       "// Listen for the clearing of the current output cell\n",
       "var outputEl = gd.closest('.output');\n",
       "if (outputEl) {{\n",
       "    x.observe(outputEl, {childList: true});\n",
       "}}\n",
       "\n",
       "                        })                };                });            </script>        </div>"
      ]
     },
     "metadata": {},
     "output_type": "display_data"
    }
   ],
   "source": [
    "(df_c1['LMName']).value_counts().iplot(kind='bar',xTitle='age', yTitle='Number of Person')"
   ]
  },
  {
   "cell_type": "code",
   "execution_count": 53,
   "id": "739ff89d",
   "metadata": {},
   "outputs": [
    {
     "name": "stdout",
     "output_type": "stream",
     "text": [
      "<class 'pandas.core.frame.DataFrame'>\n",
      "Int64Index: 2386 entries, 0 to 2385\n",
      "Data columns (total 41 columns):\n",
      " #   Column                      Non-Null Count  Dtype  \n",
      "---  ------                      --------------  -----  \n",
      " 0   id                          2386 non-null   int64  \n",
      " 1   cloan_disbursal_amount_x    2386 non-null   int64  \n",
      " 2   cloan_service_charge_x      2386 non-null   int64  \n",
      " 3   cloan_penalty_x             2386 non-null   int64  \n",
      " 4   cloan_total_x               2386 non-null   int64  \n",
      " 5   cloan_status_id             2386 non-null   float64\n",
      " 6   cloan_exhausted_days        2386 non-null   float64\n",
      " 7   user_status_id              2386 non-null   int64  \n",
      " 8   accounts_manager_id         2386 non-null   int64  \n",
      " 9   recovery_officer_id         2054 non-null   float64\n",
      " 10  gender                      2376 non-null   float64\n",
      " 11  user_created_by             2386 non-null   int64  \n",
      " 12  city                        2374 non-null   object \n",
      " 13  age                         2386 non-null   int64  \n",
      " 14  PERMANENT_PIN               2375 non-null   object \n",
      " 15  present_pin                 2377 non-null   object \n",
      " 16  DEPARTMENT                  2386 non-null   object \n",
      " 17  DESIGNATION                 2386 non-null   object \n",
      " 18  proinfo_monthly_sal         2386 non-null   int64  \n",
      " 19  INDUSTRY                    2384 non-null   object \n",
      " 20  proinfo_pincode             2377 non-null   object \n",
      " 21  proinfo_city                2386 non-null   object \n",
      " 22  capbility_status            2386 non-null   int64  \n",
      " 23  user_survey_marital_status  2380 non-null   float64\n",
      " 24  customer_bank_name          2385 non-null   object \n",
      " 25  customer_bank_ifsc_code     2385 non-null   object \n",
      " 26  RMName                      2386 non-null   object \n",
      " 27  MaxPLoanAm                  2386 non-null   int64  \n",
      " 28  LMID                        2380 non-null   float64\n",
      " 29  LMName                      2380 non-null   object \n",
      " 30  cloan_disbursal_amount_y    2386 non-null   int64  \n",
      " 31  cloan_service_charge_y      2386 non-null   int64  \n",
      " 32  cloan_penalty_y             2386 non-null   int64  \n",
      " 33  cloan_total_y               2386 non-null   int64  \n",
      " 34  cloan_amount                2386 non-null   int64  \n",
      " 35  cloan_exhausted_days_avg    2386 non-null   float64\n",
      " 36  age_bins                    2386 non-null   object \n",
      " 37  salary_bins                 2386 non-null   object \n",
      " 38  loan_bins                   2386 non-null   object \n",
      " 39  department                  2386 non-null   object \n",
      " 40  designation                 1780 non-null   object \n",
      "dtypes: float64(7), int64(17), object(17)\n",
      "memory usage: 847.4+ KB\n"
     ]
    }
   ],
   "source": [
    "df3.info()"
   ]
  },
  {
   "cell_type": "code",
   "execution_count": 54,
   "id": "46b41b3f",
   "metadata": {},
   "outputs": [
    {
     "data": {
      "text/plain": [
       "id                              0\n",
       "cloan_disbursal_amount_x        0\n",
       "cloan_service_charge_x          0\n",
       "cloan_penalty_x                 0\n",
       "cloan_total_x                   0\n",
       "cloan_status_id                 0\n",
       "cloan_exhausted_days            0\n",
       "user_status_id                  0\n",
       "accounts_manager_id             0\n",
       "recovery_officer_id           332\n",
       "gender                         10\n",
       "user_created_by                 0\n",
       "city                           12\n",
       "age                             0\n",
       "PERMANENT_PIN                  11\n",
       "present_pin                     9\n",
       "DEPARTMENT                      0\n",
       "DESIGNATION                     0\n",
       "proinfo_monthly_sal             0\n",
       "INDUSTRY                        2\n",
       "proinfo_pincode                 9\n",
       "proinfo_city                    0\n",
       "capbility_status                0\n",
       "user_survey_marital_status      6\n",
       "customer_bank_name              1\n",
       "customer_bank_ifsc_code         1\n",
       "RMName                          0\n",
       "MaxPLoanAm                      0\n",
       "LMID                            6\n",
       "LMName                          6\n",
       "cloan_disbursal_amount_y        0\n",
       "cloan_service_charge_y          0\n",
       "cloan_penalty_y                 0\n",
       "cloan_total_y                   0\n",
       "cloan_amount                    0\n",
       "cloan_exhausted_days_avg        0\n",
       "age_bins                        0\n",
       "salary_bins                     0\n",
       "loan_bins                       0\n",
       "department                      0\n",
       "designation                   606\n",
       "dtype: int64"
      ]
     },
     "execution_count": 54,
     "metadata": {},
     "output_type": "execute_result"
    }
   ],
   "source": [
    "df3.isna().sum()"
   ]
  },
  {
   "cell_type": "code",
   "execution_count": 55,
   "id": "e54a5751",
   "metadata": {},
   "outputs": [
    {
     "data": {
      "text/plain": [
       "110059    1.263158\n",
       "560076    0.842105\n",
       "500072    0.505263\n",
       "201301    0.463158\n",
       "110092    0.463158\n",
       "121001    0.421053\n",
       "560060    0.421053\n",
       "401107    0.421053\n",
       "560079    0.378947\n",
       "421201    0.378947\n",
       "560078    0.378947\n",
       "400078    0.336842\n",
       "560086    0.336842\n",
       "400067    0.336842\n",
       "560091    0.336842\n",
       "560085    0.294737\n",
       "110062    0.294737\n",
       "560043    0.294737\n",
       "500061    0.294737\n",
       "500018    0.294737\n",
       "600100    0.294737\n",
       "560068    0.294737\n",
       "560032    0.294737\n",
       "500035    0.294737\n",
       "560033    0.294737\n",
       "400068    0.294737\n",
       "560064    0.252632\n",
       "560097    0.252632\n",
       "500015    0.252632\n",
       "282001    0.252632\n",
       "411014    0.252632\n",
       "201306    0.252632\n",
       "500013    0.252632\n",
       "412105    0.252632\n",
       "500062    0.252632\n",
       "110018    0.252632\n",
       "110096    0.252632\n",
       "500050    0.252632\n",
       "560100    0.252632\n",
       "400709    0.252632\n",
       "560016    0.252632\n",
       "560092    0.210526\n",
       "560010    0.210526\n",
       "500090    0.210526\n",
       "508207    0.210526\n",
       "560045    0.210526\n",
       "560036    0.210526\n",
       "400042    0.210526\n",
       "603202    0.210526\n",
       "411018    0.210526\n",
       "110043    0.210526\n",
       "600062    0.210526\n",
       "201014    0.210526\n",
       "110017    0.210526\n",
       "401303    0.210526\n",
       "400050    0.210526\n",
       "110019    0.210526\n",
       "400072    0.210526\n",
       "421202    0.210526\n",
       "110053    0.210526\n",
       "500055    0.210526\n",
       "122001    0.210526\n",
       "520013    0.210526\n",
       "560008    0.210526\n",
       "421301    0.210526\n",
       "421302    0.210526\n",
       "500010    0.210526\n",
       "600077    0.210526\n",
       "500017    0.210526\n",
       "600122    0.210526\n",
       "560061    0.210526\n",
       "523001    0.168421\n",
       "110025    0.168421\n",
       "400097    0.168421\n",
       "625016    0.168421\n",
       "380013    0.168421\n",
       "560077    0.168421\n",
       "524002    0.168421\n",
       "834001    0.168421\n",
       "411017    0.168421\n",
       "563101    0.168421\n",
       "140603    0.168421\n",
       "600082    0.168421\n",
       "400615    0.168421\n",
       "500056    0.168421\n",
       "411015    0.168421\n",
       "603210    0.168421\n",
       "560021    0.168421\n",
       "301001    0.168421\n",
       "560003    0.168421\n",
       "600099    0.168421\n",
       "400086    0.168421\n",
       "302012    0.168421\n",
       "110094    0.168421\n",
       "502032    0.168421\n",
       "517325    0.168421\n",
       "400064    0.168421\n",
       "520001    0.168421\n",
       "500097    0.168421\n",
       "410206    0.168421\n",
       "560026    0.168421\n",
       "122002    0.168421\n",
       "560099    0.168421\n",
       "600019    0.168421\n",
       "600049    0.168421\n",
       "411028    0.168421\n",
       "500068    0.168421\n",
       "600091    0.168421\n",
       "121002    0.168421\n",
       "560072    0.168421\n",
       "560015    0.168421\n",
       "515001    0.168421\n",
       "411046    0.168421\n",
       "110085    0.168421\n",
       "110044    0.168421\n",
       "400012    0.168421\n",
       "411033    0.168421\n",
       "110006    0.126316\n",
       "560056    0.126316\n",
       "110088    0.126316\n",
       "560011    0.126316\n",
       "600053    0.126316\n",
       "583201    0.126316\n",
       "600063    0.126316\n",
       "400092    0.126316\n",
       "600015    0.126316\n",
       "560023    0.126316\n",
       "400095    0.126316\n",
       "248001    0.126316\n",
       "411001    0.126316\n",
       "421501    0.126316\n",
       "500003    0.126316\n",
       "560029    0.126316\n",
       "110084    0.126316\n",
       "523002    0.126316\n",
       "603103    0.126316\n",
       "411026    0.126316\n",
       "600042    0.126316\n",
       "600095    0.126316\n",
       "560058    0.126316\n",
       "400701    0.126316\n",
       "201016    0.126316\n",
       "400075    0.126316\n",
       "600081    0.126316\n",
       "560062    0.126316\n",
       "400069    0.126316\n",
       "401105    0.126316\n",
       "600119    0.126316\n",
       "560084    0.126316\n",
       "110008    0.126316\n",
       "421503    0.126316\n",
       "400084    0.126316\n",
       "440009    0.126316\n",
       "400080    0.126316\n",
       "411006    0.126316\n",
       "600032    0.126316\n",
       "400101    0.126316\n",
       "390023    0.126316\n",
       "110077    0.126316\n",
       "524004    0.126316\n",
       "110091    0.126316\n",
       "500008    0.126316\n",
       "600117    0.126316\n",
       "421002    0.126316\n",
       "515133    0.126316\n",
       "522001    0.126316\n",
       "380008    0.126316\n",
       "382443    0.126316\n",
       "560038    0.126316\n",
       "110032    0.126316\n",
       "401202    0.126316\n",
       "400604    0.126316\n",
       "122017    0.126316\n",
       "500019    0.126316\n",
       "411060    0.126316\n",
       "411031    0.126316\n",
       "600071    0.126316\n",
       "110045    0.126316\n",
       "400053    0.126316\n",
       "380015    0.126316\n",
       "400606    0.126316\n",
       "122018    0.126316\n",
       "518002    0.126316\n",
       "411048    0.126316\n",
       "560047    0.126316\n",
       "500060    0.126316\n",
       "500039    0.126316\n",
       "110015    0.126316\n",
       "500036    0.126316\n",
       "201005    0.126316\n",
       "401203    0.126316\n",
       "522003    0.126316\n",
       "431136    0.126316\n",
       "400605    0.126316\n",
       "641041    0.126316\n",
       "110030    0.126316\n",
       "600126    0.126316\n",
       "400706    0.126316\n",
       "401209    0.126316\n",
       "560037    0.126316\n",
       "560075    0.126316\n",
       "411036    0.084211\n",
       "530040    0.084211\n",
       "403707    0.084211\n",
       "500064    0.084211\n",
       "641001    0.084211\n",
       "632311    0.084211\n",
       "584101    0.084211\n",
       "523230    0.084211\n",
       "500083    0.084211\n",
       "400070    0.084211\n",
       "524003    0.084211\n",
       "502319    0.084211\n",
       "226016    0.084211\n",
       "506169    0.084211\n",
       "851101    0.084211\n",
       "560073    0.084211\n",
       "600033    0.084211\n",
       "721101    0.084211\n",
       "600066    0.084211\n",
       "380051    0.084211\n",
       "504231    0.084211\n",
       "500084    0.084211\n",
       "523201    0.084211\n",
       "517129    0.084211\n",
       "410208    0.084211\n",
       "523260    0.084211\n",
       "523109    0.084211\n",
       "700014    0.084211\n",
       "110065    0.084211\n",
       "571441    0.084211\n",
       "201009    0.084211\n",
       "400066    0.084211\n",
       "302018    0.084211\n",
       "201001    0.084211\n",
       "440036    0.084211\n",
       "364001    0.084211\n",
       "151001    0.084211\n",
       "562160    0.084211\n",
       "602024    0.084211\n",
       "505001    0.084211\n",
       "560094    0.084211\n",
       "560067    0.084211\n",
       "560057    0.084211\n",
       "400017    0.084211\n",
       "712104    0.084211\n",
       "411037    0.084211\n",
       "500033    0.084211\n",
       "132103    0.084211\n",
       "400022    0.084211\n",
       "500043    0.084211\n",
       "124001    0.084211\n",
       "517234    0.084211\n",
       "641107    0.084211\n",
       "311001    0.084211\n",
       "520010    0.084211\n",
       "625009    0.084211\n",
       "422004    0.084211\n",
       "110033    0.084211\n",
       "590006    0.084211\n",
       "508278    0.084211\n",
       "700070    0.084211\n",
       " INDIA    0.084211\n",
       "110046    0.084211\n",
       "600002    0.084211\n",
       "641035    0.084211\n",
       "517503    0.084211\n",
       "421306    0.084211\n",
       "500020    0.084211\n",
       "600016    0.084211\n",
       "515671    0.084211\n",
       "636140    0.084211\n",
       "209625    0.084211\n",
       "452010    0.084211\n",
       "577301    0.084211\n",
       "302019    0.084211\n",
       "600073    0.084211\n",
       "506331    0.084211\n",
       "600037    0.084211\n",
       "560013    0.084211\n",
       "500037    0.084211\n",
       "110087    0.084211\n",
       "560065    0.084211\n",
       "392001    0.084211\n",
       "560054    0.084211\n",
       "834003    0.084211\n",
       "400081    0.084211\n",
       "570008    0.084211\n",
       "600061    0.084211\n",
       "110037    0.084211\n",
       "515144    0.084211\n",
       "425107    0.084211\n",
       "509209    0.084211\n",
       "422010    0.084211\n",
       "249407    0.084211\n",
       "390012    0.084211\n",
       "302015    0.084211\n",
       "700078    0.084211\n",
       "226004    0.084211\n",
       "411022    0.084211\n",
       "121102    0.084211\n",
       "110095    0.084211\n",
       "411016    0.084211\n",
       "636001    0.084211\n",
       "390025    0.084211\n",
       "201002    0.084211\n",
       "515661    0.084211\n",
       "522601    0.084211\n",
       "400708    0.084211\n",
       "570026    0.084211\n",
       "500038    0.084211\n",
       "400016    0.084211\n",
       "247001    0.084211\n",
       "521165    0.084211\n",
       "422009    0.084211\n",
       "600028    0.084211\n",
       "500048    0.084211\n",
       "700094    0.084211\n",
       "831009    0.084211\n",
       "521001    0.084211\n",
       "411041    0.084211\n",
       "625002    0.084211\n",
       "110089    0.084211\n",
       "110074    0.084211\n",
       "410218    0.084211\n",
       "524137    0.084211\n",
       "400003    0.084211\n",
       "500076    0.084211\n",
       "411057    0.084211\n",
       "411061    0.084211\n",
       "600118    0.084211\n",
       "563128    0.084211\n",
       "571107    0.084211\n",
       "560018    0.084211\n",
       "515201    0.084211\n",
       "500034    0.084211\n",
       "208014    0.084211\n",
       "412308    0.084211\n",
       "500006    0.084211\n",
       "524201    0.084211\n",
       "581343    0.084211\n",
       "560042    0.084211\n",
       "500028    0.084211\n",
       "400019    0.084211\n",
       "560017    0.084211\n",
       "560004    0.084211\n",
       "560027    0.084211\n",
       "635207    0.084211\n",
       "516115    0.084211\n",
       "631501    0.084211\n",
       "110047    0.084211\n",
       "517561    0.084211\n",
       "600089    0.084211\n",
       "145001    0.084211\n",
       "201102    0.084211\n",
       "110009    0.084211\n",
       "431001    0.084211\n",
       "570022    0.084211\n",
       "507101    0.084211\n",
       "522502    0.084211\n",
       "411035    0.084211\n",
       "392011    0.084211\n",
       "410210    0.084211\n",
       "500089    0.084211\n",
       "504302    0.084211\n",
       "400610    0.084211\n",
       "600097    0.084211\n",
       "500085    0.084211\n",
       "600093    0.084211\n",
       "110027    0.084211\n",
       "140301    0.084211\n",
       "516193    0.084211\n",
       "635109    0.084211\n",
       "110055    0.084211\n",
       "143001    0.084211\n",
       "517001    0.084211\n",
       "400014    0.084211\n",
       "400002    0.084211\n",
       "533445    0.084211\n",
       "831005    0.084211\n",
       "400071    0.084211\n",
       "411027    0.084211\n",
       "516360    0.084211\n",
       "421204    0.084211\n",
       "638002    0.084211\n",
       "600012    0.084211\n",
       "250001    0.084211\n",
       "500047    0.084211\n",
       "500014    0.084211\n",
       "522002    0.084211\n",
       "560105    0.084211\n",
       "110041    0.084211\n",
       "110024    0.084211\n",
       "570023    0.084211\n",
       "400011    0.084211\n",
       "534301    0.084211\n",
       "563125    0.084211\n",
       "600070    0.084211\n",
       "518001    0.084211\n",
       "400705    0.084211\n",
       "262501    0.084211\n",
       "121010    0.084211\n",
       "401305    0.084211\n",
       "401101    0.084211\n",
       "523187    0.084211\n",
       "515801    0.084211\n",
       "560040    0.084211\n",
       "700002    0.084211\n",
       "560098    0.084211\n",
       "600026    0.084211\n",
       "122006    0.084211\n",
       "403802    0.084211\n",
       "600011    0.084211\n",
       "700126    0.084211\n",
       "802301    0.042105\n",
       "636113    0.042105\n",
       "831001    0.042105\n",
       "600106    0.042105\n",
       "333001    0.042105\n",
       "622303    0.042105\n",
       "140001    0.042105\n",
       "852201    0.042105\n",
       "410501    0.042105\n",
       "523111    0.042105\n",
       "628502    0.042105\n",
       "209203    0.042105\n",
       "326520    0.042105\n",
       "274409    0.042105\n",
       "231219    0.042105\n",
       "636104    0.042105\n",
       "516349    0.042105\n",
       "571430    0.042105\n",
       "506370    0.042105\n",
       "110042    0.042105\n",
       "517237    0.042105\n",
       "505122    0.042105\n",
       "201007    0.042105\n",
       "638314    0.042105\n",
       "600125    0.042105\n",
       "520007    0.042105\n",
       "629004    0.042105\n",
       "517194    0.042105\n",
       "503122    0.042105\n",
       "400065    0.042105\n",
       "518301    0.042105\n",
       "521121    0.042105\n",
       "643202    0.042105\n",
       "721435    0.042105\n",
       "142001    0.042105\n",
       "736123    0.042105\n",
       "502221    0.042105\n",
       "507303    0.042105\n",
       "642129    0.042105\n",
       "126116    0.042105\n",
       "500049    0.042105\n",
       "412216    0.042105\n",
       "403507    0.042105\n",
       "585327    0.042105\n",
       "516233    0.042105\n",
       "571216    0.042105\n",
       "712246    0.042105\n",
       "842001    0.042105\n",
       "620010    0.042105\n",
       "534101    0.042105\n",
       "605757    0.042105\n",
       "506132    0.042105\n",
       "632508    0.042105\n",
       "395002    0.042105\n",
       "385550    0.042105\n",
       "416304    0.042105\n",
       "638701    0.042105\n",
       "756100    0.042105\n",
       "516203    0.042105\n",
       "636015    0.042105\n",
       "226003    0.042105\n",
       "523182    0.042105\n",
       "721130    0.042105\n",
       "208021    0.042105\n",
       "625019    0.042105\n",
       "524408    0.042105\n",
       "520008    0.042105\n",
       "517112    0.042105\n",
       "600021    0.042105\n",
       "604503    0.042105\n",
       "390002    0.042105\n",
       "581450    0.042105\n",
       "517390    0.042105\n",
       "521326    0.042105\n",
       "517588    0.042105\n",
       "515551    0.042105\n",
       "560096    0.042105\n",
       "517101    0.042105\n",
       "600096    0.042105\n",
       "507302    0.042105\n",
       "382418    0.042105\n",
       "508201    0.042105\n",
       "695612    0.042105\n",
       "414003    0.042105\n",
       "603002    0.042105\n",
       "523168    0.042105\n",
       "515408    0.042105\n",
       "670704    0.042105\n",
       "523110    0.042105\n",
       "133001    0.042105\n",
       "845430    0.042105\n",
       "577529    0.042105\n",
       "635751    0.042105\n",
       "382110    0.042105\n",
       "413505    0.042105\n",
       "581113    0.042105\n",
       "503230    0.042105\n",
       "151203    0.042105\n",
       "562101    0.042105\n",
       "604402    0.042105\n",
       "636906    0.042105\n",
       "124103    0.042105\n",
       "700086    0.042105\n",
       "638011    0.042105\n",
       "604404    0.042105\n",
       "570016    0.042105\n",
       "134118    0.042105\n",
       "517583    0.042105\n",
       "636006    0.042105\n",
       "507301    0.042105\n",
       "821112    0.042105\n",
       "362002    0.042105\n",
       "571316    0.042105\n",
       "680551    0.042105\n",
       "516293    0.042105\n",
       "831013    0.042105\n",
       "585215    0.042105\n",
       "523265    0.042105\n",
       "10018I    0.042105\n",
       "507165    0.042105\n",
       "600039    0.042105\n",
       "500098    0.042105\n",
       "637105    0.042105\n",
       "700028    0.042105\n",
       "522619    0.042105\n",
       "600092    0.042105\n",
       "605110    0.042105\n",
       "571440    0.042105\n",
       "331302    0.042105\n",
       "848101    0.042105\n",
       "562111    0.042105\n",
       "533342    0.042105\n",
       "273003    0.042105\n",
       "682013    0.042105\n",
       "781125    0.042105\n",
       "441206    0.042105\n",
       "524203    0.042105\n",
       "574153    0.042105\n",
       "160019    0.042105\n",
       "207125    0.042105\n",
       "603304    0.042105\n",
       "611111    0.042105\n",
       "560106    0.042105\n",
       "444605    0.042105\n",
       "110002    0.042105\n",
       "517193    0.042105\n",
       "523211    0.042105\n",
       "623525    0.042105\n",
       "695607    0.042105\n",
       "522411    0.042105\n",
       "127040    0.042105\n",
       "110034    0.042105\n",
       "682005    0.042105\n",
       "609806    0.042105\n",
       "580024    0.042105\n",
       "400088    0.042105\n",
       "785680    0.042105\n",
       "632509    0.042105\n",
       "632001    0.042105\n",
       "516434    0.042105\n",
       "612001    0.042105\n",
       "602117    0.042105\n",
       "586108    0.042105\n",
       "500054    0.042105\n",
       "382405    0.042105\n",
       "800016    0.042105\n",
       "607303    0.042105\n",
       "561228    0.042105\n",
       "494001    0.042105\n",
       "734007    0.042105\n",
       "523155    0.042105\n",
       "605004    0.042105\n",
       "625512    0.042105\n",
       "695506    0.042105\n",
       "732101    0.042105\n",
       "812001    0.042105\n",
       "571124    0.042105\n",
       "400055    0.042105\n",
       "470227    0.042105\n",
       "208007    0.042105\n",
       "515402    0.042105\n",
       "531027    0.042105\n",
       "786170    0.042105\n",
       "508213    0.042105\n",
       "522236    0.042105\n",
       "760001    0.042105\n",
       "431709    0.042105\n",
       "605003    0.042105\n",
       "676509    0.042105\n",
       "516390    0.042105\n",
       "585437    0.042105\n",
       "523320    0.042105\n",
       "516269    0.042105\n",
       "231210    0.042105\n",
       "414203    0.042105\n",
       "110058    0.042105\n",
       "412208    0.042105\n",
       "695505    0.042105\n",
       "136118    0.042105\n",
       "370020    0.042105\n",
       "273001    0.042105\n",
       "638009    0.042105\n",
       "506002    0.042105\n",
       "501203    0.042105\n",
       "632316    0.042105\n",
       "422006    0.042105\n",
       "841205    0.042105\n",
       "523274    0.042105\n",
       "530012    0.042105\n",
       "673001    0.042105\n",
       "L NADU    0.042105\n",
       "600075    0.042105\n",
       "630561    0.042105\n",
       "766023    0.042105\n",
       "600059    0.042105\n",
       "208017    0.042105\n",
       "600060    0.042105\n",
       "141015    0.042105\n",
       "584128    0.042105\n",
       "110060    0.042105\n",
       "332424    0.042105\n",
       "682507    0.042105\n",
       "495687    0.042105\n",
       "431148    0.042105\n",
       "609107    0.042105\n",
       "281004    0.042105\n",
       "485111    0.042105\n",
       "700125    0.042105\n",
       "382470    0.042105\n",
       "522213    0.042105\n",
       "613009    0.042105\n",
       "632515    0.042105\n",
       "506167    0.042105\n",
       "573116    0.042105\n",
       "193502    0.042105\n",
       "600008    0.042105\n",
       "243001    0.042105\n",
       "431542    0.042105\n",
       "521324    0.042105\n",
       "205001    0.042105\n",
       "244302    0.042105\n",
       "524239    0.042105\n",
       "600052    0.042105\n",
       "247667    0.042105\n",
       "629801    0.042105\n",
       "324001    0.042105\n",
       "400033    0.042105\n",
       "620013    0.042105\n",
       "765001    0.042105\n",
       "248125    0.042105\n",
       "301019    0.042105\n",
       "582117    0.042105\n",
       "680306    0.042105\n",
       "222001    0.042105\n",
       "132001    0.042105\n",
       "631202    0.042105\n",
       "521215    0.042105\n",
       "570004    0.042105\n",
       "641004    0.042105\n",
       "583216    0.042105\n",
       "835217    0.042105\n",
       "605102    0.042105\n",
       "571401    0.042105\n",
       "781171    0.042105\n",
       "624619    0.042105\n",
       "781037    0.042105\n",
       "390004    0.042105\n",
       "523336    0.042105\n",
       "712101    0.042105\n",
       "734004    0.042105\n",
       "756168    0.042105\n",
       "606213    0.042105\n",
       "110051    0.042105\n",
       "500027    0.042105\n",
       "571602    0.042105\n",
       "641049    0.042105\n",
       "491001    0.042105\n",
       "581111    0.042105\n",
       "591108    0.042105\n",
       "600051    0.042105\n",
       "262701    0.042105\n",
       "518003    0.042105\n",
       "560087    0.042105\n",
       "332711    0.042105\n",
       "603101    0.042105\n",
       "582118    0.042105\n",
       "535240    0.042105\n",
       "396321    0.042105\n",
       "620020    0.042105\n",
       "500001    0.042105\n",
       "614001    0.042105\n",
       "686579    0.042105\n",
       "380060    0.042105\n",
       "741257    0.042105\n",
       "600048    0.042105\n",
       "571431    0.042105\n",
       "500075    0.042105\n",
       "515761    0.042105\n",
       "450001    0.042105\n",
       "788724    0.042105\n",
       "524142    0.042105\n",
       "800003    0.042105\n",
       "759100    0.042105\n",
       "380007    0.042105\n",
       "504220    0.042105\n",
       "503123    0.042105\n",
       "400607    0.042105\n",
       "680501    0.042105\n",
       "500067    0.042105\n",
       "627862    0.042105\n",
       "517350    0.042105\n",
       "841301    0.042105\n",
       "524314    0.042105\n",
       "324010    0.042105\n",
       "247551    0.042105\n",
       "533106    0.042105\n",
       "516110    0.042105\n",
       "641033    0.042105\n",
       "521201    0.042105\n",
       "508116    0.042105\n",
       "516309    0.042105\n",
       "638008    0.042105\n",
       "490001    0.042105\n",
       "600072    0.042105\n",
       "571121    0.042105\n",
       "628552    0.042105\n",
       "211004    0.042105\n",
       "522615    0.042105\n",
       "572101    0.042105\n",
       "277201    0.042105\n",
       "533247    0.042105\n",
       "845455    0.042105\n",
       "515124    0.042105\n",
       "516173    0.042105\n",
       "561207    0.042105\n",
       "391330    0.042105\n",
       "425101    0.042105\n",
       "462043    0.042105\n",
       "500025    0.042105\n",
       "518122    0.042105\n",
       "600024    0.042105\n",
       "638656    0.042105\n",
       "562110    0.042105\n",
       "400087    0.042105\n",
       "522124    0.042105\n",
       "518218    0.042105\n",
       "636301    0.042105\n",
       "416502    0.042105\n",
       "843313    0.042105\n",
       "456010    0.042105\n",
       "401207    0.042105\n",
       "685612    0.042105\n",
       "517192    0.042105\n",
       "416505    0.042105\n",
       "563126    0.042105\n",
       "517619    0.042105\n",
       "530018    0.042105\n",
       "250110    0.042105\n",
       "535591    0.042105\n",
       "518347    0.042105\n",
       "573123    0.042105\n",
       "571218    0.042105\n",
       "500011    0.042105\n",
       "573201    0.042105\n",
       "400010    0.042105\n",
       "500094    0.042105\n",
       "422001    0.042105\n",
       "250609    0.042105\n",
       "521328    0.042105\n",
       "835302    0.042105\n",
       "110093    0.042105\n",
       "425105    0.042105\n",
       "834004    0.042105\n",
       "480441    0.042105\n",
       "323307    0.042105\n",
       "614601    0.042105\n",
       "507128    0.042105\n",
       "641027    0.042105\n",
       "485005    0.042105\n",
       "110080    0.042105\n",
       "416501    0.042105\n",
       "504251    0.042105\n",
       "533016    0.042105\n",
       "477222    0.042105\n",
       "516505    0.042105\n",
       "517425    0.042105\n",
       "523262    0.042105\n",
       "606105    0.042105\n",
       "522649    0.042105\n",
       "173021    0.042105\n",
       "524323    0.042105\n",
       "626177    0.042105\n",
       "695313    0.042105\n",
       "506001    0.042105\n",
       "412307    0.042105\n",
       "443101    0.042105\n",
       "208011    0.042105\n",
       "700071    0.042105\n",
       "751021    0.042105\n",
       "828404    0.042105\n",
       "110068    0.042105\n",
       "500073    0.042105\n",
       "462001    0.042105\n",
       "571463    0.042105\n",
       "509153    0.042105\n",
       "532290    0.042105\n",
       "743127    0.042105\n",
       "641036    0.042105\n",
       "642122    0.042105\n",
       "212107    0.042105\n",
       "641046    0.042105\n",
       "572201    0.042105\n",
       "721607    0.042105\n",
       "635126    0.042105\n",
       "122505    0.042105\n",
       "500059    0.042105\n",
       "400029    0.042105\n",
       "560095    0.042105\n",
       "134116    0.042105\n",
       "530048    0.042105\n",
       "400060    0.042105\n",
       "462010    0.042105\n",
       "382340    0.042105\n",
       "735101    0.042105\n",
       "148001    0.042105\n",
       "534001    0.042105\n",
       "572211    0.042105\n",
       "191111    0.042105\n",
       "577539    0.042105\n",
       "210301    0.042105\n",
       "523241    0.042105\n",
       "632008    0.042105\n",
       "203207    0.042105\n",
       "570028    0.042105\n",
       "760010    0.042105\n",
       "122101    0.042105\n",
       "532127    0.042105\n",
       "577201    0.042105\n",
       "500016    0.042105\n",
       "700156    0.042105\n",
       "342001    0.042105\n",
       "583227    0.042105\n",
       "412207    0.042105\n",
       "600010    0.042105\n",
       "734223    0.042105\n",
       "524406    0.042105\n",
       "531021    0.042105\n",
       "503001    0.042105\n",
       "577116    0.042105\n",
       "400608    0.042105\n",
       "507316    0.042105\n",
       "641023    0.042105\n",
       "502290    0.042105\n",
       "411002    0.042105\n",
       "421004    0.042105\n",
       "560046    0.042105\n",
       "631102    0.042105\n",
       "600127    0.042105\n",
       "422101    0.042105\n",
       "560035    0.042105\n",
       "571102    0.042105\n",
       "606201    0.042105\n",
       "ASTRA     0.042105\n",
       "602109    0.042105\n",
       "577204    0.042105\n",
       "221010    0.042105\n",
       "530007    0.042105\n",
       "801105    0.042105\n",
       "500026    0.042105\n",
       "110013    0.042105\n",
       "411062    0.042105\n",
       "753011    0.042105\n",
       "627502    0.042105\n",
       "521227    0.042105\n",
       "221403    0.042105\n",
       "638001    0.042105\n",
       "713212    0.042105\n",
       "400076    0.042105\n",
       "621713    0.042105\n",
       "516218    0.042105\n",
       "123102    0.042105\n",
       "572124    0.042105\n",
       "508126    0.042105\n",
       "516175    0.042105\n",
       "827013    0.042105\n",
       "600128    0.042105\n",
       "524101    0.042105\n",
       "516003    0.042105\n",
       "601301    0.042105\n",
       "533343    0.042105\n",
       "411052    0.042105\n",
       "176059    0.042105\n",
       "629176    0.042105\n",
       "245207    0.042105\n",
       "573134    0.042105\n",
       "573211    0.042105\n",
       "324007    0.042105\n",
       "121003    0.042105\n",
       "246149    0.042105\n",
       "413004    0.042105\n",
       "500005    0.042105\n",
       "700020    0.042105\n",
       "249201    0.042105\n",
       "518422    0.042105\n",
       "345001    0.042105\n",
       "522022    0.042105\n",
       "533101    0.042105\n",
       "641039    0.042105\n",
       "515411    0.042105\n",
       "517501    0.042105\n",
       "517502    0.042105\n",
       "390024    0.042105\n",
       "122015    0.042105\n",
       "245401    0.042105\n",
       "823001    0.042105\n",
       "560005    0.042105\n",
       "670511    0.042105\n",
       "799007    0.042105\n",
       "127022    0.042105\n",
       "600112    0.042105\n",
       "415506    0.042105\n",
       "841238    0.042105\n",
       "470661    0.042105\n",
       "524121    0.042105\n",
       "508233    0.042105\n",
       "560051    0.042105\n",
       "533001    0.042105\n",
       "495004    0.042105\n",
       "638003    0.042105\n",
       "143521    0.042105\n",
       "110075    0.042105\n",
       "629153    0.042105\n",
       "625513    0.042105\n",
       "110003    0.042105\n",
       "516444    0.042105\n",
       "586103    0.042105\n",
       "629401    0.042105\n",
       "560020    0.042105\n",
       "523157    0.042105\n",
       "625702    0.042105\n",
       "605001    0.042105\n",
       "734006    0.042105\n",
       "600085    0.042105\n",
       "401208    0.042105\n",
       "629002    0.042105\n",
       "636106    0.042105\n",
       "110029    0.042105\n",
       "440002    0.042105\n",
       "585401    0.042105\n",
       "517432    0.042105\n",
       "411011    0.042105\n",
       "110001    0.042105\n",
       "441924    0.042105\n",
       "416002    0.042105\n",
       "251001    0.042105\n",
       "584115    0.042105\n",
       "412102    0.042105\n",
       "221006    0.042105\n",
       "700055    0.042105\n",
       "481441    0.042105\n",
       "572128    0.042105\n",
       "800012    0.042105\n",
       "534452    0.042105\n",
       "641015    0.042105\n",
       "603102    0.042105\n",
       "700036    0.042105\n",
       "673592    0.042105\n",
       "442301    0.042105\n",
       "560066    0.042105\n",
       "396045    0.042105\n",
       "482001    0.042105\n",
       "583121    0.042105\n",
       "635851    0.042105\n",
       "600065    0.042105\n",
       "533248    0.042105\n",
       "678552    0.042105\n",
       "635303    0.042105\n",
       "627120    0.042105\n",
       "533103    0.042105\n",
       "125121    0.042105\n",
       "246701    0.042105\n",
       "400037    0.042105\n",
       "700135    0.042105\n",
       "637101    0.042105\n",
       "500045    0.042105\n",
       "221003    0.042105\n",
       "281122    0.042105\n",
       "110010    0.042105\n",
       "673572    0.042105\n",
       "400004    0.042105\n",
       "801301    0.042105\n",
       "425001    0.042105\n",
       "793001    0.042105\n",
       "700060    0.042105\n",
       "501505    0.042105\n",
       "517247    0.042105\n",
       "560028    0.042105\n",
       "305001    0.042105\n",
       "41        0.042105\n",
       "522421    0.042105\n",
       "390014    0.042105\n",
       "400028    0.042105\n",
       "756162    0.042105\n",
       "110063    0.042105\n",
       "620001    0.042105\n",
       "110005    0.042105\n",
       "767001    0.042105\n",
       "535128    0.042105\n",
       "711101    0.042105\n",
       "834009    0.042105\n",
       "143505    0.042105\n",
       "474020    0.042105\n",
       "505416    0.042105\n",
       "721301    0.042105\n",
       "521256    0.042105\n",
       "382481    0.042105\n",
       "474003    0.042105\n",
       "400614    0.042105\n",
       "786001    0.042105\n",
       "590009    0.042105\n",
       "689121    0.042105\n",
       "712102    0.042105\n",
       "590014    0.042105\n",
       "516150    0.042105\n",
       "700042    0.042105\n",
       "700082    0.042105\n",
       "229121    0.042105\n",
       "563114    0.042105\n",
       "502334    0.042105\n",
       "761008    0.042105\n",
       "518396    0.042105\n",
       "410505    0.042105\n",
       "412106    0.042105\n",
       "800004    0.042105\n",
       "244001    0.042105\n",
       "415002    0.042105\n",
       "517569    0.042105\n",
       "380061    0.042105\n",
       "572106    0.042105\n",
       "643228    0.042105\n",
       "828103    0.042105\n",
       "502325    0.042105\n",
       "700066    0.042105\n",
       "635802    0.042105\n",
       "507001    0.042105\n",
       "421605    0.042105\n",
       "110012    0.042105\n",
       "788004    0.042105\n",
       "249202    0.042105\n",
       "400059    0.042105\n",
       "231216    0.042105\n",
       "761010    0.042105\n",
       "643101    0.042105\n",
       "580001    0.042105\n",
       "572103    0.042105\n",
       "440034    0.042105\n",
       "576105    0.042105\n",
       "          0.042105\n",
       "411021    0.042105\n",
       "700033    0.042105\n",
       "508245    0.042105\n",
       "700157    0.042105\n",
       "110028    0.042105\n",
       "ASHTRA    0.042105\n",
       "600090    0.042105\n",
       "500079    0.042105\n",
       "221007    0.042105\n",
       "442001    0.042105\n",
       "534239    0.042105\n",
       "422003    0.042105\n",
       "841438    0.042105\n",
       "516107    0.042105\n",
       "621105    0.042105\n",
       "515812    0.042105\n",
       "638004    0.042105\n",
       "506015    0.042105\n",
       "403006    0.042105\n",
       "201303    0.042105\n",
       "521137    0.042105\n",
       "530016    0.042105\n",
       "571429    0.042105\n",
       "570019    0.042105\n",
       "607801    0.042105\n",
       "410203    0.042105\n",
       "535558    0.042105\n",
       "176319    0.042105\n",
       "521235    0.042105\n",
       "415605    0.042105\n",
       "324004    0.042105\n",
       "625018    0.042105\n",
       "500004    0.042105\n",
       "400049    0.042105\n",
       "473551    0.042105\n",
       "312211    0.042105\n",
       "671543    0.042105\n",
       "583102    0.042105\n",
       "583134    0.042105\n",
       "700065    0.042105\n",
       "603209    0.042105\n",
       "712304    0.042105\n",
       "800009    0.042105\n",
       "415001    0.042105\n",
       "226021    0.042105\n",
       "400057    0.042105\n",
       "700074    0.042105\n",
       "507202    0.042105\n",
       "690502    0.042105\n",
       "574202    0.042105\n",
       "144402    0.042105\n",
       "517424    0.042105\n",
       "411019    0.042105\n",
       "631702    0.042105\n",
       "607003    0.042105\n",
       "523101    0.042105\n",
       "637209    0.042105\n",
       "517505    0.042105\n",
       "500044    0.042105\n",
       "608703    0.042105\n",
       "134109    0.042105\n",
       "517408    0.042105\n",
       "560090    0.042105\n",
       "110023    0.042105\n",
       "11059     0.042105\n",
       "413502    0.042105\n",
       "100006    0.042105\n",
       "110083    0.042105\n",
       "141008    0.042105\n",
       "518004    0.042105\n",
       "576229    0.042105\n",
       "400083    0.042105\n",
       "581402    0.042105\n",
       "137091    0.042105\n",
       "201010    0.042105\n",
       "400051    0.042105\n",
       "600074    0.042105\n",
       "572120    0.042105\n",
       "462046    0.042105\n",
       "244901    0.042105\n",
       "562130    0.042105\n",
       "629502    0.042105\n",
       "400034    0.042105\n",
       "273155    0.042105\n",
       "635805    0.042105\n",
       "516130    0.042105\n",
       "144208    0.042105\n",
       "585105    0.042105\n",
       "508114    0.042105\n",
       "412101    0.042105\n",
       "462026    0.042105\n",
       "607107    0.042105\n",
       "422011    0.042105\n",
       "700034    0.042105\n",
       "756024    0.042105\n",
       "518513    0.042105\n",
       "400703    0.042105\n",
       "695027    0.042105\n",
       "411045    0.042105\n",
       "562109    0.042105\n",
       "206242    0.042105\n",
       "632002    0.042105\n",
       "560002    0.042105\n",
       "411032    0.042105\n",
       "583123    0.042105\n",
       "501510    0.042105\n",
       "641032    0.042105\n",
       "400102    0.042105\n",
       "641652    0.042105\n",
       "530013    0.042105\n",
       "625003    0.042105\n",
       "523263    0.042105\n",
       "560030    0.042105\n",
       "421102    0.042105\n",
       "635123    0.042105\n",
       "380001    0.042105\n",
       "627808    0.042105\n",
       "600069    0.042105\n",
       "400056    0.042105\n",
       "635601    0.042105\n",
       "561203    0.042105\n",
       "560050    0.042105\n",
       "507114    0.042105\n",
       "500087    0.042105\n",
       "505102    0.042105\n",
       "452009    0.042105\n",
       "533431    0.042105\n",
       "515455    0.042105\n",
       "713125    0.042105\n",
       "534462    0.042105\n",
       "577202    0.042105\n",
       "600058    0.042105\n",
       "600107    0.042105\n",
       "370421    0.042105\n",
       "583238    0.042105\n",
       "600040    0.042105\n",
       "506009    0.042105\n",
       "600045    0.042105\n",
       "523105    0.042105\n",
       "639203    0.042105\n",
       "600123    0.042105\n",
       "517415    0.042105\n",
       "600078    0.042105\n",
       "193123    0.042105\n",
       "821305    0.042105\n",
       "523167    0.042105\n",
       "396421    0.042105\n",
       "785015    0.042105\n",
       "100062    0.042105\n",
       "423213    0.042105\n",
       "626117    0.042105\n",
       "394210    0.042105\n",
       "641006    0.042105\n",
       "302006    0.042105\n",
       "500070    0.042105\n",
       "313004    0.042105\n",
       "422606    0.042105\n",
       "606604    0.042105\n",
       "560048    0.042105\n",
       "700023    0.042105\n",
       " India    0.042105\n",
       "768216    0.042105\n",
       "690504    0.042105\n",
       "825421    0.042105\n",
       "585104    0.042105\n",
       "577598    0.042105\n",
       "587301    0.042105\n",
       "521151    0.042105\n",
       "272151    0.042105\n",
       "533308    0.042105\n",
       "600116    0.042105\n",
       "523112    0.042105\n",
       "577601    0.042105\n",
       "571105    0.042105\n",
       "754025    0.042105\n",
       "625006    0.042105\n",
       "400089    0.042105\n",
       "622201    0.042105\n",
       "301701    0.042105\n",
       "641020    0.042105\n",
       "620002    0.042105\n",
       "517417    0.042105\n",
       "570001    0.042105\n",
       "515212    0.042105\n",
       "515672    0.042105\n",
       "121008    0.042105\n",
       "440025    0.042105\n",
       "522616    0.042105\n",
       "226005    0.042105\n",
       "249155    0.042105\n",
       "500092    0.042105\n",
       "458001    0.042105\n",
       "638104    0.042105\n",
       "682306    0.042105\n",
       "521225    0.042105\n",
       "560071    0.042105\n",
       "522414    0.042105\n",
       "440024    0.042105\n",
       "583119    0.042105\n",
       "515581    0.042105\n",
       "614902    0.042105\n",
       "531113    0.042105\n",
       "530041    0.042105\n",
       "531085    0.042105\n",
       "509201    0.042105\n",
       "140507    0.042105\n",
       "515865    0.042105\n",
       "402401    0.042105\n",
       "841226    0.042105\n",
       "754021    0.042105\n",
       "474011    0.042105\n",
       "516355    0.042105\n",
       "425401    0.042105\n",
       "811214    0.042105\n",
       "524126    0.042105\n",
       "500009    0.042105\n",
       "483501    0.042105\n",
       "626130    0.042105\n",
       "523240    0.042105\n",
       "125112    0.042105\n",
       "632512    0.042105\n",
       "743263    0.042105\n",
       "577552    0.042105\n",
       "415205    0.042105\n",
       "561208    0.042105\n",
       "518222    0.042105\n",
       "396191    0.042105\n",
       "600017    0.042105\n",
       "390019    0.042105\n",
       "623518    0.042105\n",
       "532284    0.042105\n",
       "626001    0.042105\n",
       "670017    0.042105\n",
       "390011    0.042105\n",
       "636302    0.042105\n",
       "754202    0.042105\n",
       "560041    0.042105\n",
       "416106    0.042105\n",
       "591123    0.042105\n",
       "760003    0.042105\n",
       "533216    0.042105\n",
       "626121    0.042105\n",
       "530051    0.042105\n",
       "711202    0.042105\n",
       "262901    0.042105\n",
       "574212    0.042105\n",
       "508211    0.042105\n",
       "573122    0.042105\n",
       "302017    0.042105\n",
       "470002    0.042105\n",
       "590016    0.042105\n",
       "412806    0.042105\n",
       "603305    0.042105\n",
       "628902    0.042105\n",
       "140604    0.042105\n",
       "517257    0.042105\n",
       "504106    0.042105\n",
       "180020    0.042105\n",
       "302021    0.042105\n",
       "627751    0.042105\n",
       "600076    0.042105\n",
       "576107    0.042105\n",
       "636905    0.042105\n",
       "700049    0.042105\n",
       "523225    0.042105\n",
       "462042    0.042105\n",
       "587117    0.042105\n",
       "516001    0.042105\n",
       "686606    0.042105\n",
       "580023    0.042105\n",
       "532222    0.042105\n",
       "412115    0.042105\n",
       "121005    0.042105\n",
       "560053    0.042105\n",
       "110049    0.042105\n",
       "412114    0.042105\n",
       "515751    0.042105\n",
       "509001    0.042105\n",
       "769014    0.042105\n",
       "637404    0.042105\n",
       "244235    0.042105\n",
       "581333    0.042105\n",
       "400091    0.042105\n",
       "600005    0.042105\n",
       "695568    0.042105\n",
       "691011    0.042105\n",
       "562129    0.042105\n",
       "641045    0.042105\n",
       "533104    0.042105\n",
       "769001    0.042105\n",
       "414001    0.042105\n",
       "638183    0.042105\n",
       "523316    0.042105\n",
       "121004    0.042105\n",
       "481115    0.042105\n",
       "444604    0.042105\n",
       "580008    0.042105\n",
       "712250    0.042105\n",
       "635112    0.042105\n",
       "576230    0.042105\n",
       "631605    0.042105\n",
       "841243    0.042105\n",
       "400603    0.042105\n",
       "632013    0.042105\n",
       "754135    0.042105\n",
       "522309    0.042105\n",
       "226023    0.042105\n",
       "624601    0.042105\n",
       "605106    0.042105\n",
       "503224    0.042105\n",
       "620003    0.042105\n",
       "829101    0.042105\n",
       "411007    0.042105\n",
       "424201    0.042105\n",
       "248121    0.042105\n",
       "632507    0.042105\n",
       "503302    0.042105\n",
       "736121    0.042105\n",
       "272178    0.042105\n",
       "192221    0.042105\n",
       "814112    0.042105\n",
       "400058    0.042105\n",
       "603203    0.042105\n",
       "639105    0.042105\n",
       "643004    0.042105\n",
       "781028    0.042105\n",
       "518395    0.042105\n",
       "636008    0.042105\n",
       "829123    0.042105\n",
       "532195    0.042105\n",
       "521301    0.042105\n",
       "605008    0.042105\n",
       "620006    0.042105\n",
       "802101    0.042105\n",
       "800006    0.042105\n",
       "563122    0.042105\n",
       "841403    0.042105\n",
       "500029    0.042105\n",
       "754004    0.042105\n",
       "785006    0.042105\n",
       "686577    0.042105\n",
       "620017    0.042105\n",
       "608401    0.042105\n",
       "490025    0.042105\n",
       "638476    0.042105\n",
       "144001    0.042105\n",
       "507203    0.042105\n",
       "431804    0.042105\n",
       "110022    0.042105\n",
       "508202    0.042105\n",
       "583104    0.042105\n",
       "572102    0.042105\n",
       "601201    0.042105\n",
       "221304    0.042105\n",
       "642126    0.042105\n",
       "110048    0.042105\n",
       "125033    0.042105\n",
       "523261    0.042105\n",
       "382350    0.042105\n",
       "600054    0.042105\n",
       "711103    0.042105\n",
       "560083    0.042105\n",
       "751006    0.042105\n",
       "413527    0.042105\n",
       "670331    0.042105\n",
       "Name: PERMANENT_PIN, dtype: float64"
      ]
     },
     "execution_count": 55,
     "metadata": {},
     "output_type": "execute_result"
    }
   ],
   "source": [
    "df3.PERMANENT_PIN.value_counts(normalize=True)*100"
   ]
  },
  {
   "cell_type": "code",
   "execution_count": 56,
   "id": "4d95130f",
   "metadata": {},
   "outputs": [
    {
     "data": {
      "text/plain": [
       "110059    1.346235\n",
       "560076    0.883467\n",
       "500072    0.799327\n",
       "201301    0.631048\n",
       "560078    0.546908\n",
       "110092    0.462768\n",
       "560068    0.420698\n",
       "121001    0.420698\n",
       "421201    0.420698\n",
       "401107    0.420698\n",
       "560043    0.420698\n",
       "560079    0.378629\n",
       "500018    0.378629\n",
       "122001    0.378629\n",
       "560064    0.378629\n",
       "560060    0.378629\n",
       "560100    0.336559\n",
       "560032    0.336559\n",
       "560091    0.336559\n",
       "560085    0.336559\n",
       "500061    0.336559\n",
       "560016    0.336559\n",
       "400067    0.336559\n",
       "560086    0.336559\n",
       "411014    0.336559\n",
       "400078    0.336559\n",
       "500035    0.336559\n",
       "201306    0.336559\n",
       "110062    0.336559\n",
       "400068    0.294489\n",
       "560036    0.294489\n",
       "560037    0.294489\n",
       "400709    0.294489\n",
       "560097    0.294489\n",
       "500050    0.294489\n",
       "110096    0.294489\n",
       "500013    0.294489\n",
       "600100    0.294489\n",
       "500010    0.294489\n",
       "560045    0.294489\n",
       "110025    0.294489\n",
       "560092    0.294489\n",
       "560033    0.294489\n",
       "110018    0.252419\n",
       "500015    0.252419\n",
       "401303    0.252419\n",
       "500062    0.252419\n",
       "500055    0.252419\n",
       "410206    0.252419\n",
       "500090    0.252419\n",
       "560008    0.252419\n",
       "600122    0.252419\n",
       "560099    0.252419\n",
       "600077    0.252419\n",
       "412105    0.252419\n",
       "421302    0.210349\n",
       "400042    0.210349\n",
       "421301    0.210349\n",
       "500049    0.210349\n",
       "282001    0.210349\n",
       "411018    0.210349\n",
       "110053    0.210349\n",
       "502032    0.210349\n",
       "421202    0.210349\n",
       "110017    0.210349\n",
       "400701    0.210349\n",
       "600062    0.210349\n",
       "560072    0.210349\n",
       "560010    0.210349\n",
       "500056    0.210349\n",
       "603202    0.210349\n",
       "400050    0.210349\n",
       "500084    0.210349\n",
       "560061    0.210349\n",
       "500017    0.210349\n",
       "500068    0.210349\n",
       "110043    0.210349\n",
       "110019    0.210349\n",
       "560048    0.210349\n",
       "411015    0.168279\n",
       "517325    0.168279\n",
       "400012    0.168279\n",
       "560105    0.168279\n",
       "110044    0.168279\n",
       "600032    0.168279\n",
       "400080    0.168279\n",
       "500016    0.168279\n",
       "600091    0.168279\n",
       "560094    0.168279\n",
       "411028    0.168279\n",
       "520001    0.168279\n",
       "600049    0.168279\n",
       "560035    0.168279\n",
       "411048    0.168279\n",
       "625016    0.168279\n",
       "523001    0.168279\n",
       "201014    0.168279\n",
       "400086    0.168279\n",
       "560029    0.168279\n",
       "400615    0.168279\n",
       "380013    0.168279\n",
       "560003    0.168279\n",
       "560047    0.168279\n",
       "400053    0.168279\n",
       "400072    0.168279\n",
       "500039    0.168279\n",
       "520013    0.168279\n",
       "121002    0.168279\n",
       "110085    0.168279\n",
       "560015    0.168279\n",
       "600063    0.168279\n",
       "302012    0.168279\n",
       "500038    0.168279\n",
       "600019    0.168279\n",
       "400097    0.168279\n",
       "560077    0.168279\n",
       "524002    0.168279\n",
       "560026    0.168279\n",
       "834001    0.168279\n",
       "560021    0.168279\n",
       "411026    0.168279\n",
       "411001    0.168279\n",
       "411033    0.168279\n",
       "560038    0.168279\n",
       "603210    0.168279\n",
       "122002    0.168279\n",
       "500089    0.168279\n",
       "600095    0.168279\n",
       "600126    0.168279\n",
       "500085    0.168279\n",
       "110006    0.168279\n",
       "600082    0.168279\n",
       "508207    0.168279\n",
       "140603    0.168279\n",
       "500097    0.168279\n",
       "411046    0.168279\n",
       "600099    0.168279\n",
       "515001    0.168279\n",
       "122017    0.168279\n",
       "400064    0.168279\n",
       "400606    0.168279\n",
       "603103    0.126210\n",
       "110094    0.126210\n",
       "500034    0.126210\n",
       "560084    0.126210\n",
       "201016    0.126210\n",
       "400706    0.126210\n",
       "523002    0.126210\n",
       "110088    0.126210\n",
       "500070    0.126210\n",
       "600015    0.126210\n",
       "248001    0.126210\n",
       "110008    0.126210\n",
       "560040    0.126210\n",
       "500003    0.126210\n",
       "500036    0.126210\n",
       "422009    0.126210\n",
       "560056    0.126210\n",
       " India    0.126210\n",
       "560062    0.126210\n",
       "390023    0.126210\n",
       "583123    0.126210\n",
       "421503    0.126210\n",
       "400605    0.126210\n",
       "400705    0.126210\n",
       "412207    0.126210\n",
       "641041    0.126210\n",
       "400095    0.126210\n",
       "392001    0.126210\n",
       "560058    0.126210\n",
       "400084    0.126210\n",
       "421501    0.126210\n",
       "110084    0.126210\n",
       "600119    0.126210\n",
       "600053    0.126210\n",
       "500020    0.126210\n",
       "500019    0.126210\n",
       "122015    0.126210\n",
       "401105    0.126210\n",
       "400069    0.126210\n",
       "401202    0.126210\n",
       "440009    0.126210\n",
       "600042    0.126210\n",
       "122018    0.126210\n",
       "600071    0.126210\n",
       "431136    0.126210\n",
       "380008    0.126210\n",
       "110015    0.126210\n",
       "201005    0.126210\n",
       "522001    0.126210\n",
       "560011    0.126210\n",
       "522003    0.126210\n",
       "560023    0.126210\n",
       "411061    0.126210\n",
       "401209    0.126210\n",
       "110045    0.126210\n",
       "600081    0.126210\n",
       "524004    0.126210\n",
       "600033    0.126210\n",
       "400101    0.126210\n",
       "380015    0.126210\n",
       "110077    0.126210\n",
       "421204    0.126210\n",
       "411060    0.126210\n",
       "400604    0.126210\n",
       "635109    0.126210\n",
       "110091    0.126210\n",
       "421002    0.126210\n",
       "411006    0.126210\n",
       "382443    0.126210\n",
       "411031    0.126210\n",
       "563101    0.126210\n",
       "110032    0.126210\n",
       "400092    0.126210\n",
       "400075    0.126210\n",
       "500008    0.126210\n",
       "500037    0.126210\n",
       "600117    0.126210\n",
       "411017    0.126210\n",
       "560075    0.126210\n",
       "410210    0.126210\n",
       "500060    0.126210\n",
       "110030    0.126210\n",
       "600096    0.084140\n",
       "410218    0.084140\n",
       "508278    0.084140\n",
       "600052    0.084140\n",
       "121003    0.084140\n",
       "560018    0.084140\n",
       "145001    0.084140\n",
       "110055    0.084140\n",
       "500073    0.084140\n",
       "504231    0.084140\n",
       "209625    0.084140\n",
       "600089    0.084140\n",
       "143001    0.084140\n",
       "302019    0.084140\n",
       "201009    0.084140\n",
       "517503    0.084140\n",
       "400028    0.084140\n",
       "600016    0.084140\n",
       "560042    0.084140\n",
       "507101    0.084140\n",
       "110046    0.084140\n",
       "570008    0.084140\n",
       "500076    0.084140\n",
       "500047    0.084140\n",
       "110087    0.084140\n",
       "431001    0.084140\n",
       "400610    0.084140\n",
       "390012    0.084140\n",
       "700078    0.084140\n",
       "110095    0.084140\n",
       "422010    0.084140\n",
       "411016    0.084140\n",
       "390025    0.084140\n",
       "522601    0.084140\n",
       "516193    0.084140\n",
       "411057    0.084140\n",
       "249407    0.084140\n",
       "250001    0.084140\n",
       "400708    0.084140\n",
       "400014    0.084140\n",
       "110047    0.084140\n",
       "208014    0.084140\n",
       "600097    0.084140\n",
       "151001    0.084140\n",
       "500043    0.084140\n",
       "533101    0.084140\n",
       "110037    0.084140\n",
       "583201    0.084140\n",
       "515661    0.084140\n",
       "500027    0.084140\n",
       "523109    0.084140\n",
       "700070    0.084140\n",
       "641107    0.084140\n",
       "500025    0.084140\n",
       "364001    0.084140\n",
       "590006    0.084140\n",
       "560073    0.084140\n",
       "201002    0.084140\n",
       "560054    0.084140\n",
       "425107    0.084140\n",
       "600002    0.084140\n",
       "400070    0.084140\n",
       "577301    0.084140\n",
       "600073    0.084140\n",
       "712104    0.084140\n",
       "500033    0.084140\n",
       "600037    0.084140\n",
       "226004    0.084140\n",
       "523187    0.084140\n",
       "110068    0.084140\n",
       "380051    0.084140\n",
       "302018    0.084140\n",
       "500064    0.084140\n",
       "641001    0.084140\n",
       "522002    0.084140\n",
       "530040    0.084140\n",
       "132103    0.084140\n",
       "400081    0.084140\n",
       "400066    0.084140\n",
       "201001    0.084140\n",
       "410208    0.084140\n",
       "502319    0.084140\n",
       "560057    0.084140\n",
       "518002    0.084140\n",
       "412208    0.084140\n",
       "110033    0.084140\n",
       "600061    0.084140\n",
       "401203    0.084140\n",
       "110065    0.084140\n",
       "600066    0.084140\n",
       " INDIA    0.084140\n",
       "500083    0.084140\n",
       "411022    0.084140\n",
       "421306    0.084140\n",
       "571441    0.084140\n",
       "509209    0.084140\n",
       "400022    0.084140\n",
       "400058    0.084140\n",
       "560013    0.084140\n",
       "524003    0.084140\n",
       "452010    0.084140\n",
       "500001    0.084140\n",
       "641006    0.084140\n",
       "602024    0.084140\n",
       "625009    0.084140\n",
       "422004    0.084140\n",
       "523230    0.084140\n",
       "411036    0.084140\n",
       "560046    0.084140\n",
       "560065    0.084140\n",
       "411037    0.084140\n",
       "311001    0.084140\n",
       "834003    0.084140\n",
       "584101    0.084140\n",
       "302015    0.084140\n",
       "500045    0.084140\n",
       "122505    0.084140\n",
       "121102    0.084140\n",
       "124001    0.084140\n",
       "560067    0.084140\n",
       "515144    0.084140\n",
       "110001    0.084140\n",
       "560102    0.084140\n",
       "400011    0.084140\n",
       "570023    0.084140\n",
       "560098    0.084140\n",
       "605009    0.084140\n",
       "403802    0.084140\n",
       "600026    0.084140\n",
       "638002    0.084140\n",
       "401101    0.084140\n",
       "560066    0.084140\n",
       "600012    0.084140\n",
       "600116    0.084140\n",
       "560030    0.084140\n",
       "600123    0.084140\n",
       "563125    0.084140\n",
       "262501    0.084140\n",
       "600070    0.084140\n",
       "560028    0.084140\n",
       "140301    0.084140\n",
       "110024    0.084140\n",
       "500044    0.084140\n",
       "400016    0.084140\n",
       "110041    0.084140\n",
       "110027    0.084140\n",
       "500081    0.084140\n",
       "600011    0.084140\n",
       "201102    0.084140\n",
       "534301    0.084140\n",
       "122006    0.084140\n",
       "632311    0.084140\n",
       "500028    0.084140\n",
       "625002    0.084140\n",
       "521165    0.084140\n",
       "411041    0.084140\n",
       "521001    0.084140\n",
       "700094    0.084140\n",
       "400059    0.084140\n",
       "500048    0.084140\n",
       "600028    0.084140\n",
       "600118    0.084140\n",
       "560004    0.084140\n",
       "560017    0.084140\n",
       "400019    0.084140\n",
       "600106    0.084140\n",
       "700002    0.084140\n",
       "500006    0.084140\n",
       "110089    0.084140\n",
       "392011    0.084140\n",
       "412308    0.084140\n",
       "500014    0.084140\n",
       "517561    0.084140\n",
       "411007    0.084140\n",
       "401305    0.084140\n",
       "121010    0.084140\n",
       "400002    0.084140\n",
       "603209    0.084140\n",
       "831005    0.084140\n",
       "110009    0.084140\n",
       "411027    0.084140\n",
       "110074    0.084140\n",
       "517129    0.084140\n",
       "700126    0.084140\n",
       "500079    0.084140\n",
       "411035    0.084140\n",
       "110003    0.084140\n",
       "110075    0.084140\n",
       "403707    0.084140\n",
       "600059    0.084140\n",
       "440036    0.084140\n",
       "562160    0.084140\n",
       "600093    0.084140\n",
       "585437    0.042070\n",
       "531027    0.042070\n",
       "516434    0.042070\n",
       "786170    0.042070\n",
       "522236    0.042070\n",
       "686579    0.042070\n",
       "760001    0.042070\n",
       "211004    0.042070\n",
       "380007    0.042070\n",
       "609806    0.042070\n",
       "614001    0.042070\n",
       "695607    0.042070\n",
       "628552    0.042070\n",
       "632509    0.042070\n",
       "712101    0.042070\n",
       "522411    0.042070\n",
       "682005    0.042070\n",
       "444605    0.042070\n",
       "524137    0.042070\n",
       "517193    0.042070\n",
       "605004    0.042070\n",
       "641664    0.042070\n",
       "262701    0.042070\n",
       "711106    0.042070\n",
       "591108    0.042070\n",
       "505001    0.042070\n",
       "506370    0.042070\n",
       "284003    0.042070\n",
       "600051    0.042070\n",
       "201007    0.042070\n",
       "412202    0.042070\n",
       "151203    0.042070\n",
       "604402    0.042070\n",
       "518003    0.042070\n",
       "522615    0.042070\n",
       "741257    0.042070\n",
       "700086    0.042070\n",
       "570016    0.042070\n",
       "517194    0.042070\n",
       "362002    0.042070\n",
       "560087    0.042070\n",
       "332711    0.042070\n",
       "759100    0.042070\n",
       "400088    0.042070\n",
       "380060    0.042070\n",
       "612001    0.042070\n",
       "572101    0.042070\n",
       "845430    0.042070\n",
       "400065    0.042070\n",
       "326520    0.042070\n",
       "391330    0.042070\n",
       "410501    0.042070\n",
       "425101    0.042070\n",
       "140001    0.042070\n",
       "628502    0.042070\n",
       "462043    0.042070\n",
       "209203    0.042070\n",
       "641035    0.042070\n",
       "636113    0.042070\n",
       "515124    0.042070\n",
       "600072    0.042070\n",
       "570022    0.042070\n",
       "523111    0.042070\n",
       "395002    0.042070\n",
       "521326    0.042070\n",
       "515551    0.042070\n",
       "382418    0.042070\n",
       "802301    0.042070\n",
       "695612    0.042070\n",
       "560001    0.042070\n",
       "333001    0.042070\n",
       "523168    0.042070\n",
       "600014    0.042070\n",
       "516115    0.042070\n",
       "586108    0.042070\n",
       "515801    0.042070\n",
       "581111    0.042070\n",
       "518301    0.042070\n",
       "500054    0.042070\n",
       "277201    0.042070\n",
       "721435    0.042070\n",
       "533247    0.042070\n",
       "382405    0.042070\n",
       "571121    0.042070\n",
       "800016    0.042070\n",
       "560106    0.042070\n",
       "142001    0.042070\n",
       "845455    0.042070\n",
       "516173    0.042070\n",
       "577529    0.042070\n",
       "581450    0.042070\n",
       "110042    0.042070\n",
       "636104    0.042070\n",
       "620020    0.042070\n",
       "505122    0.042070\n",
       "561207    0.042070\n",
       "638314    0.042070\n",
       "274409    0.042070\n",
       "520007    0.042070\n",
       "160019    0.042070\n",
       "524142    0.042070\n",
       "524203    0.042070\n",
       "441206    0.042070\n",
       "535240    0.042070\n",
       "680551    0.042070\n",
       "604404    0.042070\n",
       "520015    0.042070\n",
       "400055    0.042070\n",
       "571107    0.042070\n",
       "676509    0.042070\n",
       "582118    0.042070\n",
       "518001    0.042070\n",
       "603101    0.042070\n",
       "515761    0.042070\n",
       "643202    0.042070\n",
       "642129    0.042070\n",
       "502221    0.042070\n",
       "507303    0.042070\n",
       "831001    0.042070\n",
       "734007    0.042070\n",
       "622303    0.042070\n",
       "494001    0.042070\n",
       "600044    0.042070\n",
       "500075    0.042070\n",
       "734004    0.042070\n",
       "604503    0.042070\n",
       "562101    0.042070\n",
       "450001    0.042070\n",
       "431709    0.042070\n",
       "600092    0.042070\n",
       "581113    0.042070\n",
       "831013    0.042070\n",
       "201012    0.042070\n",
       "585215    0.042070\n",
       "523265    0.042070\n",
       "207125    0.042070\n",
       "574153    0.042070\n",
       "781125    0.042070\n",
       "273003    0.042070\n",
       "603304    0.042070\n",
       "522619    0.042070\n",
       "788724    0.042070\n",
       "500098    0.042070\n",
       "800003    0.042070\n",
       "523155    0.042070\n",
       "507165    0.042070\n",
       "533342    0.042070\n",
       "732101    0.042070\n",
       "812001    0.042070\n",
       "523320    0.042070\n",
       "10018I    0.042070\n",
       "515402    0.042070\n",
       "560096    0.042070\n",
       "606213    0.042070\n",
       "110002    0.042070\n",
       "382110    0.042070\n",
       "516390    0.042070\n",
       "580024    0.042070\n",
       "641049    0.042070\n",
       "571316    0.042070\n",
       "821112    0.042070\n",
       "133001    0.042070\n",
       "571430    0.042070\n",
       "636006    0.042070\n",
       "638011    0.042070\n",
       "635751    0.042070\n",
       "848101    0.042070\n",
       "561228    0.042070\n",
       "331302    0.042070\n",
       "571440    0.042070\n",
       "491001    0.042070\n",
       "700028    0.042070\n",
       "600039    0.042070\n",
       "602117    0.042070\n",
       "637105    0.042070\n",
       "124103    0.042070\n",
       "562111    0.042070\n",
       "682013    0.042070\n",
       "396321    0.042070\n",
       "632001    0.042070\n",
       "110051    0.042070\n",
       "625019    0.042070\n",
       "502001    0.042070\n",
       "507302    0.042070\n",
       "571602    0.042070\n",
       "515408    0.042070\n",
       "620010    0.042070\n",
       "506132    0.042070\n",
       "600048    0.042070\n",
       "110078    0.042070\n",
       "523182    0.042070\n",
       "632508    0.042070\n",
       "524408    0.042070\n",
       "629004    0.042070\n",
       "603002    0.042070\n",
       "126116    0.042070\n",
       "600021    0.042070\n",
       "516349    0.042070\n",
       "623525    0.042070\n",
       "127040    0.042070\n",
       "517112    0.042070\n",
       "521121    0.042070\n",
       "110034    0.042070\n",
       "506331    0.042070\n",
       "605110    0.042070\n",
       "517350    0.042070\n",
       "585327    0.042070\n",
       "462010    0.042070\n",
       "523241    0.042070\n",
       "210301    0.042070\n",
       "136118    0.042070\n",
       "370020    0.042070\n",
       "577539    0.042070\n",
       "572211    0.042070\n",
       "534001    0.042070\n",
       "148001    0.042070\n",
       "700010    0.042070\n",
       "382340    0.042070\n",
       "10076     0.042070\n",
       "638009    0.042070\n",
       "110058    0.042070\n",
       "390002    0.042070\n",
       "400060    0.042070\n",
       "530048    0.042070\n",
       "506002    0.042070\n",
       "122009    0.042070\n",
       "560095    0.042070\n",
       "501203    0.042070\n",
       "632316    0.042070\n",
       "203207    0.042070\n",
       "422006    0.042070\n",
       "570028    0.042070\n",
       "695505    0.042070\n",
       "L NADU    0.042070\n",
       "760010    0.042070\n",
       "516175    0.042070\n",
       "600127    0.042070\n",
       "631102    0.042070\n",
       "421004    0.042070\n",
       "110013    0.042070\n",
       "630561    0.042070\n",
       "411062    0.042070\n",
       "753011    0.042070\n",
       "249403    0.042070\n",
       "524101    0.042070\n",
       "600128    0.042070\n",
       "516269    0.042070\n",
       "516218    0.042070\n",
       "632008    0.042070\n",
       "412110    0.042070\n",
       "621713    0.042070\n",
       "400076    0.042070\n",
       "713212    0.042070\n",
       "221403    0.042070\n",
       "521227    0.042070\n",
       "411002    0.042070\n",
       "641023    0.042070\n",
       "400029    0.042070\n",
       "600075    0.042070\n",
       "507316    0.042070\n",
       "110038    0.042070\n",
       "600010    0.042070\n",
       "571102    0.042070\n",
       "515671    0.042070\n",
       "521215    0.042070\n",
       "301019    0.042070\n",
       "583216    0.042070\n",
       "324001    0.042070\n",
       "835217    0.042070\n",
       "571401    0.042070\n",
       "603110    0.042070\n",
       "781171    0.042070\n",
       "624619    0.042070\n",
       "524239    0.042070\n",
       "244302    0.042070\n",
       "641004    0.042070\n",
       "631202    0.042070\n",
       "248125    0.042070\n",
       "765001    0.042070\n",
       "620013    0.042070\n",
       "382421    0.042070\n",
       "431542    0.042070\n",
       "523201    0.042070\n",
       "243001    0.042070\n",
       "600008    0.042070\n",
       "193502    0.042070\n",
       "400071    0.042070\n",
       "506167    0.042070\n",
       "400033    0.042070\n",
       "132001    0.042070\n",
       "530012    0.042070\n",
       "382470    0.042070\n",
       "400608    0.042070\n",
       "577116    0.042070\n",
       "503001    0.042070\n",
       "531021    0.042070\n",
       "636001    0.042070\n",
       "673001    0.042070\n",
       "524406    0.042070\n",
       "734223    0.042070\n",
       "122101    0.042070\n",
       "583227    0.042070\n",
       "342001    0.042070\n",
       "414203    0.042070\n",
       "518122    0.042070\n",
       "577201    0.042070\n",
       "522213    0.042070\n",
       "532127    0.042070\n",
       "632515    0.042070\n",
       "582117    0.042070\n",
       "721101    0.042070\n",
       "500059    0.042070\n",
       "600024    0.042070\n",
       "680306    0.042070\n",
       "523336    0.042070\n",
       "222001    0.042070\n",
       "422101    0.042070\n",
       "602109    0.042070\n",
       "412216    0.042070\n",
       "521201    0.042070\n",
       "416501    0.042070\n",
       "560093    0.042070\n",
       "443101    0.042070\n",
       "524314    0.042070\n",
       "324010    0.042070\n",
       "247551    0.042070\n",
       "533106    0.042070\n",
       "641033    0.042070\n",
       "700071    0.042070\n",
       "743127    0.042070\n",
       "721607    0.042070\n",
       "572201    0.042070\n",
       "533445    0.042070\n",
       "508116    0.042070\n",
       "500078    0.042070\n",
       "641046    0.042070\n",
       "642122    0.042070\n",
       "641036    0.042070\n",
       "530017    0.042070\n",
       "751021    0.042070\n",
       "509153    0.042070\n",
       "571463    0.042070\n",
       "462001    0.042070\n",
       "828404    0.042070\n",
       "516505    0.042070\n",
       "517425    0.042070\n",
       "110080    0.042070\n",
       "721130    0.042070\n",
       "385550    0.042070\n",
       "516203    0.042070\n",
       "638008    0.042070\n",
       "400607    0.042070\n",
       "636015    0.042070\n",
       "570026    0.042070\n",
       "680501    0.042070\n",
       "636140    0.042070\n",
       "500067    0.042070\n",
       "627862    0.042070\n",
       "226003    0.042070\n",
       "208021    0.042070\n",
       "523262    0.042070\n",
       "605757    0.042070\n",
       "231210    0.042070\n",
       "638656    0.042070\n",
       "412307    0.042070\n",
       "695313    0.042070\n",
       "573116    0.042070\n",
       "626177    0.042070\n",
       "524323    0.042070\n",
       "173021    0.042070\n",
       "522649    0.042070\n",
       "606105    0.042070\n",
       "516309    0.042070\n",
       "641027    0.042070\n",
       "577204    0.042070\n",
       "422001    0.042070\n",
       "332424    0.042070\n",
       "835302    0.042070\n",
       "323307    0.042070\n",
       "480441    0.042070\n",
       "834004    0.042070\n",
       "425105    0.042070\n",
       "110093    0.042070\n",
       "495687    0.042070\n",
       "521328    0.042070\n",
       "571218    0.042070\n",
       "250609    0.042070\n",
       "500094    0.042070\n",
       "110060    0.042070\n",
       "431148    0.042070\n",
       "609107    0.042070\n",
       "400010    0.042070\n",
       "516360    0.042070\n",
       "281004    0.042070\n",
       "500011    0.042070\n",
       "635126    0.042070\n",
       "500026    0.042070\n",
       "191202    0.042070\n",
       "801105    0.042070\n",
       "700125    0.042070\n",
       "573123    0.042070\n",
       "518347    0.042070\n",
       "ilnadu    0.042070\n",
       "600060    0.042070\n",
       "504220    0.042070\n",
       "400017    0.042070\n",
       "530018    0.042070\n",
       "390004    0.042070\n",
       "517619    0.042070\n",
       "563126    0.042070\n",
       "613009    0.042070\n",
       "781037    0.042070\n",
       "208017    0.042070\n",
       "416505    0.042070\n",
       "517192    0.042070\n",
       "685612    0.042070\n",
       "535591    0.042070\n",
       "401207    0.042070\n",
       "546010    0.042070\n",
       "843313    0.042070\n",
       "416502    0.042070\n",
       "122004    0.042070\n",
       "700014    0.042070\n",
       "636301    0.042070\n",
       "141015    0.042070\n",
       "518218    0.042070\n",
       "584128    0.042070\n",
       "400087    0.042070\n",
       "736123    0.042070\n",
       "736121    0.042070\n",
       "517390    0.042070\n",
       "584115    0.042070\n",
       "515411    0.042070\n",
       "517502    0.042070\n",
       "390024    0.042070\n",
       "245401    0.042070\n",
       "823001    0.042070\n",
       "560005    0.042070\n",
       "670511    0.042070\n",
       "799007    0.042070\n",
       "127022    0.042070\n",
       "600112    0.042070\n",
       "411029    0.042070\n",
       "251001    0.042070\n",
       "600065    0.042070\n",
       "625702    0.042070\n",
       "793001    0.042070\n",
       "700060    0.042070\n",
       "501505    0.042070\n",
       "301001    0.042070\n",
       "517247    0.042070\n",
       "305001    0.042070\n",
       "41        0.042070\n",
       "522421    0.042070\n",
       "390014    0.042070\n",
       "751024    0.042070\n",
       "110063    0.042070\n",
       "620001    0.042070\n",
       "641039    0.042070\n",
       "411052    0.042070\n",
       "345001    0.042070\n",
       "518422    0.042070\n",
       "734006    0.042070\n",
       "600085    0.042070\n",
       "401208    0.042070\n",
       "636106    0.042070\n",
       "110029    0.042070\n",
       "440002    0.042070\n",
       "585401    0.042070\n",
       "517432    0.042070\n",
       "411011    0.042070\n",
       "441924    0.042070\n",
       "416002    0.042070\n",
       "122003    0.042070\n",
       "508233    0.042070\n",
       "524121    0.042070\n",
       "263153    0.042070\n",
       "841238    0.042070\n",
       "506169    0.042070\n",
       "573134    0.042070\n",
       "573211    0.042070\n",
       "324007    0.042070\n",
       "246149    0.042070\n",
       "413004    0.042070\n",
       "500005    0.042070\n",
       "700020    0.042070\n",
       "249201    0.042070\n",
       "110005    0.042070\n",
       "535128    0.042070\n",
       "711101    0.042070\n",
       "533248    0.042070\n",
       "635303    0.042070\n",
       "627120    0.042070\n",
       "520010    0.042070\n",
       "125121    0.042070\n",
       "400037    0.042070\n",
       "700135    0.042070\n",
       "637101    0.042070\n",
       "281122    0.042070\n",
       "110010    0.042070\n",
       "411045    0.042070\n",
       "562109    0.042070\n",
       "587301    0.042070\n",
       "580023    0.042070\n",
       "500007    0.042070\n",
       "412115    0.042070\n",
       "121005    0.042070\n",
       "560053    0.042070\n",
       "110049    0.042070\n",
       "412114    0.042070\n",
       "515751    0.042070\n",
       "509001    0.042070\n",
       "769014    0.042070\n",
       "637404    0.042070\n",
       "244235    0.042070\n",
       "581333    0.042070\n",
       "678552    0.042070\n",
       "846001    0.042070\n",
       "834009    0.042070\n",
       "583121    0.042070\n",
       "143505    0.042070\n",
       "474020    0.042070\n",
       "721301    0.042070\n",
       "382481    0.042070\n",
       "474003    0.042070\n",
       "400614    0.042070\n",
       "786001    0.042070\n",
       "590009    0.042070\n",
       "689121    0.042070\n",
       "851101    0.042070\n",
       "425001    0.042070\n",
       "504302    0.042070\n",
       "400004    0.042070\n",
       "673572    0.042070\n",
       "700055    0.042070\n",
       "440014    0.042070\n",
       "572128    0.042070\n",
       "534452    0.042070\n",
       "641015    0.042070\n",
       "603102    0.042070\n",
       "700036    0.042070\n",
       "673592    0.042070\n",
       "442301    0.042070\n",
       "396045    0.042070\n",
       "482001    0.042070\n",
       "605001    0.042070\n",
       "523157    0.042070\n",
       "600005    0.042070\n",
       "110012    0.042070\n",
       "800004    0.042070\n",
       "244001    0.042070\n",
       "415002    0.042070\n",
       "517569    0.042070\n",
       "380061    0.042070\n",
       "572106    0.042070\n",
       "700042    0.042070\n",
       "643228    0.042070\n",
       "502325    0.042070\n",
       "700066    0.042070\n",
       "600003    0.042070\n",
       "421605    0.042070\n",
       "788004    0.042070\n",
       "560020    0.042070\n",
       "249202    0.042070\n",
       "631501    0.042070\n",
       "761010    0.042070\n",
       "643101    0.042070\n",
       "580001    0.042070\n",
       "400003    0.042070\n",
       "572103    0.042070\n",
       "324004    0.042070\n",
       "495668    0.042070\n",
       "625018    0.042070\n",
       "574202    0.042070\n",
       "141008    0.042070\n",
       "412106    0.042070\n",
       "410505    0.042070\n",
       "518396    0.042070\n",
       "761008    0.042070\n",
       "700157    0.042070\n",
       "110028    0.042070\n",
       "ASHTRA    0.042070\n",
       "501301    0.042070\n",
       "600090    0.042070\n",
       "221007    0.042070\n",
       "442001    0.042070\n",
       "422003    0.042070\n",
       "522502    0.042070\n",
       "841438    0.042070\n",
       "516107    0.042070\n",
       "180010    0.042070\n",
       "500032    0.042070\n",
       "638004    0.042070\n",
       "201303    0.042070\n",
       "530016    0.042070\n",
       "571429    0.042070\n",
       "570019    0.042070\n",
       "410203    0.042070\n",
       "535558    0.042070\n",
       "134102    0.042070\n",
       "411021    0.042070\n",
       "440034    0.042070\n",
       "229121    0.042070\n",
       "563114    0.042070\n",
       "831009    0.042070\n",
       "518004    0.042070\n",
       "576229    0.042070\n",
       "800009    0.042070\n",
       "400049    0.042070\n",
       "144402    0.042070\n",
       "411019    0.042070\n",
       "631702    0.042070\n",
       "523101    0.042070\n",
       "637209    0.042070\n",
       "608703    0.042070\n",
       "134109    0.042070\n",
       "520002    0.042070\n",
       "560090    0.042070\n",
       "173205    0.042070\n",
       "110023    0.042070\n",
       "500004    0.042070\n",
       "590014    0.042070\n",
       "412102    0.042070\n",
       "712102    0.042070\n",
       "560051    0.042070\n",
       "495004    0.042070\n",
       "638003    0.042070\n",
       "143521    0.042070\n",
       "629153    0.042070\n",
       "600088    0.042070\n",
       "516444    0.042070\n",
       "586103    0.042070\n",
       "629401    0.042070\n",
       "400057    0.042070\n",
       "712304    0.042070\n",
       "400083    0.042070\n",
       "700065    0.042070\n",
       "137091    0.042070\n",
       "201010    0.042070\n",
       "400051    0.042070\n",
       "563128    0.042070\n",
       "600074    0.042070\n",
       "572120    0.042070\n",
       "562130    0.042070\n",
       "600056    0.042070\n",
       "400034    0.042070\n",
       "11060     0.042070\n",
       "635805    0.042070\n",
       "144208    0.042070\n",
       "412101    0.042070\n",
       "462026    0.042070\n",
       "607107    0.042070\n",
       "422011    0.042070\n",
       "700034    0.042070\n",
       "400703    0.042070\n",
       "110083    0.042070\n",
       "100006    0.042070\n",
       "11059     0.042070\n",
       "473551    0.042070\n",
       "312211    0.042070\n",
       "671543    0.042070\n",
       "583102    0.042070\n",
       "400091    0.042070\n",
       "695568    0.042070\n",
       "517588    0.042070\n",
       "530041    0.042070\n",
       "505102    0.042070\n",
       "452009    0.042070\n",
       "533431    0.042070\n",
       "515455    0.042070\n",
       "713125    0.042070\n",
       "534462    0.042070\n",
       "226016    0.042070\n",
       "577202    0.042070\n",
       "524201    0.042070\n",
       "585104    0.042070\n",
       "560082    0.042070\n",
       "515212    0.042070\n",
       "531085    0.042070\n",
       "422606    0.042070\n",
       "140507    0.042070\n",
       "635207    0.042070\n",
       "581343    0.042070\n",
       "515865    0.042070\n",
       "841226    0.042070\n",
       "515201    0.042070\n",
       "754021    0.042070\n",
       "474011    0.042070\n",
       "516355    0.042070\n",
       "425401    0.042070\n",
       "524126    0.042070\n",
       "500009    0.042070\n",
       "500087    0.042070\n",
       "507114    0.042070\n",
       "560050    0.042070\n",
       "561203    0.042070\n",
       "413003    0.042070\n",
       "690504    0.042070\n",
       "825421    0.042070\n",
       "583238    0.042070\n",
       "370421    0.042070\n",
       "600107    0.042070\n",
       "600058    0.042070\n",
       "632002    0.042070\n",
       "560002    0.042070\n",
       "411032    0.042070\n",
       "501510    0.042070\n",
       "641032    0.042070\n",
       "400102    0.042070\n",
       "641652    0.042070\n",
       "530013    0.042070\n",
       "625003    0.042070\n",
       "500030    0.042070\n",
       "523263    0.042070\n",
       "421102    0.042070\n",
       "635123    0.042070\n",
       "206242    0.042070\n",
       "380001    0.042070\n",
       "600069    0.042070\n",
       "400056    0.042070\n",
       "635601    0.042070\n",
       "483501    0.042070\n",
       "626130    0.042070\n",
       "523240    0.042070\n",
       "515672    0.042070\n",
       "440025    0.042070\n",
       "522616    0.042070\n",
       " Delhi    0.042070\n",
       "500092    0.042070\n",
       "458001    0.042070\n",
       "521225    0.042070\n",
       "560071    0.042070\n",
       "522414    0.042070\n",
       "440024    0.042070\n",
       "560027    0.042070\n",
       "516150    0.042070\n",
       "827013    0.042070\n",
       "516003    0.042070\n",
       "562125    0.042070\n",
       "515133    0.042070\n",
       "416304    0.042070\n",
       "842001    0.042070\n",
       "712246    0.042070\n",
       "571216    0.042070\n",
       "516233    0.042070\n",
       "403507    0.042070\n",
       "520008    0.042070\n",
       "523110    0.042070\n",
       "414003    0.042070\n",
       "508201    0.042070\n",
       "121008    0.042070\n",
       "570001    0.042070\n",
       "125112    0.042070\n",
       "521151    0.042070\n",
       "632512    0.042070\n",
       "743263    0.042070\n",
       "561208    0.042070\n",
       "518222    0.042070\n",
       "396191    0.042070\n",
       "600017    0.042070\n",
       "390019    0.042070\n",
       "623518    0.042070\n",
       "532284    0.042070\n",
       "614902    0.042070\n",
       "515581    0.042070\n",
       "583119    0.042070\n",
       "272151    0.042070\n",
       "247001    0.042070\n",
       "533308    0.042070\n",
       "500031    0.042070\n",
       "577601    0.042070\n",
       "571105    0.042070\n",
       "754025    0.042070\n",
       "400089    0.042070\n",
       "622201    0.042070\n",
       "301701    0.042070\n",
       "641020    0.042070\n",
       "620002    0.042070\n",
       "517417    0.042070\n",
       "700023    0.042070\n",
       "313004    0.042070\n",
       "691011    0.042070\n",
       "631605    0.042070\n",
       "628902    0.042070\n",
       "140604    0.042070\n",
       "180020    0.042070\n",
       "523260    0.042070\n",
       "627751    0.042070\n",
       "600076    0.042070\n",
       "741235    0.042070\n",
       "636905    0.042070\n",
       "700049    0.042070\n",
       "523286    0.042070\n",
       "635112    0.042070\n",
       "576230    0.042070\n",
       "802101    0.042070\n",
       "302006    0.042070\n",
       "563122    0.042070\n",
       "500029    0.042070\n",
       "785006    0.042070\n",
       "686577    0.042070\n",
       "620017    0.042070\n",
       "608401    0.042070\n",
       "490025    0.042070\n",
       "638476    0.042070\n",
       "144001    0.042070\n",
       "431804    0.042070\n",
       "110022    0.042070\n",
       "508202    0.042070\n",
       "603305    0.042070\n",
       "470002    0.042070\n",
       "636302    0.042070\n",
       "302017    0.042070\n",
       "562129    0.042070\n",
       "641045    0.042070\n",
       "533104    0.042070\n",
       "769001    0.042070\n",
       "638183    0.042070\n",
       "523316    0.042070\n",
       "121004    0.042070\n",
       "481115    0.042070\n",
       "444604    0.042070\n",
       "580008    0.042070\n",
       "712250    0.042070\n",
       "160059    0.042070\n",
       "686606    0.042070\n",
       "516001    0.042070\n",
       "587117    0.042070\n",
       "462042    0.042070\n",
       "754202    0.042070\n",
       "560041    0.042070\n",
       "522437    0.042070\n",
       "530046    0.042070\n",
       "530051    0.042070\n",
       "711202    0.042070\n",
       "229010    0.042070\n",
       "508211    0.042070\n",
       "573122    0.042070\n",
       "572102    0.042070\n",
       "601201    0.042070\n",
       "221304    0.042070\n",
       "601301    0.042070\n",
       "639105    0.042070\n",
       "643004    0.042070\n",
       "781028    0.042070\n",
       "636008    0.042070\n",
       "829123    0.042070\n",
       "532195    0.042070\n",
       "521301    0.042070\n",
       "590016    0.042070\n",
       "390011    0.042070\n",
       "670017    0.042070\n",
       "626001    0.042070\n",
       "600040    0.042070\n",
       "506009    0.042070\n",
       "600045    0.042070\n",
       "523105    0.042070\n",
       "639203    0.042070\n",
       "517415    0.042070\n",
       "600078    0.042070\n",
       "193123    0.042070\n",
       "821305    0.042070\n",
       "396421    0.042070\n",
       "785015    0.042070\n",
       "100062    0.042070\n",
       "626117    0.042070\n",
       "394210    0.042070\n",
       "603203    0.042070\n",
       "517234    0.042070\n",
       "642126    0.042070\n",
       "814112    0.042070\n",
       "110048    0.042070\n",
       "125033    0.042070\n",
       "382350    0.042070\n",
       "600054    0.042070\n",
       "122052    0.042070\n",
       "711103    0.042070\n",
       "560083    0.042070\n",
       "751006    0.042070\n",
       "413527    0.042070\n",
       "800006    0.042070\n",
       "620006    0.042070\n",
       "841243    0.042070\n",
       "605008    0.042070\n",
       "400603    0.042070\n",
       "632013    0.042070\n",
       "754135    0.042070\n",
       "226023    0.042070\n",
       "624601    0.042070\n",
       "605106    0.042070\n",
       "503224    0.042070\n",
       "620003    0.042070\n",
       "411040    0.042070\n",
       "248121    0.042070\n",
       "632507    0.042070\n",
       "503302    0.042070\n",
       "670331    0.042070\n",
       "Name: present_pin, dtype: float64"
      ]
     },
     "execution_count": 56,
     "metadata": {},
     "output_type": "execute_result"
    }
   ],
   "source": [
    "df3.present_pin.value_counts(normalize=True)*100"
   ]
  },
  {
   "cell_type": "code",
   "execution_count": 57,
   "id": "69123dc8",
   "metadata": {},
   "outputs": [
    {
     "data": {
      "text/plain": [
       "DBSS0IN0811    1.383648\n",
       "CITI0000004    1.090147\n",
       "CITI0000006    0.712788\n",
       "PYTM0123456    0.587002\n",
       "IDFB0080151    0.587002\n",
       "KKBK0007466    0.503145\n",
       "CITI0000003    0.461216\n",
       "CITI0000002    0.419287\n",
       "KKBK0008066    0.419287\n",
       "HDFC0000411    0.419287\n",
       "CITI0000005    0.419287\n",
       "UTIB0000009    0.419287\n",
       "UTIB0000008    0.419287\n",
       "CITI0100000    0.377358\n",
       "UTIB0000553    0.335430\n",
       "UTIB0000194    0.335430\n",
       "SCBL0036074    0.293501\n",
       "HDFC0000549    0.251572\n",
       "SCBL0036050    0.251572\n",
       "SCBL0036073    0.251572\n",
       "SCBL0036025    0.251572\n",
       "UTIB0000006    0.251572\n",
       "HDFC0000077    0.209644\n",
       "HSBC0560002    0.209644\n",
       "ICIC0001422    0.209644\n",
       "ICIC0000076    0.209644\n",
       "ICIC0000040    0.209644\n",
       "ICIC0000411    0.209644\n",
       "ICIC0000169    0.209644\n",
       "HDFC0000486    0.209644\n",
       "HSBC0411002    0.209644\n",
       "UTIB0000022    0.209644\n",
       "HDFC0004075    0.209644\n",
       "IDFB0020151    0.209644\n",
       "UTIB0000027    0.209644\n",
       "SCBL0036091    0.209644\n",
       "HDFC0000545    0.167715\n",
       "KKBK0000431    0.167715\n",
       "HDFC0000543    0.167715\n",
       "UTIB0000333    0.167715\n",
       "KKBK0000261    0.167715\n",
       "ICIC0000021    0.167715\n",
       "ICIC0000008    0.167715\n",
       "HDFC0000485    0.167715\n",
       "ICIC0000069    0.167715\n",
       "HDFC0000572    0.167715\n",
       "HSBC0500002    0.167715\n",
       "UTIB0000785    0.167715\n",
       "KKBK0000471    0.167715\n",
       "UTIB0000004    0.167715\n",
       "ICIC0000001    0.167715\n",
       "UTIB0000082    0.167715\n",
       "HDFC0001869    0.167715\n",
       "ICIC0000075    0.167715\n",
       "SCBL0036078    0.167715\n",
       "ICIC0003887    0.167715\n",
       "IDFB0080102    0.167715\n",
       "SCBL0036027    0.167715\n",
       "KKBK0007446    0.125786\n",
       "ICIC0000581    0.125786\n",
       "KKBK0000432    0.125786\n",
       "HDFC0000075    0.125786\n",
       "UTIB0000030    0.125786\n",
       "SCBL0036024    0.125786\n",
       "HDFC0000280    0.125786\n",
       "KKBK0000631    0.125786\n",
       "SCBL0036072    0.125786\n",
       "UTIB0000514    0.125786\n",
       "IDFB0041358    0.125786\n",
       "ICIC0000567    0.125786\n",
       "UTIB0001504    0.125786\n",
       "HDFC0000141    0.125786\n",
       "ICIC0001196    0.125786\n",
       "HDFC0000004    0.125786\n",
       "ICIC0000551    0.125786\n",
       "ICIC0001417    0.125786\n",
       "ICIC0004122    0.125786\n",
       "ICIC0001075    0.125786\n",
       "HDFC0009087    0.125786\n",
       "ICIC0000681    0.125786\n",
       "UTIB0000234    0.125786\n",
       "ICIC0001749    0.125786\n",
       "IDFB0080152    0.125786\n",
       "IDFB0021001    0.125786\n",
       "UTIB0000052    0.125786\n",
       "HDFC0000184    0.125786\n",
       "ICIC0000544    0.125786\n",
       "UTIB0000102    0.125786\n",
       "ICIC0000077    0.125786\n",
       "HSBC0110005    0.125786\n",
       "ICIC0001134    0.125786\n",
       "HDFC0000007    0.125786\n",
       "KARB0000666    0.125786\n",
       "ICIC0000573    0.125786\n",
       "HDFC0000021    0.125786\n",
       "HDFC0000885    0.125786\n",
       "HDFC0000086    0.125786\n",
       "HDFC0000621    0.125786\n",
       "KKBK0008057    0.125786\n",
       "ICIC0000570    0.125786\n",
       "RATN0000282    0.125786\n",
       "ICIC0000938    0.125786\n",
       "RATN0000113    0.125786\n",
       "ICIC0003175    0.125786\n",
       "ICIC0000253    0.125786\n",
       "HDFC0000029    0.125786\n",
       "ICIC0000910    0.125786\n",
       "HDFC0000794    0.125786\n",
       "HDFC0000929    0.125786\n",
       "ICIC0001547    0.125786\n",
       "KKBK0001367    0.125786\n",
       "HDFC0009413    0.125786\n",
       "HDFC0000069    0.125786\n",
       "IDFB0020101    0.125786\n",
       "HDFC0001852    0.125786\n",
       "ICIC0002355    0.083857\n",
       "HDFC0002757    0.083857\n",
       "SBIN0012747    0.083857\n",
       "ICIC0002726    0.083857\n",
       "UTIB0000074    0.083857\n",
       "ICIC0001418    0.083857\n",
       "RATN0000097    0.083857\n",
       "HDFC0001015    0.083857\n",
       "ICIC0003698    0.083857\n",
       "ICIC0001454    0.083857\n",
       "HDFC0001042    0.083857\n",
       "ICIC0000675    0.083857\n",
       "UTIB0000866    0.083857\n",
       "HDFC0003636    0.083857\n",
       "UTIB0000560    0.083857\n",
       "ICIC0000047    0.083857\n",
       "KKBK0000683    0.083857\n",
       "ICIC0001124    0.083857\n",
       "HDFC0000575    0.083857\n",
       "HDFC0001758    0.083857\n",
       "HDFC0002565    0.083857\n",
       "HDFC0001247    0.083857\n",
       "HDFC0001292    0.083857\n",
       "ICIC0000845    0.083857\n",
       "ICIC0003505    0.083857\n",
       "ICIC0000074    0.083857\n",
       "UTIB0000293    0.083857\n",
       "HDFC0003758    0.083857\n",
       "ICIC0000029    0.083857\n",
       "ICIC0000382    0.083857\n",
       "HDFC0009428    0.083857\n",
       "UTIB0003156    0.083857\n",
       "RATN0000081    0.083857\n",
       "HDFC0001794    0.083857\n",
       "SCBL0036079    0.083857\n",
       "KKBK0000181    0.083857\n",
       "ICIC0006254    0.083857\n",
       "KKBK0001364    0.083857\n",
       "HDFC0000683    0.083857\n",
       "HDFC0000811    0.083857\n",
       "UTIB0003492    0.083857\n",
       "ICIC0003168    0.083857\n",
       "ICIC0002475    0.083857\n",
       "HDFC0000718    0.083857\n",
       "HDFC0000042    0.083857\n",
       "ICIC0001690    0.083857\n",
       "HDFC0003947    0.083857\n",
       "UTIB0001114    0.083857\n",
       "HDFC0000501    0.083857\n",
       "UTIB0000300    0.083857\n",
       "SBIN0010311    0.083857\n",
       "UTIB0004216    0.083857\n",
       "ICIC0000002    0.083857\n",
       "IDFB0040103    0.083857\n",
       "KKBK0004264    0.083857\n",
       "KKBK0005029    0.083857\n",
       "HDFC0009637    0.083857\n",
       "ICIC0006037    0.083857\n",
       "KKBK0000958    0.083857\n",
       "ICIC0006303    0.083857\n",
       "ICIC0000552    0.083857\n",
       "ICIC0001070    0.083857\n",
       "HDFC0000286    0.083857\n",
       "ICIC0000377    0.083857\n",
       "UTIB0000723    0.083857\n",
       "HDFC0000271    0.083857\n",
       "HDFC0000676    0.083857\n",
       "ICIC0000275    0.083857\n",
       "ICIC0003376    0.083857\n",
       "UTIB0003803    0.083857\n",
       "HDFC0001668    0.083857\n",
       "HDFC0001876    0.083857\n",
       "SBIN0040243    0.083857\n",
       "HDFC0004110    0.083857\n",
       "KKBK0008045    0.083857\n",
       "UTIB0000014    0.083857\n",
       "ICIC0001045    0.083857\n",
       "SCBL0036085    0.083857\n",
       "HDFC0009095    0.083857\n",
       "HDFC0000523    0.083857\n",
       "HDFC0009264    0.083857\n",
       "HDFC0000024    0.083857\n",
       "HDFC0001757    0.083857\n",
       "HDFC0000040    0.083857\n",
       "HDFC0004216    0.083857\n",
       "SCBL0036052    0.083857\n",
       "ICIC0006252    0.083857\n",
       "KKBK0008518    0.083857\n",
       "HDFC0000033    0.083857\n",
       "ICIC0006956    0.083857\n",
       "UTIB0001454    0.083857\n",
       "ICIC0000060    0.083857\n",
       "HDFC0000126    0.083857\n",
       "YESB0000085    0.083857\n",
       "HDFC0000368    0.083857\n",
       "ICIC0000393    0.083857\n",
       "HDFC0000142    0.083857\n",
       "ICIC0001820    0.083857\n",
       "ICIC0002449    0.083857\n",
       "KKBK0000216    0.083857\n",
       "INDB0000229    0.083857\n",
       "UTIB0000170    0.083857\n",
       "HDFC0000514    0.083857\n",
       "ICIC0006310    0.083857\n",
       "ICIC0000048    0.083857\n",
       "HDFC0000012    0.083857\n",
       "SBIN0020076    0.083857\n",
       "SCBL0036088    0.083857\n",
       "UTIB0000061    0.083857\n",
       "KKBK0007327    0.083857\n",
       "IBKL0000886    0.083857\n",
       "ICIC0000202    0.083857\n",
       "HDFC0003804    0.083857\n",
       "HDFC0000185    0.083857\n",
       "HDFC0000133    0.083857\n",
       "FDRL0001843    0.083857\n",
       "SCBL0036080    0.083857\n",
       "HDFC0001118    0.083857\n",
       "ICIC0000020    0.083857\n",
       "HDFC0009471    0.083857\n",
       "HDFC0000291    0.083857\n",
       "HDFC0000052    0.083857\n",
       "UTIB0000369    0.083857\n",
       "ICIC0006419    0.083857\n",
       "ICIC0000579    0.083857\n",
       "HDFC0009118    0.083857\n",
       "UTIB0000069    0.083857\n",
       "ICIC0000314    0.083857\n",
       "ICIC0001320    0.083857\n",
       "UTIB0000733    0.083857\n",
       "ICIC0000816    0.083857\n",
       "ICIC0000005    0.083857\n",
       "ICIC0006493    0.083857\n",
       "UTIB0001147    0.083857\n",
       "ICIC0000399    0.083857\n",
       "IBKL0000202    0.083857\n",
       "ICIC0000238    0.083857\n",
       "KKBK0008068    0.083857\n",
       "HDFC0001023    0.083857\n",
       "UTIB0003233    0.083857\n",
       "YESB0000183    0.083857\n",
       "HDFC0000076    0.083857\n",
       "KKBK0000177    0.083857\n",
       "SCBL0036075    0.083857\n",
       "ICIC0006038    0.083857\n",
       "ICIC0000719    0.083857\n",
       "CNRB0003036    0.083857\n",
       "HDFC0002019    0.083857\n",
       "ICIC0000598    0.083857\n",
       "HDFC0001045    0.083857\n",
       "ICIC0004284    0.083857\n",
       "SCBL0036041    0.083857\n",
       "UTIB0000534    0.083857\n",
       "HDFC0001436    0.083857\n",
       "HSBC0600002    0.083857\n",
       "UTIB0000423    0.083857\n",
       "HDFC0002649    0.083857\n",
       "ICIC0002365    0.083857\n",
       "SCBL0036089    0.083857\n",
       "UTIB0000404    0.083857\n",
       "FDRL0005555    0.083857\n",
       "UTIB0002784    0.083857\n",
       "UTIB0003105    0.083857\n",
       "ICIC0000986    0.083857\n",
       "UTIB0000103    0.083857\n",
       "SBIN0009053    0.083857\n",
       "HDFC0000088    0.083857\n",
       "HDFC0000082    0.083857\n",
       "ICIC0007552    0.083857\n",
       "ICIC0000071    0.083857\n",
       "UTIB0002628    0.083857\n",
       "KKBK0000473    0.083857\n",
       "SBIN0005715    0.083857\n",
       "HDFC0000480    0.083857\n",
       "KKBK0000468    0.083857\n",
       "ICIC0004039    0.083857\n",
       "HDFC0003742    0.083857\n",
       "HDFC0003788    0.083857\n",
       "HDFC0000239    0.083857\n",
       "HDFC0000321    0.083857\n",
       "RATN0000224    0.083857\n",
       "RATN0000062    0.083857\n",
       "ICIC0006949    0.083857\n",
       "HDFC0000090    0.083857\n",
       "HDFC0000418    0.083857\n",
       "ICIC0002190    0.083857\n",
       "UTIB0000003    0.083857\n",
       "HDFC0000065    0.083857\n",
       "HDFC0001206    0.083857\n",
       "CITI0000001    0.083857\n",
       "ICIC0003695    0.083857\n",
       "HDFC0001300    0.083857\n",
       "HDFC0003739    0.083857\n",
       "HDFC0001048    0.083857\n",
       "ICIC0001420    0.083857\n",
       "ICIC0000519    0.083857\n",
       "KKBK0008067    0.083857\n",
       "UTIB0001097    0.083857\n",
       "ICIC0001580    0.083857\n",
       "IBKL0000183    0.041929\n",
       "SBIN0016545    0.041929\n",
       "BARB0CHAPHE    0.041929\n",
       "INDB0001074    0.041929\n",
       "ICIC0000919    0.041929\n",
       "IDFB0081101    0.041929\n",
       "YESB0000211    0.041929\n",
       "HDFC0000080    0.041929\n",
       "HDFC0000956    0.041929\n",
       "HDFC0002083    0.041929\n",
       "ICIC0004179    0.041929\n",
       "SBIN0011068    0.041929\n",
       "ICIC0001710    0.041929\n",
       "JSBP0000045    0.041929\n",
       "pytm0123456    0.041929\n",
       "SBIN0040621    0.041929\n",
       "HDFC0000648    0.041929\n",
       "ICIC0007368    0.041929\n",
       "ICIC0004361    0.041929\n",
       "UTIB0001426    0.041929\n",
       "MAHB0000703    0.041929\n",
       "HDFC0009389    0.041929\n",
       "UTIB0002856    0.041929\n",
       "SBIN0004566    0.041929\n",
       "icic0006506    0.041929\n",
       "ICIC0001043    0.041929\n",
       "ICIC0002697    0.041929\n",
       "UBIN0808326    0.041929\n",
       "ICIC0000831    0.041929\n",
       "UTIB0000007    0.041929\n",
       "UTIB0001485    0.041929\n",
       "UTIB0002811    0.041929\n",
       "UTIB0000235    0.041929\n",
       "HDFC0004839    0.041929\n",
       "ICIC0003350    0.041929\n",
       "ICIC0002329    0.041929\n",
       "ICIC0000299    0.041929\n",
       "ICIC0002706    0.041929\n",
       "KKBK0000463    0.041929\n",
       "ICIC0000553    0.041929\n",
       "HDFC0000276    0.041929\n",
       "UTIB0000108    0.041929\n",
       "UTIB0001021    0.041929\n",
       "SBIN0010374    0.041929\n",
       "KKBK0002855    0.041929\n",
       "UBIN0811963    0.041929\n",
       "YESB0000585    0.041929\n",
       "BARB0KALKAJ    0.041929\n",
       "SBIN0014102    0.041929\n",
       "HDFC0004833    0.041929\n",
       "KKBK0008794    0.041929\n",
       "PUNB0082210    0.041929\n",
       "HDFC0009326    0.041929\n",
       "HDFC0000249    0.041929\n",
       "IDFB0040101    0.041929\n",
       "IBKL0000034    0.041929\n",
       "RATN0000127    0.041929\n",
       "HDFC0002379    0.041929\n",
       "ICIC0002386    0.041929\n",
       "FDRL0002038    0.041929\n",
       "UTIB0000080    0.041929\n",
       "HDFC0001765    0.041929\n",
       "SBIN0017736    0.041929\n",
       "ICIC0000252    0.041929\n",
       "SBIN0000339    0.041929\n",
       "UTIB0002462    0.041929\n",
       "KKBK0000655    0.041929\n",
       "HDFC0009511    0.041929\n",
       "UTIB0001374    0.041929\n",
       "SBIN0000798    0.041929\n",
       "FDRL0001034    0.041929\n",
       "UTIB0002689    0.041929\n",
       "HDFC0001403    0.041929\n",
       "HDFC0004269    0.041929\n",
       "IDFB0041352    0.041929\n",
       "IBKL0000507    0.041929\n",
       "SBIN0012106    0.041929\n",
       "YESB0000631    0.041929\n",
       "UTIB0000395    0.041929\n",
       "SBIN0009049    0.041929\n",
       "ICIC0001898    0.041929\n",
       "IBKL0001195    0.041929\n",
       "ICIC0006233    0.041929\n",
       "HDFC0003676    0.041929\n",
       "HDFC0000419    0.041929\n",
       "RATN0000289    0.041929\n",
       "CNRB0010492    0.041929\n",
       "SBIN0000957    0.041929\n",
       "ICIC0004145    0.041929\n",
       "ICIC0000630    0.041929\n",
       "SBIN0015849    0.041929\n",
       "ICIC0003438    0.041929\n",
       "ICIC0002363    0.041929\n",
       "HDFC0003666    0.041929\n",
       "HDFC0002025    0.041929\n",
       "SBIN0003783    0.041929\n",
       "PUNB0049920    0.041929\n",
       "SIBL0000655    0.041929\n",
       "HDFC0002852    0.041929\n",
       "HDFC0000441    0.041929\n",
       "HDFC0000288    0.041929\n",
       "ICIC0003437    0.041929\n",
       "SBIN0010441    0.041929\n",
       "FDRL0001189    0.041929\n",
       "ICIC0006235    0.041929\n",
       "HDFC0009064    0.041929\n",
       "CNRB0015210    0.041929\n",
       "ICIC0000687    0.041929\n",
       "HDFC0000293    0.041929\n",
       "KKBK0000635    0.041929\n",
       "UTIB0000255    0.041929\n",
       "ICIC0001393    0.041929\n",
       "HDFC0002783    0.041929\n",
       "icic0000600    0.041929\n",
       "SBIN0050004    0.041929\n",
       "INDB0000170    0.041929\n",
       "ICIC0002503    0.041929\n",
       "SBIN0013175    0.041929\n",
       "SCBL0036051    0.041929\n",
       "BARB0KARVEN    0.041929\n",
       "SBIN0060146    0.041929\n",
       "SBIN0000005    0.041929\n",
       "YESB0000101    0.041929\n",
       "ICIC0001117    0.041929\n",
       "BARB0MEDAVA    0.041929\n",
       "UTIB0000312    0.041929\n",
       "KKBK0007462    0.041929\n",
       "BDBL0002065    0.041929\n",
       "icic0000066    0.041929\n",
       "KKBK0004596    0.041929\n",
       "ICIC0001577    0.041929\n",
       "SBIN0014933    0.041929\n",
       "PUNB0222500    0.041929\n",
       "HDFC0005322    0.041929\n",
       "UTIB0004632    0.041929\n",
       "INDB0000672    0.041929\n",
       "UTIB0002894    0.041929\n",
       "ICIC0000012    0.041929\n",
       "UTIB0001641    0.041929\n",
       "KKBK0004587    0.041929\n",
       "ICIC0000360    0.041929\n",
       "ICIC0004190    0.041929\n",
       "KKBK0002560    0.041929\n",
       "CNRB0003025    0.041929\n",
       "SBIN0001605    0.041929\n",
       "hdfc0002834    0.041929\n",
       "ICIC0000157    0.041929\n",
       "KKBK0004583    0.041929\n",
       "KKBK0006566    0.041929\n",
       "KKBK0000472    0.041929\n",
       "UTIB0001853    0.041929\n",
       "UBIN0532983    0.041929\n",
       "KKBK0000560    0.041929\n",
       "SBIN0000837    0.041929\n",
       "ICIC0003178    0.041929\n",
       "HDFC0000642    0.041929\n",
       "SBIN0004314    0.041929\n",
       "SCBL0036002    0.041929\n",
       "UTIB0000579    0.041929\n",
       "IDIB000C067    0.041929\n",
       "HDFC0001641    0.041929\n",
       "FDRL0001340    0.041929\n",
       "HDFC0002711    0.041929\n",
       "UTIB0003814    0.041929\n",
       "SBIN0011100    0.041929\n",
       "SBIN0012664    0.041929\n",
       "ICIC0003430    0.041929\n",
       "BARB0SAVLUC    0.041929\n",
       "HDFC0004680    0.041929\n",
       "HDFC0000455    0.041929\n",
       "SBIN0004296    0.041929\n",
       "HDFC0002202    0.041929\n",
       "INDB0001393    0.041929\n",
       "INDB0000002    0.041929\n",
       "YESB0001040    0.041929\n",
       "KKBK0001833    0.041929\n",
       "SBIN0004337    0.041929\n",
       "UBIN0572713    0.041929\n",
       "HDFC0000509    0.041929\n",
       "IBKL0000039    0.041929\n",
       "KKBK0007457    0.041929\n",
       "ICIC0002651    0.041929\n",
       "hdfc0000590    0.041929\n",
       "ICIC0006253    0.041929\n",
       "UTIB0002920    0.041929\n",
       "UTIB0004372    0.041929\n",
       "BKID0000091    0.041929\n",
       "UBIN0812021    0.041929\n",
       "SBIN0007480    0.041929\n",
       "SBIN0000036    0.041929\n",
       "HDFC0000017    0.041929\n",
       "UTIB0004238    0.041929\n",
       "SBIN0011704    0.041929\n",
       "SBIN0010561    0.041929\n",
       "HDFC0001456    0.041929\n",
       "KKBK0000430    0.041929\n",
       "ICIC0000011    0.041929\n",
       "SBIN0004789    0.041929\n",
       "HDFC0000473    0.041929\n",
       "UBIN0537004    0.041929\n",
       "SBIN0021008    0.041929\n",
       "UTIB0000698    0.041929\n",
       "HDFC0001022    0.041929\n",
       "UTIB0001112    0.041929\n",
       "KKBK0007531    0.041929\n",
       "HDFC0001298    0.041929\n",
       "HDFC0003119    0.041929\n",
       "HDFC0000687    0.041929\n",
       "SBIN0063079    0.041929\n",
       "ICIC0007329    0.041929\n",
       "SCBL0036077    0.041929\n",
       "SBIN0015391    0.041929\n",
       "ICIC0006148    0.041929\n",
       "HDFC0002011    0.041929\n",
       "ICIC0007202    0.041929\n",
       "SBIN0013075    0.041929\n",
       "HDFC0009425    0.041929\n",
       "KKBK0004627    0.041929\n",
       "YESB0000700    0.041929\n",
       "HDFC0001755    0.041929\n",
       "UTIB0001296    0.041929\n",
       "KKBK0008788    0.041929\n",
       "HDFC0001061    0.041929\n",
       "HDFC0000038    0.041929\n",
       "HDFC0000361    0.041929\n",
       "HDFC0000008    0.041929\n",
       "SBIN0015645    0.041929\n",
       "ICIC0004112    0.041929\n",
       "ICIC0000884    0.041929\n",
       "ICIC0003369    0.041929\n",
       "BARB0SANAND    0.041929\n",
       "KKBK0008509    0.041929\n",
       "ICIC0002318    0.041929\n",
       "CNRB0006610    0.041929\n",
       "KKBK0000462    0.041929\n",
       "HDFC0002074    0.041929\n",
       "HDFC0002094    0.041929\n",
       "ICIC0000302    0.041929\n",
       "IDFB0080204    0.041929\n",
       "UTIB0000687    0.041929\n",
       "ICIC0001879    0.041929\n",
       "SBIN0040017    0.041929\n",
       "HDFC0003999    0.041929\n",
       "HDFC0003244    0.041929\n",
       "KKBK0007456    0.041929\n",
       "UTIB0000462    0.041929\n",
       "ICIC0003135    0.041929\n",
       "PUNB0230200    0.041929\n",
       "PUNB0489400    0.041929\n",
       "UTIB0002562    0.041929\n",
       "ICIC0000561    0.041929\n",
       "ICIC0000164    0.041929\n",
       "SBIN0007988    0.041929\n",
       "ICIC0002324    0.041929\n",
       "ICIC0000209    0.041929\n",
       "IDFB0060402    0.041929\n",
       "UTIB0000129    0.041929\n",
       "SBIN0014623    0.041929\n",
       "IOBA0003619    0.041929\n",
       "ICIC0000183    0.041929\n",
       "HDFC0001998    0.041929\n",
       "SBIN0001009    0.041929\n",
       "BKID0004352    0.041929\n",
       "CNRB0001976    0.041929\n",
       "HDFC0000235    0.041929\n",
       "SBIN0003728    0.041929\n",
       "ICIC0004102    0.041929\n",
       "FDRL0001827    0.041929\n",
       "UTIB0003597    0.041929\n",
       "ICIC0002778    0.041929\n",
       "UBIN0920193    0.041929\n",
       "KVBL0001298    0.041929\n",
       "HDFC0009634    0.041929\n",
       "HDFC0000900    0.041929\n",
       "UTIB0000387    0.041929\n",
       "SBIN0000763    0.041929\n",
       "IDFB0040301    0.041929\n",
       "KKBK0008655    0.041929\n",
       "ICIC0002140    0.041929\n",
       "HDFC0004888    0.041929\n",
       "HDFC0004198    0.041929\n",
       "ICIC0000010    0.041929\n",
       "ICIC0006251    0.041929\n",
       "HDFC0002549    0.041929\n",
       "ICIC0001204    0.041929\n",
       "UTIB0000618    0.041929\n",
       "YESB0000097    0.041929\n",
       "SBIN0001409    0.041929\n",
       "UTIB0003543    0.041929\n",
       "SBIN0010899    0.041929\n",
       "ICIC0003960    0.041929\n",
       "ICIC0001112    0.041929\n",
       "HDFC0001068    0.041929\n",
       "BARB0KURUKS    0.041929\n",
       "HDFC0000317    0.041929\n",
       "KKBK0008109    0.041929\n",
       "ICIC0002024    0.041929\n",
       "SBIN0002818    0.041929\n",
       "HDFC0000526    0.041929\n",
       "YESB0000104    0.041929\n",
       "KKBK0001946    0.041929\n",
       "ICIC0001912    0.041929\n",
       "ICIC0000229    0.041929\n",
       "ICIC0000386    0.041929\n",
       "UTIB0001089    0.041929\n",
       "UJVN0003309    0.041929\n",
       "UTIB0001564    0.041929\n",
       "UTIB0000350    0.041929\n",
       "HDFC0004297    0.041929\n",
       "KKBK0008773    0.041929\n",
       "HDFC0004878    0.041929\n",
       "BKID0000557    0.041929\n",
       "SBIN0010691    0.041929\n",
       "HDFC0000446    0.041929\n",
       "ICIC0002176    0.041929\n",
       "UTIB0000363    0.041929\n",
       "KKBK0000176    0.041929\n",
       "KKBK0008316    0.041929\n",
       "HDFC0000882    0.041929\n",
       "HDFC0002815    0.041929\n",
       "SBIN0016432    0.041929\n",
       "ICIC0000588    0.041929\n",
       "SBIN0014160    0.041929\n",
       "HDFC0000047    0.041929\n",
       "KKBK0001360    0.041929\n",
       "SBIN0003700    0.041929\n",
       "IBKL0001206    0.041929\n",
       "IDFB0080911    0.041929\n",
       "ICIC0001039    0.041929\n",
       "HDFC0001390    0.041929\n",
       "HDFC0003824    0.041929\n",
       "UTIB0000849    0.041929\n",
       "IBKL0000281    0.041929\n",
       "HDFC0000847    0.041929\n",
       "KKBK0001397    0.041929\n",
       "HDFC0009173    0.041929\n",
       "HDFC0009141    0.041929\n",
       "HDFC0000717    0.041929\n",
       "UTIB0000025    0.041929\n",
       "UTIB0000013    0.041929\n",
       "SBIN0012903    0.041929\n",
       "HDFC0001039    0.041929\n",
       "SBIN0015503    0.041929\n",
       "ICIC0001650    0.041929\n",
       "HDFC0001350    0.041929\n",
       "BARB0MAHNAG    0.041929\n",
       "UTIB0002366    0.041929\n",
       "UTIB0000540    0.041929\n",
       "SBIN0021529    0.041929\n",
       "HDFC0003653    0.041929\n",
       "CNRB0001956    0.041929\n",
       "UTIB0003568    0.041929\n",
       "RATN0000349    0.041929\n",
       "HDFC0000622    0.041929\n",
       "SBIN0008075    0.041929\n",
       "CNRB0010686    0.041929\n",
       "BARB0PUNJAG    0.041929\n",
       "IDFB0080205    0.041929\n",
       "CNRB0000791    0.041929\n",
       "UTIB0000060    0.041929\n",
       "SBIN0006639    0.041929\n",
       "YESB0000514    0.041929\n",
       "IDFB0080171    0.041929\n",
       "KKBK0005632    0.041929\n",
       "UTIB0000160    0.041929\n",
       "ICIC0001044    0.041929\n",
       "SBIN0008679    0.041929\n",
       "SBIN0000814    0.041929\n",
       "ICIC0002331    0.041929\n",
       "CNRB0002079    0.041929\n",
       "KKBK0007475    0.041929\n",
       "SBIN0008113    0.041929\n",
       "ICIC0000168    0.041929\n",
       "YESB0001048    0.041929\n",
       "HDFC0000006    0.041929\n",
       "SBIN0002934    0.041929\n",
       "FDRL0001569    0.041929\n",
       "KKBK0007707    0.041929\n",
       "SBIN0020824    0.041929\n",
       "FDRL0001799    0.041929\n",
       "ICIC0001231    0.041929\n",
       "HDFC0000481    0.041929\n",
       "SIBL0000404    0.041929\n",
       "ICIC0004341    0.041929\n",
       "ICIC0000054    0.041929\n",
       "UTIB0002980    0.041929\n",
       "HDFC0001295    0.041929\n",
       "HDFC0001373    0.041929\n",
       "SBIN0003302    0.041929\n",
       "SBIN0002772    0.041929\n",
       "UTIB0002738    0.041929\n",
       "ICIC0000152    0.041929\n",
       "HDFC0000704    0.041929\n",
       "ICIC0000541    0.041929\n",
       "IDFB0020154    0.041929\n",
       "UTIB0000428    0.041929\n",
       "HDFC0000018    0.041929\n",
       "UTIB0000285    0.041929\n",
       "RATN0000305    0.041929\n",
       "KKBK0000172    0.041929\n",
       "RATN0000089    0.041929\n",
       "BKID0008609    0.041929\n",
       "HDFC0000632    0.041929\n",
       "SBIN0001600    0.041929\n",
       "PUNB0526510    0.041929\n",
       "SBIN0020430    0.041929\n",
       "SBIN0070785    0.041929\n",
       "UTIB0000590    0.041929\n",
       "HDFC0006393    0.041929\n",
       "ICIC0006497    0.041929\n",
       "ICIC0001902    0.041929\n",
       "RATN0000104    0.041929\n",
       "SBIN0010100    0.041929\n",
       "HDFC0003946    0.041929\n",
       "HDFC0004762    0.041929\n",
       "SBIN0061206    0.041929\n",
       "HDFC0000258    0.041929\n",
       "ICIC0001299    0.041929\n",
       "UTIB0001499    0.041929\n",
       "INDB0000115    0.041929\n",
       "ICIC0002499    0.041929\n",
       "HDFC0004248    0.041929\n",
       "SBIN0040088    0.041929\n",
       "SBIN0070480    0.041929\n",
       "SCBL0036021    0.041929\n",
       "UTIB0001337    0.041929\n",
       "KKBK0003032    0.041929\n",
       "HDFC0000050    0.041929\n",
       "SBIN0020714    0.041929\n",
       "HDFC0004338    0.041929\n",
       "UBIN0808181    0.041929\n",
       "HDFC0001240    0.041929\n",
       "ICIC0003326    0.041929\n",
       "HDFC0002486    0.041929\n",
       "UTIB0002986    0.041929\n",
       "KKBK0007843    0.041929\n",
       "RATN0000066    0.041929\n",
       "UBIN0903248    0.041929\n",
       "UTIB0000049    0.041929\n",
       "BARB0VJKRPA    0.041929\n",
       "HDFC0001816    0.041929\n",
       "ICIC0007559    0.041929\n",
       "ICIC0006025    0.041929\n",
       "PUNB0108700    0.041929\n",
       "ICIC0000697    0.041929\n",
       "HDFC0000456    0.041929\n",
       "SBIN0020366    0.041929\n",
       "ICIC0006033    0.041929\n",
       "HDFC0002405    0.041929\n",
       "TMBL0000454    0.041929\n",
       "HDFC0001050    0.041929\n",
       "ICIC0000280    0.041929\n",
       "YESB0000618    0.041929\n",
       "HDFC0004802    0.041929\n",
       "ICIC0006775    0.041929\n",
       "UBIN0560987    0.041929\n",
       "KKBK0004329    0.041929\n",
       "KKBK0005033    0.041929\n",
       "CIUB0000233    0.041929\n",
       "PUNB0035000    0.041929\n",
       "ICIC0003727    0.041929\n",
       "KKBK0000561    0.041929\n",
       "UTIB0001716    0.041929\n",
       "IDFB0080411    0.041929\n",
       "ICIC0004349    0.041929\n",
       "HDFC0004076    0.041929\n",
       "ICIC0000344    0.041929\n",
       "ICIC0001304    0.041929\n",
       "SBIN0010509    0.041929\n",
       "HDFC0000266    0.041929\n",
       "HDFC0000163    0.041929\n",
       "SBIN0040850    0.041929\n",
       "SBIN0009044    0.041929\n",
       "HDFC0002413    0.041929\n",
       "UTIB0003469    0.041929\n",
       "UTIB0000567    0.041929\n",
       "BKID0000140    0.041929\n",
       "SBIN0020102    0.041929\n",
       "KKBK0000422    0.041929\n",
       "IDFB0080157    0.041929\n",
       "HDFC0003782    0.041929\n",
       "UTIB0000174    0.041929\n",
       "KKBK0007494    0.041929\n",
       "BARB0NANGAL    0.041929\n",
       "IDFB0020128    0.041929\n",
       "ICIC0004398    0.041929\n",
       "BARB0VJVIJB    0.041929\n",
       "ICIC0002456    0.041929\n",
       "UBIN0575186    0.041929\n",
       "ICIC0004215    0.041929\n",
       "ICIC0000310    0.041929\n",
       "SBIN0012839    0.041929\n",
       "UTIB0000781    0.041929\n",
       "KKBK0001757    0.041929\n",
       "KKBK0000180    0.041929\n",
       "KKBK0005660    0.041929\n",
       "KKBK0001774    0.041929\n",
       "ICIC0006615    0.041929\n",
       "KJSB0000002    0.041929\n",
       "ICIC0000170    0.041929\n",
       "INDB0001801    0.041929\n",
       "ICIC0001246    0.041929\n",
       "KKBK0007533    0.041929\n",
       "SBIN0021197    0.041929\n",
       "ICIC0003132    0.041929\n",
       "ICIC0002122    0.041929\n",
       "HDFC0000833    0.041929\n",
       "HDFC0000091    0.041929\n",
       "HDFC0009100    0.041929\n",
       "UTIB0000207    0.041929\n",
       "SBIN0031229    0.041929\n",
       "UTIB0002926    0.041929\n",
       "UTIB0001344    0.041929\n",
       "YESB0000026    0.041929\n",
       "SBIN0017346    0.041929\n",
       "ICIC0007383    0.041929\n",
       "YESB0001112    0.041929\n",
       "KKBK0007453    0.041929\n",
       "SCBL0036102    0.041929\n",
       "HDFC0001592    0.041929\n",
       "SBIN0007154    0.041929\n",
       "UTIB0003172    0.041929\n",
       "SBIN0011859    0.041929\n",
       "INDB0000605    0.041929\n",
       "BARB0ALTAMO    0.041929\n",
       "HDFC0000103    0.041929\n",
       "HDFC0002014    0.041929\n",
       "HDFC0004051    0.041929\n",
       "ICIC0006994    0.041929\n",
       "ICIC0004168    0.041929\n",
       "UTIB0000051    0.041929\n",
       "UTIB0004092    0.041929\n",
       "UTIB0001873    0.041929\n",
       "HDFC0000068    0.041929\n",
       "SBIN0003301    0.041929\n",
       "ICIC0000605    0.041929\n",
       "CNRB0013172    0.041929\n",
       "UTIB0003329    0.041929\n",
       "SBIN0021615    0.041929\n",
       "UBIN0553433    0.041929\n",
       "CNRB0003557    0.041929\n",
       "KVBL0001333    0.041929\n",
       "UBIN0563935    0.041929\n",
       "UTIB0003080    0.041929\n",
       "RATN0000240    0.041929\n",
       "IDIB000P114    0.041929\n",
       "ICIC0003346    0.041929\n",
       "HDFC0004291    0.041929\n",
       "ICIC0000388    0.041929\n",
       "HDFC0002647    0.041929\n",
       "UBIN0538841    0.041929\n",
       "HDFC0002275    0.041929\n",
       "SBIN0040004    0.041929\n",
       "INDB0001486    0.041929\n",
       "KKBK0007862    0.041929\n",
       "UBIN0535966    0.041929\n",
       "RATN0000378    0.041929\n",
       "ICIC0001031    0.041929\n",
       "UTIB0000600    0.041929\n",
       "ICIC0000583    0.041929\n",
       "HDFC0002334    0.041929\n",
       "UTIB0000569    0.041929\n",
       "HDFC0001627    0.041929\n",
       "ICIC0000946    0.041929\n",
       "ICIC0000701    0.041929\n",
       "ICIC0001074    0.041929\n",
       "IBKL0000076    0.041929\n",
       "HDFC0001554    0.041929\n",
       "HDFC0002035    0.041929\n",
       "SBIN0000968    0.041929\n",
       "ICIC0000604    0.041929\n",
       "UTIB0002619    0.041929\n",
       "KKBK0000702    0.041929\n",
       "SBIN0002184    0.041929\n",
       "HDFC0001603    0.041929\n",
       "UTIB0001585    0.041929\n",
       "HDFC0000164    0.041929\n",
       "IDFB0080202    0.041929\n",
       "HDFC0004884    0.041929\n",
       "ICIC0000009    0.041929\n",
       "HDFC0001029    0.041929\n",
       "HDFC0001588    0.041929\n",
       "HDFC0009429    0.041929\n",
       "SBIN0005433    0.041929\n",
       "INDB0000575    0.041929\n",
       "SBIN0015983    0.041929\n",
       "HDFC0001939    0.041929\n",
       "ICIC0000039    0.041929\n",
       "ICIC0002142    0.041929\n",
       "ICIC0000618    0.041929\n",
       "ICIC0006628    0.041929\n",
       "UTIB0002946    0.041929\n",
       "ICIC0001125    0.041929\n",
       "ICIC0006451    0.041929\n",
       "KKBK0001753    0.041929\n",
       "UTIB0000209    0.041929\n",
       "UTIB0000183    0.041929\n",
       "HDFC0000009    0.041929\n",
       "KKBK0007477    0.041929\n",
       "UJVN0002224    0.041929\n",
       "KKBK0000183    0.041929\n",
       "HDFC0003781    0.041929\n",
       "ICIC0000984    0.041929\n",
       "UTIB0002610    0.041929\n",
       "ICIC0000597    0.041929\n",
       "ICIC0006627    0.041929\n",
       "KKBK0008485    0.041929\n",
       "UTIB0000362    0.041929\n",
       "ICIC0001306    0.041929\n",
       "ICIC0000272    0.041929\n",
       "HDFC0007286    0.041929\n",
       "ICIC0000804    0.041929\n",
       "BARB0SAHAUR    0.041929\n",
       "ICIC0006134    0.041929\n",
       "UTIB0000669    0.041929\n",
       "UTIB0000114    0.041929\n",
       "CIUB0000153    0.041929\n",
       "UTIB0001046    0.041929\n",
       "UTIB0000070    0.041929\n",
       "UTIB0000341    0.041929\n",
       "YESB0000421    0.041929\n",
       "HDFC0004078    0.041929\n",
       "UTIB0002177    0.041929\n",
       "HDFC0001297    0.041929\n",
       "UTIB0004069    0.041929\n",
       "HDFC0000259    0.041929\n",
       "ICIC0003489    0.041929\n",
       "ICIC0000357    0.041929\n",
       "UBIN0902217    0.041929\n",
       "IBKL0000194    0.041929\n",
       "KKBK0000563    0.041929\n",
       "HDFC0004140    0.041929\n",
       "HDFC0000304    0.041929\n",
       "HDFC0000364    0.041929\n",
       "PUNB0527010    0.041929\n",
       "HDFC0009369    0.041929\n",
       "IDIB000G114    0.041929\n",
       "KKBK0000287    0.041929\n",
       "KKBK0008113    0.041929\n",
       "ICIC0000212    0.041929\n",
       "ICIC0002777    0.041929\n",
       "UTIB0003507    0.041929\n",
       "ICIC0001560    0.041929\n",
       "SBIN0021171    0.041929\n",
       "UTIB0003051    0.041929\n",
       "ICIC0000019    0.041929\n",
       "UTIB0002018    0.041929\n",
       "HDFC0003817    0.041929\n",
       "RATN0000155    0.041929\n",
       "HDFC0004264    0.041929\n",
       "UTIB0004217    0.041929\n",
       "KKBK0007460    0.041929\n",
       "ICIC0001146    0.041929\n",
       "ICIC0006026    0.041929\n",
       "KKBK0008081    0.041929\n",
       "SBIN0003905    0.041929\n",
       "FDRL0007777    0.041929\n",
       "ICIC0000806    0.041929\n",
       "RATN0000254    0.041929\n",
       "SBIN0050026    0.041929\n",
       "HDFC0003639    0.041929\n",
       "SBIN0010079    0.041929\n",
       "ICIC0000692    0.041929\n",
       "HDFC0001604    0.041929\n",
       "UBIN0813257    0.041929\n",
       "UTIB0001614    0.041929\n",
       "ICIC0007300    0.041929\n",
       "ICIC0003892    0.041929\n",
       "KKBK0007326    0.041929\n",
       "ICIC0002637    0.041929\n",
       "UTIB0001965    0.041929\n",
       "ICIC0000935    0.041929\n",
       "HDFC0008347    0.041929\n",
       "ICIC0001244    0.041929\n",
       "IDFB0021003    0.041929\n",
       "UTIB0000120    0.041929\n",
       "SBIN0018862    0.041929\n",
       "UTIB0002890    0.041929\n",
       "SBIN0040898    0.041929\n",
       "SCBL0036062    0.041929\n",
       "SBIN0010462    0.041929\n",
       "HDFC0000190    0.041929\n",
       "HDFC0001650    0.041929\n",
       "IDFB0042563    0.041929\n",
       "KKBK0008780    0.041929\n",
       "UTIB0003077    0.041929\n",
       "HDFC0000715    0.041929\n",
       "HDFC0000283    0.041929\n",
       "UBIN0813842    0.041929\n",
       "BARB0JAICOM    0.041929\n",
       "ICIC0000166    0.041929\n",
       "KKBK0004620    0.041929\n",
       "ICIC0002367    0.041929\n",
       "BARB0BHANDA    0.041929\n",
       "KKBK0004602    0.041929\n",
       "ICIC0000287    0.041929\n",
       "ubin0828025    0.041929\n",
       "HDFC0002850    0.041929\n",
       "UTIB0003653    0.041929\n",
       "UTIB0003982    0.041929\n",
       "ICIC0006293    0.041929\n",
       "ICIC0000004    0.041929\n",
       "HDFC0000407    0.041929\n",
       "KARB0000143    0.041929\n",
       "INDB0000117    0.041929\n",
       "ICIC0006300    0.041929\n",
       "HDFC0000206    0.041929\n",
       "ICIC0000026    0.041929\n",
       "IDFB0041354    0.041929\n",
       "HDFC0002503    0.041929\n",
       "ICIC0006641    0.041929\n",
       "ICIC0001596    0.041929\n",
       "ICIC0000244    0.041929\n",
       "SBIN0016212    0.041929\n",
       "ICIC0001145    0.041929\n",
       "Utib0000009    0.041929\n",
       "HDFC0009414    0.041929\n",
       "HDFC0001445    0.041929\n",
       "ICIC0000461    0.041929\n",
       "YESB0000704    0.041929\n",
       "SBIN0031252    0.041929\n",
       "IDFB0080158    0.041929\n",
       "HDFC0001079    0.041929\n",
       "YESB0000653    0.041929\n",
       "YESB0000115    0.041929\n",
       "IDIB000T142    0.041929\n",
       "ICIC0002448    0.041929\n",
       "ICIC0000580    0.041929\n",
       "BARB0PATDEL    0.041929\n",
       "SBIN0001656    0.041929\n",
       "CNRB0016188    0.041929\n",
       "KKBK0001361    0.041929\n",
       "KKBK0004394    0.041929\n",
       "HDFC0003552    0.041929\n",
       "KKBK0007461    0.041929\n",
       "ICIC0001959    0.041929\n",
       "HDFC0000539    0.041929\n",
       "BARB0AVADIX    0.041929\n",
       "ICIC0001008    0.041929\n",
       "SBIN0020926    0.041929\n",
       "ICIC0001877    0.041929\n",
       "HDFC0001208    0.041929\n",
       "HDFC0003635    0.041929\n",
       "FDRL0001355    0.041929\n",
       "SBIN0020488    0.041929\n",
       "HDFC0000260    0.041929\n",
       "ICIC0001056    0.041929\n",
       "INDB0000569    0.041929\n",
       "ICIC0000053    0.041929\n",
       "KVBL0001871    0.041929\n",
       "SBIN0002389    0.041929\n",
       "ICIC0006427    0.041929\n",
       "SBIN0018395    0.041929\n",
       "KKBK0008525    0.041929\n",
       "BARB0MIRBHA    0.041929\n",
       "ICIC0006506    0.041929\n",
       "SBIN0002746    0.041929\n",
       "IDIB000T011    0.041929\n",
       "ICIC0001166    0.041929\n",
       "ICIC0000269    0.041929\n",
       "SBIN0007617    0.041929\n",
       "PUNB0520610    0.041929\n",
       "HDFC0000265    0.041929\n",
       "BDBL0001894    0.041929\n",
       "IDFB0080155    0.041929\n",
       "HDFC0000968    0.041929\n",
       "UTIB0002905    0.041929\n",
       "HDFC0000010    0.041929\n",
       "HDFC0001745    0.041929\n",
       "HDFC0001744    0.041929\n",
       "KARB0000065    0.041929\n",
       "HDFC0007021    0.041929\n",
       "IBKL0001343    0.041929\n",
       "UTIB0003775    0.041929\n",
       "SBIN0002371    0.041929\n",
       "IDFB0021413    0.041929\n",
       "ICIC0001113    0.041929\n",
       "HDFC0000875    0.041929\n",
       "SBIN0011010    0.041929\n",
       "ICIC0002360    0.041929\n",
       "ICIC0006312    0.041929\n",
       "hdfc0002649    0.041929\n",
       "HDFC0001204    0.041929\n",
       "SBIN0010746    0.041929\n",
       "SBIN0001040    0.041929\n",
       "HDFC0003874    0.041929\n",
       "SBIN0001114    0.041929\n",
       "SBIN0032176    0.041929\n",
       "SBIN0010901    0.041929\n",
       "hdfc0000581    0.041929\n",
       "IBKL0000167    0.041929\n",
       "IBKL0001784    0.041929\n",
       "UTIB0000449    0.041929\n",
       "UTIB0000096    0.041929\n",
       "ICIC0000210    0.041929\n",
       "ICIC0000539    0.041929\n",
       "SBIN0004620    0.041929\n",
       "barb0amboli    0.041929\n",
       "ICIC0000610    0.041929\n",
       "HDFC0009239    0.041929\n",
       "PUNB0038000    0.041929\n",
       "SBIN0001578    0.041929\n",
       "SRCB0000369    0.041929\n",
       "UBIN0814130    0.041929\n",
       "UTIB0001437    0.041929\n",
       "BARB0BANEAS    0.041929\n",
       "UTIB0003204    0.041929\n",
       "ICIC0002390    0.041929\n",
       "IOBA0000621    0.041929\n",
       "KKBK0008053    0.041929\n",
       "FDRL0001176    0.041929\n",
       "UTIB0000230    0.041929\n",
       "UTIB0000680    0.041929\n",
       "MAHB0001594    0.041929\n",
       "UTIB0001494    0.041929\n",
       "KKBK0008365    0.041929\n",
       "KKBK0000627    0.041929\n",
       "ICIC0003993    0.041929\n",
       "HDFC0004058    0.041929\n",
       "IDIB000K717    0.041929\n",
       "KKBK0004265    0.041929\n",
       "HDFC0001392    0.041929\n",
       "INDB0001680    0.041929\n",
       "HDFC0001990    0.041929\n",
       "SBIN0001855    0.041929\n",
       "ICIC0001217    0.041929\n",
       "SIBL0000107    0.041929\n",
       "CNRB0001080    0.041929\n",
       "ICIC0000350    0.041929\n",
       "HDFC0003740    0.041929\n",
       "PUNB0089810    0.041929\n",
       "SBIN0000884    0.041929\n",
       "UBIN0800333    0.041929\n",
       "ICIC0002328    0.041929\n",
       "KKBK0002752    0.041929\n",
       "UTIB0001954    0.041929\n",
       "SCBL0036090    0.041929\n",
       "SBIN0000933    0.041929\n",
       "ICIC0002189    0.041929\n",
       "SBIN0011095    0.041929\n",
       "hdfc0009612    0.041929\n",
       "ICIC0001005    0.041929\n",
       "ICIC0002447    0.041929\n",
       "HDFC0003940    0.041929\n",
       "HDFC0001586    0.041929\n",
       "ICIC0003886    0.041929\n",
       "SBIN0001022    0.041929\n",
       "SBIN0031807    0.041929\n",
       "PUNB0417200    0.041929\n",
       "UTIB0000693    0.041929\n",
       "HDFC0000054    0.041929\n",
       "PUNB0098300    0.041929\n",
       "ALLA0211118    0.041929\n",
       "KKBK0004272    0.041929\n",
       "RATN0000167    0.041929\n",
       "UTIB0003143    0.041929\n",
       "BARB0VJBYAT    0.041929\n",
       "hdfc0000239    0.041929\n",
       "ICIC0001474    0.041929\n",
       "ICIC0003227    0.041929\n",
       "UTIB0001767    0.041929\n",
       "SBIN0020599    0.041929\n",
       "KKBK0000220    0.041929\n",
       "UBIN0805220    0.041929\n",
       "HDFC0001746    0.041929\n",
       "UTIB0004651    0.041929\n",
       "SBIN0015853    0.041929\n",
       "ICIC0000190    0.041929\n",
       "HDFC0000224    0.041929\n",
       "HDFC0000019    0.041929\n",
       "HDFC0004262    0.041929\n",
       "UTIB0001491    0.041929\n",
       "KKBK0001794    0.041929\n",
       "CNRB0013387    0.041929\n",
       "INDB0001023    0.041929\n",
       "ICIC0001804    0.041929\n",
       "ICIC0006586    0.041929\n",
       "HDFC0000157    0.041929\n",
       "ICIC0001478    0.041929\n",
       "UTIB0000094    0.041929\n",
       "HDFC0000925    0.041929\n",
       "ICIC0000337    0.041929\n",
       "HDFC0002047    0.041929\n",
       "HDFC0003632    0.041929\n",
       "UTIB0003062    0.041929\n",
       "HDFC0001805    0.041929\n",
       "ICIC0001876    0.041929\n",
       "HDFC0000542    0.041929\n",
       "SBIN0000473    0.041929\n",
       "UTIB0000695    0.041929\n",
       "ICIC0006309    0.041929\n",
       "UBIN0538582    0.041929\n",
       "ICIC0001071    0.041929\n",
       "SBIN0000170    0.041929\n",
       "KKBK0007489    0.041929\n",
       "UTIB0003100    0.041929\n",
       "BKID0007123    0.041929\n",
       "SBIN0016356    0.041929\n",
       "HDFC0001441    0.041929\n",
       "UBIN0815870    0.041929\n",
       "ICIC0004146    0.041929\n",
       "SBIN0007109    0.041929\n",
       "YESB0001067    0.041929\n",
       "IBKL0001184    0.041929\n",
       "UTIB0002511    0.041929\n",
       "UTIB0000090    0.041929\n",
       "UTIB0000343    0.041929\n",
       "UBIN0901300    0.041929\n",
       "CNRB0001121    0.041929\n",
       "UTIB0003002    0.041929\n",
       "HDFC0000030    0.041929\n",
       "ICIC0003465    0.041929\n",
       "INDB0001353    0.041929\n",
       "HDFC0001227    0.041929\n",
       "ICIC0000564    0.041929\n",
       "KKBK0007814    0.041929\n",
       "HDFC0002617    0.041929\n",
       "ICIC0006242    0.041929\n",
       "UBIN0803669    0.041929\n",
       "SBIN0007235    0.041929\n",
       "SBIN0018816    0.041929\n",
       "HDFC0000521    0.041929\n",
       "HDFC0002855    0.041929\n",
       "UTIB0000808    0.041929\n",
       "HDFC0009817    0.041929\n",
       "RATN0000260    0.041929\n",
       "HDFC0000323    0.041929\n",
       "SBIN0011076    0.041929\n",
       "UTIB0001840    0.041929\n",
       "PUNB0038600    0.041929\n",
       "ICIC0000007    0.041929\n",
       "HDFC0002058    0.041929\n",
       "IOBA0003597    0.041929\n",
       "SBIN0001493    0.041929\n",
       "ICIC0004030    0.041929\n",
       "HDFC0000586    0.041929\n",
       "SBIN0002492    0.041929\n",
       "SBIN0006511    0.041929\n",
       "KKBK0001353    0.041929\n",
       "NKGS0000055    0.041929\n",
       "ICIC0006614    0.041929\n",
       "SCBL0036081    0.041929\n",
       "UTIB0000073    0.041929\n",
       "KKBK0001357    0.041929\n",
       "SBIN0020243    0.041929\n",
       "ICIC0000061    0.041929\n",
       "ICIC0001007    0.041929\n",
       "SBIN0003169    0.041929\n",
       "HDFC0003111    0.041929\n",
       "HDFC0000424    0.041929\n",
       "SBIN0003130    0.041929\n",
       "ICIC0001009    0.041929\n",
       "BARB0SAVSEE    0.041929\n",
       "ICIC0000286    0.041929\n",
       "INDB0000518    0.041929\n",
       "HDFC0004006    0.041929\n",
       "ICIC0003904    0.041929\n",
       "KKBK0001386    0.041929\n",
       "KKBK0000694    0.041929\n",
       "UTIB0003335    0.041929\n",
       "KKBK0008256    0.041929\n",
       "UBIN0814482    0.041929\n",
       "SBIN0006715    0.041929\n",
       "KKBK0005311    0.041929\n",
       "ICIC0000263    0.041929\n",
       "HDFC0002859    0.041929\n",
       "UTIB0001527    0.041929\n",
       "SBIN0003215    0.041929\n",
       "ICIC0000073    0.041929\n",
       "HDFC0004025    0.041929\n",
       "UBIN0905909    0.041929\n",
       "HDFC0003764    0.041929\n",
       "ICIC0007206    0.041929\n",
       "ICIC0001807    0.041929\n",
       "IDIB000M059    0.041929\n",
       "ICIC0000566    0.041929\n",
       "ICIC0003365    0.041929\n",
       "SBIN0018276    0.041929\n",
       "HDFC0000615    0.041929\n",
       "ICIC0000276    0.041929\n",
       "HDFC0002788    0.041929\n",
       "ICIC0007312    0.041929\n",
       "CBIN0284809    0.041929\n",
       "RATN0000209    0.041929\n",
       "IDIB000B079    0.041929\n",
       "BARB0VASCOD    0.041929\n",
       "IDIB000S156    0.041929\n",
       "SBIN0015986    0.041929\n",
       "UBIN0557048    0.041929\n",
       "SBIN0012981    0.041929\n",
       "HDFC0001077    0.041929\n",
       "SBIN0012384    0.041929\n",
       "hdfc0000686    0.041929\n",
       "UTIB0003659    0.041929\n",
       "IDFB0080179    0.041929\n",
       "HDFC0003790    0.041929\n",
       "KKBK0000298    0.041929\n",
       "UTIB0000115    0.041929\n",
       "BCBM0000027    0.041929\n",
       "SBIN0000126    0.041929\n",
       "UTIB0000045    0.041929\n",
       "RATN0000195    0.041929\n",
       "KKBK0000724    0.041929\n",
       "HDFC0001861    0.041929\n",
       "ICIC0003378    0.041929\n",
       "HDFC0000472    0.041929\n",
       "KKBK0008388    0.041929\n",
       "UBIN0531961    0.041929\n",
       "ICIC0004347    0.041929\n",
       "ICIC0000555    0.041929\n",
       "IDFB0021171    0.041929\n",
       "HDFC0000053    0.041929\n",
       "UTIB0000109    0.041929\n",
       "HDFC0000592    0.041929\n",
       "HDFC0001631    0.041929\n",
       "hdfc0004692    0.041929\n",
       "KKBK0000201    0.041929\n",
       "HDFC0001749    0.041929\n",
       "IBKL0000004    0.041929\n",
       "SCBL0036060    0.041929\n",
       "SBIN0000562    0.041929\n",
       "SBIN0004572    0.041929\n",
       "KKBK0003715    0.041929\n",
       "HDFC0000003    0.041929\n",
       "ICIC0003402    0.041929\n",
       "YESB0000105    0.041929\n",
       "SBIN0002258    0.041929\n",
       "ICIC0003471    0.041929\n",
       "HDFC0009218    0.041929\n",
       "BKID0000004    0.041929\n",
       "ICIC0002366    0.041929\n",
       "KKBK0005042    0.041929\n",
       "HDFC0004193    0.041929\n",
       "HDFC0001362    0.041929\n",
       "IDFB0020102    0.041929\n",
       "SBIN0018267    0.041929\n",
       "SBIN0061257    0.041929\n",
       "ICIC0001490    0.041929\n",
       "UTIB0001345    0.041929\n",
       "UTIB0003407    0.041929\n",
       "SBIN0001603    0.041929\n",
       "ICIC0000669    0.041929\n",
       "BARB0HABIBG    0.041929\n",
       "SBIN0041206    0.041929\n",
       "SCBL0036001    0.041929\n",
       "SBIN0012769    0.041929\n",
       "ICIC0001421    0.041929\n",
       "SBIN0005082    0.041929\n",
       "IBKL0001204    0.041929\n",
       "ICIC0006955    0.041929\n",
       "CIUB0000399    0.041929\n",
       "ICIC0000473    0.041929\n",
       "SBIN0000868    0.041929\n",
       "IOBA0001502    0.041929\n",
       "HDFC0000135    0.041929\n",
       "HDFC0002708    0.041929\n",
       "ICIC0001554    0.041929\n",
       "UTIB0002575    0.041929\n",
       "ICIC0001662    0.041929\n",
       "UTIB0001817    0.041929\n",
       "UTIB0003334    0.041929\n",
       "BARB0AMRAVA    0.041929\n",
       "HDFC0004154    0.041929\n",
       "ICIC0002336    0.041929\n",
       "ICIC0002325    0.041929\n",
       "SBIN0007117    0.041929\n",
       "BARB0TRDCHW    0.041929\n",
       "BKID0005882    0.041929\n",
       "UTIB0001034    0.041929\n",
       "ICIC0007505    0.041929\n",
       "SBIN0003255    0.041929\n",
       "CNRB0002793    0.041929\n",
       "HSBC0400012    0.041929\n",
       "HDFC0000089    0.041929\n",
       "HDFC0000829    0.041929\n",
       "IDIB000U036    0.041929\n",
       "UTIB0003362    0.041929\n",
       "FDRL0002098    0.041929\n",
       "HDFC0000975    0.041929\n",
       "INDB0000226    0.041929\n",
       "YESB0000947    0.041929\n",
       "IBKL0000896    0.041929\n",
       "SBIN0016539    0.041929\n",
       "HDFC0001049    0.041929\n",
       "UTIB0000568    0.041929\n",
       "SBIN0008704    0.041929\n",
       "HDFC0000768    0.041929\n",
       "UTIB0001593    0.041929\n",
       "HDFC0009441    0.041929\n",
       "HDFC0003665    0.041929\n",
       "HDFC0002687    0.041929\n",
       "KKBK0002744    0.041929\n",
       "HDFC0001599    0.041929\n",
       "BKID0005854    0.041929\n",
       "SBIN0004622    0.041929\n",
       "SBIN0016854    0.041929\n",
       "SBIN0004412    0.041929\n",
       "ICIC0001556    0.041929\n",
       "ICIC0000410    0.041929\n",
       "ICIC0000833    0.041929\n",
       "HDFC0002412    0.041929\n",
       "UTIB0001788    0.041929\n",
       "ICIC0003273    0.041929\n",
       "IDIB000M071    0.041929\n",
       "UTIB0004681    0.041929\n",
       "KKBK0008070    0.041929\n",
       "ICIC0006970    0.041929\n",
       "KVBL0001681    0.041929\n",
       "HDFC0009532    0.041929\n",
       "IOBA0001661    0.041929\n",
       "IDIB000P132    0.041929\n",
       "ICIC0001293    0.041929\n",
       "UTIB0003720    0.041929\n",
       "ICIC0000937    0.041929\n",
       "ICIC0006450    0.041929\n",
       "IDFB0041356    0.041929\n",
       "PUNB0371200    0.041929\n",
       "KARB0000567    0.041929\n",
       "ICIC0007548    0.041929\n",
       "SBIN0010669    0.041929\n",
       "HDFC0001270    0.041929\n",
       "ICIC0002491    0.041929\n",
       "hdfc0000178    0.041929\n",
       "ICIC0001353    0.041929\n",
       "ICIC0006028    0.041929\n",
       "ICIC0001000    0.041929\n",
       "UTIB0003266    0.041929\n",
       "ICIC0001367    0.041929\n",
       "IDFB0010204    0.041929\n",
       "BKID0006720    0.041929\n",
       "SBIN0031990    0.041929\n",
       "KKBK0007841    0.041929\n",
       "HDFC0002463    0.041929\n",
       "CNRB0004452    0.041929\n",
       "IDFB0021014    0.041929\n",
       "ICIC0001852    0.041929\n",
       "UTIB0000477    0.041929\n",
       "INDB0000810    0.041929\n",
       "UBIN0550779    0.041929\n",
       "CBIN0283699    0.041929\n",
       "SBIN0002467    0.041929\n",
       "ICIC0001947    0.041929\n",
       "KKBK0005028    0.041929\n",
       "SBIN0001131    0.041929\n",
       "ICIC0000279    0.041929\n",
       "SBIN0001419    0.041929\n",
       "IDFB0080381    0.041929\n",
       "KKBK0000670    0.041929\n",
       "ICIC0002793    0.041929\n",
       "IDFB0060102    0.041929\n",
       "YESB0000240    0.041929\n",
       "ICIC0002335    0.041929\n",
       "HDFC0000353    0.041929\n",
       "UTIB0000110    0.041929\n",
       "BARB0DBKATN    0.041929\n",
       "SBIN0004354    0.041929\n",
       "SBIN0005917    0.041929\n",
       "SBIN0004155    0.041929\n",
       "SBIN0002062    0.041929\n",
       "UBIN0810754    0.041929\n",
       "YESB0000461    0.041929\n",
       "UTIB0001596    0.041929\n",
       "UTIB0003197    0.041929\n",
       "SBIN0021044    0.041929\n",
       "UTIB0001566    0.041929\n",
       "SBIN0008181    0.041929\n",
       "INDB0000046    0.041929\n",
       "HDFC0002686    0.041929\n",
       "IBKL0000123    0.041929\n",
       "SBIN0012746    0.041929\n",
       "ICIC0003171    0.041929\n",
       "ICIC0003840    0.041929\n",
       "KKBK0007530    0.041929\n",
       "SBIN0011696    0.041929\n",
       "HDFC0009400    0.041929\n",
       "KKBK0007627    0.041929\n",
       "SBIN0001361    0.041929\n",
       "SBIN0060133    0.041929\n",
       "SBIN0040558    0.041929\n",
       "HDFC0000574    0.041929\n",
       "HDFC0000744    0.041929\n",
       "HDFC0000417    0.041929\n",
       "BARB0JAMALP    0.041929\n",
       "UBIN0813419    0.041929\n",
       "KKBK0005915    0.041929\n",
       "KKBK0001435    0.041929\n",
       "SBIN0011125    0.041929\n",
       "ICIC0002334    0.041929\n",
       "HDFC0003974    0.041929\n",
       "PUNB0934100    0.041929\n",
       "UTIB0001455    0.041929\n",
       "SBIN0020245    0.041929\n",
       "ESFB0005006    0.041929\n",
       "CNRB0000414    0.041929\n",
       "UTIB0001064    0.041929\n",
       "INDB0001053    0.041929\n",
       "BARB0VILWES    0.041929\n",
       "SCBL0036083    0.041929\n",
       "KKBK0001244    0.041929\n",
       "BARB0DBSNPR    0.041929\n",
       "ICIC0003375    0.041929\n",
       "HDFC0004052    0.041929\n",
       "HDFC0004118    0.041929\n",
       "ICIC0006429    0.041929\n",
       "ICIC0002340    0.041929\n",
       "SBIN0002708    0.041929\n",
       "HDFC0000839    0.041929\n",
       "SBIN0012217    0.041929\n",
       "IDIB000D576    0.041929\n",
       "HDFC0001013    0.041929\n",
       "HDFC0001237    0.041929\n",
       "HDFC0003962    0.041929\n",
       "UTIB0000766    0.041929\n",
       "HDFC0002435    0.041929\n",
       "ICIC0000297    0.041929\n",
       "SBIN0016001    0.041929\n",
       "SBIN0012621    0.041929\n",
       "HDFC0001997    0.041929\n",
       "KARB0000926    0.041929\n",
       "AUBL0002403    0.041929\n",
       "HDFC0002389    0.041929\n",
       "KKBK0000556    0.041929\n",
       "ICIC0000813    0.041929\n",
       "CNRB0010308    0.041929\n",
       "ICIC0006305    0.041929\n",
       "ESFB0001142    0.041929\n",
       "ICIC0001238    0.041929\n",
       "KKBK0000725    0.041929\n",
       "SBIN0007188    0.041929\n",
       "ICIC0000042    0.041929\n",
       "HDFC0000140    0.041929\n",
       "UTIB0000802    0.041929\n",
       "HDFC0001862    0.041929\n",
       "HDFC0000355    0.041929\n",
       "ICIC0001944    0.041929\n",
       "SBIN0011099    0.041929\n",
       "UTIB0002871    0.041929\n",
       "KKBK0001465    0.041929\n",
       "UTIB0002145    0.041929\n",
       "ICIC0001640    0.041929\n",
       "ICIC0000283    0.041929\n",
       "UTIB0002478    0.041929\n",
       "KKBK0000491    0.041929\n",
       "ICIC0006275    0.041929\n",
       "KKBK0008366    0.041929\n",
       "UTIB0000450    0.041929\n",
       "IBKL0000087    0.041929\n",
       "ICIC0001888    0.041929\n",
       "KKBK0000196    0.041929\n",
       "hdfc0001078    0.041929\n",
       "ICIC0006053    0.041929\n",
       "HDFC0001969    0.041929\n",
       "HDFC0000093    0.041929\n",
       "KKBK0001912    0.041929\n",
       "HDFC0000312    0.041929\n",
       "HDFC0001027    0.041929\n",
       "INDB0000178    0.041929\n",
       "UTIB0001103    0.041929\n",
       "HSBC0400005    0.041929\n",
       "CNRB0002371    0.041929\n",
       "ICIC0000158    0.041929\n",
       "INDB0000237    0.041929\n",
       "KKBK0008507    0.041929\n",
       "HDFC0001754    0.041929\n",
       "UTIB0003099    0.041929\n",
       "ICIC0007483    0.041929\n",
       "HDFC0001766    0.041929\n",
       "HDFC0001466    0.041929\n",
       "IDIB000K188    0.041929\n",
       "HDFC0004274    0.041929\n",
       "KKBK0000891    0.041929\n",
       "ICIC0006306    0.041929\n",
       "FDRL0001787    0.041929\n",
       "hdfc0000141    0.041929\n",
       "KKBK0008052    0.041929\n",
       "HDFC0000045    0.041929\n",
       "hdfc0009406    0.041929\n",
       "UTIB0001413    0.041929\n",
       "UTIB0003297    0.041929\n",
       "BARB0RAJAJI    0.041929\n",
       "CNRB0000410    0.041929\n",
       "UTIB0000889    0.041929\n",
       "ICIC0000262    0.041929\n",
       "BARB0AMALAP    0.041929\n",
       "KKBK0SSBL02    0.041929\n",
       "hdfc0003958    0.041929\n",
       "ICIC0000083    0.041929\n",
       "SBIN0011096    0.041929\n",
       "UTIB0000731    0.041929\n",
       "ICIC0003418    0.041929\n",
       "KKBK0004098    0.041929\n",
       "HDFC0000540    0.041929\n",
       "SBIN0003228    0.041929\n",
       "SBIN0000382    0.041929\n",
       "KKBK0001346    0.041929\n",
       "SBIN0009048    0.041929\n",
       "SBIN0000449    0.041929\n",
       "UTIB0003501    0.041929\n",
       "ICIC0003590    0.041929\n",
       "ICIC0001579    0.041929\n",
       "SBIN0005875    0.041929\n",
       "PUNB0657400    0.041929\n",
       "ICIC0006294    0.041929\n",
       "HDFC0002524    0.041929\n",
       "IBKL0000028    0.041929\n",
       "FDRL0001104    0.041929\n",
       "YESB0000928    0.041929\n",
       "ICIC0003777    0.041929\n",
       "INDB0000514    0.041929\n",
       "SBIN0016018    0.041929\n",
       "ICIC0001256    0.041929\n",
       "KKBK0004258    0.041929\n",
       "hdfc0004823    0.041929\n",
       "ICIC0003333    0.041929\n",
       "SBIN0004271    0.041929\n",
       "HDFC0000728    0.041929\n",
       "UTIB0003095    0.041929\n",
       "ICIC0000046    0.041929\n",
       "HDFC0004668    0.041929\n",
       "SBIN0003817    0.041929\n",
       "HDFC0004460    0.041929\n",
       "PUNB0051920    0.041929\n",
       "SBIN0020164    0.041929\n",
       "IBKL0000350    0.041929\n",
       "BDBL0001617    0.041929\n",
       "HDFC0001864    0.041929\n",
       "RATN0000356    0.041929\n",
       "IDIB000K132    0.041929\n",
       "INDB0000036    0.041929\n",
       "INDB0001489    0.041929\n",
       "HDFC0001357    0.041929\n",
       "ICIC0002408    0.041929\n",
       "ESFB0007002    0.041929\n",
       "PUNB0302800    0.041929\n",
       "FDRL0001510    0.041929\n",
       "HDFC0000035    0.041929\n",
       "KKBK0008698    0.041929\n",
       "HDFC0001752    0.041929\n",
       "SBIN0070360    0.041929\n",
       "ICIC0000403    0.041929\n",
       "UBIN0811106    0.041929\n",
       "HDFC0000223    0.041929\n",
       "HDFC0003898    0.041929\n",
       "hdfc0000317    0.041929\n",
       "RATN0000262    0.041929\n",
       "UTIB0000056    0.041929\n",
       "SBIN0015660    0.041929\n",
       "BKID0000062    0.041929\n",
       "UTIB0001193    0.041929\n",
       "RATN0000073    0.041929\n",
       "UTIB0004159    0.041929\n",
       "SBIN0050115    0.041929\n",
       "INDB0000168    0.041929\n",
       "IDIB000G046    0.041929\n",
       "KARB0000225    0.041929\n",
       "ICIC0003467    0.041929\n",
       "ICIC0000601    0.041929\n",
       "UBIN0537039    0.041929\n",
       "SBIN0005191    0.041929\n",
       "UTIB0000589    0.041929\n",
       "SBIN0062276    0.041929\n",
       "ICIC0000680    0.041929\n",
       "BARB0VJBANJ    0.041929\n",
       "BARB0JAYANA    0.041929\n",
       "UTIB0000091    0.041929\n",
       "UBIN0534561    0.041929\n",
       "ESMF0001255    0.041929\n",
       "UBIN0813575    0.041929\n",
       "SBIN0000859    0.041929\n",
       "ICIC0002353    0.041929\n",
       "ICIC0006031    0.041929\n",
       "BKID0008215    0.041929\n",
       "IOBA0000109    0.041929\n",
       "UTIB0001933    0.041929\n",
       "HDFC0000406    0.041929\n",
       "ICIC0001060    0.041929\n",
       "HDFC0000700    0.041929\n",
       "HDFC0000644    0.041929\n",
       "Utib0000030    0.041929\n",
       "ICIC0001052    0.041929\n",
       "YESB0000649    0.041929\n",
       "CNRB0002434    0.041929\n",
       "HDFC0004875    0.041929\n",
       "SBIN0012108    0.041929\n",
       "ICIC0004245    0.041929\n",
       "SBIN0040676    0.041929\n",
       "KARB0000146    0.041929\n",
       "SBIN0012661    0.041929\n",
       "UTIB0002643    0.041929\n",
       "FDRL0002199    0.041929\n",
       "HSBC0560003    0.041929\n",
       "ICIC0001021    0.041929\n",
       "UTIB0000315    0.041929\n",
       "UTIB0000677    0.041929\n",
       "IDIB000D016    0.041929\n",
       "HDFC0000092    0.041929\n",
       "SBIN0012919    0.041929\n",
       "SBIN0002786    0.041929\n",
       "UTIB0001446    0.041929\n",
       "HDFC0000562    0.041929\n",
       "HDFC0002377    0.041929\n",
       "UTIB0000016    0.041929\n",
       "UTIB0000571    0.041929\n",
       "UTIB0001463    0.041929\n",
       "UTIB0003088    0.041929\n",
       "HDFC0002523    0.041929\n",
       "SBIN0016783    0.041929\n",
       "HDFC0003257    0.041929\n",
       "SBIN0009083    0.041929\n",
       "Name: customer_bank_ifsc_code, dtype: float64"
      ]
     },
     "execution_count": 57,
     "metadata": {},
     "output_type": "execute_result"
    }
   ],
   "source": [
    "df3.customer_bank_ifsc_code.value_counts(normalize=True)*100"
   ]
  },
  {
   "cell_type": "code",
   "execution_count": 58,
   "id": "5a6a99eb",
   "metadata": {},
   "outputs": [],
   "source": [
    "# df_pin = df3[(df3['PRESENT_PIN'] =='110059') | (df3['PRESENT_PIN'] =='560076') | (df3['PRESENT_PIN'] =='500072')]\n",
    "# print(df_pin.shape)\n",
    "# df_pin.head()"
   ]
  },
  {
   "cell_type": "code",
   "execution_count": 59,
   "id": "2c285a5b",
   "metadata": {},
   "outputs": [
    {
     "ename": "NameError",
     "evalue": "name 'df_pin' is not defined",
     "output_type": "error",
     "traceback": [
      "\u001b[1;31m---------------------------------------------------------------------------\u001b[0m",
      "\u001b[1;31mNameError\u001b[0m                                 Traceback (most recent call last)",
      "\u001b[1;32m~\\AppData\\Local\\Temp/ipykernel_16916/1986379093.py\u001b[0m in \u001b[0;36m<module>\u001b[1;34m\u001b[0m\n\u001b[1;32m----> 1\u001b[1;33m \u001b[1;33m(\u001b[0m\u001b[0mdf_pin\u001b[0m\u001b[1;33m[\u001b[0m\u001b[1;34m'age'\u001b[0m\u001b[1;33m]\u001b[0m\u001b[1;33m)\u001b[0m\u001b[1;33m.\u001b[0m\u001b[0mvalue_counts\u001b[0m\u001b[1;33m(\u001b[0m\u001b[1;33m)\u001b[0m\u001b[1;33m.\u001b[0m\u001b[0miplot\u001b[0m\u001b[1;33m(\u001b[0m\u001b[0mkind\u001b[0m\u001b[1;33m=\u001b[0m\u001b[1;34m'bar'\u001b[0m\u001b[1;33m,\u001b[0m\u001b[0mxTitle\u001b[0m\u001b[1;33m=\u001b[0m\u001b[1;34m'age'\u001b[0m\u001b[1;33m,\u001b[0m \u001b[0myTitle\u001b[0m\u001b[1;33m=\u001b[0m\u001b[1;34m'Number of Person'\u001b[0m\u001b[1;33m)\u001b[0m\u001b[1;33m\u001b[0m\u001b[1;33m\u001b[0m\u001b[0m\n\u001b[0m",
      "\u001b[1;31mNameError\u001b[0m: name 'df_pin' is not defined"
     ]
    }
   ],
   "source": [
    "(df_pin['age']).value_counts().iplot(kind='bar',xTitle='age', yTitle='Number of Person')"
   ]
  },
  {
   "cell_type": "code",
   "execution_count": null,
   "id": "44c56994",
   "metadata": {},
   "outputs": [],
   "source": [
    "(df_pin['loan_bins']).value_counts().iplot(kind='bar',xTitle='age', yTitle='Number of Person')"
   ]
  },
  {
   "cell_type": "code",
   "execution_count": null,
   "id": "d733b2d7",
   "metadata": {},
   "outputs": [],
   "source": [
    "(df_pin['LMName']).value_counts().iplot(kind='bar',xTitle='age', yTitle='Number of Person')"
   ]
  },
  {
   "cell_type": "code",
   "execution_count": null,
   "id": "7ed2b3a6",
   "metadata": {},
   "outputs": [],
   "source": [
    "(df_pin['MaxPLoanAm']).value_counts().iplot(kind='bar',xTitle='loan_amount', yTitle='Number of Person',color='green')"
   ]
  },
  {
   "cell_type": "code",
   "execution_count": null,
   "id": "a778a304",
   "metadata": {},
   "outputs": [],
   "source": [
    "#df3.to_csv(\"default_cn.csv\")"
   ]
  },
  {
   "cell_type": "code",
   "execution_count": null,
   "id": "5c12681f",
   "metadata": {},
   "outputs": [],
   "source": [
    "df3.INDUSTRY.value_counts()"
   ]
  },
  {
   "cell_type": "code",
   "execution_count": null,
   "id": "10e05cb6",
   "metadata": {},
   "outputs": [],
   "source": [
    "df3.info()"
   ]
  },
  {
   "cell_type": "code",
   "execution_count": null,
   "id": "31985d8c",
   "metadata": {},
   "outputs": [],
   "source": [
    "df3.city.value_counts()"
   ]
  },
  {
   "cell_type": "markdown",
   "id": "8af0c396",
   "metadata": {},
   "source": [
    "### Bangalore: \n",
    "• 560076 [ BANNERGHATTA ROAD] \n",
    "• 560078 [J P NAGAR] \n",
    "• 560043 [ BANASWADI] \n",
    "• 560060 [ CHUDENAPURA]\n",
    "• 560068 [BEGUR]"
   ]
  },
  {
   "cell_type": "code",
   "execution_count": null,
   "id": "53038e7b",
   "metadata": {},
   "outputs": [],
   "source": [
    "df_Bangalore = df3[(df3['present_pin'] =='560076') | (df3['present_pin'] =='560078') | (df3['present_pin'] =='560043')| (df3['present_pin'] =='560060') | (df3['present_pin'] =='560068')]\n",
    "print(df_Bangalore.shape)\n",
    "df_Bangalore.head()"
   ]
  },
  {
   "cell_type": "code",
   "execution_count": null,
   "id": "105b9068",
   "metadata": {},
   "outputs": [],
   "source": [
    "(df_Bangalore['gender']).value_counts().iplot(kind='bar',xTitle='gender', yTitle='Number of Person')"
   ]
  },
  {
   "cell_type": "code",
   "execution_count": null,
   "id": "a4c4adcf",
   "metadata": {},
   "outputs": [],
   "source": [
    "(df_Bangalore['DEPARTMENT']).value_counts().iplot(kind='bar',xTitle='proinfo_department', yTitle='Number of Person')"
   ]
  },
  {
   "cell_type": "code",
   "execution_count": null,
   "id": "b5bdff73",
   "metadata": {},
   "outputs": [],
   "source": [
    "(df_Bangalore['age_bins']).value_counts().iplot(kind='bar',xTitle='age', yTitle='Number of Person')"
   ]
  },
  {
   "cell_type": "code",
   "execution_count": null,
   "id": "371b6c07",
   "metadata": {},
   "outputs": [],
   "source": [
    "(df_Bangalore['salary_bins']).value_counts().iplot(kind='bar',xTitle='salary', yTitle='Number of Person')"
   ]
  },
  {
   "cell_type": "code",
   "execution_count": null,
   "id": "2b5bfd10",
   "metadata": {},
   "outputs": [],
   "source": [
    "(df_Bangalore['LMName']).value_counts().iplot(kind='bar',xTitle='gender', yTitle='Number of Person')"
   ]
  },
  {
   "cell_type": "code",
   "execution_count": null,
   "id": "d5d762d6",
   "metadata": {},
   "outputs": [],
   "source": [
    "(df_Bangalore['age']).value_counts().iplot(kind='bar',xTitle='age', yTitle='Number of Person')"
   ]
  },
  {
   "cell_type": "markdown",
   "id": "120a57fb",
   "metadata": {},
   "source": [
    "### Hyderabad:\n",
    "• 500072[KPHB COLONY]\n",
    "• 500035[HUDA RESIDENTIAL COMPLEX] \n",
    "• 500018[BHARAT NAGAR COLONY] \n",
    "• 500061[SITAPHALMANDI] \n",
    "• 500013[AMBERPET]"
   ]
  },
  {
   "cell_type": "code",
   "execution_count": null,
   "id": "60b7ef06",
   "metadata": {},
   "outputs": [],
   "source": [
    "df_Hyderabad = df3[(df3['present_pin'] =='500072') | (df3['present_pin'] =='500035') | (df3['present_pin'] =='500018')| (df3['present_pin'] =='500061') | (df3['present_pin'] =='500013')]\n",
    "print(df_Hyderabad.shape)\n",
    "df_Hyderabad.head()"
   ]
  },
  {
   "cell_type": "code",
   "execution_count": null,
   "id": "ea260fb3",
   "metadata": {},
   "outputs": [],
   "source": [
    "(df_Hyderabad['gender']).value_counts().iplot(kind='bar',xTitle='gender', yTitle='Number of Person')"
   ]
  },
  {
   "cell_type": "code",
   "execution_count": null,
   "id": "205992f8",
   "metadata": {},
   "outputs": [],
   "source": [
    "(df_Hyderabad['DEPARTMENT']).value_counts().iplot(kind='bar',xTitle='proinfo_department', yTitle='Number of Person')"
   ]
  },
  {
   "cell_type": "code",
   "execution_count": null,
   "id": "2847ed87",
   "metadata": {},
   "outputs": [],
   "source": [
    "#df3.to_csv(\"deffff.csv\")"
   ]
  },
  {
   "cell_type": "code",
   "execution_count": null,
   "id": "8989a157",
   "metadata": {},
   "outputs": [],
   "source": [
    "(df_Hyderabad['age_bins']).value_counts().iplot(kind='bar',xTitle='age', yTitle='Number of Person')"
   ]
  },
  {
   "cell_type": "code",
   "execution_count": null,
   "id": "aec56b59",
   "metadata": {},
   "outputs": [],
   "source": [
    "(df_Hyderabad['LMName']).value_counts().iplot(kind='bar',xTitle='gender', yTitle='Number of Person')"
   ]
  },
  {
   "cell_type": "code",
   "execution_count": null,
   "id": "3e7d1416",
   "metadata": {},
   "outputs": [],
   "source": [
    "(df_Hyderabad['age']).value_counts().iplot(kind='bar',xTitle='age', yTitle='Number of Person')"
   ]
  },
  {
   "cell_type": "markdown",
   "id": "901ba89b",
   "metadata": {},
   "source": [
    "### Chennai:\n",
    "• 600100[MEDAVAKKAM, KANCHIPURAM] \n",
    "• 600077 [AYAPAKKAM, TIRUVALLUR] \n",
    "• 603202 [GUDUVANCHERY, KANCHIPURAM,] \n",
    "• 600062[KOVILPADAGAI, TIRUVALLUR] \n",
    "• 600122[GERUGAMBAKKAM, KANCHIPURAM,]"
   ]
  },
  {
   "cell_type": "code",
   "execution_count": null,
   "id": "497b8f50",
   "metadata": {},
   "outputs": [],
   "source": [
    "df_Chennai = df3[(df3['present_pin'] =='600100') | (df3['present_pin'] =='600077') | (df3['present_pin'] =='603202')| (df3['present_pin'] =='600062') | (df3['present_pin'] =='600122')]\n",
    "print(df_Chennai.shape)\n",
    "df_Chennai.head()"
   ]
  },
  {
   "cell_type": "code",
   "execution_count": null,
   "id": "6d4604ef",
   "metadata": {},
   "outputs": [],
   "source": [
    "(df_Chennai['gender']).value_counts().iplot(kind='bar',xTitle='gender', yTitle='Number of Person')"
   ]
  },
  {
   "cell_type": "code",
   "execution_count": null,
   "id": "538dc894",
   "metadata": {},
   "outputs": [],
   "source": [
    "(df_Chennai['DEPARTMENT']).value_counts().iplot(kind='bar',xTitle='DEPARTMENT', yTitle='Number of Person')"
   ]
  },
  {
   "cell_type": "code",
   "execution_count": null,
   "id": "2f7548b7",
   "metadata": {},
   "outputs": [],
   "source": [
    "(df_Chennai['age_bins']).value_counts().iplot(kind='bar',xTitle='age', yTitle='Number of Person')"
   ]
  },
  {
   "cell_type": "code",
   "execution_count": null,
   "id": "d13c17a7",
   "metadata": {},
   "outputs": [],
   "source": [
    "(df_Chennai['salary_bins']).value_counts().iplot(kind='bar',xTitle='salary', yTitle='Number of Person')"
   ]
  },
  {
   "cell_type": "code",
   "execution_count": null,
   "id": "45064084",
   "metadata": {},
   "outputs": [],
   "source": [
    "(df_Chennai['age']).value_counts().iplot(kind='bar',xTitle='age', yTitle='Number of Person')"
   ]
  },
  {
   "cell_type": "code",
   "execution_count": null,
   "id": "0c9f037f",
   "metadata": {},
   "outputs": [],
   "source": [
    "(df_Chennai['user_survey_marital_status']).value_counts().iplot(kind='bar',xTitle='marital_status', yTitle='Number of Person')"
   ]
  },
  {
   "cell_type": "markdown",
   "id": "4840b745",
   "metadata": {},
   "source": [
    "### New Delhi: \n",
    "• 110059[D. K. MOHAN GARDEN, WEST DELHI] \n",
    "• 110092[ ANAND VIHAR, EAST DELHI] \n",
    "• 110062[AIR FORCE STATION TUGALKABAD, SOUTH DELHI,] \n",
    "• 110096[ GHAZIPUR, EAST DELHI] \n",
    "• 110018[ASHOK NAGAR WEST DELHI, WEST DELHI]"
   ]
  },
  {
   "cell_type": "code",
   "execution_count": null,
   "id": "0db9507e",
   "metadata": {},
   "outputs": [],
   "source": [
    "df_NewDelhi = df3[(df3['present_pin'] =='110059') | (df3['present_pin'] =='110092') | (df3['present_pin'] =='110062')| (df3['present_pin'] =='110096') | (df3['present_pin'] =='110018')]\n",
    "print(df_NewDelhi.shape)\n",
    "df_NewDelhi.head()"
   ]
  },
  {
   "cell_type": "code",
   "execution_count": null,
   "id": "bc00db6c",
   "metadata": {},
   "outputs": [],
   "source": [
    "(df_NewDelhi['gender']).value_counts().iplot(kind='bar',xTitle='gender', yTitle='Number of Person')"
   ]
  },
  {
   "cell_type": "code",
   "execution_count": null,
   "id": "538637db",
   "metadata": {},
   "outputs": [],
   "source": [
    "(df_NewDelhi['DEPARTMENT']).value_counts().iplot(kind='bar',xTitle='DEPARTMENT', yTitle='Number of Person')"
   ]
  },
  {
   "cell_type": "code",
   "execution_count": null,
   "id": "b8f0d06b",
   "metadata": {},
   "outputs": [],
   "source": [
    "(df_NewDelhi['age_bins']).value_counts().iplot(kind='bar',xTitle='age_bins', yTitle='Number of Person')"
   ]
  },
  {
   "cell_type": "code",
   "execution_count": null,
   "id": "9302283e",
   "metadata": {},
   "outputs": [],
   "source": [
    "(df_NewDelhi['age']).value_counts().iplot(kind='bar',xTitle='age', yTitle='Number of Person')"
   ]
  },
  {
   "cell_type": "code",
   "execution_count": null,
   "id": "87cdc21c",
   "metadata": {},
   "outputs": [],
   "source": [
    "(df_NewDelhi['salary_bins']).value_counts().iplot(kind='bar',xTitle='salary', yTitle='Number of Person')"
   ]
  },
  {
   "cell_type": "code",
   "execution_count": null,
   "id": "267b328b",
   "metadata": {},
   "outputs": [],
   "source": [
    "(df_NewDelhi['user_survey_marital_status']).value_counts().iplot(kind='bar',xTitle='marital_status', yTitle='Number of Person')"
   ]
  },
  {
   "cell_type": "markdown",
   "id": "805f21ff",
   "metadata": {},
   "source": [
    "#### Mumbai: \n",
    "• 400078[ BHANDUP IND. ESTATE] \n",
    "• 400067[CHARKOP, MUMBAI] \n",
    "• 400068[DAHISAR, MUMBAI] \n",
    "• 421201[DOMBIVALI, THANE,] \n",
    "• 401107[GHODBANDER, THANE]"
   ]
  },
  {
   "cell_type": "code",
   "execution_count": null,
   "id": "d7c55d53",
   "metadata": {},
   "outputs": [],
   "source": [
    "df_Mumbai = df3[(df3['present_pin'] =='400078') | (df3['present_pin'] =='400067') | (df3['present_pin'] =='400068')| (df3['present_pin'] =='421201') | (df3['present_pin'] =='401107')]\n",
    "print(df_Mumbai.shape)\n",
    "df_Mumbai.head()"
   ]
  },
  {
   "cell_type": "code",
   "execution_count": null,
   "id": "e4793ff3",
   "metadata": {},
   "outputs": [],
   "source": [
    "(df_Mumbai['gender']).value_counts().iplot(kind='bar',xTitle='gender', yTitle='Number of Person')"
   ]
  },
  {
   "cell_type": "code",
   "execution_count": null,
   "id": "0643d89b",
   "metadata": {},
   "outputs": [],
   "source": [
    "(df_Mumbai['DEPARTMENT']).value_counts().iplot(kind='bar',xTitle='DEPARTMENT', yTitle='Number of Person')"
   ]
  },
  {
   "cell_type": "code",
   "execution_count": null,
   "id": "805d0d6b",
   "metadata": {},
   "outputs": [],
   "source": [
    "(df_Mumbai['age_bins']).value_counts().iplot(kind='bar',xTitle='age_bins', yTitle='Number of Person')"
   ]
  },
  {
   "cell_type": "code",
   "execution_count": null,
   "id": "9ea36c64",
   "metadata": {},
   "outputs": [],
   "source": [
    "(df_Mumbai['age']).value_counts().iplot(kind='bar',xTitle='age', yTitle='Number of Person')"
   ]
  },
  {
   "cell_type": "code",
   "execution_count": null,
   "id": "3ac494df",
   "metadata": {},
   "outputs": [],
   "source": [
    "(df_Mumbai['salary_bins']).value_counts().iplot(kind='bar',xTitle='salary', yTitle='Number of Person')"
   ]
  },
  {
   "cell_type": "code",
   "execution_count": null,
   "id": "4c227848",
   "metadata": {},
   "outputs": [],
   "source": [
    "(df_Mumbai['user_survey_marital_status']).value_counts().iplot(kind='bar',xTitle='marital_status', yTitle='Number of Person')"
   ]
  },
  {
   "cell_type": "markdown",
   "id": "ebce1b62",
   "metadata": {},
   "source": [
    "### Pune: \n",
    "• 411014[9 DRD, PUNE] \n",
    "• 412105[ALANDI DEVACHI, PUNE] \n",
    "• 411001[C D A O, PUNE] \n",
    "• 411018[MASULKAR COLONY, PUNE,] \n",
    "• 411028[GONDHALE NAGAR, PUNE]"
   ]
  },
  {
   "cell_type": "code",
   "execution_count": null,
   "id": "9ed8a638",
   "metadata": {},
   "outputs": [],
   "source": [
    "df_Pune = df3[(df3['present_pin'] =='411014') | (df3['present_pin'] =='412105') | (df3['present_pin'] =='411001')| (df3['present_pin'] =='411018') | (df3['present_pin'] =='411028')]\n",
    "print(df_Pune.shape)\n",
    "df_Pune.head()"
   ]
  },
  {
   "cell_type": "code",
   "execution_count": null,
   "id": "446e906e",
   "metadata": {},
   "outputs": [],
   "source": [
    "(df_Pune['gender']).value_counts().iplot(kind='bar',xTitle='gender', yTitle='Number of Person')"
   ]
  },
  {
   "cell_type": "code",
   "execution_count": null,
   "id": "633f7357",
   "metadata": {},
   "outputs": [],
   "source": [
    "(df_Pune['DEPARTMENT']).value_counts().iplot(kind='bar',xTitle='DEPARTMENT', yTitle='Number of Person')"
   ]
  },
  {
   "cell_type": "code",
   "execution_count": null,
   "id": "43b2b2c7",
   "metadata": {},
   "outputs": [],
   "source": [
    "(df_Pune['age_bins']).value_counts().iplot(kind='bar',xTitle='age_bins', yTitle='Number of Person')"
   ]
  },
  {
   "cell_type": "code",
   "execution_count": null,
   "id": "79c4060a",
   "metadata": {},
   "outputs": [],
   "source": [
    "(df_Pune['age']).value_counts().iplot(kind='bar',xTitle='age', yTitle='Number of Person')"
   ]
  },
  {
   "cell_type": "code",
   "execution_count": null,
   "id": "da19a471",
   "metadata": {},
   "outputs": [],
   "source": [
    "(df_Pune['salary_bins']).value_counts().iplot(kind='bar',xTitle='salary', yTitle='Number of Person')"
   ]
  },
  {
   "cell_type": "code",
   "execution_count": null,
   "id": "c8403466",
   "metadata": {},
   "outputs": [],
   "source": [
    "(df_Pune['user_survey_marital_status']).value_counts().iplot(kind='bar',xTitle='marital_status', yTitle='Number of Person')"
   ]
  },
  {
   "cell_type": "code",
   "execution_count": null,
   "id": "a336edfd",
   "metadata": {},
   "outputs": [],
   "source": []
  },
  {
   "cell_type": "code",
   "execution_count": null,
   "id": "1a5e73e5",
   "metadata": {},
   "outputs": [],
   "source": []
  }
 ],
 "metadata": {
  "kernelspec": {
   "display_name": "Python 3 (ipykernel)",
   "language": "python",
   "name": "python3"
  },
  "language_info": {
   "codemirror_mode": {
    "name": "ipython",
    "version": 3
   },
   "file_extension": ".py",
   "mimetype": "text/x-python",
   "name": "python",
   "nbconvert_exporter": "python",
   "pygments_lexer": "ipython3",
   "version": "3.10.2"
  }
 },
 "nbformat": 4,
 "nbformat_minor": 5
}
