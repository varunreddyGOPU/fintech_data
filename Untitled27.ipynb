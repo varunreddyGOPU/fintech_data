{
 "cells": [
  {
   "cell_type": "code",
   "execution_count": 7,
   "id": "170de06d",
   "metadata": {},
   "outputs": [
    {
     "name": "stdout",
     "output_type": "stream",
     "text": [
      "186\n",
      "442\n",
      "476\n",
      "133\n",
      "37\n",
      "28\n",
      "[186, 442, 476, 133, 37, 28]\n"
     ]
    }
   ],
   "source": [
    "A = [ 186, 256, 102, 377, 186, 377 ]\n",
    "\n",
    "n=len(A)\n",
    "ones=0\n",
    "twos=0\n",
    "common=0\n",
    "v=[]\n",
    "\n",
    "for a in A:\n",
    "    twos|=ones & a\n",
    "    #print(twos)\n",
    "    ones ^= a \n",
    "    #print(ones)\n",
    "            \n",
    "    common = ~(ones & twos)\n",
    "\n",
    "    twos &=common\n",
    "    #print(twos)\n",
    "    ones &=common\n",
    "    #print(ones)\n",
    "\n",
    "    v.append(ones)\n",
    "print(v)"
   ]
  },
  {
   "cell_type": "code",
   "execution_count": null,
   "id": "48e7b5be",
   "metadata": {},
   "outputs": [],
   "source": []
  },
  {
   "cell_type": "code",
   "execution_count": null,
   "id": "bbdf6ebd",
   "metadata": {},
   "outputs": [],
   "source": []
  }
 ],
 "metadata": {
  "kernelspec": {
   "display_name": "Python 3 (ipykernel)",
   "language": "python",
   "name": "python3"
  },
  "language_info": {
   "codemirror_mode": {
    "name": "ipython",
    "version": 3
   },
   "file_extension": ".py",
   "mimetype": "text/x-python",
   "name": "python",
   "nbconvert_exporter": "python",
   "pygments_lexer": "ipython3",
   "version": "3.10.2"
  }
 },
 "nbformat": 4,
 "nbformat_minor": 5
}
