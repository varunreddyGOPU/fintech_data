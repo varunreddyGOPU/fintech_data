{
 "cells": [
  {
   "cell_type": "code",
   "execution_count": 1,
   "id": "b2c2d96b",
   "metadata": {},
   "outputs": [
    {
     "data": {
      "text/plain": [
       "0.026823134953897737"
      ]
     },
     "execution_count": 1,
     "metadata": {},
     "output_type": "execute_result"
    }
   ],
   "source": [
    "64/2386\n"
   ]
  },
  {
   "cell_type": "code",
   "execution_count": 2,
   "id": "6bd8d5f4",
   "metadata": {},
   "outputs": [
    {
     "data": {
      "text/plain": [
       "2.682"
      ]
     },
     "execution_count": 2,
     "metadata": {},
     "output_type": "execute_result"
    }
   ],
   "source": [
    "0.02682*100\n"
   ]
  },
  {
   "cell_type": "code",
   "execution_count": null,
   "id": "c4ff0065",
   "metadata": {},
   "outputs": [],
   "source": []
  }
 ],
 "metadata": {
  "kernelspec": {
   "display_name": "Python 3 (ipykernel)",
   "language": "python",
   "name": "python3"
  },
  "language_info": {
   "codemirror_mode": {
    "name": "ipython",
    "version": 3
   },
   "file_extension": ".py",
   "mimetype": "text/x-python",
   "name": "python",
   "nbconvert_exporter": "python",
   "pygments_lexer": "ipython3",
   "version": "3.10.2"
  }
 },
 "nbformat": 4,
 "nbformat_minor": 5
}
